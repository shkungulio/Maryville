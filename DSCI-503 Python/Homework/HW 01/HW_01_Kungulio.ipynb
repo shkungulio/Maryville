{
 "cells": [
  {
   "cell_type": "markdown",
   "id": "9585ab09-5d60-444c-9260-d0b29472bcc4",
   "metadata": {},
   "source": [
    "# DSCI 503 - Homework 01\n",
    "### Seif Kungulio"
   ]
  },
  {
   "cell_type": "markdown",
   "id": "e7c9d06b-9104-48f1-bc18-8058dc9c526b",
   "metadata": {},
   "source": [
    "## Problem 1: Arithmetic and Geometric Means\n",
    "\n",
    "Consider four numbers denoted by, x0, x1, x2, and x3\n",
    "* The <b>arithmetic mean</b> of these numbers is given by the formula: (x0 + x1 + x2 + x3)/4\n",
    "* The <b>geometric mean</b> of these numbers is given by the formula: (x0 * x1 * x2 * x3)**(1/4)\n",
    "\n",
    "In this problem, you will calculate the arithmetic and geometric mean of four numbers."
   ]
  },
  {
   "cell_type": "code",
   "execution_count": 1,
   "id": "83f648aa-89a6-4ed8-b26e-ddaa76bddddf",
   "metadata": {},
   "outputs": [
    {
     "name": "stdout",
     "output_type": "stream",
     "text": [
      "Sum:              59 \n",
      "Product:          42636 \n",
      "Arithmetic Mean:  14.75 \n",
      "Geometric Mean:   14.37\n"
     ]
    }
   ],
   "source": [
    "x0, x1, x2, x3 = 11, 12, 17, 19  # Create variables and assign values\n",
    "total = x0 + x1 + x2 + x3        # Calculate the sum of the variables and assign to a variable total\n",
    "product = x0 * x1 * x2 * x3      # Calculate the product of the variables\n",
    "\n",
    "# Calculate the arithmetic mean and geometric mean\n",
    "arith_mean = round((total / 4), 2) # Calculate the arithmetic mean\n",
    "geom_mean = round((product ** (1/4)), 2) # Calculate the geometric mean\n",
    "\n",
    "# Print the formatted outputs\n",
    "print(f\"Sum:{total:>16} \\nProduct:{product:>15} \\nArithmetic Mean:{arith_mean:>7} \\nGeometric Mean:{geom_mean:>8}\")\n"
   ]
  },
  {
   "cell_type": "markdown",
   "id": "ff1cb70c-0ed8-4fad-ab55-a75908e5ebe2",
   "metadata": {},
   "source": [
    "## Problem 2: Calculating Bill\n",
    "\n",
    "In this problem, you will calculate the total cost of an order at a restaurant. Assume that the order consists of 2 side salads, 2 hamburgers, and 2 diet sodas. Assume also that the side salads cost $3.95 each, the hamburgers cost $8.95 each, and the sodas cost $2.50 each. Assume that the sales tax rate is 4.75% and the customers left a 15% tip."
   ]
  },
  {
   "cell_type": "code",
   "execution_count": 2,
   "id": "b8045912-d2fe-44ac-a5c5-a5813bb6c5a9",
   "metadata": {},
   "outputs": [
    {
     "name": "stdout",
     "output_type": "stream",
     "text": [
      "2 Side Salads:   $7.90 \n",
      "2 Hamburgers:   $17.90 \n",
      "2 Diet Sodas:    $5.00 \n",
      "----------------------\n",
      "Subtotal:       $30.80 \n",
      "Tax (4.75%):     $1.46 \n",
      "Tip (15%):       $4.62 \n",
      "----------------------\n",
      "Total Charge:   $36.88\n"
     ]
    }
   ],
   "source": [
    "# Calculate the total cost of 2 side salads\n",
    "ss_cost = 2 * 3.95\n",
    "\n",
    "# Calculate the total cost of 2 hamburgers\n",
    "hb_cost = 2 * 8.95\n",
    "\n",
    "# Calculate the total cost of 2 diet sodas\n",
    "ds_cost = 2 * 2.50\n",
    "\n",
    "# Calculate the subtotal by adding the variables together\n",
    "subtotal = ss_cost + hb_cost + ds_cost\n",
    "\n",
    "# Calculate the tax and round to 2 decimal places\n",
    "tax = round(subtotal * 0.0475, 2)\n",
    "\n",
    "# Calculate the tip and round to 2 decimal places\n",
    "tip = round(subtotal * 0.15, 2)\n",
    "\n",
    "# Calculate total charges\n",
    "total_charge = subtotal + tax + tip\n",
    "\n",
    "# Format the results and assign to a string variables\n",
    "ss_cost_str = \"{:>8}\".format(\"${:.2f}\".format(ss_cost))\n",
    "hb_cost_str = \"{:>9}\".format(\"${:.2f}\".format(hb_cost))\n",
    "ds_cost_str = \"{:>9}\".format(\"${:.2f}\".format(ds_cost))\n",
    "subtotal_str = \"{:>13}\".format(\"${:.2f}\".format(subtotal))\n",
    "tax_str = \"{:>10}\".format(\"${:.2f}\".format(tax))\n",
    "tip_str = \"{:>12}\".format(\"${:.2f}\".format(tip))\n",
    "total_charge_str = \"{:>9}\".format(\"${:.2f}\".format(total_charge))\n",
    "\n",
    "# Print the formatted results\n",
    "dash_line = \"----------------------\"\n",
    "print(f\"2 Side Salads:{ss_cost_str} \\n2 Hamburgers:{hb_cost_str} \\n2 Diet Sodas:{ds_cost_str} \\n{dash_line}\")\n",
    "print(f\"Subtotal:{subtotal_str} \\nTax (4.75%):{tax_str} \\nTip (15%):{tip_str} \\n{dash_line}\")\n",
    "print(f\"Total Charge:{total_charge_str}\")\n"
   ]
  },
  {
   "cell_type": "markdown",
   "id": "c906ca75-a5f0-4ff4-aa77-efadbda63be1",
   "metadata": {},
   "source": [
    "## Problem 3: Volume of a Sphere\n",
    "\n",
    "The volume of a sphere with radius 𝑟 is given by the formula 𝑉=4/3⋅𝜋⋅𝑟**3. In this problem you will calculate the volume of spheres with various radii."
   ]
  },
  {
   "cell_type": "code",
   "execution_count": 3,
   "id": "b728e0c6-0de9-4a1f-a279-b3325518d9ac",
   "metadata": {},
   "outputs": [
    {
     "name": "stdout",
     "output_type": "stream",
     "text": [
      "The volume of a sphere with radius 4.6 is equal to 407.720\n",
      "The volume of a sphere with radius 7.2 is equal to 1563.456\n",
      "The volume of a sphere with radius 9.7 is equal to 3822.992\n"
     ]
    }
   ],
   "source": [
    "# Create variables and assign values\n",
    "pi = 3.14159 # Create a variable named pi and assign the value 3.14159\n",
    "r1, r2, r3 = 4.6, 7.2, 9.7 # Create three variables named r1, r2, and r3 to store the values 4.6, 7.2 and 9.7\n",
    "\n",
    "# Calculate the volumes of the spheres\n",
    "v1 = 4/3 * pi * (r1**3) # Calculate the volume of the first sphere\n",
    "v2 = 4/3 * pi * (r2**3) # Calculate the volume of the second sphere\n",
    "v3 = 4/3 * pi * (r3**3) # Calculate the volume of the third sphere\n",
    "\n",
    "# Print the formatted outputs\n",
    "print(f\"The volume of a sphere with radius {r1} is equal to {v1:.3f}\")\n",
    "print(f\"The volume of a sphere with radius {r2} is equal to {v2:.3f}\")\n",
    "print(f\"The volume of a sphere with radius {r3} is equal to {v3:.3f}\")"
   ]
  },
  {
   "cell_type": "markdown",
   "id": "9fbe910b-e697-4ada-b9bf-da1abfd8e0c3",
   "metadata": {},
   "source": [
    "## Problem 4: Simple Interest\n",
    "\n",
    "If a loan of P dollars collects simple interest at an annual rate of i and is repaid after t years, then the amount repaid, denoted by A, is given by the following formula: 𝐴=𝑃⋅(1+𝑖⋅𝑡)\n",
    "\r\n",
    "Suppose that a loan of $210 collects simple interest at an annual rate of 0.09 and is repaid after 10 months (i.e. 10/12 of a year)\n",
    "\n",
    "Write code to calculate the amount required to repay this loan."
   ]
  },
  {
   "cell_type": "code",
   "execution_count": 4,
   "id": "245402b7-5973-44f0-a983-2daf9462ac9c",
   "metadata": {},
   "outputs": [
    {
     "name": "stdout",
     "output_type": "stream",
     "text": [
      "Amount repaid: $225.75\n"
     ]
    }
   ],
   "source": [
    "# Create variables and assign values\n",
    "P, i, t = 210, 0.09, 10/12\n",
    "\n",
    "# Calculate the Simple Interest\n",
    "A = P * (1 + i * t)\n",
    "\n",
    "# Print the output\n",
    "print(f\"Amount repaid: ${A}\")"
   ]
  },
  {
   "cell_type": "markdown",
   "id": "572363e4-6bea-43a4-a008-856034a22f69",
   "metadata": {},
   "source": [
    "## Problem 5: Compound Interest\n",
    "\n",
    "If loan of P dollars collects compound interest at an annual effective rate of i and is repaid after t years, then the amount repaid, denoted by A, is given by the formula: 𝐴=𝑃⋅(1+𝑖)**𝑡\n",
    "\r\n",
    "Suppose that a loan of $400 collects compound interest at an annual rate of 0.05 and is repaid after 3 years\n",
    "\n",
    "Write code to calculate the amount required to repay this loan."
   ]
  },
  {
   "cell_type": "code",
   "execution_count": 5,
   "id": "203da3bd-c98d-4aab-975d-53f98531d2a0",
   "metadata": {},
   "outputs": [
    {
     "name": "stdout",
     "output_type": "stream",
     "text": [
      "Amount repaid: $463.05\n"
     ]
    }
   ],
   "source": [
    "# Create variables and assign values\n",
    "P, i, t = 400, 0.05, 3\n",
    "\n",
    "# Calculate the Compound Interest and round to two decimal places\n",
    "A = round(P * (1 + i) ** t, 2)\n",
    "\n",
    "# Print the output\n",
    "print(f\"Amount repaid: ${A}\")"
   ]
  },
  {
   "cell_type": "markdown",
   "id": "11cb8341-2340-4f7a-b71b-669cb5420cf6",
   "metadata": {},
   "source": [
    "## Problem 6: Annuity\n",
    "\n",
    "An annuity is a scheduled sequence of payments or deposits. Assume that deposits in the amount of PMT are made at the end of each year. If the account receiving the deposits collects interest at an annual effective interest rate of i, then the balance of the account after n years is given by: 𝐴=𝑃𝑀𝑇 * (((1 + 𝑖)**𝑛) − 1)/𝑖\n",
    "\r\n",
    "Suppose a couple establishes a college fund for their newborn child by depositing $2000 into an account collecting interest at an annual effective rate of 0.04 for 18 years\n",
    "\n",
    "Write code to calculate the balance of this account at the end of 18 years."
   ]
  },
  {
   "cell_type": "code",
   "execution_count": 6,
   "id": "79a3c3aa-8c00-46b8-9e1e-4c6e79e69f93",
   "metadata": {},
   "outputs": [
    {
     "name": "stdout",
     "output_type": "stream",
     "text": [
      "Balance after 18 years: $51290.83\n"
     ]
    }
   ],
   "source": [
    "# Create variables and assign values\n",
    "PMT, i, n = 2000, 0.04, 18\n",
    "\n",
    "# Calculate the Annuity and round to two decimal places\n",
    "A = round(PMT * (((1 + i) ** n) - 1) / i, 2)\n",
    "\n",
    "# Print the output\n",
    "print(f\"Balance after {n} years: ${A}\")"
   ]
  },
  {
   "cell_type": "markdown",
   "id": "8ee5fea9-8f52-44dc-a916-e958238d920b",
   "metadata": {},
   "source": [
    "## Problem 7: Probability\n",
    "\n",
    "Assume that A and B refer to two specific events. Let P(A) denote the probability of Event A occurring, and let P(B) denote the probability of event B occurring. Let P(A or B) denote the probability of at least one of the two events occurring, and let P(A and B) denote the probability of both events occurring.\r\n",
    "Two events are said to be independent if the knowledge that one of the events has occurred has no effect on the probability that the other event has occurred.\r\n",
    "\r\n",
    "Probability theory tells us the following:\r\n",
    "- P(A or B) and P(A and B) are related by the formula: P(A or B) = P(A) + P(B) - P(A and B).\r\n",
    "- If A and B are independent, then P(A and B) = P(A) * P(B).\r\n",
    "\r\n",
    "Assume that Allen and Beth are meeting for dinner. The probability that Allen is late is equal to 0.6. The probability that Beth is late is equal to 0.3. Whether or not one person is late is independent of whether or not the other person is late.\r\n",
    "\r\n",
    "Write code to calculate the probability that at least one person is late to dinner, and the probability that both people are late to dinner."
   ]
  },
  {
   "cell_type": "code",
   "execution_count": 7,
   "id": "0d4fb42c-d62e-46b3-8f26-8356f337846f",
   "metadata": {},
   "outputs": [
    {
     "name": "stdout",
     "output_type": "stream",
     "text": [
      "Probability that both people are late:        0.18\n",
      "Probability that at least one person is late: 0.72\n"
     ]
    }
   ],
   "source": [
    "# Create variables and assign values\n",
    "prob_A = 0.6  # Probability that Allen is late\n",
    "prob_B = 0.3  # Probability that Beth is late\n",
    "\n",
    "# Calculate the probabilities\n",
    "prob_A_and_B = prob_A * prob_B  # Probability both Allen and Beth are late\n",
    "prob_A_or_B = prob_A + prob_B - prob_A_and_B  # Probability at least one is late\n",
    "\n",
    "# Print the formatted outputs\n",
    "print(f\"Probability that both people are late: {prob_A_and_B:>11}\")\n",
    "print(f\"Probability that at least one person is late: {prob_A_or_B}\")"
   ]
  },
  {
   "cell_type": "markdown",
   "id": "b353f961-125b-4109-8194-8735b89b9e53",
   "metadata": {},
   "source": [
    "## Problem 8: Constructing an Output Message\n",
    "\n",
    "In this problem, you will be asked to define a single string variable msg to store a multiline message."
   ]
  },
  {
   "cell_type": "code",
   "execution_count": 8,
   "id": "9f2ec839-29b0-46bc-b331-75277a235103",
   "metadata": {},
   "outputs": [
    {
     "name": "stdout",
     "output_type": "stream",
     "text": [
      "First Name: \tSeif\n",
      "Last Name: \tKungulio\n",
      "Student ID: \t1109349\n"
     ]
    }
   ],
   "source": [
    "first = \"Seif\"    # Create a variable \"first\" and assign my first name to it\n",
    "last = \"Kungulio\" # Create a variable \"last\" and assign my last name to it\n",
    "sid = 1109349   # Create a variable \"sid\" and assign my student id to it\n",
    "\n",
    "# Create a variable \"msg\" to store a multiline message using f-string\n",
    "msg = f\"First Name: \\t{first}\\nLast Name: \\t{last}\\nStudent ID: \\t{sid}\"\n",
    "\n",
    "# Print the formatted output message\n",
    "print(msg)"
   ]
  }
 ],
 "metadata": {
  "kernelspec": {
   "display_name": "Python 3 (ipykernel)",
   "language": "python",
   "name": "python3"
  },
  "language_info": {
   "codemirror_mode": {
    "name": "ipython",
    "version": 3
   },
   "file_extension": ".py",
   "mimetype": "text/x-python",
   "name": "python",
   "nbconvert_exporter": "python",
   "pygments_lexer": "ipython3",
   "version": "3.11.7"
  }
 },
 "nbformat": 4,
 "nbformat_minor": 5
}
