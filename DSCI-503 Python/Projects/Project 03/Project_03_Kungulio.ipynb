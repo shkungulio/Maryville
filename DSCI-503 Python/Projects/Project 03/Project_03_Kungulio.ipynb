{
 "cells": [
  {
   "cell_type": "markdown",
   "id": "565c8683-2a90-4b7b-bbd0-0daaa1cf3d0a",
   "metadata": {},
   "source": [
    "# DSCI 503 - Project 03\n",
    "\n",
    "### Seif Kungulio"
   ]
  },
  {
   "cell_type": "code",
   "execution_count": 2,
   "id": "88a6a471-7965-4839-88d2-6de1e923aa32",
   "metadata": {},
   "outputs": [],
   "source": [
    "# Import necessary packages\n",
    "import numpy as np\n",
    "import pandas as pd\n",
    "import matplotlib.pyplot as plt"
   ]
  },
  {
   "cell_type": "markdown",
   "id": "de47f5f3-6ef5-40dd-a06c-3183d27e81d8",
   "metadata": {},
   "source": [
    "## Part 1: Loading the Dataset; Preliminary Analysis\n",
    "\n",
    "In this section, I will load the data into a DataFrame, and will explore the structure of the data set."
   ]
  },
  {
   "cell_type": "code",
   "execution_count": 4,
   "id": "889b5dcc-3eb9-41ad-bd88-2ea547d9fa12",
   "metadata": {},
   "outputs": [
    {
     "name": "stdout",
     "output_type": "stream",
     "text": [
      "    carat        cut color clarity  depth  table  price     x     y     z\n",
      "1    0.23      Ideal     E     SI2   61.5   55.0    326  3.95  3.98  2.43\n",
      "2    0.21    Premium     E     SI1   59.8   61.0    326  3.89  3.84  2.31\n",
      "3    0.23       Good     E     VS1   56.9   65.0    327  4.05  4.07  2.31\n",
      "4    0.29    Premium     I     VS2   62.4   58.0    334  4.20  4.23  2.63\n",
      "5    0.31       Good     J     SI2   63.3   58.0    335  4.34  4.35  2.75\n",
      "6    0.24  Very Good     J    VVS2   62.8   57.0    336  3.94  3.96  2.48\n",
      "7    0.24  Very Good     I    VVS1   62.3   57.0    336  3.95  3.98  2.47\n",
      "8    0.26  Very Good     H     SI1   61.9   55.0    337  4.07  4.11  2.53\n",
      "9    0.22       Fair     E     VS2   65.1   61.0    337  3.87  3.78  2.49\n",
      "10   0.23  Very Good     H     VS1   59.4   61.0    338  4.00  4.05  2.39\n"
     ]
    }
   ],
   "source": [
    "# Load the dataset\n",
    "diamonds = pd.read_csv('diamonds.txt', delimiter='\\t')\n",
    "\n",
    "# Display the first 10 rows of the dataset\n",
    "print(diamonds.head(10))"
   ]
  },
  {
   "cell_type": "markdown",
   "id": "118ea597-6d23-4d0e-a9de-4d2dc188a407",
   "metadata": {},
   "source": [
    "Next, we will determine the size of the dataset."
   ]
  },
  {
   "cell_type": "code",
   "execution_count": 6,
   "id": "4989d3ef-d9a9-4f9f-b4b1-df37da6b2c51",
   "metadata": {},
   "outputs": [
    {
     "name": "stdout",
     "output_type": "stream",
     "text": [
      "(53940, 10)\n"
     ]
    }
   ],
   "source": [
    "# Print the shape of the diamonds DataFrame\n",
    "print(diamonds.shape)"
   ]
  },
  {
   "cell_type": "markdown",
   "id": "6b6bc9b6-6eb1-404b-af16-2d4de4d24a32",
   "metadata": {},
   "source": [
    "We will now inspect the distribution of the columns in the diamonds dataset by displaying descriptive statistics."
   ]
  },
  {
   "cell_type": "code",
   "execution_count": 8,
   "id": "fba5a500-abc8-4111-9bfb-a573c7427c2b",
   "metadata": {},
   "outputs": [
    {
     "name": "stdout",
     "output_type": "stream",
     "text": [
      "              carat         depth         table         price             x  \\\n",
      "count  53940.000000  53940.000000  53940.000000  53940.000000  53940.000000   \n",
      "mean       0.797940     61.749405     57.457184   3932.799722      5.731157   \n",
      "std        0.474011      1.432621      2.234491   3989.439738      1.121761   \n",
      "min        0.200000     43.000000     43.000000    326.000000      0.000000   \n",
      "25%        0.400000     61.000000     56.000000    950.000000      4.710000   \n",
      "50%        0.700000     61.800000     57.000000   2401.000000      5.700000   \n",
      "75%        1.040000     62.500000     59.000000   5324.250000      6.540000   \n",
      "max        5.010000     79.000000     95.000000  18823.000000     10.740000   \n",
      "\n",
      "                  y             z  \n",
      "count  53940.000000  53940.000000  \n",
      "mean       5.734526      3.538734  \n",
      "std        1.142135      0.705699  \n",
      "min        0.000000      0.000000  \n",
      "25%        4.720000      2.910000  \n",
      "50%        5.710000      3.530000  \n",
      "75%        6.540000      4.040000  \n",
      "max       58.900000     31.800000  \n"
     ]
    }
   ],
   "source": [
    "# Display descriptive statistics for each column\n",
    "print(diamonds.describe())"
   ]
  },
  {
   "cell_type": "markdown",
   "id": "a39c2c54-de4e-4aab-bff1-6e7582fd8951",
   "metadata": {},
   "source": [
    "## Part 2: Filtering and Sorting\n",
    "\n",
    "In this section, I will use filtering and sorting techniques to display information for diamonds satisfying certain criteria. I will start by viewing information about the 5 most expensive diamonds in the dataset."
   ]
  },
  {
   "cell_type": "code",
   "execution_count": 10,
   "id": "2c8f71b9-ed7a-4f60-a757-d40b8a756035",
   "metadata": {},
   "outputs": [
    {
     "data": {
      "text/html": [
       "<div>\n",
       "<style scoped>\n",
       "    .dataframe tbody tr th:only-of-type {\n",
       "        vertical-align: middle;\n",
       "    }\n",
       "\n",
       "    .dataframe tbody tr th {\n",
       "        vertical-align: top;\n",
       "    }\n",
       "\n",
       "    .dataframe thead th {\n",
       "        text-align: right;\n",
       "    }\n",
       "</style>\n",
       "<table border=\"1\" class=\"dataframe\">\n",
       "  <thead>\n",
       "    <tr style=\"text-align: right;\">\n",
       "      <th></th>\n",
       "      <th>price</th>\n",
       "      <th>carat</th>\n",
       "      <th>cut</th>\n",
       "      <th>color</th>\n",
       "      <th>clarity</th>\n",
       "    </tr>\n",
       "  </thead>\n",
       "  <tbody>\n",
       "    <tr>\n",
       "      <th>27750</th>\n",
       "      <td>18823</td>\n",
       "      <td>2.29</td>\n",
       "      <td>Premium</td>\n",
       "      <td>I</td>\n",
       "      <td>VS2</td>\n",
       "    </tr>\n",
       "    <tr>\n",
       "      <th>27749</th>\n",
       "      <td>18818</td>\n",
       "      <td>2.00</td>\n",
       "      <td>Very Good</td>\n",
       "      <td>G</td>\n",
       "      <td>SI1</td>\n",
       "    </tr>\n",
       "    <tr>\n",
       "      <th>27748</th>\n",
       "      <td>18806</td>\n",
       "      <td>1.51</td>\n",
       "      <td>Ideal</td>\n",
       "      <td>G</td>\n",
       "      <td>IF</td>\n",
       "    </tr>\n",
       "    <tr>\n",
       "      <th>27747</th>\n",
       "      <td>18804</td>\n",
       "      <td>2.07</td>\n",
       "      <td>Ideal</td>\n",
       "      <td>G</td>\n",
       "      <td>SI2</td>\n",
       "    </tr>\n",
       "    <tr>\n",
       "      <th>27746</th>\n",
       "      <td>18803</td>\n",
       "      <td>2.00</td>\n",
       "      <td>Very Good</td>\n",
       "      <td>H</td>\n",
       "      <td>SI1</td>\n",
       "    </tr>\n",
       "  </tbody>\n",
       "</table>\n",
       "</div>"
      ],
      "text/plain": [
       "       price  carat        cut color clarity\n",
       "27750  18823   2.29    Premium     I     VS2\n",
       "27749  18818   2.00  Very Good     G     SI1\n",
       "27748  18806   1.51      Ideal     G      IF\n",
       "27747  18804   2.07      Ideal     G     SI2\n",
       "27746  18803   2.00  Very Good     H     SI1"
      ]
     },
     "execution_count": 10,
     "metadata": {},
     "output_type": "execute_result"
    }
   ],
   "source": [
    "# Viewing the 5 most expensive diamonds\n",
    "diamonds[['price', 'carat', 'cut', 'color', 'clarity']].sort_values(by='price', ascending=False).head(5)"
   ]
  },
  {
   "cell_type": "markdown",
   "id": "ff55c742-25cd-4d39-a2a3-034e99b7ca0e",
   "metadata": {},
   "source": [
    "Next, I will view information about the 5 least expensive diamonds in the dataset."
   ]
  },
  {
   "cell_type": "code",
   "execution_count": 12,
   "id": "882b787b-1fde-47e8-b9eb-57009b6ba2db",
   "metadata": {},
   "outputs": [
    {
     "data": {
      "text/html": [
       "<div>\n",
       "<style scoped>\n",
       "    .dataframe tbody tr th:only-of-type {\n",
       "        vertical-align: middle;\n",
       "    }\n",
       "\n",
       "    .dataframe tbody tr th {\n",
       "        vertical-align: top;\n",
       "    }\n",
       "\n",
       "    .dataframe thead th {\n",
       "        text-align: right;\n",
       "    }\n",
       "</style>\n",
       "<table border=\"1\" class=\"dataframe\">\n",
       "  <thead>\n",
       "    <tr style=\"text-align: right;\">\n",
       "      <th></th>\n",
       "      <th>price</th>\n",
       "      <th>carat</th>\n",
       "      <th>cut</th>\n",
       "      <th>color</th>\n",
       "      <th>clarity</th>\n",
       "    </tr>\n",
       "  </thead>\n",
       "  <tbody>\n",
       "    <tr>\n",
       "      <th>1</th>\n",
       "      <td>326</td>\n",
       "      <td>0.23</td>\n",
       "      <td>Ideal</td>\n",
       "      <td>E</td>\n",
       "      <td>SI2</td>\n",
       "    </tr>\n",
       "    <tr>\n",
       "      <th>2</th>\n",
       "      <td>326</td>\n",
       "      <td>0.21</td>\n",
       "      <td>Premium</td>\n",
       "      <td>E</td>\n",
       "      <td>SI1</td>\n",
       "    </tr>\n",
       "    <tr>\n",
       "      <th>3</th>\n",
       "      <td>327</td>\n",
       "      <td>0.23</td>\n",
       "      <td>Good</td>\n",
       "      <td>E</td>\n",
       "      <td>VS1</td>\n",
       "    </tr>\n",
       "    <tr>\n",
       "      <th>4</th>\n",
       "      <td>334</td>\n",
       "      <td>0.29</td>\n",
       "      <td>Premium</td>\n",
       "      <td>I</td>\n",
       "      <td>VS2</td>\n",
       "    </tr>\n",
       "    <tr>\n",
       "      <th>5</th>\n",
       "      <td>335</td>\n",
       "      <td>0.31</td>\n",
       "      <td>Good</td>\n",
       "      <td>J</td>\n",
       "      <td>SI2</td>\n",
       "    </tr>\n",
       "  </tbody>\n",
       "</table>\n",
       "</div>"
      ],
      "text/plain": [
       "   price  carat      cut color clarity\n",
       "1    326   0.23    Ideal     E     SI2\n",
       "2    326   0.21  Premium     E     SI1\n",
       "3    327   0.23     Good     E     VS1\n",
       "4    334   0.29  Premium     I     VS2\n",
       "5    335   0.31     Good     J     SI2"
      ]
     },
     "execution_count": 12,
     "metadata": {},
     "output_type": "execute_result"
    }
   ],
   "source": [
    "# Viewing the 5 least expensive diamonds\n",
    "diamonds[['price', 'carat', 'cut', 'color', 'clarity']].sort_values(by='price', ascending=True).head(5)"
   ]
  },
  {
   "cell_type": "markdown",
   "id": "a84fba1c-6c7c-45ce-9a7f-9f4d7a9aa383",
   "metadata": {},
   "source": [
    "Now, I will view information about the 5 largest diamonds in the dataset with an ideal cut."
   ]
  },
  {
   "cell_type": "code",
   "execution_count": 14,
   "id": "bef4f459-aeb6-4a58-9e89-c6ea38f01ee9",
   "metadata": {},
   "outputs": [
    {
     "data": {
      "text/html": [
       "<div>\n",
       "<style scoped>\n",
       "    .dataframe tbody tr th:only-of-type {\n",
       "        vertical-align: middle;\n",
       "    }\n",
       "\n",
       "    .dataframe tbody tr th {\n",
       "        vertical-align: top;\n",
       "    }\n",
       "\n",
       "    .dataframe thead th {\n",
       "        text-align: right;\n",
       "    }\n",
       "</style>\n",
       "<table border=\"1\" class=\"dataframe\">\n",
       "  <thead>\n",
       "    <tr style=\"text-align: right;\">\n",
       "      <th></th>\n",
       "      <th>price</th>\n",
       "      <th>carat</th>\n",
       "      <th>cut</th>\n",
       "      <th>color</th>\n",
       "      <th>clarity</th>\n",
       "    </tr>\n",
       "  </thead>\n",
       "  <tbody>\n",
       "    <tr>\n",
       "      <th>24329</th>\n",
       "      <td>12587</td>\n",
       "      <td>3.50</td>\n",
       "      <td>Ideal</td>\n",
       "      <td>H</td>\n",
       "      <td>I1</td>\n",
       "    </tr>\n",
       "    <tr>\n",
       "      <th>24298</th>\n",
       "      <td>12545</td>\n",
       "      <td>3.22</td>\n",
       "      <td>Ideal</td>\n",
       "      <td>I</td>\n",
       "      <td>I1</td>\n",
       "    </tr>\n",
       "    <tr>\n",
       "      <th>26468</th>\n",
       "      <td>16037</td>\n",
       "      <td>3.01</td>\n",
       "      <td>Ideal</td>\n",
       "      <td>J</td>\n",
       "      <td>SI2</td>\n",
       "    </tr>\n",
       "    <tr>\n",
       "      <th>26745</th>\n",
       "      <td>16538</td>\n",
       "      <td>3.01</td>\n",
       "      <td>Ideal</td>\n",
       "      <td>J</td>\n",
       "      <td>I1</td>\n",
       "    </tr>\n",
       "    <tr>\n",
       "      <th>24785</th>\n",
       "      <td>13156</td>\n",
       "      <td>2.75</td>\n",
       "      <td>Ideal</td>\n",
       "      <td>D</td>\n",
       "      <td>I1</td>\n",
       "    </tr>\n",
       "  </tbody>\n",
       "</table>\n",
       "</div>"
      ],
      "text/plain": [
       "       price  carat    cut color clarity\n",
       "24329  12587   3.50  Ideal     H      I1\n",
       "24298  12545   3.22  Ideal     I      I1\n",
       "26468  16037   3.01  Ideal     J     SI2\n",
       "26745  16538   3.01  Ideal     J      I1\n",
       "24785  13156   2.75  Ideal     D      I1"
      ]
     },
     "execution_count": 14,
     "metadata": {},
     "output_type": "execute_result"
    }
   ],
   "source": [
    "# Viewing the 5 largest diamonds with an ideal cut\n",
    "diamonds[['price', 'carat', 'cut', 'color', 'clarity']][diamonds['cut'] == 'Ideal'].sort_values(by='carat', ascending=False).head(5)"
   ]
  },
  {
   "cell_type": "markdown",
   "id": "a5b8acaf-da9f-43dd-8199-945dbb8eb4ed",
   "metadata": {},
   "source": [
    "Finally, I will view information about the 5 largest diamonds in the dataset with a fair cut."
   ]
  },
  {
   "cell_type": "code",
   "execution_count": 16,
   "id": "a3c5b286-dd3c-41fe-9641-503b2501fc6f",
   "metadata": {},
   "outputs": [
    {
     "data": {
      "text/html": [
       "<div>\n",
       "<style scoped>\n",
       "    .dataframe tbody tr th:only-of-type {\n",
       "        vertical-align: middle;\n",
       "    }\n",
       "\n",
       "    .dataframe tbody tr th {\n",
       "        vertical-align: top;\n",
       "    }\n",
       "\n",
       "    .dataframe thead th {\n",
       "        text-align: right;\n",
       "    }\n",
       "</style>\n",
       "<table border=\"1\" class=\"dataframe\">\n",
       "  <thead>\n",
       "    <tr style=\"text-align: right;\">\n",
       "      <th></th>\n",
       "      <th>price</th>\n",
       "      <th>carat</th>\n",
       "      <th>cut</th>\n",
       "      <th>color</th>\n",
       "      <th>clarity</th>\n",
       "    </tr>\n",
       "  </thead>\n",
       "  <tbody>\n",
       "    <tr>\n",
       "      <th>27416</th>\n",
       "      <td>18018</td>\n",
       "      <td>5.01</td>\n",
       "      <td>Fair</td>\n",
       "      <td>J</td>\n",
       "      <td>I1</td>\n",
       "    </tr>\n",
       "    <tr>\n",
       "      <th>27631</th>\n",
       "      <td>18531</td>\n",
       "      <td>4.50</td>\n",
       "      <td>Fair</td>\n",
       "      <td>J</td>\n",
       "      <td>I1</td>\n",
       "    </tr>\n",
       "    <tr>\n",
       "      <th>27131</th>\n",
       "      <td>17329</td>\n",
       "      <td>4.13</td>\n",
       "      <td>Fair</td>\n",
       "      <td>H</td>\n",
       "      <td>I1</td>\n",
       "    </tr>\n",
       "    <tr>\n",
       "      <th>23645</th>\n",
       "      <td>11668</td>\n",
       "      <td>3.65</td>\n",
       "      <td>Fair</td>\n",
       "      <td>H</td>\n",
       "      <td>I1</td>\n",
       "    </tr>\n",
       "    <tr>\n",
       "      <th>26432</th>\n",
       "      <td>15964</td>\n",
       "      <td>3.40</td>\n",
       "      <td>Fair</td>\n",
       "      <td>D</td>\n",
       "      <td>I1</td>\n",
       "    </tr>\n",
       "  </tbody>\n",
       "</table>\n",
       "</div>"
      ],
      "text/plain": [
       "       price  carat   cut color clarity\n",
       "27416  18018   5.01  Fair     J      I1\n",
       "27631  18531   4.50  Fair     J      I1\n",
       "27131  17329   4.13  Fair     H      I1\n",
       "23645  11668   3.65  Fair     H      I1\n",
       "26432  15964   3.40  Fair     D      I1"
      ]
     },
     "execution_count": 16,
     "metadata": {},
     "output_type": "execute_result"
    }
   ],
   "source": [
    "# Viewing the 5 largest diamonds with a fair cut\n",
    "diamonds[['price', 'carat', 'cut', 'color', 'clarity']][diamonds['cut'] == 'Fair'].sort_values(by='carat', ascending=False).head(5)"
   ]
  },
  {
   "cell_type": "markdown",
   "id": "9bed5662-611d-4f7a-8aa3-e08ac1d616e7",
   "metadata": {},
   "source": [
    "## Part 3: Working with Categorical Variables\n",
    "\n",
    "In this section, we will be creating lists to specify the order for each of the three categorical variables: 'cut', 'color', and 'clarity'. These lists will help us communicate the correct order for the levels of these variables to Pandas. "
   ]
  },
  {
   "cell_type": "code",
   "execution_count": 18,
   "id": "89b3d8bc-a6ec-407b-80c0-0e921744f2d1",
   "metadata": {},
   "outputs": [
    {
     "name": "stdout",
     "output_type": "stream",
     "text": [
      "['SI2', 'SI1', 'VS1', 'VS2', 'VVS2', 'VVS1', 'I1', 'IF']\n",
      "['Ideal', 'Premium', 'Good', 'Very Good', 'Fair']\n",
      "['E', 'I', 'J', 'H', 'F', 'G', 'D']\n"
     ]
    }
   ],
   "source": [
    "# Create three lists\n",
    "clarity_levels = pd.unique(diamonds['clarity']).tolist()\n",
    "cut_levels = pd.unique(diamonds['cut']).tolist()\n",
    "color_levels = pd.unique(diamonds['color']).tolist()\n",
    "\n",
    "# Print the lists\n",
    "print(clarity_levels)\n",
    "print(cut_levels)\n",
    "print(color_levels)"
   ]
  },
  {
   "cell_type": "code",
   "execution_count": 19,
   "id": "ad7165ed-7c60-4212-9ad2-45e04235c265",
   "metadata": {},
   "outputs": [
    {
     "name": "stdout",
     "output_type": "stream",
     "text": [
      "1        SI2\n",
      "2        SI1\n",
      "3        VS1\n",
      "4        VS2\n",
      "5        SI2\n",
      "        ... \n",
      "53936    SI1\n",
      "53937    SI1\n",
      "53938    SI1\n",
      "53939    SI2\n",
      "53940    SI2\n",
      "Name: clarity, Length: 53940, dtype: category\n",
      "Categories (8, object): ['SI2', 'SI1', 'VS1', 'VS2', 'VVS2', 'VVS1', 'I1', 'IF']\n",
      "1            Ideal\n",
      "2          Premium\n",
      "3             Good\n",
      "4          Premium\n",
      "5             Good\n",
      "           ...    \n",
      "53936        Ideal\n",
      "53937         Good\n",
      "53938    Very Good\n",
      "53939      Premium\n",
      "53940        Ideal\n",
      "Name: cut, Length: 53940, dtype: category\n",
      "Categories (5, object): ['Ideal', 'Premium', 'Good', 'Very Good', 'Fair']\n",
      "1        E\n",
      "2        E\n",
      "3        E\n",
      "4        I\n",
      "5        J\n",
      "        ..\n",
      "53936    D\n",
      "53937    D\n",
      "53938    D\n",
      "53939    H\n",
      "53940    D\n",
      "Name: color, Length: 53940, dtype: category\n",
      "Categories (7, object): ['E', 'I', 'J', 'H', 'F', 'G', 'D']\n"
     ]
    }
   ],
   "source": [
    "# Use 'pd.Categorical()' to set the levels of the cut, color, and clarity columns.\n",
    "diamonds['clarity'] = pd.Categorical(diamonds['clarity'], clarity_levels)\n",
    "print(diamonds['clarity'])\n",
    "diamonds['cut'] = pd.Categorical(diamonds['cut'], cut_levels)\n",
    "print(diamonds['cut'])\n",
    "diamonds['color'] = pd.Categorical(diamonds['color'], color_levels)\n",
    "print(diamonds['color'])"
   ]
  },
  {
   "cell_type": "code",
   "execution_count": null,
   "id": "053bdda8-64a2-4ee5-bca2-fa5557bdda6e",
   "metadata": {},
   "outputs": [],
   "source": []
  },
  {
   "cell_type": "code",
   "execution_count": null,
   "id": "c01f4337-b38a-41e1-9952-9c90751d78d2",
   "metadata": {},
   "outputs": [],
   "source": []
  },
  {
   "cell_type": "code",
   "execution_count": null,
   "id": "71c77d70-fe42-41f0-8bd9-df0292a2f89d",
   "metadata": {},
   "outputs": [],
   "source": []
  }
 ],
 "metadata": {
  "kernelspec": {
   "display_name": "Python 3 (ipykernel)",
   "language": "python",
   "name": "python3"
  },
  "language_info": {
   "codemirror_mode": {
    "name": "ipython",
    "version": 3
   },
   "file_extension": ".py",
   "mimetype": "text/x-python",
   "name": "python",
   "nbconvert_exporter": "python",
   "pygments_lexer": "ipython3",
   "version": "3.11.7"
  }
 },
 "nbformat": 4,
 "nbformat_minor": 5
}
