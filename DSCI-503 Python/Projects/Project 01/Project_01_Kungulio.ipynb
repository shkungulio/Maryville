{
 "cells": [
  {
   "cell_type": "markdown",
   "id": "a6ca0ca2-8018-48b0-9adf-3a7c944e65dd",
   "metadata": {},
   "source": [
    "# DSCI 503 - Project 01\n",
    "\n",
    "### Seif Kungulio"
   ]
  },
  {
   "cell_type": "markdown",
   "id": "952cb7bb-4fdf-4666-a532-c22e99f9b9ee",
   "metadata": {},
   "source": [
    "# Introduction\n",
    "\n",
    "For this data analysis project, I will utilize Python to delve into the extensive Gapminder dataset. This valuable collection of socioeconomic indicators spans 184 countries over 219 years, from 1800 to 2018. By leveraging Python's robust data analysis libraries and tools, I aim to uncover trends, patterns, and correlations within this rich historical data. The goal is to provide insights into global socioeconomic development over the past two centuries, offering a comprehensive view of the world's evolution through demographic shifts and economic progress.\r\n",
    "\r\n",
    "The dataset is structured as a dataframe, with each row representing a single country during a specific year, and each column representing various data points about these countries. The dataframe includes the following columns:\r\n",
    "\r\n",
    "- **country**: Names of 184 countries, each appearing 219 times—once for each year data was collected.\r\n",
    "- **continent**: Continental region of each country, categorized into 'africa', 'americas', 'asia', and 'europe'.\r\n",
    "- **year**: Year the data for that record was collected.\r\n",
    "- **population**: Population of a given country in a particular year.\r\n",
    "- **life_exp**: Average life expectancy in a given country for each year.\r\n",
    "- **gdp_per_cap**: Per capita GDP of a country for a specific year, calculated as the total GDP divided by the population, indicating the average wealth of the country's citizens.\r\n",
    "- **gini**: Gini score of a country for each year, measuring economic inequality on a scale from 0 to 100."
   ]
  },
  {
   "cell_type": "code",
   "execution_count": 1,
   "id": "682410e9-1163-4bcc-8c94-f6d9bcf2a872",
   "metadata": {},
   "outputs": [
    {
     "data": {
      "text/html": [
       "<div>\n",
       "<style scoped>\n",
       "    .dataframe tbody tr th:only-of-type {\n",
       "        vertical-align: middle;\n",
       "    }\n",
       "\n",
       "    .dataframe tbody tr th {\n",
       "        vertical-align: top;\n",
       "    }\n",
       "\n",
       "    .dataframe thead th {\n",
       "        text-align: right;\n",
       "    }\n",
       "</style>\n",
       "<table border=\"1\" class=\"dataframe\">\n",
       "  <thead>\n",
       "    <tr style=\"text-align: right;\">\n",
       "      <th></th>\n",
       "      <th>country</th>\n",
       "      <th>year</th>\n",
       "      <th>continent</th>\n",
       "      <th>population</th>\n",
       "      <th>life_exp</th>\n",
       "      <th>gdp_per_cap</th>\n",
       "      <th>gini</th>\n",
       "    </tr>\n",
       "  </thead>\n",
       "  <tbody>\n",
       "    <tr>\n",
       "      <th>0</th>\n",
       "      <td>Afghanistan</td>\n",
       "      <td>1800</td>\n",
       "      <td>asia</td>\n",
       "      <td>3280000</td>\n",
       "      <td>28.2</td>\n",
       "      <td>603</td>\n",
       "      <td>30.5</td>\n",
       "    </tr>\n",
       "    <tr>\n",
       "      <th>1</th>\n",
       "      <td>Albania</td>\n",
       "      <td>1800</td>\n",
       "      <td>europe</td>\n",
       "      <td>410000</td>\n",
       "      <td>35.4</td>\n",
       "      <td>667</td>\n",
       "      <td>38.9</td>\n",
       "    </tr>\n",
       "    <tr>\n",
       "      <th>2</th>\n",
       "      <td>Algeria</td>\n",
       "      <td>1800</td>\n",
       "      <td>africa</td>\n",
       "      <td>2500000</td>\n",
       "      <td>28.8</td>\n",
       "      <td>715</td>\n",
       "      <td>56.2</td>\n",
       "    </tr>\n",
       "    <tr>\n",
       "      <th>3</th>\n",
       "      <td>Angola</td>\n",
       "      <td>1800</td>\n",
       "      <td>africa</td>\n",
       "      <td>1570000</td>\n",
       "      <td>27.0</td>\n",
       "      <td>618</td>\n",
       "      <td>57.2</td>\n",
       "    </tr>\n",
       "    <tr>\n",
       "      <th>4</th>\n",
       "      <td>Antigua and Barbuda</td>\n",
       "      <td>1800</td>\n",
       "      <td>americas</td>\n",
       "      <td>37000</td>\n",
       "      <td>33.5</td>\n",
       "      <td>757</td>\n",
       "      <td>40.0</td>\n",
       "    </tr>\n",
       "    <tr>\n",
       "      <th>5</th>\n",
       "      <td>Argentina</td>\n",
       "      <td>1800</td>\n",
       "      <td>americas</td>\n",
       "      <td>534000</td>\n",
       "      <td>33.2</td>\n",
       "      <td>1510</td>\n",
       "      <td>47.7</td>\n",
       "    </tr>\n",
       "    <tr>\n",
       "      <th>6</th>\n",
       "      <td>Armenia</td>\n",
       "      <td>1800</td>\n",
       "      <td>europe</td>\n",
       "      <td>413000</td>\n",
       "      <td>34.0</td>\n",
       "      <td>514</td>\n",
       "      <td>31.5</td>\n",
       "    </tr>\n",
       "    <tr>\n",
       "      <th>7</th>\n",
       "      <td>Australia</td>\n",
       "      <td>1800</td>\n",
       "      <td>asia</td>\n",
       "      <td>351000</td>\n",
       "      <td>34.0</td>\n",
       "      <td>814</td>\n",
       "      <td>38.7</td>\n",
       "    </tr>\n",
       "    <tr>\n",
       "      <th>8</th>\n",
       "      <td>Austria</td>\n",
       "      <td>1800</td>\n",
       "      <td>europe</td>\n",
       "      <td>3210000</td>\n",
       "      <td>34.4</td>\n",
       "      <td>1850</td>\n",
       "      <td>33.4</td>\n",
       "    </tr>\n",
       "    <tr>\n",
       "      <th>9</th>\n",
       "      <td>Azerbaijan</td>\n",
       "      <td>1800</td>\n",
       "      <td>europe</td>\n",
       "      <td>880000</td>\n",
       "      <td>29.2</td>\n",
       "      <td>775</td>\n",
       "      <td>70.5</td>\n",
       "    </tr>\n",
       "  </tbody>\n",
       "</table>\n",
       "</div>"
      ],
      "text/plain": [
       "               country  year continent  population  life_exp  gdp_per_cap  \\\n",
       "0          Afghanistan  1800      asia     3280000      28.2          603   \n",
       "1              Albania  1800    europe      410000      35.4          667   \n",
       "2              Algeria  1800    africa     2500000      28.8          715   \n",
       "3               Angola  1800    africa     1570000      27.0          618   \n",
       "4  Antigua and Barbuda  1800  americas       37000      33.5          757   \n",
       "5            Argentina  1800  americas      534000      33.2         1510   \n",
       "6              Armenia  1800    europe      413000      34.0          514   \n",
       "7            Australia  1800      asia      351000      34.0          814   \n",
       "8              Austria  1800    europe     3210000      34.4         1850   \n",
       "9           Azerbaijan  1800    europe      880000      29.2          775   \n",
       "\n",
       "   gini  \n",
       "0  30.5  \n",
       "1  38.9  \n",
       "2  56.2  \n",
       "3  57.2  \n",
       "4  40.0  \n",
       "5  47.7  \n",
       "6  31.5  \n",
       "7  38.7  \n",
       "8  33.4  \n",
       "9  70.5  "
      ]
     },
     "execution_count": 1,
     "metadata": {},
     "output_type": "execute_result"
    }
   ],
   "source": [
    "import pandas as pd\n",
    "df = pd.read_csv('gapminder_data.txt', sep='\\t')\n",
    "df.head(10)\n"
   ]
  },
  {
   "cell_type": "code",
   "execution_count": 2,
   "id": "2de7a0b2-028a-4572-8fe5-de1205b67126",
   "metadata": {},
   "outputs": [],
   "source": [
    "country = df.country.to_list()\n",
    "continent = df.continent.to_list()\n",
    "year = df.year.to_list()\n",
    "population = df.population.to_list()\n",
    "life_exp = df.life_exp.to_list()\n",
    "pcgdp = df.gdp_per_cap.to_list()\n",
    "gini = df.gini.to_list()\n"
   ]
  },
  {
   "cell_type": "code",
   "execution_count": 3,
   "id": "cec906b5-e1d9-4d38-b48d-c49bd7fb0006",
   "metadata": {},
   "outputs": [
    {
     "name": "stdout",
     "output_type": "stream",
     "text": [
      "Country:           Azerbaijan\n",
      "Continent:         europe\n",
      "Year:              1800\n",
      "Population:        880000\n",
      "Life Expectancy:   29.2\n",
      "Per Capita GDP:    775\n",
      "Gini Index:        70.5\n"
     ]
    }
   ],
   "source": [
    "N = 9\n",
    "\n",
    "print('Country:          ', country[N])\n",
    "print('Continent:        ', continent[N])\n",
    "print('Year:             ', year[N])\n",
    "print('Population:       ', population[N])\n",
    "print('Life Expectancy:  ', life_exp[N])\n",
    "print('Per Capita GDP:   ', pcgdp[N])\n",
    "print('Gini Index:       ', gini[N])\n"
   ]
  },
  {
   "cell_type": "markdown",
   "id": "9a5bd0f3-4664-4bdb-8c68-6368b77cc666",
   "metadata": {},
   "source": [
    "# Part 1: Displaying Past 20 Years of US Data\n",
    "\n",
    "In this section, I will retrieve and display the data for the United States from the Gapminder dataframe, focusing on the last twenty years. The information will include the year, country, population, life expectancy, GDP per capita, and Gini index."
   ]
  },
  {
   "cell_type": "code",
   "execution_count": 4,
   "id": "a1f2b652-f12b-4e7e-b3ab-0e968429b439",
   "metadata": {},
   "outputs": [
    {
     "name": "stdout",
     "output_type": "stream",
     "text": [
      "Year \tCountry \tPopulation\tLExp \tpcGDP \tGini\n",
      "------------------------------------------------------------\n",
      "1999\tUnited States\t279000000\t76.8\t44700\t40.5\n",
      "2000\tUnited States\t282000000\t76.9\t46000\t40.5\n",
      "2001\tUnited States\t285000000\t77.0\t46000\t40.5\n",
      "2002\tUnited States\t288000000\t77.1\t46400\t40.5\n",
      "2003\tUnited States\t290000000\t77.3\t47300\t40.5\n",
      "2004\tUnited States\t293000000\t77.5\t48600\t40.6\n",
      "2005\tUnited States\t295000000\t77.7\t49800\t40.7\n",
      "2006\tUnited States\t298000000\t77.9\t50600\t40.8\n",
      "2007\tUnited States\t301000000\t78.1\t51000\t40.8\n",
      "2008\tUnited States\t303000000\t78.3\t50400\t40.8\n",
      "2009\tUnited States\t306000000\t78.6\t48600\t40.7\n",
      "2010\tUnited States\t309000000\t78.7\t49400\t40.7\n",
      "2011\tUnited States\t311000000\t78.8\t49800\t40.7\n",
      "2012\tUnited States\t313000000\t78.9\t50500\t40.8\n",
      "2013\tUnited States\t316000000\t78.9\t51000\t41.0\n",
      "2014\tUnited States\t318000000\t78.9\t51800\t41.2\n",
      "2015\tUnited States\t320000000\t78.8\t52800\t41.3\n",
      "2016\tUnited States\t322000000\t78.8\t53300\t41.4\n",
      "2017\tUnited States\t324000000\t79.0\t54200\t41.5\n",
      "2018\tUnited States\t327000000\t79.1\t54900\t41.5\n"
     ]
    }
   ],
   "source": [
    "# Define the desired columns\n",
    "desired_columns = ['year', 'country', 'population', 'life_exp', 'gdp_per_cap', 'gini']\n",
    "\n",
    "# Print the header\n",
    "print(f\"Year \\tCountry \\tPopulation\\tLExp \\tpcGDP \\tGini\")\n",
    "print(\"------------------------------------------------------------\")\n",
    "\n",
    "# Iterate over the DataFrame rows\n",
    "for index, row in df.iterrows():\n",
    "    # Check if the year is >= 1999 and the country is 'United States'\n",
    "    if row['country'] == 'United States' and row['year'] >= 1999:\n",
    "        # Print the relevant data in the specified format\n",
    "        print(f\"{row['year']}\\t{row['country']}\\t{row['population']}\\t{row['life_exp']}\\t{row['gdp_per_cap']}\\t{row['gini']}\")\n",
    "        "
   ]
  },
  {
   "cell_type": "markdown",
   "id": "a2df85d3-ee5e-4e0a-aaa1-fa831be917ab",
   "metadata": {},
   "source": [
    "# Part 2: Selecting the 2018 Data\n",
    "\n",
    "In this part of the project, I will extract and analyze the data specifically for the year 2018. This will involve creating separate lists for each relevant variable, filtered to include only records from 2018."
   ]
  },
  {
   "cell_type": "code",
   "execution_count": 5,
   "id": "a260733d-3a71-4a66-947e-35ba34fe2622",
   "metadata": {},
   "outputs": [
    {
     "name": "stdout",
     "output_type": "stream",
     "text": [
      "The global population in 2018 was 7595200200\n"
     ]
    }
   ],
   "source": [
    "# Empty lists to store data for 2018\n",
    "country_2018 = []\n",
    "population_2018 = []\n",
    "continent_2018 = []\n",
    "life_exp_2018 = []\n",
    "pcgdp_2018 = []\n",
    "gini_2018 = []\n",
    "\n",
    "# Loop through each row index\n",
    "for i in range(len(df)):\n",
    "    row = df.iloc[i] # Access the row using its index\n",
    "    if row['year'] == 2018: # Check if the year is 2018\n",
    "        country_2018.append(row['country'])\n",
    "        population_2018.append(row['population'])\n",
    "        continent_2018.append(row['continent'])\n",
    "        life_exp_2018.append(row['life_exp'])\n",
    "        pcgdp_2018.append(row['gdp_per_cap'])\n",
    "        gini_2018.append(row['gini'])\n",
    "\n",
    "# Calculate total population in 2018\n",
    "global_population_2018 = sum(population_2018)\n",
    "\n",
    "# Print the result\n",
    "print(\"The global population in 2018 was\", global_population_2018)\n"
   ]
  },
  {
   "cell_type": "markdown",
   "id": "a2243ed7-93ab-4101-ba29-af9a873c59d2",
   "metadata": {},
   "source": [
    "# Part 3: Identifying Countries with Largest and Smallest Populations\n",
    "\n",
    "In this part, I will identify and display the countries with the largest and smallest populations in 2018. This involves sorting the population data for 2018 and printing the relevant information for the top and bottom ten countries."
   ]
  },
  {
   "cell_type": "code",
   "execution_count": 6,
   "id": "8a61ea78-193f-4060-ba69-12fd73e5bc59",
   "metadata": {},
   "outputs": [
    {
     "name": "stdout",
     "output_type": "stream",
     "text": [
      "Countries with Largest Populations in 2018\n",
      "------------------------------------------------------\n",
      "The population of Bangladesh in 2018 was 166000000.\n",
      "The population of Brazil in 2018 was 211000000.\n"
     ]
    }
   ],
   "source": [
    "# Filter the DataFrame for the year 2018\n",
    "df_2018 = df[df['year'] == 2018]\n",
    "\n",
    "# Create a list of populations in 2018\n",
    "population_2018 = df_2018['population'].tolist()\n",
    "\n",
    "# Create a sorted copy of the population list\n",
    "sorted_population_2018 = sorted(population_2018, reverse=True)\n",
    "\n",
    "# Determine the population of the country with the tenth largest population\n",
    "tenth_largest_population = sorted_population_2018[9]\n",
    "\n",
    "# Print the header lines\n",
    "print(\"Countries with Largest Populations in 2018\")\n",
    "print(\"------------------------------------------------------\")\n",
    "\n",
    "# Create loop counter\n",
    "counter = 0\n",
    "\n",
    "# Loop through the DataFrame and print information for each country with population >= tenth_largest_population\n",
    "for index, row in df_2018.iterrows():\n",
    "    if row['population'] >= tenth_largest_population:\n",
    "        print(f\"The population of {row['country']} in 2018 was {row['population']}.\")\n",
    "        counter += 1 # Increment the counter\n",
    "        if counter == 2: # Check the number of counter\n",
    "            break # exit the loop\n"
   ]
  },
  {
   "cell_type": "code",
   "execution_count": 7,
   "id": "a06720ca-773d-455d-8018-3bda5dc0af21",
   "metadata": {},
   "outputs": [
    {
     "name": "stdout",
     "output_type": "stream",
     "text": [
      "Countries with Smallest Populations in 2018\n",
      "------------------------------------------------------\n",
      "The population of Seychelles in 2018 was 95200.\n",
      "The population of Antigua and Barbuda in 2018 was 103000.\n"
     ]
    }
   ],
   "source": [
    "# Filter the data for the year 2018\n",
    "df_2018 = df[df['year'] == 2018]\n",
    "\n",
    "# Sort the data by population and select the ten countries with the smallest populations\n",
    "sorted_df = df_2018.sort_values(by='population')\n",
    "smallest_populations = sorted_df.head(10)\n",
    "\n",
    "# Determine the population of the country with the tenth smallest population\n",
    "tenth_smallest_population = smallest_populations.iloc[-1]['population']\n",
    "\n",
    "# Print the header and separator\n",
    "print(\"Countries with Smallest Populations in 2018\")\n",
    "print(\"------------------------------------------------------\")\n",
    "\n",
    "# Create loop counter\n",
    "counter = 0\n",
    "\n",
    "# Loop through the filtered DataFrame and print the information\n",
    "for _, row in smallest_populations.iterrows():\n",
    "    print(f\"The population of {row['country']} in 2018 was {row['population']}.\")\n",
    "    counter += 1 # Increment the counter\n",
    "    if counter == 2: # Check the number of counter\n",
    "        break # exit the loop\n"
   ]
  },
  {
   "cell_type": "markdown",
   "id": "8774239d-0dea-4654-831d-8d4ae6dd6d62",
   "metadata": {},
   "source": [
    "# Part 4: Identifying Countries with Highest and Lowest Life Expectancies\n",
    "\n",
    "In this section, I will identify and display the countries with the highest and lowest life expectancies in 2018. The goal is to provide a clear comparison of global health and longevity by highlighting these extremes."
   ]
  },
  {
   "cell_type": "code",
   "execution_count": 8,
   "id": "01126c13-b8d0-4480-a910-ce28e7aee3bc",
   "metadata": {},
   "outputs": [
    {
     "name": "stdout",
     "output_type": "stream",
     "text": [
      "Countries with Highest Life Expectancy in 2018\n",
      "------------------------------------------------------\n",
      "The life expectancy of Japan in 2018 was 84.2.\n",
      "The life expectancy of Singapore in 2018 was 84.0.\n"
     ]
    }
   ],
   "source": [
    "# Filter the data for the year 2018\n",
    "df_2018 = df[df['year'] == 2018]\n",
    "\n",
    "# Sort the data by life expectancy in descending order\n",
    "df_sorted = df_2018.sort_values(by='life_exp', ascending=False)\n",
    "\n",
    "# Select the top 10 countries with the highest life expectancy\n",
    "top_10_countries = df_sorted.head(10)\n",
    "\n",
    "# Print the information in the required format\n",
    "print(\"Countries with Highest Life Expectancy in 2018\")\n",
    "print(\"------------------------------------------------------\")\n",
    "\n",
    "# Create loop counter\n",
    "counter = 0\n",
    "\n",
    "for index, row in top_10_countries.iterrows():\n",
    "    print(f\"The life expectancy of {row['country']} in 2018 was {row['life_exp']}.\")\n",
    "    counter += 1 # Increment the counter\n",
    "    if counter == 2: # Check the number of counter\n",
    "        break # exit the loop\n"
   ]
  },
  {
   "cell_type": "code",
   "execution_count": 9,
   "id": "9f72a199-6cbd-45a6-8b5d-80c5401da38a",
   "metadata": {},
   "outputs": [
    {
     "name": "stdout",
     "output_type": "stream",
     "text": [
      "Countries with Lowest Life Expectancy in 2018\n",
      "------------------------------------------------------\n",
      "The life expectancy of Lesotho in 2018 was 51.1.\n",
      "The life expectancy of Central African Republic in 2018 was 51.6.\n"
     ]
    }
   ],
   "source": [
    "# Filter the data for the year 2018\n",
    "df_2018 = df[df['year'] == 2018]\n",
    "\n",
    "# Sort the data by life expectancy in ascending order\n",
    "df_2018_sorted = df_2018.sort_values(by='life_exp')\n",
    "\n",
    "# Select the top ten countries with the lowest life expectancies\n",
    "lowest_life_expectancy_countries = df_2018_sorted.head(10)\n",
    "\n",
    "# Print the required output\n",
    "print(\"Countries with Lowest Life Expectancy in 2018\")\n",
    "print(\"------------------------------------------------------\")\n",
    "\n",
    "# Create loop counter\n",
    "counter = 0\n",
    "\n",
    "for index, row in lowest_life_expectancy_countries.iterrows():\n",
    "    print(f\"The life expectancy of {row['country']} in 2018 was {row['life_exp']}.\")\n",
    "    counter += 1 # Increment the counter\n",
    "    if counter == 2: # Check the number of counter\n",
    "        break # exit the loop\n"
   ]
  },
  {
   "cell_type": "markdown",
   "id": "268472cf-f236-40c3-b43f-e988a1079493",
   "metadata": {},
   "source": [
    "# Part 5: Calculating GDP by Country\n",
    "\n",
    "In this part of the project, I will calculate the GDP for each country in 2018 and determine the total global GDP for that year."
   ]
  },
  {
   "cell_type": "code",
   "execution_count": 10,
   "id": "a3d4b82d-b7c5-43f8-a4c3-970a7c314384",
   "metadata": {},
   "outputs": [
    {
     "name": "stdout",
     "output_type": "stream",
     "text": [
      "The total global GDP in 2018 was $3297010.\n"
     ]
    }
   ],
   "source": [
    "# Create an empty list to store gdp\n",
    "gdp_2018 = []\n",
    "\n",
    "# Loop through each row of the dataframe and add gdp for 2018 to gdp_2018\n",
    "for index, row in df.iterrows():\n",
    "  if row[\"year\"] == 2018:\n",
    "    gdp_2018.append(row[\"gdp_per_cap\"])\n",
    "\n",
    "# Find the sum of gdp\n",
    "total_gdp = sum(gdp_2018)\n",
    "\n",
    "# Print result in desired format\n",
    "print(f\"The total global GDP in 2018 was ${total_gdp}.\")"
   ]
  },
  {
   "cell_type": "code",
   "execution_count": 11,
   "id": "8eeafd94-86aa-41ad-9f0c-c076bdbd4abc",
   "metadata": {},
   "outputs": [
    {
     "name": "stdout",
     "output_type": "stream",
     "text": [
      "The country with the highest GDP in 2018 was Qatar with a GDP of 121000.\n",
      "The country with the lowest GDP in 2018 was Somalia with a GDP of 629.\n"
     ]
    }
   ],
   "source": [
    "# Filter the DataFrame to include only the data for the year 2018\n",
    "df_2018 = df[df['year'] == 2018]\n",
    "\n",
    "# Find the maximum and minimum GDP values in 2018\n",
    "max_gdp = df_2018['gdp_per_cap'].max()\n",
    "min_gdp = df_2018['gdp_per_cap'].min()\n",
    "\n",
    "# Get the index of the max and min GDP values\n",
    "country_max_gdp = df_2018[df_2018['gdp_per_cap'] == max_gdp].iloc[0]['country']\n",
    "country_min_gdp = df_2018[df_2018['gdp_per_cap'] == min_gdp].iloc[0]['country']\n",
    "\n",
    "# Print the results\n",
    "print(f\"The country with the highest GDP in 2018 was {country_max_gdp} with a GDP of {max_gdp}.\")\n",
    "print(f\"The country with the lowest GDP in 2018 was {country_min_gdp} with a GDP of {min_gdp}.\")\n"
   ]
  },
  {
   "cell_type": "markdown",
   "id": "e87d73b4-8641-490b-82a8-46ef2261aa4f",
   "metadata": {},
   "source": [
    "# Part 6: Grouping by Continent\n",
    "\n",
    "In this part of the project, I will calculate the total population, per capita GDP, and life expectancy for each of the four continental regions in 2018."
   ]
  },
  {
   "cell_type": "code",
   "execution_count": 12,
   "id": "4a6bba89-0791-4bc8-a602-bac31043a8bf",
   "metadata": {},
   "outputs": [
    {
     "name": "stdout",
     "output_type": "stream",
     "text": [
      "Continent  Population      pcGDP   Life Exp\n",
      "-------------------------------------------\n",
      "Africa     1287150200       4700       65.9\n",
      "Americas   1010978000      28708       77.5\n",
      "Asia       4455113000      12705       73.2\n",
      "Europe      841959000      31534       78.4\n"
     ]
    }
   ],
   "source": [
    "# Continent names\n",
    "continents = [\"africa\", \"americas\", \"asia\", \"europe\"]\n",
    "\n",
    "# Empty lists for results\n",
    "pcgdp_2018_by_continent = []\n",
    "pop_2018_by_continent = []\n",
    "life_exp_2018_by_continent = []\n",
    "\n",
    "# Loop through continents\n",
    "for continent in continents:\n",
    "    temp_life_exp = 0\n",
    "    temp_pop = 0\n",
    "    temp_gdp = 0\n",
    "\n",
    "    # Loop through each row (year might not be the first column)\n",
    "    for index, row in df.iterrows():\n",
    "        if row[\"year\"] == 2018 and row[\"continent\"].lower() == continent:\n",
    "            temp_pop += row[\"population\"]\n",
    "            temp_gdp += row[\"gdp_per_cap\"] * row[\"population\"]  # Weighted sum for life exp\n",
    "            temp_life_exp += row[\"life_exp\"] * row[\"population\"]\n",
    "\n",
    "    # Calculate averages and round values\n",
    "    if temp_pop > 0:\n",
    "        temp_life_exp /= temp_pop\n",
    "        temp_gdp /= temp_pop\n",
    "        temp_gdp = round(temp_gdp)\n",
    "        temp_life_exp = round(temp_life_exp, 1)\n",
    "\n",
    "    # Append results to lists\n",
    "    pcgdp_2018_by_continent.append(temp_gdp)\n",
    "    pop_2018_by_continent.append(temp_pop)\n",
    "    life_exp_2018_by_continent.append(temp_life_exp)\n",
    "\n",
    "# Print results in formatted table\n",
    "print(f\"{'Continent':<10} {'Population':>10} {'pcGDP':>10} {'Life Exp':>10}\")\n",
    "print(\"-\" * 43)\n",
    "for i in range(len(continents)):\n",
    "    print(f\"{continents[i].capitalize():<10} {pop_2018_by_continent[i]:>10} {pcgdp_2018_by_continent[i]:>10} {life_exp_2018_by_continent[i]:>10.1f}\")\n"
   ]
  }
 ],
 "metadata": {
  "kernelspec": {
   "display_name": "Python 3 (ipykernel)",
   "language": "python",
   "name": "python3"
  },
  "language_info": {
   "codemirror_mode": {
    "name": "ipython",
    "version": 3
   },
   "file_extension": ".py",
   "mimetype": "text/x-python",
   "name": "python",
   "nbconvert_exporter": "python",
   "pygments_lexer": "ipython3",
   "version": "3.11.7"
  }
 },
 "nbformat": 4,
 "nbformat_minor": 5
}
