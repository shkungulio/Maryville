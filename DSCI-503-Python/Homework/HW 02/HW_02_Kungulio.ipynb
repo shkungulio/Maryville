{
 "cells": [
  {
   "cell_type": "markdown",
   "id": "ecaff24e-6bbc-4145-b89f-5a3a34006bcb",
   "metadata": {},
   "source": [
    "# DSCI 503 - Homework 02\n",
    "\n",
    "### Seif Kungulio"
   ]
  },
  {
   "cell_type": "markdown",
   "id": "89acc026-9f66-4229-8939-8f402308686e",
   "metadata": {},
   "source": [
    "## Problem 1: Altering Lists\n",
    "\n",
    "In this problem, you will create and update lists containing information about employees within a particular department at a company. The table below provides the names of the employees in the department, as well as the number of years of service they have at the company:"
   ]
  },
  {
   "cell_type": "code",
   "execution_count": 1,
   "id": "b0f254ab-f7f1-4195-a263-461d667fbf13",
   "metadata": {},
   "outputs": [],
   "source": [
    "# Ordered list creation\n",
    "#================================================================\n",
    "employees = [\"Beth\", \"Fred\", \"Drew\", \"Alex\", \"Emma\", \"Chad\"] # employees list\n",
    "years = [15, 11, 8, 5, 4, 2] # years list"
   ]
  },
  {
   "cell_type": "code",
   "execution_count": 2,
   "id": "c160dc9d-eaf2-4388-9ca6-d32c7c1076a0",
   "metadata": {},
   "outputs": [
    {
     "name": "stdout",
     "output_type": "stream",
     "text": [
      "Updated lists after new members information was added.\n",
      "-------------------------------------------------------------------------------------\n",
      "employees = ['Beth', 'Gina', 'Fred', 'Drew', 'Alex', 'Emma', 'Herb', 'Chad', 'Iris']\n",
      "years = [15, 12, 11, 8, 5, 4, 3, 2, 0]\n"
     ]
    }
   ],
   "source": [
    "# New members and their years of service\n",
    "#================================================================\n",
    "new_members = [\"Gina\", \"Herb\", \"Iris\"]\n",
    "new_years = [12, 3, 0]\n",
    "\n",
    "# Update existing lists with new members\n",
    "employees.extend(new_members)\n",
    "years.extend(new_years)\n",
    "\n",
    "# Combine and sort the lists based on years of service in decreasing order\n",
    "combined_lists = sorted(zip(employees, years), key=lambda pair: pair[1], reverse=True)\n",
    "\n",
    "# Separate the combined lists into turple\n",
    "employees, years = zip(*combined_lists)\n",
    "\n",
    "# Convert from turple back to list\n",
    "employees = list(employees)\n",
    "years = list(years)\n",
    "\n",
    "# Print the updated lists\n",
    "print(\"Updated lists after new members information was added.\")\n",
    "print(\"-\" * 85)\n",
    "print(\"employees =\", employees)\n",
    "print(\"years =\", years)\n"
   ]
  },
  {
   "cell_type": "code",
   "execution_count": 3,
   "id": "c0fbc422-1887-4b1a-af1f-4ce8f0baaebe",
   "metadata": {},
   "outputs": [
    {
     "name": "stdout",
     "output_type": "stream",
     "text": [
      "Updated lists after Fred's information was removed.\n",
      "--------------------------------------------------------------------------------\n",
      "employees = ['Beth', 'Gina', 'Drew', 'Alex', 'Emma', 'Herb', 'Chad', 'Iris']\n",
      "years = [15, 12, 8, 5, 4, 3, 2, 0]\n"
     ]
    }
   ],
   "source": [
    "# Find the index of Fred in the employees list\n",
    "#================================================================\n",
    "fred_index = employees.index(\"Fred\")\n",
    "\n",
    "#print(f\"Fred's index is: {fred_index}\")\n",
    "\n",
    "# Remove Fred's information from both lists\n",
    "employees.pop(fred_index)\n",
    "years.pop(fred_index)\n",
    "\n",
    "# Print the updated lists\n",
    "print(\"Updated lists after Fred's information was removed.\")\n",
    "print(\"-\" * 80)\n",
    "print(\"employees =\", employees)\n",
    "print(\"years =\", years)"
   ]
  },
  {
   "cell_type": "code",
   "execution_count": 4,
   "id": "5b50c111-8d12-486c-b4e5-ff67cd5d6a18",
   "metadata": {},
   "outputs": [
    {
     "name": "stdout",
     "output_type": "stream",
     "text": [
      "Updated lists after Emma's information was updated.\n",
      "--------------------------------------------------------------------------------\n",
      "employees = ['Beth', 'Gina', 'Drew', 'Emma', 'Alex', 'Herb', 'Chad', 'Iris']\n",
      "years = [15, 12, 8, 6, 5, 3, 2, 0]\n"
     ]
    }
   ],
   "source": [
    "# Update Emma's years of service\n",
    "#================================================================\n",
    "emma_index = employees.index(\"Emma\")\n",
    "years[emma_index] = 6\n",
    "\n",
    "# Combine and sort the lists based on years of service in decreasing order usig zip\n",
    "combined_lists = sorted(zip(employees, years), key=lambda pair: pair[1], reverse=True)\n",
    "\n",
    "# Separate the sorted lists\n",
    "employees, years = zip(*combined_lists)\n",
    "\n",
    "# Convert from turple back to list\n",
    "employees = list(employees)\n",
    "years = list(years)\n",
    "\n",
    "# Print the updated lists\n",
    "print(\"Updated lists after Emma's information was updated.\")\n",
    "print(\"-\" * 80)\n",
    "print(\"employees =\", employees)\n",
    "print(\"years =\", years)"
   ]
  },
  {
   "cell_type": "markdown",
   "id": "15ece47a-20bc-4772-9adc-4ceb8e7482a8",
   "metadata": {},
   "source": [
    "## Problem 2: Sorting and Slicing Lists\n",
    "\n",
    "In this problem, there will be practice in sorting and slicing lists, and with using list functions such as <b>max()</b> and <b>min()</b>."
   ]
  },
  {
   "cell_type": "code",
   "execution_count": 5,
   "id": "d98cec4b-7d9b-46f2-977e-e4b4bf31525b",
   "metadata": {},
   "outputs": [
    {
     "name": "stdout",
     "output_type": "stream",
     "text": [
      "Length of random_list: 99\n",
      "\n",
      "First 10 Elements of random_list: [242, 137, 336, 270, 341, 179, 73, 195, 5, 191]\n",
      "\n",
      "The sum of the elements in random_list is 23739.\n",
      "\n",
      "First 10 Elements of sorted_list: [0, 5, 9, 15, 26, 30, 31, 38, 42, 44]\n",
      "First 10 Elements of random_list: [242, 137, 336, 270, 341, 179, 73, 195, 5, 191]\n",
      "\n",
      "The smallest element of bot_slice is 0.\n",
      "The largest element of bot_slice is 173.\n",
      "\n",
      "The smallest element of mid_slice is 179.\n",
      "The largest element of mid_slice is 311.\n",
      "\n",
      "The smallest element of top_slice is 318.\n",
      "The largest element of top_slice is 484.\n"
     ]
    }
   ],
   "source": [
    "import random\n",
    "\n",
    "# Create random list\n",
    "random.seed(12)\n",
    "random_list = random.sample(range(500), 99)\n",
    "\n",
    "# Print the length of random_list\n",
    "print(f\"Length of random_list: {len(random_list)}\")\n",
    "print()\n",
    "\n",
    "# Print the first 10 elements of random_list\n",
    "print(f\"First 10 Elements of random_list: {random_list[:10]}\")\n",
    "print()\n",
    "\n",
    "# Calculate the sum of the elements in random_list\n",
    "total_sum = sum(random_list)\n",
    "print(f\"The sum of the elements in random_list is {total_sum}.\")\n",
    "print()\n",
    "\n",
    "# Create sorted list\n",
    "sorted_list = sorted(random_list)\n",
    "\n",
    "# Print the first 10 elements of sorted_list and random_list\n",
    "print(f\"First 10 Elements of sorted_list: {sorted_list[:10]}\")\n",
    "print(f\"First 10 Elements of random_list: {random_list[:10]}\")\n",
    "\n",
    "# Create slices\n",
    "bot_slice = sorted_list[:33]\n",
    "mid_slice = sorted_list[33:66]\n",
    "top_slice = sorted_list[66:]\n",
    "\n",
    "# Print slice information\n",
    "print(f\"\\nThe smallest element of bot_slice is {min(bot_slice)}.\")\n",
    "print(f\"The largest element of bot_slice is {max(bot_slice)}.\\n\")\n",
    "\n",
    "print(f\"The smallest element of mid_slice is {min(mid_slice)}.\")\n",
    "print(f\"The largest element of mid_slice is {max(mid_slice)}.\\n\")\n",
    "\n",
    "print(f\"The smallest element of top_slice is {min(top_slice)}.\")\n",
    "print(f\"The largest element of top_slice is {max(top_slice)}.\")\n"
   ]
  },
  {
   "cell_type": "markdown",
   "id": "2b6bcfc2-26f9-40ac-bcf0-ff6dc32c55df",
   "metadata": {},
   "source": [
    "## Problem 3: Calculating Sum of Squared Errors\n",
    "\n",
    "Suppose that a biologist is studying the relationship between the length and weight of yellow-bellied marmots. Based on prior work, she believes that the length and weight of adult marmots can be approximately modeled by a relationship of the following form: 𝑤𝑒𝑖𝑔ℎ𝑡=0.6∗𝑙𝑒𝑛𝑔𝑡ℎ−5.2"
   ]
  },
  {
   "cell_type": "code",
   "execution_count": 6,
   "id": "6c15c184-d312-4ebd-9d43-03e4811508a6",
   "metadata": {},
   "outputs": [
    {
     "name": "stdout",
     "output_type": "stream",
     "text": [
      "pred_weight: [8.42, 8.24, 10.28, 7.58, 6.86, 8.06, 7.46, 9.98, 10.94, 10.94, 8.6, 9.08, 10.52, 7.04, 8.6, 7.94, 8.9, 11.48, 9.98, 10.34]\n",
      "SSE: 10.2236\n"
     ]
    }
   ],
   "source": [
    "# Given lengths and weights\n",
    "length = [22.7, 22.4, 25.8, 21.3, 20.1, 22.1, 21.1, 25.3, 26.9, 26.9, 23.0, 23.8, 26.2, 20.4, 23.0, 21.9, 23.5, 27.8, 25.3, 25.9]\n",
    "weight = [9.2, 8.8, 10.7, 8.3, 6.2, 8.6, 7.2, 11.2, 10.5, 11.3, 9.6, 9.9, 10.9, 5.9, 9.5, 9.1, 9.7, 11.6, 10.2, 10.5]\n",
    "\n",
    "# Create a list to store predicted weights\n",
    "pred_weight = []\n",
    "\n",
    "# Calculate predicted weights\n",
    "for l in length:\n",
    "    pred = round(0.6 * l - 5.2, 2)\n",
    "    pred_weight.append(pred)\n",
    "\n",
    "# Print predicted weights\n",
    "print(\"pred_weight:\", pred_weight)\n",
    "\n",
    "# Calculate SSE\n",
    "SSE = 0\n",
    "for i in range(len(weight)):\n",
    "    error = weight[i] - pred_weight[i]\n",
    "    SSE += error ** 2\n",
    "\n",
    "# Print SSE rounded to four decimal places\n",
    "print(f\"SSE: {SSE:.4f}\")\n"
   ]
  },
  {
   "cell_type": "markdown",
   "id": "79b4a2ab-cb3c-4e87-8bf8-2ba655bf295f",
   "metadata": {},
   "source": [
    "## Problem 4: Calculating Exam Scores\n",
    "\n",
    "In this problem, I will use a loop to calculate scores for two students who have taking a multiple-choice exam with 25 questions. Assume that the correct answers on the exam are as follows:\n",
    "\r\n",
    "Correct Answers: D, B, C, A, C, D, A, C, C, B, D, A, B, D, C, D, C, D, C, A, B, D, C, , \n",
    "B, A"
   ]
  },
  {
   "cell_type": "code",
   "execution_count": 7,
   "id": "760fe15d-159d-4ac2-b197-8596b5453cf9",
   "metadata": {},
   "outputs": [
    {
     "name": "stdout",
     "output_type": "stream",
     "text": [
      "Student 1 Grade: 64%\n",
      "Student 2 Grade: 84%\n"
     ]
    }
   ],
   "source": [
    "# Correct answers and student answers\n",
    "correct = ['D', 'B', 'C', 'A', 'C', 'D', 'A', 'C', 'C', 'B', 'D', 'A', 'B', 'D', 'C', 'D', 'C', 'D', 'C', 'A', 'B', 'D', 'C', 'B', 'A']\n",
    "\n",
    "# Answers submited by student 1\n",
    "answers1 = ['A', 'B', 'C', 'A', 'B', 'D', 'A', 'A', 'C', 'B', 'D', 'A', 'D', 'C', 'C', 'B', 'C', 'D', 'B', 'A', 'D', 'D', 'C', 'C', 'A']\n",
    "\n",
    "# Answers submited by student 2\n",
    "answers2 = ['D', 'A', 'C', 'A', 'B', 'D', 'A', 'C', 'C', 'B', 'D', 'A', 'B', 'D', 'A', 'D', 'C', 'D', 'C', 'A', 'B', 'C', 'C', 'B', 'A']\n",
    "\n",
    "# Initialize counts\n",
    "count1 = 0 # Count of correct answers for student 1\n",
    "count2 = 0 # Count of correct answers for student 2\n",
    "\n",
    "# Loop over all three lists\n",
    "for i in range(len(correct)):\n",
    "    if answers1[i] == correct[i]:\n",
    "        count1 += 1 # Increment the count of correct answers for student 1\n",
    "    if answers2[i] == correct[i]:\n",
    "        count2 += 1 # Increment the count of correct answers for student 2\n",
    "\n",
    "# Calculate grades\n",
    "grade1 = int((count1 / len(correct)) * 100) # Calculate grade for student 1\n",
    "grade2 = int((count2 / len(correct)) * 100) # Calculate grade for student 2\n",
    "\n",
    "# Print results\n",
    "print(f\"Student 1 Grade: {grade1}%\")\n",
    "print(f\"Student 2 Grade: {grade2}%\")\n"
   ]
  },
  {
   "cell_type": "markdown",
   "id": "0e02a7eb-eb5f-4ee5-9175-630403e1d584",
   "metadata": {},
   "source": [
    "## Problem 5: Determining Monthly Payments\n",
    "\n",
    "In this problem we will be determining the monthly payment that would be required to repay a mortgage on a home in 30 years for a range of different house prices00.."
   ]
  },
  {
   "cell_type": "code",
   "execution_count": 8,
   "id": "23534f54-b713-4122-af87-beb8fa0867f7",
   "metadata": {},
   "outputs": [
    {
     "name": "stdout",
     "output_type": "stream",
     "text": [
      "A loan of $100,000 would require monthly payments of $524.67.\n",
      "A loan of $110,000 would require monthly payments of $577.13.\n",
      "A loan of $120,000 would require monthly payments of $629.60.\n",
      "A loan of $130,000 would require monthly payments of $682.06.\n",
      "A loan of $140,000 would require monthly payments of $734.53.\n",
      "A loan of $150,000 would require monthly payments of $787.00.\n",
      "A loan of $160,000 would require monthly payments of $839.46.\n",
      "A loan of $170,000 would require monthly payments of $891.93.\n",
      "A loan of $180,000 would require monthly payments of $944.40.\n",
      "A loan of $190,000 would require monthly payments of $996.86.\n",
      "A loan of $200,000 would require monthly payments of $1,049.33.\n"
     ]
    }
   ],
   "source": [
    "# Constants\n",
    "i = 0.004  # Monthly interest rate\n",
    "n = 360  # Number of monthly payments for a 30-year loan\n",
    "start = 100000  # Starting loan amount\n",
    "increment = 10000  # Increment in loan amount\n",
    "\n",
    "# Loop over the range of house prices\n",
    "for L in range(start, 200001, increment):\n",
    "    # Calculate the required monthly payment using the formula\n",
    "    PMT = L * (i / (1 - (1 + i) ** -n))\n",
    "    \n",
    "    # Print the result\n",
    "    print(f\"A loan of ${L:,} would require monthly payments of ${PMT:,.2f}.\")\n"
   ]
  },
  {
   "cell_type": "markdown",
   "id": "0c85025d-6c9b-4788-b94e-9d229d0abc99",
   "metadata": {},
   "source": [
    "## Problem 6: Creating an Amortization Schedule\n",
    "\n",
    "Assume that you have decided to borrow $160,000 to purchase a house. Suppose that the loan has a monthly interest rate of 0.4% and that you will repay it over a period of 30 years (360 months). According to your results in the previous problem, you should see that this will result in monthly payments of $839.46. In this problem, we will use a loop to determine how much will still be owed on the loan at the end of each year."
   ]
  },
  {
   "cell_type": "code",
   "execution_count": 9,
   "id": "e727ada1-b6f0-4472-83bf-6c2631a93536",
   "metadata": {},
   "outputs": [
    {
     "name": "stdout",
     "output_type": "stream",
     "text": [
      "The balance at the end of 12 months will be $157,553.12.\n",
      "The balance at the end of 24 months will be $154,986.16.\n",
      "The balance at the end of 36 months will be $152,293.23.\n",
      "The balance at the end of 48 months will be $149,468.18.\n",
      "The balance at the end of 60 months will be $146,504.50.\n",
      "The balance at the end of 72 months will be $143,395.39.\n",
      "The balance at the end of 84 months will be $140,133.72.\n",
      "The balance at the end of 96 months will be $136,711.97.\n",
      "The balance at the end of 108 months will be $133,122.33.\n",
      "The balance at the end of 120 months will be $129,356.56.\n",
      "The balance at the end of 132 months will be $125,406.00.\n",
      "The balance at the end of 144 months will be $121,261.57.\n",
      "The balance at the end of 156 months will be $116,913.78.\n",
      "The balance at the end of 168 months will be $112,352.64.\n",
      "The balance at the end of 180 months will be $107,567.68.\n",
      "The balance at the end of 192 months will be $102,547.91.\n",
      "The balance at the end of 204 months will be $97,281.84.\n",
      "The balance at the end of 216 months will be $91,757.37.\n",
      "The balance at the end of 228 months will be $85,961.81.\n",
      "The balance at the end of 240 months will be $79,881.85.\n",
      "The balance at the end of 252 months will be $73,503.55.\n",
      "The balance at the end of 264 months will be $66,812.25.\n",
      "The balance at the end of 276 months will be $59,792.61.\n",
      "The balance at the end of 288 months will be $52,428.53.\n",
      "The balance at the end of 300 months will be $44,703.11.\n",
      "The balance at the end of 312 months will be $36,598.58.\n",
      "The balance at the end of 324 months will be $28,096.34.\n",
      "The balance at the end of 336 months will be $19,176.93.\n",
      "The balance at the end of 348 months will be $9,819.84.\n",
      "The balance at the end of 360 months will be $3.59.\n"
     ]
    }
   ],
   "source": [
    "# Variables\n",
    "balance = 160000  # Initial loan amount\n",
    "i = 0.004  # Monthly interest rate\n",
    "PMT = 839.46  # Monthly payment amount\n",
    "months = 360\n",
    "\n",
    "# Loop over 360 months (30 years)\n",
    "for month in range(1, months + 1):\n",
    "    # Calculate the new balance\n",
    "    balance = round(balance * (1 + i) - PMT, 2)\n",
    "    \n",
    "    # Check if the current month marks the end of a year\n",
    "    if month % 12 == 0:\n",
    "        # Print the balance at the end of the year\n",
    "        print(f\"The balance at the end of {month} months will be ${balance:,.2f}.\")\n"
   ]
  },
  {
   "cell_type": "markdown",
   "id": "66afb449-e448-4a91-b43d-eba67e61634a",
   "metadata": {},
   "source": [
    "## Problem 7: Calculating Price of a Bulk Order\n",
    "\n",
    "WidgCo is a company that sells widgets. The company uses the bulk pricing policy described below.\r\n",
    "• If 100 or fewer widgets are ordered, then each widget costs $350.\r\n",
    "• If 200 or fewer widgets are ordered, the first 100 widgets each cost $350, and each additional widget costs $300.\r\n",
    "• If more than 200 widgets are ordered, then the first 100 each cost $350, the next 100 each cost $300, and each widget beyond the first 200 will cost $250.\r\n",
    "In this problem, you will determine the price for orders containing the following numbers of widgets:\r\n",
    "84, 100, 126, 150, 186, 200, 216, 2488, 248248, 248"
   ]
  },
  {
   "cell_type": "code",
   "execution_count": 10,
   "id": "a4146187-82a7-4a30-8437-21bdf7615be2",
   "metadata": {},
   "outputs": [
    {
     "name": "stdout",
     "output_type": "stream",
     "text": [
      "The cost for an order of 84 widgets is $29,400.\n",
      "The cost for an order of 100 widgets is $35,000.\n",
      "The cost for an order of 126 widgets is $42,800.\n",
      "The cost for an order of 150 widgets is $50,000.\n",
      "The cost for an order of 186 widgets is $60,800.\n",
      "The cost for an order of 200 widgets is $65,000.\n",
      "The cost for an order of 216 widgets is $69,000.\n",
      "The cost for an order of 248 widgets is $77,000.\n"
     ]
    }
   ],
   "source": [
    "# Create a list named \"quantities\" to store the order quantities.\n",
    "quantities = [84, 100, 126, 150, 186, 200, 216, 248]\n",
    "\n",
    "# Loop over each quantity and calculate the price of the order.\n",
    "for quantity in quantities:\n",
    "    if quantity <= 100:\n",
    "        cost = quantity * 350\n",
    "    elif quantity <= 200:\n",
    "        cost = 100 * 350 + (quantity - 100) * 300\n",
    "    else:\n",
    "        cost = 100 * 350 + 100 * 300 + (quantity - 200) * 250\n",
    "\n",
    "    # Print the message with the calculated cost.\n",
    "    print(f'The cost for an order of {quantity} widgets is ${cost:,}.')"
   ]
  },
  {
   "cell_type": "markdown",
   "id": "3c36e3c6-c633-4b29-965a-6ca38db86a9e",
   "metadata": {},
   "source": [
    "## Problem 8: Adding Matrices\n",
    "\n",
    "In this problem, I will use loop to calculate the sum of two 3x5 matrices. Each matrix will be stored as a list of lists, with each sub-list representing a single row of the matrix."
   ]
  },
  {
   "cell_type": "code",
   "execution_count": 11,
   "id": "421445c0-6155-4e81-ad3c-950f9d983c14",
   "metadata": {},
   "outputs": [
    {
     "name": "stdout",
     "output_type": "stream",
     "text": [
      "[48, 72, 71, 43, 72]\n",
      "[65, 65, 65, 33, 44]\n",
      "[73, 68, 55, 41, 41]\n"
     ]
    }
   ],
   "source": [
    "# Create matrices A and B as a list\n",
    "A = [[13, 43, 28, 22, 41], [17, 39, 46, 16, 21], [41, 34, 31, 25, 14]]\n",
    "B = [[35, 29, 43, 21, 31], [48, 26, 19, 17, 23], [32, 34, 24, 16, 27]]\n",
    "\n",
    "# Create an empty list to store the sum of A and B\n",
    "AplusB = []\n",
    "\n",
    "# Loop to calculate the sum of the matrices\n",
    "for i in range(len(A)):\n",
    "    row_sum = []\n",
    "    for j in range(len(A[0])):\n",
    "        row_sum.append(A[i][j] + B[i][j])\n",
    "    AplusB.append(row_sum)\n",
    "\n",
    "# Print the rows of AplusB\n",
    "for row in AplusB:\n",
    "    print(row)\n"
   ]
  }
 ],
 "metadata": {
  "kernelspec": {
   "display_name": "Python 3 (ipykernel)",
   "language": "python",
   "name": "python3"
  },
  "language_info": {
   "codemirror_mode": {
    "name": "ipython",
    "version": 3
   },
   "file_extension": ".py",
   "mimetype": "text/x-python",
   "name": "python",
   "nbconvert_exporter": "python",
   "pygments_lexer": "ipython3",
   "version": "3.11.7"
  }
 },
 "nbformat": 4,
 "nbformat_minor": 5
}
