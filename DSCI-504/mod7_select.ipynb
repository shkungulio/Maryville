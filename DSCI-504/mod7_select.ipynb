{
    "metadata": {
        "kernelspec": {
            "name": "SQL",
            "display_name": "SQL",
            "language": "sql"
        },
        "language_info": {
            "name": "sql",
            "version": ""
        }
    },
    "nbformat_minor": 2,
    "nbformat": 4,
    "cells": [
        {
            "cell_type": "markdown",
            "source": [
                "# Lecture 7.1 The SELECT Query\n",
                "## Part 1: Load additional data into the University database.\n",
                "Step 1: Upload the new\\_student.csv file into the unitversity database's student table.\n",
                "Step 2: Upload the new\\_term.csv file to the univeristy database's term table.\n",
                "Step 3: Upload the new\\_term\\_class.csv file to the university database's term\\_class table.\n",
                "Step 4: Upload the new\\_term\\_people.csc file to teh university database's term\\_people table.\n",
                "  \n",
                "NOTE: Based on the primary key constraints on the term, term\\_class, and term\\_people tables, you may need to drop the constraints when adding the data. This will not affect the use of the tables."
            ],
            "metadata": {
                "azdata_cell_guid": "16b32341-686d-4983-a86e-32fac3b31169"
            }
        },
        {
            "cell_type": "code",
            "source": [
                "\n",
                ""
            ],
            "metadata": {
                "azdata_cell_guid": "07fd7460-3e80-4e58-8567-3c8fb683e8c1"
            },
            "outputs": [],
            "execution_count": null
        },
        {
            "cell_type": "code",
            "source": [
                ""
            ],
            "metadata": {
                "azdata_cell_guid": "cb7d3936-54ae-470e-98dc-311244a82468"
            },
            "outputs": [],
            "execution_count": null
        },
        {
            "cell_type": "code",
            "source": [
                ""
            ],
            "metadata": {
                "azdata_cell_guid": "265d6c7a-e6c5-4687-b13e-607b0984e1de"
            },
            "outputs": [],
            "execution_count": null
        },
        {
            "cell_type": "code",
            "source": [
                ""
            ],
            "metadata": {
                "azdata_cell_guid": "eb91af0a-158a-48d5-bbe3-31e17bf09f07"
            },
            "outputs": [],
            "execution_count": null
        },
        {
            "cell_type": "markdown",
            "source": [
                "## Part 2: Use Basic SELECT Queries\n",
                "\n",
                "### Step 1: Select the active faculty from the faculty table. The layout should match the table headers below. Sort your results alphabetically by faculty last name."
            ],
            "metadata": {
                "azdata_cell_guid": "9e35bdef-2daa-42cb-9f38-92cf4291d0b3"
            }
        },
        {
            "cell_type": "markdown",
            "source": [
                "| Faculty ID | Faculty Number | Faculty Last Name, First Name | Faculty Status | Faculty Phone | Faculty Email |\n",
                "| --- | --- | --- | --- | --- | --- |\n",
                "\n",
                "<br>\n",
                "<br>\n",
                "Hint: You will need to use the concat() function to join the first and last name. Search the PostgreSQL documentation to identify the correct usage of this function. We will cover this more in later weeks."
            ],
            "metadata": {
                "azdata_cell_guid": "b4a40f12-416a-4232-b750-c8803970f4ac"
            }
        },
        {
            "cell_type": "code",
            "source": [
                ""
            ],
            "metadata": {
                "azdata_cell_guid": "4bf1bbe7-afa6-433c-87e7-f22148518f47"
            },
            "outputs": [],
            "execution_count": null
        },
        {
            "cell_type": "markdown",
            "source": [
                "How many cells were returned?\n",
                "  \n",
                "What is one error noticed in the results?"
            ],
            "metadata": {
                "azdata_cell_guid": "16863fd9-134c-4974-8540-3b5b11778d60"
            }
        },
        {
            "cell_type": "markdown",
            "source": [
                "Step 2: Update Mr. Johnson (fac\\_id = 4) Phone Number to read 872-919-4640. Be sure to return the row of data to confirm the number is changed."
            ],
            "metadata": {
                "azdata_cell_guid": "476fd5ed-c255-4162-b4c2-36ad939a2df0"
            }
        },
        {
            "cell_type": "code",
            "source": [
                ""
            ],
            "metadata": {
                "azdata_cell_guid": "024894b0-e1e6-4058-86c2-f432e018715b"
            },
            "outputs": [],
            "execution_count": null
        },
        {
            "cell_type": "markdown",
            "source": [
                "Step 3: Select all student data for all graduate students"
            ],
            "metadata": {
                "azdata_cell_guid": "2c82d7a2-c3a1-458a-96ed-45ba5fdb8393"
            }
        },
        {
            "cell_type": "code",
            "source": [
                ""
            ],
            "metadata": {
                "azdata_cell_guid": "43d51cc5-1b53-4c10-818c-4daf9ff38718"
            },
            "outputs": [],
            "execution_count": null
        },
        {
            "cell_type": "markdown",
            "source": [
                "How many graduate students are there in the database?\n",
                "  \n",
                "What two errors are present in the data?"
            ],
            "metadata": {
                "azdata_cell_guid": "f08b374f-e8c6-45ed-873e-8ff50025de79"
            }
        },
        {
            "cell_type": "markdown",
            "source": [
                "Step 4: Return the first and last name, state, and GPA of the students with the four highest GPAs in the database. be sure to include any ties for the 5th highest GPA."
            ],
            "metadata": {
                "azdata_cell_guid": "011c61b9-f810-443e-a1ff-060a820ac9b0"
            }
        },
        {
            "cell_type": "code",
            "source": [
                ""
            ],
            "metadata": {
                "azdata_cell_guid": "d67685d4-7443-4f0c-86a6-735dcbac0101"
            },
            "outputs": [],
            "execution_count": null
        },
        {
            "cell_type": "markdown",
            "source": [
                "Step 5: Write a new query to identify how many of these students are in Honors standing. To do this uese the count() function as your column. You can either use count(\\*) or count(stud\\_honors)."
            ],
            "metadata": {
                "azdata_cell_guid": "74cb56b3-482d-4d5a-b089-ae0091767a07"
            }
        },
        {
            "cell_type": "code",
            "source": [
                ""
            ],
            "metadata": {
                "azdata_cell_guid": "5138bf7c-2ba1-4dfb-b530-2cb4ef6c91ec"
            },
            "outputs": [],
            "execution_count": null
        },
        {
            "cell_type": "markdown",
            "source": [
                "How many students were in Honors standing?"
            ],
            "metadata": {
                "azdata_cell_guid": "7fb21455-9eab-4fe2-888a-cde15878eb2d"
            }
        },
        {
            "cell_type": "markdown",
            "source": [
                "Step 6: Write a query to see which student in the top 5 GPAs are not in honors standing"
            ],
            "metadata": {
                "azdata_cell_guid": "cc491d96-5c6b-4ec9-8131-70d788dadf3a"
            }
        },
        {
            "cell_type": "code",
            "source": [
                ""
            ],
            "metadata": {
                "azdata_cell_guid": "4f289ca9-a336-4f68-b360-af169d91b240"
            },
            "outputs": [],
            "execution_count": null
        },
        {
            "cell_type": "markdown",
            "source": [
                "What is the GPA of the student in the top five GPAs who is not in honors standing?"
            ],
            "metadata": {
                "azdata_cell_guid": "8674e7c5-d8b9-479f-a2c9-c46a32deaeda"
            }
        },
        {
            "cell_type": "markdown",
            "source": [
                "## Part 3: An Introduction to GROUP BY and HAVING using basic aggregates\n",
                "\n",
                "### While we will cover aggregates in detail next week, we will use a few basic aggregates to practice using the GROUP BY and HAVING clause."
            ],
            "metadata": {
                "azdata_cell_guid": "599c447d-5989-4279-abb6-273c8996e863"
            }
        },
        {
            "cell_type": "markdown",
            "source": [
                "### Step 1: Write a query to calculate the total number of credit hours of all students in the Data Science Program using the data columns indicated below. You may need to do a query of the program table to find the program number first. Sort the data in descending order."
            ],
            "metadata": {
                "azdata_cell_guid": "ab32ea45-11cf-4e3d-8acc-a693dcf117a2"
            }
        },
        {
            "cell_type": "markdown",
            "source": [
                "Your output should match the below table\n",
                "<br>\n",
                "\n",
                "| Student Home State | Total Credit Hours |\n",
                "| --- | --- |\n",
                "| [State] | [Credit Hours]\n",
                "\n",
                "<br>\n",
                "<br>"
            ],
            "metadata": {
                "azdata_cell_guid": "c22757b7-84c4-44f8-90ff-e25f870a298f"
            }
        },
        {
            "cell_type": "code",
            "source": [
                ""
            ],
            "metadata": {
                "azdata_cell_guid": "6fd77d2c-8dfe-4362-bbb6-d5413d0657ad"
            },
            "outputs": [],
            "execution_count": null
        },
        {
            "cell_type": "markdown",
            "source": [
                "What state has the highest credit hours in the Data Science Program?"
            ],
            "metadata": {
                "azdata_cell_guid": "5b2edd8b-590c-4aa9-98ed-634e0c7aef3a"
            }
        },
        {
            "cell_type": "markdown",
            "source": [
                "Step 2: Find which student has taken the most terms at the University"
            ],
            "metadata": {
                "azdata_cell_guid": "2a602020-06b8-4938-b475-9ecb9640e738"
            }
        },
        {
            "cell_type": "code",
            "source": [
                ""
            ],
            "metadata": {
                "azdata_cell_guid": "7e817986-2e45-4cdc-a66f-e0be1a5a272b"
            },
            "outputs": [],
            "execution_count": null
        },
        {
            "cell_type": "markdown",
            "source": [
                "Which student has the most terms?"
            ],
            "metadata": {
                "azdata_cell_guid": "8295c729-a4c3-4b7d-973a-1802832cd2bf"
            }
        },
        {
            "cell_type": "markdown",
            "source": [
                "Step 3: Write a query to find out the student name and the start date of the student from Step 2 above."
            ],
            "metadata": {
                "azdata_cell_guid": "a2a460d0-9f1d-4009-b13f-389fd36f3552"
            }
        },
        {
            "cell_type": "code",
            "source": [
                ""
            ],
            "metadata": {
                "azdata_cell_guid": "88cd9086-5eb6-4ab2-af87-93e8ccc00fb8"
            },
            "outputs": [],
            "execution_count": null
        },
        {
            "cell_type": "markdown",
            "source": [
                "Based on the result of the above query, what is your assessment of this student's attendance? Looking at their start semester, what can we assume?"
            ],
            "metadata": {
                "azdata_cell_guid": "f1123833-e6db-4b84-9706-9156387529de"
            }
        },
        {
            "cell_type": "markdown",
            "source": [
                "Step 4: Find out what the two most recent class dates from 2020 are in the database. Be sure to limit your response to two rows. Your output should look like the table below. You may need to use the extract() function we used above to complete this query. \n",
                "\n",
                "| Class ID | FAC ID | Newest 2020 Classes |\n",
                "| --- | --- | --- |\n",
                "| 3 | 2 | 2020-11-12 |\n",
                "| 9 | 5 | 2020-08-02 |"
            ],
            "metadata": {
                "azdata_cell_guid": "95cfc651-5a5a-492d-83a1-74015820fbef"
            }
        },
        {
            "cell_type": "code",
            "source": [
                ""
            ],
            "metadata": {
                "azdata_cell_guid": "01087296-0958-4d44-af56-01a807d2f70d"
            },
            "outputs": [],
            "execution_count": null
        },
        {
            "cell_type": "markdown",
            "source": [
                "Which constraints did you use to get the two rows above?"
            ],
            "metadata": {
                "azdata_cell_guid": "db3ad362-bbbc-4cf5-8088-5aac157cb4c3"
            }
        },
        {
            "cell_type": "markdown",
            "source": [
                "## Part 4: Using the DISTINCT and DISTINCT ON keywords"
            ],
            "metadata": {
                "azdata_cell_guid": "f87bdf87-38d3-492b-897a-cc3b9e8329ff"
            }
        },
        {
            "cell_type": "code",
            "source": [
                ""
            ],
            "metadata": {
                "azdata_cell_guid": "decd1c60-f61a-47e9-9108-c838030d042a"
            },
            "outputs": [],
            "execution_count": null
        },
        {
            "cell_type": "markdown",
            "source": [
                "### Step 1: Select the DISTINCT courses listed in the database"
            ],
            "metadata": {
                "azdata_cell_guid": "3cf7bf38-a555-46ff-84e6-545549fb4912"
            }
        },
        {
            "cell_type": "code",
            "source": [
                ""
            ],
            "metadata": {
                "azdata_cell_guid": "0e70e469-9596-4380-8aad-976500a2f124"
            },
            "outputs": [],
            "execution_count": null
        },
        {
            "cell_type": "markdown",
            "source": [
                "### Step 2: Select the DISTINCT program names in the database"
            ],
            "metadata": {
                "azdata_cell_guid": "166e0394-5e59-42fd-82e8-9fa9d37aaf0a"
            }
        },
        {
            "cell_type": "code",
            "source": [
                ""
            ],
            "metadata": {
                "azdata_cell_guid": "78f2e4e8-c7ce-4fb2-84d1-a6f11ee6a2ab"
            },
            "outputs": [],
            "execution_count": null
        },
        {
            "cell_type": "markdown",
            "source": [
                "### Step 3: Select all students in the student table and take note of the number of rows returned."
            ],
            "metadata": {
                "azdata_cell_guid": "e631148d-07f4-4e5a-96ff-0dbd7a8b8581"
            }
        },
        {
            "cell_type": "code",
            "source": [
                ""
            ],
            "metadata": {
                "azdata_cell_guid": "63ec4bfd-d04e-4016-8583-1417e11b909e"
            },
            "outputs": [],
            "execution_count": null
        },
        {
            "cell_type": "markdown",
            "source": [
                "Now select the distinct students on their last name with all data and evaluate the difference in rows returned."
            ],
            "metadata": {
                "azdata_cell_guid": "e0a66811-b656-4ca3-bd49-fe9c6d66f6d0"
            }
        },
        {
            "cell_type": "code",
            "source": [
                ""
            ],
            "metadata": {
                "azdata_cell_guid": "0fc395ca-37c6-4d95-82d0-61036d297547"
            },
            "outputs": [],
            "execution_count": null
        },
        {
            "cell_type": "markdown",
            "source": [
                "Why do you think the DISTINCT ON keyword does this when used?"
            ],
            "metadata": {
                "azdata_cell_guid": "7da3a975-d469-4bd6-b7fa-3330ca8d6b9c"
            }
        }
    ]
}