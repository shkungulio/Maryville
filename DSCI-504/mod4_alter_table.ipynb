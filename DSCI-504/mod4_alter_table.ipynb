{
    "metadata": {
        "kernelspec": {
            "name": "SQL",
            "display_name": "SQL",
            "language": "sql"
        },
        "language_info": {
            "name": "sql",
            "version": ""
        }
    },
    "nbformat_minor": 2,
    "nbformat": 4,
    "cells": [
        {
            "cell_type": "markdown",
            "source": [
                "# Module 4, Lecture 4.4 ALTER TABLE\n",
                "\n",
                "This practice session will give you the opportunity to alter several tables in the Univeristy database."
            ],
            "metadata": {
                "azdata_cell_guid": "a3ad9bcf-cae9-4b46-9932-4e1407948e81"
            }
        },
        {
            "cell_type": "markdown",
            "source": [
                "## Use the below data to alter the tables in the University database\n",
                "\n",
                "```\n",
                "NOTE: Be sure to use the standards discussed in Lecture 4.1. Code cells have already been inserted after each table definition\n",
                "```"
            ],
            "metadata": {
                "azdata_cell_guid": "8fc5c127-02ed-4619-b0ae-ed2298339e0a"
            }
        },
        {
            "cell_type": "markdown",
            "source": [
                "## Connecting to the database"
            ],
            "metadata": {
                "azdata_cell_guid": "187e9ca9-1ca7-43fd-a319-8e26bb755e67"
            }
        },
        {
            "cell_type": "markdown",
            "source": [
                "Step 1: Connect to the correct database. \n",
                "\n",
                "- Select the PostgreSQL connection in the \"Attach to\" drop-down above \n",
                "- Change the database on the current connect (localhost) to the university database"
            ],
            "metadata": {
                "azdata_cell_guid": "96fe2a1b-1212-4d9f-b63c-5475fa0f151a"
            }
        },
        {
            "cell_type": "markdown",
            "source": [
                "## ADD COLUMN"
            ],
            "metadata": {
                "azdata_cell_guid": "ac7d1b19-7258-4cd6-adef-2787448ccd6a"
            }
        },
        {
            "cell_type": "markdown",
            "source": [
                "### Step 2: Add the following columns to the appropriate tables. The correct syntax is below.\n",
                "\n",
                "```\n",
                "ALTER TABLE [table_name]\n",
                "ADD COLUMN [column_name] [Data Type] [Constraint]\n",
                "```\n",
                "\n",
                "Table|Column|Data Type\n",
                ":---|:---:|---:\n",
                "faculty|fac_phone|12-digit string\n",
                "faculty|fac_room|integer\n",
                "faculty|fac_email|100-digit string\n",
                "degree|deg_credits|integer NOT NULL\n",
                "class|meet_room|6-digit string\n",
                "program|delivery|boolean\n",
                "student|stud_email|100-digit string"
            ],
            "metadata": {
                "azdata_cell_guid": "53def6ec-82fb-4d95-a1f8-d224bc66c752"
            }
        },
        {
            "cell_type": "code",
            "source": [
                ""
            ],
            "metadata": {
                "azdata_cell_guid": "5ff65574-d107-42a1-9c7d-83260cff1d5a",
                "tags": []
            },
            "outputs": [],
            "execution_count": null
        },
        {
            "cell_type": "markdown",
            "source": [
                "## DROP COLUMN"
            ],
            "metadata": {
                "azdata_cell_guid": "08366194-63d1-487c-a191-66b132c3e3b6"
            }
        },
        {
            "cell_type": "markdown",
            "source": [
                "### Step 3: Drop the following columns from their respective tables. The correct syntax is below.\n",
                "\n",
                "```\n",
                "ALTER TABLE [table_name]\n",
                "DROP COLUMN [column_name];\n",
                "```\n",
                "\n",
                "Column s\\_start\\_date"
            ],
            "metadata": {
                "azdata_cell_guid": "680576c7-bd8c-42a0-ad86-10ac7ba7730d"
            }
        },
        {
            "cell_type": "code",
            "source": [
                ""
            ],
            "metadata": {
                "azdata_cell_guid": "0b3fa54c-4045-4dde-b613-dbee99c79a45",
                "tags": []
            },
            "outputs": [],
            "execution_count": null
        },
        {
            "cell_type": "markdown",
            "source": [
                "## ALTER COLUMN / DATA TYPE"
            ],
            "metadata": {
                "azdata_cell_guid": "6ff57469-28c4-4223-8f48-81a60fad9ff7"
            }
        },
        {
            "cell_type": "markdown",
            "source": [
                "### Step 4: Change the data type for the class\\_status column in the class table to the BOOLEAN data type. The syntax to change the data type is below.\n",
                "\n",
                "```\n",
                "ALTER TABLE [table_name]\n",
                "ALTER COLUMN [column_name] TYPE [data type];\n",
                "```"
            ],
            "metadata": {
                "azdata_cell_guid": "249d3ce1-3c53-459f-8e3c-047572d8f223"
            }
        },
        {
            "cell_type": "code",
            "source": [
                ""
            ],
            "metadata": {
                "azdata_cell_guid": "830e0a60-2382-4e94-853c-d365676e1bf0",
                "tags": []
            },
            "outputs": [],
            "execution_count": null
        },
        {
            "cell_type": "markdown",
            "source": [
                "You probably noticed when you ran that last cell that the database returned an error. In PostgreSQL certain data types cannot be cast as other data types. This is not a limitation of the cast() function, but a limitation of the storage attributes associated to the two different data type.\n",
                "\n",
                "A BOOLEAN data type is stored in a 1-byte array. The values of a BOOLEAN data type in postgreSQL are 1,0, NULL/Yes,No, NULL, and TRUE, FALSE, NULL. The database will allow the use of any of the available castings of arguments as long as it can determine that there is a boolean equivalent to the casting. However, you cannot literally cast another data type to boolean. Why? Because of the amount of strage disparity between the two data types.\n",
                "\n",
                "A VARCHAR() data type is stroed in an array that is 1-byte plus the length of the value. So if we store a 5-byte string, the storage array is 6 bytes. Since storage reequirement is over the 1 byte used for a boolean data type, we cannot cast the boolean data type in the table column.\n",
                "\n",
                "However, thers is a workaround. This is not something that is covered in this week's lesson, but it is important to understand. This content is desinged for later in the course when we work with casting. \n",
                "\n",
                "To overcome the casting issue, we simply need to create a new column with the appropriate casting, set some conditions, port the data to the new column and then delete the old column. We can overcome the storage disparity in the parser by coercing the 1 byte array into the original column.\n",
                "\n",
                "Let's take a look.\n",
                "\n",
                "Step 1: Rename the original variable to include a name appropriate for the new data type\n",
                "\n",
                "```\n",
                "ALTER TABLE class\n",
                "RENAME COLUMN class_status \n",
                "TO boolean_class_status;\n",
                "```\n",
                "\n",
                "Step 2: Create a new column to store any of the original values so that we can make a comparison. We will set the default to a white space\n",
                "\n",
                "```\n",
                "ALTER TABLE class\n",
                "ADD COLUMN class_status VARCHAR(10) NOT NULL DEFAULT '';\n",
                "```\n",
                "\n",
                "Step 3: Apply the values to the new class\\_status variable using the values in the boolean\\_class\\_status column\n",
                "\n",
                "```\n",
                "UPDATE class \n",
                "SET class_status = '1' \n",
                "WHERE boolean_class_status = 'Active';\n",
                "\n",
                "UPDATE class \n",
                "SET mail_notification = '0' \n",
                "WHERE boolean_class_status = 'Inactive';\n",
                "```\n",
                "\n",
                "In three steps we have overcome the boolean casting limitation. This example will not work in out database as we have not entered any data yet. That comes in the next module. However, I wanted you to see that you can overcome certain limitation in the system with a bit of ingenuity.\n",
                "\n",
                "So, in preparation for entering data into the table, let's set the default value for this field to 1, then we can come back later and use the above method to change the column after we insert data into the table.\n",
                "\n",
                "### Step 5: Set the default value of the class\\_status column to be '0' so that all classes are inactive unless otherwise indicated."
            ],
            "metadata": {
                "azdata_cell_guid": "e8636232-87f2-4505-8ecf-63b5fd241d81"
            }
        },
        {
            "cell_type": "code",
            "source": [
                ""
            ],
            "metadata": {
                "azdata_cell_guid": "e4a73a81-ec31-4281-ab31-2d2c423af6b0",
                "tags": []
            },
            "outputs": [],
            "execution_count": null
        },
        {
            "cell_type": "markdown",
            "source": [
                "## RENAME COLUMN"
            ],
            "metadata": {
                "azdata_cell_guid": "62217168-630f-4150-83b4-f493edaa57c1"
            }
        },
        {
            "cell_type": "markdown",
            "source": [
                "### Step 5: Change the name of table columns to reflect more accurately. The RENAME COLUMN syntax is provided below.\n",
                "\n",
                "```sql\n",
                "ALTER TABLE [table_name]\n",
                "RENAME [column] TO [column_name];\n",
                "```\n",
                "\n",
                "Rename all columns in the student table to contain the prefix 'stud_'."
            ],
            "metadata": {
                "azdata_cell_guid": "475d20ec-acf1-4dc2-8951-7f9ad2d50562"
            }
        },
        {
            "cell_type": "code",
            "source": [
                ""
            ],
            "metadata": {
                "azdata_cell_guid": "701ffddf-a73c-4419-9179-3d789da3d872",
                "tags": []
            },
            "outputs": [],
            "execution_count": null
        },
        {
            "cell_type": "markdown",
            "source": [
                "## SET DEFAULT\n",
                "\n",
                "### Step 6: Set the default value for a column using the below table. The SET DEFAULT syntax is provided below.\n",
                "\n",
                "```sql\n",
                "ALTER TABLE [table_name]\n",
                "ALTER COLUMN [column_name]\n",
                "SET DEFAULT [value];\n",
                "```\n",
                "\n",
                "Table|Column|Value\n",
                ":---|:---:|---:\n",
                "class|class_meet_days|'M','T','W','TH','F'\n",
                "student|stud_honors|'0'\n",
                "\n",
                ""
            ],
            "metadata": {
                "azdata_cell_guid": "11eee987-d603-480f-9d1e-a3cc0ac22115"
            }
        },
        {
            "cell_type": "code",
            "source": [
                ""
            ],
            "metadata": {
                "azdata_cell_guid": "3b05c86a-742e-4163-924a-d9efb70335a1",
                "tags": []
            },
            "outputs": [],
            "execution_count": null
        },
        {
            "cell_type": "markdown",
            "source": [
                "## ADD CONSTRAINT"
            ],
            "metadata": {
                "azdata_cell_guid": "80d72c0a-e41b-45dc-aacc-84471c710af1"
            }
        },
        {
            "cell_type": "markdown",
            "source": [
                "### Step 7: Add table foreign key constraints. The ADD CONSTRAINT syntax is provided below.\n",
                "\n",
                "```\n",
                "ALTER TABLE [table_name]\n",
                "ADD CONSTRAINT [constrsint_name] \n",
                "FOREIGN KEY (foreign_key column)\n",
                "REFERENCES [table_name](table_primary_key_column);\n",
                "```\n",
                "\n",
                "Add a foreign key constraint to the following tables and columns.\n",
                "\n",
                "| Table | Column | Reference |\n",
                "| --- | --- | --- |\n",
                "| class | class\\_professor | faculty.fac\\_id |\n",
                "| degree | deg\\_school\\_id | school.school\\_id |\n",
                "| degree | deg\\_prog\\_id | prog\\_id |\n",
                "| faculty | fac\\_school\\_id | school.school\\_id |\n",
                "| faculty | fac\\_program\\_id | program.prog\\_id |\n",
                "| program | prog\\_school\\_id | school.school\\_id |\n",
                "| program | prog\\_director\\_id | faculty.fac\\_id |\n",
                "| school | school\\_director\\_id | faculty.fac\\_id |\n",
                "| student | stud\\_academic\\_lvl | acad\\_lvl.acad\\_id |\n",
                "| student | stud\\_program\\_id | program.prog\\_id |\n",
                "| student | stud\\_school\\_id | school.school\\_id |\n",
                "| student | stud\\_degree\\_id | degree.deg\\_id |\n",
                "| term\\_class | term\\_id | term.term\\_id |\n",
                "| term\\_class | class\\_id | class.class\\_id |\n",
                "| term\\_class | fac\\_id | faculty.fac\\_id |\n",
                "| term\\_people | term\\_id | term.term\\_id |\n",
                "| term\\_people | class\\_id | class.class\\_id |\n",
                "| term\\_people | fac\\_id | faculty.fac\\_id |\n",
                "\n",
                "HINT: copy the contents of this table and paste it into the code cell below. Then all you need to do it type your keywords and format the query. It saves a lot of time."
            ],
            "metadata": {
                "azdata_cell_guid": "2a2848a4-6992-4abc-9689-2ec78b8fafb0"
            }
        },
        {
            "cell_type": "code",
            "source": [
                ""
            ],
            "metadata": {
                "azdata_cell_guid": "3a0eb086-8aa5-4cd6-99a1-c1e603775504",
                "tags": []
            },
            "outputs": [],
            "execution_count": null
        },
        {
            "cell_type": "markdown",
            "source": [
                "If you refresh your Connection tree you should see the constraints showing under the Constraints folder of each table. It may take a bit for them to show on the tree, but they are there."
            ],
            "metadata": {
                "azdata_cell_guid": "da99af25-01e3-4412-bf84-25e21a3469ad"
            }
        },
        {
            "cell_type": "markdown",
            "source": [
                "## CHECK"
            ],
            "metadata": {
                "azdata_cell_guid": "19898c45-3bc8-469f-bbf4-fcc8e5602b5d"
            }
        },
        {
            "cell_type": "markdown",
            "source": [
                "### Step 8: Use the CHECK argument to create limiting conditions on data entered into column. The CHECK argument syntax is provided below.\n",
                "\n",
                "```\n",
                "ALTER TABLE [table_name]\n",
                "ADD CONSTRAINT [constraint_name]\n",
                "CHECK ([column or value] [operand conditions] [column or value]);\n",
                "```\n",
                "\n",
                "Create a limitation on the class size in the class\\_size column of the class table. Set the limit so that no class contains greater than 20 people."
            ],
            "metadata": {
                "azdata_cell_guid": "eda9a5b9-2fa2-47f4-92dd-8575f76c7c52"
            }
        },
        {
            "cell_type": "code",
            "source": [
                ""
            ],
            "metadata": {
                "azdata_cell_guid": "b28b3bb5-4339-4d0b-9984-2764de370652",
                "tags": []
            },
            "outputs": [],
            "execution_count": null
        },
        {
            "cell_type": "markdown",
            "source": [
                "## UNIQUE"
            ],
            "metadata": {
                "azdata_cell_guid": "a5118fad-3eb3-4ff9-af9e-bbae3b44b686"
            }
        },
        {
            "cell_type": "markdown",
            "source": [
                "### Step 8: Create a unique constraint on columns within a table. The UNIQUE syntax is provided below.\n",
                "\n",
                "```\n",
                "ALTER TABLE [table_name]\n",
                "ADD CONSTRAINT [constraint_name]\n",
                "UNIQUE (column_name);\n",
                "```\n",
                "\n",
                "Add a unique constraint to the student and faculty email address columns"
            ],
            "metadata": {
                "azdata_cell_guid": "470909a7-1ae0-440f-97dc-bb965a87cfa4"
            }
        },
        {
            "cell_type": "code",
            "source": [
                ""
            ],
            "metadata": {
                "azdata_cell_guid": "7063b55a-9555-4444-a915-c65da6e13ec7",
                "tags": []
            },
            "outputs": [],
            "execution_count": null
        },
        {
            "cell_type": "markdown",
            "source": [
                "## RENAME\n",
                "\n",
                "### Step 10: Rename a table or column to better represent its true value and to conform with pragramming standards. The RENAME arguent syntax is provided below.\n",
                "\n",
                "```\n",
                "ALTER TABLE [table_name]\n",
                "RENAME TO [new_table_name];\n",
                "\n",
                "ALTER TABLE [table_name]\n",
                "RENAME COLUMN [column_name] TO [new_column_name];\n",
                "```\n",
                "\n",
                "1. The 'class' table is representative of its contents, but is also a reserved word in PosrgreSQL. Rename the 'class' table to 'course' to continue to reflect its true nature but remove the reserved word from the table. HINT: You will also need to rename all columns.\n",
                "    \n",
                "2. Rename the 'stud\\_credit\\_hrs' column in the 'student' table to 'stud\\_credits'."
            ],
            "metadata": {
                "azdata_cell_guid": "6535870c-7722-438a-bebb-76df397a0106"
            }
        },
        {
            "cell_type": "code",
            "source": [
                ""
            ],
            "metadata": {
                "azdata_cell_guid": "9c78a2f9-7d80-4922-850c-37fa811ef635",
                "tags": []
            },
            "outputs": [],
            "execution_count": null
        }
    ]
}