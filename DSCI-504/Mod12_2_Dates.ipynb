{
    "metadata": {
        "kernelspec": {
            "name": "SQL",
            "display_name": "SQL",
            "language": "sql"
        },
        "language_info": {
            "name": "sql",
            "version": ""
        }
    },
    "nbformat_minor": 2,
    "nbformat": 4,
    "cells": [
        {
            "cell_type": "markdown",
            "source": [
                "# Module 12, Lecture 12.2\n",
                "\n",
                "## Dealing with DATE/TIME data types"
            ],
            "metadata": {
                "azdata_cell_guid": "d96b3db2-1402-42ff-8258-339331c9bc87"
            }
        },
        {
            "cell_type": "markdown",
            "source": [
                "Part 1: Return the number of days in February in 2016"
            ],
            "metadata": {
                "azdata_cell_guid": "234e8186-81f6-467e-aa3b-9f035d71d4be"
            }
        },
        {
            "cell_type": "code",
            "source": [
                ""
            ],
            "metadata": {
                "azdata_cell_guid": "c8511001-e8dc-4b66-8ee2-6e241b560721"
            },
            "outputs": [],
            "execution_count": null
        },
        {
            "cell_type": "markdown",
            "source": [
                "Is 2016 a leap year?\n",
                "\n",
                "###"
            ],
            "metadata": {
                "azdata_cell_guid": "511ac2cc-9a7b-444b-bac9-8341642eac28"
            }
        },
        {
            "cell_type": "markdown",
            "source": [
                "Part 2: Select the sum of all payments in the dvdrental database in July 2007"
            ],
            "metadata": {
                "azdata_cell_guid": "fc99c29c-ea3f-4726-819c-2df574f473a3"
            }
        },
        {
            "cell_type": "code",
            "source": [
                ""
            ],
            "metadata": {
                "azdata_cell_guid": "dea6a0f4-fce2-4860-a7d5-7c6baddd33f0"
            },
            "outputs": [],
            "execution_count": null
        },
        {
            "cell_type": "markdown",
            "source": [
                "What is the sum of July's payments?\n",
                "\n",
                "###"
            ],
            "metadata": {
                "azdata_cell_guid": "6f62faf7-ab6d-4e4e-a962-ca9280a38641"
            }
        },
        {
            "cell_type": "markdown",
            "source": [
                "Part 3: SELECT the number of months in the payment table where there were rentals for $10.99"
            ],
            "metadata": {
                "azdata_cell_guid": "bb4f13ab-cd48-4374-872d-75c3b984502f"
            }
        },
        {
            "cell_type": "code",
            "source": [
                ""
            ],
            "metadata": {
                "azdata_cell_guid": "456632dd-a00a-41fc-a0c7-06ab2341caf1",
                "tags": []
            },
            "outputs": [],
            "execution_count": null
        },
        {
            "cell_type": "markdown",
            "source": [
                "How many months had payments of 10.99?\n",
                "\n",
                "###"
            ],
            "metadata": {
                "azdata_cell_guid": "7acc89ba-78d1-4c52-9b0e-d339bbbf7436"
            }
        },
        {
            "cell_type": "markdown",
            "source": [
                "Part 4: Execute the same query above to find the difference in days form the first payment date and the last payment date where the payment amount was 10.99."
            ],
            "metadata": {
                "azdata_cell_guid": "e969cb93-9974-4d31-b2c8-63682b018a73"
            }
        },
        {
            "cell_type": "code",
            "source": [
                ""
            ],
            "metadata": {
                "azdata_cell_guid": "272283af-de0e-4263-af44-c92ea4dc88af"
            },
            "outputs": [],
            "execution_count": null
        },
        {
            "cell_type": "markdown",
            "source": [
                "What was the first payment date in the range?\n",
                "\n",
                "###   \n",
                "\n",
                "What was the last payment date in the range?\n",
                "\n",
                "###   \n",
                "\n",
                "How many days in the period had payments of 10.99?\n",
                "\n",
                "###"
            ],
            "metadata": {
                "azdata_cell_guid": "a9c0f6f8-c400-43e8-819c-04dabe1c799a"
            }
        },
        {
            "cell_type": "markdown",
            "source": [
                "Part 5:\n",
                "\n",
                "SELECT the sum of daily payments between 1 Jan 2007 and 1 April 2007. Display the payments as a line chart using ADS's built in charting tool."
            ],
            "metadata": {
                "azdata_cell_guid": "93100785-7744-44e9-a146-b3c4552e78b8"
            }
        },
        {
            "cell_type": "code",
            "source": [
                ""
            ],
            "metadata": {
                "azdata_cell_guid": "3ebf664a-e756-4c50-9360-c08300215c60"
            },
            "outputs": [],
            "execution_count": null
        }
    ]
}