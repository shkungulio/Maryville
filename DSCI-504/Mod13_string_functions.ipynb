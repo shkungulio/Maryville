{
    "metadata": {
        "kernelspec": {
            "name": "SQL",
            "display_name": "SQL",
            "language": "sql"
        },
        "language_info": {
            "name": "sql",
            "version": ""
        }
    },
    "nbformat_minor": 2,
    "nbformat": 4,
    "cells": [
        {
            "cell_type": "markdown",
            "source": [
                "# Lecture 13\n",
                "\n",
                "## Working With Strings in PostgreSQL"
            ],
            "metadata": {
                "azdata_cell_guid": "32a94dc7-77fd-48c9-b7c3-d1383797b159"
            }
        },
        {
            "cell_type": "markdown",
            "source": [
                "Part 1: Create a table of comments to use for analysis. Execute the below cell to create the table."
            ],
            "metadata": {
                "azdata_cell_guid": "7c595181-6d62-4ad6-845a-7ca807a6a945"
            }
        },
        {
            "cell_type": "code",
            "source": [
                "DROP TABLE IF EXISTS comments;\n",
                "\n",
                "CREATE TABLE comments (\n",
                "    id int\n",
                "    ,rating int\n",
                "    ,comment text\n",
                ");\n",
                "\n",
                "INSERT INTO comments VALUES (1,10,'The best product I have ever purchased. I don''t know what I did without this over before'),\n",
                "(2,7,'Customer service assisted me with everything I needed. Wait times were a bit long, though.'),\n",
                "(3,9,'I absolutely love the desk! There wrere some missing pieces, but customer service got them out to me right away.'),\n",
                "(4,5,'The shipping took way too long. The chair is okay. It serves its purpose.'),\n",
                "(5,3,'The item arrived broken and customer service was no help whatsoever.'),\n",
                "(6,4,'Alan was extrenly helpful but the management were rude!'),\n",
                "(7,7,'I shop here often because of teh selection. I like the variety. Everyone is friendly.'),\n",
                "(8,2,'Joe has to be the rudest person I have ever met. I don''t know why he still works there.'),\n",
                "(9,10,'You have the best selection around. Nobody compares to your deals and selection. Top notch!'),\n",
                "(10,6,'I would have given 10 stars, but the product I ordered was sold out and the website did not reflect this.');"
            ],
            "metadata": {
                "azdata_cell_guid": "4361f732-cf1a-406a-b943-7dad8bc933f5"
            },
            "outputs": [],
            "execution_count": null
        },
        {
            "cell_type": "markdown",
            "source": [
                "Part 2: Use the above table to separate the words and rating into individual rows."
            ],
            "metadata": {
                "azdata_cell_guid": "9fbffb84-98c2-49d4-9b7d-2f42dfd6d462"
            }
        },
        {
            "cell_type": "code",
            "source": [
                ""
            ],
            "metadata": {
                "azdata_cell_guid": "b4acccad-386f-4043-875e-aab541a12b86"
            },
            "outputs": [],
            "execution_count": null
        },
        {
            "cell_type": "markdown",
            "source": [
                "Part 3: Create a lexicon of the words using the TS\\_LEXIZE() function. be sure to properly stem the words."
            ],
            "metadata": {
                "azdata_cell_guid": "c2c274ab-c222-4d9e-b3b0-7cd54a615ee6"
            }
        },
        {
            "cell_type": "code",
            "source": [
                ""
            ],
            "metadata": {
                "azdata_cell_guid": "b0683772-6d82-49e7-91b5-55795ab09f72",
                "tags": []
            },
            "outputs": [],
            "execution_count": null
        },
        {
            "cell_type": "markdown",
            "source": [
                "Part 4: Compute the average occurrence of each word. List the occurrences by most occurring first. Note: you may need to adjust your conditional criteria to output enough variety in your tokens."
            ],
            "metadata": {
                "azdata_cell_guid": "ef62614f-7032-4516-accc-a8a16c185dea"
            }
        },
        {
            "cell_type": "code",
            "source": [
                ""
            ],
            "metadata": {
                "azdata_cell_guid": "3e9372bd-82e3-43a7-8db2-49d3ab05b432"
            },
            "outputs": [],
            "execution_count": null
        },
        {
            "cell_type": "markdown",
            "source": [
                "Part 5: Select the rows where the term 'best' is in the comment."
            ],
            "metadata": {
                "azdata_cell_guid": "9a7ef95a-9685-4549-95f8-98037b4e6ab6"
            }
        },
        {
            "cell_type": "code",
            "source": [
                ""
            ],
            "metadata": {
                "azdata_cell_guid": "3e4b18b5-7b56-4c25-883f-d96a0b01b47b"
            },
            "outputs": [],
            "execution_count": null
        },
        {
            "cell_type": "markdown",
            "source": [
                "Part 6: Find all film titles with the word 'day' in them using a POSIX expression. Return the film\\_id, film\\_title, and releast year."
            ],
            "metadata": {
                "azdata_cell_guid": "b39e40fc-4db1-4e07-a7e0-d51c9132de78"
            }
        },
        {
            "cell_type": "code",
            "source": [
                ""
            ],
            "metadata": {
                "azdata_cell_guid": "87e8e015-f25c-4625-836b-8fb75aebee24"
            },
            "outputs": [],
            "execution_count": null
        },
        {
            "cell_type": "markdown",
            "source": [
                "Part 7: Use a regular expression to print your last, first MI. from a string consisting of your first middle and last name."
            ],
            "metadata": {
                "azdata_cell_guid": "2df5aae2-0fc2-4c26-8551-d968801130ad"
            }
        },
        {
            "cell_type": "code",
            "source": [
                ""
            ],
            "metadata": {
                "azdata_cell_guid": "3f134784-d820-4ac1-8463-380191a9d4b9"
            },
            "outputs": [],
            "execution_count": null
        },
        {
            "cell_type": "markdown",
            "source": [
                "Part 8: Write your Maryville email address as a string and separate your user name from the Maryville email domain."
            ],
            "metadata": {
                "azdata_cell_guid": "2127147d-6b37-433c-a478-bfa30aec98a9"
            }
        },
        {
            "cell_type": "code",
            "source": [
                ""
            ],
            "metadata": {
                "azdata_cell_guid": "e493f9c4-5975-4c9f-a4ef-a05aa0120db5"
            },
            "outputs": [],
            "execution_count": null
        },
        {
            "cell_type": "markdown",
            "source": [
                "Part 9: Repeat the operation above, but keep the domain instead."
            ],
            "metadata": {
                "azdata_cell_guid": "45a93f85-6398-4010-9e2e-3ba21de050ff"
            }
        },
        {
            "cell_type": "code",
            "source": [
                ""
            ],
            "metadata": {
                "azdata_cell_guid": "d3573872-07b4-44b7-ba3e-94c181713196"
            },
            "outputs": [],
            "execution_count": null
        },
        {
            "cell_type": "markdown",
            "source": [
                "Part 10: Write a string of your phone number in the format XXXXXXXXX but replace the area code with the number 9."
            ],
            "metadata": {
                "azdata_cell_guid": "6db3e533-e992-436e-b8ac-5c763a14684b"
            }
        },
        {
            "cell_type": "code",
            "source": [
                ""
            ],
            "metadata": {
                "azdata_cell_guid": "943127eb-a5b1-442e-b6ae-1d8e4264be97"
            },
            "outputs": [],
            "execution_count": null
        },
        {
            "cell_type": "markdown",
            "source": [
                "Part 11: Create an MD5 hash of the following strings:\n",
                "\n",
                "  \n",
                "\n",
                "Maryville University\n",
                "\n",
                "Data Science\n",
                "\n",
                "\\[Your Name: First Last\\]"
            ],
            "metadata": {
                "azdata_cell_guid": "ba2d4b8f-6b21-459e-b8ee-6893cb5b7ccd"
            }
        },
        {
            "cell_type": "code",
            "source": [
                ""
            ],
            "metadata": {
                "azdata_cell_guid": "19d9e848-05ed-4fd2-9958-828d1262bf99"
            },
            "outputs": [],
            "execution_count": null
        },
        {
            "cell_type": "markdown",
            "source": [
                "Part 12: Concatenate your name and separate them with a tilde (~)"
            ],
            "metadata": {
                "azdata_cell_guid": "46b14b90-6c3b-439e-a944-a687b92f082d"
            }
        },
        {
            "cell_type": "code",
            "source": [
                ""
            ],
            "metadata": {
                "azdata_cell_guid": "9fd6c4a9-d92f-424c-836a-36b6303cf528"
            },
            "outputs": [],
            "execution_count": null
        }
    ]
}