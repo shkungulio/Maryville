{
    "metadata": {
        "kernelspec": {
            "name": "SQL",
            "display_name": "SQL",
            "language": "sql"
        },
        "language_info": {
            "name": "sql",
            "version": ""
        }
    },
    "nbformat_minor": 2,
    "nbformat": 4,
    "cells": [
        {
            "cell_type": "markdown",
            "source": [
                "# DSCI 504\n",
                "\n",
                "## Week 2: Building the OPC Database\n",
                "\n",
                "### Student Name: Seif Kungulio"
            ],
            "metadata": {
                "azdata_cell_guid": "800afac1-723c-43d8-bed1-9a1473526a3d"
            },
            "attachments": {}
        },
        {
            "cell_type": "markdown",
            "source": [
                "Assignment Objectives:\n",
                "\n",
                "1. Build a database schema\n",
                "2. Build database tables\n",
                "3. Identify and establish Primary and Foreign Keys\n",
                "4. Identify and establish key table Constraints\n",
                "5. Import data into PostgreSQL\n",
                "6. Query a table"
            ],
            "metadata": {
                "azdata_cell_guid": "e926db60-83fa-45b0-8abb-5fff6d5a190b"
            },
            "attachments": {}
        },
        {
            "cell_type": "markdown",
            "source": [
                "**Step 1: Create a new schema named 'dsci\\_504'.**"
            ],
            "metadata": {
                "azdata_cell_guid": "e15ed8e8-a114-4bb1-91dc-347fcf0e62bd"
            },
            "attachments": {}
        },
        {
            "cell_type": "code",
            "source": [
                "--Enter your SQL code here\r\n",
                "CREATE SCHEMA dsci_504"
            ],
            "metadata": {
                "azdata_cell_guid": "67902443-54b0-405c-980c-5135fac050a7",
                "language": "sql"
            },
            "outputs": [
                {
                    "output_type": "display_data",
                    "data": {
                        "text/html": "CREATE SCHEMA"
                    },
                    "metadata": {}
                },
                {
                    "output_type": "display_data",
                    "data": {
                        "text/html": "Total execution time: 00:00:00.004"
                    },
                    "metadata": {}
                }
            ],
            "execution_count": 22
        },
        {
            "cell_type": "markdown",
            "source": [
                "**STEP 2: Create the necessary tables identified in the Assignemt 2 Table Structure document located in Canvas. Use a new code cell for each table.**"
            ],
            "metadata": {
                "azdata_cell_guid": "df31d0ba-68c3-4a9b-a3b6-ab38b9433eb4"
            },
            "attachments": {}
        },
        {
            "cell_type": "code",
            "source": [
                "--Enter your SQL code here. Use a single cell for each table/task. Do not enter all tables in one cell. It will be harder to troublsehoot errors.\r\n",
                "-- 1) Lookup: STATES\r\n",
                "CREATE TABLE dsci_504.states (\r\n",
                "  state_id   INT   PRIMARY KEY, --The numerical state id from 1 to 50\r\n",
                "  state      TEXT  NOT NULL --The two-digit state digraph\r\n",
                ");"
            ],
            "metadata": {
                "azdata_cell_guid": "53302837-8b34-4010-8419-6d641fd80d65",
                "language": "sql"
            },
            "outputs": [
                {
                    "output_type": "display_data",
                    "data": {
                        "text/html": "CREATE TABLE"
                    },
                    "metadata": {}
                },
                {
                    "output_type": "display_data",
                    "data": {
                        "text/html": "Total execution time: 00:00:00.021"
                    },
                    "metadata": {}
                }
            ],
            "execution_count": 23
        },
        {
            "cell_type": "code",
            "source": [
                "-- 2) CUSTOMERS\r\n",
                "CREATE TABLE dsci_504.customers (\r\n",
                "  cus_id         SERIAL PRIMARY KEY, --The numerical customer ID\r\n",
                "  cus_num        TEXT, --A unique customer number derived from the customer name and a generated number\r\n",
                "  cus_last_name  TEXT, --Customer Last Name\r\n",
                "  cus_first_name TEXT, --Customer First Name\r\n",
                "  cus_add_num    TEXT, --Numerical house number\r\n",
                "  cus_address    TEXT, --Line 2 address\r\n",
                "  cus_city       TEXT, --Customer City\r\n",
                "  state_id       INT       NOT NULL REFERENCES dsci_504.states(state_id), --State ID\r\n",
                "  cus_zip        TEXT, --5-digit zip code\r\n",
                "  cus_phone      TEXT, --10-digit telephone\r\n",
                "  cus_join_date  DATE, --Customer join date\r\n",
                "  cus_app_cd     TEXT, --Customer appreication code (1-7)\r\n",
                "  cus_app_num    TEXT --Customer loyalty program number\r\n",
                ");"
            ],
            "metadata": {
                "language": "sql",
                "azdata_cell_guid": "d133ddfb-db8b-4e28-9121-24022cf7dabb"
            },
            "outputs": [
                {
                    "output_type": "display_data",
                    "data": {
                        "text/html": "CREATE TABLE"
                    },
                    "metadata": {}
                },
                {
                    "output_type": "display_data",
                    "data": {
                        "text/html": "Total execution time: 00:00:00.099"
                    },
                    "metadata": {}
                }
            ],
            "execution_count": 24
        },
        {
            "cell_type": "code",
            "source": [
                "-- 3) WAREHOUSES\r\n",
                "CREATE TABLE dsci_504.warehouses (\r\n",
                "  warehouse_id   SERIAL PRIMARY KEY, --Warehouse ID\r\n",
                "  warehouse_name TEXT    NOT NULL, --Full city name of warehouse\r\n",
                "  state_id       INT     NOT NULL REFERENCES dsci_504.states(state_id) --Integer State ID\r\n",
                ");"
            ],
            "metadata": {
                "language": "sql",
                "azdata_cell_guid": "34f59f7f-9278-4a97-b6d9-e57a38eaafce"
            },
            "outputs": [
                {
                    "output_type": "display_data",
                    "data": {
                        "text/html": "CREATE TABLE"
                    },
                    "metadata": {}
                },
                {
                    "output_type": "display_data",
                    "data": {
                        "text/html": "Total execution time: 00:00:00.024"
                    },
                    "metadata": {}
                }
            ],
            "execution_count": 25
        },
        {
            "cell_type": "code",
            "source": [
                "-- 4) SUPPLIERS\r\n",
                "CREATE TABLE dsci_504.suppliers (\r\n",
                "  sup_id   SERIAL PRIMARY KEY, --Supplier ID number\r\n",
                "  sup_name TEXT    NOT NULL, --Supplier Text Name\r\n",
                "  sup_ctry TEXT --Supplier Country(s)\r\n",
                ");"
            ],
            "metadata": {
                "language": "sql",
                "azdata_cell_guid": "41e1a5f5-3516-45a0-a7bd-4886b9f7d38f"
            },
            "outputs": [
                {
                    "output_type": "display_data",
                    "data": {
                        "text/html": "CREATE TABLE"
                    },
                    "metadata": {}
                },
                {
                    "output_type": "display_data",
                    "data": {
                        "text/html": "Total execution time: 00:00:00.021"
                    },
                    "metadata": {}
                }
            ],
            "execution_count": 26
        },
        {
            "cell_type": "code",
            "source": [
                "-- 5) COMPONENTS\r\n",
                "CREATE TABLE dsci_504.components (\r\n",
                "  comp_id    SERIAL PRIMARY KEY, --Component ID Number\r\n",
                "  comp_name  TEXT    NOT NULL, --Name of Component\r\n",
                "  comp_cost  NUMERIC(10,2), --Cost of Component\r\n",
                "  sup_id     INT     REFERENCES dsci_504.suppliers(sup_id), --Supplier Integer ID\r\n",
                "  comp_cat   TEXT --Component category (bucketed)\r\n",
                ");"
            ],
            "metadata": {
                "language": "sql",
                "azdata_cell_guid": "926c7932-ea74-4309-898c-5e8861f2f7c9"
            },
            "outputs": [
                {
                    "output_type": "display_data",
                    "data": {
                        "text/html": "CREATE TABLE"
                    },
                    "metadata": {}
                },
                {
                    "output_type": "display_data",
                    "data": {
                        "text/html": "Total execution time: 00:00:00.014"
                    },
                    "metadata": {}
                }
            ],
            "execution_count": 27
        },
        {
            "cell_type": "code",
            "source": [
                "-- 6) BUILDS\r\n",
                "CREATE TABLE dsci_504.builds (\r\n",
                "  build_id   SERIAL PRIMARY KEY, --Build ID\r\n",
                "  build_name TEXT    NOT NULL --Build name\r\n",
                ");"
            ],
            "metadata": {
                "language": "sql",
                "azdata_cell_guid": "a02ba54d-a4f4-4025-9ec3-7d37a1e0ad08"
            },
            "outputs": [
                {
                    "output_type": "display_data",
                    "data": {
                        "text/html": "CREATE TABLE"
                    },
                    "metadata": {}
                },
                {
                    "output_type": "display_data",
                    "data": {
                        "text/html": "Total execution time: 00:00:00.034"
                    },
                    "metadata": {}
                }
            ],
            "execution_count": 28
        },
        {
            "cell_type": "code",
            "source": [
                "-- 7) BUILD_COMPONENTS (many-to-many Builds ↔ Components)\r\n",
                "CREATE TABLE dsci_504.build_components (\r\n",
                "  build_id INT NOT NULL REFERENCES dsci_504.builds(build_id), --Integer Build ID\r\n",
                "  comp_id  INT NOT NULL REFERENCES dsci_504.components(comp_id), --Integer Component ID\r\n",
                "  PRIMARY KEY (build_id, comp_id)\r\n",
                ");"
            ],
            "metadata": {
                "language": "sql",
                "azdata_cell_guid": "10491d64-e822-4364-95ad-0bfa681215b6"
            },
            "outputs": [
                {
                    "output_type": "display_data",
                    "data": {
                        "text/html": "CREATE TABLE"
                    },
                    "metadata": {}
                },
                {
                    "output_type": "display_data",
                    "data": {
                        "text/html": "Total execution time: 00:00:00.011"
                    },
                    "metadata": {}
                }
            ],
            "execution_count": 29
        },
        {
            "cell_type": "code",
            "source": [
                "-- 8) PRODUCTS\r\n",
                "CREATE TABLE dsci_504.products (\r\n",
                "  prod_id           SERIAL PRIMARY KEY, --Product ID\r\n",
                "  prod_cat_name     TEXT, --Product Category Name\r\n",
                "  prod_manufacturer TEXT, --Product Manufacturer (could be Supplier)\r\n",
                "  prod_name         TEXT    NOT NULL, --Product Name\r\n",
                "  prod_description  TEXT, --Product Description\r\n",
                "  prod_price        NUMERIC(10,2), --Product Price\r\n",
                "  prod_class        TEXT, --Product Classification\r\n",
                "  country_origin    TEXT --Country of Origin\r\n",
                ");"
            ],
            "metadata": {
                "language": "sql",
                "azdata_cell_guid": "470ec694-d4a1-485c-8ed4-8e477d3d3de0"
            },
            "outputs": [
                {
                    "output_type": "display_data",
                    "data": {
                        "text/html": "CREATE TABLE"
                    },
                    "metadata": {}
                },
                {
                    "output_type": "display_data",
                    "data": {
                        "text/html": "Total execution time: 00:00:00.015"
                    },
                    "metadata": {}
                }
            ],
            "execution_count": 30
        },
        {
            "cell_type": "code",
            "source": [
                "-- 9) PRODUCT_BUILDS (many-to-many Products ↔ Builds)\r\n",
                "CREATE TABLE dsci_504.product_builds (\r\n",
                "  prod_id  INT NOT NULL REFERENCES dsci_504.products(prod_id), --Integer Product ID\r\n",
                "  build_id INT NOT NULL REFERENCES dsci_504.builds(build_id), --Integer Build ID\r\n",
                "  PRIMARY KEY (prod_id, build_id)\r\n",
                ");"
            ],
            "metadata": {
                "language": "sql",
                "azdata_cell_guid": "ae5ccdc6-ff50-4d85-9c19-47cae32f4eb5"
            },
            "outputs": [
                {
                    "output_type": "display_data",
                    "data": {
                        "text/html": "CREATE TABLE"
                    },
                    "metadata": {}
                },
                {
                    "output_type": "display_data",
                    "data": {
                        "text/html": "Total execution time: 00:00:00.014"
                    },
                    "metadata": {}
                }
            ],
            "execution_count": 31
        },
        {
            "cell_type": "code",
            "source": [
                "-- 10) ORDERS (header)\r\n",
                "CREATE TABLE dsci_504.orders (\r\n",
                "  ord_id        SERIAL PRIMARY KEY, --Order ID\r\n",
                "  ord_date      DATE    NOT NULL, --Order Date\r\n",
                "  ord_tax_loc   INT, --Order Tax Location (State)\r\n",
                "  order_tot     NUMERIC(12,2), --Order Total (all lines)\r\n",
                "  ord_ship_add  BOOLEAN, --Order Ship Address is same as ordering customer\r\n",
                "  ord_ship_date DATE, --Order Ship Date\r\n",
                "  ord_track_num TEXT, --Order Tracking Number\r\n",
                "  warehouse_id  INT     REFERENCES dsci_504.warehouses(warehouse_id), --Integer Warehouse ID order shipped from\r\n",
                "  cus_id        INT     NOT NULL REFERENCES dsci_504.customers(cus_id) --Integer Customer ID placing order\r\n",
                ");"
            ],
            "metadata": {
                "language": "sql",
                "azdata_cell_guid": "c5f6fdc1-ced4-41f4-b157-19106de5a558"
            },
            "outputs": [
                {
                    "output_type": "display_data",
                    "data": {
                        "text/html": "CREATE TABLE"
                    },
                    "metadata": {}
                },
                {
                    "output_type": "display_data",
                    "data": {
                        "text/html": "Total execution time: 00:00:00.035"
                    },
                    "metadata": {}
                }
            ],
            "execution_count": 32
        },
        {
            "cell_type": "code",
            "source": [
                "-- 11) ORDER_ITEMS (detail)\r\n",
                "CREATE TABLE dsci_504.order_items (\r\n",
                "  ord_id     INT     NOT NULL REFERENCES dsci_504.orders(ord_id), --Integer Order ID\r\n",
                "  prod_id    INT     NOT NULL REFERENCES dsci_504.products(prod_id), --Integer Product ID\r\n",
                "  quantity   INT     NOT NULL, --Quantity ordered\r\n",
                "  line_total NUMERIC(12,2) NOT NULL, --Total for item in line on order\r\n",
                "  PRIMARY KEY (ord_id, prod_id)\r\n",
                ");"
            ],
            "metadata": {
                "language": "sql",
                "azdata_cell_guid": "9771d91b-0319-41ab-bf9b-fbd4286e9529"
            },
            "outputs": [
                {
                    "output_type": "display_data",
                    "data": {
                        "text/html": "CREATE TABLE"
                    },
                    "metadata": {}
                },
                {
                    "output_type": "display_data",
                    "data": {
                        "text/html": "Total execution time: 00:00:00.008"
                    },
                    "metadata": {}
                }
            ],
            "execution_count": 33
        },
        {
            "cell_type": "code",
            "source": [
                "-- 12) RETURNS (header)\r\n",
                "CREATE TABLE dsci_504.returns (\r\n",
                "  rac_id           SERIAL PRIMARY KEY, --Return Authorization ID\r\n",
                "  ord_id           INT    NOT NULL REFERENCES dsci_504.orders(ord_id), --Integer Order ID\r\n",
                "  cus_id           INT    NOT NULL REFERENCES dsci_504.customers(cus_id), --Integer Customer ID\r\n",
                "  warehouse_id     INT    NOT NULL REFERENCES dsci_504.warehouses(warehouse_id), --Integer Warehouse ID\r\n",
                "  return_date      DATE   NOT NULL, --Return Date (date approved)\r\n",
                "  tot_ret_item_cnt INT, --Number of items returned\r\n",
                "  tot_ret_amnt     NUMERIC(12,2) --Total of all returned items\r\n",
                ");"
            ],
            "metadata": {
                "language": "sql",
                "azdata_cell_guid": "7693fccf-be84-4836-9b38-689966cfb5b4"
            },
            "outputs": [
                {
                    "output_type": "display_data",
                    "data": {
                        "text/html": "CREATE TABLE"
                    },
                    "metadata": {}
                },
                {
                    "output_type": "display_data",
                    "data": {
                        "text/html": "Total execution time: 00:00:00.176"
                    },
                    "metadata": {}
                }
            ],
            "execution_count": 34
        },
        {
            "cell_type": "code",
            "source": [
                "-- 13) RETURN_ITEMS (detail)\r\n",
                "CREATE TABLE dsci_504.return_items (\r\n",
                "  rac_id        INT     NOT NULL REFERENCES returns(rac_id), --RAC ID\r\n",
                "  prod_id       INT     REFERENCES dsci_504.products(prod_id), --Integer Product ID\r\n",
                "  comp_id       INT     REFERENCES dsci_504.components(comp_id), -- Integer Component ID\r\n",
                "  return_qty    INT, --Number of items returned on the line\r\n",
                "  return_amount NUMERIC(12,2), --Amount of item\r\n",
                "  return_reason TEXT, --Returning reason (binned)\r\n",
                "  PRIMARY KEY (rac_id, prod_id, comp_id)\r\n",
                ");"
            ],
            "metadata": {
                "language": "sql",
                "azdata_cell_guid": "5531a2be-7f66-4fd0-8180-562a742ce07f"
            },
            "outputs": [
                {
                    "output_type": "error",
                    "evalue": "relation \"returns\" does not exist",
                    "ename": "",
                    "traceback": []
                },
                {
                    "output_type": "display_data",
                    "data": {
                        "text/html": "Total execution time: 00:00:00.015"
                    },
                    "metadata": {}
                }
            ],
            "execution_count": 35
        },
        {
            "cell_type": "code",
            "source": [
                "-- 14) TAXES (lookup)\r\n",
                "CREATE TABLE dsci_504.taxes (\r\n",
                "  tax_id   SERIAL PRIMARY KEY, --Integer ID\r\n",
                "  tax_desc TEXT, --Description of tax location (state)\r\n",
                "  tax_rate NUMERIC(5,4) --Tax rate in whole percent\r\n",
                ");"
            ],
            "metadata": {
                "language": "sql",
                "azdata_cell_guid": "048778f0-3ef3-4295-93d3-b0783ac0e600"
            },
            "outputs": [
                {
                    "output_type": "display_data",
                    "data": {
                        "text/html": "CREATE TABLE"
                    },
                    "metadata": {}
                },
                {
                    "output_type": "display_data",
                    "data": {
                        "text/html": "Total execution time: 00:00:00.020"
                    },
                    "metadata": {}
                }
            ],
            "execution_count": 36
        },
        {
            "cell_type": "code",
            "source": [
                "-- 15) ORDER_TAXES (bridge Orders ↔ Taxes)\r\n",
                "CREATE TABLE dsci_504.order_taxes (\r\n",
                "  ord_id INT NOT NULL REFERENCES dsci_504.orders(ord_id), --Integer Order ID\r\n",
                "  tax_id INT NOT NULL REFERENCES dsci_504.taxes(tax_id), --Integer Tax ID\r\n",
                "  PRIMARY KEY (ord_id, tax_id)\r\n",
                ");"
            ],
            "metadata": {
                "language": "sql",
                "azdata_cell_guid": "b183c2aa-6798-4502-9096-f712ede8e5dc"
            },
            "outputs": [
                {
                    "output_type": "display_data",
                    "data": {
                        "text/html": "CREATE TABLE"
                    },
                    "metadata": {}
                },
                {
                    "output_type": "display_data",
                    "data": {
                        "text/html": "Total execution time: 00:00:00.009"
                    },
                    "metadata": {}
                }
            ],
            "execution_count": 37
        },
        {
            "cell_type": "markdown",
            "source": [
                "**Step 3: Import the data into the OPC tables in PostgreSQL. Use a new code cell for each file.**"
            ],
            "metadata": {
                "azdata_cell_guid": "54900f51-56e1-4b21-b839-326374a158a2"
            },
            "attachments": {}
        },
        {
            "cell_type": "code",
            "source": [
                "--Enter your SQL code here. "
            ],
            "metadata": {
                "azdata_cell_guid": "1ce12eb3-0a0e-485d-bccd-f8cfbb2a0039",
                "language": "sql"
            },
            "outputs": [],
            "execution_count": null
        },
        {
            "cell_type": "markdown",
            "source": [
                "**Step 4: Execute a simple query on each table to verify the data in each table. Do not worry about missing data at this point. Limit your output to 10 lines using the following query syntax:**\n",
                "\n",
                "```\n",
                "SELECT * FROM [schema.table]LIMIT 5;\n",
                "\n",
                "```"
            ],
            "metadata": {
                "azdata_cell_guid": "a2036fb1-5001-44a9-aa56-ef2b19e08dc1"
            },
            "attachments": {}
        },
        {
            "cell_type": "markdown",
            "source": [
                "**Step 5: Create primary keys within each of the newly created tables to elevate the database to 2NF. Some tables already have unique key columns that simply need to be identified as a Primary Key. (If you did this above when building the tables, simply run the below query for each table).Others may require a new column to do this. Run the below query after each table to validate the contstraints are placed on the tables.**\n",
                "\n",
                "```\n",
                "\n",
                "SELECT con.*\n",
                "    FROM pg_catalog.pg_constraint con\n",
                "        INNER JOIN pg_catalog.pg_class rel ON rel.oid = con.conrelid\n",
                "        INNER JOIN pg_catalog.pg_namespace nsp ON nsp.oid = connamespace\n",
                "        WHERE nsp.nspname = '{schema name}'\n",
                "             AND rel.relname = '{table name}';\n",
                "\n",
                "```"
            ],
            "metadata": {
                "azdata_cell_guid": "994c2c3d-5c16-4081-94d6-28c7d137640f"
            },
            "attachments": {}
        },
        {
            "cell_type": "markdown",
            "source": [
                "**Step 6: CREATE foreign key associations for each table to elevate the database to 3NF. These should be done within each respective table. If this was completed above, note so and move on to Step 7.**"
            ],
            "metadata": {
                "azdata_cell_guid": "c536c9d5-cb5e-4736-af53-b4031da1c53a"
            },
            "attachments": {}
        },
        {
            "cell_type": "code",
            "source": [
                "--Enter your SQL code here"
            ],
            "metadata": {
                "azdata_cell_guid": "f4d5f0c9-7176-427b-baa6-79a7c6c60c25",
                "language": "sql"
            },
            "outputs": [],
            "execution_count": null
        },
        {
            "cell_type": "markdown",
            "source": [
                "**Step 7: Execute two queries of your choosing on two different tables in the database.**"
            ],
            "metadata": {
                "azdata_cell_guid": "0339e4e7-e0c7-44fa-9b83-7e3f18d9ed70"
            },
            "attachments": {}
        },
        {
            "cell_type": "code",
            "source": [
                "--Enter SQL code here"
            ],
            "metadata": {
                "azdata_cell_guid": "82dc9de8-73ad-4e8e-b24f-de943912e8d1",
                "language": "sql"
            },
            "outputs": [],
            "execution_count": null
        },
        {
            "cell_type": "code",
            "source": [
                "--Enter SQL code here"
            ],
            "metadata": {
                "language": "sql",
                "azdata_cell_guid": "38c74ccb-a361-4728-ac1b-a0413daf34d4"
            },
            "outputs": [],
            "execution_count": null
        }
    ]
}