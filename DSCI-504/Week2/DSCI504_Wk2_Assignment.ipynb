{
    "metadata": {
        "kernelspec": {
            "name": "SQL",
            "display_name": "SQL",
            "language": "sql"
        },
        "language_info": {
            "name": "sql",
            "version": ""
        }
    },
    "nbformat_minor": 2,
    "nbformat": 4,
    "cells": [
        {
            "cell_type": "markdown",
            "source": [
                "# DSCI 504\n",
                "\n",
                "## Week 2: Building the OPC Database\n",
                "\n",
                "### Student Name: [Replace these brackets with your name]"
            ],
            "metadata": {
                "azdata_cell_guid": "800afac1-723c-43d8-bed1-9a1473526a3d"
            },
            "attachments": {}
        },
        {
            "cell_type": "markdown",
            "source": [
                "Assignment Objectives:\n",
                "\n",
                "1. Build a database schema\n",
                "2. Build database tables\n",
                "3. Identify and establish Primary and Foreign Keys\n",
                "4. Identify and establish key table Constraints\n",
                "5. Import data into PostgreSQL\n",
                "6. Query a table"
            ],
            "metadata": {
                "azdata_cell_guid": "e926db60-83fa-45b0-8abb-5fff6d5a190b"
            },
            "attachments": {}
        },
        {
            "cell_type": "markdown",
            "source": [
                "**Step 1: Create a new schema named 'dsci\\_504'.**"
            ],
            "metadata": {
                "azdata_cell_guid": "e15ed8e8-a114-4bb1-91dc-347fcf0e62bd"
            },
            "attachments": {}
        },
        {
            "cell_type": "code",
            "source": [
                "--Enter your SQL code here"
            ],
            "metadata": {
                "azdata_cell_guid": "67902443-54b0-405c-980c-5135fac050a7",
                "language": "sql"
            },
            "outputs": [],
            "execution_count": null
        },
        {
            "cell_type": "markdown",
            "source": [
                "**STEP 2: Create the necessary tables identified in the Assignemt 2 Table Structure document located in Canvas. Use a new code cell for each table.**"
            ],
            "metadata": {
                "azdata_cell_guid": "df31d0ba-68c3-4a9b-a3b6-ab38b9433eb4"
            },
            "attachments": {}
        },
        {
            "cell_type": "code",
            "source": [
                "--Enter your SQL code here. Use a single cell for each table/task. Do not enter all tables in one cell. It will be harder to troublsehoot errors."
            ],
            "metadata": {
                "azdata_cell_guid": "53302837-8b34-4010-8419-6d641fd80d65",
                "language": "sql"
            },
            "outputs": [],
            "execution_count": null
        },
        {
            "cell_type": "markdown",
            "source": [
                "**Step 3: Import the data into the OPC tables in PostgreSQL. Use a new code cell for each file.**"
            ],
            "metadata": {
                "azdata_cell_guid": "54900f51-56e1-4b21-b839-326374a158a2"
            },
            "attachments": {}
        },
        {
            "cell_type": "code",
            "source": [
                "--Enter your SQL code here. "
            ],
            "metadata": {
                "azdata_cell_guid": "1ce12eb3-0a0e-485d-bccd-f8cfbb2a0039",
                "language": "sql"
            },
            "outputs": [],
            "execution_count": null
        },
        {
            "cell_type": "markdown",
            "source": [
                "**Step 4: Execute a simple query on each table to verify the data in each table. Do not worry about missing data at this point. Limit your output to 10 lines using the following query syntax:**\n",
                "\n",
                "```\n",
                "SELECT * FROM [schema.table]LIMIT 5;\n",
                "\n",
                "```"
            ],
            "metadata": {
                "azdata_cell_guid": "a2036fb1-5001-44a9-aa56-ef2b19e08dc1"
            },
            "attachments": {}
        },
        {
            "cell_type": "markdown",
            "source": [
                "**Step 5: Create primary keys within each of the newly created tables to elevate the database to 2NF. Some tables already have unique key columns that simply need to be identified as a Primary Key. (If you did this above when building the tables, simply run the below query for each table).Others may require a new column to do this. Run the below query after each table to validate the contstraints are placed on the tables.**\n",
                "\n",
                "```\n",
                "\n",
                "SELECT con.*\n",
                "    FROM pg_catalog.pg_constraint con\n",
                "        INNER JOIN pg_catalog.pg_class rel ON rel.oid = con.conrelid\n",
                "        INNER JOIN pg_catalog.pg_namespace nsp ON nsp.oid = connamespace\n",
                "        WHERE nsp.nspname = '{schema name}'\n",
                "             AND rel.relname = '{table name}';\n",
                "\n",
                "```"
            ],
            "metadata": {
                "azdata_cell_guid": "994c2c3d-5c16-4081-94d6-28c7d137640f"
            },
            "attachments": {}
        },
        {
            "cell_type": "markdown",
            "source": [
                "**Step 6: CREATE foreign key associations for each table to elevate the database to 3NF. These should be done within each respective table. If this was completed above, note so and move on to Step 7.**"
            ],
            "metadata": {
                "azdata_cell_guid": "c536c9d5-cb5e-4736-af53-b4031da1c53a"
            },
            "attachments": {}
        },
        {
            "cell_type": "code",
            "source": [
                "--Enter your SQL code here"
            ],
            "metadata": {
                "azdata_cell_guid": "f4d5f0c9-7176-427b-baa6-79a7c6c60c25",
                "language": "sql"
            },
            "outputs": [],
            "execution_count": null
        },
        {
            "cell_type": "markdown",
            "source": [
                "**Step 7: Execute two queries of your choosing on two different tables in the database.**"
            ],
            "metadata": {
                "azdata_cell_guid": "0339e4e7-e0c7-44fa-9b83-7e3f18d9ed70"
            },
            "attachments": {}
        },
        {
            "cell_type": "code",
            "source": [
                "--Enter SQL code here"
            ],
            "metadata": {
                "azdata_cell_guid": "82dc9de8-73ad-4e8e-b24f-de943912e8d1",
                "language": "sql"
            },
            "outputs": [],
            "execution_count": null
        },
        {
            "cell_type": "code",
            "source": [
                "--Enter SQL code here"
            ],
            "metadata": {
                "language": "sql",
                "azdata_cell_guid": "38c74ccb-a361-4728-ac1b-a0413daf34d4"
            },
            "outputs": [],
            "execution_count": null
        }
    ]
}