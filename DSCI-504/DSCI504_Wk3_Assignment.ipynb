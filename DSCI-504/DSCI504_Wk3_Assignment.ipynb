{
    "metadata": {
        "kernelspec": {
            "name": "SQL",
            "display_name": "SQL",
            "language": "sql"
        },
        "language_info": {
            "name": "sql",
            "version": ""
        }
    },
    "nbformat_minor": 2,
    "nbformat": 4,
    "cells": [
        {
            "cell_type": "markdown",
            "source": [
                "# DSCI 504\n",
                "\n",
                "## Week 3\n",
                "\n",
                "### Assignment: Selecting OPC Data for Review (Basic Queries)\n",
                "\n",
                "### Student Name: \\[Double-click this cell and 'Enter Your Name Here'. Replace this bracketed text with your name\\]"
            ],
            "metadata": {
                "azdata_cell_guid": "de93b073-b830-4fae-ac88-f4c6771dfbe8"
            },
            "attachments": {}
        },
        {
            "cell_type": "markdown",
            "source": [
                "<u>How to complete this assignment:</u> This Notebook has two types of cells, text, and code. Cell marked with **_Do not mark in this cell_** are not to be edited. Other text cells that require answers or typing may be edited by double-clicking on the cell and editing. Clicking off of the cell saves the text. Code cells are where you will enter in your SQL code. The results of your query will be displayed immediately beneath your code cell and are interactive. For full credit, you must write, execute, and save your code in your Notebook. The last cell of the Notebook has instructions for saving the Notebook as an html file for submission."
            ],
            "metadata": {
                "azdata_cell_guid": "496b3084-e2ef-402a-a1e2-3245c7aa4dd9"
            },
            "attachments": {}
        },
        {
            "cell_type": "markdown",
            "source": [
                "**_Do not mark in this cell_**\n",
                "\n",
                "### Assignment Objective: At the end of this assignment, you will be able to conduct queries on single tables within the OPC database, to include unary table self-joins."
            ],
            "metadata": {
                "azdata_cell_guid": "3ab63344-1a9c-4dd2-bc4c-3b0646b29c67"
            },
            "attachments": {}
        },
        {
            "cell_type": "markdown",
            "source": [
                "Scenario: You have been tasked with doing a data quality check for customers who share the same city... \n",
                "\n",
                "### 3.1 Question: Write a query using **only** the _customers_ table in the OPC database that returns **all** customers that share the **same** _customer city_. To qualify, <u>a city must be shared by more than one customer.</u>\n",
                "\n",
                "#### Note: To answer this question you may need to use a self-join on a single table. We cover joins in Week 5, so I am including the wireframe for a self-join below for you to use as a reference.\n",
                "\n",
                "<code>SELECT t1.col1 AS \"Name 1\",  \n",
                "t1.col2 as \"Name 2\",`\n",
                "t1.col as \"Another Column\"\n",
                "FROM table t1  \n",
                "JOIN table t2  \n",
                "ON t1.col = t2.col  \n",
                "AND t1.id <> t2.id  \n",
                "ORDER BY t1.col1, t1.col2;</code>"
            ],
            "metadata": {
                "azdata_cell_guid": "b6a3a27d-85ec-435c-be39-ba209f4f891f"
            },
            "attachments": {}
        },
        {
            "cell_type": "code",
            "source": [
                "--Enter your query here and replace this comment."
            ],
            "metadata": {
                "azdata_cell_guid": "4573eb34-26c2-4796-9aa5-6f652498f326",
                "language": "sql"
            },
            "outputs": [],
            "execution_count": null
        },
        {
            "cell_type": "markdown",
            "source": [
                "Scenario: You have been tasked with identifying products that may have the exact same product price...\n",
                "\n",
                "### 3.2 Question: Write a query that returns <b>all</b> <em>products</em> that share the <b>same</b> <em>product price</em>.\n",
                "\n",
                "#### Note: You may need to use the self-query template from above to assist in answering this question"
            ],
            "metadata": {
                "language": "sql",
                "azdata_cell_guid": "84856154-dcf8-4963-a5a4-d7b9b78bc615"
            },
            "attachments": {}
        },
        {
            "cell_type": "code",
            "source": [
                "--Enter your query here and replace this comment"
            ],
            "metadata": {
                "language": "sql",
                "azdata_cell_guid": "69e3990b-5e35-4dfc-854c-cfe0b1a94c46"
            },
            "outputs": [],
            "execution_count": null
        },
        {
            "cell_type": "markdown",
            "source": [
                "Scenario: You have been finding orders that do not have a ship date...\n",
                "\n",
                "### 3.3 Question: Write a query that returns <b>all</b> <em>orders</em> where the <em>shipping date</em> is <b>NULL</b>."
            ],
            "metadata": {
                "language": "sql",
                "azdata_cell_guid": "f674860f-9a43-4d45-ba09-2f1291bb3c25"
            },
            "attachments": {}
        },
        {
            "cell_type": "code",
            "source": [
                "--Enter your query here and replace this comment"
            ],
            "metadata": {
                "language": "sql",
                "azdata_cell_guid": "e7288d22-c827-4503-9d4e-f138cf40a74c"
            },
            "outputs": [],
            "execution_count": null
        },
        {
            "cell_type": "markdown",
            "source": [
                "Scenario: You have been tasked with identifying if any orders have tracking numbers that appear in more than one order...\n",
                "\n",
                "### 3.4 Question: Write a query that returns the count of <em>order tracking numbers</em> where the <em>order tracking number</em> has a count <b>Greater than 1</b>."
            ],
            "metadata": {
                "language": "sql",
                "azdata_cell_guid": "36007ed0-44cf-4288-8578-3e2b5e4feef5"
            },
            "attachments": {}
        },
        {
            "cell_type": "code",
            "source": [
                "--Enter your query here and replace this comment"
            ],
            "metadata": {
                "language": "sql",
                "azdata_cell_guid": "ce39ff53-515c-4e6c-8f7b-2e85dd010796"
            },
            "outputs": [],
            "execution_count": null
        },
        {
            "cell_type": "markdown",
            "source": [
                "Scenario: You have been finding build names that may sell well due to association with the movies Star Wars and Star Trek...\n",
                "\n",
                "### 3.5 Question: Write a query that returns <b>all</b> <em>build names</em> where the <em>build name</em> contains the word <b>star</b>."
            ],
            "metadata": {
                "language": "sql",
                "azdata_cell_guid": "1d333594-f027-4341-af15-de3b6a0cdc49"
            },
            "attachments": {}
        },
        {
            "cell_type": "code",
            "source": [
                "--Enter your query here and replace this comment"
            ],
            "metadata": {
                "language": "sql",
                "azdata_cell_guid": "2a73b8bb-c778-4111-9eec-06d70d986fde"
            },
            "outputs": [],
            "execution_count": null
        },
        {
            "cell_type": "markdown",
            "source": [
                "Scenario: You have been tasked with finding our how many hardtail products OPC currently produces...\n",
                "\n",
                "### 3.6 Question: Write a query that returns the count of <b>all</b> <em>products</em> where the <em>product description</em> is <b>Hardtail</b>. Do not use a SELECT *. Choose two meaningful columns from the <em>products</em> table to display."
            ],
            "metadata": {
                "azdata_cell_guid": "113e2a88-9b03-4b3b-b2f4-c41e7792f175"
            },
            "attachments": {}
        },
        {
            "cell_type": "code",
            "source": [
                "--Enter your query here and replace this comment"
            ],
            "metadata": {
                "azdata_cell_guid": "d09eabb6-b51f-4159-b114-e09365cd5168",
                "language": "sql"
            },
            "outputs": [],
            "execution_count": null
        },
        {
            "cell_type": "markdown",
            "source": [
                "Scenario: You have tasked with finding out how many customers are from each state...\n",
                "\n",
                "### 3.7 Question: Write a query that returns the <em>count</em> of <b>all</b> <em>customers</em> from each <em>state</em> in the <em>customers</em> table. Be sure to order by the state with the highest number of customers first."
            ],
            "metadata": {
                "language": "sql",
                "azdata_cell_guid": "b885f84b-159c-46da-8876-d0fff3c6eb76"
            },
            "attachments": {}
        },
        {
            "cell_type": "code",
            "source": [
                "--Enter your query here and replace this comment"
            ],
            "metadata": {
                "language": "sql",
                "azdata_cell_guid": "b0f025d9-04db-4d6e-b3d0-93fb0fbf4f85"
            },
            "outputs": [],
            "execution_count": null
        },
        {
            "cell_type": "markdown",
            "source": [
                "Scenario: You want to know what state has the highest customer count...\n",
                "\n",
                "### 3.7a Question: Write a query that returns the <em>state</em> with the <em>id</em> from the query above."
            ],
            "metadata": {
                "azdata_cell_guid": "a1e4757f-b46e-44d9-be08-32307548f942"
            },
            "attachments": {}
        },
        {
            "cell_type": "code",
            "source": [
                "--Enter your query here and replace this comment"
            ],
            "metadata": {
                "azdata_cell_guid": "0d78d431-a0bb-44a5-9684-d6a50235a6a5",
                "language": "sql"
            },
            "outputs": [],
            "execution_count": null
        },
        {
            "cell_type": "markdown",
            "source": [
                "Scenario: You have been tasked with finding all orders placed in a specific date range...\n",
                "\n",
                "### 3.8 Question: Write a query that returns <b>all</b> <em>orders</em> placed in <b>March 2019</b>."
            ],
            "metadata": {
                "language": "sql",
                "azdata_cell_guid": "77b6545f-ed24-4a44-b0fc-dafb191edcef"
            },
            "attachments": {}
        },
        {
            "cell_type": "code",
            "source": [
                "--Enter your query here and replace this comment"
            ],
            "metadata": {
                "azdata_cell_guid": "721cd96f-f258-412b-8ce7-b847f0790a16",
                "language": "sql"
            },
            "outputs": [],
            "execution_count": null
        },
        {
            "cell_type": "markdown",
            "source": [
                "Scenario: You have been tasked with finding all customers whom joined in a specific date range...\n",
                "\n",
                "### 3.9 Question: Write a query that returns <b>all</b> <em>customers</em> whom joined between <b>Sept 1 2001</b> and <b>Sept 30 2001</b>."
            ],
            "metadata": {
                "azdata_cell_guid": "e9c95e79-b029-42e9-bd5f-62dd97628df2"
            },
            "attachments": {}
        },
        {
            "cell_type": "code",
            "source": [
                "--Enter your query here and replace this comment"
            ],
            "metadata": {
                "azdata_cell_guid": "64a3a41c-e477-487e-bda7-7b0b0e364f92",
                "language": "sql"
            },
            "outputs": [],
            "execution_count": null
        },
        {
            "cell_type": "markdown",
            "source": [
                "### 3.10 Write your own query on a single table that identifies a piece of infroamtion that peaks your interest."
            ],
            "metadata": {
                "language": "sql",
                "azdata_cell_guid": "3c696862-f18c-40f3-ae20-a32d4fd49d74"
            },
            "attachments": {}
        },
        {
            "cell_type": "code",
            "source": [
                "--Enter your query here and replace this comment"
            ],
            "metadata": {
                "language": "sql",
                "azdata_cell_guid": "f12758cf-b39d-4651-995a-6f07c9f49dd9"
            },
            "outputs": [],
            "execution_count": null
        },
        {
            "cell_type": "markdown",
            "source": [
                "## Testing your Knowledge\n",
                "\n",
                "Answer the following questions:\n",
                "\n",
                "#### 1. Do you think the self-join you created in 3.1 assists in answering any valuable questions about how many cities have more than one customer? Why might this not be an optimal query\n",
                "[ answer here ]\n",
                "\n",
                "#### 2. What product price was shared by the most products in 3.2? How would you recommend reviewing additiona information about these products?\n",
                "[ answer here ]\n",
                "\n",
                "#### 3. Did 3.3 return any data? Is it common for a query to return nothing? What benefit may asking this type of a question have for an analyst?\n",
                "[ answer here ]\n",
                "\n",
                "#### 4. Where there any tracking numbers that appeared more than once in 3.4? Is this type of query useful in detecting duplicates? Did you go through any other tables and try to find duplicates? Why might you not find any in core tables?\n",
                "[ answer here ]\n",
                "\n",
                "#### 5. Go back and look at 3.9. You may need to run some additional queries to expand further into teh rabbit hole, but find two to four customers in the query results in 3.9 that may or may not be family. Is there anything unique about these customers? If so, what might it be?"
            ],
            "metadata": {
                "language": "sql",
                "azdata_cell_guid": "6bd8d103-aae8-4e4e-9582-fe2261ac0cfb"
            },
            "attachments": {}
        },
        {
            "cell_type": "markdown",
            "source": [
                "## Assignment Takeaway\n",
                "### <b>Summarize this week's assignment in your own words and identify what you think you learned? Was it valuable? What can be improved?</b>\n",
                "[ answer here ]"
            ],
            "metadata": {
                "azdata_cell_guid": "5d65d484-3758-482f-9886-90ee6962d98d"
            },
            "attachments": {}
        },
        {
            "cell_type": "markdown",
            "source": [
                "Copy the below code into a new Code cell and change the _Kernel_ above to _Python 3_. This will generate an html file of this Notebook in your current folder for submission. Submit the html file in Canvas.\n",
                "\n",
                "#### Note: You may need to install the kernel. If you system already has one, ADS will find it. Click Next, then Install. The Output will display below. Once done, you will see \"Jupyter is running at [http://localhost:8888/...\"](http://localhost:8888/...&quot;) This only needs to be done once.\n",
                "\n",
                "#### When you run the below code, if you see:\n",
                "\n",
                "\\[NbConvertApp\\] Converting notebook DSCI504\\_Wk2\\_Ass1\\_SimpleQueries.ipynb to html  \n",
                "\\[NbConvertApp\\] Writing 570001 bytes to DSCI504\\_Wk2\\_Ass1\\_SimpleQueries.html\n",
                "\n",
                "#### then you successfully saved your file to html and it will be in the current folder where your assignment file is located.\n",
                "\n",
                "`!jupyter nbconvert --to html DSCI504_Wk2_Ass1_SimpleQueries_Key.ipynb`"
            ],
            "metadata": {
                "azdata_cell_guid": "798775d7-abe8-4c16-b97c-33c18e0c0414"
            },
            "attachments": {}
        },
        {
            "cell_type": "code",
            "source": [
                "!jupyter nbconvert --to html DSCI504_Wk2_Ass1_SimpleQueries_Key.ipynb"
            ],
            "metadata": {
                "azdata_cell_guid": "4f32ad2b-32cb-4658-8710-9d9262167d51",
                "language": "sql"
            },
            "outputs": [],
            "execution_count": null
        }
    ]
}