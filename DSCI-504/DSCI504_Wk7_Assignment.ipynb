{
    "metadata": {
        "kernelspec": {
            "name": "SQL",
            "display_name": "SQL",
            "language": "sql"
        },
        "language_info": {
            "name": "sql",
            "version": ""
        }
    },
    "nbformat_minor": 2,
    "nbformat": 4,
    "cells": [
        {
            "cell_type": "markdown",
            "source": [
                "# DSCI 504\n",
                "\n",
                "## Week 7\n",
                "\n",
                "### Assignment: Using PostgreSQL to Support Other Data Science Tasks\n",
                "\n",
                "### Student Name: \\[Double-click this cell and 'Enter Your Name Here'. Replace this bracketed text with your name\\]"
            ],
            "metadata": {
                "azdata_cell_guid": "ceb090b4-1051-4084-8a47-0c418eea8927"
            },
            "attachments": {}
        },
        {
            "cell_type": "markdown",
            "source": [
                "<u>How to complete this assignment:</u> This Notebook has two types of cells, text, and code. Cell marked with **_Do not mark in this cell_** are not to be edited. Other text cells that require answers or typing may be edited by double-clicking on the cell and editing. Clicking off of the cell saves the text. Code cells are where you will enter in your SQL code. The results of your query will be displayed immediately beneath your code cell and are interactive. For full credit, you must write, execute, and save your code in your Notebook. The last cell of the Notebook has instructions for saving the Notebook as an html file for submission."
            ],
            "metadata": {
                "azdata_cell_guid": "3e43f52d-df95-4ce9-81f4-96958376f2d7"
            }
        },
        {
            "cell_type": "markdown",
            "source": [
                "### 7.1 Question: Find customers whose total spending exceeds the average spending (via subquery)"
            ],
            "metadata": {
                "azdata_cell_guid": "59e6a40a-c588-42b1-9d02-e058fc5db71f"
            },
            "attachments": {}
        },
        {
            "cell_type": "code",
            "source": [
                "--Enter your query here"
            ],
            "metadata": {
                "azdata_cell_guid": "6a936a56-1551-41fc-82ad-c53bfdb53c78",
                "language": "sql"
            },
            "outputs": [],
            "execution_count": null
        },
        {
            "cell_type": "markdown",
            "source": [
                "### 7.2 Question: Rank builds by their number of components. This is a spin on an earlier week's query using an advance query."
            ],
            "metadata": {
                "language": "sql",
                "azdata_cell_guid": "9c2e11ff-af2e-490b-b69a-60f104885ae9"
            },
            "attachments": {}
        },
        {
            "cell_type": "code",
            "source": [
                "--Enter your query here"
            ],
            "metadata": {
                "language": "sql",
                "azdata_cell_guid": "bbe62e7f-ad74-493f-b83c-a0ad2833e49d"
            },
            "outputs": [],
            "execution_count": null
        },
        {
            "cell_type": "markdown",
            "source": [
                "### 7.3 Question: Compute a running total of monthly sales"
            ],
            "metadata": {
                "language": "sql",
                "azdata_cell_guid": "f22fd2c8-fcd9-4d32-b255-89233a7fd973"
            },
            "attachments": {}
        },
        {
            "cell_type": "code",
            "source": [
                "--Enter your query here"
            ],
            "metadata": {
                "language": "sql",
                "azdata_cell_guid": "1f4dccbe-f692-4f91-bc4a-5138fb2914b4"
            },
            "outputs": [],
            "execution_count": null
        },
        {
            "cell_type": "markdown",
            "source": [
                "### 7.4 Question: Compare each month's sales to the previous month's sales (LAG)"
            ],
            "metadata": {
                "language": "sql",
                "azdata_cell_guid": "92e7bffe-ea3f-4d07-8c01-1f3881bd1f8a"
            },
            "attachments": {}
        },
        {
            "cell_type": "code",
            "source": [
                "--Enter your query here"
            ],
            "metadata": {
                "language": "sql",
                "azdata_cell_guid": "0134ab50-518b-469a-ab83-96780821d65b"
            },
            "outputs": [],
            "execution_count": null
        },
        {
            "cell_type": "markdown",
            "source": [
                "### 7.5 Question: Find the next month's return count (LEAD)"
            ],
            "metadata": {
                "language": "sql",
                "azdata_cell_guid": "c621cb3e-bee9-473a-9746-120ee1d13ccc"
            },
            "attachments": {}
        },
        {
            "cell_type": "code",
            "source": [
                "--Enter your query here"
            ],
            "metadata": {
                "language": "sql",
                "azdata_cell_guid": "087768d7-9b05-48de-898e-46399152b8ed"
            },
            "outputs": [],
            "execution_count": null
        },
        {
            "cell_type": "markdown",
            "source": [
                "### 7.6 Question: Pivot return\\_reason counts by month using a combination of a CTE and filtered aggregation"
            ],
            "metadata": {
                "language": "sql",
                "azdata_cell_guid": "66925ac5-e812-4fc9-8849-44a53fa57900"
            },
            "attachments": {}
        },
        {
            "cell_type": "code",
            "source": [
                "--Enter your query here"
            ],
            "metadata": {
                "language": "sql",
                "azdata_cell_guid": "9a3732a9-fef4-44d4-a294-4417fdb12621"
            },
            "outputs": [],
            "execution_count": null
        },
        {
            "cell_type": "markdown",
            "source": [
                "### 6.7 Question: Compute a 3-month running average of order totals"
            ],
            "metadata": {
                "azdata_cell_guid": "47eabc1a-0008-4bee-93a4-dd7c6926f088"
            },
            "attachments": {}
        },
        {
            "cell_type": "code",
            "source": [
                "--Enter your query here"
            ],
            "metadata": {
                "azdata_cell_guid": "e8657bd6-af4d-4792-b37e-ae30a03e9ad7",
                "language": ""
            },
            "outputs": [],
            "execution_count": null
        },
        {
            "cell_type": "markdown",
            "source": [
                "### 6.8 Question: Identify returns occurring outside of a 90-day window (Subquery)"
            ],
            "metadata": {
                "azdata_cell_guid": "ac28387f-3c0d-479d-a522-7c317b6d886d"
            },
            "attachments": {}
        },
        {
            "cell_type": "code",
            "source": [
                "--Enter your query here"
            ],
            "metadata": {
                "azdata_cell_guid": "b7059cae-ce06-4ccb-ac23-87b73e4dfbcb",
                "language": "sql"
            },
            "outputs": [],
            "execution_count": null
        },
        {
            "cell_type": "markdown",
            "source": [
                "### 6.9 Question: List the Top 3 Products per class by quantity sold (ROW_NUMBER)"
            ],
            "metadata": {
                "azdata_cell_guid": "21d96b99-8abc-4127-95ca-7e904d5fa121"
            },
            "attachments": {}
        },
        {
            "cell_type": "code",
            "source": [
                "--Enter your query here"
            ],
            "metadata": {
                "azdata_cell_guid": "f1bfe638-dcf8-43d2-93c9-ee30c1bf81d3",
                "language": "sql"
            },
            "outputs": [],
            "execution_count": null
        },
        {
            "cell_type": "markdown",
            "source": [
                "### Run the blow cell using the Python kernel to save this Notebook as an html file for submission. Like other weeks, append the filename with your name and submit in Canvas."
            ],
            "metadata": {
                "azdata_cell_guid": "cce2e5f8-3f20-4fa8-9c66-6559c408e3fd"
            },
            "attachments": {}
        },
        {
            "cell_type": "code",
            "source": [
                "!jupyter nbconvert --to html DSCI504_Wk7_Assignment.ipynb"
            ],
            "metadata": {
                "azdata_cell_guid": "15049a85-3952-4169-97d3-062b00a090a5",
                "language": "sql"
            },
            "outputs": [],
            "execution_count": null
        }
    ]
}