{
    "metadata": {
        "kernelspec": {
            "name": "SQL",
            "display_name": "SQL",
            "language": "sql"
        },
        "language_info": {
            "name": "sql",
            "version": ""
        }
    },
    "nbformat_minor": 2,
    "nbformat": 4,
    "cells": [
        {
            "cell_type": "markdown",
            "source": [
                "# Module 8, Aggregate Functions"
            ],
            "metadata": {
                "azdata_cell_guid": "25e7a5fc-c7ee-4ef5-81a7-73be28425649"
            }
        },
        {
            "cell_type": "markdown",
            "source": [
                "### Step 1: Write a query to find the number of unique actors in the actor table of the dvdrental database"
            ],
            "metadata": {
                "azdata_cell_guid": "6c7a1b7f-8b6d-4bf7-beb2-b6aeec8fc363"
            }
        },
        {
            "cell_type": "code",
            "source": [
                "SELECT COUNT(DISTINCT actor)\n",
                "FROM actor;"
            ],
            "metadata": {
                "azdata_cell_guid": "15437027-a937-40ac-8bbf-4656d80ee6b4",
                "tags": [
                    "hide_input"
                ]
            },
            "outputs": [
                {
                    "output_type": "display_data",
                    "data": {
                        "text/html": "(1 row(s) affected)"
                    },
                    "metadata": {}
                },
                {
                    "output_type": "display_data",
                    "data": {
                        "text/html": "Total execution time: 00:00:00.012"
                    },
                    "metadata": {}
                },
                {
                    "output_type": "execute_result",
                    "metadata": {},
                    "execution_count": 1,
                    "data": {
                        "application/vnd.dataresource+json": {
                            "schema": {
                                "fields": [
                                    {
                                        "name": "count"
                                    }
                                ]
                            },
                            "data": [
                                {
                                    "0": "200"
                                }
                            ]
                        },
                        "text/html": [
                            "<table>",
                            "<tr><th>count</th></tr>",
                            "<tr><td>200</td></tr>",
                            "</table>"
                        ]
                    }
                }
            ],
            "execution_count": 1
        },
        {
            "cell_type": "markdown",
            "source": [
                "### How many actors are present in the actors table?\n",
                "\n",
                "### 200"
            ],
            "metadata": {
                "azdata_cell_guid": "15a309b8-55d4-4c44-b961-25180b4bc594"
            }
        },
        {
            "cell_type": "markdown",
            "source": [
                "### Step 2: Write a query to find the minimum rental amount in the payment table. Output the amount in a column labeled \"Minimum Rental Amount\"."
            ],
            "metadata": {
                "azdata_cell_guid": "37414f49-5455-45c0-a29d-60f1c367aa51"
            }
        },
        {
            "cell_type": "code",
            "source": [
                "SELECT MIN(amount) AS \"Minimum Rental Amount\"\n",
                "FROM payment;"
            ],
            "metadata": {
                "azdata_cell_guid": "bc6ee80e-7c97-487b-9234-72de8c47bb2b"
            },
            "outputs": [
                {
                    "output_type": "display_data",
                    "data": {
                        "text/html": "(1 row(s) affected)"
                    },
                    "metadata": {}
                },
                {
                    "output_type": "display_data",
                    "data": {
                        "text/html": "Total execution time: 00:00:00.050"
                    },
                    "metadata": {}
                },
                {
                    "output_type": "execute_result",
                    "metadata": {},
                    "execution_count": 2,
                    "data": {
                        "application/vnd.dataresource+json": {
                            "schema": {
                                "fields": [
                                    {
                                        "name": "Minimum Rental Amount"
                                    }
                                ]
                            },
                            "data": [
                                {
                                    "0": "0.00"
                                }
                            ]
                        },
                        "text/html": [
                            "<table>",
                            "<tr><th>Minimum Rental Amount</th></tr>",
                            "<tr><td>0.00</td></tr>",
                            "</table>"
                        ]
                    }
                }
            ],
            "execution_count": 2
        },
        {
            "cell_type": "markdown",
            "source": [
                "### Step 3: Output the minimum, maximum, average, and most occuring rental amounts from the payment table. Create a unique title for each column. Round the average to the nearest two decimals."
            ],
            "metadata": {
                "azdata_cell_guid": "c9f2211c-114b-4854-afc7-c5905e076ff4"
            }
        },
        {
            "cell_type": "code",
            "source": [
                "SELECT MIN(amount) AS \"Minimum Amount\"\n",
                "    , MAX(amount) AS \"Maximum Amount\"\n",
                "    , round(AVG(amount),2) AS \"Average Amount\"\n",
                "    , MODE() WITHIN GROUP (ORDER BY amount) AS \"Most Common Amount\"\n",
                "FROM payment;"
            ],
            "metadata": {
                "azdata_cell_guid": "1f1855ee-e90a-43c2-8037-65d3f007d5a3"
            },
            "outputs": [
                {
                    "output_type": "display_data",
                    "data": {
                        "text/html": "(1 row(s) affected)"
                    },
                    "metadata": {}
                },
                {
                    "output_type": "display_data",
                    "data": {
                        "text/html": "Total execution time: 00:00:00.012"
                    },
                    "metadata": {}
                },
                {
                    "output_type": "execute_result",
                    "metadata": {},
                    "execution_count": 5,
                    "data": {
                        "application/vnd.dataresource+json": {
                            "schema": {
                                "fields": [
                                    {
                                        "name": "Minimum Amount"
                                    },
                                    {
                                        "name": "Maximum Amount"
                                    },
                                    {
                                        "name": "Average Amount"
                                    },
                                    {
                                        "name": "Most Common Amount"
                                    }
                                ]
                            },
                            "data": [
                                {
                                    "0": "0.00",
                                    "1": "11.99",
                                    "2": "4.20",
                                    "3": "4.99"
                                }
                            ]
                        },
                        "text/html": [
                            "<table>",
                            "<tr><th>Minimum Amount</th><th>Maximum Amount</th><th>Average Amount</th><th>Most Common Amount</th></tr>",
                            "<tr><td>0.00</td><td>11.99</td><td>4.20</td><td>4.99</td></tr>",
                            "</table>"
                        ]
                    }
                }
            ],
            "execution_count": 5
        },
        {
            "cell_type": "markdown",
            "source": [
                "### What was the difference between the average amount and the most common amount in the table?\n",
                "\n",
                "0.79"
            ],
            "metadata": {
                "azdata_cell_guid": "61833e20-f315-4d33-9005-8b74236883d5"
            }
        },
        {
            "cell_type": "markdown",
            "source": [
                "### Step 4: Find the variance of the rental amounts across the payment table. Round the answer to the nearest two decimals."
            ],
            "metadata": {
                "azdata_cell_guid": "0f839874-1d52-4ac5-84fe-bc605edfc111"
            }
        },
        {
            "cell_type": "code",
            "source": [
                "SELECT round(VARIANCE(amount),2) AS VARIANCE\n",
                "FROM payment;"
            ],
            "metadata": {
                "azdata_cell_guid": "3edb7022-d808-472d-bbb6-51b758f617bf"
            },
            "outputs": [
                {
                    "output_type": "display_data",
                    "data": {
                        "text/html": "(1 row(s) affected)"
                    },
                    "metadata": {}
                },
                {
                    "output_type": "display_data",
                    "data": {
                        "text/html": "Total execution time: 00:00:00.008"
                    },
                    "metadata": {}
                },
                {
                    "output_type": "execute_result",
                    "metadata": {},
                    "execution_count": 8,
                    "data": {
                        "application/vnd.dataresource+json": {
                            "schema": {
                                "fields": [
                                    {
                                        "name": "variance"
                                    }
                                ]
                            },
                            "data": [
                                {
                                    "0": "5.61"
                                }
                            ]
                        },
                        "text/html": [
                            "<table>",
                            "<tr><th>variance</th></tr>",
                            "<tr><td>5.61</td></tr>",
                            "</table>"
                        ]
                    }
                }
            ],
            "execution_count": 8
        },
        {
            "cell_type": "markdown",
            "source": [
                "What is the variance in the rental amounts across the payment table?\n",
                "\n",
                "  \n",
                "\n",
                "### 5.61"
            ],
            "metadata": {
                "azdata_cell_guid": "17bfd8ec-8a32-467b-8d70-a8d66e5c5fd9"
            }
        },
        {
            "cell_type": "markdown",
            "source": [
                "### Step 5: Determine the correlation between the replacement cost of a dvd and its rental rate."
            ],
            "metadata": {
                "azdata_cell_guid": "4f15b17b-2b75-407e-87c6-d807a462f609"
            }
        },
        {
            "cell_type": "code",
            "source": [
                "SELECT CORR(replacement_cost, rental_rate) AS Correlated_Rental_to_Replacement\n",
                "FROM film;"
            ],
            "metadata": {
                "azdata_cell_guid": "143eed29-061d-4d9a-a933-ac9121d1dd22"
            },
            "outputs": [
                {
                    "output_type": "display_data",
                    "data": {
                        "text/html": "(1 row(s) affected)"
                    },
                    "metadata": {}
                },
                {
                    "output_type": "display_data",
                    "data": {
                        "text/html": "Total execution time: 00:00:00.009"
                    },
                    "metadata": {}
                },
                {
                    "output_type": "execute_result",
                    "metadata": {},
                    "execution_count": 12,
                    "data": {
                        "application/vnd.dataresource+json": {
                            "schema": {
                                "fields": [
                                    {
                                        "name": "correlated_rental_to_replacement"
                                    }
                                ]
                            },
                            "data": [
                                {
                                    "0": "-0.04461978289656093"
                                }
                            ]
                        },
                        "text/html": [
                            "<table>",
                            "<tr><th>correlated_rental_to_replacement</th></tr>",
                            "<tr><td>-0.04461978289656093</td></tr>",
                            "</table>"
                        ]
                    }
                }
            ],
            "execution_count": 12
        },
        {
            "cell_type": "markdown",
            "source": [
                "### Is the correlation between the DVD's replacement cost and its rental rate positive or negative?\n",
                "\n",
                "Negative\n",
                "\n",
                "  \n",
                "\n",
                "What does this say about the cost of replacement and the rental rate\n",
                "\n",
                "  \n",
                "\n",
                "### The rental rate is not driven by the cost of the replcement of the DVD. The correlation is only slightly negative, so it has some impact on the rental rate, but is not overly correlated to it."
            ],
            "metadata": {
                "azdata_cell_guid": "1243eb61-c835-488f-938d-9d5ddd1529c2"
            }
        },
        {
            "cell_type": "markdown",
            "source": [
                "### Step 6: Find the count of all films with a rental duration of at least 7 days"
            ],
            "metadata": {
                "azdata_cell_guid": "83d1cf77-4e6d-4f0e-9768-293c695a34a2"
            }
        },
        {
            "cell_type": "code",
            "source": [
                "SELECT COUNT(film_id) AS film_count\n",
                "FROM film\n",
                "WHERE rental_duration >= 7;"
            ],
            "metadata": {
                "azdata_cell_guid": "ac629685-8b21-48ed-8d1a-0d6e0171c10c",
                "tags": []
            },
            "outputs": [
                {
                    "output_type": "display_data",
                    "data": {
                        "text/html": "(1 row(s) affected)"
                    },
                    "metadata": {}
                },
                {
                    "output_type": "display_data",
                    "data": {
                        "text/html": "Total execution time: 00:00:00.010"
                    },
                    "metadata": {}
                },
                {
                    "output_type": "execute_result",
                    "metadata": {},
                    "execution_count": 37,
                    "data": {
                        "application/vnd.dataresource+json": {
                            "schema": {
                                "fields": [
                                    {
                                        "name": "film_count"
                                    }
                                ]
                            },
                            "data": [
                                {
                                    "0": "191"
                                }
                            ]
                        },
                        "text/html": [
                            "<table>",
                            "<tr><th>film_count</th></tr>",
                            "<tr><td>191</td></tr>",
                            "</table>"
                        ]
                    }
                }
            ],
            "execution_count": 37
        },
        {
            "cell_type": "markdown",
            "source": [
                "### How many rentals were seven days or greater?\n",
                "\n",
                "191"
            ],
            "metadata": {
                "azdata_cell_guid": "26eb2274-2213-4f43-a1cb-8076692c9c43"
            }
        },
        {
            "cell_type": "markdown",
            "source": [
                "### Step 7: Find min and max rental rates and the mose common rental duration of each film title. Group the results by the most common number of rental days and the max rental rate. Limit the output to the top title by rental days and rate and include any additional tying rows that meet the criteria."
            ],
            "metadata": {
                "azdata_cell_guid": "be491a05-1896-49a5-9869-06ddd9473942"
            }
        },
        {
            "cell_type": "code",
            "source": [
                "SELECT title\n",
                "    , MIN(rental_rate):: FLOAT AS min_rental_rate\n",
                "    , MAX(rental_rate)::FLOAT AS max_rental_rate\n",
                "    , MODE() WITHIN GROUP (ORDER BY rental_duration) AS mode_of_rent_len\n",
                "FROM film\n",
                "GROUP BY title\n",
                "ORDER BY mode_of_rent_len DESC, max_rental_rate DESC\n",
                "FETCH FIRST 1 ROWS WITH TIES;\n",
                ""
            ],
            "metadata": {
                "azdata_cell_guid": "fba3a9ce-af7d-4fc4-a927-134fbe742358",
                "tags": []
            },
            "outputs": [
                {
                    "output_type": "display_data",
                    "data": {
                        "text/html": "(62 row(s) affected)"
                    },
                    "metadata": {}
                },
                {
                    "output_type": "display_data",
                    "data": {
                        "text/html": "Total execution time: 00:00:00.012"
                    },
                    "metadata": {}
                },
                {
                    "output_type": "execute_result",
                    "metadata": {},
                    "execution_count": 64,
                    "data": {
                        "application/vnd.dataresource+json": {
                            "schema": {
                                "fields": [
                                    {
                                        "name": "title"
                                    },
                                    {
                                        "name": "min_rental_rate"
                                    },
                                    {
                                        "name": "max_rental_rate"
                                    },
                                    {
                                        "name": "mode_of_rent_len"
                                    }
                                ]
                            },
                            "data": [
                                {
                                    "0": "Games Bowfinger",
                                    "1": "4.99",
                                    "2": "4.99",
                                    "3": "7"
                                },
                                {
                                    "0": "Soldiers Evolution",
                                    "1": "4.99",
                                    "2": "4.99",
                                    "3": "7"
                                },
                                {
                                    "0": "Truman Crazy",
                                    "1": "4.99",
                                    "2": "4.99",
                                    "3": "7"
                                },
                                {
                                    "0": "Dangerous Uptown",
                                    "1": "4.99",
                                    "2": "4.99",
                                    "3": "7"
                                },
                                {
                                    "0": "Outlaw Hanky",
                                    "1": "4.99",
                                    "2": "4.99",
                                    "3": "7"
                                },
                                {
                                    "0": "Elizabeth Shane",
                                    "1": "4.99",
                                    "2": "4.99",
                                    "3": "7"
                                },
                                {
                                    "0": "Stepmom Dream",
                                    "1": "4.99",
                                    "2": "4.99",
                                    "3": "7"
                                },
                                {
                                    "0": "Bikini Borrowers",
                                    "1": "4.99",
                                    "2": "4.99",
                                    "3": "7"
                                },
                                {
                                    "0": "Right Cranes",
                                    "1": "4.99",
                                    "2": "4.99",
                                    "3": "7"
                                },
                                {
                                    "0": "Darn Forrester",
                                    "1": "4.99",
                                    "2": "4.99",
                                    "3": "7"
                                },
                                {
                                    "0": "Volume House",
                                    "1": "4.99",
                                    "2": "4.99",
                                    "3": "7"
                                },
                                {
                                    "0": "Darling Breaking",
                                    "1": "4.99",
                                    "2": "4.99",
                                    "3": "7"
                                },
                                {
                                    "0": "Slacker Liaisons",
                                    "1": "4.99",
                                    "2": "4.99",
                                    "3": "7"
                                },
                                {
                                    "0": "Vanilla Day",
                                    "1": "4.99",
                                    "2": "4.99",
                                    "3": "7"
                                },
                                {
                                    "0": "Chinatown Gladiator",
                                    "1": "4.99",
                                    "2": "4.99",
                                    "3": "7"
                                },
                                {
                                    "0": "Saturn Name",
                                    "1": "4.99",
                                    "2": "4.99",
                                    "3": "7"
                                },
                                {
                                    "0": "Trip Newton",
                                    "1": "4.99",
                                    "2": "4.99",
                                    "3": "7"
                                },
                                {
                                    "0": "Opposite Necklace",
                                    "1": "4.99",
                                    "2": "4.99",
                                    "3": "7"
                                },
                                {
                                    "0": "Records Zorro",
                                    "1": "4.99",
                                    "2": "4.99",
                                    "3": "7"
                                },
                                {
                                    "0": "Wash Heavenly",
                                    "1": "4.99",
                                    "2": "4.99",
                                    "3": "7"
                                },
                                {
                                    "0": "Desperate Trainspotting",
                                    "1": "4.99",
                                    "2": "4.99",
                                    "3": "7"
                                },
                                {
                                    "0": "Boiled Dares",
                                    "1": "4.99",
                                    "2": "4.99",
                                    "3": "7"
                                },
                                {
                                    "0": "Private Drop",
                                    "1": "4.99",
                                    "2": "4.99",
                                    "3": "7"
                                },
                                {
                                    "0": "Chasing Fight",
                                    "1": "4.99",
                                    "2": "4.99",
                                    "3": "7"
                                },
                                {
                                    "0": "Grinch Massage",
                                    "1": "4.99",
                                    "2": "4.99",
                                    "3": "7"
                                },
                                {
                                    "0": "Born Spinal",
                                    "1": "4.99",
                                    "2": "4.99",
                                    "3": "7"
                                },
                                {
                                    "0": "Chamber Italian",
                                    "1": "4.99",
                                    "2": "4.99",
                                    "3": "7"
                                },
                                {
                                    "0": "Lies Treatment",
                                    "1": "4.99",
                                    "2": "4.99",
                                    "3": "7"
                                },
                                {
                                    "0": "Wake Jaws",
                                    "1": "4.99",
                                    "2": "4.99",
                                    "3": "7"
                                },
                                {
                                    "0": "Bowfinger Gables",
                                    "1": "4.99",
                                    "2": "4.99",
                                    "3": "7"
                                },
                                {
                                    "0": "Trainspotting Strangers",
                                    "1": "4.99",
                                    "2": "4.99",
                                    "3": "7"
                                },
                                {
                                    "0": "Open African",
                                    "1": "4.99",
                                    "2": "4.99",
                                    "3": "7"
                                },
                                {
                                    "0": "Legally Secretary",
                                    "1": "4.99",
                                    "2": "4.99",
                                    "3": "7"
                                },
                                {
                                    "0": "Sleeping Suspects",
                                    "1": "4.99",
                                    "2": "4.99",
                                    "3": "7"
                                },
                                {
                                    "0": "Holes Brannigan",
                                    "1": "4.99",
                                    "2": "4.99",
                                    "3": "7"
                                },
                                {
                                    "0": "Holiday Games",
                                    "1": "4.99",
                                    "2": "4.99",
                                    "3": "7"
                                },
                                {
                                    "0": "Confessions Maguire",
                                    "1": "4.99",
                                    "2": "4.99",
                                    "3": "7"
                                },
                                {
                                    "0": "Brooklyn Desert",
                                    "1": "4.99",
                                    "2": "4.99",
                                    "3": "7"
                                },
                                {
                                    "0": "Wanda Chamber",
                                    "1": "4.99",
                                    "2": "4.99",
                                    "3": "7"
                                },
                                {
                                    "0": "Jet Neighbors",
                                    "1": "4.99",
                                    "2": "4.99",
                                    "3": "7"
                                },
                                {
                                    "0": "Bucket Brotherhood",
                                    "1": "4.99",
                                    "2": "4.99",
                                    "3": "7"
                                },
                                {
                                    "0": "Hollow Jeopardy",
                                    "1": "4.99",
                                    "2": "4.99",
                                    "3": "7"
                                },
                                {
                                    "0": "Coneheads Smoochy",
                                    "1": "4.99",
                                    "2": "4.99",
                                    "3": "7"
                                },
                                {
                                    "0": "Iron Moon",
                                    "1": "4.99",
                                    "2": "4.99",
                                    "3": "7"
                                },
                                {
                                    "0": "Impossible Prejudice",
                                    "1": "4.99",
                                    "2": "4.99",
                                    "3": "7"
                                },
                                {
                                    "0": "Igby Maker",
                                    "1": "4.99",
                                    "2": "4.99",
                                    "3": "7"
                                },
                                {
                                    "0": "Home Pity",
                                    "1": "4.99",
                                    "2": "4.99",
                                    "3": "7"
                                },
                                {
                                    "0": "Forrester Comancheros",
                                    "1": "4.99",
                                    "2": "4.99",
                                    "3": "7"
                                },
                                {
                                    "0": "Speed Suit",
                                    "1": "4.99",
                                    "2": "4.99",
                                    "3": "7"
                                },
                                {
                                    "0": "Flight Lies",
                                    "1": "4.99",
                                    "2": "4.99",
                                    "3": "7"
                                },
                                {
                                    "0": "Reds Pocus",
                                    "1": "4.99",
                                    "2": "4.99",
                                    "3": "7"
                                },
                                {
                                    "0": "Perdition Fargo",
                                    "1": "4.99",
                                    "2": "4.99",
                                    "3": "7"
                                },
                                {
                                    "0": "Coldblooded Darling",
                                    "1": "4.99",
                                    "2": "4.99",
                                    "3": "7"
                                },
                                {
                                    "0": "Musketeers Wait",
                                    "1": "4.99",
                                    "2": "4.99",
                                    "3": "7"
                                },
                                {
                                    "0": "Sensibility Rear",
                                    "1": "4.99",
                                    "2": "4.99",
                                    "3": "7"
                                },
                                {
                                    "0": "Fugitive Maguire",
                                    "1": "4.99",
                                    "2": "4.99",
                                    "3": "7"
                                },
                                {
                                    "0": "War Notting",
                                    "1": "4.99",
                                    "2": "4.99",
                                    "3": "7"
                                },
                                {
                                    "0": "Undefeated Dalmations",
                                    "1": "4.99",
                                    "2": "4.99",
                                    "3": "7"
                                },
                                {
                                    "0": "Peak Forever",
                                    "1": "4.99",
                                    "2": "4.99",
                                    "3": "7"
                                },
                                {
                                    "0": "Philadelphia Wife",
                                    "1": "4.99",
                                    "2": "4.99",
                                    "3": "7"
                                },
                                {
                                    "0": "Walls Artist",
                                    "1": "4.99",
                                    "2": "4.99",
                                    "3": "7"
                                },
                                {
                                    "0": "Control Anthem",
                                    "1": "4.99",
                                    "2": "4.99",
                                    "3": "7"
                                }
                            ]
                        },
                        "text/html": [
                            "<table>",
                            "<tr><th>title</th><th>min_rental_rate</th><th>max_rental_rate</th><th>mode_of_rent_len</th></tr>",
                            "<tr><td>Games Bowfinger</td><td>4.99</td><td>4.99</td><td>7</td></tr>",
                            "<tr><td>Soldiers Evolution</td><td>4.99</td><td>4.99</td><td>7</td></tr>",
                            "<tr><td>Truman Crazy</td><td>4.99</td><td>4.99</td><td>7</td></tr>",
                            "<tr><td>Dangerous Uptown</td><td>4.99</td><td>4.99</td><td>7</td></tr>",
                            "<tr><td>Outlaw Hanky</td><td>4.99</td><td>4.99</td><td>7</td></tr>",
                            "<tr><td>Elizabeth Shane</td><td>4.99</td><td>4.99</td><td>7</td></tr>",
                            "<tr><td>Stepmom Dream</td><td>4.99</td><td>4.99</td><td>7</td></tr>",
                            "<tr><td>Bikini Borrowers</td><td>4.99</td><td>4.99</td><td>7</td></tr>",
                            "<tr><td>Right Cranes</td><td>4.99</td><td>4.99</td><td>7</td></tr>",
                            "<tr><td>Darn Forrester</td><td>4.99</td><td>4.99</td><td>7</td></tr>",
                            "<tr><td>Volume House</td><td>4.99</td><td>4.99</td><td>7</td></tr>",
                            "<tr><td>Darling Breaking</td><td>4.99</td><td>4.99</td><td>7</td></tr>",
                            "<tr><td>Slacker Liaisons</td><td>4.99</td><td>4.99</td><td>7</td></tr>",
                            "<tr><td>Vanilla Day</td><td>4.99</td><td>4.99</td><td>7</td></tr>",
                            "<tr><td>Chinatown Gladiator</td><td>4.99</td><td>4.99</td><td>7</td></tr>",
                            "<tr><td>Saturn Name</td><td>4.99</td><td>4.99</td><td>7</td></tr>",
                            "<tr><td>Trip Newton</td><td>4.99</td><td>4.99</td><td>7</td></tr>",
                            "<tr><td>Opposite Necklace</td><td>4.99</td><td>4.99</td><td>7</td></tr>",
                            "<tr><td>Records Zorro</td><td>4.99</td><td>4.99</td><td>7</td></tr>",
                            "<tr><td>Wash Heavenly</td><td>4.99</td><td>4.99</td><td>7</td></tr>",
                            "<tr><td>Desperate Trainspotting</td><td>4.99</td><td>4.99</td><td>7</td></tr>",
                            "<tr><td>Boiled Dares</td><td>4.99</td><td>4.99</td><td>7</td></tr>",
                            "<tr><td>Private Drop</td><td>4.99</td><td>4.99</td><td>7</td></tr>",
                            "<tr><td>Chasing Fight</td><td>4.99</td><td>4.99</td><td>7</td></tr>",
                            "<tr><td>Grinch Massage</td><td>4.99</td><td>4.99</td><td>7</td></tr>",
                            "<tr><td>Born Spinal</td><td>4.99</td><td>4.99</td><td>7</td></tr>",
                            "<tr><td>Chamber Italian</td><td>4.99</td><td>4.99</td><td>7</td></tr>",
                            "<tr><td>Lies Treatment</td><td>4.99</td><td>4.99</td><td>7</td></tr>",
                            "<tr><td>Wake Jaws</td><td>4.99</td><td>4.99</td><td>7</td></tr>",
                            "<tr><td>Bowfinger Gables</td><td>4.99</td><td>4.99</td><td>7</td></tr>",
                            "<tr><td>Trainspotting Strangers</td><td>4.99</td><td>4.99</td><td>7</td></tr>",
                            "<tr><td>Open African</td><td>4.99</td><td>4.99</td><td>7</td></tr>",
                            "<tr><td>Legally Secretary</td><td>4.99</td><td>4.99</td><td>7</td></tr>",
                            "<tr><td>Sleeping Suspects</td><td>4.99</td><td>4.99</td><td>7</td></tr>",
                            "<tr><td>Holes Brannigan</td><td>4.99</td><td>4.99</td><td>7</td></tr>",
                            "<tr><td>Holiday Games</td><td>4.99</td><td>4.99</td><td>7</td></tr>",
                            "<tr><td>Confessions Maguire</td><td>4.99</td><td>4.99</td><td>7</td></tr>",
                            "<tr><td>Brooklyn Desert</td><td>4.99</td><td>4.99</td><td>7</td></tr>",
                            "<tr><td>Wanda Chamber</td><td>4.99</td><td>4.99</td><td>7</td></tr>",
                            "<tr><td>Jet Neighbors</td><td>4.99</td><td>4.99</td><td>7</td></tr>",
                            "<tr><td>Bucket Brotherhood</td><td>4.99</td><td>4.99</td><td>7</td></tr>",
                            "<tr><td>Hollow Jeopardy</td><td>4.99</td><td>4.99</td><td>7</td></tr>",
                            "<tr><td>Coneheads Smoochy</td><td>4.99</td><td>4.99</td><td>7</td></tr>",
                            "<tr><td>Iron Moon</td><td>4.99</td><td>4.99</td><td>7</td></tr>",
                            "<tr><td>Impossible Prejudice</td><td>4.99</td><td>4.99</td><td>7</td></tr>",
                            "<tr><td>Igby Maker</td><td>4.99</td><td>4.99</td><td>7</td></tr>",
                            "<tr><td>Home Pity</td><td>4.99</td><td>4.99</td><td>7</td></tr>",
                            "<tr><td>Forrester Comancheros</td><td>4.99</td><td>4.99</td><td>7</td></tr>",
                            "<tr><td>Speed Suit</td><td>4.99</td><td>4.99</td><td>7</td></tr>",
                            "<tr><td>Flight Lies</td><td>4.99</td><td>4.99</td><td>7</td></tr>",
                            "<tr><td>Reds Pocus</td><td>4.99</td><td>4.99</td><td>7</td></tr>",
                            "<tr><td>Perdition Fargo</td><td>4.99</td><td>4.99</td><td>7</td></tr>",
                            "<tr><td>Coldblooded Darling</td><td>4.99</td><td>4.99</td><td>7</td></tr>",
                            "<tr><td>Musketeers Wait</td><td>4.99</td><td>4.99</td><td>7</td></tr>",
                            "<tr><td>Sensibility Rear</td><td>4.99</td><td>4.99</td><td>7</td></tr>",
                            "<tr><td>Fugitive Maguire</td><td>4.99</td><td>4.99</td><td>7</td></tr>",
                            "<tr><td>War Notting</td><td>4.99</td><td>4.99</td><td>7</td></tr>",
                            "<tr><td>Undefeated Dalmations</td><td>4.99</td><td>4.99</td><td>7</td></tr>",
                            "<tr><td>Peak Forever</td><td>4.99</td><td>4.99</td><td>7</td></tr>",
                            "<tr><td>Philadelphia Wife</td><td>4.99</td><td>4.99</td><td>7</td></tr>",
                            "<tr><td>Walls Artist</td><td>4.99</td><td>4.99</td><td>7</td></tr>",
                            "<tr><td>Control Anthem</td><td>4.99</td><td>4.99</td><td>7</td></tr>",
                            "</table>"
                        ]
                    }
                }
            ],
            "execution_count": 64
        },
        {
            "cell_type": "markdown",
            "source": [
                "### What is the top title with the highest rental rate and most common rental days over all rentals?\n",
                "\n",
                "### Games Bowfinger\n",
                "\n",
                "###   \n",
                "How many total rentals meet the above criteria?\n",
                "\n",
                "### 62"
            ],
            "metadata": {
                "azdata_cell_guid": "eebb969c-78ed-44b5-9161-0338916e6128"
            }
        },
        {
            "cell_type": "markdown",
            "source": [
                "### Step 8: Write a query to find the percentage of missing values in the return\\_date column of the film table. Ouput the result as an integer with the \"%\" character appended to the result"
            ],
            "metadata": {
                "azdata_cell_guid": "b13f8873-2ea0-4bea-bc2a-6f656ddb70a9"
            }
        },
        {
            "cell_type": "code",
            "source": [
                "SELECT (SUM(CASE WHEN return_date IS NULL THEN 1 ELSE 0 END)::FLOAT/COUNT(*)*100)::INT || '%' AS percent_missing\n",
                "FROM rental;"
            ],
            "metadata": {
                "azdata_cell_guid": "9a39fdae-c72e-4a6f-8532-407be0451115"
            },
            "outputs": [
                {
                    "output_type": "display_data",
                    "data": {
                        "text/html": "(1 row(s) affected)"
                    },
                    "metadata": {}
                },
                {
                    "output_type": "display_data",
                    "data": {
                        "text/html": "Total execution time: 00:00:00.008"
                    },
                    "metadata": {}
                },
                {
                    "output_type": "execute_result",
                    "metadata": {},
                    "execution_count": 95,
                    "data": {
                        "application/vnd.dataresource+json": {
                            "schema": {
                                "fields": [
                                    {
                                        "name": "percent_missing"
                                    }
                                ]
                            },
                            "data": [
                                {
                                    "0": "1%"
                                }
                            ]
                        },
                        "text/html": [
                            "<table>",
                            "<tr><th>percent_missing</th></tr>",
                            "<tr><td>1%</td></tr>",
                            "</table>"
                        ]
                    }
                }
            ],
            "execution_count": 95
        },
        {
            "cell_type": "markdown",
            "source": [
                "### What percentage of the return\\_dates are missing?\n",
                "\n",
                "### 1%"
            ],
            "metadata": {
                "azdata_cell_guid": "f0acb732-da6e-4eef-bd31-0bd7ed6b3c00"
            }
        },
        {
            "cell_type": "markdown",
            "source": [
                "### Step 9: Write a query to determine if the actor\\_id column in the actor table enforces referential integrity"
            ],
            "metadata": {
                "azdata_cell_guid": "c5f41c8f-7d7b-4052-9bf8-b91205b52eac"
            }
        },
        {
            "cell_type": "code",
            "source": [
                "SELECT COUNT(DISTINCT actor_id) = COUNT(*) AS integrity_check\n",
                "FROM actor;"
            ],
            "metadata": {
                "azdata_cell_guid": "08f381d7-d6de-41eb-8cc7-af4ff927c10c"
            },
            "outputs": [
                {
                    "output_type": "display_data",
                    "data": {
                        "text/html": "(1 row(s) affected)"
                    },
                    "metadata": {}
                },
                {
                    "output_type": "display_data",
                    "data": {
                        "text/html": "Total execution time: 00:00:00.014"
                    },
                    "metadata": {}
                },
                {
                    "output_type": "execute_result",
                    "metadata": {},
                    "execution_count": 102,
                    "data": {
                        "application/vnd.dataresource+json": {
                            "schema": {
                                "fields": [
                                    {
                                        "name": "integrity_check"
                                    }
                                ]
                            },
                            "data": [
                                {
                                    "0": "True"
                                }
                            ]
                        },
                        "text/html": [
                            "<table>",
                            "<tr><th>integrity_check</th></tr>",
                            "<tr><td>True</td></tr>",
                            "</table>"
                        ]
                    }
                }
            ],
            "execution_count": 102
        },
        {
            "cell_type": "markdown",
            "source": [
                "### Step 10: Write a query to the total rental duration for each film in the film table. Sort the results by title and rental duration from least to most alphabetically. Only return rows 22 through 30."
            ],
            "metadata": {
                "azdata_cell_guid": "04775575-5366-4651-8bad-c79480a198ef"
            }
        },
        {
            "cell_type": "code",
            "source": [
                "SELECT title\n",
                "    , SUM(rental_duration)\n",
                "FROM film\n",
                "GROUP BY title, rental_duration\n",
                "ORDER BY rental_duration\n",
                "LIMIT 8\n",
                "OFFSET 21;"
            ],
            "metadata": {
                "azdata_cell_guid": "61c3f270-61d9-4a92-b47c-2980d60360ea"
            },
            "outputs": [
                {
                    "output_type": "display_data",
                    "data": {
                        "text/html": "(8 row(s) affected)"
                    },
                    "metadata": {}
                },
                {
                    "output_type": "display_data",
                    "data": {
                        "text/html": "Total execution time: 00:00:00.005"
                    },
                    "metadata": {}
                },
                {
                    "output_type": "execute_result",
                    "metadata": {},
                    "execution_count": 109,
                    "data": {
                        "application/vnd.dataresource+json": {
                            "schema": {
                                "fields": [
                                    {
                                        "name": "title"
                                    },
                                    {
                                        "name": "sum"
                                    }
                                ]
                            },
                            "data": [
                                {
                                    "0": "Kissing Dolls",
                                    "1": "3"
                                },
                                {
                                    "0": "Words Hunter",
                                    "1": "3"
                                },
                                {
                                    "0": "Range Moonwalker",
                                    "1": "3"
                                },
                                {
                                    "0": "Pajama Jawbreaker",
                                    "1": "3"
                                },
                                {
                                    "0": "Fight Jawbreaker",
                                    "1": "3"
                                },
                                {
                                    "0": "Redemption Comforts",
                                    "1": "3"
                                },
                                {
                                    "0": "Tuxedo Mile",
                                    "1": "3"
                                },
                                {
                                    "0": "Flintstones Happiness",
                                    "1": "3"
                                }
                            ]
                        },
                        "text/html": [
                            "<table>",
                            "<tr><th>title</th><th>sum</th></tr>",
                            "<tr><td>Kissing Dolls</td><td>3</td></tr>",
                            "<tr><td>Words Hunter</td><td>3</td></tr>",
                            "<tr><td>Range Moonwalker</td><td>3</td></tr>",
                            "<tr><td>Pajama Jawbreaker</td><td>3</td></tr>",
                            "<tr><td>Fight Jawbreaker</td><td>3</td></tr>",
                            "<tr><td>Redemption Comforts</td><td>3</td></tr>",
                            "<tr><td>Tuxedo Mile</td><td>3</td></tr>",
                            "<tr><td>Flintstones Happiness</td><td>3</td></tr>",
                            "</table>"
                        ]
                    }
                }
            ],
            "execution_count": 109
        },
        {
            "cell_type": "markdown",
            "source": [
                "### What is the title of the movie in the 22nd row?\n",
                "\n",
                "### Kissing Dolls"
            ],
            "metadata": {
                "azdata_cell_guid": "6d1ab5c4-e3bf-46d0-8ad4-1ab26354fbb6"
            }
        },
        {
            "cell_type": "markdown",
            "source": [
                "### Step 11: Write a query to find the percentage of movies with an MPAA rating of 'G'. Name the column \"Rating\" and append \"G rated\" to the output."
            ],
            "metadata": {
                "azdata_cell_guid": "3baca031-3c4e-4435-ae93-fdec32a9d953"
            }
        },
        {
            "cell_type": "code",
            "source": [
                "SELECT COUNT(DISTINCT rating)::FLOAT/count(*)*100 || ' G rated' AS \"Rating\"\n",
                "FROM film\n",
                "GROUP BY rating\n",
                "HAVING rating = 'G';"
            ],
            "metadata": {
                "azdata_cell_guid": "e86df83b-6621-4c1b-9aba-042383258b44",
                "tags": []
            },
            "outputs": [
{
    "output_type": "display_data",
    "data": {
        "text/html": "(1 row(s) affected)"
    },
    "metadata": {}
}, {
    "output_type": "display_data",
    "data": {
        "text/html": "Total execution time: 00:00:00.003"
    },
    "metadata": {}
}, {
    "output_type": "execute_result",
    "metadata": {},
    "execution_count": 165,
    "data": {
        "application/vnd.dataresource+json": {
            "schema": {
                "fields": [
                    {
                        "name": "Rating"
                    }
                ]
            },
            "data": [
                {
                    "0": "0.5617977528089888 G rated"
                }
            ]
        },
        "text/html": [
            "<table>",
            "<tr><th>Rating</th></tr>",
            "<tr><td>0.5617977528089888 G rated</td></tr>",
            "</table>"
        ]
    }
}
],
            "execution_count": 115
        }
    ]
}