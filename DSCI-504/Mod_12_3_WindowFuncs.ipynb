{
    "metadata": {
        "kernelspec": {
            "name": "SQL",
            "display_name": "SQL",
            "language": "sql"
        },
        "language_info": {
            "name": "sql",
            "version": ""
        }
    },
    "nbformat_minor": 2,
    "nbformat": 4,
    "cells": [
        {
            "cell_type": "markdown",
            "source": [
                "# Module 12, Lecture 12.3\n",
                "\n",
                "## Window Functions"
            ],
            "metadata": {
                "azdata_cell_guid": "f4dbb9aa-78d6-4f2c-b82d-ebd10c791d7f"
            }
        },
        {
            "cell_type": "markdown",
            "source": [
                "Part 1: Alter the query in Lecture 12.3 that created the rolling total of the preceding 10 dyas for the employee competition to include the ability to track whether or not the employees exceeded the sales total for the preceding 10 days."
            ],
            "metadata": {
                "azdata_cell_guid": "69ac2a73-2219-44a5-9f08-7b57f4a54eec"
            }
        },
        {
            "cell_type": "code",
            "source": [
                ""
            ],
            "metadata": {
                "azdata_cell_guid": "4bd2c7a7-1098-49aa-b878-c9b3ca2460d2",
                "tags": []
            },
            "outputs": [],
            "execution_count": null
        },
        {
            "cell_type": "markdown",
            "source": [
                "Part 2: Rank the movie titles from highest to lowest based on rental duration. Return the first alphabetical film name, rental duration, and rank for the top single rental."
            ],
            "metadata": {
                "azdata_cell_guid": "d867b447-695f-427e-8f19-664388ed9b06"
            }
        },
        {
            "cell_type": "code",
            "source": [
                "\n",
                ""
            ],
            "metadata": {
                "azdata_cell_guid": "d2e75539-c0cf-4072-8a10-cb554eac254f",
                "tags": []
            },
            "outputs": [],
            "execution_count": null
        },
        {
            "cell_type": "markdown",
            "source": [
                "Part 3: Write a query to find the most expensive film rented after teh films have been divided into 5 buckets. Each bucket should consist of rentals where the rental duration is longer than 3 days and the rental rate is not null. Return the title, duration, rental\\_rate, and bucket number. Only return the top title that meets the above criteria."
            ],
            "metadata": {
                "azdata_cell_guid": "5df5780c-bd2d-4e09-b7cc-332c8efc9b3e"
            }
        },
        {
            "cell_type": "code",
            "source": [
                ""
            ],
            "metadata": {
                "azdata_cell_guid": "540af754-aaca-4ff9-be7c-5e1b580e7153",
                "tags": []
            },
            "outputs": [],
            "execution_count": null
        },
        {
            "cell_type": "markdown",
            "source": [
                "What is the top rental title in the first bucket with the most rentals and highest rental rate?\n",
                "\n",
                "###"
            ],
            "metadata": {
                "azdata_cell_guid": "4fc3a8e0-50a5-4b30-a2fc-b555e2d1cf98"
            }
        }
    ]
}