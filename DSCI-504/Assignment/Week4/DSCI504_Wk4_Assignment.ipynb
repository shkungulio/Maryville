{
    "metadata": {
        "kernelspec": {
            "name": "SQL",
            "display_name": "SQL",
            "language": "sql"
        },
        "language_info": {
            "name": "sql",
            "version": ""
        }
    },
    "nbformat_minor": 2,
    "nbformat": 4,
    "cells": [
        {
            "cell_type": "markdown",
            "source": [
                "# DSCI 504\n",
                "\n",
                "## Week 4\n",
                "\n",
                "### Assignment: Aggregates and Conditional Queries\n",
                "\n",
                "### Student Name: SEIF KUNGULIO"
            ],
            "metadata": {
                "azdata_cell_guid": "9a298411-4878-43e6-b65c-5716c70c05be"
            },
            "attachments": {}
        },
        {
            "cell_type": "markdown",
            "source": [
                "<u>How to complete this assignment:</u> This Notebook has two types of cells, text, and code. Cell marked with **_Do not mark in this cell_** are not to be edited. Other text cells that require answers or typing may be edited by double-clicking on the cell and editing. Clicking off of the cell saves the text. Code cells are where you will enter in your SQL code. The results of your query will be displayed immediately beneath your code cell and are interactive. For full credit, you must write, execute, and save your code in your Notebook. The last cell of the Notebook has instructions for saving the Notebook as an html file for submission."
            ],
            "metadata": {
                "azdata_cell_guid": "1a38db78-dbc5-4e45-898a-7645b6cae617"
            },
            "attachments": {}
        },
        {
            "cell_type": "markdown",
            "source": [
                "**_Do not mark in this cell_**\n",
                "\n",
                "### Assignment Objective: At the end of this assignment, you will be able to conduct queries on single tables within the OPC database, to include unary table self-joins."
            ],
            "metadata": {
                "azdata_cell_guid": "d0c0c55f-dd09-405c-a5f3-889882f8480b"
            },
            "attachments": {}
        },
        {
            "cell_type": "markdown",
            "source": [
                "Scenario: You have been tasked with aggregating data on OPC sales for each year in the data... \n",
                "\n",
                "### 4.1 Question: Compute the **total number** of _orders_ and _sales_ **per year**. Save the output as a line chart. The X and Y labels should be Year and Annual Sales By Orders. Place the legend on bottom of the chart.\n",
                "\n",
                "#### Note: This query will require a concept for date data types we have not covered yet known as EXTRACT. To EXTRACT() from a date column, use the EXTRACT function and indicate which element from the colum you want to extract. i.e. <code>EXTRACT(YEAR from date_column) AS year</code>"
            ],
            "metadata": {
                "azdata_cell_guid": "f5b83697-7eb5-42ff-9f43-ace062ad6d30"
            },
            "attachments": {}
        },
        {
            "cell_type": "code",
            "source": [
                "SELECT \r\n",
                "    EXTRACT(YEAR FROM ord_date) AS year,\r\n",
                "    COUNT(ord_id) AS total_orders,\r\n",
                "    SUM(order_tot) AS total_sales\r\n",
                "FROM \r\n",
                "    dsci_504.orders\r\n",
                "GROUP BY \r\n",
                "    EXTRACT(YEAR FROM ord_date)\r\n",
                "ORDER BY \r\n",
                "    year;"
            ],
            "metadata": {
                "azdata_cell_guid": "883c1f28-40be-4e96-b1be-ac5cc0643444",
                "language": "sql"
            },
            "outputs": [
                {
                    "output_type": "display_data",
                    "data": {
                        "text/html": "(20 row(s) affected)"
                    },
                    "metadata": {}
                },
                {
                    "output_type": "display_data",
                    "data": {
                        "text/html": "Total execution time: 00:00:00.040"
                    },
                    "metadata": {}
                },
                {
                    "output_type": "execute_result",
                    "metadata": {},
                    "execution_count": 1,
                    "data": {
                        "application/vnd.dataresource+json": {
                            "schema": {
                                "fields": [
                                    {
                                        "name": "year"
                                    },
                                    {
                                        "name": "total_orders"
                                    },
                                    {
                                        "name": "total_sales"
                                    }
                                ]
                            },
                            "data": [
                                {
                                    "year": "2000",
                                    "total_orders": "150",
                                    "total_sales": "728573.98"
                                },
                                {
                                    "year": "2001",
                                    "total_orders": "137",
                                    "total_sales": "696021.07"
                                },
                                {
                                    "year": "2002",
                                    "total_orders": "123",
                                    "total_sales": "565160.48"
                                },
                                {
                                    "year": "2003",
                                    "total_orders": "112",
                                    "total_sales": "523462.78"
                                },
                                {
                                    "year": "2004",
                                    "total_orders": "119",
                                    "total_sales": "577862.23"
                                },
                                {
                                    "year": "2005",
                                    "total_orders": "131",
                                    "total_sales": "635804.33"
                                },
                                {
                                    "year": "2006",
                                    "total_orders": "154",
                                    "total_sales": "754774.44"
                                },
                                {
                                    "year": "2007",
                                    "total_orders": "124",
                                    "total_sales": "598244.74"
                                },
                                {
                                    "year": "2008",
                                    "total_orders": "122",
                                    "total_sales": "607583.88"
                                },
                                {
                                    "year": "2009",
                                    "total_orders": "129",
                                    "total_sales": "651427.80"
                                },
                                {
                                    "year": "2010",
                                    "total_orders": "138",
                                    "total_sales": "655375.09"
                                },
                                {
                                    "year": "2011",
                                    "total_orders": "131",
                                    "total_sales": "630545.52"
                                },
                                {
                                    "year": "2012",
                                    "total_orders": "126",
                                    "total_sales": "610428.02"
                                },
                                {
                                    "year": "2013",
                                    "total_orders": "132",
                                    "total_sales": "637818.16"
                                },
                                {
                                    "year": "2014",
                                    "total_orders": "113",
                                    "total_sales": "534454.30"
                                },
                                {
                                    "year": "2015",
                                    "total_orders": "135",
                                    "total_sales": "652318.08"
                                },
                                {
                                    "year": "2016",
                                    "total_orders": "133",
                                    "total_sales": "602895.41"
                                },
                                {
                                    "year": "2017",
                                    "total_orders": "134",
                                    "total_sales": "641076.76"
                                },
                                {
                                    "year": "2018",
                                    "total_orders": "135",
                                    "total_sales": "642704.33"
                                },
                                {
                                    "year": "2019",
                                    "total_orders": "121",
                                    "total_sales": "558094.48"
                                }
                            ]
                        },
                        "text/html": [
                            "<table>",
                            "<tr><th>year</th><th>total_orders</th><th>total_sales</th></tr>",
                            "<tr><td>2000</td><td>150</td><td>728573.98</td></tr>",
                            "<tr><td>2001</td><td>137</td><td>696021.07</td></tr>",
                            "<tr><td>2002</td><td>123</td><td>565160.48</td></tr>",
                            "<tr><td>2003</td><td>112</td><td>523462.78</td></tr>",
                            "<tr><td>2004</td><td>119</td><td>577862.23</td></tr>",
                            "<tr><td>2005</td><td>131</td><td>635804.33</td></tr>",
                            "<tr><td>2006</td><td>154</td><td>754774.44</td></tr>",
                            "<tr><td>2007</td><td>124</td><td>598244.74</td></tr>",
                            "<tr><td>2008</td><td>122</td><td>607583.88</td></tr>",
                            "<tr><td>2009</td><td>129</td><td>651427.80</td></tr>",
                            "<tr><td>2010</td><td>138</td><td>655375.09</td></tr>",
                            "<tr><td>2011</td><td>131</td><td>630545.52</td></tr>",
                            "<tr><td>2012</td><td>126</td><td>610428.02</td></tr>",
                            "<tr><td>2013</td><td>132</td><td>637818.16</td></tr>",
                            "<tr><td>2014</td><td>113</td><td>534454.30</td></tr>",
                            "<tr><td>2015</td><td>135</td><td>652318.08</td></tr>",
                            "<tr><td>2016</td><td>133</td><td>602895.41</td></tr>",
                            "<tr><td>2017</td><td>134</td><td>641076.76</td></tr>",
                            "<tr><td>2018</td><td>135</td><td>642704.33</td></tr>",
                            "<tr><td>2019</td><td>121</td><td>558094.48</td></tr>",
                            "</table>"
                        ]
                    }
                }
            ],
            "execution_count": 1
        },
        {
            "cell_type": "markdown",
            "source": [
                "### 4.2 Question: How many _returns_ does each _warehouse_ have?"
            ],
            "metadata": {
                "azdata_cell_guid": "c0756488-9bc2-4427-b2cf-15dc2e2140d3"
            },
            "attachments": {}
        },
        {
            "cell_type": "code",
            "source": [
                "SELECT \r\n",
                "    w.warehouse_name,\r\n",
                "    COUNT(r.rac_id) AS total_returns\r\n",
                "FROM \r\n",
                "    dsci_504.returns r\r\n",
                "JOIN \r\n",
                "    dsci_504.warehouses w \r\n",
                "    ON r.warehouse_id = w.warehouse_id\r\n",
                "GROUP BY \r\n",
                "    w.warehouse_name\r\n",
                "ORDER BY \r\n",
                "    total_returns DESC;"
            ],
            "metadata": {
                "azdata_cell_guid": "54104008-b67e-429b-9a16-2bc6daaf65e9",
                "language": "sql"
            },
            "outputs": [
                {
                    "output_type": "display_data",
                    "data": {
                        "text/html": "(3 row(s) affected)"
                    },
                    "metadata": {}
                },
                {
                    "output_type": "display_data",
                    "data": {
                        "text/html": "Total execution time: 00:00:00.019"
                    },
                    "metadata": {}
                },
                {
                    "output_type": "execute_result",
                    "metadata": {},
                    "execution_count": 3,
                    "data": {
                        "application/vnd.dataresource+json": {
                            "schema": {
                                "fields": [
                                    {
                                        "name": "warehouse_name"
                                    },
                                    {
                                        "name": "total_returns"
                                    }
                                ]
                            },
                            "data": [
                                {
                                    "warehouse_name": "Sacramento",
                                    "total_returns": "513"
                                },
                                {
                                    "warehouse_name": "Dallas",
                                    "total_returns": "271"
                                },
                                {
                                    "warehouse_name": "Columbus",
                                    "total_returns": "240"
                                }
                            ]
                        },
                        "text/html": [
                            "<table>",
                            "<tr><th>warehouse_name</th><th>total_returns</th></tr>",
                            "<tr><td>Sacramento</td><td>513</td></tr>",
                            "<tr><td>Dallas</td><td>271</td></tr>",
                            "<tr><td>Columbus</td><td>240</td></tr>",
                            "</table>"
                        ]
                    }
                }
            ],
            "execution_count": 3
        },
        {
            "cell_type": "markdown",
            "source": [
                "### 4.3 Question: Bucketize _order totals_ in **three separate buckets (bins)** with the following ranges: \n",
                "#### <li> Less than 1000 = **Low** </li> <li> Less than 5000 = **Medium** </li> <li> Everything else is **High** </li> <br> Order the results by highest to lowerst _order total_."
            ],
            "metadata": {
                "language": "sql",
                "azdata_cell_guid": "10c0d43c-4cf9-4c5c-9f3f-e93e59222a36"
            },
            "attachments": {}
        },
        {
            "cell_type": "code",
            "source": [
                "--Enter your query here"
            ],
            "metadata": {
                "language": "sql",
                "azdata_cell_guid": "552cd762-edb1-43b2-b038-d32a63eb7772"
            },
            "outputs": [],
            "execution_count": null
        },
        {
            "cell_type": "markdown",
            "source": [
                "### 4.4 Question: Return the **total return amount** per _customer_ and _order_"
            ],
            "metadata": {
                "azdata_cell_guid": "f7af5912-32df-46b6-86f0-ecb6e4e31699"
            },
            "attachments": {}
        },
        {
            "cell_type": "code",
            "source": [
                "--Enter your query here"
            ],
            "metadata": {
                "azdata_cell_guid": "ac1bd379-ddd6-41a3-a196-c0ea8fa8617c",
                "language": "sql"
            },
            "outputs": [],
            "execution_count": null
        },
        {
            "cell_type": "markdown",
            "source": [
                "### 4.5 Count the number of _suppliers_ providing **more then 5** _components_"
            ],
            "metadata": {
                "language": "sql",
                "azdata_cell_guid": "c9c35566-8940-426b-8e25-7f1b85f4d7e4"
            },
            "attachments": {}
        },
        {
            "cell_type": "code",
            "source": [
                "--Enter your query here"
            ],
            "metadata": {
                "language": "sql",
                "azdata_cell_guid": "d4ae931e-0a4b-412c-b60f-66dd64a6c7dd"
            },
            "outputs": [],
            "execution_count": null
        },
        {
            "cell_type": "markdown",
            "source": [
                "### 4.6 Question: Find builds with more than eight(8) components."
            ],
            "metadata": {
                "language": "sql",
                "azdata_cell_guid": "870e41a2-ffa9-4610-9a87-93abd1ebaa11"
            },
            "attachments": {}
        },
        {
            "cell_type": "code",
            "source": [
                "--Enter your query here"
            ],
            "metadata": {
                "language": "sql",
                "azdata_cell_guid": "d3a4f6ff-13c1-4c1d-b874-6389040c658f"
            },
            "outputs": [],
            "execution_count": null
        },
        {
            "cell_type": "markdown",
            "source": [
                "### 4.7 Question: List months with total sales below $25,000.00 between Jan 1, 2007 and Dec 31, 2012"
            ],
            "metadata": {
                "language": "sql",
                "azdata_cell_guid": "4af62620-7a56-45e1-bc63-8fa459d14c8f"
            },
            "attachments": {}
        },
        {
            "cell_type": "code",
            "source": [
                "--Enter your query here"
            ],
            "metadata": {
                "language": "sql",
                "azdata_cell_guid": "b06321a9-3efe-4900-aa00-ec40876a0004"
            },
            "outputs": [],
            "execution_count": null
        },
        {
            "cell_type": "markdown",
            "source": [
                "### 4.8 Question: Enter a custom query of your own choosing using an aggregate or conditional query. Replace this question with the question you wanted your query to answer."
            ],
            "metadata": {
                "language": "sql",
                "azdata_cell_guid": "1a10d425-2f1c-44f4-9250-923b9fada1f7"
            },
            "attachments": {}
        },
        {
            "cell_type": "code",
            "source": [
                "--Enter your query here"
            ],
            "metadata": {
                "language": "sql",
                "azdata_cell_guid": "1331a2be-7d70-45cb-958e-8239a4b97e84"
            },
            "outputs": [],
            "execution_count": null
        },
        {
            "cell_type": "markdown",
            "source": [
                "### 4.9 Question: Enter a custom query of your own choosing using an aggregate or conditional query. Replace this question with the question you wanted your query to answer."
            ],
            "metadata": {
                "language": "sql",
                "azdata_cell_guid": "768a4815-347c-46b8-a604-e59d5b568ef0"
            },
            "attachments": {}
        },
        {
            "cell_type": "code",
            "source": [
                "--Enter your query here"
            ],
            "metadata": {
                "language": "sql",
                "azdata_cell_guid": "894fc9dc-1a9a-4a45-8b00-2e064e0a20fa"
            },
            "outputs": [],
            "execution_count": null
        },
        {
            "cell_type": "markdown",
            "source": [
                "### Double-click this cell and answer the following questions in your own words:\n",
                "\n",
                "1. Describe the data represented in the chart you created in 4.1 <br>\n",
                "[Enter your answer here]\n",
                "\n",
                "2. How could the CASE query in 4.3 be improved upon? <br>\n",
                "[Enter your answer here]\n",
                "\n",
                "3. Which build had the highest number of components in 4.6? How many componets where there? <br>\n",
                "[Enter  your answer here]\n",
                "\n",
                "4. Why did you choose the two queries your wrote? What prompted you to search for the items you searched for? <br>\n",
                "[Enter your answer here]"
            ],
            "metadata": {
                "language": "sql",
                "azdata_cell_guid": "a1ac4faa-4c10-42e1-a314-34993bab0d1a"
            },
            "attachments": {}
        },
        {
            "cell_type": "markdown",
            "source": [
                "### Save this file as html for submission.\n",
                "#### <li>Change the kernel to Python and run the next cell. </li>\n",
                "#### <li>Append the end of the file to include your name once saved. </li>\n",
                "#### <li>Submit the generated html file in Canvas for credit and grading.</li>"
            ],
            "metadata": {
                "language": "",
                "azdata_cell_guid": "38da4a8b-8a7e-4be7-ab6c-aeeaaad87dee"
            },
            "attachments": {}
        },
        {
            "cell_type": "code",
            "source": [
                "!jupyter nbconvert --to html DSCI504_Wk4_Assignment.ipynb"
            ],
            "metadata": {
                "azdata_cell_guid": "d2a6c53c-fcb2-4024-9578-0dbf93cac30f",
                "language": "sql"
            },
            "outputs": [],
            "execution_count": null
        }
    ]
}