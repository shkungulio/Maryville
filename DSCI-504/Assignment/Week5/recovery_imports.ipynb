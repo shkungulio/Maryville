{
    "metadata": {
        "kernelspec": {
            "name": "SQL",
            "display_name": "SQL",
            "language": "sql"
        },
        "language_info": {
            "name": "sql",
            "version": ""
        }
    },
    "nbformat_minor": 2,
    "nbformat": 4,
    "cells": [
        {
            "cell_type": "markdown",
            "source": [
                "**Week5 Imports**"
            ],
            "metadata": {
                "azdata_cell_guid": "ef2ce4bc-ea70-4853-9c7b-ef2651ef053b"
            },
            "attachments": {}
        },
        {
            "cell_type": "markdown",
            "source": [
                "**Import the additional data into the OPC tables in PostgreSQL. Use a new code cell for each file.**"
            ],
            "metadata": {
                "azdata_cell_guid": "f0456376-60f8-49fe-97cd-5aecca8915de"
            },
            "attachments": {}
        },
        {
            "cell_type": "code",
            "source": [
                "-- 1) Import data into dsci_504.orders table\r\n",
                "COPY dsci_504.orders(ord_id, ord_date, ord_tax_loc, order_tot, ord_ship_add, \r\n",
                "ord_ship_date, ord_track_num, warehouse_id, cus_id)\r\n",
                "FROM 'C:\\PROJECTS\\Maryville\\DSCI-504\\Assignment\\Week5\\OPC_Data_Recovery_Files\\new_orders.csv'\r\n",
                "DELIMITER ','\r\n",
                "CSV HEADER;"
            ],
            "metadata": {
                "language": "sql",
                "azdata_cell_guid": "22fd9aeb-34bd-4125-99a7-f5b42c0ad91a"
            },
            "outputs": [],
            "execution_count": null
        },
        {
            "cell_type": "code",
            "source": [
                "-- 2) Import data into dsci_504.order_items table\r\n",
                "COPY dsci_504.order_items(ord_id, prod_id, quantity, line_total)\r\n",
                "FROM 'C:\\PROJECTS\\Maryville\\DSCI-504\\Assignment\\Week5\\OPC_Data_Recovery_Files\\new_order_items.csv'\r\n",
                "DELIMITER ','\r\n",
                "CSV HEADER;"
            ],
            "metadata": {
                "language": "sql",
                "azdata_cell_guid": "63d317fc-8fc2-4e62-8e40-a210c4ae068c"
            },
            "outputs": [],
            "execution_count": null
        },
        {
            "cell_type": "code",
            "source": [
                "-- 3) Import data into dsci_504.returns table\r\n",
                "COPY dsci_504.returns(rac_id, ord_id, cus_id, warehouse_id, return_date, tot_ret_item_cnt, tot_ret_amnt)\r\n",
                "FROM 'C:\\PROJECTS\\Maryville\\DSCI-504\\Assignment\\Week5\\OPC_Data_Recovery_Files\\new_returns.csv'\r\n",
                "DELIMITER ','\r\n",
                "CSV HEADER;"
            ],
            "metadata": {
                "azdata_cell_guid": "ab178641-9dad-4390-9a8a-65610d525366",
                "language": "sql"
            },
            "outputs": [],
            "execution_count": null
        },
        {
            "cell_type": "code",
            "source": [
                "-- 4) Import data into dsci_504.return_items table\r\n",
                "COPY dsci_504.return_items(rac_id, prod_id, comp_id, return_qty, return_amount, return_reason)\r\n",
                "FROM 'C:\\PROJECTS\\Maryville\\DSCI-504\\Assignment\\Week5\\OPC_Data_Recovery_Files\\new_return_items.csv'\r\n",
                "DELIMITER ','\r\n",
                "CSV HEADER;"
            ],
            "metadata": {
                "language": "sql",
                "azdata_cell_guid": "8736ea34-cb58-465c-ae6b-56b7652c03e3"
            },
            "outputs": [
                {
                    "output_type": "display_data",
                    "data": {
                        "text/html": "COPY 5500"
                    },
                    "metadata": {}
                },
                {
                    "output_type": "display_data",
                    "data": {
                        "text/html": "Total execution time: 00:00:00.657"
                    },
                    "metadata": {}
                }
            ],
            "execution_count": 3
        }
    ]
}