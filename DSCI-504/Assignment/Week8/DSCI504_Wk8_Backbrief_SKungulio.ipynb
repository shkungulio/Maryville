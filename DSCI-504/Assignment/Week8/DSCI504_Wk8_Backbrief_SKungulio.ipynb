{
    "metadata": {
        "kernelspec": {
            "name": "python3",
            "display_name": "Python 3 (ipykernel)",
            "language": "python"
        },
        "language_info": {
            "name": "python",
            "version": "3.12.7",
            "mimetype": "text/x-python",
            "codemirror_mode": {
                "name": "ipython",
                "version": 3
            },
            "pygments_lexer": "ipython3",
            "nbconvert_exporter": "python",
            "file_extension": ".py"
        }
    },
    "nbformat_minor": 2,
    "nbformat": 4,
    "cells": [
        {
            "cell_type": "markdown",
            "source": [
                "## **DSCI 504**\n",
                "\n",
                "### **Week 8: Corporate Backbrief Supporting Queries**\n",
                "\n",
                "**Student Name:** SEIF KUNGULIO"
            ],
            "metadata": {
                "azdata_cell_guid": "f53ed294-4b05-4e50-b0e1-5eb10c4ce382"
            },
            "attachments": {}
        },
        {
            "cell_type": "markdown",
            "source": [
                "### **Assignment Overview:**\n",
                "\n",
                "The Outdoor Performance Center (OPC) is evaluating the potential acquisition of **Ord Cycles**, a mountain bike manufacturer. As a data analyst on the OPC Analytics Team, I was tasked with determining whether this acquisition is a sound strategic move. This analysis uses data housed in **PostgreSQL** and queried via **Azure Data Studio** to assess business growth, operational capacity, fraud risks, and configuration preferences based on historical mountain bike sales data from 2001 to 2020."
            ],
            "metadata": {
                "azdata_cell_guid": "606badc2-44b3-41c2-be86-ddb2f60639c7"
            },
            "attachments": {}
        },
        {
            "cell_type": "markdown",
            "source": [
                "### **Understanding PostgreSQL’s Role in Analytics:**\n",
                "\n",
                "PostgreSQL played a critical role in enabling efficient data exploration and analysis. Its support for relational structures, advanced querying (e.g., window functions, CTEs), and data integrity mechanisms made it an ideal platform for evaluating historical trends and generating actionable insights. However, PostgreSQL's lack of built-in visualization tools and the need for query optimization skills are noteworthy constraints."
            ],
            "metadata": {
                "azdata_cell_guid": "9640aa5c-525e-4e56-aa3e-747a73e2e4ae"
            },
            "attachments": {}
        },
        {
            "cell_type": "markdown",
            "source": [
                "### **1\\. Adequacy of Mountain Bike Sales for Growth**\n",
                "\n",
                "To determine if OPC has sufficient momentum in mountain bike sales to justify growth, I analyzed yearly sales totals filtered by the \"mountain\" description. The SQL query below aggregates total order value by year:"
            ],
            "metadata": {
                "azdata_cell_guid": "33165bf5-deee-4800-9eb3-d6191c42b315"
            },
            "attachments": {}
        },
        {
            "cell_type": "code",
            "source": [
                "-- -- Aggregates total order value per year for 'mountain' bikes.\r\n",
                "SELECT DATE_PART('year', ord_date) AS year,\r\n",
                "       SUM(order_tot) AS total_sales\r\n",
                "FROM dsci_504.orders o\r\n",
                "JOIN dsci_504.order_items oi ON o.ord_id = oi.ord_id\r\n",
                "JOIN dsci_504.products p ON oi.prod_id = p.prod_id\r\n",
                "WHERE LOWER(p.prod_description) ILIKE '%mountain%'\r\n",
                "GROUP BY year\r\n",
                "ORDER BY year;"
            ],
            "metadata": {
                "azdata_cell_guid": "73dd23f8-605c-4f9b-8f31-c552cc6a655c",
                "language": "python"
            },
            "outputs": [
                {
                    "output_type": "display_data",
                    "data": {
                        "text/html": "(26 row(s) affected)"
                    },
                    "metadata": {}
                },
                {
                    "output_type": "display_data",
                    "data": {
                        "text/html": "Total execution time: 00:00:02.219"
                    },
                    "metadata": {}
                },
                {
                    "output_type": "execute_result",
                    "metadata": {},
                    "execution_count": 1,
                    "data": {
                        "application/vnd.dataresource+json": {
                            "schema": {
                                "fields": [
                                    {
                                        "name": "year"
                                    },
                                    {
                                        "name": "total_sales"
                                    }
                                ]
                            },
                            "data": [
                                {
                                    "year": "2000",
                                    "total_sales": "728573.98"
                                },
                                {
                                    "year": "2001",
                                    "total_sales": "696021.07"
                                },
                                {
                                    "year": "2002",
                                    "total_sales": "565160.48"
                                },
                                {
                                    "year": "2003",
                                    "total_sales": "523462.78"
                                },
                                {
                                    "year": "2004",
                                    "total_sales": "577862.23"
                                },
                                {
                                    "year": "2005",
                                    "total_sales": "635804.33"
                                },
                                {
                                    "year": "2006",
                                    "total_sales": "754774.44"
                                },
                                {
                                    "year": "2007",
                                    "total_sales": "598244.74"
                                },
                                {
                                    "year": "2008",
                                    "total_sales": "607583.88"
                                },
                                {
                                    "year": "2009",
                                    "total_sales": "651427.80"
                                },
                                {
                                    "year": "2010",
                                    "total_sales": "655375.09"
                                },
                                {
                                    "year": "2011",
                                    "total_sales": "630545.52"
                                },
                                {
                                    "year": "2012",
                                    "total_sales": "610428.02"
                                },
                                {
                                    "year": "2013",
                                    "total_sales": "637818.16"
                                },
                                {
                                    "year": "2014",
                                    "total_sales": "534454.30"
                                },
                                {
                                    "year": "2015",
                                    "total_sales": "652318.08"
                                },
                                {
                                    "year": "2016",
                                    "total_sales": "602895.41"
                                },
                                {
                                    "year": "2017",
                                    "total_sales": "107852651.43"
                                },
                                {
                                    "year": "2018",
                                    "total_sales": "101342881.33"
                                },
                                {
                                    "year": "2019",
                                    "total_sales": "103331872.63"
                                },
                                {
                                    "year": "2020",
                                    "total_sales": "251424173.58"
                                },
                                {
                                    "year": "2021",
                                    "total_sales": "71582943.29"
                                },
                                {
                                    "year": "2022",
                                    "total_sales": "106972242.64"
                                },
                                {
                                    "year": "2023",
                                    "total_sales": "102113925.09"
                                },
                                {
                                    "year": "2024",
                                    "total_sales": "115132846.82"
                                },
                                {
                                    "year": "2025",
                                    "total_sales": "106696110.76"
                                }
                            ]
                        },
                        "text/html": [
                            "<table>",
                            "<tr><th>year</th><th>total_sales</th></tr>",
                            "<tr><td>2000</td><td>728573.98</td></tr>",
                            "<tr><td>2001</td><td>696021.07</td></tr>",
                            "<tr><td>2002</td><td>565160.48</td></tr>",
                            "<tr><td>2003</td><td>523462.78</td></tr>",
                            "<tr><td>2004</td><td>577862.23</td></tr>",
                            "<tr><td>2005</td><td>635804.33</td></tr>",
                            "<tr><td>2006</td><td>754774.44</td></tr>",
                            "<tr><td>2007</td><td>598244.74</td></tr>",
                            "<tr><td>2008</td><td>607583.88</td></tr>",
                            "<tr><td>2009</td><td>651427.80</td></tr>",
                            "<tr><td>2010</td><td>655375.09</td></tr>",
                            "<tr><td>2011</td><td>630545.52</td></tr>",
                            "<tr><td>2012</td><td>610428.02</td></tr>",
                            "<tr><td>2013</td><td>637818.16</td></tr>",
                            "<tr><td>2014</td><td>534454.30</td></tr>",
                            "<tr><td>2015</td><td>652318.08</td></tr>",
                            "<tr><td>2016</td><td>602895.41</td></tr>",
                            "<tr><td>2017</td><td>107852651.43</td></tr>",
                            "<tr><td>2018</td><td>101342881.33</td></tr>",
                            "<tr><td>2019</td><td>103331872.63</td></tr>",
                            "<tr><td>2020</td><td>251424173.58</td></tr>",
                            "<tr><td>2021</td><td>71582943.29</td></tr>",
                            "<tr><td>2022</td><td>106972242.64</td></tr>",
                            "<tr><td>2023</td><td>102113925.09</td></tr>",
                            "<tr><td>2024</td><td>115132846.82</td></tr>",
                            "<tr><td>2025</td><td>106696110.76</td></tr>",
                            "</table>"
                        ]
                    }
                }
            ],
            "execution_count": 1
        },
        {
            "cell_type": "markdown",
            "source": [
                "The query reveals annual revenue from mountain bike sales, showing a stable performance from 2000 to 2016 with revenues in the range of $500K–$750K. However, a significant surge appears from 2017 onward, with sales jumping to over $100 million per year and peaking at $251M in 2020. This sharp uptick likely indicates an increased consumer interest or business expansion, making a strong case for OPC's strategic growth and Ord Cycles' acquisition.  \n",
                "\n",
                "Additionally, I evaluated product descriptions to identify top-performing bike types:"
            ],
            "metadata": {
                "language": "sql",
                "azdata_cell_guid": "2f19f979-e236-4776-9691-ccef65be5312"
            },
            "attachments": {}
        },
        {
            "cell_type": "code",
            "source": [
                "-- Identifies top mountain bike descriptions by total revenue and count of orders.\r\n",
                "SELECT p.prod_description, COUNT(*) AS orders, SUM(oi.line_total) AS revenue\r\n",
                "FROM dsci_504.order_items oi\r\n",
                "JOIN dsci_504.products p ON oi.prod_id = p.prod_id\r\n",
                "WHERE LOWER(p.prod_description) ILIKE '%mountain%'\r\n",
                "GROUP BY p.prod_description\r\n",
                "ORDER BY revenue DESC;"
            ],
            "metadata": {
                "language": "python",
                "azdata_cell_guid": "486dc715-d9de-4521-b453-03f649c8f4d7"
            },
            "outputs": [
                {
                    "output_type": "display_data",
                    "data": {
                        "text/html": "(2 row(s) affected)"
                    },
                    "metadata": {}
                },
                {
                    "output_type": "display_data",
                    "data": {
                        "text/html": "Total execution time: 00:00:00.053"
                    },
                    "metadata": {}
                },
                {
                    "output_type": "execute_result",
                    "metadata": {},
                    "execution_count": 2,
                    "data": {
                        "application/vnd.dataresource+json": {
                            "schema": {
                                "fields": [
                                    {
                                        "name": "prod_description"
                                    },
                                    {
                                        "name": "orders"
                                    },
                                    {
                                        "name": "revenue"
                                    }
                                ]
                            },
                            "data": [
                                {
                                    "prod_description": "Full-Suspension Mountain Bike",
                                    "orders": "30857",
                                    "revenue": "293985124.14"
                                },
                                {
                                    "prod_description": "Hardtail Mountain Bike",
                                    "orders": "1894",
                                    "revenue": "8464768.19"
                                }
                            ]
                        },
                        "text/html": [
                            "<table>",
                            "<tr><th>prod_description</th><th>orders</th><th>revenue</th></tr>",
                            "<tr><td>Full-Suspension Mountain Bike</td><td>30857</td><td>293985124.14</td></tr>",
                            "<tr><td>Hardtail Mountain Bike</td><td>1894</td><td>8464768.19</td></tr>",
                            "</table>"
                        ]
                    }
                }
            ],
            "execution_count": 2
        },
        {
            "cell_type": "markdown",
            "source": [
                "Two mountain bike types dominate the sales:\n",
                "\n",
                "- <span style=\"color: var(--vscode-foreground);\">Full-Suspension Mountain Bike: $293M revenue from 30,857 orders.</span>\n",
                "- Hardtail Mountain Bike: $8.4M from 1,894 orders\n",
                "\n",
                "<span style=\"color: var(--vscode-foreground);\">This suggests customers overwhelmingly prefer Full-Suspension builds, which should guide future inventory, marketing, and product alignment with Ord Cycles.</span>"
            ],
            "metadata": {
                "language": "sql",
                "azdata_cell_guid": "fd2c404c-e98c-4a81-a712-5130c71dfbbc"
            },
            "attachments": {}
        },
        {
            "cell_type": "markdown",
            "source": [
                "### **2\\. Fraud Risk Analysis**\n",
                "\n",
                "To ensure due diligence, I evaluated potential fraud by identifying customers with a high frequency of returns and high refund totals. Customers flagged by the following query could indicate abusive return behavior:"
            ],
            "metadata": {
                "azdata_cell_guid": "364bc7fa-431b-4792-ae38-36f087bcd7ec"
            },
            "attachments": {}
        },
        {
            "cell_type": "code",
            "source": [
                "-- Flags customers with more than 3 returns and refund total above $500.\r\n",
                "SELECT c.cus_id, c.cus_first_name, c.cus_last_name, COUNT(*) AS return_count,\r\n",
                "       SUM(r.return_amount) AS total_returned\r\n",
                "FROM dsci_504.return_items r\r\n",
                "JOIN dsci_504.returns ret ON r.rac_id = ret.rac_id\r\n",
                "JOIN dsci_504.customers c ON ret.cus_id = c.cus_id\r\n",
                "GROUP BY c.cus_id, c.cus_first_name, c.cus_last_name\r\n",
                "HAVING COUNT(*) > 3 AND SUM(r.return_amount) > 500\r\n",
                "ORDER BY total_returned DESC;"
            ],
            "metadata": {
                "azdata_cell_guid": "870230dc-77dd-46e8-ba8c-97c5972139cc",
                "language": "python"
            },
            "outputs": [
                {
                    "output_type": "display_data",
                    "data": {
                        "text/html": "(640 row(s) affected)"
                    },
                    "metadata": {}
                },
                {
                    "output_type": "display_data",
                    "data": {
                        "text/html": "Total execution time: 00:00:00.099"
                    },
                    "metadata": {}
                },
                {
                    "output_type": "execute_result",
                    "metadata": {},
                    "execution_count": 3,
                    "data": {
                        "application/vnd.dataresource+json": {
                            "schema": {
                                "fields": [
                                    {
                                        "name": "cus_id"
                                    },
                                    {
                                        "name": "cus_first_name"
                                    },
                                    {
                                        "name": "cus_last_name"
                                    },
                                    {
                                        "name": "return_count"
                                    },
                                    {
                                        "name": "total_returned"
                                    }
                                ]
                            },
                            "data": [
                                {
                                    "cus_id": "125",
                                    "cus_first_name": "Harper",
                                    "cus_last_name": "Robinson",
                                    "return_count": "7",
                                    "total_returned": "51041.00"
                                },
                                {
                                    "cus_id": "1393",
                                    "cus_first_name": "Erin",
                                    "cus_last_name": "Manning",
                                    "return_count": "7",
                                    "total_returned": "48308.33"
                                },
                                {
                                    "cus_id": "1821",
                                    "cus_first_name": "Tristan",
                                    "cus_last_name": "Bangeson",
                                    "return_count": "6",
                                    "total_returned": "48255.84"
                                },
                                {
                                    "cus_id": "1997",
                                    "cus_first_name": "Alister",
                                    "cus_last_name": "Connery",
                                    "return_count": "6",
                                    "total_returned": "44394.00"
                                },
                                {
                                    "cus_id": "2582",
                                    "cus_first_name": "Carl",
                                    "cus_last_name": "Stevens",
                                    "return_count": "7",
                                    "total_returned": "43977.08"
                                },
                                {
                                    "cus_id": "1675",
                                    "cus_first_name": "Lee",
                                    "cus_last_name": "Reynolds",
                                    "return_count": "7",
                                    "total_returned": "43770.58"
                                },
                                {
                                    "cus_id": "1648",
                                    "cus_first_name": "Mads",
                                    "cus_last_name": "Thomason",
                                    "return_count": "7",
                                    "total_returned": "43770.58"
                                },
                                {
                                    "cus_id": "1967",
                                    "cus_first_name": "Margo",
                                    "cus_last_name": "Brooks",
                                    "return_count": "5",
                                    "total_returned": "42900.00"
                                },
                                {
                                    "cus_id": "1163",
                                    "cus_first_name": "Brian",
                                    "cus_last_name": "Hart",
                                    "return_count": "5",
                                    "total_returned": "42240.00"
                                },
                                {
                                    "cus_id": "373",
                                    "cus_first_name": "Carl",
                                    "cus_last_name": "Saylor",
                                    "return_count": "7",
                                    "total_returned": "42094.95"
                                },
                                {
                                    "cus_id": "672",
                                    "cus_first_name": "Cooper",
                                    "cus_last_name": "Aaronson",
                                    "return_count": "5",
                                    "total_returned": "41291.20"
                                },
                                {
                                    "cus_id": "1909",
                                    "cus_first_name": "Farris",
                                    "cus_last_name": "Willis",
                                    "return_count": "5",
                                    "total_returned": "41194.95"
                                },
                                {
                                    "cus_id": "38",
                                    "cus_first_name": "Harper",
                                    "cus_last_name": "Jackson",
                                    "return_count": "6",
                                    "total_returned": "40835.20"
                                },
                                {
                                    "cus_id": "1062",
                                    "cus_first_name": "Valerie",
                                    "cus_last_name": "Manchester",
                                    "return_count": "6",
                                    "total_returned": "40367.20"
                                },
                                {
                                    "cus_id": "47",
                                    "cus_first_name": "Brandon",
                                    "cus_last_name": "Manchester",
                                    "return_count": "6",
                                    "total_returned": "40003.45"
                                },
                                {
                                    "cus_id": "2070",
                                    "cus_first_name": "Lee",
                                    "cus_last_name": "Presten",
                                    "return_count": "5",
                                    "total_returned": "40000.00"
                                },
                                {
                                    "cus_id": "1645",
                                    "cus_first_name": "Aaron",
                                    "cus_last_name": "Seiler",
                                    "return_count": "5",
                                    "total_returned": "40000.00"
                                },
                                {
                                    "cus_id": "281",
                                    "cus_first_name": "Robert",
                                    "cus_last_name": "Garth",
                                    "return_count": "6",
                                    "total_returned": "39922.70"
                                },
                                {
                                    "cus_id": "2108",
                                    "cus_first_name": "Tristan",
                                    "cus_last_name": "Deleon",
                                    "return_count": "5",
                                    "total_returned": "38499.95"
                                },
                                {
                                    "cus_id": "306",
                                    "cus_first_name": "Carl",
                                    "cus_last_name": "Garcia",
                                    "return_count": "5",
                                    "total_returned": "38474.80"
                                },
                                {
                                    "cus_id": "1058",
                                    "cus_first_name": "Adam",
                                    "cus_last_name": "Ramirez",
                                    "return_count": "6",
                                    "total_returned": "37694.64"
                                },
                                {
                                    "cus_id": "466",
                                    "cus_first_name": "Jasmine",
                                    "cus_last_name": "Garth",
                                    "return_count": "8",
                                    "total_returned": "37432.00"
                                },
                                {
                                    "cus_id": "697",
                                    "cus_first_name": "Brian",
                                    "cus_last_name": "Connery",
                                    "return_count": "6",
                                    "total_returned": "36995.00"
                                },
                                {
                                    "cus_id": "439",
                                    "cus_first_name": "Alister",
                                    "cus_last_name": "Manchester",
                                    "return_count": "7",
                                    "total_returned": "36902.64"
                                },
                                {
                                    "cus_id": "1552",
                                    "cus_first_name": "Joshua",
                                    "cus_last_name": "Presley",
                                    "return_count": "7",
                                    "total_returned": "36400.00"
                                },
                                {
                                    "cus_id": "1728",
                                    "cus_first_name": "Thomas",
                                    "cus_last_name": "Manning",
                                    "return_count": "6",
                                    "total_returned": "35938.34"
                                },
                                {
                                    "cus_id": "335",
                                    "cus_first_name": "Albert",
                                    "cus_last_name": "Harper",
                                    "return_count": "8",
                                    "total_returned": "35156.00"
                                },
                                {
                                    "cus_id": "962",
                                    "cus_first_name": "Eric",
                                    "cus_last_name": "Cooper",
                                    "return_count": "8",
                                    "total_returned": "34754.02"
                                },
                                {
                                    "cus_id": "709",
                                    "cus_first_name": "Timothy",
                                    "cus_last_name": "Archibald",
                                    "return_count": "5",
                                    "total_returned": "34519.00"
                                },
                                {
                                    "cus_id": "964",
                                    "cus_first_name": "Nadine",
                                    "cus_last_name": "Manchester",
                                    "return_count": "5",
                                    "total_returned": "34343.95"
                                },
                                {
                                    "cus_id": "2367",
                                    "cus_first_name": "Chris",
                                    "cus_last_name": "Bangeson",
                                    "return_count": "5",
                                    "total_returned": "34290.00"
                                },
                                {
                                    "cus_id": "2517",
                                    "cus_first_name": "Mads",
                                    "cus_last_name": "Presten",
                                    "return_count": "6",
                                    "total_returned": "34056.80"
                                },
                                {
                                    "cus_id": "674",
                                    "cus_first_name": "George",
                                    "cus_last_name": "Jamieson",
                                    "return_count": "5",
                                    "total_returned": "33971.35"
                                },
                                {
                                    "cus_id": "272",
                                    "cus_first_name": "Blain",
                                    "cus_last_name": "Saylor",
                                    "return_count": "4",
                                    "total_returned": "33920.00"
                                },
                                {
                                    "cus_id": "818",
                                    "cus_first_name": "Airn",
                                    "cus_last_name": "Booker",
                                    "return_count": "6",
                                    "total_returned": "33893.50"
                                },
                                {
                                    "cus_id": "2071",
                                    "cus_first_name": "Mike",
                                    "cus_last_name": "Acosta",
                                    "return_count": "6",
                                    "total_returned": "33688.02"
                                },
                                {
                                    "cus_id": "2285",
                                    "cus_first_name": "Mindy",
                                    "cus_last_name": "Slain",
                                    "return_count": "5",
                                    "total_returned": "33564.96"
                                },
                                {
                                    "cus_id": "602",
                                    "cus_first_name": "Maggs",
                                    "cus_last_name": "Reynolds",
                                    "return_count": "6",
                                    "total_returned": "33563.25"
                                },
                                {
                                    "cus_id": "1194",
                                    "cus_first_name": "Zachary",
                                    "cus_last_name": "Willis",
                                    "return_count": "8",
                                    "total_returned": "33511.60"
                                },
                                {
                                    "cus_id": "56",
                                    "cus_first_name": "Corey",
                                    "cus_last_name": "Garth",
                                    "return_count": "5",
                                    "total_returned": "33280.00"
                                },
                                {
                                    "cus_id": "271",
                                    "cus_first_name": "Corey",
                                    "cus_last_name": "Tankersly",
                                    "return_count": "5",
                                    "total_returned": "33043.96"
                                },
                                {
                                    "cus_id": "1944",
                                    "cus_first_name": "Joshua",
                                    "cus_last_name": "Brooks",
                                    "return_count": "7",
                                    "total_returned": "33020.40"
                                },
                                {
                                    "cus_id": "2554",
                                    "cus_first_name": "Corey",
                                    "cus_last_name": "Hart",
                                    "return_count": "8",
                                    "total_returned": "32775.12"
                                },
                                {
                                    "cus_id": "731",
                                    "cus_first_name": "Albert",
                                    "cus_last_name": "Johnasen",
                                    "return_count": "5",
                                    "total_returned": "32695.76"
                                },
                                {
                                    "cus_id": "1813",
                                    "cus_first_name": "Eric",
                                    "cus_last_name": "Connery",
                                    "return_count": "4",
                                    "total_returned": "32647.96"
                                },
                                {
                                    "cus_id": "925",
                                    "cus_first_name": "Miguel",
                                    "cus_last_name": "Etzler",
                                    "return_count": "4",
                                    "total_returned": "32570.96"
                                },
                                {
                                    "cus_id": "1087",
                                    "cus_first_name": "Richard",
                                    "cus_last_name": "Saylor",
                                    "return_count": "5",
                                    "total_returned": "32372.72"
                                },
                                {
                                    "cus_id": "2290",
                                    "cus_first_name": "Leah",
                                    "cus_last_name": "Reynolds",
                                    "return_count": "4",
                                    "total_returned": "32262.96"
                                },
                                {
                                    "cus_id": "1907",
                                    "cus_first_name": "Joshua",
                                    "cus_last_name": "Acosta",
                                    "return_count": "4",
                                    "total_returned": "32078.40"
                                },
                                {
                                    "cus_id": "1109",
                                    "cus_first_name": "Reginald",
                                    "cus_last_name": "MacBain",
                                    "return_count": "4",
                                    "total_returned": "32002.76"
                                },
                                {
                                    "cus_id": "414",
                                    "cus_first_name": "Reginald",
                                    "cus_last_name": "Jones",
                                    "return_count": "4",
                                    "total_returned": "32000.00"
                                },
                                {
                                    "cus_id": "1101",
                                    "cus_first_name": "Reginald",
                                    "cus_last_name": "Connery",
                                    "return_count": "6",
                                    "total_returned": "31975.00"
                                },
                                {
                                    "cus_id": "1238",
                                    "cus_first_name": "Chris",
                                    "cus_last_name": "Calahan",
                                    "return_count": "5",
                                    "total_returned": "31887.96"
                                },
                                {
                                    "cus_id": "1753",
                                    "cus_first_name": "Adam",
                                    "cus_last_name": "Slain",
                                    "return_count": "7",
                                    "total_returned": "31800.00"
                                },
                                {
                                    "cus_id": "1158",
                                    "cus_first_name": "Mads",
                                    "cus_last_name": "Dawson",
                                    "return_count": "4",
                                    "total_returned": "31700.12"
                                },
                                {
                                    "cus_id": "976",
                                    "cus_first_name": "Moritz",
                                    "cus_last_name": "MacBain",
                                    "return_count": "4",
                                    "total_returned": "31700.12"
                                },
                                {
                                    "cus_id": "781",
                                    "cus_first_name": "Brian",
                                    "cus_last_name": "Calahan",
                                    "return_count": "5",
                                    "total_returned": "31630.72"
                                },
                                {
                                    "cus_id": "1679",
                                    "cus_first_name": "Jasmine",
                                    "cus_last_name": "Stevens",
                                    "return_count": "7",
                                    "total_returned": "31535.00"
                                },
                                {
                                    "cus_id": "646",
                                    "cus_first_name": "Manuel",
                                    "cus_last_name": "Bangeson",
                                    "return_count": "8",
                                    "total_returned": "31534.93"
                                },
                                {
                                    "cus_id": "2524",
                                    "cus_first_name": "Brice",
                                    "cus_last_name": "Ramirez",
                                    "return_count": "4",
                                    "total_returned": "31519.76"
                                },
                                {
                                    "cus_id": "2253",
                                    "cus_first_name": "Thomas",
                                    "cus_last_name": "Maurer",
                                    "return_count": "4",
                                    "total_returned": "31371.76"
                                },
                                {
                                    "cus_id": "1228",
                                    "cus_first_name": "Cooper",
                                    "cus_last_name": "Stevens",
                                    "return_count": "5",
                                    "total_returned": "31264.70"
                                },
                                {
                                    "cus_id": "464",
                                    "cus_first_name": "George",
                                    "cus_last_name": "Sherman",
                                    "return_count": "4",
                                    "total_returned": "31253.36"
                                },
                                {
                                    "cus_id": "1634",
                                    "cus_first_name": "Mads",
                                    "cus_last_name": "Applewood",
                                    "return_count": "5",
                                    "total_returned": "31204.95"
                                },
                                {
                                    "cus_id": "168",
                                    "cus_first_name": "Brandon",
                                    "cus_last_name": "Slain",
                                    "return_count": "5",
                                    "total_returned": "31102.50"
                                },
                                {
                                    "cus_id": "913",
                                    "cus_first_name": "Mindy",
                                    "cus_last_name": "Gorman",
                                    "return_count": "7",
                                    "total_returned": "31073.91"
                                },
                                {
                                    "cus_id": "1257",
                                    "cus_first_name": "Leah",
                                    "cus_last_name": "Smith",
                                    "return_count": "4",
                                    "total_returned": "30913.04"
                                },
                                {
                                    "cus_id": "538",
                                    "cus_first_name": "Adam",
                                    "cus_last_name": "Ramirez",
                                    "return_count": "5",
                                    "total_returned": "30836.20"
                                },
                                {
                                    "cus_id": "2294",
                                    "cus_first_name": "Kenadi",
                                    "cus_last_name": "Cooper",
                                    "return_count": "5",
                                    "total_returned": "30662.20"
                                },
                                {
                                    "cus_id": "1606",
                                    "cus_first_name": "Leah",
                                    "cus_last_name": "Ellis",
                                    "return_count": "6",
                                    "total_returned": "30358.80"
                                },
                                {
                                    "cus_id": "732",
                                    "cus_first_name": "Cooper",
                                    "cus_last_name": "Garth",
                                    "return_count": "5",
                                    "total_returned": "30197.00"
                                },
                                {
                                    "cus_id": "1623",
                                    "cus_first_name": "Abigail",
                                    "cus_last_name": "Ridgley",
                                    "return_count": "5",
                                    "total_returned": "30154.80"
                                },
                                {
                                    "cus_id": "1254",
                                    "cus_first_name": "Noel",
                                    "cus_last_name": "Peters",
                                    "return_count": "6",
                                    "total_returned": "29646.18"
                                },
                                {
                                    "cus_id": "144",
                                    "cus_first_name": "Maggs",
                                    "cus_last_name": "Manning",
                                    "return_count": "6",
                                    "total_returned": "29608.80"
                                },
                                {
                                    "cus_id": "134",
                                    "cus_first_name": "Manuel",
                                    "cus_last_name": "Jones",
                                    "return_count": "6",
                                    "total_returned": "29548.50"
                                },
                                {
                                    "cus_id": "1068",
                                    "cus_first_name": "Kenadi",
                                    "cus_last_name": "Jackson",
                                    "return_count": "5",
                                    "total_returned": "29493.75"
                                },
                                {
                                    "cus_id": "1510",
                                    "cus_first_name": "Brandon",
                                    "cus_last_name": "Thomason",
                                    "return_count": "5",
                                    "total_returned": "29410.35"
                                },
                                {
                                    "cus_id": "1353",
                                    "cus_first_name": "Margo",
                                    "cus_last_name": "Rice",
                                    "return_count": "7",
                                    "total_returned": "29281.75"
                                },
                                {
                                    "cus_id": "2069",
                                    "cus_first_name": "Aaron",
                                    "cus_last_name": "Rice",
                                    "return_count": "5",
                                    "total_returned": "29240.95"
                                },
                                {
                                    "cus_id": "456",
                                    "cus_first_name": "Cooper",
                                    "cus_last_name": "Tompsen",
                                    "return_count": "5",
                                    "total_returned": "29171.95"
                                },
                                {
                                    "cus_id": "678",
                                    "cus_first_name": "Leah",
                                    "cus_last_name": "Saylor",
                                    "return_count": "6",
                                    "total_returned": "29097.00"
                                },
                                {
                                    "cus_id": "328",
                                    "cus_first_name": "Chris",
                                    "cus_last_name": "Aaronson",
                                    "return_count": "6",
                                    "total_returned": "29093.76"
                                },
                                {
                                    "cus_id": "1934",
                                    "cus_first_name": "Mike",
                                    "cus_last_name": "Roberts",
                                    "return_count": "7",
                                    "total_returned": "28730.14"
                                },
                                {
                                    "cus_id": "728",
                                    "cus_first_name": "Timothy",
                                    "cus_last_name": "Jones",
                                    "return_count": "5",
                                    "total_returned": "28723.75"
                                },
                                {
                                    "cus_id": "76",
                                    "cus_first_name": "Mike",
                                    "cus_last_name": "Slain",
                                    "return_count": "5",
                                    "total_returned": "28682.50"
                                },
                                {
                                    "cus_id": "320",
                                    "cus_first_name": "Eric",
                                    "cus_last_name": "Smith",
                                    "return_count": "5",
                                    "total_returned": "28600.00"
                                },
                                {
                                    "cus_id": "2260",
                                    "cus_first_name": "Eric",
                                    "cus_last_name": "Delapena",
                                    "return_count": "5",
                                    "total_returned": "28600.00"
                                },
                                {
                                    "cus_id": "1479",
                                    "cus_first_name": "Robert",
                                    "cus_last_name": "MacBain",
                                    "return_count": "6",
                                    "total_returned": "28492.75"
                                },
                                {
                                    "cus_id": "2183",
                                    "cus_first_name": "Robert",
                                    "cus_last_name": "Willis",
                                    "return_count": "7",
                                    "total_returned": "28307.58"
                                },
                                {
                                    "cus_id": "149",
                                    "cus_first_name": "Reginald",
                                    "cus_last_name": "Deleon",
                                    "return_count": "5",
                                    "total_returned": "28271.05"
                                },
                                {
                                    "cus_id": "1815",
                                    "cus_first_name": "Corey",
                                    "cus_last_name": "Ellis",
                                    "return_count": "5",
                                    "total_returned": "27875.65"
                                },
                                {
                                    "cus_id": "2279",
                                    "cus_first_name": "Thomas",
                                    "cus_last_name": "Presten",
                                    "return_count": "5",
                                    "total_returned": "27782.15"
                                },
                                {
                                    "cus_id": "1335",
                                    "cus_first_name": "Brandon",
                                    "cus_last_name": "Smith",
                                    "return_count": "6",
                                    "total_returned": "27649.80"
                                },
                                {
                                    "cus_id": "95",
                                    "cus_first_name": "Jasmine",
                                    "cus_last_name": "Manchester",
                                    "return_count": "6",
                                    "total_returned": "27629.72"
                                },
                                {
                                    "cus_id": "2592",
                                    "cus_first_name": "Brandon",
                                    "cus_last_name": "Willis",
                                    "return_count": "5",
                                    "total_returned": "27532.95"
                                },
                                {
                                    "cus_id": "1739",
                                    "cus_first_name": "Erin",
                                    "cus_last_name": "Peters",
                                    "return_count": "4",
                                    "total_returned": "27475.16"
                                },
                                {
                                    "cus_id": "2072",
                                    "cus_first_name": "Leah",
                                    "cus_last_name": "Riochardson",
                                    "return_count": "4",
                                    "total_returned": "27475.16"
                                },
                                {
                                    "cus_id": "902",
                                    "cus_first_name": "Taylor",
                                    "cus_last_name": "Roberts",
                                    "return_count": "4",
                                    "total_returned": "27338.64"
                                },
                                {
                                    "cus_id": "612",
                                    "cus_first_name": "Abigail",
                                    "cus_last_name": "Delacruz",
                                    "return_count": "5",
                                    "total_returned": "27279.65"
                                },
                                {
                                    "cus_id": "2173",
                                    "cus_first_name": "Cooper",
                                    "cus_last_name": "French",
                                    "return_count": "4",
                                    "total_returned": "27114.80"
                                },
                                {
                                    "cus_id": "516",
                                    "cus_first_name": "Margo",
                                    "cus_last_name": "Delapena",
                                    "return_count": "5",
                                    "total_returned": "27034.80"
                                },
                                {
                                    "cus_id": "2430",
                                    "cus_first_name": "Mads",
                                    "cus_last_name": "Ridgley",
                                    "return_count": "5",
                                    "total_returned": "26879.95"
                                },
                                {
                                    "cus_id": "2482",
                                    "cus_first_name": "Samuel",
                                    "cus_last_name": "Rowley",
                                    "return_count": "4",
                                    "total_returned": "26603.20"
                                },
                                {
                                    "cus_id": "1223",
                                    "cus_first_name": "Chris",
                                    "cus_last_name": "Conley",
                                    "return_count": "5",
                                    "total_returned": "26558.80"
                                },
                                {
                                    "cus_id": "1778",
                                    "cus_first_name": "Jasmine",
                                    "cus_last_name": "Shelton",
                                    "return_count": "6",
                                    "total_returned": "26520.00"
                                },
                                {
                                    "cus_id": "2104",
                                    "cus_first_name": "Harper",
                                    "cus_last_name": "Williamson",
                                    "return_count": "7",
                                    "total_returned": "26465.58"
                                },
                                {
                                    "cus_id": "53",
                                    "cus_first_name": "Alister",
                                    "cus_last_name": "Dawson",
                                    "return_count": "6",
                                    "total_returned": "26394.00"
                                },
                                {
                                    "cus_id": "1924",
                                    "cus_first_name": "Jack",
                                    "cus_last_name": "Jordan",
                                    "return_count": "5",
                                    "total_returned": "26375.00"
                                },
                                {
                                    "cus_id": "1513",
                                    "cus_first_name": "Cooper",
                                    "cus_last_name": "Jones",
                                    "return_count": "5",
                                    "total_returned": "25887.96"
                                },
                                {
                                    "cus_id": "2424",
                                    "cus_first_name": "Noel",
                                    "cus_last_name": "Harper",
                                    "return_count": "7",
                                    "total_returned": "25876.58"
                                },
                                {
                                    "cus_id": "2206",
                                    "cus_first_name": "Reginald",
                                    "cus_last_name": "Rice",
                                    "return_count": "5",
                                    "total_returned": "25852.80"
                                },
                                {
                                    "cus_id": "2390",
                                    "cus_first_name": "Samuel",
                                    "cus_last_name": "Smith",
                                    "return_count": "4",
                                    "total_returned": "25616.00"
                                },
                                {
                                    "cus_id": "2548",
                                    "cus_first_name": "Margo",
                                    "cus_last_name": "Dickerson",
                                    "return_count": "7",
                                    "total_returned": "25517.64"
                                },
                                {
                                    "cus_id": "1837",
                                    "cus_first_name": "Summer",
                                    "cus_last_name": "Applewood",
                                    "return_count": "6",
                                    "total_returned": "25500.48"
                                },
                                {
                                    "cus_id": "2293",
                                    "cus_first_name": "Manuel",
                                    "cus_last_name": "MacBain",
                                    "return_count": "5",
                                    "total_returned": "25483.80"
                                },
                                {
                                    "cus_id": "2546",
                                    "cus_first_name": "Thomas",
                                    "cus_last_name": "Reynolds",
                                    "return_count": "5",
                                    "total_returned": "25465.00"
                                },
                                {
                                    "cus_id": "2494",
                                    "cus_first_name": "Sarah",
                                    "cus_last_name": "Garth",
                                    "return_count": "7",
                                    "total_returned": "25442.64"
                                },
                                {
                                    "cus_id": "644",
                                    "cus_first_name": "Manuel",
                                    "cus_last_name": "Banks",
                                    "return_count": "6",
                                    "total_returned": "25433.64"
                                },
                                {
                                    "cus_id": "2540",
                                    "cus_first_name": "Kristoff",
                                    "cus_last_name": "Thomason",
                                    "return_count": "7",
                                    "total_returned": "25433.64"
                                },
                                {
                                    "cus_id": "179",
                                    "cus_first_name": "Thomas",
                                    "cus_last_name": "Saylor",
                                    "return_count": "6",
                                    "total_returned": "25433.64"
                                },
                                {
                                    "cus_id": "1969",
                                    "cus_first_name": "Blain",
                                    "cus_last_name": "Saylor",
                                    "return_count": "7",
                                    "total_returned": "25194.00"
                                },
                                {
                                    "cus_id": "2164",
                                    "cus_first_name": "Alister",
                                    "cus_last_name": "Presley",
                                    "return_count": "5",
                                    "total_returned": "25148.50"
                                },
                                {
                                    "cus_id": "1897",
                                    "cus_first_name": "Abigail",
                                    "cus_last_name": "Harper",
                                    "return_count": "5",
                                    "total_returned": "25145.00"
                                },
                                {
                                    "cus_id": "1124",
                                    "cus_first_name": "Farris",
                                    "cus_last_name": "Booker",
                                    "return_count": "5",
                                    "total_returned": "25130.76"
                                },
                                {
                                    "cus_id": "1120",
                                    "cus_first_name": "Richard",
                                    "cus_last_name": "Dewey",
                                    "return_count": "4",
                                    "total_returned": "25094.36"
                                },
                                {
                                    "cus_id": "1286",
                                    "cus_first_name": "Margo",
                                    "cus_last_name": "Cooper",
                                    "return_count": "5",
                                    "total_returned": "25094.36"
                                },
                                {
                                    "cus_id": "2516",
                                    "cus_first_name": "Taylor",
                                    "cus_last_name": "Bangeson",
                                    "return_count": "5",
                                    "total_returned": "25015.80"
                                },
                                {
                                    "cus_id": "571",
                                    "cus_first_name": "Jonathon",
                                    "cus_last_name": "Reynolds",
                                    "return_count": "4",
                                    "total_returned": "25011.76"
                                },
                                {
                                    "cus_id": "1990",
                                    "cus_first_name": "Abigail",
                                    "cus_last_name": "Monk",
                                    "return_count": "5",
                                    "total_returned": "25000.00"
                                },
                                {
                                    "cus_id": "288",
                                    "cus_first_name": "Mike",
                                    "cus_last_name": "Sherman",
                                    "return_count": "4",
                                    "total_returned": "24952.76"
                                },
                                {
                                    "cus_id": "2066",
                                    "cus_first_name": "Thomas",
                                    "cus_last_name": "Reynolds",
                                    "return_count": "4",
                                    "total_returned": "24917.36"
                                },
                                {
                                    "cus_id": "598",
                                    "cus_first_name": "Alister",
                                    "cus_last_name": "Aaronson",
                                    "return_count": "6",
                                    "total_returned": "24674.00"
                                },
                                {
                                    "cus_id": "512",
                                    "cus_first_name": "Mike",
                                    "cus_last_name": "Smith",
                                    "return_count": "5",
                                    "total_returned": "24668.96"
                                },
                                {
                                    "cus_id": "474",
                                    "cus_first_name": "Brandt",
                                    "cus_last_name": "Connery",
                                    "return_count": "5",
                                    "total_returned": "24623.75"
                                },
                                {
                                    "cus_id": "1467",
                                    "cus_first_name": "Farris",
                                    "cus_last_name": "Conley",
                                    "return_count": "5",
                                    "total_returned": "24623.75"
                                },
                                {
                                    "cus_id": "1061",
                                    "cus_first_name": "Zachary",
                                    "cus_last_name": "Calahan",
                                    "return_count": "8",
                                    "total_returned": "24610.90"
                                },
                                {
                                    "cus_id": "2587",
                                    "cus_first_name": "Reginald",
                                    "cus_last_name": "Riochardson",
                                    "return_count": "4",
                                    "total_returned": "24610.64"
                                },
                                {
                                    "cus_id": "1333",
                                    "cus_first_name": "Carl",
                                    "cus_last_name": "Shelton",
                                    "return_count": "4",
                                    "total_returned": "24539.84"
                                },
                                {
                                    "cus_id": "946",
                                    "cus_first_name": "George",
                                    "cus_last_name": "Peters",
                                    "return_count": "4",
                                    "total_returned": "24539.84"
                                },
                                {
                                    "cus_id": "2405",
                                    "cus_first_name": "Piper",
                                    "cus_last_name": "Ellis",
                                    "return_count": "4",
                                    "total_returned": "24539.84"
                                },
                                {
                                    "cus_id": "2388",
                                    "cus_first_name": "Aaron",
                                    "cus_last_name": "Rowley",
                                    "return_count": "6",
                                    "total_returned": "24504.45"
                                },
                                {
                                    "cus_id": "575",
                                    "cus_first_name": "Eric",
                                    "cus_last_name": "Jackson",
                                    "return_count": "4",
                                    "total_returned": "24499.20"
                                },
                                {
                                    "cus_id": "2012",
                                    "cus_first_name": "Summer",
                                    "cus_last_name": "Dewey",
                                    "return_count": "5",
                                    "total_returned": "24440.00"
                                },
                                {
                                    "cus_id": "1126",
                                    "cus_first_name": "Taylor",
                                    "cus_last_name": "Robinson",
                                    "return_count": "5",
                                    "total_returned": "24274.95"
                                },
                                {
                                    "cus_id": "1102",
                                    "cus_first_name": "Reginald",
                                    "cus_last_name": "Connery",
                                    "return_count": "4",
                                    "total_returned": "24128.00"
                                },
                                {
                                    "cus_id": "1033",
                                    "cus_first_name": "Eric",
                                    "cus_last_name": "Sherman",
                                    "return_count": "7",
                                    "total_returned": "24121.00"
                                },
                                {
                                    "cus_id": "46",
                                    "cus_first_name": "Brandt",
                                    "cus_last_name": "Dickerson",
                                    "return_count": "7",
                                    "total_returned": "23994.00"
                                },
                                {
                                    "cus_id": "2414",
                                    "cus_first_name": "Blain",
                                    "cus_last_name": "Rowley",
                                    "return_count": "4",
                                    "total_returned": "23983.16"
                                },
                                {
                                    "cus_id": "1820",
                                    "cus_first_name": "Tristan",
                                    "cus_last_name": "MacBain",
                                    "return_count": "4",
                                    "total_returned": "23898.56"
                                },
                                {
                                    "cus_id": "1332",
                                    "cus_first_name": "Erin",
                                    "cus_last_name": "Rice",
                                    "return_count": "5",
                                    "total_returned": "23876.45"
                                },
                                {
                                    "cus_id": "841",
                                    "cus_first_name": "Noel",
                                    "cus_last_name": "Manning",
                                    "return_count": "5",
                                    "total_returned": "23870.04"
                                },
                                {
                                    "cus_id": "2478",
                                    "cus_first_name": "Harper",
                                    "cus_last_name": "Manchester",
                                    "return_count": "8",
                                    "total_returned": "23811.34"
                                },
                                {
                                    "cus_id": "2187",
                                    "cus_first_name": "Margo",
                                    "cus_last_name": "Goode",
                                    "return_count": "6",
                                    "total_returned": "23780.04"
                                },
                                {
                                    "cus_id": "2581",
                                    "cus_first_name": "Harper",
                                    "cus_last_name": "Applewood",
                                    "return_count": "5",
                                    "total_returned": "23770.36"
                                },
                                {
                                    "cus_id": "665",
                                    "cus_first_name": "Erin",
                                    "cus_last_name": "Garcia",
                                    "return_count": "4",
                                    "total_returned": "23674.16"
                                },
                                {
                                    "cus_id": "1523",
                                    "cus_first_name": "Carl",
                                    "cus_last_name": "Booker",
                                    "return_count": "5",
                                    "total_returned": "23596.00"
                                },
                                {
                                    "cus_id": "559",
                                    "cus_first_name": "Albert",
                                    "cus_last_name": "Peters",
                                    "return_count": "4",
                                    "total_returned": "23542.85"
                                },
                                {
                                    "cus_id": "1134",
                                    "cus_first_name": "Mindy",
                                    "cus_last_name": "Shelton",
                                    "return_count": "4",
                                    "total_returned": "23540.00"
                                },
                                {
                                    "cus_id": "1868",
                                    "cus_first_name": "Samuel",
                                    "cus_last_name": "Roberts",
                                    "return_count": "4",
                                    "total_returned": "23540.00"
                                },
                                {
                                    "cus_id": "1713",
                                    "cus_first_name": "Kristoff",
                                    "cus_last_name": "Monk",
                                    "return_count": "4",
                                    "total_returned": "23535.72"
                                },
                                {
                                    "cus_id": "218",
                                    "cus_first_name": "Blain",
                                    "cus_last_name": "Aaronson",
                                    "return_count": "5",
                                    "total_returned": "23500.00"
                                },
                                {
                                    "cus_id": "1901",
                                    "cus_first_name": "Adam",
                                    "cus_last_name": "Jamieson",
                                    "return_count": "5",
                                    "total_returned": "23489.72"
                                },
                                {
                                    "cus_id": "615",
                                    "cus_first_name": "Mike",
                                    "cus_last_name": "Rowley",
                                    "return_count": "4",
                                    "total_returned": "23430.00"
                                },
                                {
                                    "cus_id": "1472",
                                    "cus_first_name": "Lee",
                                    "cus_last_name": "Aaronson",
                                    "return_count": "4",
                                    "total_returned": "23430.00"
                                },
                                {
                                    "cus_id": "2134",
                                    "cus_first_name": "Carl",
                                    "cus_last_name": "Slain",
                                    "return_count": "5",
                                    "total_returned": "23425.95"
                                },
                                {
                                    "cus_id": "1504",
                                    "cus_first_name": "Nadine",
                                    "cus_last_name": "Slain",
                                    "return_count": "5",
                                    "total_returned": "23392.76"
                                },
                                {
                                    "cus_id": "1913",
                                    "cus_first_name": "Reginald",
                                    "cus_last_name": "Peters",
                                    "return_count": "6",
                                    "total_returned": "23349.70"
                                },
                                {
                                    "cus_id": "1196",
                                    "cus_first_name": "Brice",
                                    "cus_last_name": "Johnasen",
                                    "return_count": "6",
                                    "total_returned": "23337.56"
                                },
                                {
                                    "cus_id": "1394",
                                    "cus_first_name": "Tristan",
                                    "cus_last_name": "Hart",
                                    "return_count": "5",
                                    "total_returned": "23320.00"
                                },
                                {
                                    "cus_id": "1105",
                                    "cus_first_name": "Lee",
                                    "cus_last_name": "Maurer",
                                    "return_count": "5",
                                    "total_returned": "23314.70"
                                },
                                {
                                    "cus_id": "1610",
                                    "cus_first_name": "Corey",
                                    "cus_last_name": "Ridgley",
                                    "return_count": "5",
                                    "total_returned": "23306.35"
                                },
                                {
                                    "cus_id": "1506",
                                    "cus_first_name": "Moritz",
                                    "cus_last_name": "Goode",
                                    "return_count": "5",
                                    "total_returned": "23214.68"
                                },
                                {
                                    "cus_id": "666",
                                    "cus_first_name": "Cooper",
                                    "cus_last_name": "Banks",
                                    "return_count": "5",
                                    "total_returned": "23205.80"
                                },
                                {
                                    "cus_id": "2401",
                                    "cus_first_name": "Taylor",
                                    "cus_last_name": "Barrister",
                                    "return_count": "5",
                                    "total_returned": "23130.00"
                                },
                                {
                                    "cus_id": "216",
                                    "cus_first_name": "Taylor",
                                    "cus_last_name": "MacBain",
                                    "return_count": "5",
                                    "total_returned": "23084.88"
                                },
                                {
                                    "cus_id": "2118",
                                    "cus_first_name": "Blain",
                                    "cus_last_name": "Jones",
                                    "return_count": "4",
                                    "total_returned": "23062.80"
                                },
                                {
                                    "cus_id": "1741",
                                    "cus_first_name": "Joshua",
                                    "cus_last_name": "Slain",
                                    "return_count": "5",
                                    "total_returned": "23055.00"
                                },
                                {
                                    "cus_id": "2130",
                                    "cus_first_name": "Reginald",
                                    "cus_last_name": "Connery",
                                    "return_count": "5",
                                    "total_returned": "23053.40"
                                },
                                {
                                    "cus_id": "2387",
                                    "cus_first_name": "Alister",
                                    "cus_last_name": "Garth",
                                    "return_count": "4",
                                    "total_returned": "22941.84"
                                },
                                {
                                    "cus_id": "1220",
                                    "cus_first_name": "Jonathon",
                                    "cus_last_name": "Robinson",
                                    "return_count": "7",
                                    "total_returned": "22884.50"
                                },
                                {
                                    "cus_id": "1497",
                                    "cus_first_name": "Jonathon",
                                    "cus_last_name": "Willis",
                                    "return_count": "4",
                                    "total_returned": "22880.00"
                                },
                                {
                                    "cus_id": "1114",
                                    "cus_first_name": "Kristoff",
                                    "cus_last_name": "Thomason",
                                    "return_count": "5",
                                    "total_returned": "22877.12"
                                },
                                {
                                    "cus_id": "901",
                                    "cus_first_name": "Airn",
                                    "cus_last_name": "Booker",
                                    "return_count": "5",
                                    "total_returned": "22874.80"
                                },
                                {
                                    "cus_id": "1166",
                                    "cus_first_name": "Farris",
                                    "cus_last_name": "Manning",
                                    "return_count": "5",
                                    "total_returned": "22794.20"
                                },
                                {
                                    "cus_id": "1836",
                                    "cus_first_name": "Kenadi",
                                    "cus_last_name": "Smith-Warren",
                                    "return_count": "6",
                                    "total_returned": "22794.00"
                                },
                                {
                                    "cus_id": "1065",
                                    "cus_first_name": "Leah",
                                    "cus_last_name": "MacBain",
                                    "return_count": "5",
                                    "total_returned": "22784.70"
                                },
                                {
                                    "cus_id": "894",
                                    "cus_first_name": "Margo",
                                    "cus_last_name": "Manchester",
                                    "return_count": "5",
                                    "total_returned": "22783.15"
                                },
                                {
                                    "cus_id": "835",
                                    "cus_first_name": "Reginald",
                                    "cus_last_name": "Dewey",
                                    "return_count": "4",
                                    "total_returned": "22719.40"
                                },
                                {
                                    "cus_id": "1766",
                                    "cus_first_name": "Jonathon",
                                    "cus_last_name": "Etzler",
                                    "return_count": "5",
                                    "total_returned": "22717.90"
                                },
                                {
                                    "cus_id": "563",
                                    "cus_first_name": "Cooper",
                                    "cus_last_name": "Dickerson",
                                    "return_count": "4",
                                    "total_returned": "22686.68"
                                },
                                {
                                    "cus_id": "2456",
                                    "cus_first_name": "Zachary",
                                    "cus_last_name": "Jones",
                                    "return_count": "6",
                                    "total_returned": "22685.25"
                                },
                                {
                                    "cus_id": "2107",
                                    "cus_first_name": "Thomas",
                                    "cus_last_name": "Archibald",
                                    "return_count": "5",
                                    "total_returned": "22672.60"
                                },
                                {
                                    "cus_id": "207",
                                    "cus_first_name": "Moritz",
                                    "cus_last_name": "French",
                                    "return_count": "5",
                                    "total_returned": "22666.96"
                                },
                                {
                                    "cus_id": "303",
                                    "cus_first_name": "Brandt",
                                    "cus_last_name": "Bangeson",
                                    "return_count": "5",
                                    "total_returned": "22666.44"
                                },
                                {
                                    "cus_id": "1786",
                                    "cus_first_name": "Mike",
                                    "cus_last_name": "Goode",
                                    "return_count": "5",
                                    "total_returned": "22625.64"
                                },
                                {
                                    "cus_id": "1627",
                                    "cus_first_name": "Lee",
                                    "cus_last_name": "Slain",
                                    "return_count": "5",
                                    "total_returned": "22620.00"
                                },
                                {
                                    "cus_id": "2008",
                                    "cus_first_name": "Miguel",
                                    "cus_last_name": "Conley",
                                    "return_count": "5",
                                    "total_returned": "22619.75"
                                },
                                {
                                    "cus_id": "2498",
                                    "cus_first_name": "Joshua",
                                    "cus_last_name": "Thomason",
                                    "return_count": "5",
                                    "total_returned": "22500.68"
                                },
                                {
                                    "cus_id": "813",
                                    "cus_first_name": "Manuel",
                                    "cus_last_name": "Barrister",
                                    "return_count": "5",
                                    "total_returned": "22495.00"
                                },
                                {
                                    "cus_id": "1379",
                                    "cus_first_name": "Jonathon",
                                    "cus_last_name": "Robinson",
                                    "return_count": "4",
                                    "total_returned": "22460.88"
                                },
                                {
                                    "cus_id": "534",
                                    "cus_first_name": "Eric",
                                    "cus_last_name": "Dewey",
                                    "return_count": "4",
                                    "total_returned": "22458.68"
                                },
                                {
                                    "cus_id": "1808",
                                    "cus_first_name": "Adam",
                                    "cus_last_name": "Harper",
                                    "return_count": "4",
                                    "total_returned": "22428.64"
                                },
                                {
                                    "cus_id": "1073",
                                    "cus_first_name": "Lee",
                                    "cus_last_name": "Booker",
                                    "return_count": "5",
                                    "total_returned": "22418.75"
                                },
                                {
                                    "cus_id": "18",
                                    "cus_first_name": "Lee",
                                    "cus_last_name": "Brooks",
                                    "return_count": "6",
                                    "total_returned": "22407.00"
                                },
                                {
                                    "cus_id": "289",
                                    "cus_first_name": "Maggs",
                                    "cus_last_name": "Monk",
                                    "return_count": "4",
                                    "total_returned": "22401.64"
                                },
                                {
                                    "cus_id": "494",
                                    "cus_first_name": "Chris",
                                    "cus_last_name": "Riochardson",
                                    "return_count": "6",
                                    "total_returned": "22385.65"
                                },
                                {
                                    "cus_id": "1893",
                                    "cus_first_name": "Harper",
                                    "cus_last_name": "Calahan",
                                    "return_count": "5",
                                    "total_returned": "22353.24"
                                },
                                {
                                    "cus_id": "1558",
                                    "cus_first_name": "Jack",
                                    "cus_last_name": "Aaronson",
                                    "return_count": "4",
                                    "total_returned": "22353.24"
                                },
                                {
                                    "cus_id": "1539",
                                    "cus_first_name": "Brandon",
                                    "cus_last_name": "Presley",
                                    "return_count": "4",
                                    "total_returned": "22348.68"
                                },
                                {
                                    "cus_id": "907",
                                    "cus_first_name": "Piper",
                                    "cus_last_name": "Johnasen",
                                    "return_count": "4",
                                    "total_returned": "22189.84"
                                },
                                {
                                    "cus_id": "222",
                                    "cus_first_name": "Harper",
                                    "cus_last_name": "Goode",
                                    "return_count": "5",
                                    "total_returned": "22000.00"
                                },
                                {
                                    "cus_id": "427",
                                    "cus_first_name": "Corey",
                                    "cus_last_name": "Slain",
                                    "return_count": "4",
                                    "total_returned": "21991.76"
                                },
                                {
                                    "cus_id": "775",
                                    "cus_first_name": "Timothy",
                                    "cus_last_name": "Garth",
                                    "return_count": "6",
                                    "total_returned": "21897.80"
                                },
                                {
                                    "cus_id": "159",
                                    "cus_first_name": "Timothy",
                                    "cus_last_name": "Reynolds",
                                    "return_count": "4",
                                    "total_returned": "21874.72"
                                },
                                {
                                    "cus_id": "40",
                                    "cus_first_name": "Thomas",
                                    "cus_last_name": "Dickerson",
                                    "return_count": "6",
                                    "total_returned": "21840.00"
                                },
                                {
                                    "cus_id": "2157",
                                    "cus_first_name": "Adam",
                                    "cus_last_name": "Tompsen",
                                    "return_count": "5",
                                    "total_returned": "21807.24"
                                },
                                {
                                    "cus_id": "2044",
                                    "cus_first_name": "Blain",
                                    "cus_last_name": "Presten",
                                    "return_count": "4",
                                    "total_returned": "21721.44"
                                },
                                {
                                    "cus_id": "1561",
                                    "cus_first_name": "Aaron",
                                    "cus_last_name": "Conley",
                                    "return_count": "6",
                                    "total_returned": "21721.38"
                                },
                                {
                                    "cus_id": "2372",
                                    "cus_first_name": "Alister",
                                    "cus_last_name": "Harper",
                                    "return_count": "5",
                                    "total_returned": "21517.80"
                                },
                                {
                                    "cus_id": "1833",
                                    "cus_first_name": "Moritz",
                                    "cus_last_name": "Maurer",
                                    "return_count": "5",
                                    "total_returned": "21501.60"
                                },
                                {
                                    "cus_id": "1950",
                                    "cus_first_name": "Tristan",
                                    "cus_last_name": "Cooper",
                                    "return_count": "4",
                                    "total_returned": "21450.00"
                                },
                                {
                                    "cus_id": "2307",
                                    "cus_first_name": "Kenadi",
                                    "cus_last_name": "Etzler",
                                    "return_count": "4",
                                    "total_returned": "21450.00"
                                },
                                {
                                    "cus_id": "748",
                                    "cus_first_name": "Sarah",
                                    "cus_last_name": "Banks",
                                    "return_count": "5",
                                    "total_returned": "21444.65"
                                },
                                {
                                    "cus_id": "2152",
                                    "cus_first_name": "Summer",
                                    "cus_last_name": "Deleon",
                                    "return_count": "6",
                                    "total_returned": "21433.20"
                                },
                                {
                                    "cus_id": "2045",
                                    "cus_first_name": "Erin",
                                    "cus_last_name": "Tankersly",
                                    "return_count": "6",
                                    "total_returned": "21300.65"
                                },
                                {
                                    "cus_id": "1953",
                                    "cus_first_name": "Leah",
                                    "cus_last_name": "Jordan",
                                    "return_count": "4",
                                    "total_returned": "21288.77"
                                },
                                {
                                    "cus_id": "932",
                                    "cus_first_name": "Eric",
                                    "cus_last_name": "Reynolds",
                                    "return_count": "5",
                                    "total_returned": "21194.70"
                                },
                                {
                                    "cus_id": "1088",
                                    "cus_first_name": "Jasmine",
                                    "cus_last_name": "Jiminez",
                                    "return_count": "5",
                                    "total_returned": "21194.70"
                                },
                                {
                                    "cus_id": "1666",
                                    "cus_first_name": "Sarah",
                                    "cus_last_name": "Garth",
                                    "return_count": "5",
                                    "total_returned": "21194.70"
                                },
                                {
                                    "cus_id": "956",
                                    "cus_first_name": "Taylor",
                                    "cus_last_name": "Calahan",
                                    "return_count": "5",
                                    "total_returned": "21194.70"
                                },
                                {
                                    "cus_id": "2493",
                                    "cus_first_name": "Eric",
                                    "cus_last_name": "Rice",
                                    "return_count": "6",
                                    "total_returned": "21104.70"
                                },
                                {
                                    "cus_id": "2043",
                                    "cus_first_name": "Richard",
                                    "cus_last_name": "Jiminez",
                                    "return_count": "5",
                                    "total_returned": "21094.75"
                                },
                                {
                                    "cus_id": "1108",
                                    "cus_first_name": "Reginald",
                                    "cus_last_name": "Archibald",
                                    "return_count": "5",
                                    "total_returned": "21087.96"
                                },
                                {
                                    "cus_id": "1534",
                                    "cus_first_name": "Valerie",
                                    "cus_last_name": "Archibald",
                                    "return_count": "4",
                                    "total_returned": "21087.96"
                                },
                                {
                                    "cus_id": "66",
                                    "cus_first_name": "Airn",
                                    "cus_last_name": "Manchester",
                                    "return_count": "4",
                                    "total_returned": "21087.96"
                                },
                                {
                                    "cus_id": "1057",
                                    "cus_first_name": "Eric",
                                    "cus_last_name": "Tompsen",
                                    "return_count": "6",
                                    "total_returned": "21028.80"
                                },
                                {
                                    "cus_id": "1153",
                                    "cus_first_name": "Aaron",
                                    "cus_last_name": "Manchester",
                                    "return_count": "6",
                                    "total_returned": "20995.00"
                                },
                                {
                                    "cus_id": "2223",
                                    "cus_first_name": "Leah",
                                    "cus_last_name": "Brooks",
                                    "return_count": "5",
                                    "total_returned": "20950.00"
                                },
                                {
                                    "cus_id": "2447",
                                    "cus_first_name": "Nadine",
                                    "cus_last_name": "Manning",
                                    "return_count": "6",
                                    "total_returned": "20752.08"
                                },
                                {
                                    "cus_id": "2117",
                                    "cus_first_name": "Manuel",
                                    "cus_last_name": "Tankersly",
                                    "return_count": "4",
                                    "total_returned": "20606.37"
                                },
                                {
                                    "cus_id": "150",
                                    "cus_first_name": "Richard",
                                    "cus_last_name": "Conley",
                                    "return_count": "5",
                                    "total_returned": "20585.16"
                                },
                                {
                                    "cus_id": "1168",
                                    "cus_first_name": "Jonathon",
                                    "cus_last_name": "Presley",
                                    "return_count": "4",
                                    "total_returned": "20557.77"
                                },
                                {
                                    "cus_id": "1152",
                                    "cus_first_name": "Brandon",
                                    "cus_last_name": "Rice",
                                    "return_count": "4",
                                    "total_returned": "20507.48"
                                },
                                {
                                    "cus_id": "1749",
                                    "cus_first_name": "Moritz",
                                    "cus_last_name": "MacBain",
                                    "return_count": "5",
                                    "total_returned": "20474.96"
                                },
                                {
                                    "cus_id": "550",
                                    "cus_first_name": "Jack",
                                    "cus_last_name": "Jamieson",
                                    "return_count": "4",
                                    "total_returned": "20454.24"
                                },
                                {
                                    "cus_id": "1253",
                                    "cus_first_name": "Joshua",
                                    "cus_last_name": "Roberts",
                                    "return_count": "4",
                                    "total_returned": "20336.10"
                                },
                                {
                                    "cus_id": "1229",
                                    "cus_first_name": "Leah",
                                    "cus_last_name": "French",
                                    "return_count": "4",
                                    "total_returned": "20334.24"
                                },
                                {
                                    "cus_id": "696",
                                    "cus_first_name": "Sarah",
                                    "cus_last_name": "Bangeson",
                                    "return_count": "4",
                                    "total_returned": "20284.16"
                                },
                                {
                                    "cus_id": "2464",
                                    "cus_first_name": "Mindy",
                                    "cus_last_name": "Slain",
                                    "return_count": "5",
                                    "total_returned": "20187.65"
                                },
                                {
                                    "cus_id": "597",
                                    "cus_first_name": "Valerie",
                                    "cus_last_name": "Smith",
                                    "return_count": "5",
                                    "total_returned": "20171.64"
                                },
                                {
                                    "cus_id": "869",
                                    "cus_first_name": "Timothy",
                                    "cus_last_name": "Harper",
                                    "return_count": "4",
                                    "total_returned": "20163.00"
                                },
                                {
                                    "cus_id": "1453",
                                    "cus_first_name": "Brice",
                                    "cus_last_name": "Moore",
                                    "return_count": "4",
                                    "total_returned": "20092.52"
                                },
                                {
                                    "cus_id": "334",
                                    "cus_first_name": "Mindy",
                                    "cus_last_name": "Cooper",
                                    "return_count": "4",
                                    "total_returned": "20072.92"
                                },
                                {
                                    "cus_id": "1039",
                                    "cus_first_name": "Noel",
                                    "cus_last_name": "Slain",
                                    "return_count": "5",
                                    "total_returned": "20049.16"
                                },
                                {
                                    "cus_id": "1949",
                                    "cus_first_name": "Reginald",
                                    "cus_last_name": "Cooper",
                                    "return_count": "4",
                                    "total_returned": "20023.92"
                                },
                                {
                                    "cus_id": "2218",
                                    "cus_first_name": "Alister",
                                    "cus_last_name": "Saylor",
                                    "return_count": "4",
                                    "total_returned": "19952.40"
                                },
                                {
                                    "cus_id": "2227",
                                    "cus_first_name": "Abigail",
                                    "cus_last_name": "Rowley",
                                    "return_count": "6",
                                    "total_returned": "19947.80"
                                },
                                {
                                    "cus_id": "1919",
                                    "cus_first_name": "Cooper",
                                    "cus_last_name": "Goode",
                                    "return_count": "4",
                                    "total_returned": "19939.95"
                                },
                                {
                                    "cus_id": "181",
                                    "cus_first_name": "Eric",
                                    "cus_last_name": "Johnasen",
                                    "return_count": "4",
                                    "total_returned": "19939.95"
                                },
                                {
                                    "cus_id": "2075",
                                    "cus_first_name": "Mindy",
                                    "cus_last_name": "Johnasen",
                                    "return_count": "5",
                                    "total_returned": "19933.80"
                                },
                                {
                                    "cus_id": "478",
                                    "cus_first_name": "Abigail",
                                    "cus_last_name": "Stevens",
                                    "return_count": "4",
                                    "total_returned": "19931.28"
                                },
                                {
                                    "cus_id": "1409",
                                    "cus_first_name": "Brandon",
                                    "cus_last_name": "Smith-Warren",
                                    "return_count": "4",
                                    "total_returned": "19928.00"
                                },
                                {
                                    "cus_id": "2477",
                                    "cus_first_name": "Leah",
                                    "cus_last_name": "Presley",
                                    "return_count": "4",
                                    "total_returned": "19925.64"
                                },
                                {
                                    "cus_id": "258",
                                    "cus_first_name": "Margo",
                                    "cus_last_name": "Presley",
                                    "return_count": "5",
                                    "total_returned": "19852.80"
                                },
                                {
                                    "cus_id": "947",
                                    "cus_first_name": "Chris",
                                    "cus_last_name": "Monk",
                                    "return_count": "5",
                                    "total_returned": "19846.35"
                                },
                                {
                                    "cus_id": "1121",
                                    "cus_first_name": "Summer",
                                    "cus_last_name": "Jiminez",
                                    "return_count": "4",
                                    "total_returned": "19838.96"
                                },
                                {
                                    "cus_id": "1258",
                                    "cus_first_name": "Carl",
                                    "cus_last_name": "Garth",
                                    "return_count": "4",
                                    "total_returned": "19791.92"
                                },
                                {
                                    "cus_id": "1493",
                                    "cus_first_name": "Kenadi",
                                    "cus_last_name": "Jordan",
                                    "return_count": "4",
                                    "total_returned": "19764.12"
                                },
                                {
                                    "cus_id": "733",
                                    "cus_first_name": "Nadine",
                                    "cus_last_name": "Jones",
                                    "return_count": "5",
                                    "total_returned": "19754.80"
                                },
                                {
                                    "cus_id": "2528",
                                    "cus_first_name": "Richard",
                                    "cus_last_name": "Rowley",
                                    "return_count": "4",
                                    "total_returned": "19711.80"
                                },
                                {
                                    "cus_id": "1963",
                                    "cus_first_name": "Moritz",
                                    "cus_last_name": "Jones",
                                    "return_count": "4",
                                    "total_returned": "19699.00"
                                },
                                {
                                    "cus_id": "591",
                                    "cus_first_name": "Cooper",
                                    "cus_last_name": "Delapena",
                                    "return_count": "4",
                                    "total_returned": "19699.00"
                                },
                                {
                                    "cus_id": "109",
                                    "cus_first_name": "Thomas",
                                    "cus_last_name": "Jones",
                                    "return_count": "5",
                                    "total_returned": "19697.00"
                                },
                                {
                                    "cus_id": "361",
                                    "cus_first_name": "Abigail",
                                    "cus_last_name": "Slain",
                                    "return_count": "6",
                                    "total_returned": "19695.00"
                                },
                                {
                                    "cus_id": "1603",
                                    "cus_first_name": "Joshua",
                                    "cus_last_name": "Smith-Warren",
                                    "return_count": "4",
                                    "total_returned": "19548.88"
                                },
                                {
                                    "cus_id": "2480",
                                    "cus_first_name": "Eric",
                                    "cus_last_name": "Conley",
                                    "return_count": "8",
                                    "total_returned": "19481.30"
                                },
                                {
                                    "cus_id": "1097",
                                    "cus_first_name": "Erin",
                                    "cus_last_name": "Ridgley",
                                    "return_count": "5",
                                    "total_returned": "19464.64"
                                },
                                {
                                    "cus_id": "848",
                                    "cus_first_name": "Adam",
                                    "cus_last_name": "Jackson",
                                    "return_count": "4",
                                    "total_returned": "19456.35"
                                },
                                {
                                    "cus_id": "542",
                                    "cus_first_name": "Mads",
                                    "cus_last_name": "Booker",
                                    "return_count": "6",
                                    "total_returned": "19349.25"
                                },
                                {
                                    "cus_id": "1602",
                                    "cus_first_name": "Brice",
                                    "cus_last_name": "Rice",
                                    "return_count": "4",
                                    "total_returned": "19191.24"
                                },
                                {
                                    "cus_id": "126",
                                    "cus_first_name": "Cooper",
                                    "cus_last_name": "Williamson",
                                    "return_count": "5",
                                    "total_returned": "19191.24"
                                },
                                {
                                    "cus_id": "2520",
                                    "cus_first_name": "Reginald",
                                    "cus_last_name": "French",
                                    "return_count": "5",
                                    "total_returned": "19170.00"
                                },
                                {
                                    "cus_id": "1825",
                                    "cus_first_name": "Kristoff",
                                    "cus_last_name": "MacBain",
                                    "return_count": "6",
                                    "total_returned": "19119.36"
                                },
                                {
                                    "cus_id": "1965",
                                    "cus_first_name": "Thomas",
                                    "cus_last_name": "Dawson",
                                    "return_count": "4",
                                    "total_returned": "19106.57"
                                },
                                {
                                    "cus_id": "965",
                                    "cus_first_name": "George",
                                    "cus_last_name": "Jamieson",
                                    "return_count": "4",
                                    "total_returned": "19101.16"
                                },
                                {
                                    "cus_id": "685",
                                    "cus_first_name": "Kristoff",
                                    "cus_last_name": "Barrister",
                                    "return_count": "4",
                                    "total_returned": "19095.88"
                                },
                                {
                                    "cus_id": "633",
                                    "cus_first_name": "Manuel",
                                    "cus_last_name": "Garcia",
                                    "return_count": "4",
                                    "total_returned": "19075.76"
                                },
                                {
                                    "cus_id": "1885",
                                    "cus_first_name": "Jasmine",
                                    "cus_last_name": "Presten",
                                    "return_count": "7",
                                    "total_returned": "19043.00"
                                },
                                {
                                    "cus_id": "2469",
                                    "cus_first_name": "Moritz",
                                    "cus_last_name": "Smith",
                                    "return_count": "5",
                                    "total_returned": "18997.96"
                                },
                                {
                                    "cus_id": "1614",
                                    "cus_first_name": "Noel",
                                    "cus_last_name": "Banks",
                                    "return_count": "6",
                                    "total_returned": "18995.00"
                                },
                                {
                                    "cus_id": "1564",
                                    "cus_first_name": "Chris",
                                    "cus_last_name": "Deleon",
                                    "return_count": "5",
                                    "total_returned": "18980.04"
                                },
                                {
                                    "cus_id": "716",
                                    "cus_first_name": "Taylor",
                                    "cus_last_name": "MacBain",
                                    "return_count": "4",
                                    "total_returned": "18935.79"
                                },
                                {
                                    "cus_id": "1644",
                                    "cus_first_name": "George",
                                    "cus_last_name": "Jones",
                                    "return_count": "5",
                                    "total_returned": "18892.80"
                                },
                                {
                                    "cus_id": "2128",
                                    "cus_first_name": "Zachary",
                                    "cus_last_name": "Ellis",
                                    "return_count": "5",
                                    "total_returned": "18824.72"
                                },
                                {
                                    "cus_id": "1049",
                                    "cus_first_name": "Timothy",
                                    "cus_last_name": "Conley",
                                    "return_count": "5",
                                    "total_returned": "18769.84"
                                },
                                {
                                    "cus_id": "903",
                                    "cus_first_name": "Noel",
                                    "cus_last_name": "Williamson",
                                    "return_count": "4",
                                    "total_returned": "18758.82"
                                },
                                {
                                    "cus_id": "1428",
                                    "cus_first_name": "Corey",
                                    "cus_last_name": "Presley",
                                    "return_count": "4",
                                    "total_returned": "18670.35"
                                },
                                {
                                    "cus_id": "1721",
                                    "cus_first_name": "Brandt",
                                    "cus_last_name": "Smith",
                                    "return_count": "4",
                                    "total_returned": "18651.76"
                                },
                                {
                                    "cus_id": "2172",
                                    "cus_first_name": "Abigail",
                                    "cus_last_name": "Jordan",
                                    "return_count": "4",
                                    "total_returned": "18651.76"
                                },
                                {
                                    "cus_id": "1118",
                                    "cus_first_name": "Abigail",
                                    "cus_last_name": "Gorman",
                                    "return_count": "4",
                                    "total_returned": "18614.79"
                                },
                                {
                                    "cus_id": "1926",
                                    "cus_first_name": "Richard",
                                    "cus_last_name": "Presten",
                                    "return_count": "4",
                                    "total_returned": "18607.76"
                                },
                                {
                                    "cus_id": "985",
                                    "cus_first_name": "Moritz",
                                    "cus_last_name": "Delapena",
                                    "return_count": "4",
                                    "total_returned": "18600.00"
                                },
                                {
                                    "cus_id": "2238",
                                    "cus_first_name": "Carl",
                                    "cus_last_name": "Ellis",
                                    "return_count": "4",
                                    "total_returned": "18591.68"
                                },
                                {
                                    "cus_id": "1846",
                                    "cus_first_name": "Jasmine",
                                    "cus_last_name": "Cooper",
                                    "return_count": "4",
                                    "total_returned": "18583.96"
                                },
                                {
                                    "cus_id": "64",
                                    "cus_first_name": "Robert",
                                    "cus_last_name": "Ellis",
                                    "return_count": "5",
                                    "total_returned": "18563.80"
                                },
                                {
                                    "cus_id": "1747",
                                    "cus_first_name": "Eric",
                                    "cus_last_name": "Presley",
                                    "return_count": "4",
                                    "total_returned": "18527.82"
                                },
                                {
                                    "cus_id": "1476",
                                    "cus_first_name": "Jonathon",
                                    "cus_last_name": "Banks",
                                    "return_count": "5",
                                    "total_returned": "18507.00"
                                },
                                {
                                    "cus_id": "2114",
                                    "cus_first_name": "Timothy",
                                    "cus_last_name": "Calahan",
                                    "return_count": "4",
                                    "total_returned": "18495.50"
                                },
                                {
                                    "cus_id": "424",
                                    "cus_first_name": "Brandt",
                                    "cus_last_name": "Etzler",
                                    "return_count": "4",
                                    "total_returned": "18446.96"
                                },
                                {
                                    "cus_id": "382",
                                    "cus_first_name": "Summer",
                                    "cus_last_name": "Ellis",
                                    "return_count": "5",
                                    "total_returned": "18378.24"
                                },
                                {
                                    "cus_id": "1921",
                                    "cus_first_name": "Tristan",
                                    "cus_last_name": "Riochardson",
                                    "return_count": "4",
                                    "total_returned": "18332.90"
                                },
                                {
                                    "cus_id": "771",
                                    "cus_first_name": "Aaron",
                                    "cus_last_name": "Barrister",
                                    "return_count": "4",
                                    "total_returned": "18317.96"
                                },
                                {
                                    "cus_id": "1376",
                                    "cus_first_name": "Sarah",
                                    "cus_last_name": "Tankersly",
                                    "return_count": "4",
                                    "total_returned": "18317.96"
                                },
                                {
                                    "cus_id": "2228",
                                    "cus_first_name": "Harper",
                                    "cus_last_name": "Sanchez",
                                    "return_count": "4",
                                    "total_returned": "18299.84"
                                },
                                {
                                    "cus_id": "1202",
                                    "cus_first_name": "Robert",
                                    "cus_last_name": "Monk",
                                    "return_count": "4",
                                    "total_returned": "18299.84"
                                },
                                {
                                    "cus_id": "919",
                                    "cus_first_name": "Brice",
                                    "cus_last_name": "Gonzales",
                                    "return_count": "4",
                                    "total_returned": "18292.16"
                                },
                                {
                                    "cus_id": "86",
                                    "cus_first_name": "Thomas",
                                    "cus_last_name": "Etzler",
                                    "return_count": "4",
                                    "total_returned": "18174.30"
                                },
                                {
                                    "cus_id": "798",
                                    "cus_first_name": "Airn",
                                    "cus_last_name": "Williamson",
                                    "return_count": "5",
                                    "total_returned": "18163.40"
                                },
                                {
                                    "cus_id": "342",
                                    "cus_first_name": "Farris",
                                    "cus_last_name": "Shelton",
                                    "return_count": "5",
                                    "total_returned": "18163.16"
                                },
                                {
                                    "cus_id": "1329",
                                    "cus_first_name": "Eric",
                                    "cus_last_name": "Manchester",
                                    "return_count": "5",
                                    "total_returned": "18128.23"
                                },
                                {
                                    "cus_id": "1841",
                                    "cus_first_name": "Noel",
                                    "cus_last_name": "Archibald",
                                    "return_count": "4",
                                    "total_returned": "18105.00"
                                },
                                {
                                    "cus_id": "683",
                                    "cus_first_name": "Nadine",
                                    "cus_last_name": "Jiminez",
                                    "return_count": "4",
                                    "total_returned": "18105.00"
                                },
                                {
                                    "cus_id": "1017",
                                    "cus_first_name": "Reginald",
                                    "cus_last_name": "Rice",
                                    "return_count": "4",
                                    "total_returned": "18096.00"
                                },
                                {
                                    "cus_id": "1867",
                                    "cus_first_name": "Kristoff",
                                    "cus_last_name": "Robinson",
                                    "return_count": "4",
                                    "total_returned": "18019.96"
                                },
                                {
                                    "cus_id": "2126",
                                    "cus_first_name": "Noel",
                                    "cus_last_name": "Delapena",
                                    "return_count": "5",
                                    "total_returned": "18019.96"
                                },
                                {
                                    "cus_id": "1310",
                                    "cus_first_name": "Jonathon",
                                    "cus_last_name": "Rice",
                                    "return_count": "4",
                                    "total_returned": "18019.96"
                                },
                                {
                                    "cus_id": "1195",
                                    "cus_first_name": "Carl",
                                    "cus_last_name": "Manchester",
                                    "return_count": "4",
                                    "total_returned": "17987.37"
                                },
                                {
                                    "cus_id": "2006",
                                    "cus_first_name": "Taylor",
                                    "cus_last_name": "Willis",
                                    "return_count": "5",
                                    "total_returned": "17939.56"
                                },
                                {
                                    "cus_id": "1936",
                                    "cus_first_name": "Kenadi",
                                    "cus_last_name": "Manchester",
                                    "return_count": "4",
                                    "total_returned": "17926.68"
                                },
                                {
                                    "cus_id": "653",
                                    "cus_first_name": "Cooper",
                                    "cus_last_name": "Maurer",
                                    "return_count": "5",
                                    "total_returned": "17917.76"
                                },
                                {
                                    "cus_id": "1475",
                                    "cus_first_name": "Eric",
                                    "cus_last_name": "Delacruz",
                                    "return_count": "4",
                                    "total_returned": "17911.38"
                                },
                                {
                                    "cus_id": "2583",
                                    "cus_first_name": "Jonathon",
                                    "cus_last_name": "Rice",
                                    "return_count": "4",
                                    "total_returned": "17883.84"
                                },
                                {
                                    "cus_id": "951",
                                    "cus_first_name": "Chris",
                                    "cus_last_name": "Robinson",
                                    "return_count": "5",
                                    "total_returned": "17876.00"
                                },
                                {
                                    "cus_id": "1055",
                                    "cus_first_name": "Lee",
                                    "cus_last_name": "Gorman",
                                    "return_count": "4",
                                    "total_returned": "17866.80"
                                },
                                {
                                    "cus_id": "2415",
                                    "cus_first_name": "Jack",
                                    "cus_last_name": "Ellis",
                                    "return_count": "5",
                                    "total_returned": "17819.25"
                                },
                                {
                                    "cus_id": "845",
                                    "cus_first_name": "Alister",
                                    "cus_last_name": "Ramirez",
                                    "return_count": "5",
                                    "total_returned": "17803.76"
                                },
                                {
                                    "cus_id": "2029",
                                    "cus_first_name": "Robert",
                                    "cus_last_name": "Presley",
                                    "return_count": "6",
                                    "total_returned": "17801.64"
                                },
                                {
                                    "cus_id": "1381",
                                    "cus_first_name": "Carl",
                                    "cus_last_name": "French",
                                    "return_count": "4",
                                    "total_returned": "17799.60"
                                },
                                {
                                    "cus_id": "1186",
                                    "cus_first_name": "Kristoff",
                                    "cus_last_name": "French",
                                    "return_count": "4",
                                    "total_returned": "17737.65"
                                },
                                {
                                    "cus_id": "1492",
                                    "cus_first_name": "Brandt",
                                    "cus_last_name": "Aaronson",
                                    "return_count": "4",
                                    "total_returned": "17731.00"
                                },
                                {
                                    "cus_id": "1560",
                                    "cus_first_name": "Piper",
                                    "cus_last_name": "Delacruz",
                                    "return_count": "4",
                                    "total_returned": "17731.00"
                                },
                                {
                                    "cus_id": "1377",
                                    "cus_first_name": "Piper",
                                    "cus_last_name": "Thomason",
                                    "return_count": "4",
                                    "total_returned": "17697.00"
                                },
                                {
                                    "cus_id": "2385",
                                    "cus_first_name": "Eric",
                                    "cus_last_name": "Delacruz",
                                    "return_count": "4",
                                    "total_returned": "17696.25"
                                },
                                {
                                    "cus_id": "261",
                                    "cus_first_name": "Thomas",
                                    "cus_last_name": "Maurer",
                                    "return_count": "4",
                                    "total_returned": "17693.09"
                                },
                                {
                                    "cus_id": "20",
                                    "cus_first_name": "Maggs",
                                    "cus_last_name": "Peters",
                                    "return_count": "5",
                                    "total_returned": "17677.80"
                                },
                                {
                                    "cus_id": "1744",
                                    "cus_first_name": "Maggs",
                                    "cus_last_name": "Jones",
                                    "return_count": "5",
                                    "total_returned": "17638.82"
                                },
                                {
                                    "cus_id": "105",
                                    "cus_first_name": "Valerie",
                                    "cus_last_name": "Jones",
                                    "return_count": "5",
                                    "total_returned": "17600.84"
                                },
                                {
                                    "cus_id": "1458",
                                    "cus_first_name": "Valerie",
                                    "cus_last_name": "Etzler",
                                    "return_count": "4",
                                    "total_returned": "17600.00"
                                },
                                {
                                    "cus_id": "490",
                                    "cus_first_name": "Mike",
                                    "cus_last_name": "Booker",
                                    "return_count": "4",
                                    "total_returned": "17596.00"
                                },
                                {
                                    "cus_id": "2103",
                                    "cus_first_name": "Tristan",
                                    "cus_last_name": "Jackson",
                                    "return_count": "4",
                                    "total_returned": "17593.80"
                                },
                                {
                                    "cus_id": "1708",
                                    "cus_first_name": "Piper",
                                    "cus_last_name": "Jamieson",
                                    "return_count": "5",
                                    "total_returned": "17593.80"
                                },
                                {
                                    "cus_id": "1960",
                                    "cus_first_name": "Jonathon",
                                    "cus_last_name": "Jamieson",
                                    "return_count": "4",
                                    "total_returned": "17588.44"
                                },
                                {
                                    "cus_id": "629",
                                    "cus_first_name": "Alister",
                                    "cus_last_name": "Delacruz",
                                    "return_count": "5",
                                    "total_returned": "17511.01"
                                },
                                {
                                    "cus_id": "1301",
                                    "cus_first_name": "Taylor",
                                    "cus_last_name": "Presten",
                                    "return_count": "5",
                                    "total_returned": "17472.00"
                                },
                                {
                                    "cus_id": "467",
                                    "cus_first_name": "Kristoff",
                                    "cus_last_name": "Banks",
                                    "return_count": "4",
                                    "total_returned": "17467.84"
                                },
                                {
                                    "cus_id": "509",
                                    "cus_first_name": "Leah",
                                    "cus_last_name": "Gonzales",
                                    "return_count": "5",
                                    "total_returned": "17443.00"
                                },
                                {
                                    "cus_id": "447",
                                    "cus_first_name": "Nadine",
                                    "cus_last_name": "Peters",
                                    "return_count": "5",
                                    "total_returned": "17383.98"
                                },
                                {
                                    "cus_id": "350",
                                    "cus_first_name": "Noel",
                                    "cus_last_name": "Deleon",
                                    "return_count": "4",
                                    "total_returned": "17331.45"
                                },
                                {
                                    "cus_id": "1831",
                                    "cus_first_name": "Carl",
                                    "cus_last_name": "Calahan",
                                    "return_count": "4",
                                    "total_returned": "17304.52"
                                },
                                {
                                    "cus_id": "1660",
                                    "cus_first_name": "Mads",
                                    "cus_last_name": "Hart",
                                    "return_count": "4",
                                    "total_returned": "17256.93"
                                },
                                {
                                    "cus_id": "1838",
                                    "cus_first_name": "Manuel",
                                    "cus_last_name": "Smith",
                                    "return_count": "4",
                                    "total_returned": "17199.96"
                                },
                                {
                                    "cus_id": "2389",
                                    "cus_first_name": "Tristan",
                                    "cus_last_name": "Archibald",
                                    "return_count": "5",
                                    "total_returned": "17095.72"
                                },
                                {
                                    "cus_id": "1764",
                                    "cus_first_name": "Sarah",
                                    "cus_last_name": "Shelton",
                                    "return_count": "5",
                                    "total_returned": "17088.35"
                                },
                                {
                                    "cus_id": "193",
                                    "cus_first_name": "Moritz",
                                    "cus_last_name": "Ellis",
                                    "return_count": "4",
                                    "total_returned": "17040.52"
                                },
                                {
                                    "cus_id": "13",
                                    "cus_first_name": "Lee",
                                    "cus_last_name": "Slain",
                                    "return_count": "4",
                                    "total_returned": "17040.52"
                                },
                                {
                                    "cus_id": "1348",
                                    "cus_first_name": "Kenadi",
                                    "cus_last_name": "Moore",
                                    "return_count": "4",
                                    "total_returned": "17040.52"
                                },
                                {
                                    "cus_id": "298",
                                    "cus_first_name": "Albert",
                                    "cus_last_name": "Sanchez",
                                    "return_count": "4",
                                    "total_returned": "17040.52"
                                },
                                {
                                    "cus_id": "2511",
                                    "cus_first_name": "Albert",
                                    "cus_last_name": "Moore",
                                    "return_count": "4",
                                    "total_returned": "17035.76"
                                },
                                {
                                    "cus_id": "1818",
                                    "cus_first_name": "Eric",
                                    "cus_last_name": "Williamson",
                                    "return_count": "4",
                                    "total_returned": "17015.01"
                                },
                                {
                                    "cus_id": "1639",
                                    "cus_first_name": "Thomas",
                                    "cus_last_name": "Tankersly",
                                    "return_count": "4",
                                    "total_returned": "17011.76"
                                },
                                {
                                    "cus_id": "1448",
                                    "cus_first_name": "Kristoff",
                                    "cus_last_name": "Presten",
                                    "return_count": "7",
                                    "total_returned": "16995.00"
                                },
                                {
                                    "cus_id": "455",
                                    "cus_first_name": "Noel",
                                    "cus_last_name": "Willis",
                                    "return_count": "4",
                                    "total_returned": "16955.76"
                                },
                                {
                                    "cus_id": "1283",
                                    "cus_first_name": "Eric",
                                    "cus_last_name": "Ellis",
                                    "return_count": "4",
                                    "total_returned": "16955.76"
                                },
                                {
                                    "cus_id": "1024",
                                    "cus_first_name": "Samuel",
                                    "cus_last_name": "Reynolds",
                                    "return_count": "4",
                                    "total_returned": "16955.76"
                                },
                                {
                                    "cus_id": "2032",
                                    "cus_first_name": "Valerie",
                                    "cus_last_name": "Peters",
                                    "return_count": "5",
                                    "total_returned": "16955.76"
                                },
                                {
                                    "cus_id": "1144",
                                    "cus_first_name": "Sarah",
                                    "cus_last_name": "Robinson",
                                    "return_count": "4",
                                    "total_returned": "16955.76"
                                },
                                {
                                    "cus_id": "2356",
                                    "cus_first_name": "Farris",
                                    "cus_last_name": "Harper",
                                    "return_count": "4",
                                    "total_returned": "16955.76"
                                },
                                {
                                    "cus_id": "1219",
                                    "cus_first_name": "Brice",
                                    "cus_last_name": "Peters",
                                    "return_count": "4",
                                    "total_returned": "16891.76"
                                },
                                {
                                    "cus_id": "1344",
                                    "cus_first_name": "Brandon",
                                    "cus_last_name": "Garcia",
                                    "return_count": "5",
                                    "total_returned": "16891.76"
                                },
                                {
                                    "cus_id": "889",
                                    "cus_first_name": "Kenadi",
                                    "cus_last_name": "Garth",
                                    "return_count": "4",
                                    "total_returned": "16855.64"
                                },
                                {
                                    "cus_id": "867",
                                    "cus_first_name": "Mindy",
                                    "cus_last_name": "Bangeson",
                                    "return_count": "5",
                                    "total_returned": "16850.96"
                                },
                                {
                                    "cus_id": "605",
                                    "cus_first_name": "Eric",
                                    "cus_last_name": "Sanchez",
                                    "return_count": "5",
                                    "total_returned": "16844.84"
                                },
                                {
                                    "cus_id": "2150",
                                    "cus_first_name": "Kenadi",
                                    "cus_last_name": "Archibald",
                                    "return_count": "6",
                                    "total_returned": "16796.00"
                                },
                                {
                                    "cus_id": "1705",
                                    "cus_first_name": "Timothy",
                                    "cus_last_name": "Applewood",
                                    "return_count": "4",
                                    "total_returned": "16796.00"
                                },
                                {
                                    "cus_id": "675",
                                    "cus_first_name": "Cooper",
                                    "cus_last_name": "Bangeson",
                                    "return_count": "4",
                                    "total_returned": "16796.00"
                                },
                                {
                                    "cus_id": "2217",
                                    "cus_first_name": "Brice",
                                    "cus_last_name": "Jiminez",
                                    "return_count": "4",
                                    "total_returned": "16777.41"
                                },
                                {
                                    "cus_id": "726",
                                    "cus_first_name": "Robert",
                                    "cus_last_name": "Hart",
                                    "return_count": "4",
                                    "total_returned": "16771.80"
                                },
                                {
                                    "cus_id": "627",
                                    "cus_first_name": "Erin",
                                    "cus_last_name": "Presley",
                                    "return_count": "6",
                                    "total_returned": "16736.46"
                                },
                                {
                                    "cus_id": "2310",
                                    "cus_first_name": "Kristoff",
                                    "cus_last_name": "Conley",
                                    "return_count": "4",
                                    "total_returned": "16719.00"
                                },
                                {
                                    "cus_id": "664",
                                    "cus_first_name": "Valerie",
                                    "cus_last_name": "Williamson",
                                    "return_count": "4",
                                    "total_returned": "16711.96"
                                },
                                {
                                    "cus_id": "2001",
                                    "cus_first_name": "Timothy",
                                    "cus_last_name": "Garcia",
                                    "return_count": "4",
                                    "total_returned": "16683.84"
                                },
                                {
                                    "cus_id": "1396",
                                    "cus_first_name": "Timothy",
                                    "cus_last_name": "Booker",
                                    "return_count": "5",
                                    "total_returned": "16670.12"
                                },
                                {
                                    "cus_id": "1245",
                                    "cus_first_name": "Brandt",
                                    "cus_last_name": "Delapena",
                                    "return_count": "5",
                                    "total_returned": "16639.96"
                                },
                                {
                                    "cus_id": "2030",
                                    "cus_first_name": "Jonathon",
                                    "cus_last_name": "Barrister",
                                    "return_count": "4",
                                    "total_returned": "16635.84"
                                },
                                {
                                    "cus_id": "888",
                                    "cus_first_name": "Adam",
                                    "cus_last_name": "Roberts",
                                    "return_count": "4",
                                    "total_returned": "16549.97"
                                },
                                {
                                    "cus_id": "2348",
                                    "cus_first_name": "Noel",
                                    "cus_last_name": "Smith-Warren",
                                    "return_count": "4",
                                    "total_returned": "16477.98"
                                },
                                {
                                    "cus_id": "2400",
                                    "cus_first_name": "Samuel",
                                    "cus_last_name": "Seiler",
                                    "return_count": "4",
                                    "total_returned": "16407.50"
                                },
                                {
                                    "cus_id": "1981",
                                    "cus_first_name": "Summer",
                                    "cus_last_name": "Dewey",
                                    "return_count": "4",
                                    "total_returned": "16340.56"
                                },
                                {
                                    "cus_id": "1440",
                                    "cus_first_name": "Brandon",
                                    "cus_last_name": "Shelton",
                                    "return_count": "6",
                                    "total_returned": "16319.00"
                                },
                                {
                                    "cus_id": "620",
                                    "cus_first_name": "Brice",
                                    "cus_last_name": "Rice",
                                    "return_count": "4",
                                    "total_returned": "16302.48"
                                },
                                {
                                    "cus_id": "252",
                                    "cus_first_name": "Maggs",
                                    "cus_last_name": "Sanchez",
                                    "return_count": "4",
                                    "total_returned": "16259.72"
                                },
                                {
                                    "cus_id": "496",
                                    "cus_first_name": "Brice",
                                    "cus_last_name": "Goode",
                                    "return_count": "4",
                                    "total_returned": "16240.72"
                                },
                                {
                                    "cus_id": "1871",
                                    "cus_first_name": "Joshua",
                                    "cus_last_name": "Ellis",
                                    "return_count": "5",
                                    "total_returned": "16228.00"
                                },
                                {
                                    "cus_id": "62",
                                    "cus_first_name": "Mike",
                                    "cus_last_name": "Deleon",
                                    "return_count": "4",
                                    "total_returned": "16176.57"
                                },
                                {
                                    "cus_id": "1199",
                                    "cus_first_name": "Alister",
                                    "cus_last_name": "Jones",
                                    "return_count": "4",
                                    "total_returned": "16150.12"
                                },
                                {
                                    "cus_id": "1141",
                                    "cus_first_name": "Jonathon",
                                    "cus_last_name": "Calahan",
                                    "return_count": "4",
                                    "total_returned": "16107.76"
                                },
                                {
                                    "cus_id": "1486",
                                    "cus_first_name": "Nadine",
                                    "cus_last_name": "Ramirez",
                                    "return_count": "4",
                                    "total_returned": "16089.16"
                                },
                                {
                                    "cus_id": "2171",
                                    "cus_first_name": "Reginald",
                                    "cus_last_name": "Conley",
                                    "return_count": "4",
                                    "total_returned": "16046.96"
                                },
                                {
                                    "cus_id": "1879",
                                    "cus_first_name": "Corey",
                                    "cus_last_name": "Gonzales",
                                    "return_count": "5",
                                    "total_returned": "16022.95"
                                },
                                {
                                    "cus_id": "1454",
                                    "cus_first_name": "Albert",
                                    "cus_last_name": "Monk",
                                    "return_count": "4",
                                    "total_returned": "15996.00"
                                },
                                {
                                    "cus_id": "1147",
                                    "cus_first_name": "Brandon",
                                    "cus_last_name": "Bangeson",
                                    "return_count": "4",
                                    "total_returned": "15996.00"
                                },
                                {
                                    "cus_id": "1000",
                                    "cus_first_name": "Erin",
                                    "cus_last_name": "Dawson",
                                    "return_count": "4",
                                    "total_returned": "15984.25"
                                },
                                {
                                    "cus_id": "1709",
                                    "cus_first_name": "Blain",
                                    "cus_last_name": "Moore",
                                    "return_count": "4",
                                    "total_returned": "15984.24"
                                },
                                {
                                    "cus_id": "65",
                                    "cus_first_name": "Summer",
                                    "cus_last_name": "Smith-Warren",
                                    "return_count": "5",
                                    "total_returned": "15964.25"
                                },
                                {
                                    "cus_id": "1418",
                                    "cus_first_name": "Brian",
                                    "cus_last_name": "Conley",
                                    "return_count": "5",
                                    "total_returned": "15962.36"
                                },
                                {
                                    "cus_id": "157",
                                    "cus_first_name": "Summer",
                                    "cus_last_name": "Manchester",
                                    "return_count": "7",
                                    "total_returned": "15947.80"
                                },
                                {
                                    "cus_id": "909",
                                    "cus_first_name": "Kenadi",
                                    "cus_last_name": "Shelton",
                                    "return_count": "4",
                                    "total_returned": "15928.16"
                                },
                                {
                                    "cus_id": "1590",
                                    "cus_first_name": "Timothy",
                                    "cus_last_name": "Saylor",
                                    "return_count": "5",
                                    "total_returned": "15872.50"
                                },
                                {
                                    "cus_id": "2562",
                                    "cus_first_name": "Brandon",
                                    "cus_last_name": "Gorman",
                                    "return_count": "4",
                                    "total_returned": "15853.25"
                                },
                                {
                                    "cus_id": "1212",
                                    "cus_first_name": "Lee",
                                    "cus_last_name": "Hart",
                                    "return_count": "4",
                                    "total_returned": "15795.25"
                                },
                                {
                                    "cus_id": "1275",
                                    "cus_first_name": "Miguel",
                                    "cus_last_name": "Dickerson",
                                    "return_count": "4",
                                    "total_returned": "15761.40"
                                },
                                {
                                    "cus_id": "1191",
                                    "cus_first_name": "Miguel",
                                    "cus_last_name": "Deleon",
                                    "return_count": "4",
                                    "total_returned": "15736.58"
                                },
                                {
                                    "cus_id": "42",
                                    "cus_first_name": "Eric",
                                    "cus_last_name": "MacBain",
                                    "return_count": "5",
                                    "total_returned": "15698.98"
                                },
                                {
                                    "cus_id": "774",
                                    "cus_first_name": "Brandt",
                                    "cus_last_name": "Rice",
                                    "return_count": "5",
                                    "total_returned": "15688.00"
                                },
                                {
                                    "cus_id": "1053",
                                    "cus_first_name": "Harper",
                                    "cus_last_name": "Conley",
                                    "return_count": "5",
                                    "total_returned": "15586.31"
                                },
                                {
                                    "cus_id": "885",
                                    "cus_first_name": "Kristoff",
                                    "cus_last_name": "Aaronson",
                                    "return_count": "4",
                                    "total_returned": "15554.24"
                                },
                                {
                                    "cus_id": "1309",
                                    "cus_first_name": "Adam",
                                    "cus_last_name": "Presten",
                                    "return_count": "4",
                                    "total_returned": "15540.96"
                                },
                                {
                                    "cus_id": "2255",
                                    "cus_first_name": "George",
                                    "cus_last_name": "Smith",
                                    "return_count": "4",
                                    "total_returned": "15468.15"
                                },
                                {
                                    "cus_id": "1400",
                                    "cus_first_name": "Brian",
                                    "cus_last_name": "Deleon",
                                    "return_count": "4",
                                    "total_returned": "15395.29"
                                },
                                {
                                    "cus_id": "1886",
                                    "cus_first_name": "Brandon",
                                    "cus_last_name": "Acosta",
                                    "return_count": "4",
                                    "total_returned": "15319.00"
                                },
                                {
                                    "cus_id": "313",
                                    "cus_first_name": "Zachary",
                                    "cus_last_name": "Brooks",
                                    "return_count": "4",
                                    "total_returned": "15314.40"
                                },
                                {
                                    "cus_id": "1496",
                                    "cus_first_name": "Mike",
                                    "cus_last_name": "Dawson",
                                    "return_count": "5",
                                    "total_returned": "15264.00"
                                },
                                {
                                    "cus_id": "2531",
                                    "cus_first_name": "Miguel",
                                    "cus_last_name": "Jamieson",
                                    "return_count": "4",
                                    "total_returned": "15247.12"
                                },
                                {
                                    "cus_id": "2327",
                                    "cus_first_name": "Cooper",
                                    "cus_last_name": "Seiler",
                                    "return_count": "4",
                                    "total_returned": "15240.05"
                                },
                                {
                                    "cus_id": "2561",
                                    "cus_first_name": "Kristoff",
                                    "cus_last_name": "Deleon",
                                    "return_count": "5",
                                    "total_returned": "15196.00"
                                },
                                {
                                    "cus_id": "107",
                                    "cus_first_name": "Leah",
                                    "cus_last_name": "Sanchez",
                                    "return_count": "4",
                                    "total_returned": "15192.00"
                                },
                                {
                                    "cus_id": "1982",
                                    "cus_first_name": "Taylor",
                                    "cus_last_name": "Booker",
                                    "return_count": "6",
                                    "total_returned": "15073.70"
                                },
                                {
                                    "cus_id": "2590",
                                    "cus_first_name": "Piper",
                                    "cus_last_name": "Garth",
                                    "return_count": "6",
                                    "total_returned": "15053.80"
                                },
                                {
                                    "cus_id": "110",
                                    "cus_first_name": "Samuel",
                                    "cus_last_name": "Moore",
                                    "return_count": "4",
                                    "total_returned": "15045.60"
                                },
                                {
                                    "cus_id": "2059",
                                    "cus_first_name": "Adam",
                                    "cus_last_name": "Smith",
                                    "return_count": "5",
                                    "total_returned": "15045.00"
                                },
                                {
                                    "cus_id": "1403",
                                    "cus_first_name": "Chris",
                                    "cus_last_name": "Bangeson",
                                    "return_count": "4",
                                    "total_returned": "15041.50"
                                },
                                {
                                    "cus_id": "2287",
                                    "cus_first_name": "Thomas",
                                    "cus_last_name": "Garcia",
                                    "return_count": "4",
                                    "total_returned": "15040.79"
                                },
                                {
                                    "cus_id": "877",
                                    "cus_first_name": "Margo",
                                    "cus_last_name": "Banks",
                                    "return_count": "6",
                                    "total_returned": "15025.44"
                                },
                                {
                                    "cus_id": "2386",
                                    "cus_first_name": "Brian",
                                    "cus_last_name": "Presley",
                                    "return_count": "4",
                                    "total_returned": "15019.20"
                                },
                                {
                                    "cus_id": "1444",
                                    "cus_first_name": "Eric",
                                    "cus_last_name": "Shelton",
                                    "return_count": "4",
                                    "total_returned": "15019.20"
                                },
                                {
                                    "cus_id": "2429",
                                    "cus_first_name": "Aaron",
                                    "cus_last_name": "Slain",
                                    "return_count": "4",
                                    "total_returned": "15000.00"
                                },
                                {
                                    "cus_id": "2445",
                                    "cus_first_name": "Kenadi",
                                    "cus_last_name": "Cooper",
                                    "return_count": "4",
                                    "total_returned": "14981.75"
                                },
                                {
                                    "cus_id": "444",
                                    "cus_first_name": "Mike",
                                    "cus_last_name": "Barrister",
                                    "return_count": "5",
                                    "total_returned": "14961.64"
                                },
                                {
                                    "cus_id": "785",
                                    "cus_first_name": "Moritz",
                                    "cus_last_name": "Seiler",
                                    "return_count": "4",
                                    "total_returned": "14944.23"
                                },
                                {
                                    "cus_id": "2525",
                                    "cus_first_name": "Kristoff",
                                    "cus_last_name": "Ridgley",
                                    "return_count": "4",
                                    "total_returned": "14855.88"
                                },
                                {
                                    "cus_id": "569",
                                    "cus_first_name": "Cooper",
                                    "cus_last_name": "Acosta",
                                    "return_count": "4",
                                    "total_returned": "14823.09"
                                },
                                {
                                    "cus_id": "1500",
                                    "cus_first_name": "Adam",
                                    "cus_last_name": "Tankersly",
                                    "return_count": "4",
                                    "total_returned": "14823.06"
                                },
                                {
                                    "cus_id": "1252",
                                    "cus_first_name": "Adam",
                                    "cus_last_name": "Smith-Warren",
                                    "return_count": "4",
                                    "total_returned": "14706.00"
                                },
                                {
                                    "cus_id": "241",
                                    "cus_first_name": "Thomas",
                                    "cus_last_name": "Banks",
                                    "return_count": "5",
                                    "total_returned": "14695.96"
                                },
                                {
                                    "cus_id": "386",
                                    "cus_first_name": "Maggs",
                                    "cus_last_name": "Calahan",
                                    "return_count": "4",
                                    "total_returned": "14650.98"
                                },
                                {
                                    "cus_id": "491",
                                    "cus_first_name": "Maggs",
                                    "cus_last_name": "Aaronson",
                                    "return_count": "4",
                                    "total_returned": "14598.48"
                                },
                                {
                                    "cus_id": "2466",
                                    "cus_first_name": "Jonathon",
                                    "cus_last_name": "Hart",
                                    "return_count": "4",
                                    "total_returned": "14560.00"
                                },
                                {
                                    "cus_id": "809",
                                    "cus_first_name": "Lee",
                                    "cus_last_name": "Thomason",
                                    "return_count": "4",
                                    "total_returned": "14537.31"
                                },
                                {
                                    "cus_id": "1427",
                                    "cus_first_name": "Blain",
                                    "cus_last_name": "Archibald",
                                    "return_count": "4",
                                    "total_returned": "14522.68"
                                },
                                {
                                    "cus_id": "1521",
                                    "cus_first_name": "Farris",
                                    "cus_last_name": "Banks",
                                    "return_count": "5",
                                    "total_returned": "14400.00"
                                },
                                {
                                    "cus_id": "2570",
                                    "cus_first_name": "Zachary",
                                    "cus_last_name": "Bangeson",
                                    "return_count": "4",
                                    "total_returned": "14377.76"
                                },
                                {
                                    "cus_id": "975",
                                    "cus_first_name": "Jasmine",
                                    "cus_last_name": "Archibald",
                                    "return_count": "4",
                                    "total_returned": "14260.88"
                                },
                                {
                                    "cus_id": "1488",
                                    "cus_first_name": "Jack",
                                    "cus_last_name": "Etzler",
                                    "return_count": "4",
                                    "total_returned": "14258.28"
                                },
                                {
                                    "cus_id": "415",
                                    "cus_first_name": "Manuel",
                                    "cus_last_name": "Johnasen",
                                    "return_count": "4",
                                    "total_returned": "14255.50"
                                },
                                {
                                    "cus_id": "1388",
                                    "cus_first_name": "Timothy",
                                    "cus_last_name": "Aaronson",
                                    "return_count": "4",
                                    "total_returned": "14196.97"
                                },
                                {
                                    "cus_id": "282",
                                    "cus_first_name": "Corey",
                                    "cus_last_name": "Roberts",
                                    "return_count": "4",
                                    "total_returned": "14180.64"
                                },
                                {
                                    "cus_id": "2381",
                                    "cus_first_name": "Taylor",
                                    "cus_last_name": "Smith",
                                    "return_count": "5",
                                    "total_returned": "14167.76"
                                },
                                {
                                    "cus_id": "1865",
                                    "cus_first_name": "Brandt",
                                    "cus_last_name": "Calahan",
                                    "return_count": "4",
                                    "total_returned": "14120.79"
                                },
                                {
                                    "cus_id": "1187",
                                    "cus_first_name": "Noel",
                                    "cus_last_name": "Gorman",
                                    "return_count": "4",
                                    "total_returned": "14084.00"
                                },
                                {
                                    "cus_id": "116",
                                    "cus_first_name": "Brice",
                                    "cus_last_name": "Jones",
                                    "return_count": "4",
                                    "total_returned": "14055.57"
                                },
                                {
                                    "cus_id": "1958",
                                    "cus_first_name": "Brian",
                                    "cus_last_name": "Conley",
                                    "return_count": "4",
                                    "total_returned": "14054.82"
                                },
                                {
                                    "cus_id": "1161",
                                    "cus_first_name": "Brian",
                                    "cus_last_name": "Booker",
                                    "return_count": "4",
                                    "total_returned": "14000.00"
                                },
                                {
                                    "cus_id": "2396",
                                    "cus_first_name": "Blain",
                                    "cus_last_name": "Monk",
                                    "return_count": "4",
                                    "total_returned": "13955.82"
                                },
                                {
                                    "cus_id": "2404",
                                    "cus_first_name": "Summer",
                                    "cus_last_name": "Reynolds",
                                    "return_count": "4",
                                    "total_returned": "13816.66"
                                },
                                {
                                    "cus_id": "84",
                                    "cus_first_name": "Jonathon",
                                    "cus_last_name": "Monk",
                                    "return_count": "4",
                                    "total_returned": "13802.97"
                                },
                                {
                                    "cus_id": "137",
                                    "cus_first_name": "Farris",
                                    "cus_last_name": "Connery",
                                    "return_count": "6",
                                    "total_returned": "13762.40"
                                },
                                {
                                    "cus_id": "1417",
                                    "cus_first_name": "Corey",
                                    "cus_last_name": "Dawson",
                                    "return_count": "4",
                                    "total_returned": "13750.41"
                                },
                                {
                                    "cus_id": "78",
                                    "cus_first_name": "Harper",
                                    "cus_last_name": "Acosta",
                                    "return_count": "5",
                                    "total_returned": "13724.88"
                                },
                                {
                                    "cus_id": "513",
                                    "cus_first_name": "Eric",
                                    "cus_last_name": "Sanchez",
                                    "return_count": "4",
                                    "total_returned": "13718.80"
                                },
                                {
                                    "cus_id": "949",
                                    "cus_first_name": "Harper",
                                    "cus_last_name": "Ramirez",
                                    "return_count": "4",
                                    "total_returned": "13688.46"
                                },
                                {
                                    "cus_id": "1514",
                                    "cus_first_name": "Robert",
                                    "cus_last_name": "Harper",
                                    "return_count": "6",
                                    "total_returned": "13670.68"
                                },
                                {
                                    "cus_id": "131",
                                    "cus_first_name": "Summer",
                                    "cus_last_name": "Rice",
                                    "return_count": "4",
                                    "total_returned": "13622.37"
                                },
                                {
                                    "cus_id": "817",
                                    "cus_first_name": "Zachary",
                                    "cus_last_name": "Smith",
                                    "return_count": "4",
                                    "total_returned": "13608.56"
                                },
                                {
                                    "cus_id": "2495",
                                    "cus_first_name": "Blain",
                                    "cus_last_name": "Tankersly",
                                    "return_count": "6",
                                    "total_returned": "13607.79"
                                },
                                {
                                    "cus_id": "347",
                                    "cus_first_name": "Eric",
                                    "cus_last_name": "Jackson",
                                    "return_count": "4",
                                    "total_returned": "13585.00"
                                },
                                {
                                    "cus_id": "128",
                                    "cus_first_name": "Abigail",
                                    "cus_last_name": "Cooper",
                                    "return_count": "4",
                                    "total_returned": "13571.85"
                                },
                                {
                                    "cus_id": "1930",
                                    "cus_first_name": "George",
                                    "cus_last_name": "Garth",
                                    "return_count": "4",
                                    "total_returned": "13571.85"
                                },
                                {
                                    "cus_id": "529",
                                    "cus_first_name": "Margo",
                                    "cus_last_name": "Moore",
                                    "return_count": "4",
                                    "total_returned": "13567.00"
                                },
                                {
                                    "cus_id": "1086",
                                    "cus_first_name": "Taylor",
                                    "cus_last_name": "Garcia",
                                    "return_count": "4",
                                    "total_returned": "13557.40"
                                },
                                {
                                    "cus_id": "1056",
                                    "cus_first_name": "Leah",
                                    "cus_last_name": "Gorman",
                                    "return_count": "5",
                                    "total_returned": "13547.79"
                                },
                                {
                                    "cus_id": "893",
                                    "cus_first_name": "Nadine",
                                    "cus_last_name": "Rowley",
                                    "return_count": "4",
                                    "total_returned": "13546.68"
                                },
                                {
                                    "cus_id": "2062",
                                    "cus_first_name": "Manuel",
                                    "cus_last_name": "French",
                                    "return_count": "5",
                                    "total_returned": "13471.85"
                                },
                                {
                                    "cus_id": "899",
                                    "cus_first_name": "Taylor",
                                    "cus_last_name": "Smith-Warren",
                                    "return_count": "4",
                                    "total_returned": "13441.85"
                                },
                                {
                                    "cus_id": "1915",
                                    "cus_first_name": "Farris",
                                    "cus_last_name": "Slain",
                                    "return_count": "4",
                                    "total_returned": "13421.88"
                                },
                                {
                                    "cus_id": "2492",
                                    "cus_first_name": "Margo",
                                    "cus_last_name": "Banks",
                                    "return_count": "4",
                                    "total_returned": "13382.37"
                                },
                                {
                                    "cus_id": "864",
                                    "cus_first_name": "Adam",
                                    "cus_last_name": "Shelton",
                                    "return_count": "5",
                                    "total_returned": "13349.85"
                                },
                                {
                                    "cus_id": "1811",
                                    "cus_first_name": "Albert",
                                    "cus_last_name": "Conley",
                                    "return_count": "4",
                                    "total_returned": "13349.76"
                                },
                                {
                                    "cus_id": "1054",
                                    "cus_first_name": "Abigail",
                                    "cus_last_name": "Smith-Warren",
                                    "return_count": "5",
                                    "total_returned": "13302.88"
                                },
                                {
                                    "cus_id": "930",
                                    "cus_first_name": "Brian",
                                    "cus_last_name": "Acosta",
                                    "return_count": "4",
                                    "total_returned": "13228.58"
                                },
                                {
                                    "cus_id": "4",
                                    "cus_first_name": "Eric",
                                    "cus_last_name": "Smith-Warren",
                                    "return_count": "6",
                                    "total_returned": "13219.52"
                                },
                                {
                                    "cus_id": "1748",
                                    "cus_first_name": "Airn",
                                    "cus_last_name": "Cooper",
                                    "return_count": "4",
                                    "total_returned": "13167.97"
                                },
                                {
                                    "cus_id": "438",
                                    "cus_first_name": "Jasmine",
                                    "cus_last_name": "Tompsen",
                                    "return_count": "4",
                                    "total_returned": "13160.70"
                                },
                                {
                                    "cus_id": "1177",
                                    "cus_first_name": "Reginald",
                                    "cus_last_name": "Conley",
                                    "return_count": "4",
                                    "total_returned": "13153.88"
                                },
                                {
                                    "cus_id": "998",
                                    "cus_first_name": "Adam",
                                    "cus_last_name": "Smith",
                                    "return_count": "4",
                                    "total_returned": "13098.60"
                                },
                                {
                                    "cus_id": "554",
                                    "cus_first_name": "Kristoff",
                                    "cus_last_name": "Monk",
                                    "return_count": "4",
                                    "total_returned": "13042.82"
                                },
                                {
                                    "cus_id": "1143",
                                    "cus_first_name": "Taylor",
                                    "cus_last_name": "Delacruz",
                                    "return_count": "4",
                                    "total_returned": "13037.39"
                                },
                                {
                                    "cus_id": "1012",
                                    "cus_first_name": "Eric",
                                    "cus_last_name": "Jones",
                                    "return_count": "4",
                                    "total_returned": "12991.36"
                                },
                                {
                                    "cus_id": "1133",
                                    "cus_first_name": "Richard",
                                    "cus_last_name": "Ramirez",
                                    "return_count": "5",
                                    "total_returned": "12991.36"
                                },
                                {
                                    "cus_id": "2321",
                                    "cus_first_name": "Valerie",
                                    "cus_last_name": "Conley",
                                    "return_count": "4",
                                    "total_returned": "12958.00"
                                },
                                {
                                    "cus_id": "2331",
                                    "cus_first_name": "Kristoff",
                                    "cus_last_name": "Connery",
                                    "return_count": "4",
                                    "total_returned": "12915.88"
                                },
                                {
                                    "cus_id": "22",
                                    "cus_first_name": "Brian",
                                    "cus_last_name": "Ridgley",
                                    "return_count": "4",
                                    "total_returned": "12900.96"
                                },
                                {
                                    "cus_id": "140",
                                    "cus_first_name": "Tristan",
                                    "cus_last_name": "Monk",
                                    "return_count": "5",
                                    "total_returned": "12836.79"
                                },
                                {
                                    "cus_id": "1772",
                                    "cus_first_name": "Taylor",
                                    "cus_last_name": "Sherman",
                                    "return_count": "4",
                                    "total_returned": "12821.79"
                                },
                                {
                                    "cus_id": "1439",
                                    "cus_first_name": "Farris",
                                    "cus_last_name": "Connery",
                                    "return_count": "4",
                                    "total_returned": "12758.16"
                                },
                                {
                                    "cus_id": "1711",
                                    "cus_first_name": "Robert",
                                    "cus_last_name": "Applewood",
                                    "return_count": "4",
                                    "total_returned": "12718.82"
                                },
                                {
                                    "cus_id": "2084",
                                    "cus_first_name": "Noel",
                                    "cus_last_name": "Conley",
                                    "return_count": "4",
                                    "total_returned": "12693.97"
                                },
                                {
                                    "cus_id": "8",
                                    "cus_first_name": "Taylor",
                                    "cus_last_name": "Jones",
                                    "return_count": "4",
                                    "total_returned": "12686.82"
                                },
                                {
                                    "cus_id": "2142",
                                    "cus_first_name": "Jasmine",
                                    "cus_last_name": "Jiminez",
                                    "return_count": "5",
                                    "total_returned": "12676.44"
                                },
                                {
                                    "cus_id": "2004",
                                    "cus_first_name": "Aaron",
                                    "cus_last_name": "Saylor",
                                    "return_count": "4",
                                    "total_returned": "12627.82"
                                },
                                {
                                    "cus_id": "82",
                                    "cus_first_name": "Moritz",
                                    "cus_last_name": "Archibald",
                                    "return_count": "4",
                                    "total_returned": "12600.00"
                                },
                                {
                                    "cus_id": "1717",
                                    "cus_first_name": "Harper",
                                    "cus_last_name": "Jones",
                                    "return_count": "4",
                                    "total_returned": "12598.00"
                                },
                                {
                                    "cus_id": "470",
                                    "cus_first_name": "Piper",
                                    "cus_last_name": "Ridgley",
                                    "return_count": "4",
                                    "total_returned": "12597.00"
                                },
                                {
                                    "cus_id": "1318",
                                    "cus_first_name": "Robert",
                                    "cus_last_name": "Banks",
                                    "return_count": "4",
                                    "total_returned": "12520.34"
                                },
                                {
                                    "cus_id": "2105",
                                    "cus_first_name": "Alister",
                                    "cus_last_name": "Tankersly",
                                    "return_count": "4",
                                    "total_returned": "12479.97"
                                },
                                {
                                    "cus_id": "210",
                                    "cus_first_name": "Chris",
                                    "cus_last_name": "Ellis",
                                    "return_count": "4",
                                    "total_returned": "12476.88"
                                },
                                {
                                    "cus_id": "2099",
                                    "cus_first_name": "Jack",
                                    "cus_last_name": "Ellis",
                                    "return_count": "4",
                                    "total_returned": "12428.92"
                                },
                                {
                                    "cus_id": "2578",
                                    "cus_first_name": "George",
                                    "cus_last_name": "Jackson",
                                    "return_count": "4",
                                    "total_returned": "12344.82"
                                },
                                {
                                    "cus_id": "1522",
                                    "cus_first_name": "Abigail",
                                    "cus_last_name": "Barrister",
                                    "return_count": "4",
                                    "total_returned": "12274.29"
                                },
                                {
                                    "cus_id": "905",
                                    "cus_first_name": "Jack",
                                    "cus_last_name": "Tompsen",
                                    "return_count": "4",
                                    "total_returned": "12256.00"
                                },
                                {
                                    "cus_id": "2042",
                                    "cus_first_name": "Eric",
                                    "cus_last_name": "French",
                                    "return_count": "4",
                                    "total_returned": "12212.58"
                                },
                                {
                                    "cus_id": "1169",
                                    "cus_first_name": "Manuel",
                                    "cus_last_name": "Ramirez",
                                    "return_count": "5",
                                    "total_returned": "12202.36"
                                },
                                {
                                    "cus_id": "1931",
                                    "cus_first_name": "Summer",
                                    "cus_last_name": "Cooper",
                                    "return_count": "5",
                                    "total_returned": "12185.36"
                                },
                                {
                                    "cus_id": "266",
                                    "cus_first_name": "Eric",
                                    "cus_last_name": "Goode",
                                    "return_count": "4",
                                    "total_returned": "12114.12"
                                },
                                {
                                    "cus_id": "1351",
                                    "cus_first_name": "Mindy",
                                    "cus_last_name": "Banks",
                                    "return_count": "4",
                                    "total_returned": "12061.29"
                                },
                                {
                                    "cus_id": "253",
                                    "cus_first_name": "Mindy",
                                    "cus_last_name": "Tompsen",
                                    "return_count": "6",
                                    "total_returned": "12012.92"
                                },
                                {
                                    "cus_id": "2151",
                                    "cus_first_name": "Lee",
                                    "cus_last_name": "Harper",
                                    "return_count": "4",
                                    "total_returned": "12008.00"
                                },
                                {
                                    "cus_id": "1246",
                                    "cus_first_name": "Manuel",
                                    "cus_last_name": "Sherman",
                                    "return_count": "4",
                                    "total_returned": "12002.19"
                                },
                                {
                                    "cus_id": "1031",
                                    "cus_first_name": "Zachary",
                                    "cus_last_name": "Harper",
                                    "return_count": "4",
                                    "total_returned": "11981.19"
                                },
                                {
                                    "cus_id": "1273",
                                    "cus_first_name": "Reginald",
                                    "cus_last_name": "Tankersly",
                                    "return_count": "5",
                                    "total_returned": "11973.85"
                                },
                                {
                                    "cus_id": "739",
                                    "cus_first_name": "Joshua",
                                    "cus_last_name": "Jones",
                                    "return_count": "5",
                                    "total_returned": "11973.60"
                                },
                                {
                                    "cus_id": "2504",
                                    "cus_first_name": "Mike",
                                    "cus_last_name": "Banks",
                                    "return_count": "4",
                                    "total_returned": "11971.97"
                                },
                                {
                                    "cus_id": "479",
                                    "cus_first_name": "Alister",
                                    "cus_last_name": "Jones",
                                    "return_count": "5",
                                    "total_returned": "11971.01"
                                },
                                {
                                    "cus_id": "515",
                                    "cus_first_name": "Chris",
                                    "cus_last_name": "Manchester",
                                    "return_count": "4",
                                    "total_returned": "11970.00"
                                },
                                {
                                    "cus_id": "1336",
                                    "cus_first_name": "Summer",
                                    "cus_last_name": "Aaronson",
                                    "return_count": "5",
                                    "total_returned": "11961.97"
                                },
                                {
                                    "cus_id": "397",
                                    "cus_first_name": "Moritz",
                                    "cus_last_name": "Conley",
                                    "return_count": "4",
                                    "total_returned": "11894.00"
                                },
                                {
                                    "cus_id": "1089",
                                    "cus_first_name": "Jasmine",
                                    "cus_last_name": "Calahan",
                                    "return_count": "4",
                                    "total_returned": "11867.76"
                                },
                                {
                                    "cus_id": "1682",
                                    "cus_first_name": "Adam",
                                    "cus_last_name": "Aaronson",
                                    "return_count": "4",
                                    "total_returned": "11867.76"
                                },
                                {
                                    "cus_id": "863",
                                    "cus_first_name": "George",
                                    "cus_last_name": "Garcia",
                                    "return_count": "4",
                                    "total_returned": "11811.80"
                                },
                                {
                                    "cus_id": "938",
                                    "cus_first_name": "Cooper",
                                    "cus_last_name": "Etzler",
                                    "return_count": "4",
                                    "total_returned": "11798.00"
                                },
                                {
                                    "cus_id": "1882",
                                    "cus_first_name": "Adam",
                                    "cus_last_name": "Sherman",
                                    "return_count": "4",
                                    "total_returned": "11791.00"
                                },
                                {
                                    "cus_id": "2033",
                                    "cus_first_name": "Margo",
                                    "cus_last_name": "Tankersly",
                                    "return_count": "5",
                                    "total_returned": "11764.65"
                                },
                                {
                                    "cus_id": "1208",
                                    "cus_first_name": "Brandt",
                                    "cus_last_name": "Jones",
                                    "return_count": "5",
                                    "total_returned": "11709.70"
                                },
                                {
                                    "cus_id": "1236",
                                    "cus_first_name": "Miguel",
                                    "cus_last_name": "Tankersly",
                                    "return_count": "4",
                                    "total_returned": "11657.88"
                                },
                                {
                                    "cus_id": "262",
                                    "cus_first_name": "Sarah",
                                    "cus_last_name": "Garcia",
                                    "return_count": "5",
                                    "total_returned": "11599.75"
                                },
                                {
                                    "cus_id": "2363",
                                    "cus_first_name": "Kenadi",
                                    "cus_last_name": "Slain",
                                    "return_count": "4",
                                    "total_returned": "11481.00"
                                },
                                {
                                    "cus_id": "1082",
                                    "cus_first_name": "Brian",
                                    "cus_last_name": "Stevens",
                                    "return_count": "4",
                                    "total_returned": "11448.00"
                                },
                                {
                                    "cus_id": "1859",
                                    "cus_first_name": "Piper",
                                    "cus_last_name": "Bangeson",
                                    "return_count": "4",
                                    "total_returned": "11397.00"
                                },
                                {
                                    "cus_id": "1297",
                                    "cus_first_name": "Brian",
                                    "cus_last_name": "Jones",
                                    "return_count": "4",
                                    "total_returned": "11360.15"
                                },
                                {
                                    "cus_id": "2239",
                                    "cus_first_name": "Eric",
                                    "cus_last_name": "Shelton",
                                    "return_count": "4",
                                    "total_returned": "11264.38"
                                },
                                {
                                    "cus_id": "2254",
                                    "cus_first_name": "Mads",
                                    "cus_last_name": "Moore",
                                    "return_count": "4",
                                    "total_returned": "11196.00"
                                },
                                {
                                    "cus_id": "2383",
                                    "cus_first_name": "Zachary",
                                    "cus_last_name": "Johnasen",
                                    "return_count": "4",
                                    "total_returned": "11027.79"
                                },
                                {
                                    "cus_id": "1743",
                                    "cus_first_name": "Mindy",
                                    "cus_last_name": "Rowley",
                                    "return_count": "4",
                                    "total_returned": "11025.76"
                                },
                                {
                                    "cus_id": "37",
                                    "cus_first_name": "Timothy",
                                    "cus_last_name": "Delacruz",
                                    "return_count": "4",
                                    "total_returned": "10955.88"
                                },
                                {
                                    "cus_id": "616",
                                    "cus_first_name": "Brice",
                                    "cus_last_name": "Jackson",
                                    "return_count": "4",
                                    "total_returned": "10939.02"
                                },
                                {
                                    "cus_id": "2259",
                                    "cus_first_name": "Erin",
                                    "cus_last_name": "French",
                                    "return_count": "4",
                                    "total_returned": "10911.88"
                                },
                                {
                                    "cus_id": "2015",
                                    "cus_first_name": "Maggs",
                                    "cus_last_name": "Dewey",
                                    "return_count": "4",
                                    "total_returned": "10711.96"
                                },
                                {
                                    "cus_id": "2499",
                                    "cus_first_name": "Joshua",
                                    "cus_last_name": "Cooper",
                                    "return_count": "4",
                                    "total_returned": "10647.62"
                                },
                                {
                                    "cus_id": "2468",
                                    "cus_first_name": "Sarah",
                                    "cus_last_name": "Aaronson",
                                    "return_count": "6",
                                    "total_returned": "10583.00"
                                },
                                {
                                    "cus_id": "2028",
                                    "cus_first_name": "Jonathon",
                                    "cus_last_name": "Deleon",
                                    "return_count": "4",
                                    "total_returned": "10556.00"
                                },
                                {
                                    "cus_id": "1250",
                                    "cus_first_name": "Nadine",
                                    "cus_last_name": "Willis",
                                    "return_count": "5",
                                    "total_returned": "10432.45"
                                },
                                {
                                    "cus_id": "1731",
                                    "cus_first_name": "Corey",
                                    "cus_last_name": "Harper",
                                    "return_count": "6",
                                    "total_returned": "10385.42"
                                },
                                {
                                    "cus_id": "309",
                                    "cus_first_name": "Kenadi",
                                    "cus_last_name": "Hart",
                                    "return_count": "5",
                                    "total_returned": "10369.05"
                                },
                                {
                                    "cus_id": "689",
                                    "cus_first_name": "Erin",
                                    "cus_last_name": "Jackson",
                                    "return_count": "4",
                                    "total_returned": "10361.68"
                                },
                                {
                                    "cus_id": "1604",
                                    "cus_first_name": "Eric",
                                    "cus_last_name": "Slain",
                                    "return_count": "5",
                                    "total_returned": "10334.95"
                                },
                                {
                                    "cus_id": "1036",
                                    "cus_first_name": "Airn",
                                    "cus_last_name": "Jackson",
                                    "return_count": "5",
                                    "total_returned": "10325.22"
                                },
                                {
                                    "cus_id": "1638",
                                    "cus_first_name": "Alister",
                                    "cus_last_name": "Jones",
                                    "return_count": "4",
                                    "total_returned": "10301.16"
                                },
                                {
                                    "cus_id": "693",
                                    "cus_first_name": "Joshua",
                                    "cus_last_name": "Harper",
                                    "return_count": "4",
                                    "total_returned": "10289.10"
                                },
                                {
                                    "cus_id": "824",
                                    "cus_first_name": "Reginald",
                                    "cus_last_name": "Williamson",
                                    "return_count": "4",
                                    "total_returned": "10269.00"
                                },
                                {
                                    "cus_id": "766",
                                    "cus_first_name": "Carl",
                                    "cus_last_name": "Calahan",
                                    "return_count": "5",
                                    "total_returned": "10222.80"
                                },
                                {
                                    "cus_id": "1761",
                                    "cus_first_name": "Eric",
                                    "cus_last_name": "Barrister",
                                    "return_count": "4",
                                    "total_returned": "10100.50"
                                },
                                {
                                    "cus_id": "1378",
                                    "cus_first_name": "Chris",
                                    "cus_last_name": "Peters",
                                    "return_count": "4",
                                    "total_returned": "10009.68"
                                },
                                {
                                    "cus_id": "799",
                                    "cus_first_name": "Nadine",
                                    "cus_last_name": "Bangeson",
                                    "return_count": "4",
                                    "total_returned": "10003.90"
                                },
                                {
                                    "cus_id": "2350",
                                    "cus_first_name": "Timothy",
                                    "cus_last_name": "Johnasen",
                                    "return_count": "4",
                                    "total_returned": "10003.02"
                                },
                                {
                                    "cus_id": "292",
                                    "cus_first_name": "Abigail",
                                    "cus_last_name": "Peters",
                                    "return_count": "5",
                                    "total_returned": "9990.88"
                                },
                                {
                                    "cus_id": "1503",
                                    "cus_first_name": "Lee",
                                    "cus_last_name": "Tompsen",
                                    "return_count": "4",
                                    "total_returned": "9980.88"
                                },
                                {
                                    "cus_id": "3",
                                    "cus_first_name": "Mike",
                                    "cus_last_name": "Roberts",
                                    "return_count": "4",
                                    "total_returned": "9965.00"
                                },
                                {
                                    "cus_id": "2178",
                                    "cus_first_name": "Eric",
                                    "cus_last_name": "Jackson",
                                    "return_count": "4",
                                    "total_returned": "9960.24"
                                },
                                {
                                    "cus_id": "679",
                                    "cus_first_name": "Jasmine",
                                    "cus_last_name": "Riochardson",
                                    "return_count": "4",
                                    "total_returned": "9869.60"
                                },
                                {
                                    "cus_id": "2586",
                                    "cus_first_name": "Leah",
                                    "cus_last_name": "Delacruz",
                                    "return_count": "4",
                                    "total_returned": "9823.95"
                                },
                                {
                                    "cus_id": "1700",
                                    "cus_first_name": "Leah",
                                    "cus_last_name": "Aaronson",
                                    "return_count": "6",
                                    "total_returned": "9809.00"
                                },
                                {
                                    "cus_id": "2048",
                                    "cus_first_name": "Reginald",
                                    "cus_last_name": "Tankersly",
                                    "return_count": "5",
                                    "total_returned": "9749.95"
                                },
                                {
                                    "cus_id": "1447",
                                    "cus_first_name": "Timothy",
                                    "cus_last_name": "Seiler",
                                    "return_count": "4",
                                    "total_returned": "9656.00"
                                },
                                {
                                    "cus_id": "1085",
                                    "cus_first_name": "Reginald",
                                    "cus_last_name": "Jamieson",
                                    "return_count": "4",
                                    "total_returned": "9593.00"
                                },
                                {
                                    "cus_id": "2120",
                                    "cus_first_name": "Blain",
                                    "cus_last_name": "Bangeson",
                                    "return_count": "4",
                                    "total_returned": "9458.02"
                                },
                                {
                                    "cus_id": "1754",
                                    "cus_first_name": "Kristoff",
                                    "cus_last_name": "Dawson",
                                    "return_count": "4",
                                    "total_returned": "9439.62"
                                },
                                {
                                    "cus_id": "169",
                                    "cus_first_name": "Joshua",
                                    "cus_last_name": "Cooper",
                                    "return_count": "4",
                                    "total_returned": "9400.72"
                                },
                                {
                                    "cus_id": "2313",
                                    "cus_first_name": "Eric",
                                    "cus_last_name": "Bangeson",
                                    "return_count": "5",
                                    "total_returned": "9400.00"
                                },
                                {
                                    "cus_id": "1189",
                                    "cus_first_name": "Reginald",
                                    "cus_last_name": "Cooper",
                                    "return_count": "5",
                                    "total_returned": "9384.76"
                                },
                                {
                                    "cus_id": "2116",
                                    "cus_first_name": "Moritz",
                                    "cus_last_name": "Riochardson",
                                    "return_count": "4",
                                    "total_returned": "9301.76"
                                },
                                {
                                    "cus_id": "1156",
                                    "cus_first_name": "Eric",
                                    "cus_last_name": "Brooks",
                                    "return_count": "4",
                                    "total_returned": "9281.90"
                                },
                                {
                                    "cus_id": "153",
                                    "cus_first_name": "Alister",
                                    "cus_last_name": "Riochardson",
                                    "return_count": "4",
                                    "total_returned": "9242.90"
                                },
                                {
                                    "cus_id": "552",
                                    "cus_first_name": "Carl",
                                    "cus_last_name": "Acosta",
                                    "return_count": "4",
                                    "total_returned": "9235.44"
                                },
                                {
                                    "cus_id": "982",
                                    "cus_first_name": "Thomas",
                                    "cus_last_name": "Gorman",
                                    "return_count": "4",
                                    "total_returned": "9222.19"
                                },
                                {
                                    "cus_id": "1165",
                                    "cus_first_name": "Albert",
                                    "cus_last_name": "Slain",
                                    "return_count": "4",
                                    "total_returned": "9187.44"
                                },
                                {
                                    "cus_id": "1890",
                                    "cus_first_name": "Eric",
                                    "cus_last_name": "Monk",
                                    "return_count": "4",
                                    "total_returned": "9086.88"
                                },
                                {
                                    "cus_id": "2020",
                                    "cus_first_name": "Eric",
                                    "cus_last_name": "Ridgley",
                                    "return_count": "4",
                                    "total_returned": "9068.34"
                                },
                                {
                                    "cus_id": "1657",
                                    "cus_first_name": "Margo",
                                    "cus_last_name": "Peters",
                                    "return_count": "5",
                                    "total_returned": "8827.78"
                                },
                                {
                                    "cus_id": "1928",
                                    "cus_first_name": "Jasmine",
                                    "cus_last_name": "Aaronson",
                                    "return_count": "4",
                                    "total_returned": "8796.00"
                                },
                                {
                                    "cus_id": "1690",
                                    "cus_first_name": "Brian",
                                    "cus_last_name": "Jones",
                                    "return_count": "4",
                                    "total_returned": "8739.88"
                                },
                                {
                                    "cus_id": "1150",
                                    "cus_first_name": "Sarah",
                                    "cus_last_name": "Deleon",
                                    "return_count": "5",
                                    "total_returned": "8695.24"
                                },
                                {
                                    "cus_id": "1092",
                                    "cus_first_name": "Corey",
                                    "cus_last_name": "Gonzales",
                                    "return_count": "4",
                                    "total_returned": "8364.30"
                                },
                                {
                                    "cus_id": "968",
                                    "cus_first_name": "Margo",
                                    "cus_last_name": "Rowley",
                                    "return_count": "4",
                                    "total_returned": "8352.45"
                                },
                                {
                                    "cus_id": "540",
                                    "cus_first_name": "Leah",
                                    "cus_last_name": "Thomason",
                                    "return_count": "4",
                                    "total_returned": "8336.20"
                                },
                                {
                                    "cus_id": "326",
                                    "cus_first_name": "Taylor",
                                    "cus_last_name": "Bangeson",
                                    "return_count": "4",
                                    "total_returned": "8296.10"
                                },
                                {
                                    "cus_id": "1876",
                                    "cus_first_name": "Brandt",
                                    "cus_last_name": "Aaronson",
                                    "return_count": "4",
                                    "total_returned": "7936.52"
                                },
                                {
                                    "cus_id": "1796",
                                    "cus_first_name": "Leah",
                                    "cus_last_name": "Shelton",
                                    "return_count": "5",
                                    "total_returned": "7917.00"
                                },
                                {
                                    "cus_id": "1986",
                                    "cus_first_name": "Erin",
                                    "cus_last_name": "Ellis",
                                    "return_count": "4",
                                    "total_returned": "7901.92"
                                },
                                {
                                    "cus_id": "336",
                                    "cus_first_name": "Richard",
                                    "cus_last_name": "Jamieson",
                                    "return_count": "4",
                                    "total_returned": "7844.00"
                                },
                                {
                                    "cus_id": "2038",
                                    "cus_first_name": "Mads",
                                    "cus_last_name": "Smith-Warren",
                                    "return_count": "4",
                                    "total_returned": "7807.00"
                                },
                                {
                                    "cus_id": "1941",
                                    "cus_first_name": "Jasmine",
                                    "cus_last_name": "Acosta",
                                    "return_count": "4",
                                    "total_returned": "7799.96"
                                },
                                {
                                    "cus_id": "2338",
                                    "cus_first_name": "George",
                                    "cus_last_name": "Barrister",
                                    "return_count": "5",
                                    "total_returned": "7696.00"
                                },
                                {
                                    "cus_id": "2580",
                                    "cus_first_name": "Maggs",
                                    "cus_last_name": "Ramirez",
                                    "return_count": "4",
                                    "total_returned": "7478.00"
                                },
                                {
                                    "cus_id": "1803",
                                    "cus_first_name": "Nadine",
                                    "cus_last_name": "Calahan",
                                    "return_count": "5",
                                    "total_returned": "7459.22"
                                },
                                {
                                    "cus_id": "385",
                                    "cus_first_name": "Eric",
                                    "cus_last_name": "Gorman",
                                    "return_count": "4",
                                    "total_returned": "7414.50"
                                },
                                {
                                    "cus_id": "725",
                                    "cus_first_name": "George",
                                    "cus_last_name": "Thomason",
                                    "return_count": "4",
                                    "total_returned": "7403.92"
                                },
                                {
                                    "cus_id": "1572",
                                    "cus_first_name": "Reginald",
                                    "cus_last_name": "Jiminez",
                                    "return_count": "4",
                                    "total_returned": "7400.00"
                                },
                                {
                                    "cus_id": "498",
                                    "cus_first_name": "Joshua",
                                    "cus_last_name": "Harper",
                                    "return_count": "4",
                                    "total_returned": "7324.42"
                                },
                                {
                                    "cus_id": "814",
                                    "cus_first_name": "Brandon",
                                    "cus_last_name": "Thomason",
                                    "return_count": "4",
                                    "total_returned": "7292.22"
                                },
                                {
                                    "cus_id": "1776",
                                    "cus_first_name": "Mike",
                                    "cus_last_name": "Presten",
                                    "return_count": "4",
                                    "total_returned": "6959.85"
                                },
                                {
                                    "cus_id": "2193",
                                    "cus_first_name": "Cooper",
                                    "cus_last_name": "Smith",
                                    "return_count": "4",
                                    "total_returned": "6856.68"
                                },
                                {
                                    "cus_id": "2324",
                                    "cus_first_name": "Mike",
                                    "cus_last_name": "Jackson",
                                    "return_count": "4",
                                    "total_returned": "6852.00"
                                },
                                {
                                    "cus_id": "525",
                                    "cus_first_name": "Miguel",
                                    "cus_last_name": "Jones",
                                    "return_count": "4",
                                    "total_returned": "6408.75"
                                },
                                {
                                    "cus_id": "24",
                                    "cus_first_name": "Erin",
                                    "cus_last_name": "Smith",
                                    "return_count": "4",
                                    "total_returned": "6396.51"
                                },
                                {
                                    "cus_id": "1737",
                                    "cus_first_name": "Mindy",
                                    "cus_last_name": "Presten",
                                    "return_count": "6",
                                    "total_returned": "6323.25"
                                },
                                {
                                    "cus_id": "811",
                                    "cus_first_name": "Sarah",
                                    "cus_last_name": "Gorman",
                                    "return_count": "4",
                                    "total_returned": "6221.43"
                                },
                                {
                                    "cus_id": "458",
                                    "cus_first_name": "Mads",
                                    "cus_last_name": "Williamson",
                                    "return_count": "6",
                                    "total_returned": "6202.00"
                                },
                                {
                                    "cus_id": "349",
                                    "cus_first_name": "Blain",
                                    "cus_last_name": "Roberts",
                                    "return_count": "5",
                                    "total_returned": "5952.39"
                                },
                                {
                                    "cus_id": "29",
                                    "cus_first_name": "Farris",
                                    "cus_last_name": "Saylor",
                                    "return_count": "4",
                                    "total_returned": "5706.20"
                                },
                                {
                                    "cus_id": "2571",
                                    "cus_first_name": "Brian",
                                    "cus_last_name": "Bangeson",
                                    "return_count": "4",
                                    "total_returned": "4518.00"
                                },
                                {
                                    "cus_id": "285",
                                    "cus_first_name": "Brice",
                                    "cus_last_name": "Peters",
                                    "return_count": "4",
                                    "total_returned": "3922.00"
                                }
                            ]
                        },
                        "text/html": [
                            "<table>",
                            "<tr><th>cus_id</th><th>cus_first_name</th><th>cus_last_name</th><th>return_count</th><th>total_returned</th></tr>",
                            "<tr><td>125</td><td>Harper</td><td>Robinson</td><td>7</td><td>51041.00</td></tr>",
                            "<tr><td>1393</td><td>Erin</td><td>Manning</td><td>7</td><td>48308.33</td></tr>",
                            "<tr><td>1821</td><td>Tristan</td><td>Bangeson</td><td>6</td><td>48255.84</td></tr>",
                            "<tr><td>1997</td><td>Alister</td><td>Connery</td><td>6</td><td>44394.00</td></tr>",
                            "<tr><td>2582</td><td>Carl</td><td>Stevens</td><td>7</td><td>43977.08</td></tr>",
                            "<tr><td>1675</td><td>Lee</td><td>Reynolds</td><td>7</td><td>43770.58</td></tr>",
                            "<tr><td>1648</td><td>Mads</td><td>Thomason</td><td>7</td><td>43770.58</td></tr>",
                            "<tr><td>1967</td><td>Margo</td><td>Brooks</td><td>5</td><td>42900.00</td></tr>",
                            "<tr><td>1163</td><td>Brian</td><td>Hart</td><td>5</td><td>42240.00</td></tr>",
                            "<tr><td>373</td><td>Carl</td><td>Saylor</td><td>7</td><td>42094.95</td></tr>",
                            "<tr><td>672</td><td>Cooper</td><td>Aaronson</td><td>5</td><td>41291.20</td></tr>",
                            "<tr><td>1909</td><td>Farris</td><td>Willis</td><td>5</td><td>41194.95</td></tr>",
                            "<tr><td>38</td><td>Harper</td><td>Jackson</td><td>6</td><td>40835.20</td></tr>",
                            "<tr><td>1062</td><td>Valerie</td><td>Manchester</td><td>6</td><td>40367.20</td></tr>",
                            "<tr><td>47</td><td>Brandon</td><td>Manchester</td><td>6</td><td>40003.45</td></tr>",
                            "<tr><td>2070</td><td>Lee</td><td>Presten</td><td>5</td><td>40000.00</td></tr>",
                            "<tr><td>1645</td><td>Aaron</td><td>Seiler</td><td>5</td><td>40000.00</td></tr>",
                            "<tr><td>281</td><td>Robert</td><td>Garth</td><td>6</td><td>39922.70</td></tr>",
                            "<tr><td>2108</td><td>Tristan</td><td>Deleon</td><td>5</td><td>38499.95</td></tr>",
                            "<tr><td>306</td><td>Carl</td><td>Garcia</td><td>5</td><td>38474.80</td></tr>",
                            "<tr><td>1058</td><td>Adam</td><td>Ramirez</td><td>6</td><td>37694.64</td></tr>",
                            "<tr><td>466</td><td>Jasmine</td><td>Garth</td><td>8</td><td>37432.00</td></tr>",
                            "<tr><td>697</td><td>Brian</td><td>Connery</td><td>6</td><td>36995.00</td></tr>",
                            "<tr><td>439</td><td>Alister</td><td>Manchester</td><td>7</td><td>36902.64</td></tr>",
                            "<tr><td>1552</td><td>Joshua</td><td>Presley</td><td>7</td><td>36400.00</td></tr>",
                            "<tr><td>1728</td><td>Thomas</td><td>Manning</td><td>6</td><td>35938.34</td></tr>",
                            "<tr><td>335</td><td>Albert</td><td>Harper</td><td>8</td><td>35156.00</td></tr>",
                            "<tr><td>962</td><td>Eric</td><td>Cooper</td><td>8</td><td>34754.02</td></tr>",
                            "<tr><td>709</td><td>Timothy</td><td>Archibald</td><td>5</td><td>34519.00</td></tr>",
                            "<tr><td>964</td><td>Nadine</td><td>Manchester</td><td>5</td><td>34343.95</td></tr>",
                            "<tr><td>2367</td><td>Chris</td><td>Bangeson</td><td>5</td><td>34290.00</td></tr>",
                            "<tr><td>2517</td><td>Mads</td><td>Presten</td><td>6</td><td>34056.80</td></tr>",
                            "<tr><td>674</td><td>George</td><td>Jamieson</td><td>5</td><td>33971.35</td></tr>",
                            "<tr><td>272</td><td>Blain</td><td>Saylor</td><td>4</td><td>33920.00</td></tr>",
                            "<tr><td>818</td><td>Airn</td><td>Booker</td><td>6</td><td>33893.50</td></tr>",
                            "<tr><td>2071</td><td>Mike</td><td>Acosta</td><td>6</td><td>33688.02</td></tr>",
                            "<tr><td>2285</td><td>Mindy</td><td>Slain</td><td>5</td><td>33564.96</td></tr>",
                            "<tr><td>602</td><td>Maggs</td><td>Reynolds</td><td>6</td><td>33563.25</td></tr>",
                            "<tr><td>1194</td><td>Zachary</td><td>Willis</td><td>8</td><td>33511.60</td></tr>",
                            "<tr><td>56</td><td>Corey</td><td>Garth</td><td>5</td><td>33280.00</td></tr>",
                            "<tr><td>271</td><td>Corey</td><td>Tankersly</td><td>5</td><td>33043.96</td></tr>",
                            "<tr><td>1944</td><td>Joshua</td><td>Brooks</td><td>7</td><td>33020.40</td></tr>",
                            "<tr><td>2554</td><td>Corey</td><td>Hart</td><td>8</td><td>32775.12</td></tr>",
                            "<tr><td>731</td><td>Albert</td><td>Johnasen</td><td>5</td><td>32695.76</td></tr>",
                            "<tr><td>1813</td><td>Eric</td><td>Connery</td><td>4</td><td>32647.96</td></tr>",
                            "<tr><td>925</td><td>Miguel</td><td>Etzler</td><td>4</td><td>32570.96</td></tr>",
                            "<tr><td>1087</td><td>Richard</td><td>Saylor</td><td>5</td><td>32372.72</td></tr>",
                            "<tr><td>2290</td><td>Leah</td><td>Reynolds</td><td>4</td><td>32262.96</td></tr>",
                            "<tr><td>1907</td><td>Joshua</td><td>Acosta</td><td>4</td><td>32078.40</td></tr>",
                            "<tr><td>1109</td><td>Reginald</td><td>MacBain</td><td>4</td><td>32002.76</td></tr>",
                            "<tr><td>414</td><td>Reginald</td><td>Jones</td><td>4</td><td>32000.00</td></tr>",
                            "<tr><td>1101</td><td>Reginald</td><td>Connery</td><td>6</td><td>31975.00</td></tr>",
                            "<tr><td>1238</td><td>Chris</td><td>Calahan</td><td>5</td><td>31887.96</td></tr>",
                            "<tr><td>1753</td><td>Adam</td><td>Slain</td><td>7</td><td>31800.00</td></tr>",
                            "<tr><td>1158</td><td>Mads</td><td>Dawson</td><td>4</td><td>31700.12</td></tr>",
                            "<tr><td>976</td><td>Moritz</td><td>MacBain</td><td>4</td><td>31700.12</td></tr>",
                            "<tr><td>781</td><td>Brian</td><td>Calahan</td><td>5</td><td>31630.72</td></tr>",
                            "<tr><td>1679</td><td>Jasmine</td><td>Stevens</td><td>7</td><td>31535.00</td></tr>",
                            "<tr><td>646</td><td>Manuel</td><td>Bangeson</td><td>8</td><td>31534.93</td></tr>",
                            "<tr><td>2524</td><td>Brice</td><td>Ramirez</td><td>4</td><td>31519.76</td></tr>",
                            "<tr><td>2253</td><td>Thomas</td><td>Maurer</td><td>4</td><td>31371.76</td></tr>",
                            "<tr><td>1228</td><td>Cooper</td><td>Stevens</td><td>5</td><td>31264.70</td></tr>",
                            "<tr><td>464</td><td>George</td><td>Sherman</td><td>4</td><td>31253.36</td></tr>",
                            "<tr><td>1634</td><td>Mads</td><td>Applewood</td><td>5</td><td>31204.95</td></tr>",
                            "<tr><td>168</td><td>Brandon</td><td>Slain</td><td>5</td><td>31102.50</td></tr>",
                            "<tr><td>913</td><td>Mindy</td><td>Gorman</td><td>7</td><td>31073.91</td></tr>",
                            "<tr><td>1257</td><td>Leah</td><td>Smith</td><td>4</td><td>30913.04</td></tr>",
                            "<tr><td>538</td><td>Adam</td><td>Ramirez</td><td>5</td><td>30836.20</td></tr>",
                            "<tr><td>2294</td><td>Kenadi</td><td>Cooper</td><td>5</td><td>30662.20</td></tr>",
                            "<tr><td>1606</td><td>Leah</td><td>Ellis</td><td>6</td><td>30358.80</td></tr>",
                            "<tr><td>732</td><td>Cooper</td><td>Garth</td><td>5</td><td>30197.00</td></tr>",
                            "<tr><td>1623</td><td>Abigail</td><td>Ridgley</td><td>5</td><td>30154.80</td></tr>",
                            "<tr><td>1254</td><td>Noel</td><td>Peters</td><td>6</td><td>29646.18</td></tr>",
                            "<tr><td>144</td><td>Maggs</td><td>Manning</td><td>6</td><td>29608.80</td></tr>",
                            "<tr><td>134</td><td>Manuel</td><td>Jones</td><td>6</td><td>29548.50</td></tr>",
                            "<tr><td>1068</td><td>Kenadi</td><td>Jackson</td><td>5</td><td>29493.75</td></tr>",
                            "<tr><td>1510</td><td>Brandon</td><td>Thomason</td><td>5</td><td>29410.35</td></tr>",
                            "<tr><td>1353</td><td>Margo</td><td>Rice</td><td>7</td><td>29281.75</td></tr>",
                            "<tr><td>2069</td><td>Aaron</td><td>Rice</td><td>5</td><td>29240.95</td></tr>",
                            "<tr><td>456</td><td>Cooper</td><td>Tompsen</td><td>5</td><td>29171.95</td></tr>",
                            "<tr><td>678</td><td>Leah</td><td>Saylor</td><td>6</td><td>29097.00</td></tr>",
                            "<tr><td>328</td><td>Chris</td><td>Aaronson</td><td>6</td><td>29093.76</td></tr>",
                            "<tr><td>1934</td><td>Mike</td><td>Roberts</td><td>7</td><td>28730.14</td></tr>",
                            "<tr><td>728</td><td>Timothy</td><td>Jones</td><td>5</td><td>28723.75</td></tr>",
                            "<tr><td>76</td><td>Mike</td><td>Slain</td><td>5</td><td>28682.50</td></tr>",
                            "<tr><td>320</td><td>Eric</td><td>Smith</td><td>5</td><td>28600.00</td></tr>",
                            "<tr><td>2260</td><td>Eric</td><td>Delapena</td><td>5</td><td>28600.00</td></tr>",
                            "<tr><td>1479</td><td>Robert</td><td>MacBain</td><td>6</td><td>28492.75</td></tr>",
                            "<tr><td>2183</td><td>Robert</td><td>Willis</td><td>7</td><td>28307.58</td></tr>",
                            "<tr><td>149</td><td>Reginald</td><td>Deleon</td><td>5</td><td>28271.05</td></tr>",
                            "<tr><td>1815</td><td>Corey</td><td>Ellis</td><td>5</td><td>27875.65</td></tr>",
                            "<tr><td>2279</td><td>Thomas</td><td>Presten</td><td>5</td><td>27782.15</td></tr>",
                            "<tr><td>1335</td><td>Brandon</td><td>Smith</td><td>6</td><td>27649.80</td></tr>",
                            "<tr><td>95</td><td>Jasmine</td><td>Manchester</td><td>6</td><td>27629.72</td></tr>",
                            "<tr><td>2592</td><td>Brandon</td><td>Willis</td><td>5</td><td>27532.95</td></tr>",
                            "<tr><td>1739</td><td>Erin</td><td>Peters</td><td>4</td><td>27475.16</td></tr>",
                            "<tr><td>2072</td><td>Leah</td><td>Riochardson</td><td>4</td><td>27475.16</td></tr>",
                            "<tr><td>902</td><td>Taylor</td><td>Roberts</td><td>4</td><td>27338.64</td></tr>",
                            "<tr><td>612</td><td>Abigail</td><td>Delacruz</td><td>5</td><td>27279.65</td></tr>",
                            "<tr><td>2173</td><td>Cooper</td><td>French</td><td>4</td><td>27114.80</td></tr>",
                            "<tr><td>516</td><td>Margo</td><td>Delapena</td><td>5</td><td>27034.80</td></tr>",
                            "<tr><td>2430</td><td>Mads</td><td>Ridgley</td><td>5</td><td>26879.95</td></tr>",
                            "<tr><td>2482</td><td>Samuel</td><td>Rowley</td><td>4</td><td>26603.20</td></tr>",
                            "<tr><td>1223</td><td>Chris</td><td>Conley</td><td>5</td><td>26558.80</td></tr>",
                            "<tr><td>1778</td><td>Jasmine</td><td>Shelton</td><td>6</td><td>26520.00</td></tr>",
                            "<tr><td>2104</td><td>Harper</td><td>Williamson</td><td>7</td><td>26465.58</td></tr>",
                            "<tr><td>53</td><td>Alister</td><td>Dawson</td><td>6</td><td>26394.00</td></tr>",
                            "<tr><td>1924</td><td>Jack</td><td>Jordan</td><td>5</td><td>26375.00</td></tr>",
                            "<tr><td>1513</td><td>Cooper</td><td>Jones</td><td>5</td><td>25887.96</td></tr>",
                            "<tr><td>2424</td><td>Noel</td><td>Harper</td><td>7</td><td>25876.58</td></tr>",
                            "<tr><td>2206</td><td>Reginald</td><td>Rice</td><td>5</td><td>25852.80</td></tr>",
                            "<tr><td>2390</td><td>Samuel</td><td>Smith</td><td>4</td><td>25616.00</td></tr>",
                            "<tr><td>2548</td><td>Margo</td><td>Dickerson</td><td>7</td><td>25517.64</td></tr>",
                            "<tr><td>1837</td><td>Summer</td><td>Applewood</td><td>6</td><td>25500.48</td></tr>",
                            "<tr><td>2293</td><td>Manuel</td><td>MacBain</td><td>5</td><td>25483.80</td></tr>",
                            "<tr><td>2546</td><td>Thomas</td><td>Reynolds</td><td>5</td><td>25465.00</td></tr>",
                            "<tr><td>2494</td><td>Sarah</td><td>Garth</td><td>7</td><td>25442.64</td></tr>",
                            "<tr><td>644</td><td>Manuel</td><td>Banks</td><td>6</td><td>25433.64</td></tr>",
                            "<tr><td>2540</td><td>Kristoff</td><td>Thomason</td><td>7</td><td>25433.64</td></tr>",
                            "<tr><td>179</td><td>Thomas</td><td>Saylor</td><td>6</td><td>25433.64</td></tr>",
                            "<tr><td>1969</td><td>Blain</td><td>Saylor</td><td>7</td><td>25194.00</td></tr>",
                            "<tr><td>2164</td><td>Alister</td><td>Presley</td><td>5</td><td>25148.50</td></tr>",
                            "<tr><td>1897</td><td>Abigail</td><td>Harper</td><td>5</td><td>25145.00</td></tr>",
                            "<tr><td>1124</td><td>Farris</td><td>Booker</td><td>5</td><td>25130.76</td></tr>",
                            "<tr><td>1120</td><td>Richard</td><td>Dewey</td><td>4</td><td>25094.36</td></tr>",
                            "<tr><td>1286</td><td>Margo</td><td>Cooper</td><td>5</td><td>25094.36</td></tr>",
                            "<tr><td>2516</td><td>Taylor</td><td>Bangeson</td><td>5</td><td>25015.80</td></tr>",
                            "<tr><td>571</td><td>Jonathon</td><td>Reynolds</td><td>4</td><td>25011.76</td></tr>",
                            "<tr><td>1990</td><td>Abigail</td><td>Monk</td><td>5</td><td>25000.00</td></tr>",
                            "<tr><td>288</td><td>Mike</td><td>Sherman</td><td>4</td><td>24952.76</td></tr>",
                            "<tr><td>2066</td><td>Thomas</td><td>Reynolds</td><td>4</td><td>24917.36</td></tr>",
                            "<tr><td>598</td><td>Alister</td><td>Aaronson</td><td>6</td><td>24674.00</td></tr>",
                            "<tr><td>512</td><td>Mike</td><td>Smith</td><td>5</td><td>24668.96</td></tr>",
                            "<tr><td>474</td><td>Brandt</td><td>Connery</td><td>5</td><td>24623.75</td></tr>",
                            "<tr><td>1467</td><td>Farris</td><td>Conley</td><td>5</td><td>24623.75</td></tr>",
                            "<tr><td>1061</td><td>Zachary</td><td>Calahan</td><td>8</td><td>24610.90</td></tr>",
                            "<tr><td>2587</td><td>Reginald</td><td>Riochardson</td><td>4</td><td>24610.64</td></tr>",
                            "<tr><td>1333</td><td>Carl</td><td>Shelton</td><td>4</td><td>24539.84</td></tr>",
                            "<tr><td>946</td><td>George</td><td>Peters</td><td>4</td><td>24539.84</td></tr>",
                            "<tr><td>2405</td><td>Piper</td><td>Ellis</td><td>4</td><td>24539.84</td></tr>",
                            "<tr><td>2388</td><td>Aaron</td><td>Rowley</td><td>6</td><td>24504.45</td></tr>",
                            "<tr><td>575</td><td>Eric</td><td>Jackson</td><td>4</td><td>24499.20</td></tr>",
                            "<tr><td>2012</td><td>Summer</td><td>Dewey</td><td>5</td><td>24440.00</td></tr>",
                            "<tr><td>1126</td><td>Taylor</td><td>Robinson</td><td>5</td><td>24274.95</td></tr>",
                            "<tr><td>1102</td><td>Reginald</td><td>Connery</td><td>4</td><td>24128.00</td></tr>",
                            "<tr><td>1033</td><td>Eric</td><td>Sherman</td><td>7</td><td>24121.00</td></tr>",
                            "<tr><td>46</td><td>Brandt</td><td>Dickerson</td><td>7</td><td>23994.00</td></tr>",
                            "<tr><td>2414</td><td>Blain</td><td>Rowley</td><td>4</td><td>23983.16</td></tr>",
                            "<tr><td>1820</td><td>Tristan</td><td>MacBain</td><td>4</td><td>23898.56</td></tr>",
                            "<tr><td>1332</td><td>Erin</td><td>Rice</td><td>5</td><td>23876.45</td></tr>",
                            "<tr><td>841</td><td>Noel</td><td>Manning</td><td>5</td><td>23870.04</td></tr>",
                            "<tr><td>2478</td><td>Harper</td><td>Manchester</td><td>8</td><td>23811.34</td></tr>",
                            "<tr><td>2187</td><td>Margo</td><td>Goode</td><td>6</td><td>23780.04</td></tr>",
                            "<tr><td>2581</td><td>Harper</td><td>Applewood</td><td>5</td><td>23770.36</td></tr>",
                            "<tr><td>665</td><td>Erin</td><td>Garcia</td><td>4</td><td>23674.16</td></tr>",
                            "<tr><td>1523</td><td>Carl</td><td>Booker</td><td>5</td><td>23596.00</td></tr>",
                            "<tr><td>559</td><td>Albert</td><td>Peters</td><td>4</td><td>23542.85</td></tr>",
                            "<tr><td>1134</td><td>Mindy</td><td>Shelton</td><td>4</td><td>23540.00</td></tr>",
                            "<tr><td>1868</td><td>Samuel</td><td>Roberts</td><td>4</td><td>23540.00</td></tr>",
                            "<tr><td>1713</td><td>Kristoff</td><td>Monk</td><td>4</td><td>23535.72</td></tr>",
                            "<tr><td>218</td><td>Blain</td><td>Aaronson</td><td>5</td><td>23500.00</td></tr>",
                            "<tr><td>1901</td><td>Adam</td><td>Jamieson</td><td>5</td><td>23489.72</td></tr>",
                            "<tr><td>615</td><td>Mike</td><td>Rowley</td><td>4</td><td>23430.00</td></tr>",
                            "<tr><td>1472</td><td>Lee</td><td>Aaronson</td><td>4</td><td>23430.00</td></tr>",
                            "<tr><td>2134</td><td>Carl</td><td>Slain</td><td>5</td><td>23425.95</td></tr>",
                            "<tr><td>1504</td><td>Nadine</td><td>Slain</td><td>5</td><td>23392.76</td></tr>",
                            "<tr><td>1913</td><td>Reginald</td><td>Peters</td><td>6</td><td>23349.70</td></tr>",
                            "<tr><td>1196</td><td>Brice</td><td>Johnasen</td><td>6</td><td>23337.56</td></tr>",
                            "<tr><td>1394</td><td>Tristan</td><td>Hart</td><td>5</td><td>23320.00</td></tr>",
                            "<tr><td>1105</td><td>Lee</td><td>Maurer</td><td>5</td><td>23314.70</td></tr>",
                            "<tr><td>1610</td><td>Corey</td><td>Ridgley</td><td>5</td><td>23306.35</td></tr>",
                            "<tr><td>1506</td><td>Moritz</td><td>Goode</td><td>5</td><td>23214.68</td></tr>",
                            "<tr><td>666</td><td>Cooper</td><td>Banks</td><td>5</td><td>23205.80</td></tr>",
                            "<tr><td>2401</td><td>Taylor</td><td>Barrister</td><td>5</td><td>23130.00</td></tr>",
                            "<tr><td>216</td><td>Taylor</td><td>MacBain</td><td>5</td><td>23084.88</td></tr>",
                            "<tr><td>2118</td><td>Blain</td><td>Jones</td><td>4</td><td>23062.80</td></tr>",
                            "<tr><td>1741</td><td>Joshua</td><td>Slain</td><td>5</td><td>23055.00</td></tr>",
                            "<tr><td>2130</td><td>Reginald</td><td>Connery</td><td>5</td><td>23053.40</td></tr>",
                            "<tr><td>2387</td><td>Alister</td><td>Garth</td><td>4</td><td>22941.84</td></tr>",
                            "<tr><td>1220</td><td>Jonathon</td><td>Robinson</td><td>7</td><td>22884.50</td></tr>",
                            "<tr><td>1497</td><td>Jonathon</td><td>Willis</td><td>4</td><td>22880.00</td></tr>",
                            "<tr><td>1114</td><td>Kristoff</td><td>Thomason</td><td>5</td><td>22877.12</td></tr>",
                            "<tr><td>901</td><td>Airn</td><td>Booker</td><td>5</td><td>22874.80</td></tr>",
                            "<tr><td>1166</td><td>Farris</td><td>Manning</td><td>5</td><td>22794.20</td></tr>",
                            "<tr><td>1836</td><td>Kenadi</td><td>Smith-Warren</td><td>6</td><td>22794.00</td></tr>",
                            "<tr><td>1065</td><td>Leah</td><td>MacBain</td><td>5</td><td>22784.70</td></tr>",
                            "<tr><td>894</td><td>Margo</td><td>Manchester</td><td>5</td><td>22783.15</td></tr>",
                            "<tr><td>835</td><td>Reginald</td><td>Dewey</td><td>4</td><td>22719.40</td></tr>",
                            "<tr><td>1766</td><td>Jonathon</td><td>Etzler</td><td>5</td><td>22717.90</td></tr>",
                            "<tr><td>563</td><td>Cooper</td><td>Dickerson</td><td>4</td><td>22686.68</td></tr>",
                            "<tr><td>2456</td><td>Zachary</td><td>Jones</td><td>6</td><td>22685.25</td></tr>",
                            "<tr><td>2107</td><td>Thomas</td><td>Archibald</td><td>5</td><td>22672.60</td></tr>",
                            "<tr><td>207</td><td>Moritz</td><td>French</td><td>5</td><td>22666.96</td></tr>",
                            "<tr><td>303</td><td>Brandt</td><td>Bangeson</td><td>5</td><td>22666.44</td></tr>",
                            "<tr><td>1786</td><td>Mike</td><td>Goode</td><td>5</td><td>22625.64</td></tr>",
                            "<tr><td>1627</td><td>Lee</td><td>Slain</td><td>5</td><td>22620.00</td></tr>",
                            "<tr><td>2008</td><td>Miguel</td><td>Conley</td><td>5</td><td>22619.75</td></tr>",
                            "<tr><td>2498</td><td>Joshua</td><td>Thomason</td><td>5</td><td>22500.68</td></tr>",
                            "<tr><td>813</td><td>Manuel</td><td>Barrister</td><td>5</td><td>22495.00</td></tr>",
                            "<tr><td>1379</td><td>Jonathon</td><td>Robinson</td><td>4</td><td>22460.88</td></tr>",
                            "<tr><td>534</td><td>Eric</td><td>Dewey</td><td>4</td><td>22458.68</td></tr>",
                            "<tr><td>1808</td><td>Adam</td><td>Harper</td><td>4</td><td>22428.64</td></tr>",
                            "<tr><td>1073</td><td>Lee</td><td>Booker</td><td>5</td><td>22418.75</td></tr>",
                            "<tr><td>18</td><td>Lee</td><td>Brooks</td><td>6</td><td>22407.00</td></tr>",
                            "<tr><td>289</td><td>Maggs</td><td>Monk</td><td>4</td><td>22401.64</td></tr>",
                            "<tr><td>494</td><td>Chris</td><td>Riochardson</td><td>6</td><td>22385.65</td></tr>",
                            "<tr><td>1893</td><td>Harper</td><td>Calahan</td><td>5</td><td>22353.24</td></tr>",
                            "<tr><td>1558</td><td>Jack</td><td>Aaronson</td><td>4</td><td>22353.24</td></tr>",
                            "<tr><td>1539</td><td>Brandon</td><td>Presley</td><td>4</td><td>22348.68</td></tr>",
                            "<tr><td>907</td><td>Piper</td><td>Johnasen</td><td>4</td><td>22189.84</td></tr>",
                            "<tr><td>222</td><td>Harper</td><td>Goode</td><td>5</td><td>22000.00</td></tr>",
                            "<tr><td>427</td><td>Corey</td><td>Slain</td><td>4</td><td>21991.76</td></tr>",
                            "<tr><td>775</td><td>Timothy</td><td>Garth</td><td>6</td><td>21897.80</td></tr>",
                            "<tr><td>159</td><td>Timothy</td><td>Reynolds</td><td>4</td><td>21874.72</td></tr>",
                            "<tr><td>40</td><td>Thomas</td><td>Dickerson</td><td>6</td><td>21840.00</td></tr>",
                            "<tr><td>2157</td><td>Adam</td><td>Tompsen</td><td>5</td><td>21807.24</td></tr>",
                            "<tr><td>2044</td><td>Blain</td><td>Presten</td><td>4</td><td>21721.44</td></tr>",
                            "<tr><td>1561</td><td>Aaron</td><td>Conley</td><td>6</td><td>21721.38</td></tr>",
                            "<tr><td>2372</td><td>Alister</td><td>Harper</td><td>5</td><td>21517.80</td></tr>",
                            "<tr><td>1833</td><td>Moritz</td><td>Maurer</td><td>5</td><td>21501.60</td></tr>",
                            "<tr><td>1950</td><td>Tristan</td><td>Cooper</td><td>4</td><td>21450.00</td></tr>",
                            "<tr><td>2307</td><td>Kenadi</td><td>Etzler</td><td>4</td><td>21450.00</td></tr>",
                            "<tr><td>748</td><td>Sarah</td><td>Banks</td><td>5</td><td>21444.65</td></tr>",
                            "<tr><td>2152</td><td>Summer</td><td>Deleon</td><td>6</td><td>21433.20</td></tr>",
                            "<tr><td>2045</td><td>Erin</td><td>Tankersly</td><td>6</td><td>21300.65</td></tr>",
                            "<tr><td>1953</td><td>Leah</td><td>Jordan</td><td>4</td><td>21288.77</td></tr>",
                            "<tr><td>932</td><td>Eric</td><td>Reynolds</td><td>5</td><td>21194.70</td></tr>",
                            "<tr><td>1088</td><td>Jasmine</td><td>Jiminez</td><td>5</td><td>21194.70</td></tr>",
                            "<tr><td>1666</td><td>Sarah</td><td>Garth</td><td>5</td><td>21194.70</td></tr>",
                            "<tr><td>956</td><td>Taylor</td><td>Calahan</td><td>5</td><td>21194.70</td></tr>",
                            "<tr><td>2493</td><td>Eric</td><td>Rice</td><td>6</td><td>21104.70</td></tr>",
                            "<tr><td>2043</td><td>Richard</td><td>Jiminez</td><td>5</td><td>21094.75</td></tr>",
                            "<tr><td>1108</td><td>Reginald</td><td>Archibald</td><td>5</td><td>21087.96</td></tr>",
                            "<tr><td>1534</td><td>Valerie</td><td>Archibald</td><td>4</td><td>21087.96</td></tr>",
                            "<tr><td>66</td><td>Airn</td><td>Manchester</td><td>4</td><td>21087.96</td></tr>",
                            "<tr><td>1057</td><td>Eric</td><td>Tompsen</td><td>6</td><td>21028.80</td></tr>",
                            "<tr><td>1153</td><td>Aaron</td><td>Manchester</td><td>6</td><td>20995.00</td></tr>",
                            "<tr><td>2223</td><td>Leah</td><td>Brooks</td><td>5</td><td>20950.00</td></tr>",
                            "<tr><td>2447</td><td>Nadine</td><td>Manning</td><td>6</td><td>20752.08</td></tr>",
                            "<tr><td>2117</td><td>Manuel</td><td>Tankersly</td><td>4</td><td>20606.37</td></tr>",
                            "<tr><td>150</td><td>Richard</td><td>Conley</td><td>5</td><td>20585.16</td></tr>",
                            "<tr><td>1168</td><td>Jonathon</td><td>Presley</td><td>4</td><td>20557.77</td></tr>",
                            "<tr><td>1152</td><td>Brandon</td><td>Rice</td><td>4</td><td>20507.48</td></tr>",
                            "<tr><td>1749</td><td>Moritz</td><td>MacBain</td><td>5</td><td>20474.96</td></tr>",
                            "<tr><td>550</td><td>Jack</td><td>Jamieson</td><td>4</td><td>20454.24</td></tr>",
                            "<tr><td>1253</td><td>Joshua</td><td>Roberts</td><td>4</td><td>20336.10</td></tr>",
                            "<tr><td>1229</td><td>Leah</td><td>French</td><td>4</td><td>20334.24</td></tr>",
                            "<tr><td>696</td><td>Sarah</td><td>Bangeson</td><td>4</td><td>20284.16</td></tr>",
                            "<tr><td>2464</td><td>Mindy</td><td>Slain</td><td>5</td><td>20187.65</td></tr>",
                            "<tr><td>597</td><td>Valerie</td><td>Smith</td><td>5</td><td>20171.64</td></tr>",
                            "<tr><td>869</td><td>Timothy</td><td>Harper</td><td>4</td><td>20163.00</td></tr>",
                            "<tr><td>1453</td><td>Brice</td><td>Moore</td><td>4</td><td>20092.52</td></tr>",
                            "<tr><td>334</td><td>Mindy</td><td>Cooper</td><td>4</td><td>20072.92</td></tr>",
                            "<tr><td>1039</td><td>Noel</td><td>Slain</td><td>5</td><td>20049.16</td></tr>",
                            "<tr><td>1949</td><td>Reginald</td><td>Cooper</td><td>4</td><td>20023.92</td></tr>",
                            "<tr><td>2218</td><td>Alister</td><td>Saylor</td><td>4</td><td>19952.40</td></tr>",
                            "<tr><td>2227</td><td>Abigail</td><td>Rowley</td><td>6</td><td>19947.80</td></tr>",
                            "<tr><td>1919</td><td>Cooper</td><td>Goode</td><td>4</td><td>19939.95</td></tr>",
                            "<tr><td>181</td><td>Eric</td><td>Johnasen</td><td>4</td><td>19939.95</td></tr>",
                            "<tr><td>2075</td><td>Mindy</td><td>Johnasen</td><td>5</td><td>19933.80</td></tr>",
                            "<tr><td>478</td><td>Abigail</td><td>Stevens</td><td>4</td><td>19931.28</td></tr>",
                            "<tr><td>1409</td><td>Brandon</td><td>Smith-Warren</td><td>4</td><td>19928.00</td></tr>",
                            "<tr><td>2477</td><td>Leah</td><td>Presley</td><td>4</td><td>19925.64</td></tr>",
                            "<tr><td>258</td><td>Margo</td><td>Presley</td><td>5</td><td>19852.80</td></tr>",
                            "<tr><td>947</td><td>Chris</td><td>Monk</td><td>5</td><td>19846.35</td></tr>",
                            "<tr><td>1121</td><td>Summer</td><td>Jiminez</td><td>4</td><td>19838.96</td></tr>",
                            "<tr><td>1258</td><td>Carl</td><td>Garth</td><td>4</td><td>19791.92</td></tr>",
                            "<tr><td>1493</td><td>Kenadi</td><td>Jordan</td><td>4</td><td>19764.12</td></tr>",
                            "<tr><td>733</td><td>Nadine</td><td>Jones</td><td>5</td><td>19754.80</td></tr>",
                            "<tr><td>2528</td><td>Richard</td><td>Rowley</td><td>4</td><td>19711.80</td></tr>",
                            "<tr><td>1963</td><td>Moritz</td><td>Jones</td><td>4</td><td>19699.00</td></tr>",
                            "<tr><td>591</td><td>Cooper</td><td>Delapena</td><td>4</td><td>19699.00</td></tr>",
                            "<tr><td>109</td><td>Thomas</td><td>Jones</td><td>5</td><td>19697.00</td></tr>",
                            "<tr><td>361</td><td>Abigail</td><td>Slain</td><td>6</td><td>19695.00</td></tr>",
                            "<tr><td>1603</td><td>Joshua</td><td>Smith-Warren</td><td>4</td><td>19548.88</td></tr>",
                            "<tr><td>2480</td><td>Eric</td><td>Conley</td><td>8</td><td>19481.30</td></tr>",
                            "<tr><td>1097</td><td>Erin</td><td>Ridgley</td><td>5</td><td>19464.64</td></tr>",
                            "<tr><td>848</td><td>Adam</td><td>Jackson</td><td>4</td><td>19456.35</td></tr>",
                            "<tr><td>542</td><td>Mads</td><td>Booker</td><td>6</td><td>19349.25</td></tr>",
                            "<tr><td>1602</td><td>Brice</td><td>Rice</td><td>4</td><td>19191.24</td></tr>",
                            "<tr><td>126</td><td>Cooper</td><td>Williamson</td><td>5</td><td>19191.24</td></tr>",
                            "<tr><td>2520</td><td>Reginald</td><td>French</td><td>5</td><td>19170.00</td></tr>",
                            "<tr><td>1825</td><td>Kristoff</td><td>MacBain</td><td>6</td><td>19119.36</td></tr>",
                            "<tr><td>1965</td><td>Thomas</td><td>Dawson</td><td>4</td><td>19106.57</td></tr>",
                            "<tr><td>965</td><td>George</td><td>Jamieson</td><td>4</td><td>19101.16</td></tr>",
                            "<tr><td>685</td><td>Kristoff</td><td>Barrister</td><td>4</td><td>19095.88</td></tr>",
                            "<tr><td>633</td><td>Manuel</td><td>Garcia</td><td>4</td><td>19075.76</td></tr>",
                            "<tr><td>1885</td><td>Jasmine</td><td>Presten</td><td>7</td><td>19043.00</td></tr>",
                            "<tr><td>2469</td><td>Moritz</td><td>Smith</td><td>5</td><td>18997.96</td></tr>",
                            "<tr><td>1614</td><td>Noel</td><td>Banks</td><td>6</td><td>18995.00</td></tr>",
                            "<tr><td>1564</td><td>Chris</td><td>Deleon</td><td>5</td><td>18980.04</td></tr>",
                            "<tr><td>716</td><td>Taylor</td><td>MacBain</td><td>4</td><td>18935.79</td></tr>",
                            "<tr><td>1644</td><td>George</td><td>Jones</td><td>5</td><td>18892.80</td></tr>",
                            "<tr><td>2128</td><td>Zachary</td><td>Ellis</td><td>5</td><td>18824.72</td></tr>",
                            "<tr><td>1049</td><td>Timothy</td><td>Conley</td><td>5</td><td>18769.84</td></tr>",
                            "<tr><td>903</td><td>Noel</td><td>Williamson</td><td>4</td><td>18758.82</td></tr>",
                            "<tr><td>1428</td><td>Corey</td><td>Presley</td><td>4</td><td>18670.35</td></tr>",
                            "<tr><td>1721</td><td>Brandt</td><td>Smith</td><td>4</td><td>18651.76</td></tr>",
                            "<tr><td>2172</td><td>Abigail</td><td>Jordan</td><td>4</td><td>18651.76</td></tr>",
                            "<tr><td>1118</td><td>Abigail</td><td>Gorman</td><td>4</td><td>18614.79</td></tr>",
                            "<tr><td>1926</td><td>Richard</td><td>Presten</td><td>4</td><td>18607.76</td></tr>",
                            "<tr><td>985</td><td>Moritz</td><td>Delapena</td><td>4</td><td>18600.00</td></tr>",
                            "<tr><td>2238</td><td>Carl</td><td>Ellis</td><td>4</td><td>18591.68</td></tr>",
                            "<tr><td>1846</td><td>Jasmine</td><td>Cooper</td><td>4</td><td>18583.96</td></tr>",
                            "<tr><td>64</td><td>Robert</td><td>Ellis</td><td>5</td><td>18563.80</td></tr>",
                            "<tr><td>1747</td><td>Eric</td><td>Presley</td><td>4</td><td>18527.82</td></tr>",
                            "<tr><td>1476</td><td>Jonathon</td><td>Banks</td><td>5</td><td>18507.00</td></tr>",
                            "<tr><td>2114</td><td>Timothy</td><td>Calahan</td><td>4</td><td>18495.50</td></tr>",
                            "<tr><td>424</td><td>Brandt</td><td>Etzler</td><td>4</td><td>18446.96</td></tr>",
                            "<tr><td>382</td><td>Summer</td><td>Ellis</td><td>5</td><td>18378.24</td></tr>",
                            "<tr><td>1921</td><td>Tristan</td><td>Riochardson</td><td>4</td><td>18332.90</td></tr>",
                            "<tr><td>771</td><td>Aaron</td><td>Barrister</td><td>4</td><td>18317.96</td></tr>",
                            "<tr><td>1376</td><td>Sarah</td><td>Tankersly</td><td>4</td><td>18317.96</td></tr>",
                            "<tr><td>2228</td><td>Harper</td><td>Sanchez</td><td>4</td><td>18299.84</td></tr>",
                            "<tr><td>1202</td><td>Robert</td><td>Monk</td><td>4</td><td>18299.84</td></tr>",
                            "<tr><td>919</td><td>Brice</td><td>Gonzales</td><td>4</td><td>18292.16</td></tr>",
                            "<tr><td>86</td><td>Thomas</td><td>Etzler</td><td>4</td><td>18174.30</td></tr>",
                            "<tr><td>798</td><td>Airn</td><td>Williamson</td><td>5</td><td>18163.40</td></tr>",
                            "<tr><td>342</td><td>Farris</td><td>Shelton</td><td>5</td><td>18163.16</td></tr>",
                            "<tr><td>1329</td><td>Eric</td><td>Manchester</td><td>5</td><td>18128.23</td></tr>",
                            "<tr><td>1841</td><td>Noel</td><td>Archibald</td><td>4</td><td>18105.00</td></tr>",
                            "<tr><td>683</td><td>Nadine</td><td>Jiminez</td><td>4</td><td>18105.00</td></tr>",
                            "<tr><td>1017</td><td>Reginald</td><td>Rice</td><td>4</td><td>18096.00</td></tr>",
                            "<tr><td>1867</td><td>Kristoff</td><td>Robinson</td><td>4</td><td>18019.96</td></tr>",
                            "<tr><td>2126</td><td>Noel</td><td>Delapena</td><td>5</td><td>18019.96</td></tr>",
                            "<tr><td>1310</td><td>Jonathon</td><td>Rice</td><td>4</td><td>18019.96</td></tr>",
                            "<tr><td>1195</td><td>Carl</td><td>Manchester</td><td>4</td><td>17987.37</td></tr>",
                            "<tr><td>2006</td><td>Taylor</td><td>Willis</td><td>5</td><td>17939.56</td></tr>",
                            "<tr><td>1936</td><td>Kenadi</td><td>Manchester</td><td>4</td><td>17926.68</td></tr>",
                            "<tr><td>653</td><td>Cooper</td><td>Maurer</td><td>5</td><td>17917.76</td></tr>",
                            "<tr><td>1475</td><td>Eric</td><td>Delacruz</td><td>4</td><td>17911.38</td></tr>",
                            "<tr><td>2583</td><td>Jonathon</td><td>Rice</td><td>4</td><td>17883.84</td></tr>",
                            "<tr><td>951</td><td>Chris</td><td>Robinson</td><td>5</td><td>17876.00</td></tr>",
                            "<tr><td>1055</td><td>Lee</td><td>Gorman</td><td>4</td><td>17866.80</td></tr>",
                            "<tr><td>2415</td><td>Jack</td><td>Ellis</td><td>5</td><td>17819.25</td></tr>",
                            "<tr><td>845</td><td>Alister</td><td>Ramirez</td><td>5</td><td>17803.76</td></tr>",
                            "<tr><td>2029</td><td>Robert</td><td>Presley</td><td>6</td><td>17801.64</td></tr>",
                            "<tr><td>1381</td><td>Carl</td><td>French</td><td>4</td><td>17799.60</td></tr>",
                            "<tr><td>1186</td><td>Kristoff</td><td>French</td><td>4</td><td>17737.65</td></tr>",
                            "<tr><td>1492</td><td>Brandt</td><td>Aaronson</td><td>4</td><td>17731.00</td></tr>",
                            "<tr><td>1560</td><td>Piper</td><td>Delacruz</td><td>4</td><td>17731.00</td></tr>",
                            "<tr><td>1377</td><td>Piper</td><td>Thomason</td><td>4</td><td>17697.00</td></tr>",
                            "<tr><td>2385</td><td>Eric</td><td>Delacruz</td><td>4</td><td>17696.25</td></tr>",
                            "<tr><td>261</td><td>Thomas</td><td>Maurer</td><td>4</td><td>17693.09</td></tr>",
                            "<tr><td>20</td><td>Maggs</td><td>Peters</td><td>5</td><td>17677.80</td></tr>",
                            "<tr><td>1744</td><td>Maggs</td><td>Jones</td><td>5</td><td>17638.82</td></tr>",
                            "<tr><td>105</td><td>Valerie</td><td>Jones</td><td>5</td><td>17600.84</td></tr>",
                            "<tr><td>1458</td><td>Valerie</td><td>Etzler</td><td>4</td><td>17600.00</td></tr>",
                            "<tr><td>490</td><td>Mike</td><td>Booker</td><td>4</td><td>17596.00</td></tr>",
                            "<tr><td>2103</td><td>Tristan</td><td>Jackson</td><td>4</td><td>17593.80</td></tr>",
                            "<tr><td>1708</td><td>Piper</td><td>Jamieson</td><td>5</td><td>17593.80</td></tr>",
                            "<tr><td>1960</td><td>Jonathon</td><td>Jamieson</td><td>4</td><td>17588.44</td></tr>",
                            "<tr><td>629</td><td>Alister</td><td>Delacruz</td><td>5</td><td>17511.01</td></tr>",
                            "<tr><td>1301</td><td>Taylor</td><td>Presten</td><td>5</td><td>17472.00</td></tr>",
                            "<tr><td>467</td><td>Kristoff</td><td>Banks</td><td>4</td><td>17467.84</td></tr>",
                            "<tr><td>509</td><td>Leah</td><td>Gonzales</td><td>5</td><td>17443.00</td></tr>",
                            "<tr><td>447</td><td>Nadine</td><td>Peters</td><td>5</td><td>17383.98</td></tr>",
                            "<tr><td>350</td><td>Noel</td><td>Deleon</td><td>4</td><td>17331.45</td></tr>",
                            "<tr><td>1831</td><td>Carl</td><td>Calahan</td><td>4</td><td>17304.52</td></tr>",
                            "<tr><td>1660</td><td>Mads</td><td>Hart</td><td>4</td><td>17256.93</td></tr>",
                            "<tr><td>1838</td><td>Manuel</td><td>Smith</td><td>4</td><td>17199.96</td></tr>",
                            "<tr><td>2389</td><td>Tristan</td><td>Archibald</td><td>5</td><td>17095.72</td></tr>",
                            "<tr><td>1764</td><td>Sarah</td><td>Shelton</td><td>5</td><td>17088.35</td></tr>",
                            "<tr><td>193</td><td>Moritz</td><td>Ellis</td><td>4</td><td>17040.52</td></tr>",
                            "<tr><td>13</td><td>Lee</td><td>Slain</td><td>4</td><td>17040.52</td></tr>",
                            "<tr><td>1348</td><td>Kenadi</td><td>Moore</td><td>4</td><td>17040.52</td></tr>",
                            "<tr><td>298</td><td>Albert</td><td>Sanchez</td><td>4</td><td>17040.52</td></tr>",
                            "<tr><td>2511</td><td>Albert</td><td>Moore</td><td>4</td><td>17035.76</td></tr>",
                            "<tr><td>1818</td><td>Eric</td><td>Williamson</td><td>4</td><td>17015.01</td></tr>",
                            "<tr><td>1639</td><td>Thomas</td><td>Tankersly</td><td>4</td><td>17011.76</td></tr>",
                            "<tr><td>1448</td><td>Kristoff</td><td>Presten</td><td>7</td><td>16995.00</td></tr>",
                            "<tr><td>455</td><td>Noel</td><td>Willis</td><td>4</td><td>16955.76</td></tr>",
                            "<tr><td>1283</td><td>Eric</td><td>Ellis</td><td>4</td><td>16955.76</td></tr>",
                            "<tr><td>1024</td><td>Samuel</td><td>Reynolds</td><td>4</td><td>16955.76</td></tr>",
                            "<tr><td>2032</td><td>Valerie</td><td>Peters</td><td>5</td><td>16955.76</td></tr>",
                            "<tr><td>1144</td><td>Sarah</td><td>Robinson</td><td>4</td><td>16955.76</td></tr>",
                            "<tr><td>2356</td><td>Farris</td><td>Harper</td><td>4</td><td>16955.76</td></tr>",
                            "<tr><td>1219</td><td>Brice</td><td>Peters</td><td>4</td><td>16891.76</td></tr>",
                            "<tr><td>1344</td><td>Brandon</td><td>Garcia</td><td>5</td><td>16891.76</td></tr>",
                            "<tr><td>889</td><td>Kenadi</td><td>Garth</td><td>4</td><td>16855.64</td></tr>",
                            "<tr><td>867</td><td>Mindy</td><td>Bangeson</td><td>5</td><td>16850.96</td></tr>",
                            "<tr><td>605</td><td>Eric</td><td>Sanchez</td><td>5</td><td>16844.84</td></tr>",
                            "<tr><td>2150</td><td>Kenadi</td><td>Archibald</td><td>6</td><td>16796.00</td></tr>",
                            "<tr><td>1705</td><td>Timothy</td><td>Applewood</td><td>4</td><td>16796.00</td></tr>",
                            "<tr><td>675</td><td>Cooper</td><td>Bangeson</td><td>4</td><td>16796.00</td></tr>",
                            "<tr><td>2217</td><td>Brice</td><td>Jiminez</td><td>4</td><td>16777.41</td></tr>",
                            "<tr><td>726</td><td>Robert</td><td>Hart</td><td>4</td><td>16771.80</td></tr>",
                            "<tr><td>627</td><td>Erin</td><td>Presley</td><td>6</td><td>16736.46</td></tr>",
                            "<tr><td>2310</td><td>Kristoff</td><td>Conley</td><td>4</td><td>16719.00</td></tr>",
                            "<tr><td>664</td><td>Valerie</td><td>Williamson</td><td>4</td><td>16711.96</td></tr>",
                            "<tr><td>2001</td><td>Timothy</td><td>Garcia</td><td>4</td><td>16683.84</td></tr>",
                            "<tr><td>1396</td><td>Timothy</td><td>Booker</td><td>5</td><td>16670.12</td></tr>",
                            "<tr><td>1245</td><td>Brandt</td><td>Delapena</td><td>5</td><td>16639.96</td></tr>",
                            "<tr><td>2030</td><td>Jonathon</td><td>Barrister</td><td>4</td><td>16635.84</td></tr>",
                            "<tr><td>888</td><td>Adam</td><td>Roberts</td><td>4</td><td>16549.97</td></tr>",
                            "<tr><td>2348</td><td>Noel</td><td>Smith-Warren</td><td>4</td><td>16477.98</td></tr>",
                            "<tr><td>2400</td><td>Samuel</td><td>Seiler</td><td>4</td><td>16407.50</td></tr>",
                            "<tr><td>1981</td><td>Summer</td><td>Dewey</td><td>4</td><td>16340.56</td></tr>",
                            "<tr><td>1440</td><td>Brandon</td><td>Shelton</td><td>6</td><td>16319.00</td></tr>",
                            "<tr><td>620</td><td>Brice</td><td>Rice</td><td>4</td><td>16302.48</td></tr>",
                            "<tr><td>252</td><td>Maggs</td><td>Sanchez</td><td>4</td><td>16259.72</td></tr>",
                            "<tr><td>496</td><td>Brice</td><td>Goode</td><td>4</td><td>16240.72</td></tr>",
                            "<tr><td>1871</td><td>Joshua</td><td>Ellis</td><td>5</td><td>16228.00</td></tr>",
                            "<tr><td>62</td><td>Mike</td><td>Deleon</td><td>4</td><td>16176.57</td></tr>",
                            "<tr><td>1199</td><td>Alister</td><td>Jones</td><td>4</td><td>16150.12</td></tr>",
                            "<tr><td>1141</td><td>Jonathon</td><td>Calahan</td><td>4</td><td>16107.76</td></tr>",
                            "<tr><td>1486</td><td>Nadine</td><td>Ramirez</td><td>4</td><td>16089.16</td></tr>",
                            "<tr><td>2171</td><td>Reginald</td><td>Conley</td><td>4</td><td>16046.96</td></tr>",
                            "<tr><td>1879</td><td>Corey</td><td>Gonzales</td><td>5</td><td>16022.95</td></tr>",
                            "<tr><td>1454</td><td>Albert</td><td>Monk</td><td>4</td><td>15996.00</td></tr>",
                            "<tr><td>1147</td><td>Brandon</td><td>Bangeson</td><td>4</td><td>15996.00</td></tr>",
                            "<tr><td>1000</td><td>Erin</td><td>Dawson</td><td>4</td><td>15984.25</td></tr>",
                            "<tr><td>1709</td><td>Blain</td><td>Moore</td><td>4</td><td>15984.24</td></tr>",
                            "<tr><td>65</td><td>Summer</td><td>Smith-Warren</td><td>5</td><td>15964.25</td></tr>",
                            "<tr><td>1418</td><td>Brian</td><td>Conley</td><td>5</td><td>15962.36</td></tr>",
                            "<tr><td>157</td><td>Summer</td><td>Manchester</td><td>7</td><td>15947.80</td></tr>",
                            "<tr><td>909</td><td>Kenadi</td><td>Shelton</td><td>4</td><td>15928.16</td></tr>",
                            "<tr><td>1590</td><td>Timothy</td><td>Saylor</td><td>5</td><td>15872.50</td></tr>",
                            "<tr><td>2562</td><td>Brandon</td><td>Gorman</td><td>4</td><td>15853.25</td></tr>",
                            "<tr><td>1212</td><td>Lee</td><td>Hart</td><td>4</td><td>15795.25</td></tr>",
                            "<tr><td>1275</td><td>Miguel</td><td>Dickerson</td><td>4</td><td>15761.40</td></tr>",
                            "<tr><td>1191</td><td>Miguel</td><td>Deleon</td><td>4</td><td>15736.58</td></tr>",
                            "<tr><td>42</td><td>Eric</td><td>MacBain</td><td>5</td><td>15698.98</td></tr>",
                            "<tr><td>774</td><td>Brandt</td><td>Rice</td><td>5</td><td>15688.00</td></tr>",
                            "<tr><td>1053</td><td>Harper</td><td>Conley</td><td>5</td><td>15586.31</td></tr>",
                            "<tr><td>885</td><td>Kristoff</td><td>Aaronson</td><td>4</td><td>15554.24</td></tr>",
                            "<tr><td>1309</td><td>Adam</td><td>Presten</td><td>4</td><td>15540.96</td></tr>",
                            "<tr><td>2255</td><td>George</td><td>Smith</td><td>4</td><td>15468.15</td></tr>",
                            "<tr><td>1400</td><td>Brian</td><td>Deleon</td><td>4</td><td>15395.29</td></tr>",
                            "<tr><td>1886</td><td>Brandon</td><td>Acosta</td><td>4</td><td>15319.00</td></tr>",
                            "<tr><td>313</td><td>Zachary</td><td>Brooks</td><td>4</td><td>15314.40</td></tr>",
                            "<tr><td>1496</td><td>Mike</td><td>Dawson</td><td>5</td><td>15264.00</td></tr>",
                            "<tr><td>2531</td><td>Miguel</td><td>Jamieson</td><td>4</td><td>15247.12</td></tr>",
                            "<tr><td>2327</td><td>Cooper</td><td>Seiler</td><td>4</td><td>15240.05</td></tr>",
                            "<tr><td>2561</td><td>Kristoff</td><td>Deleon</td><td>5</td><td>15196.00</td></tr>",
                            "<tr><td>107</td><td>Leah</td><td>Sanchez</td><td>4</td><td>15192.00</td></tr>",
                            "<tr><td>1982</td><td>Taylor</td><td>Booker</td><td>6</td><td>15073.70</td></tr>",
                            "<tr><td>2590</td><td>Piper</td><td>Garth</td><td>6</td><td>15053.80</td></tr>",
                            "<tr><td>110</td><td>Samuel</td><td>Moore</td><td>4</td><td>15045.60</td></tr>",
                            "<tr><td>2059</td><td>Adam</td><td>Smith</td><td>5</td><td>15045.00</td></tr>",
                            "<tr><td>1403</td><td>Chris</td><td>Bangeson</td><td>4</td><td>15041.50</td></tr>",
                            "<tr><td>2287</td><td>Thomas</td><td>Garcia</td><td>4</td><td>15040.79</td></tr>",
                            "<tr><td>877</td><td>Margo</td><td>Banks</td><td>6</td><td>15025.44</td></tr>",
                            "<tr><td>2386</td><td>Brian</td><td>Presley</td><td>4</td><td>15019.20</td></tr>",
                            "<tr><td>1444</td><td>Eric</td><td>Shelton</td><td>4</td><td>15019.20</td></tr>",
                            "<tr><td>2429</td><td>Aaron</td><td>Slain</td><td>4</td><td>15000.00</td></tr>",
                            "<tr><td>2445</td><td>Kenadi</td><td>Cooper</td><td>4</td><td>14981.75</td></tr>",
                            "<tr><td>444</td><td>Mike</td><td>Barrister</td><td>5</td><td>14961.64</td></tr>",
                            "<tr><td>785</td><td>Moritz</td><td>Seiler</td><td>4</td><td>14944.23</td></tr>",
                            "<tr><td>2525</td><td>Kristoff</td><td>Ridgley</td><td>4</td><td>14855.88</td></tr>",
                            "<tr><td>569</td><td>Cooper</td><td>Acosta</td><td>4</td><td>14823.09</td></tr>",
                            "<tr><td>1500</td><td>Adam</td><td>Tankersly</td><td>4</td><td>14823.06</td></tr>",
                            "<tr><td>1252</td><td>Adam</td><td>Smith-Warren</td><td>4</td><td>14706.00</td></tr>",
                            "<tr><td>241</td><td>Thomas</td><td>Banks</td><td>5</td><td>14695.96</td></tr>",
                            "<tr><td>386</td><td>Maggs</td><td>Calahan</td><td>4</td><td>14650.98</td></tr>",
                            "<tr><td>491</td><td>Maggs</td><td>Aaronson</td><td>4</td><td>14598.48</td></tr>",
                            "<tr><td>2466</td><td>Jonathon</td><td>Hart</td><td>4</td><td>14560.00</td></tr>",
                            "<tr><td>809</td><td>Lee</td><td>Thomason</td><td>4</td><td>14537.31</td></tr>",
                            "<tr><td>1427</td><td>Blain</td><td>Archibald</td><td>4</td><td>14522.68</td></tr>",
                            "<tr><td>1521</td><td>Farris</td><td>Banks</td><td>5</td><td>14400.00</td></tr>",
                            "<tr><td>2570</td><td>Zachary</td><td>Bangeson</td><td>4</td><td>14377.76</td></tr>",
                            "<tr><td>975</td><td>Jasmine</td><td>Archibald</td><td>4</td><td>14260.88</td></tr>",
                            "<tr><td>1488</td><td>Jack</td><td>Etzler</td><td>4</td><td>14258.28</td></tr>",
                            "<tr><td>415</td><td>Manuel</td><td>Johnasen</td><td>4</td><td>14255.50</td></tr>",
                            "<tr><td>1388</td><td>Timothy</td><td>Aaronson</td><td>4</td><td>14196.97</td></tr>",
                            "<tr><td>282</td><td>Corey</td><td>Roberts</td><td>4</td><td>14180.64</td></tr>",
                            "<tr><td>2381</td><td>Taylor</td><td>Smith</td><td>5</td><td>14167.76</td></tr>",
                            "<tr><td>1865</td><td>Brandt</td><td>Calahan</td><td>4</td><td>14120.79</td></tr>",
                            "<tr><td>1187</td><td>Noel</td><td>Gorman</td><td>4</td><td>14084.00</td></tr>",
                            "<tr><td>116</td><td>Brice</td><td>Jones</td><td>4</td><td>14055.57</td></tr>",
                            "<tr><td>1958</td><td>Brian</td><td>Conley</td><td>4</td><td>14054.82</td></tr>",
                            "<tr><td>1161</td><td>Brian</td><td>Booker</td><td>4</td><td>14000.00</td></tr>",
                            "<tr><td>2396</td><td>Blain</td><td>Monk</td><td>4</td><td>13955.82</td></tr>",
                            "<tr><td>2404</td><td>Summer</td><td>Reynolds</td><td>4</td><td>13816.66</td></tr>",
                            "<tr><td>84</td><td>Jonathon</td><td>Monk</td><td>4</td><td>13802.97</td></tr>",
                            "<tr><td>137</td><td>Farris</td><td>Connery</td><td>6</td><td>13762.40</td></tr>",
                            "<tr><td>1417</td><td>Corey</td><td>Dawson</td><td>4</td><td>13750.41</td></tr>",
                            "<tr><td>78</td><td>Harper</td><td>Acosta</td><td>5</td><td>13724.88</td></tr>",
                            "<tr><td>513</td><td>Eric</td><td>Sanchez</td><td>4</td><td>13718.80</td></tr>",
                            "<tr><td>949</td><td>Harper</td><td>Ramirez</td><td>4</td><td>13688.46</td></tr>",
                            "<tr><td>1514</td><td>Robert</td><td>Harper</td><td>6</td><td>13670.68</td></tr>",
                            "<tr><td>131</td><td>Summer</td><td>Rice</td><td>4</td><td>13622.37</td></tr>",
                            "<tr><td>817</td><td>Zachary</td><td>Smith</td><td>4</td><td>13608.56</td></tr>",
                            "<tr><td>2495</td><td>Blain</td><td>Tankersly</td><td>6</td><td>13607.79</td></tr>",
                            "<tr><td>347</td><td>Eric</td><td>Jackson</td><td>4</td><td>13585.00</td></tr>",
                            "<tr><td>128</td><td>Abigail</td><td>Cooper</td><td>4</td><td>13571.85</td></tr>",
                            "<tr><td>1930</td><td>George</td><td>Garth</td><td>4</td><td>13571.85</td></tr>",
                            "<tr><td>529</td><td>Margo</td><td>Moore</td><td>4</td><td>13567.00</td></tr>",
                            "<tr><td>1086</td><td>Taylor</td><td>Garcia</td><td>4</td><td>13557.40</td></tr>",
                            "<tr><td>1056</td><td>Leah</td><td>Gorman</td><td>5</td><td>13547.79</td></tr>",
                            "<tr><td>893</td><td>Nadine</td><td>Rowley</td><td>4</td><td>13546.68</td></tr>",
                            "<tr><td>2062</td><td>Manuel</td><td>French</td><td>5</td><td>13471.85</td></tr>",
                            "<tr><td>899</td><td>Taylor</td><td>Smith-Warren</td><td>4</td><td>13441.85</td></tr>",
                            "<tr><td>1915</td><td>Farris</td><td>Slain</td><td>4</td><td>13421.88</td></tr>",
                            "<tr><td>2492</td><td>Margo</td><td>Banks</td><td>4</td><td>13382.37</td></tr>",
                            "<tr><td>864</td><td>Adam</td><td>Shelton</td><td>5</td><td>13349.85</td></tr>",
                            "<tr><td>1811</td><td>Albert</td><td>Conley</td><td>4</td><td>13349.76</td></tr>",
                            "<tr><td>1054</td><td>Abigail</td><td>Smith-Warren</td><td>5</td><td>13302.88</td></tr>",
                            "<tr><td>930</td><td>Brian</td><td>Acosta</td><td>4</td><td>13228.58</td></tr>",
                            "<tr><td>4</td><td>Eric</td><td>Smith-Warren</td><td>6</td><td>13219.52</td></tr>",
                            "<tr><td>1748</td><td>Airn</td><td>Cooper</td><td>4</td><td>13167.97</td></tr>",
                            "<tr><td>438</td><td>Jasmine</td><td>Tompsen</td><td>4</td><td>13160.70</td></tr>",
                            "<tr><td>1177</td><td>Reginald</td><td>Conley</td><td>4</td><td>13153.88</td></tr>",
                            "<tr><td>998</td><td>Adam</td><td>Smith</td><td>4</td><td>13098.60</td></tr>",
                            "<tr><td>554</td><td>Kristoff</td><td>Monk</td><td>4</td><td>13042.82</td></tr>",
                            "<tr><td>1143</td><td>Taylor</td><td>Delacruz</td><td>4</td><td>13037.39</td></tr>",
                            "<tr><td>1012</td><td>Eric</td><td>Jones</td><td>4</td><td>12991.36</td></tr>",
                            "<tr><td>1133</td><td>Richard</td><td>Ramirez</td><td>5</td><td>12991.36</td></tr>",
                            "<tr><td>2321</td><td>Valerie</td><td>Conley</td><td>4</td><td>12958.00</td></tr>",
                            "<tr><td>2331</td><td>Kristoff</td><td>Connery</td><td>4</td><td>12915.88</td></tr>",
                            "<tr><td>22</td><td>Brian</td><td>Ridgley</td><td>4</td><td>12900.96</td></tr>",
                            "<tr><td>140</td><td>Tristan</td><td>Monk</td><td>5</td><td>12836.79</td></tr>",
                            "<tr><td>1772</td><td>Taylor</td><td>Sherman</td><td>4</td><td>12821.79</td></tr>",
                            "<tr><td>1439</td><td>Farris</td><td>Connery</td><td>4</td><td>12758.16</td></tr>",
                            "<tr><td>1711</td><td>Robert</td><td>Applewood</td><td>4</td><td>12718.82</td></tr>",
                            "<tr><td>2084</td><td>Noel</td><td>Conley</td><td>4</td><td>12693.97</td></tr>",
                            "<tr><td>8</td><td>Taylor</td><td>Jones</td><td>4</td><td>12686.82</td></tr>",
                            "<tr><td>2142</td><td>Jasmine</td><td>Jiminez</td><td>5</td><td>12676.44</td></tr>",
                            "<tr><td>2004</td><td>Aaron</td><td>Saylor</td><td>4</td><td>12627.82</td></tr>",
                            "<tr><td>82</td><td>Moritz</td><td>Archibald</td><td>4</td><td>12600.00</td></tr>",
                            "<tr><td>1717</td><td>Harper</td><td>Jones</td><td>4</td><td>12598.00</td></tr>",
                            "<tr><td>470</td><td>Piper</td><td>Ridgley</td><td>4</td><td>12597.00</td></tr>",
                            "<tr><td>1318</td><td>Robert</td><td>Banks</td><td>4</td><td>12520.34</td></tr>",
                            "<tr><td>2105</td><td>Alister</td><td>Tankersly</td><td>4</td><td>12479.97</td></tr>",
                            "<tr><td>210</td><td>Chris</td><td>Ellis</td><td>4</td><td>12476.88</td></tr>",
                            "<tr><td>2099</td><td>Jack</td><td>Ellis</td><td>4</td><td>12428.92</td></tr>",
                            "<tr><td>2578</td><td>George</td><td>Jackson</td><td>4</td><td>12344.82</td></tr>",
                            "<tr><td>1522</td><td>Abigail</td><td>Barrister</td><td>4</td><td>12274.29</td></tr>",
                            "<tr><td>905</td><td>Jack</td><td>Tompsen</td><td>4</td><td>12256.00</td></tr>",
                            "<tr><td>2042</td><td>Eric</td><td>French</td><td>4</td><td>12212.58</td></tr>",
                            "<tr><td>1169</td><td>Manuel</td><td>Ramirez</td><td>5</td><td>12202.36</td></tr>",
                            "<tr><td>1931</td><td>Summer</td><td>Cooper</td><td>5</td><td>12185.36</td></tr>",
                            "<tr><td>266</td><td>Eric</td><td>Goode</td><td>4</td><td>12114.12</td></tr>",
                            "<tr><td>1351</td><td>Mindy</td><td>Banks</td><td>4</td><td>12061.29</td></tr>",
                            "<tr><td>253</td><td>Mindy</td><td>Tompsen</td><td>6</td><td>12012.92</td></tr>",
                            "<tr><td>2151</td><td>Lee</td><td>Harper</td><td>4</td><td>12008.00</td></tr>",
                            "<tr><td>1246</td><td>Manuel</td><td>Sherman</td><td>4</td><td>12002.19</td></tr>",
                            "<tr><td>1031</td><td>Zachary</td><td>Harper</td><td>4</td><td>11981.19</td></tr>",
                            "<tr><td>1273</td><td>Reginald</td><td>Tankersly</td><td>5</td><td>11973.85</td></tr>",
                            "<tr><td>739</td><td>Joshua</td><td>Jones</td><td>5</td><td>11973.60</td></tr>",
                            "<tr><td>2504</td><td>Mike</td><td>Banks</td><td>4</td><td>11971.97</td></tr>",
                            "<tr><td>479</td><td>Alister</td><td>Jones</td><td>5</td><td>11971.01</td></tr>",
                            "<tr><td>515</td><td>Chris</td><td>Manchester</td><td>4</td><td>11970.00</td></tr>",
                            "<tr><td>1336</td><td>Summer</td><td>Aaronson</td><td>5</td><td>11961.97</td></tr>",
                            "<tr><td>397</td><td>Moritz</td><td>Conley</td><td>4</td><td>11894.00</td></tr>",
                            "<tr><td>1089</td><td>Jasmine</td><td>Calahan</td><td>4</td><td>11867.76</td></tr>",
                            "<tr><td>1682</td><td>Adam</td><td>Aaronson</td><td>4</td><td>11867.76</td></tr>",
                            "<tr><td>863</td><td>George</td><td>Garcia</td><td>4</td><td>11811.80</td></tr>",
                            "<tr><td>938</td><td>Cooper</td><td>Etzler</td><td>4</td><td>11798.00</td></tr>",
                            "<tr><td>1882</td><td>Adam</td><td>Sherman</td><td>4</td><td>11791.00</td></tr>",
                            "<tr><td>2033</td><td>Margo</td><td>Tankersly</td><td>5</td><td>11764.65</td></tr>",
                            "<tr><td>1208</td><td>Brandt</td><td>Jones</td><td>5</td><td>11709.70</td></tr>",
                            "<tr><td>1236</td><td>Miguel</td><td>Tankersly</td><td>4</td><td>11657.88</td></tr>",
                            "<tr><td>262</td><td>Sarah</td><td>Garcia</td><td>5</td><td>11599.75</td></tr>",
                            "<tr><td>2363</td><td>Kenadi</td><td>Slain</td><td>4</td><td>11481.00</td></tr>",
                            "<tr><td>1082</td><td>Brian</td><td>Stevens</td><td>4</td><td>11448.00</td></tr>",
                            "<tr><td>1859</td><td>Piper</td><td>Bangeson</td><td>4</td><td>11397.00</td></tr>",
                            "<tr><td>1297</td><td>Brian</td><td>Jones</td><td>4</td><td>11360.15</td></tr>",
                            "<tr><td>2239</td><td>Eric</td><td>Shelton</td><td>4</td><td>11264.38</td></tr>",
                            "<tr><td>2254</td><td>Mads</td><td>Moore</td><td>4</td><td>11196.00</td></tr>",
                            "<tr><td>2383</td><td>Zachary</td><td>Johnasen</td><td>4</td><td>11027.79</td></tr>",
                            "<tr><td>1743</td><td>Mindy</td><td>Rowley</td><td>4</td><td>11025.76</td></tr>",
                            "<tr><td>37</td><td>Timothy</td><td>Delacruz</td><td>4</td><td>10955.88</td></tr>",
                            "<tr><td>616</td><td>Brice</td><td>Jackson</td><td>4</td><td>10939.02</td></tr>",
                            "<tr><td>2259</td><td>Erin</td><td>French</td><td>4</td><td>10911.88</td></tr>",
                            "<tr><td>2015</td><td>Maggs</td><td>Dewey</td><td>4</td><td>10711.96</td></tr>",
                            "<tr><td>2499</td><td>Joshua</td><td>Cooper</td><td>4</td><td>10647.62</td></tr>",
                            "<tr><td>2468</td><td>Sarah</td><td>Aaronson</td><td>6</td><td>10583.00</td></tr>",
                            "<tr><td>2028</td><td>Jonathon</td><td>Deleon</td><td>4</td><td>10556.00</td></tr>",
                            "<tr><td>1250</td><td>Nadine</td><td>Willis</td><td>5</td><td>10432.45</td></tr>",
                            "<tr><td>1731</td><td>Corey</td><td>Harper</td><td>6</td><td>10385.42</td></tr>",
                            "<tr><td>309</td><td>Kenadi</td><td>Hart</td><td>5</td><td>10369.05</td></tr>",
                            "<tr><td>689</td><td>Erin</td><td>Jackson</td><td>4</td><td>10361.68</td></tr>",
                            "<tr><td>1604</td><td>Eric</td><td>Slain</td><td>5</td><td>10334.95</td></tr>",
                            "<tr><td>1036</td><td>Airn</td><td>Jackson</td><td>5</td><td>10325.22</td></tr>",
                            "<tr><td>1638</td><td>Alister</td><td>Jones</td><td>4</td><td>10301.16</td></tr>",
                            "<tr><td>693</td><td>Joshua</td><td>Harper</td><td>4</td><td>10289.10</td></tr>",
                            "<tr><td>824</td><td>Reginald</td><td>Williamson</td><td>4</td><td>10269.00</td></tr>",
                            "<tr><td>766</td><td>Carl</td><td>Calahan</td><td>5</td><td>10222.80</td></tr>",
                            "<tr><td>1761</td><td>Eric</td><td>Barrister</td><td>4</td><td>10100.50</td></tr>",
                            "<tr><td>1378</td><td>Chris</td><td>Peters</td><td>4</td><td>10009.68</td></tr>",
                            "<tr><td>799</td><td>Nadine</td><td>Bangeson</td><td>4</td><td>10003.90</td></tr>",
                            "<tr><td>2350</td><td>Timothy</td><td>Johnasen</td><td>4</td><td>10003.02</td></tr>",
                            "<tr><td>292</td><td>Abigail</td><td>Peters</td><td>5</td><td>9990.88</td></tr>",
                            "<tr><td>1503</td><td>Lee</td><td>Tompsen</td><td>4</td><td>9980.88</td></tr>",
                            "<tr><td>3</td><td>Mike</td><td>Roberts</td><td>4</td><td>9965.00</td></tr>",
                            "<tr><td>2178</td><td>Eric</td><td>Jackson</td><td>4</td><td>9960.24</td></tr>",
                            "<tr><td>679</td><td>Jasmine</td><td>Riochardson</td><td>4</td><td>9869.60</td></tr>",
                            "<tr><td>2586</td><td>Leah</td><td>Delacruz</td><td>4</td><td>9823.95</td></tr>",
                            "<tr><td>1700</td><td>Leah</td><td>Aaronson</td><td>6</td><td>9809.00</td></tr>",
                            "<tr><td>2048</td><td>Reginald</td><td>Tankersly</td><td>5</td><td>9749.95</td></tr>",
                            "<tr><td>1447</td><td>Timothy</td><td>Seiler</td><td>4</td><td>9656.00</td></tr>",
                            "<tr><td>1085</td><td>Reginald</td><td>Jamieson</td><td>4</td><td>9593.00</td></tr>",
                            "<tr><td>2120</td><td>Blain</td><td>Bangeson</td><td>4</td><td>9458.02</td></tr>",
                            "<tr><td>1754</td><td>Kristoff</td><td>Dawson</td><td>4</td><td>9439.62</td></tr>",
                            "<tr><td>169</td><td>Joshua</td><td>Cooper</td><td>4</td><td>9400.72</td></tr>",
                            "<tr><td>2313</td><td>Eric</td><td>Bangeson</td><td>5</td><td>9400.00</td></tr>",
                            "<tr><td>1189</td><td>Reginald</td><td>Cooper</td><td>5</td><td>9384.76</td></tr>",
                            "<tr><td>2116</td><td>Moritz</td><td>Riochardson</td><td>4</td><td>9301.76</td></tr>",
                            "<tr><td>1156</td><td>Eric</td><td>Brooks</td><td>4</td><td>9281.90</td></tr>",
                            "<tr><td>153</td><td>Alister</td><td>Riochardson</td><td>4</td><td>9242.90</td></tr>",
                            "<tr><td>552</td><td>Carl</td><td>Acosta</td><td>4</td><td>9235.44</td></tr>",
                            "<tr><td>982</td><td>Thomas</td><td>Gorman</td><td>4</td><td>9222.19</td></tr>",
                            "<tr><td>1165</td><td>Albert</td><td>Slain</td><td>4</td><td>9187.44</td></tr>",
                            "<tr><td>1890</td><td>Eric</td><td>Monk</td><td>4</td><td>9086.88</td></tr>",
                            "<tr><td>2020</td><td>Eric</td><td>Ridgley</td><td>4</td><td>9068.34</td></tr>",
                            "<tr><td>1657</td><td>Margo</td><td>Peters</td><td>5</td><td>8827.78</td></tr>",
                            "<tr><td>1928</td><td>Jasmine</td><td>Aaronson</td><td>4</td><td>8796.00</td></tr>",
                            "<tr><td>1690</td><td>Brian</td><td>Jones</td><td>4</td><td>8739.88</td></tr>",
                            "<tr><td>1150</td><td>Sarah</td><td>Deleon</td><td>5</td><td>8695.24</td></tr>",
                            "<tr><td>1092</td><td>Corey</td><td>Gonzales</td><td>4</td><td>8364.30</td></tr>",
                            "<tr><td>968</td><td>Margo</td><td>Rowley</td><td>4</td><td>8352.45</td></tr>",
                            "<tr><td>540</td><td>Leah</td><td>Thomason</td><td>4</td><td>8336.20</td></tr>",
                            "<tr><td>326</td><td>Taylor</td><td>Bangeson</td><td>4</td><td>8296.10</td></tr>",
                            "<tr><td>1876</td><td>Brandt</td><td>Aaronson</td><td>4</td><td>7936.52</td></tr>",
                            "<tr><td>1796</td><td>Leah</td><td>Shelton</td><td>5</td><td>7917.00</td></tr>",
                            "<tr><td>1986</td><td>Erin</td><td>Ellis</td><td>4</td><td>7901.92</td></tr>",
                            "<tr><td>336</td><td>Richard</td><td>Jamieson</td><td>4</td><td>7844.00</td></tr>",
                            "<tr><td>2038</td><td>Mads</td><td>Smith-Warren</td><td>4</td><td>7807.00</td></tr>",
                            "<tr><td>1941</td><td>Jasmine</td><td>Acosta</td><td>4</td><td>7799.96</td></tr>",
                            "<tr><td>2338</td><td>George</td><td>Barrister</td><td>5</td><td>7696.00</td></tr>",
                            "<tr><td>2580</td><td>Maggs</td><td>Ramirez</td><td>4</td><td>7478.00</td></tr>",
                            "<tr><td>1803</td><td>Nadine</td><td>Calahan</td><td>5</td><td>7459.22</td></tr>",
                            "<tr><td>385</td><td>Eric</td><td>Gorman</td><td>4</td><td>7414.50</td></tr>",
                            "<tr><td>725</td><td>George</td><td>Thomason</td><td>4</td><td>7403.92</td></tr>",
                            "<tr><td>1572</td><td>Reginald</td><td>Jiminez</td><td>4</td><td>7400.00</td></tr>",
                            "<tr><td>498</td><td>Joshua</td><td>Harper</td><td>4</td><td>7324.42</td></tr>",
                            "<tr><td>814</td><td>Brandon</td><td>Thomason</td><td>4</td><td>7292.22</td></tr>",
                            "<tr><td>1776</td><td>Mike</td><td>Presten</td><td>4</td><td>6959.85</td></tr>",
                            "<tr><td>2193</td><td>Cooper</td><td>Smith</td><td>4</td><td>6856.68</td></tr>",
                            "<tr><td>2324</td><td>Mike</td><td>Jackson</td><td>4</td><td>6852.00</td></tr>",
                            "<tr><td>525</td><td>Miguel</td><td>Jones</td><td>4</td><td>6408.75</td></tr>",
                            "<tr><td>24</td><td>Erin</td><td>Smith</td><td>4</td><td>6396.51</td></tr>",
                            "<tr><td>1737</td><td>Mindy</td><td>Presten</td><td>6</td><td>6323.25</td></tr>",
                            "<tr><td>811</td><td>Sarah</td><td>Gorman</td><td>4</td><td>6221.43</td></tr>",
                            "<tr><td>458</td><td>Mads</td><td>Williamson</td><td>6</td><td>6202.00</td></tr>",
                            "<tr><td>349</td><td>Blain</td><td>Roberts</td><td>5</td><td>5952.39</td></tr>",
                            "<tr><td>29</td><td>Farris</td><td>Saylor</td><td>4</td><td>5706.20</td></tr>",
                            "<tr><td>2571</td><td>Brian</td><td>Bangeson</td><td>4</td><td>4518.00</td></tr>",
                            "<tr><td>285</td><td>Brice</td><td>Peters</td><td>4</td><td>3922.00</td></tr>",
                            "</table>"
                        ]
                    }
                }
            ],
            "execution_count": 3
        },
        {
            "cell_type": "markdown",
            "source": [
                "The results flagged over 600 customers with high return counts and refund values exceeding $500. For example:\n",
                "\n",
                "- <span style=\"color: var(--vscode-foreground);\">Harper Robinson had 7 returns totaling over $51,000.</span>\n",
                "- Erin Manning and Tristan Bangeson had similar patterns\n",
                "\n",
                "<span style=\"color: var(--vscode-foreground);\">Such behavior could indicate abuse of the return policy, resulting in potential financial loss and operational inefficiency. This insight supports implementing stricter return controls and monitoring, especially important during and after the acquisition.</span>"
            ],
            "metadata": {
                "language": "sql",
                "azdata_cell_guid": "a63340ba-5e0d-4b94-b4e7-21e65f4f8c70"
            },
            "attachments": {}
        },
        {
            "cell_type": "markdown",
            "source": [
                "### **3\\. Warehouse Capacity to Meet Future Demand**\n",
                "\n",
                "I explored warehouse performance and logistical readiness to determine if OPC must scale operations to accommodate Ord Cycles. The number of orders shipped per month offers insight into fulfillment volume:"
            ],
            "metadata": {
                "azdata_cell_guid": "0ac2c7a5-4a22-435b-ac24-0fd010cadce5"
            },
            "attachments": {}
        },
        {
            "cell_type": "code",
            "source": [
                "-- Summarizes number of orders shipped per month for logistics trend analysis.\r\n",
                "SELECT DATE_TRUNC('month', ord_ship_date) AS month,\r\n",
                "       COUNT(ord_id) AS orders_shipped\r\n",
                "FROM dsci_504.orders\r\n",
                "WHERE ord_ship_date IS NOT NULL\r\n",
                "GROUP BY month\r\n",
                "ORDER BY month;"
            ],
            "metadata": {
                "azdata_cell_guid": "65799769-5638-413a-9591-a9c396ca69ae",
                "language": "python"
            },
            "outputs": [
                {
                    "output_type": "display_data",
                    "data": {
                        "text/html": "(313 row(s) affected)"
                    },
                    "metadata": {}
                },
                {
                    "output_type": "display_data",
                    "data": {
                        "text/html": "Total execution time: 00:00:00.061"
                    },
                    "metadata": {}
                },
                {
                    "output_type": "execute_result",
                    "metadata": {},
                    "execution_count": 4,
                    "data": {
                        "application/vnd.dataresource+json": {
                            "schema": {
                                "fields": [
                                    {
                                        "name": "month"
                                    },
                                    {
                                        "name": "orders_shipped"
                                    }
                                ]
                            },
                            "data": [
                                {
                                    "month": "2000-01-01 00:00:00-06",
                                    "orders_shipped": "9"
                                },
                                {
                                    "month": "2000-02-01 00:00:00-06",
                                    "orders_shipped": "8"
                                },
                                {
                                    "month": "2000-03-01 00:00:00-06",
                                    "orders_shipped": "14"
                                },
                                {
                                    "month": "2000-04-01 00:00:00-06",
                                    "orders_shipped": "12"
                                },
                                {
                                    "month": "2000-05-01 00:00:00-05",
                                    "orders_shipped": "13"
                                },
                                {
                                    "month": "2000-06-01 00:00:00-05",
                                    "orders_shipped": "16"
                                },
                                {
                                    "month": "2000-07-01 00:00:00-05",
                                    "orders_shipped": "19"
                                },
                                {
                                    "month": "2000-08-01 00:00:00-05",
                                    "orders_shipped": "14"
                                },
                                {
                                    "month": "2000-09-01 00:00:00-05",
                                    "orders_shipped": "13"
                                },
                                {
                                    "month": "2000-10-01 00:00:00-05",
                                    "orders_shipped": "14"
                                },
                                {
                                    "month": "2000-11-01 00:00:00-06",
                                    "orders_shipped": "11"
                                },
                                {
                                    "month": "2000-12-01 00:00:00-06",
                                    "orders_shipped": "6"
                                },
                                {
                                    "month": "2001-01-01 00:00:00-06",
                                    "orders_shipped": "7"
                                },
                                {
                                    "month": "2001-02-01 00:00:00-06",
                                    "orders_shipped": "7"
                                },
                                {
                                    "month": "2001-03-01 00:00:00-06",
                                    "orders_shipped": "17"
                                },
                                {
                                    "month": "2001-04-01 00:00:00-06",
                                    "orders_shipped": "13"
                                },
                                {
                                    "month": "2001-05-01 00:00:00-05",
                                    "orders_shipped": "14"
                                },
                                {
                                    "month": "2001-06-01 00:00:00-05",
                                    "orders_shipped": "14"
                                },
                                {
                                    "month": "2001-07-01 00:00:00-05",
                                    "orders_shipped": "11"
                                },
                                {
                                    "month": "2001-08-01 00:00:00-05",
                                    "orders_shipped": "12"
                                },
                                {
                                    "month": "2001-09-01 00:00:00-05",
                                    "orders_shipped": "8"
                                },
                                {
                                    "month": "2001-10-01 00:00:00-05",
                                    "orders_shipped": "13"
                                },
                                {
                                    "month": "2001-11-01 00:00:00-06",
                                    "orders_shipped": "12"
                                },
                                {
                                    "month": "2001-12-01 00:00:00-06",
                                    "orders_shipped": "9"
                                },
                                {
                                    "month": "2002-01-01 00:00:00-06",
                                    "orders_shipped": "7"
                                },
                                {
                                    "month": "2002-02-01 00:00:00-06",
                                    "orders_shipped": "10"
                                },
                                {
                                    "month": "2002-03-01 00:00:00-06",
                                    "orders_shipped": "12"
                                },
                                {
                                    "month": "2002-04-01 00:00:00-06",
                                    "orders_shipped": "9"
                                },
                                {
                                    "month": "2002-05-01 00:00:00-05",
                                    "orders_shipped": "10"
                                },
                                {
                                    "month": "2002-06-01 00:00:00-05",
                                    "orders_shipped": "6"
                                },
                                {
                                    "month": "2002-07-01 00:00:00-05",
                                    "orders_shipped": "9"
                                },
                                {
                                    "month": "2002-08-01 00:00:00-05",
                                    "orders_shipped": "12"
                                },
                                {
                                    "month": "2002-09-01 00:00:00-05",
                                    "orders_shipped": "9"
                                },
                                {
                                    "month": "2002-10-01 00:00:00-05",
                                    "orders_shipped": "12"
                                },
                                {
                                    "month": "2002-11-01 00:00:00-06",
                                    "orders_shipped": "17"
                                },
                                {
                                    "month": "2002-12-01 00:00:00-06",
                                    "orders_shipped": "11"
                                },
                                {
                                    "month": "2003-01-01 00:00:00-06",
                                    "orders_shipped": "10"
                                },
                                {
                                    "month": "2003-02-01 00:00:00-06",
                                    "orders_shipped": "6"
                                },
                                {
                                    "month": "2003-03-01 00:00:00-06",
                                    "orders_shipped": "14"
                                },
                                {
                                    "month": "2003-04-01 00:00:00-06",
                                    "orders_shipped": "9"
                                },
                                {
                                    "month": "2003-05-01 00:00:00-05",
                                    "orders_shipped": "8"
                                },
                                {
                                    "month": "2003-06-01 00:00:00-05",
                                    "orders_shipped": "16"
                                },
                                {
                                    "month": "2003-07-01 00:00:00-05",
                                    "orders_shipped": "7"
                                },
                                {
                                    "month": "2003-08-01 00:00:00-05",
                                    "orders_shipped": "10"
                                },
                                {
                                    "month": "2003-09-01 00:00:00-05",
                                    "orders_shipped": "5"
                                },
                                {
                                    "month": "2003-10-01 00:00:00-05",
                                    "orders_shipped": "9"
                                },
                                {
                                    "month": "2003-11-01 00:00:00-06",
                                    "orders_shipped": "6"
                                },
                                {
                                    "month": "2003-12-01 00:00:00-06",
                                    "orders_shipped": "11"
                                },
                                {
                                    "month": "2004-01-01 00:00:00-06",
                                    "orders_shipped": "8"
                                },
                                {
                                    "month": "2004-02-01 00:00:00-06",
                                    "orders_shipped": "7"
                                },
                                {
                                    "month": "2004-03-01 00:00:00-06",
                                    "orders_shipped": "10"
                                },
                                {
                                    "month": "2004-04-01 00:00:00-06",
                                    "orders_shipped": "9"
                                },
                                {
                                    "month": "2004-05-01 00:00:00-05",
                                    "orders_shipped": "11"
                                },
                                {
                                    "month": "2004-06-01 00:00:00-05",
                                    "orders_shipped": "10"
                                },
                                {
                                    "month": "2004-07-01 00:00:00-05",
                                    "orders_shipped": "15"
                                },
                                {
                                    "month": "2004-08-01 00:00:00-05",
                                    "orders_shipped": "5"
                                },
                                {
                                    "month": "2004-09-01 00:00:00-05",
                                    "orders_shipped": "9"
                                },
                                {
                                    "month": "2004-10-01 00:00:00-05",
                                    "orders_shipped": "8"
                                },
                                {
                                    "month": "2004-11-01 00:00:00-06",
                                    "orders_shipped": "12"
                                },
                                {
                                    "month": "2004-12-01 00:00:00-06",
                                    "orders_shipped": "15"
                                },
                                {
                                    "month": "2005-01-01 00:00:00-06",
                                    "orders_shipped": "12"
                                },
                                {
                                    "month": "2005-02-01 00:00:00-06",
                                    "orders_shipped": "7"
                                },
                                {
                                    "month": "2005-03-01 00:00:00-06",
                                    "orders_shipped": "9"
                                },
                                {
                                    "month": "2005-04-01 00:00:00-06",
                                    "orders_shipped": "13"
                                },
                                {
                                    "month": "2005-05-01 00:00:00-05",
                                    "orders_shipped": "10"
                                },
                                {
                                    "month": "2005-06-01 00:00:00-05",
                                    "orders_shipped": "3"
                                },
                                {
                                    "month": "2005-07-01 00:00:00-05",
                                    "orders_shipped": "17"
                                },
                                {
                                    "month": "2005-08-01 00:00:00-05",
                                    "orders_shipped": "11"
                                },
                                {
                                    "month": "2005-09-01 00:00:00-05",
                                    "orders_shipped": "11"
                                },
                                {
                                    "month": "2005-10-01 00:00:00-05",
                                    "orders_shipped": "11"
                                },
                                {
                                    "month": "2005-11-01 00:00:00-06",
                                    "orders_shipped": "17"
                                },
                                {
                                    "month": "2005-12-01 00:00:00-06",
                                    "orders_shipped": "8"
                                },
                                {
                                    "month": "2006-01-01 00:00:00-06",
                                    "orders_shipped": "12"
                                },
                                {
                                    "month": "2006-02-01 00:00:00-06",
                                    "orders_shipped": "13"
                                },
                                {
                                    "month": "2006-03-01 00:00:00-06",
                                    "orders_shipped": "12"
                                },
                                {
                                    "month": "2006-04-01 00:00:00-06",
                                    "orders_shipped": "9"
                                },
                                {
                                    "month": "2006-05-01 00:00:00-05",
                                    "orders_shipped": "9"
                                },
                                {
                                    "month": "2006-06-01 00:00:00-05",
                                    "orders_shipped": "14"
                                },
                                {
                                    "month": "2006-07-01 00:00:00-05",
                                    "orders_shipped": "18"
                                },
                                {
                                    "month": "2006-08-01 00:00:00-05",
                                    "orders_shipped": "17"
                                },
                                {
                                    "month": "2006-09-01 00:00:00-05",
                                    "orders_shipped": "14"
                                },
                                {
                                    "month": "2006-10-01 00:00:00-05",
                                    "orders_shipped": "18"
                                },
                                {
                                    "month": "2006-11-01 00:00:00-06",
                                    "orders_shipped": "12"
                                },
                                {
                                    "month": "2006-12-01 00:00:00-06",
                                    "orders_shipped": "8"
                                },
                                {
                                    "month": "2007-01-01 00:00:00-06",
                                    "orders_shipped": "8"
                                },
                                {
                                    "month": "2007-02-01 00:00:00-06",
                                    "orders_shipped": "10"
                                },
                                {
                                    "month": "2007-03-01 00:00:00-06",
                                    "orders_shipped": "7"
                                },
                                {
                                    "month": "2007-04-01 00:00:00-05",
                                    "orders_shipped": "12"
                                },
                                {
                                    "month": "2007-05-01 00:00:00-05",
                                    "orders_shipped": "8"
                                },
                                {
                                    "month": "2007-06-01 00:00:00-05",
                                    "orders_shipped": "14"
                                },
                                {
                                    "month": "2007-07-01 00:00:00-05",
                                    "orders_shipped": "8"
                                },
                                {
                                    "month": "2007-08-01 00:00:00-05",
                                    "orders_shipped": "7"
                                },
                                {
                                    "month": "2007-09-01 00:00:00-05",
                                    "orders_shipped": "5"
                                },
                                {
                                    "month": "2007-10-01 00:00:00-05",
                                    "orders_shipped": "13"
                                },
                                {
                                    "month": "2007-11-01 00:00:00-05",
                                    "orders_shipped": "16"
                                },
                                {
                                    "month": "2007-12-01 00:00:00-06",
                                    "orders_shipped": "17"
                                },
                                {
                                    "month": "2008-01-01 00:00:00-06",
                                    "orders_shipped": "13"
                                },
                                {
                                    "month": "2008-02-01 00:00:00-06",
                                    "orders_shipped": "6"
                                },
                                {
                                    "month": "2008-03-01 00:00:00-06",
                                    "orders_shipped": "12"
                                },
                                {
                                    "month": "2008-04-01 00:00:00-05",
                                    "orders_shipped": "10"
                                },
                                {
                                    "month": "2008-05-01 00:00:00-05",
                                    "orders_shipped": "8"
                                },
                                {
                                    "month": "2008-06-01 00:00:00-05",
                                    "orders_shipped": "8"
                                },
                                {
                                    "month": "2008-07-01 00:00:00-05",
                                    "orders_shipped": "16"
                                },
                                {
                                    "month": "2008-08-01 00:00:00-05",
                                    "orders_shipped": "10"
                                },
                                {
                                    "month": "2008-09-01 00:00:00-05",
                                    "orders_shipped": "12"
                                },
                                {
                                    "month": "2008-10-01 00:00:00-05",
                                    "orders_shipped": "7"
                                },
                                {
                                    "month": "2008-11-01 00:00:00-05",
                                    "orders_shipped": "12"
                                },
                                {
                                    "month": "2008-12-01 00:00:00-06",
                                    "orders_shipped": "6"
                                },
                                {
                                    "month": "2009-01-01 00:00:00-06",
                                    "orders_shipped": "11"
                                },
                                {
                                    "month": "2009-02-01 00:00:00-06",
                                    "orders_shipped": "7"
                                },
                                {
                                    "month": "2009-03-01 00:00:00-06",
                                    "orders_shipped": "12"
                                },
                                {
                                    "month": "2009-04-01 00:00:00-05",
                                    "orders_shipped": "11"
                                },
                                {
                                    "month": "2009-05-01 00:00:00-05",
                                    "orders_shipped": "14"
                                },
                                {
                                    "month": "2009-06-01 00:00:00-05",
                                    "orders_shipped": "14"
                                },
                                {
                                    "month": "2009-07-01 00:00:00-05",
                                    "orders_shipped": "3"
                                },
                                {
                                    "month": "2009-08-01 00:00:00-05",
                                    "orders_shipped": "15"
                                },
                                {
                                    "month": "2009-09-01 00:00:00-05",
                                    "orders_shipped": "9"
                                },
                                {
                                    "month": "2009-10-01 00:00:00-05",
                                    "orders_shipped": "14"
                                },
                                {
                                    "month": "2009-11-01 00:00:00-05",
                                    "orders_shipped": "8"
                                },
                                {
                                    "month": "2009-12-01 00:00:00-06",
                                    "orders_shipped": "12"
                                },
                                {
                                    "month": "2010-01-01 00:00:00-06",
                                    "orders_shipped": "13"
                                },
                                {
                                    "month": "2010-02-01 00:00:00-06",
                                    "orders_shipped": "6"
                                },
                                {
                                    "month": "2010-03-01 00:00:00-06",
                                    "orders_shipped": "11"
                                },
                                {
                                    "month": "2010-04-01 00:00:00-05",
                                    "orders_shipped": "11"
                                },
                                {
                                    "month": "2010-05-01 00:00:00-05",
                                    "orders_shipped": "6"
                                },
                                {
                                    "month": "2010-06-01 00:00:00-05",
                                    "orders_shipped": "11"
                                },
                                {
                                    "month": "2010-07-01 00:00:00-05",
                                    "orders_shipped": "13"
                                },
                                {
                                    "month": "2010-08-01 00:00:00-05",
                                    "orders_shipped": "9"
                                },
                                {
                                    "month": "2010-09-01 00:00:00-05",
                                    "orders_shipped": "15"
                                },
                                {
                                    "month": "2010-10-01 00:00:00-05",
                                    "orders_shipped": "17"
                                },
                                {
                                    "month": "2010-11-01 00:00:00-05",
                                    "orders_shipped": "8"
                                },
                                {
                                    "month": "2010-12-01 00:00:00-06",
                                    "orders_shipped": "16"
                                },
                                {
                                    "month": "2011-01-01 00:00:00-06",
                                    "orders_shipped": "15"
                                },
                                {
                                    "month": "2011-02-01 00:00:00-06",
                                    "orders_shipped": "9"
                                },
                                {
                                    "month": "2011-03-01 00:00:00-06",
                                    "orders_shipped": "9"
                                },
                                {
                                    "month": "2011-04-01 00:00:00-05",
                                    "orders_shipped": "11"
                                },
                                {
                                    "month": "2011-05-01 00:00:00-05",
                                    "orders_shipped": "15"
                                },
                                {
                                    "month": "2011-06-01 00:00:00-05",
                                    "orders_shipped": "11"
                                },
                                {
                                    "month": "2011-07-01 00:00:00-05",
                                    "orders_shipped": "9"
                                },
                                {
                                    "month": "2011-08-01 00:00:00-05",
                                    "orders_shipped": "10"
                                },
                                {
                                    "month": "2011-09-01 00:00:00-05",
                                    "orders_shipped": "9"
                                },
                                {
                                    "month": "2011-10-01 00:00:00-05",
                                    "orders_shipped": "10"
                                },
                                {
                                    "month": "2011-11-01 00:00:00-05",
                                    "orders_shipped": "8"
                                },
                                {
                                    "month": "2011-12-01 00:00:00-06",
                                    "orders_shipped": "16"
                                },
                                {
                                    "month": "2012-01-01 00:00:00-06",
                                    "orders_shipped": "9"
                                },
                                {
                                    "month": "2012-02-01 00:00:00-06",
                                    "orders_shipped": "11"
                                },
                                {
                                    "month": "2012-03-01 00:00:00-06",
                                    "orders_shipped": "12"
                                },
                                {
                                    "month": "2012-04-01 00:00:00-05",
                                    "orders_shipped": "13"
                                },
                                {
                                    "month": "2012-05-01 00:00:00-05",
                                    "orders_shipped": "10"
                                },
                                {
                                    "month": "2012-06-01 00:00:00-05",
                                    "orders_shipped": "9"
                                },
                                {
                                    "month": "2012-07-01 00:00:00-05",
                                    "orders_shipped": "6"
                                },
                                {
                                    "month": "2012-08-01 00:00:00-05",
                                    "orders_shipped": "8"
                                },
                                {
                                    "month": "2012-09-01 00:00:00-05",
                                    "orders_shipped": "9"
                                },
                                {
                                    "month": "2012-10-01 00:00:00-05",
                                    "orders_shipped": "13"
                                },
                                {
                                    "month": "2012-11-01 00:00:00-05",
                                    "orders_shipped": "18"
                                },
                                {
                                    "month": "2012-12-01 00:00:00-06",
                                    "orders_shipped": "8"
                                },
                                {
                                    "month": "2013-01-01 00:00:00-06",
                                    "orders_shipped": "11"
                                },
                                {
                                    "month": "2013-02-01 00:00:00-06",
                                    "orders_shipped": "8"
                                },
                                {
                                    "month": "2013-03-01 00:00:00-06",
                                    "orders_shipped": "18"
                                },
                                {
                                    "month": "2013-04-01 00:00:00-05",
                                    "orders_shipped": "8"
                                },
                                {
                                    "month": "2013-05-01 00:00:00-05",
                                    "orders_shipped": "14"
                                },
                                {
                                    "month": "2013-06-01 00:00:00-05",
                                    "orders_shipped": "8"
                                },
                                {
                                    "month": "2013-07-01 00:00:00-05",
                                    "orders_shipped": "11"
                                },
                                {
                                    "month": "2013-08-01 00:00:00-05",
                                    "orders_shipped": "18"
                                },
                                {
                                    "month": "2013-09-01 00:00:00-05",
                                    "orders_shipped": "11"
                                },
                                {
                                    "month": "2013-10-01 00:00:00-05",
                                    "orders_shipped": "10"
                                },
                                {
                                    "month": "2013-11-01 00:00:00-05",
                                    "orders_shipped": "10"
                                },
                                {
                                    "month": "2013-12-01 00:00:00-06",
                                    "orders_shipped": "6"
                                },
                                {
                                    "month": "2014-01-01 00:00:00-06",
                                    "orders_shipped": "7"
                                },
                                {
                                    "month": "2014-02-01 00:00:00-06",
                                    "orders_shipped": "12"
                                },
                                {
                                    "month": "2014-03-01 00:00:00-06",
                                    "orders_shipped": "13"
                                },
                                {
                                    "month": "2014-04-01 00:00:00-05",
                                    "orders_shipped": "5"
                                },
                                {
                                    "month": "2014-05-01 00:00:00-05",
                                    "orders_shipped": "7"
                                },
                                {
                                    "month": "2014-06-01 00:00:00-05",
                                    "orders_shipped": "12"
                                },
                                {
                                    "month": "2014-07-01 00:00:00-05",
                                    "orders_shipped": "14"
                                },
                                {
                                    "month": "2014-08-01 00:00:00-05",
                                    "orders_shipped": "6"
                                },
                                {
                                    "month": "2014-09-01 00:00:00-05",
                                    "orders_shipped": "11"
                                },
                                {
                                    "month": "2014-10-01 00:00:00-05",
                                    "orders_shipped": "6"
                                },
                                {
                                    "month": "2014-11-01 00:00:00-05",
                                    "orders_shipped": "9"
                                },
                                {
                                    "month": "2014-12-01 00:00:00-06",
                                    "orders_shipped": "10"
                                },
                                {
                                    "month": "2015-01-01 00:00:00-06",
                                    "orders_shipped": "11"
                                },
                                {
                                    "month": "2015-02-01 00:00:00-06",
                                    "orders_shipped": "10"
                                },
                                {
                                    "month": "2015-03-01 00:00:00-06",
                                    "orders_shipped": "16"
                                },
                                {
                                    "month": "2015-04-01 00:00:00-05",
                                    "orders_shipped": "21"
                                },
                                {
                                    "month": "2015-05-01 00:00:00-05",
                                    "orders_shipped": "11"
                                },
                                {
                                    "month": "2015-06-01 00:00:00-05",
                                    "orders_shipped": "8"
                                },
                                {
                                    "month": "2015-07-01 00:00:00-05",
                                    "orders_shipped": "9"
                                },
                                {
                                    "month": "2015-08-01 00:00:00-05",
                                    "orders_shipped": "10"
                                },
                                {
                                    "month": "2015-09-01 00:00:00-05",
                                    "orders_shipped": "7"
                                },
                                {
                                    "month": "2015-10-01 00:00:00-05",
                                    "orders_shipped": "16"
                                },
                                {
                                    "month": "2015-11-01 00:00:00-05",
                                    "orders_shipped": "7"
                                },
                                {
                                    "month": "2015-12-01 00:00:00-06",
                                    "orders_shipped": "8"
                                },
                                {
                                    "month": "2016-01-01 00:00:00-06",
                                    "orders_shipped": "13"
                                },
                                {
                                    "month": "2016-02-01 00:00:00-06",
                                    "orders_shipped": "9"
                                },
                                {
                                    "month": "2016-03-01 00:00:00-06",
                                    "orders_shipped": "12"
                                },
                                {
                                    "month": "2016-04-01 00:00:00-05",
                                    "orders_shipped": "11"
                                },
                                {
                                    "month": "2016-05-01 00:00:00-05",
                                    "orders_shipped": "15"
                                },
                                {
                                    "month": "2016-06-01 00:00:00-05",
                                    "orders_shipped": "11"
                                },
                                {
                                    "month": "2016-07-01 00:00:00-05",
                                    "orders_shipped": "17"
                                },
                                {
                                    "month": "2016-08-01 00:00:00-05",
                                    "orders_shipped": "6"
                                },
                                {
                                    "month": "2016-09-01 00:00:00-05",
                                    "orders_shipped": "8"
                                },
                                {
                                    "month": "2016-10-01 00:00:00-05",
                                    "orders_shipped": "15"
                                },
                                {
                                    "month": "2016-11-01 00:00:00-05",
                                    "orders_shipped": "9"
                                },
                                {
                                    "month": "2016-12-01 00:00:00-06",
                                    "orders_shipped": "9"
                                },
                                {
                                    "month": "2017-01-01 00:00:00-06",
                                    "orders_shipped": "74"
                                },
                                {
                                    "month": "2017-02-01 00:00:00-06",
                                    "orders_shipped": "91"
                                },
                                {
                                    "month": "2017-03-01 00:00:00-06",
                                    "orders_shipped": "85"
                                },
                                {
                                    "month": "2017-04-01 00:00:00-05",
                                    "orders_shipped": "89"
                                },
                                {
                                    "month": "2017-05-01 00:00:00-05",
                                    "orders_shipped": "87"
                                },
                                {
                                    "month": "2017-06-01 00:00:00-05",
                                    "orders_shipped": "101"
                                },
                                {
                                    "month": "2017-07-01 00:00:00-05",
                                    "orders_shipped": "102"
                                },
                                {
                                    "month": "2017-08-01 00:00:00-05",
                                    "orders_shipped": "100"
                                },
                                {
                                    "month": "2017-09-01 00:00:00-05",
                                    "orders_shipped": "104"
                                },
                                {
                                    "month": "2017-10-01 00:00:00-05",
                                    "orders_shipped": "104"
                                },
                                {
                                    "month": "2017-11-01 00:00:00-05",
                                    "orders_shipped": "100"
                                },
                                {
                                    "month": "2017-12-01 00:00:00-06",
                                    "orders_shipped": "92"
                                },
                                {
                                    "month": "2018-01-01 00:00:00-06",
                                    "orders_shipped": "91"
                                },
                                {
                                    "month": "2018-02-01 00:00:00-06",
                                    "orders_shipped": "90"
                                },
                                {
                                    "month": "2018-03-01 00:00:00-06",
                                    "orders_shipped": "92"
                                },
                                {
                                    "month": "2018-04-01 00:00:00-05",
                                    "orders_shipped": "102"
                                },
                                {
                                    "month": "2018-05-01 00:00:00-05",
                                    "orders_shipped": "106"
                                },
                                {
                                    "month": "2018-06-01 00:00:00-05",
                                    "orders_shipped": "90"
                                },
                                {
                                    "month": "2018-07-01 00:00:00-05",
                                    "orders_shipped": "85"
                                },
                                {
                                    "month": "2018-08-01 00:00:00-05",
                                    "orders_shipped": "84"
                                },
                                {
                                    "month": "2018-09-01 00:00:00-05",
                                    "orders_shipped": "106"
                                },
                                {
                                    "month": "2018-10-01 00:00:00-05",
                                    "orders_shipped": "90"
                                },
                                {
                                    "month": "2018-11-01 00:00:00-05",
                                    "orders_shipped": "87"
                                },
                                {
                                    "month": "2018-12-01 00:00:00-06",
                                    "orders_shipped": "89"
                                },
                                {
                                    "month": "2019-01-01 00:00:00-06",
                                    "orders_shipped": "102"
                                },
                                {
                                    "month": "2019-02-01 00:00:00-06",
                                    "orders_shipped": "90"
                                },
                                {
                                    "month": "2019-03-01 00:00:00-06",
                                    "orders_shipped": "88"
                                },
                                {
                                    "month": "2019-04-01 00:00:00-05",
                                    "orders_shipped": "82"
                                },
                                {
                                    "month": "2019-05-01 00:00:00-05",
                                    "orders_shipped": "102"
                                },
                                {
                                    "month": "2019-06-01 00:00:00-05",
                                    "orders_shipped": "95"
                                },
                                {
                                    "month": "2019-07-01 00:00:00-05",
                                    "orders_shipped": "93"
                                },
                                {
                                    "month": "2019-08-01 00:00:00-05",
                                    "orders_shipped": "92"
                                },
                                {
                                    "month": "2019-09-01 00:00:00-05",
                                    "orders_shipped": "87"
                                },
                                {
                                    "month": "2019-10-01 00:00:00-05",
                                    "orders_shipped": "109"
                                },
                                {
                                    "month": "2019-11-01 00:00:00-05",
                                    "orders_shipped": "91"
                                },
                                {
                                    "month": "2019-12-01 00:00:00-06",
                                    "orders_shipped": "96"
                                },
                                {
                                    "month": "2020-01-01 00:00:00-06",
                                    "orders_shipped": "170"
                                },
                                {
                                    "month": "2020-02-01 00:00:00-06",
                                    "orders_shipped": "188"
                                },
                                {
                                    "month": "2020-03-01 00:00:00-06",
                                    "orders_shipped": "224"
                                },
                                {
                                    "month": "2020-04-01 00:00:00-05",
                                    "orders_shipped": "197"
                                },
                                {
                                    "month": "2020-05-01 00:00:00-05",
                                    "orders_shipped": "202"
                                },
                                {
                                    "month": "2020-06-01 00:00:00-05",
                                    "orders_shipped": "228"
                                },
                                {
                                    "month": "2020-07-01 00:00:00-05",
                                    "orders_shipped": "215"
                                },
                                {
                                    "month": "2020-08-01 00:00:00-05",
                                    "orders_shipped": "215"
                                },
                                {
                                    "month": "2020-09-01 00:00:00-05",
                                    "orders_shipped": "198"
                                },
                                {
                                    "month": "2020-10-01 00:00:00-05",
                                    "orders_shipped": "204"
                                },
                                {
                                    "month": "2020-11-01 00:00:00-05",
                                    "orders_shipped": "223"
                                },
                                {
                                    "month": "2020-12-01 00:00:00-06",
                                    "orders_shipped": "204"
                                },
                                {
                                    "month": "2021-01-01 00:00:00-06",
                                    "orders_shipped": "98"
                                },
                                {
                                    "month": "2021-02-01 00:00:00-06",
                                    "orders_shipped": "52"
                                },
                                {
                                    "month": "2021-03-01 00:00:00-06",
                                    "orders_shipped": "59"
                                },
                                {
                                    "month": "2021-04-01 00:00:00-05",
                                    "orders_shipped": "52"
                                },
                                {
                                    "month": "2021-05-01 00:00:00-05",
                                    "orders_shipped": "58"
                                },
                                {
                                    "month": "2021-06-01 00:00:00-05",
                                    "orders_shipped": "54"
                                },
                                {
                                    "month": "2021-07-01 00:00:00-05",
                                    "orders_shipped": "59"
                                },
                                {
                                    "month": "2021-08-01 00:00:00-05",
                                    "orders_shipped": "66"
                                },
                                {
                                    "month": "2021-09-01 00:00:00-05",
                                    "orders_shipped": "54"
                                },
                                {
                                    "month": "2021-10-01 00:00:00-05",
                                    "orders_shipped": "62"
                                },
                                {
                                    "month": "2021-11-01 00:00:00-05",
                                    "orders_shipped": "58"
                                },
                                {
                                    "month": "2021-12-01 00:00:00-06",
                                    "orders_shipped": "60"
                                },
                                {
                                    "month": "2022-01-01 00:00:00-06",
                                    "orders_shipped": "76"
                                },
                                {
                                    "month": "2022-02-01 00:00:00-06",
                                    "orders_shipped": "63"
                                },
                                {
                                    "month": "2022-03-01 00:00:00-06",
                                    "orders_shipped": "86"
                                },
                                {
                                    "month": "2022-04-01 00:00:00-05",
                                    "orders_shipped": "78"
                                },
                                {
                                    "month": "2022-05-01 00:00:00-05",
                                    "orders_shipped": "82"
                                },
                                {
                                    "month": "2022-06-01 00:00:00-05",
                                    "orders_shipped": "79"
                                },
                                {
                                    "month": "2022-07-01 00:00:00-05",
                                    "orders_shipped": "91"
                                },
                                {
                                    "month": "2022-08-01 00:00:00-05",
                                    "orders_shipped": "88"
                                },
                                {
                                    "month": "2022-09-01 00:00:00-05",
                                    "orders_shipped": "95"
                                },
                                {
                                    "month": "2022-10-01 00:00:00-05",
                                    "orders_shipped": "61"
                                },
                                {
                                    "month": "2022-11-01 00:00:00-05",
                                    "orders_shipped": "100"
                                },
                                {
                                    "month": "2022-12-01 00:00:00-06",
                                    "orders_shipped": "74"
                                },
                                {
                                    "month": "2023-01-01 00:00:00-06",
                                    "orders_shipped": "79"
                                },
                                {
                                    "month": "2023-02-01 00:00:00-06",
                                    "orders_shipped": "73"
                                },
                                {
                                    "month": "2023-03-01 00:00:00-06",
                                    "orders_shipped": "81"
                                },
                                {
                                    "month": "2023-04-01 00:00:00-05",
                                    "orders_shipped": "77"
                                },
                                {
                                    "month": "2023-05-01 00:00:00-05",
                                    "orders_shipped": "80"
                                },
                                {
                                    "month": "2023-06-01 00:00:00-05",
                                    "orders_shipped": "72"
                                },
                                {
                                    "month": "2023-07-01 00:00:00-05",
                                    "orders_shipped": "76"
                                },
                                {
                                    "month": "2023-08-01 00:00:00-05",
                                    "orders_shipped": "80"
                                },
                                {
                                    "month": "2023-09-01 00:00:00-05",
                                    "orders_shipped": "79"
                                },
                                {
                                    "month": "2023-10-01 00:00:00-05",
                                    "orders_shipped": "67"
                                },
                                {
                                    "month": "2023-11-01 00:00:00-05",
                                    "orders_shipped": "64"
                                },
                                {
                                    "month": "2023-12-01 00:00:00-06",
                                    "orders_shipped": "79"
                                },
                                {
                                    "month": "2024-01-01 00:00:00-06",
                                    "orders_shipped": "110"
                                },
                                {
                                    "month": "2024-02-01 00:00:00-06",
                                    "orders_shipped": "74"
                                },
                                {
                                    "month": "2024-03-01 00:00:00-06",
                                    "orders_shipped": "96"
                                },
                                {
                                    "month": "2024-04-01 00:00:00-05",
                                    "orders_shipped": "76"
                                },
                                {
                                    "month": "2024-05-01 00:00:00-05",
                                    "orders_shipped": "74"
                                },
                                {
                                    "month": "2024-06-01 00:00:00-05",
                                    "orders_shipped": "70"
                                },
                                {
                                    "month": "2024-07-01 00:00:00-05",
                                    "orders_shipped": "76"
                                },
                                {
                                    "month": "2024-08-01 00:00:00-05",
                                    "orders_shipped": "84"
                                },
                                {
                                    "month": "2024-09-01 00:00:00-05",
                                    "orders_shipped": "88"
                                },
                                {
                                    "month": "2024-10-01 00:00:00-05",
                                    "orders_shipped": "80"
                                },
                                {
                                    "month": "2024-11-01 00:00:00-05",
                                    "orders_shipped": "73"
                                },
                                {
                                    "month": "2024-12-01 00:00:00-06",
                                    "orders_shipped": "85"
                                },
                                {
                                    "month": "2025-01-01 00:00:00-06",
                                    "orders_shipped": "69"
                                },
                                {
                                    "month": "2025-02-01 00:00:00-06",
                                    "orders_shipped": "75"
                                },
                                {
                                    "month": "2025-03-01 00:00:00-06",
                                    "orders_shipped": "60"
                                },
                                {
                                    "month": "2025-04-01 00:00:00-05",
                                    "orders_shipped": "80"
                                },
                                {
                                    "month": "2025-05-01 00:00:00-05",
                                    "orders_shipped": "98"
                                },
                                {
                                    "month": "2025-06-01 00:00:00-05",
                                    "orders_shipped": "90"
                                },
                                {
                                    "month": "2025-07-01 00:00:00-05",
                                    "orders_shipped": "85"
                                },
                                {
                                    "month": "2025-08-01 00:00:00-05",
                                    "orders_shipped": "81"
                                },
                                {
                                    "month": "2025-09-01 00:00:00-05",
                                    "orders_shipped": "80"
                                },
                                {
                                    "month": "2025-10-01 00:00:00-05",
                                    "orders_shipped": "81"
                                },
                                {
                                    "month": "2025-11-01 00:00:00-05",
                                    "orders_shipped": "71"
                                },
                                {
                                    "month": "2025-12-01 00:00:00-06",
                                    "orders_shipped": "75"
                                },
                                {
                                    "month": "2026-01-01 00:00:00-06",
                                    "orders_shipped": "12"
                                }
                            ]
                        },
                        "text/html": [
                            "<table>",
                            "<tr><th>month</th><th>orders_shipped</th></tr>",
                            "<tr><td>2000-01-01 00:00:00-06</td><td>9</td></tr>",
                            "<tr><td>2000-02-01 00:00:00-06</td><td>8</td></tr>",
                            "<tr><td>2000-03-01 00:00:00-06</td><td>14</td></tr>",
                            "<tr><td>2000-04-01 00:00:00-06</td><td>12</td></tr>",
                            "<tr><td>2000-05-01 00:00:00-05</td><td>13</td></tr>",
                            "<tr><td>2000-06-01 00:00:00-05</td><td>16</td></tr>",
                            "<tr><td>2000-07-01 00:00:00-05</td><td>19</td></tr>",
                            "<tr><td>2000-08-01 00:00:00-05</td><td>14</td></tr>",
                            "<tr><td>2000-09-01 00:00:00-05</td><td>13</td></tr>",
                            "<tr><td>2000-10-01 00:00:00-05</td><td>14</td></tr>",
                            "<tr><td>2000-11-01 00:00:00-06</td><td>11</td></tr>",
                            "<tr><td>2000-12-01 00:00:00-06</td><td>6</td></tr>",
                            "<tr><td>2001-01-01 00:00:00-06</td><td>7</td></tr>",
                            "<tr><td>2001-02-01 00:00:00-06</td><td>7</td></tr>",
                            "<tr><td>2001-03-01 00:00:00-06</td><td>17</td></tr>",
                            "<tr><td>2001-04-01 00:00:00-06</td><td>13</td></tr>",
                            "<tr><td>2001-05-01 00:00:00-05</td><td>14</td></tr>",
                            "<tr><td>2001-06-01 00:00:00-05</td><td>14</td></tr>",
                            "<tr><td>2001-07-01 00:00:00-05</td><td>11</td></tr>",
                            "<tr><td>2001-08-01 00:00:00-05</td><td>12</td></tr>",
                            "<tr><td>2001-09-01 00:00:00-05</td><td>8</td></tr>",
                            "<tr><td>2001-10-01 00:00:00-05</td><td>13</td></tr>",
                            "<tr><td>2001-11-01 00:00:00-06</td><td>12</td></tr>",
                            "<tr><td>2001-12-01 00:00:00-06</td><td>9</td></tr>",
                            "<tr><td>2002-01-01 00:00:00-06</td><td>7</td></tr>",
                            "<tr><td>2002-02-01 00:00:00-06</td><td>10</td></tr>",
                            "<tr><td>2002-03-01 00:00:00-06</td><td>12</td></tr>",
                            "<tr><td>2002-04-01 00:00:00-06</td><td>9</td></tr>",
                            "<tr><td>2002-05-01 00:00:00-05</td><td>10</td></tr>",
                            "<tr><td>2002-06-01 00:00:00-05</td><td>6</td></tr>",
                            "<tr><td>2002-07-01 00:00:00-05</td><td>9</td></tr>",
                            "<tr><td>2002-08-01 00:00:00-05</td><td>12</td></tr>",
                            "<tr><td>2002-09-01 00:00:00-05</td><td>9</td></tr>",
                            "<tr><td>2002-10-01 00:00:00-05</td><td>12</td></tr>",
                            "<tr><td>2002-11-01 00:00:00-06</td><td>17</td></tr>",
                            "<tr><td>2002-12-01 00:00:00-06</td><td>11</td></tr>",
                            "<tr><td>2003-01-01 00:00:00-06</td><td>10</td></tr>",
                            "<tr><td>2003-02-01 00:00:00-06</td><td>6</td></tr>",
                            "<tr><td>2003-03-01 00:00:00-06</td><td>14</td></tr>",
                            "<tr><td>2003-04-01 00:00:00-06</td><td>9</td></tr>",
                            "<tr><td>2003-05-01 00:00:00-05</td><td>8</td></tr>",
                            "<tr><td>2003-06-01 00:00:00-05</td><td>16</td></tr>",
                            "<tr><td>2003-07-01 00:00:00-05</td><td>7</td></tr>",
                            "<tr><td>2003-08-01 00:00:00-05</td><td>10</td></tr>",
                            "<tr><td>2003-09-01 00:00:00-05</td><td>5</td></tr>",
                            "<tr><td>2003-10-01 00:00:00-05</td><td>9</td></tr>",
                            "<tr><td>2003-11-01 00:00:00-06</td><td>6</td></tr>",
                            "<tr><td>2003-12-01 00:00:00-06</td><td>11</td></tr>",
                            "<tr><td>2004-01-01 00:00:00-06</td><td>8</td></tr>",
                            "<tr><td>2004-02-01 00:00:00-06</td><td>7</td></tr>",
                            "<tr><td>2004-03-01 00:00:00-06</td><td>10</td></tr>",
                            "<tr><td>2004-04-01 00:00:00-06</td><td>9</td></tr>",
                            "<tr><td>2004-05-01 00:00:00-05</td><td>11</td></tr>",
                            "<tr><td>2004-06-01 00:00:00-05</td><td>10</td></tr>",
                            "<tr><td>2004-07-01 00:00:00-05</td><td>15</td></tr>",
                            "<tr><td>2004-08-01 00:00:00-05</td><td>5</td></tr>",
                            "<tr><td>2004-09-01 00:00:00-05</td><td>9</td></tr>",
                            "<tr><td>2004-10-01 00:00:00-05</td><td>8</td></tr>",
                            "<tr><td>2004-11-01 00:00:00-06</td><td>12</td></tr>",
                            "<tr><td>2004-12-01 00:00:00-06</td><td>15</td></tr>",
                            "<tr><td>2005-01-01 00:00:00-06</td><td>12</td></tr>",
                            "<tr><td>2005-02-01 00:00:00-06</td><td>7</td></tr>",
                            "<tr><td>2005-03-01 00:00:00-06</td><td>9</td></tr>",
                            "<tr><td>2005-04-01 00:00:00-06</td><td>13</td></tr>",
                            "<tr><td>2005-05-01 00:00:00-05</td><td>10</td></tr>",
                            "<tr><td>2005-06-01 00:00:00-05</td><td>3</td></tr>",
                            "<tr><td>2005-07-01 00:00:00-05</td><td>17</td></tr>",
                            "<tr><td>2005-08-01 00:00:00-05</td><td>11</td></tr>",
                            "<tr><td>2005-09-01 00:00:00-05</td><td>11</td></tr>",
                            "<tr><td>2005-10-01 00:00:00-05</td><td>11</td></tr>",
                            "<tr><td>2005-11-01 00:00:00-06</td><td>17</td></tr>",
                            "<tr><td>2005-12-01 00:00:00-06</td><td>8</td></tr>",
                            "<tr><td>2006-01-01 00:00:00-06</td><td>12</td></tr>",
                            "<tr><td>2006-02-01 00:00:00-06</td><td>13</td></tr>",
                            "<tr><td>2006-03-01 00:00:00-06</td><td>12</td></tr>",
                            "<tr><td>2006-04-01 00:00:00-06</td><td>9</td></tr>",
                            "<tr><td>2006-05-01 00:00:00-05</td><td>9</td></tr>",
                            "<tr><td>2006-06-01 00:00:00-05</td><td>14</td></tr>",
                            "<tr><td>2006-07-01 00:00:00-05</td><td>18</td></tr>",
                            "<tr><td>2006-08-01 00:00:00-05</td><td>17</td></tr>",
                            "<tr><td>2006-09-01 00:00:00-05</td><td>14</td></tr>",
                            "<tr><td>2006-10-01 00:00:00-05</td><td>18</td></tr>",
                            "<tr><td>2006-11-01 00:00:00-06</td><td>12</td></tr>",
                            "<tr><td>2006-12-01 00:00:00-06</td><td>8</td></tr>",
                            "<tr><td>2007-01-01 00:00:00-06</td><td>8</td></tr>",
                            "<tr><td>2007-02-01 00:00:00-06</td><td>10</td></tr>",
                            "<tr><td>2007-03-01 00:00:00-06</td><td>7</td></tr>",
                            "<tr><td>2007-04-01 00:00:00-05</td><td>12</td></tr>",
                            "<tr><td>2007-05-01 00:00:00-05</td><td>8</td></tr>",
                            "<tr><td>2007-06-01 00:00:00-05</td><td>14</td></tr>",
                            "<tr><td>2007-07-01 00:00:00-05</td><td>8</td></tr>",
                            "<tr><td>2007-08-01 00:00:00-05</td><td>7</td></tr>",
                            "<tr><td>2007-09-01 00:00:00-05</td><td>5</td></tr>",
                            "<tr><td>2007-10-01 00:00:00-05</td><td>13</td></tr>",
                            "<tr><td>2007-11-01 00:00:00-05</td><td>16</td></tr>",
                            "<tr><td>2007-12-01 00:00:00-06</td><td>17</td></tr>",
                            "<tr><td>2008-01-01 00:00:00-06</td><td>13</td></tr>",
                            "<tr><td>2008-02-01 00:00:00-06</td><td>6</td></tr>",
                            "<tr><td>2008-03-01 00:00:00-06</td><td>12</td></tr>",
                            "<tr><td>2008-04-01 00:00:00-05</td><td>10</td></tr>",
                            "<tr><td>2008-05-01 00:00:00-05</td><td>8</td></tr>",
                            "<tr><td>2008-06-01 00:00:00-05</td><td>8</td></tr>",
                            "<tr><td>2008-07-01 00:00:00-05</td><td>16</td></tr>",
                            "<tr><td>2008-08-01 00:00:00-05</td><td>10</td></tr>",
                            "<tr><td>2008-09-01 00:00:00-05</td><td>12</td></tr>",
                            "<tr><td>2008-10-01 00:00:00-05</td><td>7</td></tr>",
                            "<tr><td>2008-11-01 00:00:00-05</td><td>12</td></tr>",
                            "<tr><td>2008-12-01 00:00:00-06</td><td>6</td></tr>",
                            "<tr><td>2009-01-01 00:00:00-06</td><td>11</td></tr>",
                            "<tr><td>2009-02-01 00:00:00-06</td><td>7</td></tr>",
                            "<tr><td>2009-03-01 00:00:00-06</td><td>12</td></tr>",
                            "<tr><td>2009-04-01 00:00:00-05</td><td>11</td></tr>",
                            "<tr><td>2009-05-01 00:00:00-05</td><td>14</td></tr>",
                            "<tr><td>2009-06-01 00:00:00-05</td><td>14</td></tr>",
                            "<tr><td>2009-07-01 00:00:00-05</td><td>3</td></tr>",
                            "<tr><td>2009-08-01 00:00:00-05</td><td>15</td></tr>",
                            "<tr><td>2009-09-01 00:00:00-05</td><td>9</td></tr>",
                            "<tr><td>2009-10-01 00:00:00-05</td><td>14</td></tr>",
                            "<tr><td>2009-11-01 00:00:00-05</td><td>8</td></tr>",
                            "<tr><td>2009-12-01 00:00:00-06</td><td>12</td></tr>",
                            "<tr><td>2010-01-01 00:00:00-06</td><td>13</td></tr>",
                            "<tr><td>2010-02-01 00:00:00-06</td><td>6</td></tr>",
                            "<tr><td>2010-03-01 00:00:00-06</td><td>11</td></tr>",
                            "<tr><td>2010-04-01 00:00:00-05</td><td>11</td></tr>",
                            "<tr><td>2010-05-01 00:00:00-05</td><td>6</td></tr>",
                            "<tr><td>2010-06-01 00:00:00-05</td><td>11</td></tr>",
                            "<tr><td>2010-07-01 00:00:00-05</td><td>13</td></tr>",
                            "<tr><td>2010-08-01 00:00:00-05</td><td>9</td></tr>",
                            "<tr><td>2010-09-01 00:00:00-05</td><td>15</td></tr>",
                            "<tr><td>2010-10-01 00:00:00-05</td><td>17</td></tr>",
                            "<tr><td>2010-11-01 00:00:00-05</td><td>8</td></tr>",
                            "<tr><td>2010-12-01 00:00:00-06</td><td>16</td></tr>",
                            "<tr><td>2011-01-01 00:00:00-06</td><td>15</td></tr>",
                            "<tr><td>2011-02-01 00:00:00-06</td><td>9</td></tr>",
                            "<tr><td>2011-03-01 00:00:00-06</td><td>9</td></tr>",
                            "<tr><td>2011-04-01 00:00:00-05</td><td>11</td></tr>",
                            "<tr><td>2011-05-01 00:00:00-05</td><td>15</td></tr>",
                            "<tr><td>2011-06-01 00:00:00-05</td><td>11</td></tr>",
                            "<tr><td>2011-07-01 00:00:00-05</td><td>9</td></tr>",
                            "<tr><td>2011-08-01 00:00:00-05</td><td>10</td></tr>",
                            "<tr><td>2011-09-01 00:00:00-05</td><td>9</td></tr>",
                            "<tr><td>2011-10-01 00:00:00-05</td><td>10</td></tr>",
                            "<tr><td>2011-11-01 00:00:00-05</td><td>8</td></tr>",
                            "<tr><td>2011-12-01 00:00:00-06</td><td>16</td></tr>",
                            "<tr><td>2012-01-01 00:00:00-06</td><td>9</td></tr>",
                            "<tr><td>2012-02-01 00:00:00-06</td><td>11</td></tr>",
                            "<tr><td>2012-03-01 00:00:00-06</td><td>12</td></tr>",
                            "<tr><td>2012-04-01 00:00:00-05</td><td>13</td></tr>",
                            "<tr><td>2012-05-01 00:00:00-05</td><td>10</td></tr>",
                            "<tr><td>2012-06-01 00:00:00-05</td><td>9</td></tr>",
                            "<tr><td>2012-07-01 00:00:00-05</td><td>6</td></tr>",
                            "<tr><td>2012-08-01 00:00:00-05</td><td>8</td></tr>",
                            "<tr><td>2012-09-01 00:00:00-05</td><td>9</td></tr>",
                            "<tr><td>2012-10-01 00:00:00-05</td><td>13</td></tr>",
                            "<tr><td>2012-11-01 00:00:00-05</td><td>18</td></tr>",
                            "<tr><td>2012-12-01 00:00:00-06</td><td>8</td></tr>",
                            "<tr><td>2013-01-01 00:00:00-06</td><td>11</td></tr>",
                            "<tr><td>2013-02-01 00:00:00-06</td><td>8</td></tr>",
                            "<tr><td>2013-03-01 00:00:00-06</td><td>18</td></tr>",
                            "<tr><td>2013-04-01 00:00:00-05</td><td>8</td></tr>",
                            "<tr><td>2013-05-01 00:00:00-05</td><td>14</td></tr>",
                            "<tr><td>2013-06-01 00:00:00-05</td><td>8</td></tr>",
                            "<tr><td>2013-07-01 00:00:00-05</td><td>11</td></tr>",
                            "<tr><td>2013-08-01 00:00:00-05</td><td>18</td></tr>",
                            "<tr><td>2013-09-01 00:00:00-05</td><td>11</td></tr>",
                            "<tr><td>2013-10-01 00:00:00-05</td><td>10</td></tr>",
                            "<tr><td>2013-11-01 00:00:00-05</td><td>10</td></tr>",
                            "<tr><td>2013-12-01 00:00:00-06</td><td>6</td></tr>",
                            "<tr><td>2014-01-01 00:00:00-06</td><td>7</td></tr>",
                            "<tr><td>2014-02-01 00:00:00-06</td><td>12</td></tr>",
                            "<tr><td>2014-03-01 00:00:00-06</td><td>13</td></tr>",
                            "<tr><td>2014-04-01 00:00:00-05</td><td>5</td></tr>",
                            "<tr><td>2014-05-01 00:00:00-05</td><td>7</td></tr>",
                            "<tr><td>2014-06-01 00:00:00-05</td><td>12</td></tr>",
                            "<tr><td>2014-07-01 00:00:00-05</td><td>14</td></tr>",
                            "<tr><td>2014-08-01 00:00:00-05</td><td>6</td></tr>",
                            "<tr><td>2014-09-01 00:00:00-05</td><td>11</td></tr>",
                            "<tr><td>2014-10-01 00:00:00-05</td><td>6</td></tr>",
                            "<tr><td>2014-11-01 00:00:00-05</td><td>9</td></tr>",
                            "<tr><td>2014-12-01 00:00:00-06</td><td>10</td></tr>",
                            "<tr><td>2015-01-01 00:00:00-06</td><td>11</td></tr>",
                            "<tr><td>2015-02-01 00:00:00-06</td><td>10</td></tr>",
                            "<tr><td>2015-03-01 00:00:00-06</td><td>16</td></tr>",
                            "<tr><td>2015-04-01 00:00:00-05</td><td>21</td></tr>",
                            "<tr><td>2015-05-01 00:00:00-05</td><td>11</td></tr>",
                            "<tr><td>2015-06-01 00:00:00-05</td><td>8</td></tr>",
                            "<tr><td>2015-07-01 00:00:00-05</td><td>9</td></tr>",
                            "<tr><td>2015-08-01 00:00:00-05</td><td>10</td></tr>",
                            "<tr><td>2015-09-01 00:00:00-05</td><td>7</td></tr>",
                            "<tr><td>2015-10-01 00:00:00-05</td><td>16</td></tr>",
                            "<tr><td>2015-11-01 00:00:00-05</td><td>7</td></tr>",
                            "<tr><td>2015-12-01 00:00:00-06</td><td>8</td></tr>",
                            "<tr><td>2016-01-01 00:00:00-06</td><td>13</td></tr>",
                            "<tr><td>2016-02-01 00:00:00-06</td><td>9</td></tr>",
                            "<tr><td>2016-03-01 00:00:00-06</td><td>12</td></tr>",
                            "<tr><td>2016-04-01 00:00:00-05</td><td>11</td></tr>",
                            "<tr><td>2016-05-01 00:00:00-05</td><td>15</td></tr>",
                            "<tr><td>2016-06-01 00:00:00-05</td><td>11</td></tr>",
                            "<tr><td>2016-07-01 00:00:00-05</td><td>17</td></tr>",
                            "<tr><td>2016-08-01 00:00:00-05</td><td>6</td></tr>",
                            "<tr><td>2016-09-01 00:00:00-05</td><td>8</td></tr>",
                            "<tr><td>2016-10-01 00:00:00-05</td><td>15</td></tr>",
                            "<tr><td>2016-11-01 00:00:00-05</td><td>9</td></tr>",
                            "<tr><td>2016-12-01 00:00:00-06</td><td>9</td></tr>",
                            "<tr><td>2017-01-01 00:00:00-06</td><td>74</td></tr>",
                            "<tr><td>2017-02-01 00:00:00-06</td><td>91</td></tr>",
                            "<tr><td>2017-03-01 00:00:00-06</td><td>85</td></tr>",
                            "<tr><td>2017-04-01 00:00:00-05</td><td>89</td></tr>",
                            "<tr><td>2017-05-01 00:00:00-05</td><td>87</td></tr>",
                            "<tr><td>2017-06-01 00:00:00-05</td><td>101</td></tr>",
                            "<tr><td>2017-07-01 00:00:00-05</td><td>102</td></tr>",
                            "<tr><td>2017-08-01 00:00:00-05</td><td>100</td></tr>",
                            "<tr><td>2017-09-01 00:00:00-05</td><td>104</td></tr>",
                            "<tr><td>2017-10-01 00:00:00-05</td><td>104</td></tr>",
                            "<tr><td>2017-11-01 00:00:00-05</td><td>100</td></tr>",
                            "<tr><td>2017-12-01 00:00:00-06</td><td>92</td></tr>",
                            "<tr><td>2018-01-01 00:00:00-06</td><td>91</td></tr>",
                            "<tr><td>2018-02-01 00:00:00-06</td><td>90</td></tr>",
                            "<tr><td>2018-03-01 00:00:00-06</td><td>92</td></tr>",
                            "<tr><td>2018-04-01 00:00:00-05</td><td>102</td></tr>",
                            "<tr><td>2018-05-01 00:00:00-05</td><td>106</td></tr>",
                            "<tr><td>2018-06-01 00:00:00-05</td><td>90</td></tr>",
                            "<tr><td>2018-07-01 00:00:00-05</td><td>85</td></tr>",
                            "<tr><td>2018-08-01 00:00:00-05</td><td>84</td></tr>",
                            "<tr><td>2018-09-01 00:00:00-05</td><td>106</td></tr>",
                            "<tr><td>2018-10-01 00:00:00-05</td><td>90</td></tr>",
                            "<tr><td>2018-11-01 00:00:00-05</td><td>87</td></tr>",
                            "<tr><td>2018-12-01 00:00:00-06</td><td>89</td></tr>",
                            "<tr><td>2019-01-01 00:00:00-06</td><td>102</td></tr>",
                            "<tr><td>2019-02-01 00:00:00-06</td><td>90</td></tr>",
                            "<tr><td>2019-03-01 00:00:00-06</td><td>88</td></tr>",
                            "<tr><td>2019-04-01 00:00:00-05</td><td>82</td></tr>",
                            "<tr><td>2019-05-01 00:00:00-05</td><td>102</td></tr>",
                            "<tr><td>2019-06-01 00:00:00-05</td><td>95</td></tr>",
                            "<tr><td>2019-07-01 00:00:00-05</td><td>93</td></tr>",
                            "<tr><td>2019-08-01 00:00:00-05</td><td>92</td></tr>",
                            "<tr><td>2019-09-01 00:00:00-05</td><td>87</td></tr>",
                            "<tr><td>2019-10-01 00:00:00-05</td><td>109</td></tr>",
                            "<tr><td>2019-11-01 00:00:00-05</td><td>91</td></tr>",
                            "<tr><td>2019-12-01 00:00:00-06</td><td>96</td></tr>",
                            "<tr><td>2020-01-01 00:00:00-06</td><td>170</td></tr>",
                            "<tr><td>2020-02-01 00:00:00-06</td><td>188</td></tr>",
                            "<tr><td>2020-03-01 00:00:00-06</td><td>224</td></tr>",
                            "<tr><td>2020-04-01 00:00:00-05</td><td>197</td></tr>",
                            "<tr><td>2020-05-01 00:00:00-05</td><td>202</td></tr>",
                            "<tr><td>2020-06-01 00:00:00-05</td><td>228</td></tr>",
                            "<tr><td>2020-07-01 00:00:00-05</td><td>215</td></tr>",
                            "<tr><td>2020-08-01 00:00:00-05</td><td>215</td></tr>",
                            "<tr><td>2020-09-01 00:00:00-05</td><td>198</td></tr>",
                            "<tr><td>2020-10-01 00:00:00-05</td><td>204</td></tr>",
                            "<tr><td>2020-11-01 00:00:00-05</td><td>223</td></tr>",
                            "<tr><td>2020-12-01 00:00:00-06</td><td>204</td></tr>",
                            "<tr><td>2021-01-01 00:00:00-06</td><td>98</td></tr>",
                            "<tr><td>2021-02-01 00:00:00-06</td><td>52</td></tr>",
                            "<tr><td>2021-03-01 00:00:00-06</td><td>59</td></tr>",
                            "<tr><td>2021-04-01 00:00:00-05</td><td>52</td></tr>",
                            "<tr><td>2021-05-01 00:00:00-05</td><td>58</td></tr>",
                            "<tr><td>2021-06-01 00:00:00-05</td><td>54</td></tr>",
                            "<tr><td>2021-07-01 00:00:00-05</td><td>59</td></tr>",
                            "<tr><td>2021-08-01 00:00:00-05</td><td>66</td></tr>",
                            "<tr><td>2021-09-01 00:00:00-05</td><td>54</td></tr>",
                            "<tr><td>2021-10-01 00:00:00-05</td><td>62</td></tr>",
                            "<tr><td>2021-11-01 00:00:00-05</td><td>58</td></tr>",
                            "<tr><td>2021-12-01 00:00:00-06</td><td>60</td></tr>",
                            "<tr><td>2022-01-01 00:00:00-06</td><td>76</td></tr>",
                            "<tr><td>2022-02-01 00:00:00-06</td><td>63</td></tr>",
                            "<tr><td>2022-03-01 00:00:00-06</td><td>86</td></tr>",
                            "<tr><td>2022-04-01 00:00:00-05</td><td>78</td></tr>",
                            "<tr><td>2022-05-01 00:00:00-05</td><td>82</td></tr>",
                            "<tr><td>2022-06-01 00:00:00-05</td><td>79</td></tr>",
                            "<tr><td>2022-07-01 00:00:00-05</td><td>91</td></tr>",
                            "<tr><td>2022-08-01 00:00:00-05</td><td>88</td></tr>",
                            "<tr><td>2022-09-01 00:00:00-05</td><td>95</td></tr>",
                            "<tr><td>2022-10-01 00:00:00-05</td><td>61</td></tr>",
                            "<tr><td>2022-11-01 00:00:00-05</td><td>100</td></tr>",
                            "<tr><td>2022-12-01 00:00:00-06</td><td>74</td></tr>",
                            "<tr><td>2023-01-01 00:00:00-06</td><td>79</td></tr>",
                            "<tr><td>2023-02-01 00:00:00-06</td><td>73</td></tr>",
                            "<tr><td>2023-03-01 00:00:00-06</td><td>81</td></tr>",
                            "<tr><td>2023-04-01 00:00:00-05</td><td>77</td></tr>",
                            "<tr><td>2023-05-01 00:00:00-05</td><td>80</td></tr>",
                            "<tr><td>2023-06-01 00:00:00-05</td><td>72</td></tr>",
                            "<tr><td>2023-07-01 00:00:00-05</td><td>76</td></tr>",
                            "<tr><td>2023-08-01 00:00:00-05</td><td>80</td></tr>",
                            "<tr><td>2023-09-01 00:00:00-05</td><td>79</td></tr>",
                            "<tr><td>2023-10-01 00:00:00-05</td><td>67</td></tr>",
                            "<tr><td>2023-11-01 00:00:00-05</td><td>64</td></tr>",
                            "<tr><td>2023-12-01 00:00:00-06</td><td>79</td></tr>",
                            "<tr><td>2024-01-01 00:00:00-06</td><td>110</td></tr>",
                            "<tr><td>2024-02-01 00:00:00-06</td><td>74</td></tr>",
                            "<tr><td>2024-03-01 00:00:00-06</td><td>96</td></tr>",
                            "<tr><td>2024-04-01 00:00:00-05</td><td>76</td></tr>",
                            "<tr><td>2024-05-01 00:00:00-05</td><td>74</td></tr>",
                            "<tr><td>2024-06-01 00:00:00-05</td><td>70</td></tr>",
                            "<tr><td>2024-07-01 00:00:00-05</td><td>76</td></tr>",
                            "<tr><td>2024-08-01 00:00:00-05</td><td>84</td></tr>",
                            "<tr><td>2024-09-01 00:00:00-05</td><td>88</td></tr>",
                            "<tr><td>2024-10-01 00:00:00-05</td><td>80</td></tr>",
                            "<tr><td>2024-11-01 00:00:00-05</td><td>73</td></tr>",
                            "<tr><td>2024-12-01 00:00:00-06</td><td>85</td></tr>",
                            "<tr><td>2025-01-01 00:00:00-06</td><td>69</td></tr>",
                            "<tr><td>2025-02-01 00:00:00-06</td><td>75</td></tr>",
                            "<tr><td>2025-03-01 00:00:00-06</td><td>60</td></tr>",
                            "<tr><td>2025-04-01 00:00:00-05</td><td>80</td></tr>",
                            "<tr><td>2025-05-01 00:00:00-05</td><td>98</td></tr>",
                            "<tr><td>2025-06-01 00:00:00-05</td><td>90</td></tr>",
                            "<tr><td>2025-07-01 00:00:00-05</td><td>85</td></tr>",
                            "<tr><td>2025-08-01 00:00:00-05</td><td>81</td></tr>",
                            "<tr><td>2025-09-01 00:00:00-05</td><td>80</td></tr>",
                            "<tr><td>2025-10-01 00:00:00-05</td><td>81</td></tr>",
                            "<tr><td>2025-11-01 00:00:00-05</td><td>71</td></tr>",
                            "<tr><td>2025-12-01 00:00:00-06</td><td>75</td></tr>",
                            "<tr><td>2026-01-01 00:00:00-06</td><td>12</td></tr>",
                            "</table>"
                        ]
                    }
                }
            ],
            "execution_count": 4
        },
        {
            "cell_type": "markdown",
            "source": [
                "Order fulfillment shows a clear growth trajectory:\n",
                "\n",
                "- <span style=\"color: var(--vscode-foreground);\">From 2000 to 2016: monthly shipping volumes hover between 5 to 20 orders.</span>\n",
                "- In 2017 and beyond: a surge to 90–220+ shipments per month, peaking in 2020\n",
                "\n",
                "<span style=\"color: var(--vscode-foreground);\">This pattern suggests an increasing strain on warehouse operations, reinforcing the need to assess and potentially expand fulfillment infrastructure to meet growing demand, especially post-acquisition.</span>  \n",
                "\n",
                "Warehouse order distribution was also assessed:"
            ],
            "metadata": {
                "language": "sql",
                "azdata_cell_guid": "8a06712f-6e58-4dc2-a9cf-70ee219d63c5"
            },
            "attachments": {}
        },
        {
            "cell_type": "code",
            "source": [
                "-- Counts total orders processed by each warehouse.\r\n",
                "SELECT w.warehouse_name, COUNT(*) AS total_orders\r\n",
                "FROM dsci_504.orders o\r\n",
                "JOIN dsci_504.warehouses w ON o.warehouse_id = w.warehouse_id\r\n",
                "GROUP BY w.warehouse_name\r\n",
                "ORDER BY total_orders DESC;"
            ],
            "metadata": {
                "language": "python",
                "azdata_cell_guid": "21d00ac2-8ea0-43de-8ee2-8a76fc29c1ca"
            },
            "outputs": [
                {
                    "output_type": "display_data",
                    "data": {
                        "text/html": "(3 row(s) affected)"
                    },
                    "metadata": {}
                },
                {
                    "output_type": "display_data",
                    "data": {
                        "text/html": "Total execution time: 00:00:00.033"
                    },
                    "metadata": {}
                },
                {
                    "output_type": "execute_result",
                    "metadata": {},
                    "execution_count": 5,
                    "data": {
                        "application/vnd.dataresource+json": {
                            "schema": {
                                "fields": [
                                    {
                                        "name": "warehouse_name"
                                    },
                                    {
                                        "name": "total_orders"
                                    }
                                ]
                            },
                            "data": [
                                {
                                    "warehouse_name": "Sacramento",
                                    "total_orders": "4251"
                                },
                                {
                                    "warehouse_name": "Dallas",
                                    "total_orders": "4243"
                                },
                                {
                                    "warehouse_name": "Columbus",
                                    "total_orders": "4105"
                                }
                            ]
                        },
                        "text/html": [
                            "<table>",
                            "<tr><th>warehouse_name</th><th>total_orders</th></tr>",
                            "<tr><td>Sacramento</td><td>4251</td></tr>",
                            "<tr><td>Dallas</td><td>4243</td></tr>",
                            "<tr><td>Columbus</td><td>4105</td></tr>",
                            "</table>"
                        ]
                    }
                }
            ],
            "execution_count": 5
        },
        {
            "cell_type": "markdown",
            "source": [
                "Order processing is evenly split across three main warehouses:\n",
                "\n",
                "- <span style=\"color: var(--vscode-foreground);\">Sacramento: 4,251 orders.</span>\n",
                "- Dallas: 4,243 orders.\n",
                "- Columbus: 4,105 orders.\n",
                "\n",
                "<span style=\"color: var(--vscode-foreground);\">Although the distribution is relatively balanced, the high volumes indicate that any further load due to Ord Cycles could require logistical scaling or redistribution strategies to prevent bottlenecks.</span>"
            ],
            "metadata": {
                "language": "sql",
                "azdata_cell_guid": "2f68f10a-4aa7-4122-b338-6cb4041a85f4"
            },
            "attachments": {}
        },
        {
            "cell_type": "markdown",
            "source": [
                "**4\\. Preferred Mountain Bike Configurations**\n",
                "\n",
                "Understanding which bike configurations are most popular helps align Ord Cycles' product offerings with customer preferences. The following query identifies the most frequently built configurations based on component count:"
            ],
            "metadata": {
                "azdata_cell_guid": "8ba9fa00-6295-4617-84a3-5b1b6a4e0c9e"
            },
            "attachments": {}
        },
        {
            "cell_type": "code",
            "source": [
                "-- Determines most popular bike builds based on component count and usage.\r\n",
                "SELECT b.build_name, COUNT(DISTINCT bc.comp_id) AS component_count, COUNT(*) AS popularity\r\n",
                "FROM dsci_504.builds b\r\n",
                "JOIN dsci_504.build_components bc ON b.build_id = bc.build_id\r\n",
                "GROUP BY b.build_name\r\n",
                "ORDER BY popularity DESC\r\n",
                "LIMIT 5;"
            ],
            "metadata": {
                "azdata_cell_guid": "cd3a2361-e1f0-49e1-9000-b3b75577659c",
                "language": "python"
            },
            "outputs": [
                {
                    "output_type": "display_data",
                    "data": {
                        "text/html": "(5 row(s) affected)"
                    },
                    "metadata": {}
                },
                {
                    "output_type": "display_data",
                    "data": {
                        "text/html": "Total execution time: 00:00:00.259"
                    },
                    "metadata": {}
                },
                {
                    "output_type": "execute_result",
                    "metadata": {},
                    "execution_count": 6,
                    "data": {
                        "application/vnd.dataresource+json": {
                            "schema": {
                                "fields": [
                                    {
                                        "name": "build_name"
                                    },
                                    {
                                        "name": "component_count"
                                    },
                                    {
                                        "name": "popularity"
                                    }
                                ]
                            },
                            "data": [
                                {
                                    "build_name": "wild ride",
                                    "component_count": "11",
                                    "popularity": "11"
                                },
                                {
                                    "build_name": "pinnacle",
                                    "component_count": "10",
                                    "popularity": "10"
                                },
                                {
                                    "build_name": "bull",
                                    "component_count": "10",
                                    "popularity": "10"
                                },
                                {
                                    "build_name": "loam assault",
                                    "component_count": "10",
                                    "popularity": "10"
                                },
                                {
                                    "build_name": "max traction",
                                    "component_count": "10",
                                    "popularity": "10"
                                }
                            ]
                        },
                        "text/html": [
                            "<table>",
                            "<tr><th>build_name</th><th>component_count</th><th>popularity</th></tr>",
                            "<tr><td>wild ride</td><td>11</td><td>11</td></tr>",
                            "<tr><td>pinnacle</td><td>10</td><td>10</td></tr>",
                            "<tr><td>bull</td><td>10</td><td>10</td></tr>",
                            "<tr><td>loam assault</td><td>10</td><td>10</td></tr>",
                            "<tr><td>max traction</td><td>10</td><td>10</td></tr>",
                            "</table>"
                        ]
                    }
                }
            ],
            "execution_count": 6
        },
        {
            "cell_type": "markdown",
            "source": [
                "The most popular bike builds include:\n",
                "\n",
                "- <span style=\"color: var(--vscode-foreground);\">Wild Ride (11 components, 11 builds).</span>\n",
                "- Pinnacle, Bull, Loam Assault, Max Traction (10 components each, 10 builds).\n",
                "\n",
                "<span style=\"color: var(--vscode-foreground);\">These configurations reflect consumer preferences, and serve as a guide for product development alignment post-acquisition. Ord Cycles should consider focusing on builds with 10–11 components, which are trending in OPC’s history.</span>"
            ],
            "metadata": {
                "language": "sql",
                "azdata_cell_guid": "5c79074b-87ab-4220-ab61-e7fbc8c69127"
            },
            "attachments": {}
        },
        {
            "cell_type": "markdown",
            "source": [
                "### **5\\. Projected Growth Over the Next Quarter**\n",
                "\n",
                "To anticipate demand in the near term, I used the average of recent quarters' sales as a forecast for upcoming growth:"
            ],
            "metadata": {
                "azdata_cell_guid": "3258d88d-2a98-411e-9fe0-8ab44d03d742"
            },
            "attachments": {}
        },
        {
            "cell_type": "code",
            "source": [
                "-- Retrieve total order values grouped by quarter for short-term sales forecasting.\r\n",
                "SELECT DATE_TRUNC('quarter', ord_date) AS quarter,\r\n",
                "       SUM(order_tot) AS total_sales\r\n",
                "FROM dsci_504.orders\r\n",
                "GROUP BY quarter\r\n",
                "ORDER BY quarter DESC\r\n",
                "LIMIT 4;"
            ],
            "metadata": {
                "azdata_cell_guid": "425f1534-a6e1-4d3d-857a-26dbb93bc979",
                "language": "python"
            },
            "outputs": [
                {
                    "output_type": "display_data",
                    "data": {
                        "text/html": "(4 row(s) affected)"
                    },
                    "metadata": {}
                },
                {
                    "output_type": "display_data",
                    "data": {
                        "text/html": "Total execution time: 00:00:00.022"
                    },
                    "metadata": {}
                },
                {
                    "output_type": "execute_result",
                    "metadata": {},
                    "execution_count": 7,
                    "data": {
                        "application/vnd.dataresource+json": {
                            "schema": {
                                "fields": [
                                    {
                                        "name": "quarter"
                                    },
                                    {
                                        "name": "total_sales"
                                    }
                                ]
                            },
                            "data": [
                                {
                                    "quarter": "2025-10-01 00:00:00-05",
                                    "total_sales": "7223014.85"
                                },
                                {
                                    "quarter": "2025-07-01 00:00:00-05",
                                    "total_sales": "7216169.54"
                                },
                                {
                                    "quarter": "2025-04-01 00:00:00-05",
                                    "total_sales": "8633167.27"
                                },
                                {
                                    "quarter": "2025-01-01 00:00:00-06",
                                    "total_sales": "6228300.81"
                                }
                            ]
                        },
                        "text/html": [
                            "<table>",
                            "<tr><th>quarter</th><th>total_sales</th></tr>",
                            "<tr><td>2025-10-01 00:00:00-05</td><td>7223014.85</td></tr>",
                            "<tr><td>2025-07-01 00:00:00-05</td><td>7216169.54</td></tr>",
                            "<tr><td>2025-04-01 00:00:00-05</td><td>8633167.27</td></tr>",
                            "<tr><td>2025-01-01 00:00:00-06</td><td>6228300.81</td></tr>",
                            "</table>"
                        ]
                    }
                }
            ],
            "execution_count": 7
        },
        {
            "cell_type": "markdown",
            "source": [
                "Recent quarterly revenues:\n",
                "\n",
                "- <span style=\"color: var(--vscode-foreground);\">Q1 2025: <b>$6.2M</b></span>\n",
                "- Q2 2025: **$8.6M**\n",
                "- Q3 2025: **$7.2M**\n",
                "- Q4 2025: **$7.2M**\n",
                "\n",
                "<span style=\"color: var(--vscode-foreground);\">The trend shows steady revenue in the <b>$6M–$8M</b> range, confirming stable short-term demand. This forecast supports investment decisions in operations, warehouse scaling, and marketing, ensuring readiness to integrate Ord Cycles.</span>"
            ],
            "metadata": {
                "language": "sql",
                "azdata_cell_guid": "c01c9147-14bf-468e-9ae0-9dcb46df17f4"
            },
            "attachments": {}
        },
        {
            "cell_type": "markdown",
            "source": [
                "### **Strengths and Weaknesses of PostgreSQL for OPC Analytics:**\n",
                "\n",
                "**Strengths of PostgreSQL for OPC Analytics**\n",
                "\n",
                "1. <span style=\"color: var(--vscode-foreground);\"><b>Robust Analytical Capabilities:&nbsp;</b></span> PostgreSQL supports advanced SQL constructs like Common Table Expressions (CTEs) and Window Functions, which allowed for complex analytical tasks (e.g., ranking builds, quarterly trend analysis, customer behavior segmentation) without requiring external tools.\n",
                "2. **High Data Integrity and Structured Storage:** The relational schema (e.g., \\`orders\\`, \\`products\\`, \\`returns\\`) ensures consistency through primary/foreign key relationships—ideal for maintaining business-critical sales and customer data.\n",
                "3. **Efficient for Large Volumes of Data:** Even with millions of rows (as seen with order and return logs), PostgreSQL provided sub-second query execution, supporting near real-time data exploration in Azure Data Studio.\n",
                "4. **Customizable and Open Source:** Being open-source, PostgreSQL enables cost-effective deployment without licensing fees and is highly customizable to fit into existing infrastructure—especially relevant for a growing company like OPC.\n",
                "5. **Compatible with External BI Tools:** PostgreSQL integrates well with Power BI, Tableau, and other dashboarding tools, allowing analysts to perform modeling in SQL and visualize trends through external applications.\n",
                "\n",
                "**Weaknesses of PostgreSQL for OPC Analytics**\n",
                "\n",
                "1. <span style=\"color: var(--vscode-foreground);\"><b>Lacks Built-In Visualization:</b>&nbsp;</span> PostgreSQL doesn’t offer built-in dashboard or reporting interfaces. As a result, analysts must export results to external BI platforms, adding friction to executive reporting and real-time decision-making.\n",
                "2. **Steep Learning Curve for Non-Technical Users:** Crafting performant SQL queries (e.g., JOINs, aggregations, filtering logic) requires specialized SQL knowledge. This limits accessibility for business users or junior analysts unfamiliar with database operations.\n",
                "3. **Manual ETL and Orchestration Needs:** PostgreSQL does not natively support automated data pipelines, scheduling, or transformation orchestration. This limits its usability for complex workflows unless paired with tools like Apache Airflow, dbt, or Python-based ETL scripts.\n",
                "4. **Limited Native Support for Unstructured or Streaming Data:** PostgreSQL handles structured/tabular data very well, but JSON, arrays, and time-series data require additional configuration or extensions (like TimescaleDB), making it less versatile for unstructured or real-time analytics use cases."
            ],
            "metadata": {
                "azdata_cell_guid": "7c66925c-2829-4c8b-960e-b36592d9daa4"
            },
            "attachments": {}
        },
        {
            "cell_type": "markdown",
            "source": [
                "### **Strategic Implication for OPC**\n",
                "\n",
                "- PostgreSQL is a solid backbone for analytics involving structured sales, customer, and operational data.\n",
                "- For maximum impact, OPC should pair PostgreSQL with BI tools (like Power BI) and adopt lightweight orchestration tools to automate workflows.\n",
                "- As OPC scales post-acquisition, investing in training for analysts, query optimization practices, and a unified data strategy will unlock the full potential of PostgreSQL."
            ],
            "metadata": {
                "azdata_cell_guid": "7b467115-afc1-497d-bd5c-1857e0d104f7"
            },
            "attachments": {}
        },
        {
            "cell_type": "markdown",
            "source": [
                "### **Convert the file to html:**"
            ],
            "metadata": {
                "azdata_cell_guid": "35dbfe25-e3a0-44ca-8348-ee7f9d3b34c6"
            },
            "attachments": {}
        },
        {
            "cell_type": "code",
            "source": [
                "!jupyter nbconvert --to html DSCI504_Wk8_Backbrief_SKungulio.ipynb"
            ],
            "metadata": {
                "azdata_cell_guid": "dde829e7-b515-4d56-87db-bfe66f109f81",
                "language": "python"
            },
            "outputs": [
                {
                    "name": "stdout",
                    "text": "[NbConvertApp] Converting notebook DSCI504_Wk8_Backbrief_SKungulio.ipynb to html\r\n",
                    "output_type": "stream"
                },
                {
                    "name": "stdout",
                    "text": "[NbConvertApp] Writing 381230 bytes to DSCI504_Wk8_Backbrief_SKungulio.html\r\n",
                    "output_type": "stream"
                }
            ],
            "execution_count": 1
        }
    ]
}