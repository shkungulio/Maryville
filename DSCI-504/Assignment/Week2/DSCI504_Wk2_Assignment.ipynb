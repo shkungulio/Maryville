{
    "metadata": {
        "kernelspec": {
            "name": "SQL",
            "display_name": "SQL",
            "language": "sql"
        },
        "language_info": {
            "name": "sql",
            "version": ""
        }
    },
    "nbformat_minor": 2,
    "nbformat": 4,
    "cells": [
        {
            "cell_type": "markdown",
            "source": [
                "# DSCI 504\n",
                "\n",
                "## Week 2: Building the OPC Database\n",
                "\n",
                "### Student Name: SEIF KUNGULIO"
            ],
            "metadata": {
                "azdata_cell_guid": "800afac1-723c-43d8-bed1-9a1473526a3d"
            },
            "attachments": {}
        },
        {
            "cell_type": "markdown",
            "source": [
                "Assignment Objectives:\n",
                "\n",
                "1. Build a database schema\n",
                "2. Build database tables\n",
                "3. Identify and establish Primary and Foreign Keys\n",
                "4. Identify and establish key table Constraints\n",
                "5. Import data into PostgreSQL\n",
                "6. Query a table"
            ],
            "metadata": {
                "azdata_cell_guid": "e926db60-83fa-45b0-8abb-5fff6d5a190b"
            },
            "attachments": {}
        },
        {
            "cell_type": "markdown",
            "source": [
                "**Step 1: Create a new schema named 'dsci\\_504'.**"
            ],
            "metadata": {
                "azdata_cell_guid": "e15ed8e8-a114-4bb1-91dc-347fcf0e62bd"
            },
            "attachments": {}
        },
        {
            "cell_type": "code",
            "source": [
                "--Enter your SQL code here\r\n",
                "CREATE SCHEMA dsci_504"
            ],
            "metadata": {
                "azdata_cell_guid": "67902443-54b0-405c-980c-5135fac050a7",
                "language": "sql",
                "tags": []
            },
            "outputs": [
                {
                    "output_type": "display_data",
                    "data": {
                        "text/html": "CREATE SCHEMA"
                    },
                    "metadata": {}
                },
                {
                    "output_type": "display_data",
                    "data": {
                        "text/html": "Total execution time: 00:00:00.007"
                    },
                    "metadata": {}
                }
            ],
            "execution_count": 1
        },
        {
            "cell_type": "markdown",
            "source": [
                "**STEP 2: Create the necessary tables identified in the Assignemt 2 Table Structure document located in Canvas. Use a new code cell for each table.**"
            ],
            "metadata": {
                "azdata_cell_guid": "df31d0ba-68c3-4a9b-a3b6-ab38b9433eb4"
            },
            "attachments": {}
        },
        {
            "cell_type": "code",
            "source": [
                "--Enter your SQL code here. Use a single cell for each table/task. Do not enter all tables in one cell. It will be harder to troublsehoot errors.\r\n",
                "-- 1) Lookup: STATES\r\n",
                "CREATE TABLE dsci_504.states (\r\n",
                "  state_id   INT   PRIMARY KEY --The numerical state id from 1 to 50\r\n",
                "  ,state     TEXT  NOT NULL --The two-digit state digraph\r\n",
                ");"
            ],
            "metadata": {
                "azdata_cell_guid": "53302837-8b34-4010-8419-6d641fd80d65",
                "language": "sql",
                "tags": [
                    "hide_input"
                ]
            },
            "outputs": [
                {
                    "output_type": "display_data",
                    "data": {
                        "text/html": "CREATE TABLE"
                    },
                    "metadata": {}
                },
                {
                    "output_type": "display_data",
                    "data": {
                        "text/html": "Total execution time: 00:00:00.024"
                    },
                    "metadata": {}
                }
            ],
            "execution_count": 2
        },
        {
            "cell_type": "code",
            "source": [
                "-- 2) CUSTOMERS\r\n",
                "CREATE TABLE dsci_504.customers (\r\n",
                "  cus_id         SERIAL PRIMARY KEY --The numerical customer ID\r\n",
                "  ,cus_num        TEXT --A unique customer number derived from the customer name and a generated number\r\n",
                "  ,cus_last_name  TEXT --Customer Last Name\r\n",
                "  ,cus_first_name TEXT --Customer First Name\r\n",
                "  ,cus_add_num    TEXT --Numerical house number\r\n",
                "  ,cus_address    TEXT --Line 2 address\r\n",
                "  ,cus_city       TEXT --Customer City\r\n",
                "  ,state_id       INT  NOT NULL REFERENCES dsci_504.states(state_id) --State ID\r\n",
                "  ,cus_zip        TEXT --5-digit zip code\r\n",
                "  ,cus_phone      TEXT --10-digit telephone\r\n",
                "  ,cus_join_date  DATE --Customer join date\r\n",
                "  ,cus_app_cd     TEXT --Customer appreication code (1-7)\r\n",
                "  ,cus_app_num    TEXT --Customer loyalty program number\r\n",
                ");"
            ],
            "metadata": {
                "language": "sql",
                "azdata_cell_guid": "bf24233b-4f21-46e7-b1e0-c25bfc6365b7",
                "tags": [
                    "hide_input"
                ]
            },
            "outputs": [
                {
                    "output_type": "display_data",
                    "data": {
                        "text/html": "CREATE TABLE"
                    },
                    "metadata": {}
                },
                {
                    "output_type": "display_data",
                    "data": {
                        "text/html": "Total execution time: 00:00:00.025"
                    },
                    "metadata": {}
                }
            ],
            "execution_count": 3
        },
        {
            "cell_type": "code",
            "source": [
                "-- 3) WAREHOUSES\r\n",
                "CREATE TABLE dsci_504.warehouses (\r\n",
                "  warehouse_id   SERIAL PRIMARY KEY --Warehouse ID\r\n",
                "  ,warehouse_name TEXT  NOT NULL --Full city name of warehouse\r\n",
                "  ,state_id       INT   NOT NULL REFERENCES dsci_504.states(state_id) --Integer State ID\r\n",
                ");"
            ],
            "metadata": {
                "language": "sql",
                "azdata_cell_guid": "e9dd6ad2-b952-4169-8478-8d483cbb0875",
                "tags": [
                    "hide_input"
                ]
            },
            "outputs": [
                {
                    "output_type": "display_data",
                    "data": {
                        "text/html": "CREATE TABLE"
                    },
                    "metadata": {}
                },
                {
                    "output_type": "display_data",
                    "data": {
                        "text/html": "Total execution time: 00:00:00.022"
                    },
                    "metadata": {}
                }
            ],
            "execution_count": 4
        },
        {
            "cell_type": "code",
            "source": [
                "-- 4) SUPPLIERS\r\n",
                "CREATE TABLE dsci_504.suppliers (\r\n",
                "  sup_id   SERIAL PRIMARY KEY --Supplier ID number\r\n",
                "  ,sup_name TEXT  NOT NULL --Supplier Text Name\r\n",
                "  ,sup_ctry TEXT --Supplier Country(s)\r\n",
                ");"
            ],
            "metadata": {
                "language": "sql",
                "azdata_cell_guid": "7a5ed930-0a4f-4024-8231-ddc093858004",
                "tags": [
                    "hide_input"
                ]
            },
            "outputs": [
                {
                    "output_type": "display_data",
                    "data": {
                        "text/html": "CREATE TABLE"
                    },
                    "metadata": {}
                },
                {
                    "output_type": "display_data",
                    "data": {
                        "text/html": "Total execution time: 00:00:00.035"
                    },
                    "metadata": {}
                }
            ],
            "execution_count": 5
        },
        {
            "cell_type": "code",
            "source": [
                "-- 5) COMPONENTS\r\n",
                "CREATE TABLE dsci_504.components (\r\n",
                "  comp_id    SERIAL PRIMARY KEY --Component ID Number\r\n",
                "  ,comp_name  TEXT  NOT NULL --Name of Component\r\n",
                "  ,comp_cost  NUMERIC(10,2) --Cost of Component\r\n",
                "  ,sup_id     INT   REFERENCES dsci_504.suppliers(sup_id) --Supplier Integer ID\r\n",
                "  ,comp_cat   TEXT --Component category (bucketed)\r\n",
                ");"
            ],
            "metadata": {
                "language": "sql",
                "azdata_cell_guid": "48c18c1a-e305-4205-9aeb-6f1e527f7d83",
                "tags": []
            },
            "outputs": [
                {
                    "output_type": "display_data",
                    "data": {
                        "text/html": "CREATE TABLE"
                    },
                    "metadata": {}
                },
                {
                    "output_type": "display_data",
                    "data": {
                        "text/html": "Total execution time: 00:00:00.013"
                    },
                    "metadata": {}
                }
            ],
            "execution_count": 6
        },
        {
            "cell_type": "code",
            "source": [
                "-- 6) BUILDS\r\n",
                "CREATE TABLE dsci_504.builds (\r\n",
                "  build_id   SERIAL PRIMARY KEY --Build ID\r\n",
                "  ,build_name TEXT  NOT NULL --Build name\r\n",
                ");"
            ],
            "metadata": {
                "language": "sql",
                "azdata_cell_guid": "bd099239-1ba4-4e53-8c59-7e68b317e22b",
                "tags": [
                    "hide_input"
                ]
            },
            "outputs": [
                {
                    "output_type": "display_data",
                    "data": {
                        "text/html": "CREATE TABLE"
                    },
                    "metadata": {}
                },
                {
                    "output_type": "display_data",
                    "data": {
                        "text/html": "Total execution time: 00:00:00.054"
                    },
                    "metadata": {}
                }
            ],
            "execution_count": 7
        },
        {
            "cell_type": "code",
            "source": [
                "-- 7) BUILD_COMPONENTS (many-to-many Builds ↔ Components)\r\n",
                "CREATE TABLE dsci_504.build_components (\r\n",
                "  build_id INT NOT NULL REFERENCES dsci_504.builds(build_id) --Integer Build ID\r\n",
                "  ,comp_id INT NOT NULL REFERENCES dsci_504.components(comp_id) --Integer Component ID\r\n",
                "  ,PRIMARY KEY (build_id, comp_id)\r\n",
                ");"
            ],
            "metadata": {
                "language": "sql",
                "azdata_cell_guid": "bcc5e8a1-590a-423d-8d10-5455bf0d92b2",
                "tags": [
                    "hide_input"
                ]
            },
            "outputs": [
                {
                    "output_type": "display_data",
                    "data": {
                        "text/html": "CREATE TABLE"
                    },
                    "metadata": {}
                },
                {
                    "output_type": "display_data",
                    "data": {
                        "text/html": "Total execution time: 00:00:00.060"
                    },
                    "metadata": {}
                }
            ],
            "execution_count": 8
        },
        {
            "cell_type": "code",
            "source": [
                "-- 8) PRODUCTS\r\n",
                "CREATE TABLE dsci_504.products (\r\n",
                "  prod_id           SERIAL PRIMARY KEY --Product ID\r\n",
                "  ,prod_cat_name     TEXT --Product Category Name\r\n",
                "  ,prod_manufacturer TEXT --Product Manufacturer (could be Supplier)\r\n",
                "  ,prod_name         TEXT NOT NULL --Product Name\r\n",
                "  ,prod_description  TEXT --Product Description\r\n",
                "  ,prod_price        NUMERIC(10,2) --Product Price\r\n",
                "  ,prod_class        TEXT --Product Classification\r\n",
                "  ,country_origin    TEXT --Country of Origin\r\n",
                ");"
            ],
            "metadata": {
                "language": "sql",
                "azdata_cell_guid": "37e7acf1-79d4-47d1-a64b-c54ef288783a",
                "tags": [
                    "hide_input"
                ]
            },
            "outputs": [
                {
                    "output_type": "display_data",
                    "data": {
                        "text/html": "CREATE TABLE"
                    },
                    "metadata": {}
                },
                {
                    "output_type": "display_data",
                    "data": {
                        "text/html": "Total execution time: 00:00:00.021"
                    },
                    "metadata": {}
                }
            ],
            "execution_count": 9
        },
        {
            "cell_type": "code",
            "source": [
                "-- 9) PRODUCT_BUILDS (many-to-many Products ↔ Builds)\r\n",
                "CREATE TABLE dsci_504.product_builds (\r\n",
                "  prod_id  INT NOT NULL REFERENCES dsci_504.products(prod_id) --Integer Product ID\r\n",
                "  ,build_id INT NOT NULL REFERENCES dsci_504.builds(build_id) --Integer Build ID\r\n",
                "  ,PRIMARY KEY (prod_id, build_id)\r\n",
                ");"
            ],
            "metadata": {
                "language": "sql",
                "azdata_cell_guid": "783a32a8-8068-45a6-8d6a-9b42bd76d6ff",
                "tags": [
                    "hide_input"
                ]
            },
            "outputs": [
                {
                    "output_type": "display_data",
                    "data": {
                        "text/html": "CREATE TABLE"
                    },
                    "metadata": {}
                },
                {
                    "output_type": "display_data",
                    "data": {
                        "text/html": "Total execution time: 00:00:00.042"
                    },
                    "metadata": {}
                }
            ],
            "execution_count": 10
        },
        {
            "cell_type": "code",
            "source": [
                "-- 10) ORDERS (header)\r\n",
                "CREATE TABLE dsci_504.orders (\r\n",
                "  ord_id        SERIAL PRIMARY KEY --Order ID\r\n",
                "  ,ord_date      DATE  NOT NULL --Order Date\r\n",
                "  ,ord_tax_loc   INT --Order Tax Location (State)\r\n",
                "  ,order_tot     NUMERIC(12,2) --Order Total (all lines)\r\n",
                "  ,ord_ship_add  BOOLEAN --Order Ship Address is same as ordering customer\r\n",
                "  ,ord_ship_date DATE --Order Ship Date\r\n",
                "  ,ord_track_num TEXT --Order Tracking Number\r\n",
                "  ,warehouse_id  INT  REFERENCES dsci_504.warehouses(warehouse_id) --Integer Warehouse ID order shipped from\r\n",
                "  ,cus_id        INT  NOT NULL REFERENCES dsci_504.customers(cus_id) --Integer Customer ID placing order\r\n",
                ");"
            ],
            "metadata": {
                "language": "sql",
                "azdata_cell_guid": "7e051d07-3692-44f6-840e-efdefe99c20a",
                "tags": [
                    "hide_input"
                ]
            },
            "outputs": [
                {
                    "output_type": "display_data",
                    "data": {
                        "text/html": "CREATE TABLE"
                    },
                    "metadata": {}
                },
                {
                    "output_type": "display_data",
                    "data": {
                        "text/html": "Total execution time: 00:00:00.025"
                    },
                    "metadata": {}
                }
            ],
            "execution_count": 11
        },
        {
            "cell_type": "code",
            "source": [
                "-- 11) ORDER_ITEMS (detail)\r\n",
                "CREATE TABLE dsci_504.order_items (\r\n",
                "  ord_id      INT  NOT NULL REFERENCES dsci_504.orders(ord_id) --Integer Order ID\r\n",
                "  ,prod_id    INT  NOT NULL REFERENCES dsci_504.products(prod_id) --Integer Product ID\r\n",
                "  ,quantity   INT  NOT NULL --Quantity ordered\r\n",
                "  ,line_total NUMERIC(12,2) NOT NULL --Total for item in line on order\r\n",
                "  ,PRIMARY KEY (ord_id, prod_id)\r\n",
                ");"
            ],
            "metadata": {
                "language": "sql",
                "azdata_cell_guid": "77ca2e11-9044-4ffd-beef-5e5aa0393ddf",
                "tags": [
                    "hide_input"
                ]
            },
            "outputs": [
                {
                    "output_type": "display_data",
                    "data": {
                        "text/html": "CREATE TABLE"
                    },
                    "metadata": {}
                },
                {
                    "output_type": "display_data",
                    "data": {
                        "text/html": "Total execution time: 00:00:00.115"
                    },
                    "metadata": {}
                }
            ],
            "execution_count": 12
        },
        {
            "cell_type": "code",
            "source": [
                "-- 12) RETURNS (header)\r\n",
                "CREATE TABLE dsci_504.returns (\r\n",
                "  rac_id           SERIAL PRIMARY KEY --Return Authorization ID\r\n",
                "  ,ord_id           INT    NOT NULL REFERENCES dsci_504.orders(ord_id) --Integer Order ID\r\n",
                "  ,cus_id           INT    NOT NULL REFERENCES dsci_504.customers(cus_id) --Integer Customer ID\r\n",
                "  ,warehouse_id     INT    NOT NULL REFERENCES dsci_504.warehouses(warehouse_id) --Integer Warehouse ID\r\n",
                "  ,return_date      DATE   NOT NULL --Return Date (date approved)\r\n",
                "  ,tot_ret_item_cnt INT --Number of items returned\r\n",
                "  ,tot_ret_amnt     NUMERIC(12,2) --Total of all returned items\r\n",
                ");"
            ],
            "metadata": {
                "language": "sql",
                "azdata_cell_guid": "a74e3005-0538-4996-9c02-93d6de4b3685",
                "tags": [
                    "hide_input"
                ]
            },
            "outputs": [
                {
                    "output_type": "display_data",
                    "data": {
                        "text/html": "CREATE TABLE"
                    },
                    "metadata": {}
                },
                {
                    "output_type": "display_data",
                    "data": {
                        "text/html": "Total execution time: 00:00:00.039"
                    },
                    "metadata": {}
                }
            ],
            "execution_count": 13
        },
        {
            "cell_type": "code",
            "source": [
                "-- 13) RETURN_ITEMS (detail)\r\n",
                "CREATE TABLE dsci_504.return_items (\r\n",
                "  rac_id        INT     NOT NULL REFERENCES dsci_504.returns(rac_id) --RAC ID\r\n",
                "  ,prod_id       INT     REFERENCES dsci_504.products(prod_id) --Integer Product ID\r\n",
                "  ,comp_id       INT     REFERENCES dsci_504.components(comp_id) -- Integer Component ID\r\n",
                "  ,return_qty    INT --Number of items returned on the line\r\n",
                "  ,return_amount NUMERIC(12,2) --Amount of item\r\n",
                "  ,return_reason TEXT --Returning reason (binned)\r\n",
                "  ,PRIMARY KEY (rac_id, prod_id, comp_id)\r\n",
                ");"
            ],
            "metadata": {
                "language": "sql",
                "azdata_cell_guid": "d1b1d5c5-a08d-4587-aedc-5c2e36da603c",
                "tags": [
                    "hide_input"
                ]
            },
            "outputs": [
                {
                    "output_type": "display_data",
                    "data": {
                        "text/html": "CREATE TABLE"
                    },
                    "metadata": {}
                },
                {
                    "output_type": "display_data",
                    "data": {
                        "text/html": "Total execution time: 00:00:00.055"
                    },
                    "metadata": {}
                }
            ],
            "execution_count": 14
        },
        {
            "cell_type": "code",
            "source": [
                "-- 14) TAXES (lookup)\r\n",
                "CREATE TABLE dsci_504.taxes (\r\n",
                "  tax_id   SERIAL PRIMARY KEY --Integer ID\r\n",
                "  ,tax_desc TEXT --Description of tax location (state)\r\n",
                "  ,tax_rate NUMERIC(5,4) --Tax rate in whole percent\r\n",
                ");"
            ],
            "metadata": {
                "language": "sql",
                "azdata_cell_guid": "c467fef7-d854-4683-8b7b-0ae770e452ca",
                "tags": [
                    "hide_input"
                ]
            },
            "outputs": [
                {
                    "output_type": "display_data",
                    "data": {
                        "text/html": "CREATE TABLE"
                    },
                    "metadata": {}
                },
                {
                    "output_type": "display_data",
                    "data": {
                        "text/html": "Total execution time: 00:00:00.012"
                    },
                    "metadata": {}
                }
            ],
            "execution_count": 15
        },
        {
            "cell_type": "code",
            "source": [
                "-- 15) ORDER_TAXES (bridge Orders ↔ Taxes)\r\n",
                "CREATE TABLE dsci_504.order_taxes (\r\n",
                "  ord_id INT NOT NULL REFERENCES dsci_504.orders(ord_id) --Integer Order ID\r\n",
                "  ,tax_id INT NOT NULL REFERENCES dsci_504.taxes(tax_id) --Integer Tax ID\r\n",
                "  ,PRIMARY KEY (ord_id, tax_id)\r\n",
                ");"
            ],
            "metadata": {
                "language": "sql",
                "azdata_cell_guid": "7e7b59ef-960f-403c-b190-7f67f6ad4972",
                "tags": [
                    "hide_input"
                ]
            },
            "outputs": [
                {
                    "output_type": "display_data",
                    "data": {
                        "text/html": "CREATE TABLE"
                    },
                    "metadata": {}
                },
                {
                    "output_type": "display_data",
                    "data": {
                        "text/html": "Total execution time: 00:00:00.011"
                    },
                    "metadata": {}
                }
            ],
            "execution_count": 16
        },
        {
            "cell_type": "markdown",
            "source": [
                "**Step 3: Import the data into the OPC tables in PostgreSQL. Use a new code cell for each file.**"
            ],
            "metadata": {
                "azdata_cell_guid": "54900f51-56e1-4b21-b839-326374a158a2"
            },
            "attachments": {}
        },
        {
            "cell_type": "code",
            "source": [
                "--Enter your SQL code here. \r\n",
                "-- 1) Import data into dsci_504.states table\r\n",
                "COPY dsci_504.states(state_id, state)\r\n",
                "FROM 'C:\\PROJECTS\\Maryville\\DSCI-504\\Assignment\\Week2\\OPC_Data_Tables\\states.csv'\r\n",
                "DELIMITER ','\r\n",
                "CSV HEADER;"
            ],
            "metadata": {
                "azdata_cell_guid": "1ce12eb3-0a0e-485d-bccd-f8cfbb2a0039",
                "language": "sql",
                "tags": [
                    "hide_input"
                ]
            },
            "outputs": [
                {
                    "output_type": "display_data",
                    "data": {
                        "text/html": "COPY 31"
                    },
                    "metadata": {}
                },
                {
                    "output_type": "display_data",
                    "data": {
                        "text/html": "Total execution time: 00:00:00.035"
                    },
                    "metadata": {}
                }
            ],
            "execution_count": 17
        },
        {
            "cell_type": "code",
            "source": [
                "-- 2) Import data into dsci_504.customers table\r\n",
                "COPY dsci_504.customers(cus_id, cus_num, cus_last_name, cus_first_name, cus_add_num, cus_address, \r\n",
                "cus_city, state_id, cus_zip, cus_phone, cus_join_date, cus_app_cd, cus_app_num)\r\n",
                "FROM 'C:\\PROJECTS\\Maryville\\DSCI-504\\Assignment\\Week2\\OPC_Data_Tables\\customers.csv'\r\n",
                "DELIMITER ','\r\n",
                "CSV HEADER;"
            ],
            "metadata": {
                "language": "sql",
                "azdata_cell_guid": "216e1e2d-d11a-466b-ac59-65c92b625336",
                "tags": [
                    "hide_input"
                ]
            },
            "outputs": [
                {
                    "output_type": "display_data",
                    "data": {
                        "text/html": "COPY 2619"
                    },
                    "metadata": {}
                },
                {
                    "output_type": "display_data",
                    "data": {
                        "text/html": "Total execution time: 00:00:00.484"
                    },
                    "metadata": {}
                }
            ],
            "execution_count": 18
        },
        {
            "cell_type": "code",
            "source": [
                "-- 3) Import data into dsci_504.warehouses table\r\n",
                "COPY dsci_504.warehouses(warehouse_id, warehouse_name, state_id)\r\n",
                "FROM 'C:\\PROJECTS\\Maryville\\DSCI-504\\Assignment\\Week2\\OPC_Data_Tables\\warehouses.csv'\r\n",
                "DELIMITER ','\r\n",
                "CSV HEADER;"
            ],
            "metadata": {
                "language": "sql",
                "azdata_cell_guid": "97da98d3-bd60-455c-a2e6-533333d2a34e",
                "tags": [
                    "hide_input"
                ]
            },
            "outputs": [
                {
                    "output_type": "display_data",
                    "data": {
                        "text/html": "COPY 3"
                    },
                    "metadata": {}
                },
                {
                    "output_type": "display_data",
                    "data": {
                        "text/html": "Total execution time: 00:00:00.005"
                    },
                    "metadata": {}
                }
            ],
            "execution_count": 19
        },
        {
            "cell_type": "code",
            "source": [
                "-- 4) Import data into dsci_504.suppliers table\r\n",
                "COPY dsci_504.suppliers(sup_id, sup_name, sup_ctry)\r\n",
                "FROM 'C:\\PROJECTS\\Maryville\\DSCI-504\\Assignment\\Week2\\OPC_Data_Tables\\suppliers.csv'\r\n",
                "DELIMITER ','\r\n",
                "CSV HEADER;"
            ],
            "metadata": {
                "language": "sql",
                "azdata_cell_guid": "1f6d5927-6306-4bb5-9cdf-0670bb87884e",
                "tags": [
                    "hide_input"
                ]
            },
            "outputs": [
                {
                    "output_type": "display_data",
                    "data": {
                        "text/html": "COPY 72"
                    },
                    "metadata": {}
                },
                {
                    "output_type": "display_data",
                    "data": {
                        "text/html": "Total execution time: 00:00:00.009"
                    },
                    "metadata": {}
                }
            ],
            "execution_count": 20
        },
        {
            "cell_type": "code",
            "source": [
                "-- 5) Import data into dsci_504.components table\r\n",
                "COPY dsci_504.components(comp_id, comp_name, comp_cost, sup_id, comp_cat)\r\n",
                "FROM 'C:\\PROJECTS\\Maryville\\DSCI-504\\Assignment\\Week2\\OPC_Data_Tables\\components.csv'\r\n",
                "DELIMITER ','\r\n",
                "CSV HEADER;"
            ],
            "metadata": {
                "language": "sql",
                "azdata_cell_guid": "eb3de209-7942-4eda-bbc8-c6709557d73c",
                "tags": []
            },
            "outputs": [
                {
                    "output_type": "display_data",
                    "data": {
                        "text/html": "COPY 271"
                    },
                    "metadata": {}
                },
                {
                    "output_type": "display_data",
                    "data": {
                        "text/html": "Total execution time: 00:00:00.015"
                    },
                    "metadata": {}
                }
            ],
            "execution_count": 21
        },
        {
            "cell_type": "code",
            "source": [
                "-- 6) Import data into dsci_504.builds table\r\n",
                "COPY dsci_504.builds(build_id, build_name)\r\n",
                "FROM 'C:\\PROJECTS\\Maryville\\DSCI-504\\Assignment\\Week2\\OPC_Data_Tables\\builds.csv'\r\n",
                "DELIMITER ','\r\n",
                "CSV HEADER;"
            ],
            "metadata": {
                "language": "sql",
                "azdata_cell_guid": "fb1fe094-1999-40e8-9577-9edf9c719113",
                "tags": []
            },
            "outputs": [
                {
                    "output_type": "display_data",
                    "data": {
                        "text/html": "COPY 80"
                    },
                    "metadata": {}
                },
                {
                    "output_type": "display_data",
                    "data": {
                        "text/html": "Total execution time: 00:00:00.008"
                    },
                    "metadata": {}
                }
            ],
            "execution_count": 22
        },
        {
            "cell_type": "code",
            "source": [
                "-- 7) Import data into dsci_504.build_components table\r\n",
                "COPY dsci_504.build_components(build_id, comp_id)\r\n",
                "FROM 'C:\\PROJECTS\\Maryville\\DSCI-504\\Assignment\\Week2\\OPC_Data_Tables\\build_components.csv'\r\n",
                "DELIMITER ','\r\n",
                "CSV HEADER;"
            ],
            "metadata": {
                "language": "sql",
                "azdata_cell_guid": "12f86d7b-a2cc-470c-95b7-cf8541682f16",
                "tags": []
            },
            "outputs": [
                {
                    "output_type": "display_data",
                    "data": {
                        "text/html": "COPY 691"
                    },
                    "metadata": {}
                },
                {
                    "output_type": "display_data",
                    "data": {
                        "text/html": "Total execution time: 00:00:00.393"
                    },
                    "metadata": {}
                }
            ],
            "execution_count": 23
        },
        {
            "cell_type": "code",
            "source": [
                "-- 8) Import data into dsci_504.products table\r\n",
                "COPY dsci_504.products(prod_id,prod_cat_name,prod_manufacturer,prod_name,prod_description,prod_price,prod_class,country_origin)\r\n",
                "FROM 'C:\\PROJECTS\\Maryville\\DSCI-504\\Assignment\\Week2\\OPC_Data_Tables\\products.csv'\r\n",
                "DELIMITER ','\r\n",
                "CSV HEADER;"
            ],
            "metadata": {
                "language": "sql",
                "azdata_cell_guid": "d1927080-7346-44ea-9340-7741638fd921",
                "tags": []
            },
            "outputs": [
                {
                    "output_type": "display_data",
                    "data": {
                        "text/html": "COPY 69"
                    },
                    "metadata": {}
                },
                {
                    "output_type": "display_data",
                    "data": {
                        "text/html": "Total execution time: 00:00:00.005"
                    },
                    "metadata": {}
                }
            ],
            "execution_count": 28
        },
        {
            "cell_type": "code",
            "source": [
                "-- 9) Import data into dsci_504.product_builds table\r\n",
                "COPY dsci_504.product_builds(prod_id, build_id)\r\n",
                "FROM 'C:\\PROJECTS\\Maryville\\DSCI-504\\Assignment\\Week2\\OPC_Data_Tables\\product_builds.csv'\r\n",
                "DELIMITER ','\r\n",
                "CSV HEADER;"
            ],
            "metadata": {
                "language": "sql",
                "azdata_cell_guid": "c4289348-5a3b-4e29-906b-cd9b535f44cd",
                "tags": []
            },
            "outputs": [
                {
                    "output_type": "display_data",
                    "data": {
                        "text/html": "COPY 69"
                    },
                    "metadata": {}
                },
                {
                    "output_type": "display_data",
                    "data": {
                        "text/html": "Total execution time: 00:00:00.020"
                    },
                    "metadata": {}
                }
            ],
            "execution_count": 29
        },
        {
            "cell_type": "code",
            "source": [
                "-- 10) Import data into dsci_504.orders table\r\n",
                "COPY dsci_504.orders(ord_id, ord_date, ord_tax_loc, order_tot, ord_ship_add, \r\n",
                "ord_ship_date, ord_track_num, warehouse_id, cus_id)\r\n",
                "FROM 'C:\\PROJECTS\\Maryville\\DSCI-504\\Assignment\\Week2\\OPC_Data_Tables\\orders.csv'\r\n",
                "DELIMITER ','\r\n",
                "CSV HEADER;"
            ],
            "metadata": {
                "language": "sql",
                "azdata_cell_guid": "6d2c9ff0-a3cc-49d5-893e-6ae010b89a4f",
                "tags": [
                    "hide_input"
                ]
            },
            "outputs": [
                {
                    "output_type": "display_data",
                    "data": {
                        "text/html": "COPY 2599"
                    },
                    "metadata": {}
                },
                {
                    "output_type": "display_data",
                    "data": {
                        "text/html": "Total execution time: 00:00:00.222"
                    },
                    "metadata": {}
                }
            ],
            "execution_count": 30
        },
        {
            "cell_type": "code",
            "source": [
                "-- 11) Import data into dsci_504.order_items table\r\n",
                "COPY dsci_504.order_items(ord_id, prod_id, quantity, line_total)\r\n",
                "FROM 'C:\\PROJECTS\\Maryville\\DSCI-504\\Assignment\\Week2\\OPC_Data_Tables\\order_items.csv'\r\n",
                "DELIMITER ','\r\n",
                "CSV HEADER;"
            ],
            "metadata": {
                "language": "sql",
                "azdata_cell_guid": "59aaf4d6-edff-49ae-ab1d-d05c282eba89",
                "tags": [
                    "hide_input"
                ]
            },
            "outputs": [
                {
                    "output_type": "display_data",
                    "data": {
                        "text/html": "COPY 2599"
                    },
                    "metadata": {}
                },
                {
                    "output_type": "display_data",
                    "data": {
                        "text/html": "Total execution time: 00:00:00.240"
                    },
                    "metadata": {}
                }
            ],
            "execution_count": 31
        },
        {
            "cell_type": "code",
            "source": [
                "-- 12) Import data into dsci_504.returns table\r\n",
                "COPY dsci_504.returns(rac_id, ord_id, cus_id, warehouse_id, return_date, tot_ret_item_cnt, tot_ret_amnt)\r\n",
                "FROM 'C:\\PROJECTS\\Maryville\\DSCI-504\\Assignment\\Week2\\OPC_Data_Tables\\returns.csv'\r\n",
                "DELIMITER ','\r\n",
                "CSV HEADER;"
            ],
            "metadata": {
                "language": "sql",
                "azdata_cell_guid": "2299647b-2598-48a1-bf94-ae1fb1abaf46",
                "tags": []
            },
            "outputs": [
                {
                    "output_type": "error",
                    "evalue": "date/time field value out of range: \"0\"",
                    "ename": "",
                    "traceback": []
                },
                {
                    "output_type": "display_data",
                    "data": {
                        "text/html": "Total execution time: 00:00:00.005"
                    },
                    "metadata": {}
                }
            ],
            "execution_count": 32
        },
        {
            "cell_type": "markdown",
            "source": [
                "Challenges: Table schema had \\`return\\_date\\` column, but this column is missing in the data file"
            ],
            "metadata": {
                "language": "sql",
                "azdata_cell_guid": "967d638a-1554-44e7-8341-3320395d05b6"
            },
            "attachments": {}
        },
        {
            "cell_type": "code",
            "source": [
                "-- 13) Import data into dsci_504.return_items table\r\n",
                "COPY dsci_504.return_items(rac_id, prod_id, comp_id, return_qty, return_amount, return_reason)\r\n",
                "FROM 'C:\\PROJECTS\\Maryville\\DSCI-504\\Assignment\\Week2\\OPC_Data_Tables\\return_items.csv'\r\n",
                "DELIMITER ','\r\n",
                "CSV HEADER;"
            ],
            "metadata": {
                "language": "sql",
                "azdata_cell_guid": "5338e4ac-4d69-4e3b-9383-c7c14b50ce41",
                "tags": [
                    "hide_input"
                ]
            },
            "outputs": [
                {
                    "output_type": "error",
                    "evalue": "missing data for column \"return_reason\"",
                    "ename": "",
                    "traceback": []
                },
                {
                    "output_type": "display_data",
                    "data": {
                        "text/html": "Total execution time: 00:00:00.005"
                    },
                    "metadata": {}
                }
            ],
            "execution_count": 33
        },
        {
            "cell_type": "code",
            "source": [
                "-- 14) Import data into dsci_504.taxes table\r\n",
                "COPY dsci_504.taxes(tax_id, tax_desc, tax_rate)\r\n",
                "FROM 'C:\\PROJECTS\\Maryville\\DSCI-504\\Assignment\\Week2\\OPC_Data_Tables\\taxes.csv'\r\n",
                "DELIMITER ','\r\n",
                "CSV HEADER;"
            ],
            "metadata": {
                "language": "sql",
                "azdata_cell_guid": "53bb6a8b-faed-4c98-972c-ff021f242e3b",
                "tags": [
                    "hide_input"
                ]
            },
            "outputs": [
                {
                    "output_type": "display_data",
                    "data": {
                        "text/html": "COPY 31"
                    },
                    "metadata": {}
                },
                {
                    "output_type": "display_data",
                    "data": {
                        "text/html": "Total execution time: 00:00:00.013"
                    },
                    "metadata": {}
                }
            ],
            "execution_count": 34
        },
        {
            "cell_type": "code",
            "source": [
                "-- 15) Import data into dsci_504.order_taxes table\r\n",
                "COPY dsci_504.order_taxes(ord_id, tax_id)\r\n",
                "FROM 'C:\\PROJECTS\\Maryville\\DSCI-504\\Assignment\\Week2\\OPC_Data_Tables\\order_taxes.csv'\r\n",
                "DELIMITER ','\r\n",
                "CSV HEADER;"
            ],
            "metadata": {
                "language": "sql",
                "azdata_cell_guid": "9caf15f7-8e97-43e5-81fa-3a61fc898494",
                "tags": [
                    "hide_input"
                ]
            },
            "outputs": [
                {
                    "output_type": "error",
                    "evalue": "extra data after last expected column",
                    "ename": "",
                    "traceback": []
                },
                {
                    "output_type": "display_data",
                    "data": {
                        "text/html": "Total execution time: 00:00:00.005"
                    },
                    "metadata": {}
                }
            ],
            "execution_count": 35
        },
        {
            "cell_type": "markdown",
            "source": [
                "**Step 4: Execute a simple query on each table to verify the data in each table. Do not worry about missing data at this point. Limit your output to 10 lines using the following query syntax:**\n",
                "\n",
                "```\n",
                "SELECT * FROM [table] LIMIT 5;\n",
                "\n",
                "```"
            ],
            "metadata": {
                "azdata_cell_guid": "a2036fb1-5001-44a9-aa56-ef2b19e08dc1"
            },
            "attachments": {}
        },
        {
            "cell_type": "code",
            "source": [
                "-- 1) Select top 10 records from dsci_504.states table\r\n",
                "SELECT * FROM dsci_504.states LIMIT 10;"
            ],
            "metadata": {
                "azdata_cell_guid": "ce92d6d9-82f6-4c04-a4d9-6fe24891aec4",
                "language": "sql"
            },
            "outputs": [],
            "execution_count": null
        },
        {
            "cell_type": "code",
            "source": [
                "-- 2) Select top 10 records from dsci_504.customers table\r\n",
                "SELECT * FROM dsci_504.customers LIMIT 10;"
            ],
            "metadata": {
                "language": "sql",
                "azdata_cell_guid": "2eb5fc6f-2026-434e-80c6-884ce237819a"
            },
            "outputs": [],
            "execution_count": null
        },
        {
            "cell_type": "code",
            "source": [
                ""
            ],
            "metadata": {
                "language": "sql",
                "azdata_cell_guid": "07f815e1-bd5f-4329-85ea-498495904b91"
            },
            "outputs": [],
            "execution_count": null
        },
        {
            "cell_type": "code",
            "source": [
                ""
            ],
            "metadata": {
                "language": "sql",
                "azdata_cell_guid": "a866649a-f7f2-47d7-bb79-e2e6b38017db"
            },
            "outputs": [],
            "execution_count": null
        },
        {
            "cell_type": "code",
            "source": [
                ""
            ],
            "metadata": {
                "language": "sql",
                "azdata_cell_guid": "0d30a953-b5ff-4bfb-9760-ffe1d0c6f9e3"
            },
            "outputs": [],
            "execution_count": null
        },
        {
            "cell_type": "code",
            "source": [
                ""
            ],
            "metadata": {
                "language": "sql",
                "azdata_cell_guid": "7d65b63e-26d8-4e59-855a-a331d0adb72d"
            },
            "outputs": [],
            "execution_count": null
        },
        {
            "cell_type": "code",
            "source": [
                ""
            ],
            "metadata": {
                "language": "sql",
                "azdata_cell_guid": "068192d6-b5f3-43e5-ba9a-55ec1684e83d"
            },
            "outputs": [],
            "execution_count": null
        },
        {
            "cell_type": "code",
            "source": [
                ""
            ],
            "metadata": {
                "language": "sql",
                "azdata_cell_guid": "c4efbd0b-5110-42a6-a346-e079d9b27296"
            },
            "outputs": [],
            "execution_count": null
        },
        {
            "cell_type": "markdown",
            "source": [
                "**Step 5: Create primary keys within each of the newly created tables to elevate the database to 2NF. Some tables already have unique key columns that simply need to be identified as a Primary Key. (If you did this above when building the tables, simply run the below query for each table).Others may require a new column to do this. Run the below query after each table to validate the contstraints are placed on the tables.**\n",
                "\n",
                "```\n",
                "\n",
                "SELECT con.*\n",
                "    FROM pg_catalog.pg_constraint con\n",
                "        INNER JOIN pg_catalog.pg_class rel ON rel.oid = con.conrelid\n",
                "        INNER JOIN pg_catalog.pg_namespace nsp ON nsp.oid = connamespace\n",
                "        WHERE nsp.nspname = '{dsci_504}'\n",
                "             AND rel.relname = '{states}';\n",
                "\n",
                "```"
            ],
            "metadata": {
                "azdata_cell_guid": "994c2c3d-5c16-4081-94d6-28c7d137640f"
            },
            "attachments": {}
        },
        {
            "cell_type": "markdown",
            "source": [
                "**Step 6: CREATE foreign key associations for each table to elevate the database to 3NF. These should be done within each respective table. If this was completed above, note so and move on to Step 7.**"
            ],
            "metadata": {
                "azdata_cell_guid": "c536c9d5-cb5e-4736-af53-b4031da1c53a"
            },
            "attachments": {}
        },
        {
            "cell_type": "code",
            "source": [
                "--Enter your SQL code here"
            ],
            "metadata": {
                "azdata_cell_guid": "f4d5f0c9-7176-427b-baa6-79a7c6c60c25",
                "language": "sql"
            },
            "outputs": [
                {
                    "output_type": "display_data",
                    "data": {
                        "text/html": "Total execution time: 00:00:00"
                    },
                    "metadata": {}
                }
            ],
            "execution_count": 33
        },
        {
            "cell_type": "markdown",
            "source": [
                "**Step 7: Execute two queries of your choosing on two different tables in the database.**"
            ],
            "metadata": {
                "azdata_cell_guid": "0339e4e7-e0c7-44fa-9b83-7e3f18d9ed70"
            },
            "attachments": {}
        },
        {
            "cell_type": "code",
            "source": [
                "--Enter SQL code here"
            ],
            "metadata": {
                "azdata_cell_guid": "82dc9de8-73ad-4e8e-b24f-de943912e8d1",
                "language": "sql"
            },
            "outputs": [
                {
                    "output_type": "display_data",
                    "data": {
                        "text/html": "Total execution time: 00:00:00"
                    },
                    "metadata": {}
                }
            ],
            "execution_count": 34
        },
        {
            "cell_type": "code",
            "source": [
                "--Enter SQL code here"
            ],
            "metadata": {
                "language": "sql",
                "azdata_cell_guid": "38c74ccb-a361-4728-ac1b-a0413daf34d4"
            },
            "outputs": [
                {
                    "output_type": "display_data",
                    "data": {
                        "text/html": "Total execution time: 00:00:00"
                    },
                    "metadata": {}
                }
            ],
            "execution_count": 35
        }
    ]
}