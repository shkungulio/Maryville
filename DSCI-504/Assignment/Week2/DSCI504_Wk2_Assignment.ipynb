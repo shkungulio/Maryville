{
    "metadata": {
        "kernelspec": {
            "name": "SQL",
            "display_name": "SQL",
            "language": "sql"
        },
        "language_info": {
            "name": "sql",
            "version": ""
        }
    },
    "nbformat_minor": 2,
    "nbformat": 4,
    "cells": [
        {
            "cell_type": "markdown",
            "source": [
                "# DSCI 504\n",
                "\n",
                "## Week 2: Building the OPC Database\n",
                "\n",
                "### Student Name: SEIF KUNGULIO"
            ],
            "metadata": {
                "azdata_cell_guid": "800afac1-723c-43d8-bed1-9a1473526a3d"
            },
            "attachments": {}
        },
        {
            "cell_type": "markdown",
            "source": [
                "Assignment Objectives:\n",
                "\n",
                "1. Build a database schema\n",
                "2. Build database tables\n",
                "3. Identify and establish Primary and Foreign Keys\n",
                "4. Identify and establish key table Constraints\n",
                "5. Import data into PostgreSQL\n",
                "6. Query a table"
            ],
            "metadata": {
                "azdata_cell_guid": "e926db60-83fa-45b0-8abb-5fff6d5a190b"
            },
            "attachments": {}
        },
        {
            "cell_type": "markdown",
            "source": [
                "**Step 1: Create a new schema named 'dsci\\_504'.**"
            ],
            "metadata": {
                "azdata_cell_guid": "e15ed8e8-a114-4bb1-91dc-347fcf0e62bd"
            },
            "attachments": {}
        },
        {
            "cell_type": "code",
            "source": [
                "--Enter your SQL code here\r\n",
                "CREATE SCHEMA dsci_504"
            ],
            "metadata": {
                "azdata_cell_guid": "67902443-54b0-405c-980c-5135fac050a7",
                "language": "sql",
                "tags": []
            },
            "outputs": [
                {
                    "output_type": "display_data",
                    "data": {
                        "text/html": "CREATE SCHEMA"
                    },
                    "metadata": {}
                },
                {
                    "output_type": "display_data",
                    "data": {
                        "text/html": "Total execution time: 00:00:00.005"
                    },
                    "metadata": {}
                }
            ],
            "execution_count": 1
        },
        {
            "cell_type": "markdown",
            "source": [
                "**STEP 2: Create the necessary tables identified in the Assignemt 2 Table Structure document located in Canvas. Use a new code cell for each table.**"
            ],
            "metadata": {
                "azdata_cell_guid": "df31d0ba-68c3-4a9b-a3b6-ab38b9433eb4"
            },
            "attachments": {}
        },
        {
            "cell_type": "code",
            "source": [
                "--Enter your SQL code here. Use a single cell for each table/task. Do not enter all tables in one cell. It will be harder to troublsehoot errors.\r\n",
                "\r\n",
                "-- 1) Lookup: STATES\r\n",
                "CREATE TABLE dsci_504.states (\r\n",
                "  state_id   INT   PRIMARY KEY --The numerical state id from 1 to 50\r\n",
                "  ,state     TEXT  NOT NULL --The two-digit state digraph\r\n",
                ");"
            ],
            "metadata": {
                "azdata_cell_guid": "53302837-8b34-4010-8419-6d641fd80d65",
                "language": "sql",
                "tags": []
            },
            "outputs": [
                {
                    "output_type": "display_data",
                    "data": {
                        "text/html": "CREATE TABLE"
                    },
                    "metadata": {}
                },
                {
                    "output_type": "display_data",
                    "data": {
                        "text/html": "Total execution time: 00:00:00.026"
                    },
                    "metadata": {}
                }
            ],
            "execution_count": 2
        },
        {
            "cell_type": "code",
            "source": [
                "-- 2) CUSTOMERS\r\n",
                "CREATE TABLE dsci_504.customers (\r\n",
                "  cus_id         SERIAL PRIMARY KEY --The numerical customer ID\r\n",
                "  ,cus_num        TEXT --A unique customer number derived from the customer name and a generated number\r\n",
                "  ,cus_last_name  TEXT --Customer Last Name\r\n",
                "  ,cus_first_name TEXT --Customer First Name\r\n",
                "  ,cus_add_num    TEXT --Numerical house number\r\n",
                "  ,cus_address    TEXT --Line 2 address\r\n",
                "  ,cus_city       TEXT --Customer City\r\n",
                "  ,state_id       INT  NOT NULL REFERENCES dsci_504.states(state_id) --State ID\r\n",
                "  ,cus_zip        TEXT --5-digit zip code\r\n",
                "  ,cus_phone      TEXT --10-digit telephone\r\n",
                "  ,cus_join_date  DATE --Customer join date\r\n",
                "  ,cus_app_cd     TEXT --Customer appreication code (1-7)\r\n",
                "  ,cus_app_num    TEXT --Customer loyalty program number\r\n",
                ");"
            ],
            "metadata": {
                "language": "sql",
                "azdata_cell_guid": "bf24233b-4f21-46e7-b1e0-c25bfc6365b7",
                "tags": []
            },
            "outputs": [
                {
                    "output_type": "display_data",
                    "data": {
                        "text/html": "CREATE TABLE"
                    },
                    "metadata": {}
                },
                {
                    "output_type": "display_data",
                    "data": {
                        "text/html": "Total execution time: 00:00:00.052"
                    },
                    "metadata": {}
                }
            ],
            "execution_count": 3
        },
        {
            "cell_type": "code",
            "source": [
                "-- 3) WAREHOUSES\r\n",
                "CREATE TABLE dsci_504.warehouses (\r\n",
                "  warehouse_id   SERIAL PRIMARY KEY --Warehouse ID\r\n",
                "  ,warehouse_name TEXT  NOT NULL --Full city name of warehouse\r\n",
                "  ,state_id       INT   NOT NULL REFERENCES dsci_504.states(state_id) --Integer State ID\r\n",
                ");"
            ],
            "metadata": {
                "language": "sql",
                "azdata_cell_guid": "e9dd6ad2-b952-4169-8478-8d483cbb0875",
                "tags": []
            },
            "outputs": [
                {
                    "output_type": "display_data",
                    "data": {
                        "text/html": "CREATE TABLE"
                    },
                    "metadata": {}
                },
                {
                    "output_type": "display_data",
                    "data": {
                        "text/html": "Total execution time: 00:00:00.014"
                    },
                    "metadata": {}
                }
            ],
            "execution_count": 4
        },
        {
            "cell_type": "code",
            "source": [
                "-- 4) SUPPLIERS\r\n",
                "CREATE TABLE dsci_504.suppliers (\r\n",
                "  sup_id   SERIAL PRIMARY KEY --Supplier ID number\r\n",
                "  ,sup_name TEXT  NOT NULL --Supplier Text Name\r\n",
                "  ,sup_ctry TEXT --Supplier Country(s)\r\n",
                ");"
            ],
            "metadata": {
                "language": "sql",
                "azdata_cell_guid": "7a5ed930-0a4f-4024-8231-ddc093858004",
                "tags": []
            },
            "outputs": [
                {
                    "output_type": "display_data",
                    "data": {
                        "text/html": "CREATE TABLE"
                    },
                    "metadata": {}
                },
                {
                    "output_type": "display_data",
                    "data": {
                        "text/html": "Total execution time: 00:00:00.013"
                    },
                    "metadata": {}
                }
            ],
            "execution_count": 5
        },
        {
            "cell_type": "code",
            "source": [
                "-- 5) COMPONENTS\r\n",
                "CREATE TABLE dsci_504.components (\r\n",
                "  comp_id    SERIAL PRIMARY KEY --Component ID Number\r\n",
                "  ,comp_name  TEXT  NOT NULL --Name of Component\r\n",
                "  ,comp_cost  NUMERIC(10,2) --Cost of Component\r\n",
                "  ,sup_id     INT   REFERENCES dsci_504.suppliers(sup_id) --Supplier Integer ID\r\n",
                "  ,comp_cat   TEXT --Component category (bucketed)\r\n",
                ");"
            ],
            "metadata": {
                "language": "sql",
                "azdata_cell_guid": "48c18c1a-e305-4205-9aeb-6f1e527f7d83",
                "tags": []
            },
            "outputs": [
                {
                    "output_type": "display_data",
                    "data": {
                        "text/html": "CREATE TABLE"
                    },
                    "metadata": {}
                },
                {
                    "output_type": "display_data",
                    "data": {
                        "text/html": "Total execution time: 00:00:00.015"
                    },
                    "metadata": {}
                }
            ],
            "execution_count": 6
        },
        {
            "cell_type": "code",
            "source": [
                "-- 6) BUILDS\r\n",
                "CREATE TABLE dsci_504.builds (\r\n",
                "  build_id   SERIAL PRIMARY KEY --Build ID\r\n",
                "  ,build_name TEXT  NOT NULL --Build name\r\n",
                ");"
            ],
            "metadata": {
                "language": "sql",
                "azdata_cell_guid": "bd099239-1ba4-4e53-8c59-7e68b317e22b",
                "tags": []
            },
            "outputs": [
                {
                    "output_type": "display_data",
                    "data": {
                        "text/html": "CREATE TABLE"
                    },
                    "metadata": {}
                },
                {
                    "output_type": "display_data",
                    "data": {
                        "text/html": "Total execution time: 00:00:00.013"
                    },
                    "metadata": {}
                }
            ],
            "execution_count": 7
        },
        {
            "cell_type": "code",
            "source": [
                "-- 7) BUILD_COMPONENTS (many-to-many Builds ↔ Components)\r\n",
                "CREATE TABLE dsci_504.build_components (\r\n",
                "  build_id INT NOT NULL REFERENCES dsci_504.builds(build_id) --Integer Build ID\r\n",
                "  ,comp_id INT NOT NULL REFERENCES dsci_504.components(comp_id) --Integer Component ID\r\n",
                "  ,PRIMARY KEY (build_id, comp_id)\r\n",
                ");"
            ],
            "metadata": {
                "language": "sql",
                "azdata_cell_guid": "bcc5e8a1-590a-423d-8d10-5455bf0d92b2",
                "tags": []
            },
            "outputs": [
                {
                    "output_type": "display_data",
                    "data": {
                        "text/html": "CREATE TABLE"
                    },
                    "metadata": {}
                },
                {
                    "output_type": "display_data",
                    "data": {
                        "text/html": "Total execution time: 00:00:00.008"
                    },
                    "metadata": {}
                }
            ],
            "execution_count": 8
        },
        {
            "cell_type": "code",
            "source": [
                "-- 8) PRODUCTS\r\n",
                "CREATE TABLE dsci_504.products (\r\n",
                "  prod_id           SERIAL PRIMARY KEY --Product ID\r\n",
                "  ,prod_cat_name     TEXT --Product Category Name\r\n",
                "  ,prod_manufacturer TEXT --Product Manufacturer (could be Supplier)\r\n",
                "  ,prod_name         TEXT NOT NULL --Product Name\r\n",
                "  ,prod_description  TEXT --Product Description\r\n",
                "  ,prod_price        NUMERIC(10,2) --Product Price\r\n",
                "  ,prod_class        TEXT --Product Classification\r\n",
                "  ,country_origin    TEXT --Country of Origin\r\n",
                ");"
            ],
            "metadata": {
                "language": "sql",
                "azdata_cell_guid": "37e7acf1-79d4-47d1-a64b-c54ef288783a",
                "tags": []
            },
            "outputs": [
                {
                    "output_type": "display_data",
                    "data": {
                        "text/html": "CREATE TABLE"
                    },
                    "metadata": {}
                },
                {
                    "output_type": "display_data",
                    "data": {
                        "text/html": "Total execution time: 00:00:00.058"
                    },
                    "metadata": {}
                }
            ],
            "execution_count": 9
        },
        {
            "cell_type": "code",
            "source": [
                "-- 9) PRODUCT_BUILDS (many-to-many Products ↔ Builds)\r\n",
                "CREATE TABLE dsci_504.product_builds (\r\n",
                "  prod_id  INT NOT NULL REFERENCES dsci_504.products(prod_id) --Integer Product ID\r\n",
                "  ,build_id INT NOT NULL REFERENCES dsci_504.builds(build_id) --Integer Build ID\r\n",
                "  ,PRIMARY KEY (prod_id, build_id)\r\n",
                ");"
            ],
            "metadata": {
                "language": "sql",
                "azdata_cell_guid": "783a32a8-8068-45a6-8d6a-9b42bd76d6ff",
                "tags": []
            },
            "outputs": [
                {
                    "output_type": "display_data",
                    "data": {
                        "text/html": "CREATE TABLE"
                    },
                    "metadata": {}
                },
                {
                    "output_type": "display_data",
                    "data": {
                        "text/html": "Total execution time: 00:00:00.010"
                    },
                    "metadata": {}
                }
            ],
            "execution_count": 10
        },
        {
            "cell_type": "code",
            "source": [
                "-- 10) ORDERS (header)\r\n",
                "CREATE TABLE dsci_504.orders (\r\n",
                "  ord_id        SERIAL PRIMARY KEY --Order ID\r\n",
                "  ,ord_date      DATE  NOT NULL --Order Date\r\n",
                "  ,ord_tax_loc   INT --Order Tax Location (State)\r\n",
                "  ,order_tot     NUMERIC(12,2) --Order Total (all lines)\r\n",
                "  ,ord_ship_add  BOOLEAN --Order Ship Address is same as ordering customer\r\n",
                "  ,ord_ship_date DATE --Order Ship Date\r\n",
                "  ,ord_track_num TEXT --Order Tracking Number\r\n",
                "  ,warehouse_id  INT  REFERENCES dsci_504.warehouses(warehouse_id) --Integer Warehouse ID order shipped from\r\n",
                "  ,cus_id        INT  NOT NULL REFERENCES dsci_504.customers(cus_id) --Integer Customer ID placing order\r\n",
                ");"
            ],
            "metadata": {
                "language": "sql",
                "azdata_cell_guid": "7e051d07-3692-44f6-840e-efdefe99c20a",
                "tags": []
            },
            "outputs": [
                {
                    "output_type": "display_data",
                    "data": {
                        "text/html": "CREATE TABLE"
                    },
                    "metadata": {}
                },
                {
                    "output_type": "display_data",
                    "data": {
                        "text/html": "Total execution time: 00:00:00.014"
                    },
                    "metadata": {}
                }
            ],
            "execution_count": 11
        },
        {
            "cell_type": "code",
            "source": [
                "-- 11) ORDER_ITEMS (detail)\r\n",
                "CREATE TABLE dsci_504.order_items (\r\n",
                "  ord_id      INT  NOT NULL REFERENCES dsci_504.orders(ord_id) --Integer Order ID\r\n",
                "  ,prod_id    INT  NOT NULL REFERENCES dsci_504.products(prod_id) --Integer Product ID\r\n",
                "  ,quantity   INT  NOT NULL --Quantity ordered\r\n",
                "  ,line_total NUMERIC(12,2) NOT NULL --Total for item in line on order\r\n",
                "  ,PRIMARY KEY (ord_id, prod_id)\r\n",
                ");"
            ],
            "metadata": {
                "language": "sql",
                "azdata_cell_guid": "77ca2e11-9044-4ffd-beef-5e5aa0393ddf",
                "tags": []
            },
            "outputs": [
                {
                    "output_type": "display_data",
                    "data": {
                        "text/html": "CREATE TABLE"
                    },
                    "metadata": {}
                },
                {
                    "output_type": "display_data",
                    "data": {
                        "text/html": "Total execution time: 00:00:00.008"
                    },
                    "metadata": {}
                }
            ],
            "execution_count": 12
        },
        {
            "cell_type": "code",
            "source": [
                "-- 12) RETURNS (header)\r\n",
                "CREATE TABLE dsci_504.returns (\r\n",
                "  rac_id           SERIAL PRIMARY KEY --Return Authorization ID\r\n",
                "  ,ord_id           INT    NOT NULL REFERENCES dsci_504.orders(ord_id) --Integer Order ID\r\n",
                "  ,cus_id           INT    NOT NULL REFERENCES dsci_504.customers(cus_id) --Integer Customer ID\r\n",
                "  ,warehouse_id     INT    NOT NULL REFERENCES dsci_504.warehouses(warehouse_id) --Integer Warehouse ID\r\n",
                "  ,return_date      DATE   -- Return Date (date approved), previously was set to be NOT NULL\r\n",
                "  ,tot_ret_item_cnt INT --Number of items returned\r\n",
                "  ,tot_ret_amnt     NUMERIC(12,2) --Total of all returned items\r\n",
                ");"
            ],
            "metadata": {
                "language": "sql",
                "azdata_cell_guid": "a74e3005-0538-4996-9c02-93d6de4b3685",
                "tags": []
            },
            "outputs": [
                {
                    "output_type": "display_data",
                    "data": {
                        "text/html": "CREATE TABLE"
                    },
                    "metadata": {}
                },
                {
                    "output_type": "display_data",
                    "data": {
                        "text/html": "Total execution time: 00:00:00.016"
                    },
                    "metadata": {}
                }
            ],
            "execution_count": 13
        },
        {
            "cell_type": "markdown",
            "source": [
                "**Modifcations:**\n",
                "\n",
                "1\\. Removed \\`NOT NULL\\` constraints on the \\`return\\_date\\` column."
            ],
            "metadata": {
                "language": "sql",
                "azdata_cell_guid": "612391bc-1fae-4e45-815d-cdbd8b518438"
            },
            "attachments": {}
        },
        {
            "cell_type": "code",
            "source": [
                "-- 13) RETURN_ITEMS (detail)\r\n",
                "CREATE TABLE dsci_504.return_items (\r\n",
                "  rac_id        INT     NOT NULL REFERENCES dsci_504.returns(rac_id) --RAC ID\r\n",
                "  ,prod_id       INT     REFERENCES dsci_504.products(prod_id) --Integer Product ID\r\n",
                "  ,comp_id       INT     REFERENCES dsci_504.components(comp_id) -- Integer Component ID\r\n",
                "  ,return_qty    INT --Number of items returned on the line\r\n",
                "  ,return_amount NUMERIC(12,2) --Amount of item\r\n",
                "  ,return_reason TEXT --Returning reason (binned)\r\n",
                "  ,PRIMARY KEY (rac_id, prod_id, comp_id)\r\n",
                ");"
            ],
            "metadata": {
                "language": "sql",
                "azdata_cell_guid": "d1b1d5c5-a08d-4587-aedc-5c2e36da603c",
                "tags": []
            },
            "outputs": [
                {
                    "output_type": "display_data",
                    "data": {
                        "text/html": "CREATE TABLE"
                    },
                    "metadata": {}
                },
                {
                    "output_type": "display_data",
                    "data": {
                        "text/html": "Total execution time: 00:00:00.013"
                    },
                    "metadata": {}
                }
            ],
            "execution_count": 14
        },
        {
            "cell_type": "code",
            "source": [
                "-- 14) TAXES (lookup)\r\n",
                "CREATE TABLE dsci_504.taxes (\r\n",
                "  tax_id   SERIAL PRIMARY KEY --Integer ID\r\n",
                "  ,tax_desc TEXT --Description of tax location (state)\r\n",
                "  ,tax_rate NUMERIC(5,4) --Tax rate in whole percent\r\n",
                ");"
            ],
            "metadata": {
                "language": "sql",
                "azdata_cell_guid": "c467fef7-d854-4683-8b7b-0ae770e452ca",
                "tags": []
            },
            "outputs": [
                {
                    "output_type": "display_data",
                    "data": {
                        "text/html": "CREATE TABLE"
                    },
                    "metadata": {}
                },
                {
                    "output_type": "display_data",
                    "data": {
                        "text/html": "Total execution time: 00:00:00.059"
                    },
                    "metadata": {}
                }
            ],
            "execution_count": 15
        },
        {
            "cell_type": "code",
            "source": [
                "-- 15) ORDER_TAXES (bridge Orders ↔ Taxes)\r\n",
                "CREATE TABLE dsci_504.order_taxes (\r\n",
                "  ord_id INT NOT NULL REFERENCES dsci_504.orders(ord_id) --Integer Order ID\r\n",
                "  ,ord_date DATE --\r\n",
                "  ,tax_id INT NOT NULL REFERENCES dsci_504.taxes(tax_id) --Integer Tax ID\r\n",
                "  ,PRIMARY KEY (ord_id, tax_id)\r\n",
                ");"
            ],
            "metadata": {
                "language": "sql",
                "azdata_cell_guid": "7e7b59ef-960f-403c-b190-7f67f6ad4972",
                "tags": []
            },
            "outputs": [
                {
                    "output_type": "display_data",
                    "data": {
                        "text/html": "CREATE TABLE"
                    },
                    "metadata": {}
                },
                {
                    "output_type": "display_data",
                    "data": {
                        "text/html": "Total execution time: 00:00:00.017"
                    },
                    "metadata": {}
                }
            ],
            "execution_count": 16
        },
        {
            "cell_type": "markdown",
            "source": [
                "**Modifcations:**\n",
                "\n",
                "1\\. Added \\`ord\\_date\\` to the schema as this column is available in the \\`order\\_items.csv\\` file.\n",
                "\n",
                "2\\. Added \\`tax\\_id\\` column to the \\`order\\_taxes.csv\\` file with randomly \\`id\\` assigned.\n",
                "\n",
                "3\\. Deleted \\`tax\\_rate\\` column from the <span style=\"color: var(--vscode-foreground);\">`order_taxes.csv`&nbsp;</span> <span style=\"color: var(--vscode-foreground);\">file as it creates data redundancy.</span>"
            ],
            "metadata": {
                "language": "sql",
                "azdata_cell_guid": "c572437f-c375-4722-b03d-00d7f13c2066"
            },
            "attachments": {}
        },
        {
            "cell_type": "markdown",
            "source": [
                "**Step 3: Import the data into the OPC tables in PostgreSQL. Use a new code cell for each file.**"
            ],
            "metadata": {
                "azdata_cell_guid": "54900f51-56e1-4b21-b839-326374a158a2"
            },
            "attachments": {}
        },
        {
            "cell_type": "code",
            "source": [
                "--Enter your SQL code here. \r\n",
                "-- 1) Import data into dsci_504.states table\r\n",
                "COPY dsci_504.states(state_id, state)\r\n",
                "FROM 'C:\\PROJECTS\\Maryville\\DSCI-504\\Assignment\\Week2\\OPC_Data_Tables\\states.csv'\r\n",
                "DELIMITER ','\r\n",
                "CSV HEADER;"
            ],
            "metadata": {
                "azdata_cell_guid": "1ce12eb3-0a0e-485d-bccd-f8cfbb2a0039",
                "language": "sql",
                "tags": []
            },
            "outputs": [
                {
                    "output_type": "display_data",
                    "data": {
                        "text/html": "COPY 31"
                    },
                    "metadata": {}
                },
                {
                    "output_type": "display_data",
                    "data": {
                        "text/html": "Total execution time: 00:00:00.003"
                    },
                    "metadata": {}
                }
            ],
            "execution_count": 17
        },
        {
            "cell_type": "code",
            "source": [
                "-- 2) Import data into dsci_504.customers table\r\n",
                "COPY dsci_504.customers(cus_id, cus_num, cus_last_name, cus_first_name, cus_add_num, cus_address, \r\n",
                "cus_city, state_id, cus_zip, cus_phone, cus_join_date, cus_app_cd, cus_app_num)\r\n",
                "FROM 'C:\\PROJECTS\\Maryville\\DSCI-504\\Assignment\\Week2\\OPC_Data_Tables\\customers.csv'\r\n",
                "DELIMITER ','\r\n",
                "CSV HEADER;"
            ],
            "metadata": {
                "language": "sql",
                "azdata_cell_guid": "216e1e2d-d11a-466b-ac59-65c92b625336",
                "tags": []
            },
            "outputs": [
                {
                    "output_type": "display_data",
                    "data": {
                        "text/html": "COPY 2619"
                    },
                    "metadata": {}
                },
                {
                    "output_type": "display_data",
                    "data": {
                        "text/html": "Total execution time: 00:00:00.137"
                    },
                    "metadata": {}
                }
            ],
            "execution_count": 18
        },
        {
            "cell_type": "code",
            "source": [
                "-- 3) Import data into dsci_504.warehouses table\r\n",
                "COPY dsci_504.warehouses(warehouse_id, warehouse_name, state_id)\r\n",
                "FROM 'C:\\PROJECTS\\Maryville\\DSCI-504\\Assignment\\Week2\\OPC_Data_Tables\\warehouses.csv'\r\n",
                "DELIMITER ','\r\n",
                "CSV HEADER;"
            ],
            "metadata": {
                "language": "sql",
                "azdata_cell_guid": "97da98d3-bd60-455c-a2e6-533333d2a34e",
                "tags": []
            },
            "outputs": [
                {
                    "output_type": "display_data",
                    "data": {
                        "text/html": "COPY 3"
                    },
                    "metadata": {}
                },
                {
                    "output_type": "display_data",
                    "data": {
                        "text/html": "Total execution time: 00:00:00.030"
                    },
                    "metadata": {}
                }
            ],
            "execution_count": 19
        },
        {
            "cell_type": "code",
            "source": [
                "-- 4) Import data into dsci_504.suppliers table\r\n",
                "COPY dsci_504.suppliers(sup_id, sup_name, sup_ctry)\r\n",
                "FROM 'C:\\PROJECTS\\Maryville\\DSCI-504\\Assignment\\Week2\\OPC_Data_Tables\\suppliers.csv'\r\n",
                "DELIMITER ','\r\n",
                "CSV HEADER;"
            ],
            "metadata": {
                "language": "sql",
                "azdata_cell_guid": "1f6d5927-6306-4bb5-9cdf-0670bb87884e",
                "tags": []
            },
            "outputs": [
                {
                    "output_type": "display_data",
                    "data": {
                        "text/html": "COPY 72"
                    },
                    "metadata": {}
                },
                {
                    "output_type": "display_data",
                    "data": {
                        "text/html": "Total execution time: 00:00:00.005"
                    },
                    "metadata": {}
                }
            ],
            "execution_count": 20
        },
        {
            "cell_type": "code",
            "source": [
                "-- 5) Import data into dsci_504.components table\r\n",
                "COPY dsci_504.components(comp_id, comp_name, comp_cost, sup_id, comp_cat)\r\n",
                "FROM 'C:\\PROJECTS\\Maryville\\DSCI-504\\Assignment\\Week2\\OPC_Data_Tables\\components.csv'\r\n",
                "DELIMITER ','\r\n",
                "CSV HEADER;"
            ],
            "metadata": {
                "language": "sql",
                "azdata_cell_guid": "eb3de209-7942-4eda-bbc8-c6709557d73c",
                "tags": []
            },
            "outputs": [
                {
                    "output_type": "display_data",
                    "data": {
                        "text/html": "COPY 271"
                    },
                    "metadata": {}
                },
                {
                    "output_type": "display_data",
                    "data": {
                        "text/html": "Total execution time: 00:00:00.018"
                    },
                    "metadata": {}
                }
            ],
            "execution_count": 21
        },
        {
            "cell_type": "code",
            "source": [
                "-- 6) Import data into dsci_504.builds table\r\n",
                "COPY dsci_504.builds(build_id, build_name)\r\n",
                "FROM 'C:\\PROJECTS\\Maryville\\DSCI-504\\Assignment\\Week2\\OPC_Data_Tables\\builds.csv'\r\n",
                "DELIMITER ','\r\n",
                "CSV HEADER;"
            ],
            "metadata": {
                "language": "sql",
                "azdata_cell_guid": "fb1fe094-1999-40e8-9577-9edf9c719113",
                "tags": []
            },
            "outputs": [
                {
                    "output_type": "display_data",
                    "data": {
                        "text/html": "COPY 80"
                    },
                    "metadata": {}
                },
                {
                    "output_type": "display_data",
                    "data": {
                        "text/html": "Total execution time: 00:00:00.004"
                    },
                    "metadata": {}
                }
            ],
            "execution_count": 22
        },
        {
            "cell_type": "code",
            "source": [
                "-- 7) Import data into dsci_504.build_components table\r\n",
                "COPY dsci_504.build_components(build_id, comp_id)\r\n",
                "FROM 'C:\\PROJECTS\\Maryville\\DSCI-504\\Assignment\\Week2\\OPC_Data_Tables\\build_components.csv'\r\n",
                "DELIMITER ','\r\n",
                "CSV HEADER;"
            ],
            "metadata": {
                "language": "sql",
                "azdata_cell_guid": "12f86d7b-a2cc-470c-95b7-cf8541682f16",
                "tags": []
            },
            "outputs": [
                {
                    "output_type": "display_data",
                    "data": {
                        "text/html": "COPY 691"
                    },
                    "metadata": {}
                },
                {
                    "output_type": "display_data",
                    "data": {
                        "text/html": "Total execution time: 00:00:00.059"
                    },
                    "metadata": {}
                }
            ],
            "execution_count": 23
        },
        {
            "cell_type": "code",
            "source": [
                "-- 8) Import data into dsci_504.products table\r\n",
                "COPY dsci_504.products(prod_id,prod_cat_name,prod_manufacturer,prod_name,prod_description,prod_price,prod_class,country_origin)\r\n",
                "FROM 'C:\\PROJECTS\\Maryville\\DSCI-504\\Assignment\\Week2\\OPC_Data_Tables\\products.csv'\r\n",
                "DELIMITER ','\r\n",
                "CSV HEADER;"
            ],
            "metadata": {
                "language": "sql",
                "azdata_cell_guid": "d1927080-7346-44ea-9340-7741638fd921",
                "tags": []
            },
            "outputs": [
                {
                    "output_type": "display_data",
                    "data": {
                        "text/html": "COPY 69"
                    },
                    "metadata": {}
                },
                {
                    "output_type": "display_data",
                    "data": {
                        "text/html": "Total execution time: 00:00:00.015"
                    },
                    "metadata": {}
                }
            ],
            "execution_count": 24
        },
        {
            "cell_type": "code",
            "source": [
                "-- 9) Import data into dsci_504.product_builds table\r\n",
                "COPY dsci_504.product_builds(prod_id, build_id)\r\n",
                "FROM 'C:\\PROJECTS\\Maryville\\DSCI-504\\Assignment\\Week2\\OPC_Data_Tables\\product_builds.csv'\r\n",
                "DELIMITER ','\r\n",
                "CSV HEADER;"
            ],
            "metadata": {
                "language": "sql",
                "azdata_cell_guid": "c4289348-5a3b-4e29-906b-cd9b535f44cd",
                "tags": []
            },
            "outputs": [
                {
                    "output_type": "display_data",
                    "data": {
                        "text/html": "COPY 69"
                    },
                    "metadata": {}
                },
                {
                    "output_type": "display_data",
                    "data": {
                        "text/html": "Total execution time: 00:00:00.016"
                    },
                    "metadata": {}
                }
            ],
            "execution_count": 25
        },
        {
            "cell_type": "code",
            "source": [
                "-- 10) Import data into dsci_504.orders table\r\n",
                "COPY dsci_504.orders(ord_id, ord_date, ord_tax_loc, order_tot, ord_ship_add, \r\n",
                "ord_ship_date, ord_track_num, warehouse_id, cus_id)\r\n",
                "FROM 'C:\\PROJECTS\\Maryville\\DSCI-504\\Assignment\\Week2\\OPC_Data_Tables\\orders.csv'\r\n",
                "DELIMITER ','\r\n",
                "CSV HEADER;"
            ],
            "metadata": {
                "language": "sql",
                "azdata_cell_guid": "6d2c9ff0-a3cc-49d5-893e-6ae010b89a4f",
                "tags": []
            },
            "outputs": [
                {
                    "output_type": "display_data",
                    "data": {
                        "text/html": "COPY 2599"
                    },
                    "metadata": {}
                },
                {
                    "output_type": "display_data",
                    "data": {
                        "text/html": "Total execution time: 00:00:00.404"
                    },
                    "metadata": {}
                }
            ],
            "execution_count": 26
        },
        {
            "cell_type": "code",
            "source": [
                "-- 11) Import data into dsci_504.order_items table\r\n",
                "COPY dsci_504.order_items(ord_id, prod_id, quantity, line_total)\r\n",
                "FROM 'C:\\PROJECTS\\Maryville\\DSCI-504\\Assignment\\Week2\\OPC_Data_Tables\\order_items.csv'\r\n",
                "DELIMITER ','\r\n",
                "CSV HEADER;"
            ],
            "metadata": {
                "language": "sql",
                "azdata_cell_guid": "59aaf4d6-edff-49ae-ab1d-d05c282eba89",
                "tags": []
            },
            "outputs": [
                {
                    "output_type": "display_data",
                    "data": {
                        "text/html": "COPY 2599"
                    },
                    "metadata": {}
                },
                {
                    "output_type": "display_data",
                    "data": {
                        "text/html": "Total execution time: 00:00:00.810"
                    },
                    "metadata": {}
                }
            ],
            "execution_count": 27
        },
        {
            "cell_type": "code",
            "source": [
                "-- 12) Import data into dsci_504.returns table\r\n",
                "COPY dsci_504.returns(rac_id, ord_id, cus_id, warehouse_id, return_date, tot_ret_item_cnt, tot_ret_amnt)\r\n",
                "FROM 'C:\\PROJECTS\\Maryville\\DSCI-504\\Assignment\\Week2\\OPC_Data_Tables\\returns.csv'\r\n",
                "DELIMITER ','\r\n",
                "CSV HEADER;"
            ],
            "metadata": {
                "language": "sql",
                "azdata_cell_guid": "2299647b-2598-48a1-bf94-ae1fb1abaf46",
                "tags": []
            },
            "outputs": [
                {
                    "output_type": "display_data",
                    "data": {
                        "text/html": "COPY 1024"
                    },
                    "metadata": {}
                },
                {
                    "output_type": "display_data",
                    "data": {
                        "text/html": "Total execution time: 00:00:00.215"
                    },
                    "metadata": {}
                }
            ],
            "execution_count": 28
        },
        {
            "cell_type": "markdown",
            "source": [
                "**Modifications:**\n",
                "\n",
                "1\\. Inserted \\`return\\_date\\` column in the \\`returns.csv\\` file\n",
                "\n",
                "2\\. Using find and replace tool in excel, I changed all \\`0\\` occurences in \\`warehouse\\_id\\` column to \\`1\\` as there is no \\`0\\` index in the \\`warehouses.csv\\` file."
            ],
            "metadata": {
                "language": "sql",
                "azdata_cell_guid": "cd0f423c-d10c-4aa7-80c9-9f9732ee81a2"
            },
            "attachments": {}
        },
        {
            "cell_type": "code",
            "source": [
                "-- 13) Import data into dsci_504.return_items table\r\n",
                "COPY dsci_504.return_items(rac_id, prod_id, comp_id, return_qty, return_amount, return_reason)\r\n",
                "FROM 'C:\\PROJECTS\\Maryville\\DSCI-504\\Assignment\\Week2\\OPC_Data_Tables\\return_items.csv'\r\n",
                "DELIMITER ','\r\n",
                "CSV HEADER;"
            ],
            "metadata": {
                "language": "sql",
                "azdata_cell_guid": "5338e4ac-4d69-4e3b-9383-c7c14b50ce41",
                "tags": []
            },
            "outputs": [
                {
                    "output_type": "display_data",
                    "data": {
                        "text/html": "COPY 1024"
                    },
                    "metadata": {}
                },
                {
                    "output_type": "display_data",
                    "data": {
                        "text/html": "Total execution time: 00:00:00.226"
                    },
                    "metadata": {}
                }
            ],
            "execution_count": 29
        },
        {
            "cell_type": "markdown",
            "source": [
                "Modifications:\n",
                "\n",
                "1\\. Inserted \\`retrun\\_reason\\` column in the \\`return\\_items.csv\\` file."
            ],
            "metadata": {
                "language": "sql",
                "azdata_cell_guid": "0e3020e0-1bea-4733-a6ed-cb1e486e946e"
            },
            "attachments": {}
        },
        {
            "cell_type": "code",
            "source": [
                "-- 14) Import data into dsci_504.taxes table\r\n",
                "COPY dsci_504.taxes(tax_id, tax_desc, tax_rate)\r\n",
                "FROM 'C:\\PROJECTS\\Maryville\\DSCI-504\\Assignment\\Week2\\OPC_Data_Tables\\taxes.csv'\r\n",
                "DELIMITER ','\r\n",
                "CSV HEADER;"
            ],
            "metadata": {
                "language": "sql",
                "azdata_cell_guid": "53bb6a8b-faed-4c98-972c-ff021f242e3b",
                "tags": []
            },
            "outputs": [
                {
                    "output_type": "display_data",
                    "data": {
                        "text/html": "COPY 31"
                    },
                    "metadata": {}
                },
                {
                    "output_type": "display_data",
                    "data": {
                        "text/html": "Total execution time: 00:00:00.009"
                    },
                    "metadata": {}
                }
            ],
            "execution_count": 30
        },
        {
            "cell_type": "code",
            "source": [
                "-- 15) Import data into dsci_504.order_taxes table\r\n",
                "COPY dsci_504.order_taxes(ord_id, ord_date, tax_id)\r\n",
                "FROM 'C:\\PROJECTS\\Maryville\\DSCI-504\\Assignment\\Week2\\OPC_Data_Tables\\order_taxes.csv'\r\n",
                "DELIMITER ','\r\n",
                "CSV HEADER;"
            ],
            "metadata": {
                "language": "sql",
                "azdata_cell_guid": "9caf15f7-8e97-43e5-81fa-3a61fc898494",
                "tags": []
            },
            "outputs": [
                {
                    "output_type": "display_data",
                    "data": {
                        "text/html": "COPY 2599"
                    },
                    "metadata": {}
                },
                {
                    "output_type": "display_data",
                    "data": {
                        "text/html": "Total execution time: 00:00:00.577"
                    },
                    "metadata": {}
                }
            ],
            "execution_count": 31
        },
        {
            "cell_type": "markdown",
            "source": [
                "**Step 4: Execute a simple query on each table to verify the data in each table. Do not worry about missing data at this point. Limit your output to 10 lines using the following query syntax:**\n",
                "\n",
                "```\n",
                "SELECT * FROM [schema.table] LIMIT 5;\n",
                "\n",
                "```"
            ],
            "metadata": {
                "azdata_cell_guid": "a2036fb1-5001-44a9-aa56-ef2b19e08dc1"
            },
            "attachments": {}
        },
        {
            "cell_type": "code",
            "source": [
                "-- 1) Select top 10 records from dsci_504.states table\r\n",
                "SELECT *\r\n",
                "FROM dsci_504.states\r\n",
                "LIMIT 10;"
            ],
            "metadata": {
                "azdata_cell_guid": "ce92d6d9-82f6-4c04-a4d9-6fe24891aec4",
                "language": "sql"
            },
            "outputs": [
                {
                    "output_type": "display_data",
                    "data": {
                        "text/html": "(10 row(s) affected)"
                    },
                    "metadata": {}
                },
                {
                    "output_type": "display_data",
                    "data": {
                        "text/html": "Total execution time: 00:00:00.010"
                    },
                    "metadata": {}
                },
                {
                    "output_type": "execute_result",
                    "metadata": {},
                    "execution_count": 32,
                    "data": {
                        "application/vnd.dataresource+json": {
                            "schema": {
                                "fields": [
                                    {
                                        "name": "state_id"
                                    },
                                    {
                                        "name": "state"
                                    }
                                ]
                            },
                            "data": [
                                {
                                    "state_id": "1",
                                    "state": "AK"
                                },
                                {
                                    "state_id": "2",
                                    "state": "AL"
                                },
                                {
                                    "state_id": "3",
                                    "state": "AZ"
                                },
                                {
                                    "state_id": "4",
                                    "state": "CA"
                                },
                                {
                                    "state_id": "5",
                                    "state": "CO"
                                },
                                {
                                    "state_id": "6",
                                    "state": "CT"
                                },
                                {
                                    "state_id": "7",
                                    "state": "DE"
                                },
                                {
                                    "state_id": "8",
                                    "state": "FL"
                                },
                                {
                                    "state_id": "9",
                                    "state": "GA"
                                },
                                {
                                    "state_id": "10",
                                    "state": "HI"
                                }
                            ]
                        },
                        "text/html": [
                            "<table>",
                            "<tr><th>state_id</th><th>state</th></tr>",
                            "<tr><td>1</td><td>AK</td></tr>",
                            "<tr><td>2</td><td>AL</td></tr>",
                            "<tr><td>3</td><td>AZ</td></tr>",
                            "<tr><td>4</td><td>CA</td></tr>",
                            "<tr><td>5</td><td>CO</td></tr>",
                            "<tr><td>6</td><td>CT</td></tr>",
                            "<tr><td>7</td><td>DE</td></tr>",
                            "<tr><td>8</td><td>FL</td></tr>",
                            "<tr><td>9</td><td>GA</td></tr>",
                            "<tr><td>10</td><td>HI</td></tr>",
                            "</table>"
                        ]
                    }
                }
            ],
            "execution_count": 32
        },
        {
            "cell_type": "code",
            "source": [
                "-- 2) Select top 10 records from dsci_504.customers table\r\n",
                "SELECT *\r\n",
                "FROM dsci_504.customers\r\n",
                "LIMIT 10;"
            ],
            "metadata": {
                "language": "sql",
                "azdata_cell_guid": "2eb5fc6f-2026-434e-80c6-884ce237819a"
            },
            "outputs": [
                {
                    "output_type": "display_data",
                    "data": {
                        "text/html": "(10 row(s) affected)"
                    },
                    "metadata": {}
                },
                {
                    "output_type": "display_data",
                    "data": {
                        "text/html": "Total execution time: 00:00:00.009"
                    },
                    "metadata": {}
                },
                {
                    "output_type": "execute_result",
                    "metadata": {},
                    "execution_count": 33,
                    "data": {
                        "application/vnd.dataresource+json": {
                            "schema": {
                                "fields": [
                                    {
                                        "name": "cus_id"
                                    },
                                    {
                                        "name": "cus_num"
                                    },
                                    {
                                        "name": "cus_last_name"
                                    },
                                    {
                                        "name": "cus_first_name"
                                    },
                                    {
                                        "name": "cus_add_num"
                                    },
                                    {
                                        "name": "cus_address"
                                    },
                                    {
                                        "name": "cus_city"
                                    },
                                    {
                                        "name": "state_id"
                                    },
                                    {
                                        "name": "cus_zip"
                                    },
                                    {
                                        "name": "cus_phone"
                                    },
                                    {
                                        "name": "cus_join_date"
                                    },
                                    {
                                        "name": "cus_app_cd"
                                    },
                                    {
                                        "name": "cus_app_num"
                                    }
                                ]
                            },
                            "data": [
                                {
                                    "cus_id": "2600",
                                    "cus_num": "NULL",
                                    "cus_last_name": "Holzer",
                                    "cus_first_name": "Yeni",
                                    "cus_add_num": "8617",
                                    "cus_address": "High Noon Street",
                                    "cus_city": "Hattiesburg",
                                    "state_id": "17",
                                    "cus_zip": "39401",
                                    "cus_phone": "7833472627",
                                    "cus_join_date": "2020-11-22",
                                    "cus_app_cd": "5",
                                    "cus_app_num": "OPC85554622"
                                },
                                {
                                    "cus_id": "2601",
                                    "cus_num": "NULL",
                                    "cus_last_name": "Hull",
                                    "cus_first_name": "Tancredo",
                                    "cus_add_num": "7673",
                                    "cus_address": "Cedat Camp Road",
                                    "cus_city": "Oswego",
                                    "state_id": "19",
                                    "cus_zip": "13126",
                                    "cus_phone": "5154255063",
                                    "cus_join_date": "2020-04-19",
                                    "cus_app_cd": "9",
                                    "cus_app_num": "OPC86688258"
                                },
                                {
                                    "cus_id": "2602",
                                    "cus_num": "NULL",
                                    "cus_last_name": "Sokol",
                                    "cus_first_name": "Teodor",
                                    "cus_add_num": "965",
                                    "cus_address": "Southampton",
                                    "cus_city": "Salt Lake City",
                                    "state_id": "26",
                                    "cus_zip": "84119",
                                    "cus_phone": "8802052764",
                                    "cus_join_date": "2020-04-15",
                                    "cus_app_cd": "14",
                                    "cus_app_num": "OPC87710870"
                                },
                                {
                                    "cus_id": "2603",
                                    "cus_num": "NULL",
                                    "cus_last_name": "Barnes",
                                    "cus_first_name": "Theo",
                                    "cus_add_num": "270",
                                    "cus_address": "High Noon Ave",
                                    "cus_city": "Coram",
                                    "state_id": "19",
                                    "cus_zip": "11727",
                                    "cus_phone": "2779494240",
                                    "cus_join_date": "2020-09-14",
                                    "cus_app_cd": "18",
                                    "cus_app_num": "OPC78993136"
                                },
                                {
                                    "cus_id": "2604",
                                    "cus_num": "NULL",
                                    "cus_last_name": "Tempest",
                                    "cus_first_name": "Simone",
                                    "cus_add_num": "751",
                                    "cus_address": "East Shadow Brook Dr.",
                                    "cus_city": "Pataskala",
                                    "state_id": "20",
                                    "cus_zip": "43062",
                                    "cus_phone": "7692163675",
                                    "cus_join_date": "2020-06-24",
                                    "cus_app_cd": "11",
                                    "cus_app_num": "OPC86812641"
                                },
                                {
                                    "cus_id": "2605",
                                    "cus_num": "NULL",
                                    "cus_last_name": "Bullock",
                                    "cus_first_name": "Pankaj",
                                    "cus_add_num": "7524",
                                    "cus_address": "Van Dyke St.",
                                    "cus_city": "Southampton",
                                    "state_id": "22",
                                    "cus_zip": "18966",
                                    "cus_phone": "2812450867",
                                    "cus_join_date": "2020-03-20",
                                    "cus_app_cd": "3",
                                    "cus_app_num": "OPC85939415"
                                },
                                {
                                    "cus_id": "2606",
                                    "cus_num": "NULL",
                                    "cus_last_name": "Ware",
                                    "cus_first_name": "Reina",
                                    "cus_add_num": "656",
                                    "cus_address": "Grand Ave",
                                    "cus_city": "Los Angeles",
                                    "state_id": "4",
                                    "cus_zip": "90008",
                                    "cus_phone": "3902290668",
                                    "cus_join_date": "2020-09-21",
                                    "cus_app_cd": "6",
                                    "cus_app_num": "OPC86472716"
                                },
                                {
                                    "cus_id": "2607",
                                    "cus_num": "NULL",
                                    "cus_last_name": "Ray",
                                    "cus_first_name": "Rosalin",
                                    "cus_add_num": "8564",
                                    "cus_address": "Old Woodland Rd",
                                    "cus_city": "Cranston",
                                    "state_id": "23",
                                    "cus_zip": "2920",
                                    "cus_phone": "7944432375",
                                    "cus_join_date": "2020-06-06",
                                    "cus_app_cd": "9",
                                    "cus_app_num": "OPC87091916"
                                },
                                {
                                    "cus_id": "2608",
                                    "cus_num": "NULL",
                                    "cus_last_name": "Stark",
                                    "cus_first_name": "Herb",
                                    "cus_add_num": "7291",
                                    "cus_address": "Race St.",
                                    "cus_city": "Ithaca",
                                    "state_id": "19",
                                    "cus_zip": "14850",
                                    "cus_phone": "2978433949",
                                    "cus_join_date": "2020-06-27",
                                    "cus_app_cd": "5",
                                    "cus_app_num": "OPC87321099"
                                },
                                {
                                    "cus_id": "2609",
                                    "cus_num": "NULL",
                                    "cus_last_name": "Bohme",
                                    "cus_first_name": "Bohuslav",
                                    "cus_add_num": "135",
                                    "cus_address": "Homewood Ln",
                                    "cus_city": "Merrimack",
                                    "state_id": "19",
                                    "cus_zip": "3054",
                                    "cus_phone": "3147113467",
                                    "cus_join_date": "2020-12-12",
                                    "cus_app_cd": "19",
                                    "cus_app_num": "OPC86853764"
                                }
                            ]
                        },
                        "text/html": [
                            "<table>",
                            "<tr><th>cus_id</th><th>cus_num</th><th>cus_last_name</th><th>cus_first_name</th><th>cus_add_num</th><th>cus_address</th><th>cus_city</th><th>state_id</th><th>cus_zip</th><th>cus_phone</th><th>cus_join_date</th><th>cus_app_cd</th><th>cus_app_num</th></tr>",
                            "<tr><td>2600</td><td>NULL</td><td>Holzer</td><td>Yeni</td><td>8617</td><td>High Noon Street</td><td>Hattiesburg</td><td>17</td><td>39401</td><td>7833472627</td><td>2020-11-22</td><td>5</td><td>OPC85554622</td></tr>",
                            "<tr><td>2601</td><td>NULL</td><td>Hull</td><td>Tancredo</td><td>7673</td><td>Cedat Camp Road</td><td>Oswego</td><td>19</td><td>13126</td><td>5154255063</td><td>2020-04-19</td><td>9</td><td>OPC86688258</td></tr>",
                            "<tr><td>2602</td><td>NULL</td><td>Sokol</td><td>Teodor</td><td>965</td><td>Southampton</td><td>Salt Lake City</td><td>26</td><td>84119</td><td>8802052764</td><td>2020-04-15</td><td>14</td><td>OPC87710870</td></tr>",
                            "<tr><td>2603</td><td>NULL</td><td>Barnes</td><td>Theo</td><td>270</td><td>High Noon Ave</td><td>Coram</td><td>19</td><td>11727</td><td>2779494240</td><td>2020-09-14</td><td>18</td><td>OPC78993136</td></tr>",
                            "<tr><td>2604</td><td>NULL</td><td>Tempest</td><td>Simone</td><td>751</td><td>East Shadow Brook Dr.</td><td>Pataskala</td><td>20</td><td>43062</td><td>7692163675</td><td>2020-06-24</td><td>11</td><td>OPC86812641</td></tr>",
                            "<tr><td>2605</td><td>NULL</td><td>Bullock</td><td>Pankaj</td><td>7524</td><td>Van Dyke St.</td><td>Southampton</td><td>22</td><td>18966</td><td>2812450867</td><td>2020-03-20</td><td>3</td><td>OPC85939415</td></tr>",
                            "<tr><td>2606</td><td>NULL</td><td>Ware</td><td>Reina</td><td>656</td><td>Grand Ave</td><td>Los Angeles</td><td>4</td><td>90008</td><td>3902290668</td><td>2020-09-21</td><td>6</td><td>OPC86472716</td></tr>",
                            "<tr><td>2607</td><td>NULL</td><td>Ray</td><td>Rosalin</td><td>8564</td><td>Old Woodland Rd</td><td>Cranston</td><td>23</td><td>2920</td><td>7944432375</td><td>2020-06-06</td><td>9</td><td>OPC87091916</td></tr>",
                            "<tr><td>2608</td><td>NULL</td><td>Stark</td><td>Herb</td><td>7291</td><td>Race St.</td><td>Ithaca</td><td>19</td><td>14850</td><td>2978433949</td><td>2020-06-27</td><td>5</td><td>OPC87321099</td></tr>",
                            "<tr><td>2609</td><td>NULL</td><td>Bohme</td><td>Bohuslav</td><td>135</td><td>Homewood Ln</td><td>Merrimack</td><td>19</td><td>3054</td><td>3147113467</td><td>2020-12-12</td><td>19</td><td>OPC86853764</td></tr>",
                            "</table>"
                        ]
                    }
                }
            ],
            "execution_count": 33
        },
        {
            "cell_type": "code",
            "source": [
                "-- 3) Select top 10 records from dsci_504.components table\r\n",
                "SELECT *\r\n",
                "FROM dsci_504.components\r\n",
                "LIMIT 10;"
            ],
            "metadata": {
                "language": "sql",
                "azdata_cell_guid": "07f815e1-bd5f-4329-85ea-498495904b91"
            },
            "outputs": [
                {
                    "output_type": "display_data",
                    "data": {
                        "text/html": "(10 row(s) affected)"
                    },
                    "metadata": {}
                },
                {
                    "output_type": "display_data",
                    "data": {
                        "text/html": "Total execution time: 00:00:00.009"
                    },
                    "metadata": {}
                },
                {
                    "output_type": "execute_result",
                    "metadata": {},
                    "execution_count": 34,
                    "data": {
                        "application/vnd.dataresource+json": {
                            "schema": {
                                "fields": [
                                    {
                                        "name": "comp_id"
                                    },
                                    {
                                        "name": "comp_name"
                                    },
                                    {
                                        "name": "comp_cost"
                                    },
                                    {
                                        "name": "sup_id"
                                    },
                                    {
                                        "name": "comp_cat"
                                    }
                                ]
                            },
                            "data": [
                                {
                                    "comp_id": "1",
                                    "comp_name": "Giant Contact SLR",
                                    "comp_cost": "143.00",
                                    "sup_id": "1",
                                    "comp_cat": "handlebar"
                                },
                                {
                                    "comp_id": "2",
                                    "comp_name": "Rida Alpha R27",
                                    "comp_cost": "136.00",
                                    "sup_id": "2",
                                    "comp_cat": "handlebar"
                                },
                                {
                                    "comp_id": "3",
                                    "comp_name": "Niner Flat Top",
                                    "comp_cost": "118.00",
                                    "sup_id": "3",
                                    "comp_cat": "handlebar"
                                },
                                {
                                    "comp_id": "4",
                                    "comp_name": "Enve M7 Carb",
                                    "comp_cost": "69.00",
                                    "sup_id": "4",
                                    "comp_cat": "handlebar"
                                },
                                {
                                    "comp_id": "5",
                                    "comp_name": "e13 base",
                                    "comp_cost": "91.00",
                                    "sup_id": "5",
                                    "comp_cat": "handlebar"
                                },
                                {
                                    "comp_id": "6",
                                    "comp_name": "RaceFace NextR Carbon",
                                    "comp_cost": "129.00",
                                    "sup_id": "6",
                                    "comp_cat": "handlebar"
                                },
                                {
                                    "comp_id": "7",
                                    "comp_name": "OC1",
                                    "comp_cost": "51.00",
                                    "sup_id": "61",
                                    "comp_cat": "handlebar"
                                },
                                {
                                    "comp_id": "8",
                                    "comp_name": "Kona XC",
                                    "comp_cost": "76.00",
                                    "sup_id": "8",
                                    "comp_cat": "handlebar"
                                },
                                {
                                    "comp_id": "11",
                                    "comp_name": "Newman Evo",
                                    "comp_cost": "143.00",
                                    "sup_id": "11",
                                    "comp_cat": "handlebar"
                                },
                                {
                                    "comp_id": "12",
                                    "comp_name": "OC3 Carbon",
                                    "comp_cost": "82.00",
                                    "sup_id": "61",
                                    "comp_cat": "handlebar"
                                }
                            ]
                        },
                        "text/html": [
                            "<table>",
                            "<tr><th>comp_id</th><th>comp_name</th><th>comp_cost</th><th>sup_id</th><th>comp_cat</th></tr>",
                            "<tr><td>1</td><td>Giant Contact SLR</td><td>143.00</td><td>1</td><td>handlebar</td></tr>",
                            "<tr><td>2</td><td>Rida Alpha R27</td><td>136.00</td><td>2</td><td>handlebar</td></tr>",
                            "<tr><td>3</td><td>Niner Flat Top</td><td>118.00</td><td>3</td><td>handlebar</td></tr>",
                            "<tr><td>4</td><td>Enve M7 Carb</td><td>69.00</td><td>4</td><td>handlebar</td></tr>",
                            "<tr><td>5</td><td>e13 base</td><td>91.00</td><td>5</td><td>handlebar</td></tr>",
                            "<tr><td>6</td><td>RaceFace NextR Carbon</td><td>129.00</td><td>6</td><td>handlebar</td></tr>",
                            "<tr><td>7</td><td>OC1</td><td>51.00</td><td>61</td><td>handlebar</td></tr>",
                            "<tr><td>8</td><td>Kona XC</td><td>76.00</td><td>8</td><td>handlebar</td></tr>",
                            "<tr><td>11</td><td>Newman Evo</td><td>143.00</td><td>11</td><td>handlebar</td></tr>",
                            "<tr><td>12</td><td>OC3 Carbon</td><td>82.00</td><td>61</td><td>handlebar</td></tr>",
                            "</table>"
                        ]
                    }
                }
            ],
            "execution_count": 34
        },
        {
            "cell_type": "code",
            "source": [
                "-- 4) Select top 10 records from dsci_504.suppliers table\r\n",
                "SELECT *\r\n",
                "FROM dsci_504.suppliers\r\n",
                "LIMIT 10;"
            ],
            "metadata": {
                "language": "sql",
                "azdata_cell_guid": "a866649a-f7f2-47d7-bb79-e2e6b38017db"
            },
            "outputs": [
                {
                    "output_type": "display_data",
                    "data": {
                        "text/html": "(10 row(s) affected)"
                    },
                    "metadata": {}
                },
                {
                    "output_type": "display_data",
                    "data": {
                        "text/html": "Total execution time: 00:00:00.010"
                    },
                    "metadata": {}
                },
                {
                    "output_type": "execute_result",
                    "metadata": {},
                    "execution_count": 35,
                    "data": {
                        "application/vnd.dataresource+json": {
                            "schema": {
                                "fields": [
                                    {
                                        "name": "sup_id"
                                    },
                                    {
                                        "name": "sup_name"
                                    },
                                    {
                                        "name": "sup_ctry"
                                    }
                                ]
                            },
                            "data": [
                                {
                                    "sup_id": "1",
                                    "sup_name": "Giant",
                                    "sup_ctry": "Taiwan"
                                },
                                {
                                    "sup_id": "2",
                                    "sup_name": "Ride Alpha",
                                    "sup_ctry": "Andorra"
                                },
                                {
                                    "sup_id": "3",
                                    "sup_name": "Niner",
                                    "sup_ctry": "USA"
                                },
                                {
                                    "sup_id": "4",
                                    "sup_name": "Enve",
                                    "sup_ctry": "USA"
                                },
                                {
                                    "sup_id": "5",
                                    "sup_name": "e13",
                                    "sup_ctry": "USA"
                                },
                                {
                                    "sup_id": "6",
                                    "sup_name": "RaceFace",
                                    "sup_ctry": "Canada"
                                },
                                {
                                    "sup_id": "8",
                                    "sup_name": "Kona",
                                    "sup_ctry": "USA"
                                },
                                {
                                    "sup_id": "9",
                                    "sup_name": "Deity",
                                    "sup_ctry": "USA"
                                },
                                {
                                    "sup_id": "10",
                                    "sup_name": "Whyte",
                                    "sup_ctry": "UK"
                                },
                                {
                                    "sup_id": "11",
                                    "sup_name": "Newman",
                                    "sup_ctry": "Germany"
                                }
                            ]
                        },
                        "text/html": [
                            "<table>",
                            "<tr><th>sup_id</th><th>sup_name</th><th>sup_ctry</th></tr>",
                            "<tr><td>1</td><td>Giant</td><td>Taiwan</td></tr>",
                            "<tr><td>2</td><td>Ride Alpha</td><td>Andorra</td></tr>",
                            "<tr><td>3</td><td>Niner</td><td>USA</td></tr>",
                            "<tr><td>4</td><td>Enve</td><td>USA</td></tr>",
                            "<tr><td>5</td><td>e13</td><td>USA</td></tr>",
                            "<tr><td>6</td><td>RaceFace</td><td>Canada</td></tr>",
                            "<tr><td>8</td><td>Kona</td><td>USA</td></tr>",
                            "<tr><td>9</td><td>Deity</td><td>USA</td></tr>",
                            "<tr><td>10</td><td>Whyte</td><td>UK</td></tr>",
                            "<tr><td>11</td><td>Newman</td><td>Germany</td></tr>",
                            "</table>"
                        ]
                    }
                }
            ],
            "execution_count": 35
        },
        {
            "cell_type": "code",
            "source": [
                "-- 5) Select top 10 records from dsci_504.components table\r\n",
                "SELECT *\r\n",
                "FROM dsci_504.components\r\n",
                "LIMIT 10;"
            ],
            "metadata": {
                "language": "sql",
                "azdata_cell_guid": "0d30a953-b5ff-4bfb-9760-ffe1d0c6f9e3"
            },
            "outputs": [
                {
                    "output_type": "display_data",
                    "data": {
                        "text/html": "(10 row(s) affected)"
                    },
                    "metadata": {}
                },
                {
                    "output_type": "display_data",
                    "data": {
                        "text/html": "Total execution time: 00:00:00.006"
                    },
                    "metadata": {}
                },
                {
                    "output_type": "execute_result",
                    "metadata": {},
                    "execution_count": 36,
                    "data": {
                        "application/vnd.dataresource+json": {
                            "schema": {
                                "fields": [
                                    {
                                        "name": "comp_id"
                                    },
                                    {
                                        "name": "comp_name"
                                    },
                                    {
                                        "name": "comp_cost"
                                    },
                                    {
                                        "name": "sup_id"
                                    },
                                    {
                                        "name": "comp_cat"
                                    }
                                ]
                            },
                            "data": [
                                {
                                    "comp_id": "1",
                                    "comp_name": "Giant Contact SLR",
                                    "comp_cost": "143.00",
                                    "sup_id": "1",
                                    "comp_cat": "handlebar"
                                },
                                {
                                    "comp_id": "2",
                                    "comp_name": "Rida Alpha R27",
                                    "comp_cost": "136.00",
                                    "sup_id": "2",
                                    "comp_cat": "handlebar"
                                },
                                {
                                    "comp_id": "3",
                                    "comp_name": "Niner Flat Top",
                                    "comp_cost": "118.00",
                                    "sup_id": "3",
                                    "comp_cat": "handlebar"
                                },
                                {
                                    "comp_id": "4",
                                    "comp_name": "Enve M7 Carb",
                                    "comp_cost": "69.00",
                                    "sup_id": "4",
                                    "comp_cat": "handlebar"
                                },
                                {
                                    "comp_id": "5",
                                    "comp_name": "e13 base",
                                    "comp_cost": "91.00",
                                    "sup_id": "5",
                                    "comp_cat": "handlebar"
                                },
                                {
                                    "comp_id": "6",
                                    "comp_name": "RaceFace NextR Carbon",
                                    "comp_cost": "129.00",
                                    "sup_id": "6",
                                    "comp_cat": "handlebar"
                                },
                                {
                                    "comp_id": "7",
                                    "comp_name": "OC1",
                                    "comp_cost": "51.00",
                                    "sup_id": "61",
                                    "comp_cat": "handlebar"
                                },
                                {
                                    "comp_id": "8",
                                    "comp_name": "Kona XC",
                                    "comp_cost": "76.00",
                                    "sup_id": "8",
                                    "comp_cat": "handlebar"
                                },
                                {
                                    "comp_id": "11",
                                    "comp_name": "Newman Evo",
                                    "comp_cost": "143.00",
                                    "sup_id": "11",
                                    "comp_cat": "handlebar"
                                },
                                {
                                    "comp_id": "12",
                                    "comp_name": "OC3 Carbon",
                                    "comp_cost": "82.00",
                                    "sup_id": "61",
                                    "comp_cat": "handlebar"
                                }
                            ]
                        },
                        "text/html": [
                            "<table>",
                            "<tr><th>comp_id</th><th>comp_name</th><th>comp_cost</th><th>sup_id</th><th>comp_cat</th></tr>",
                            "<tr><td>1</td><td>Giant Contact SLR</td><td>143.00</td><td>1</td><td>handlebar</td></tr>",
                            "<tr><td>2</td><td>Rida Alpha R27</td><td>136.00</td><td>2</td><td>handlebar</td></tr>",
                            "<tr><td>3</td><td>Niner Flat Top</td><td>118.00</td><td>3</td><td>handlebar</td></tr>",
                            "<tr><td>4</td><td>Enve M7 Carb</td><td>69.00</td><td>4</td><td>handlebar</td></tr>",
                            "<tr><td>5</td><td>e13 base</td><td>91.00</td><td>5</td><td>handlebar</td></tr>",
                            "<tr><td>6</td><td>RaceFace NextR Carbon</td><td>129.00</td><td>6</td><td>handlebar</td></tr>",
                            "<tr><td>7</td><td>OC1</td><td>51.00</td><td>61</td><td>handlebar</td></tr>",
                            "<tr><td>8</td><td>Kona XC</td><td>76.00</td><td>8</td><td>handlebar</td></tr>",
                            "<tr><td>11</td><td>Newman Evo</td><td>143.00</td><td>11</td><td>handlebar</td></tr>",
                            "<tr><td>12</td><td>OC3 Carbon</td><td>82.00</td><td>61</td><td>handlebar</td></tr>",
                            "</table>"
                        ]
                    }
                }
            ],
            "execution_count": 36
        },
        {
            "cell_type": "code",
            "source": [
                "-- 6) Select top 10 records from dsci_504.builds table\r\n",
                "SELECT *\r\n",
                "FROM dsci_504.builds\r\n",
                "LIMIT 10;"
            ],
            "metadata": {
                "language": "sql",
                "azdata_cell_guid": "7d65b63e-26d8-4e59-855a-a331d0adb72d"
            },
            "outputs": [
                {
                    "output_type": "display_data",
                    "data": {
                        "text/html": "(10 row(s) affected)"
                    },
                    "metadata": {}
                },
                {
                    "output_type": "display_data",
                    "data": {
                        "text/html": "Total execution time: 00:00:00.008"
                    },
                    "metadata": {}
                },
                {
                    "output_type": "execute_result",
                    "metadata": {},
                    "execution_count": 37,
                    "data": {
                        "application/vnd.dataresource+json": {
                            "schema": {
                                "fields": [
                                    {
                                        "name": "build_id"
                                    },
                                    {
                                        "name": "build_name"
                                    }
                                ]
                            },
                            "data": [
                                {
                                    "build_id": "74",
                                    "build_name": "gnar"
                                },
                                {
                                    "build_id": "1",
                                    "build_name": "five star"
                                },
                                {
                                    "build_id": "23",
                                    "build_name": "mammoth"
                                },
                                {
                                    "build_id": "4",
                                    "build_name": "3-star"
                                },
                                {
                                    "build_id": "8",
                                    "build_name": "2-star"
                                },
                                {
                                    "build_id": "20",
                                    "build_name": "1-star"
                                },
                                {
                                    "build_id": "21",
                                    "build_name": "the general"
                                },
                                {
                                    "build_id": "25",
                                    "build_name": "atomic"
                                },
                                {
                                    "build_id": "39",
                                    "build_name": "nuclear"
                                },
                                {
                                    "build_id": "69",
                                    "build_name": "behemoth"
                                }
                            ]
                        },
                        "text/html": [
                            "<table>",
                            "<tr><th>build_id</th><th>build_name</th></tr>",
                            "<tr><td>74</td><td>gnar</td></tr>",
                            "<tr><td>1</td><td>five star</td></tr>",
                            "<tr><td>23</td><td>mammoth</td></tr>",
                            "<tr><td>4</td><td>3-star</td></tr>",
                            "<tr><td>8</td><td>2-star</td></tr>",
                            "<tr><td>20</td><td>1-star</td></tr>",
                            "<tr><td>21</td><td>the general</td></tr>",
                            "<tr><td>25</td><td>atomic</td></tr>",
                            "<tr><td>39</td><td>nuclear</td></tr>",
                            "<tr><td>69</td><td>behemoth</td></tr>",
                            "</table>"
                        ]
                    }
                }
            ],
            "execution_count": 37
        },
        {
            "cell_type": "code",
            "source": [
                "-- 7) Select top 10 records from dsci_504.build_components table\r\n",
                "SELECT *\r\n",
                "FROM dsci_504.build_components\r\n",
                "LIMIT 10;"
            ],
            "metadata": {
                "language": "sql",
                "azdata_cell_guid": "068192d6-b5f3-43e5-ba9a-55ec1684e83d"
            },
            "outputs": [
                {
                    "output_type": "display_data",
                    "data": {
                        "text/html": "(10 row(s) affected)"
                    },
                    "metadata": {}
                },
                {
                    "output_type": "display_data",
                    "data": {
                        "text/html": "Total execution time: 00:00:00.010"
                    },
                    "metadata": {}
                },
                {
                    "output_type": "execute_result",
                    "metadata": {},
                    "execution_count": 38,
                    "data": {
                        "application/vnd.dataresource+json": {
                            "schema": {
                                "fields": [
                                    {
                                        "name": "build_id"
                                    },
                                    {
                                        "name": "comp_id"
                                    }
                                ]
                            },
                            "data": [
                                {
                                    "build_id": "74",
                                    "comp_id": "10"
                                },
                                {
                                    "build_id": "74",
                                    "comp_id": "62"
                                },
                                {
                                    "build_id": "74",
                                    "comp_id": "100"
                                },
                                {
                                    "build_id": "74",
                                    "comp_id": "131"
                                },
                                {
                                    "build_id": "74",
                                    "comp_id": "194"
                                },
                                {
                                    "build_id": "74",
                                    "comp_id": "278"
                                },
                                {
                                    "build_id": "74",
                                    "comp_id": "218"
                                },
                                {
                                    "build_id": "74",
                                    "comp_id": "280"
                                },
                                {
                                    "build_id": "74",
                                    "comp_id": "279"
                                },
                                {
                                    "build_id": "1",
                                    "comp_id": "29"
                                }
                            ]
                        },
                        "text/html": [
                            "<table>",
                            "<tr><th>build_id</th><th>comp_id</th></tr>",
                            "<tr><td>74</td><td>10</td></tr>",
                            "<tr><td>74</td><td>62</td></tr>",
                            "<tr><td>74</td><td>100</td></tr>",
                            "<tr><td>74</td><td>131</td></tr>",
                            "<tr><td>74</td><td>194</td></tr>",
                            "<tr><td>74</td><td>278</td></tr>",
                            "<tr><td>74</td><td>218</td></tr>",
                            "<tr><td>74</td><td>280</td></tr>",
                            "<tr><td>74</td><td>279</td></tr>",
                            "<tr><td>1</td><td>29</td></tr>",
                            "</table>"
                        ]
                    }
                }
            ],
            "execution_count": 38
        },
        {
            "cell_type": "code",
            "source": [
                "-- 8) Select top 10 records from dsci_504.products table\r\n",
                "SELECT *\r\n",
                "FROM dsci_504.products\r\n",
                "LIMIT 10;"
            ],
            "metadata": {
                "language": "sql",
                "azdata_cell_guid": "c4efbd0b-5110-42a6-a346-e079d9b27296"
            },
            "outputs": [
                {
                    "output_type": "display_data",
                    "data": {
                        "text/html": "(10 row(s) affected)"
                    },
                    "metadata": {}
                },
                {
                    "output_type": "display_data",
                    "data": {
                        "text/html": "Total execution time: 00:00:00.051"
                    },
                    "metadata": {}
                },
                {
                    "output_type": "execute_result",
                    "metadata": {},
                    "execution_count": 39,
                    "data": {
                        "application/vnd.dataresource+json": {
                            "schema": {
                                "fields": [
                                    {
                                        "name": "prod_id"
                                    },
                                    {
                                        "name": "prod_cat_name"
                                    },
                                    {
                                        "name": "prod_manufacturer"
                                    },
                                    {
                                        "name": "prod_name"
                                    },
                                    {
                                        "name": "prod_description"
                                    },
                                    {
                                        "name": "prod_price"
                                    },
                                    {
                                        "name": "prod_class"
                                    },
                                    {
                                        "name": "country_origin"
                                    }
                                ]
                            },
                            "data": [
                                {
                                    "prod_id": "9",
                                    "prod_cat_name": "NULL",
                                    "prod_manufacturer": "63",
                                    "prod_name": "Tallboy",
                                    "prod_description": "Full-Suspension Mountain Bike",
                                    "prod_price": "2799.00",
                                    "prod_class": "Mid",
                                    "country_origin": "2,3,4"
                                },
                                {
                                    "prod_id": "68",
                                    "prod_cat_name": "NULL",
                                    "prod_manufacturer": "61",
                                    "prod_name": "Occam",
                                    "prod_description": "Full-Suspension Mountain Bike",
                                    "prod_price": "3999.00",
                                    "prod_class": "Mid",
                                    "country_origin": "2,3"
                                },
                                {
                                    "prod_id": "43",
                                    "prod_cat_name": "NULL",
                                    "prod_manufacturer": "70",
                                    "prod_name": "Troy",
                                    "prod_description": "Full-Suspension Mountain Bike",
                                    "prod_price": "3199.00",
                                    "prod_class": "Mid",
                                    "country_origin": "2"
                                },
                                {
                                    "prod_id": "37",
                                    "prod_cat_name": "NULL",
                                    "prod_manufacturer": "22",
                                    "prod_name": "DV9",
                                    "prod_description": "Hardtail Mountain Bike",
                                    "prod_price": "3009.00",
                                    "prod_class": "Mid",
                                    "country_origin": "1"
                                },
                                {
                                    "prod_id": "26",
                                    "prod_cat_name": "NULL",
                                    "prod_manufacturer": "8",
                                    "prod_name": "Process 153",
                                    "prod_description": "Full-Suspension Mountain Bike",
                                    "prod_price": "3064.00",
                                    "prod_class": "Mid",
                                    "country_origin": "2,3,4"
                                },
                                {
                                    "prod_id": "69",
                                    "prod_cat_name": "NULL",
                                    "prod_manufacturer": "61",
                                    "prod_name": "Occam",
                                    "prod_description": "Full-Suspension Mountain Bike",
                                    "prod_price": "3999.00",
                                    "prod_class": "Mid",
                                    "country_origin": "2,3"
                                },
                                {
                                    "prod_id": "27",
                                    "prod_cat_name": "NULL",
                                    "prod_manufacturer": "8",
                                    "prod_name": "Hei Hei",
                                    "prod_description": "Full-Suspension Mountain Bike",
                                    "prod_price": "4227.99",
                                    "prod_class": "Mid",
                                    "country_origin": "2,3"
                                },
                                {
                                    "prod_id": "38",
                                    "prod_cat_name": "NULL",
                                    "prod_manufacturer": "22",
                                    "prod_name": "Ripmo",
                                    "prod_description": "Full-Suspension Mountain Bike",
                                    "prod_price": "4399.00",
                                    "prod_class": "Mid",
                                    "country_origin": "2,3,4"
                                },
                                {
                                    "prod_id": "54",
                                    "prod_cat_name": "NULL",
                                    "prod_manufacturer": "10",
                                    "prod_name": "G-Series",
                                    "prod_description": "Full-Suspension Mountain Bike",
                                    "prod_price": "5656.41",
                                    "prod_class": "Expert",
                                    "country_origin": "4"
                                },
                                {
                                    "prod_id": "13",
                                    "prod_cat_name": "NULL",
                                    "prod_manufacturer": "25",
                                    "prod_name": "SB140",
                                    "prod_description": "Full-Suspension Mountain Bike",
                                    "prod_price": "5800.00",
                                    "prod_class": "Expert",
                                    "country_origin": "2,3,4"
                                }
                            ]
                        },
                        "text/html": [
                            "<table>",
                            "<tr><th>prod_id</th><th>prod_cat_name</th><th>prod_manufacturer</th><th>prod_name</th><th>prod_description</th><th>prod_price</th><th>prod_class</th><th>country_origin</th></tr>",
                            "<tr><td>9</td><td>NULL</td><td>63</td><td>Tallboy</td><td>Full-Suspension Mountain Bike</td><td>2799.00</td><td>Mid</td><td>2,3,4</td></tr>",
                            "<tr><td>68</td><td>NULL</td><td>61</td><td>Occam</td><td>Full-Suspension Mountain Bike</td><td>3999.00</td><td>Mid</td><td>2,3</td></tr>",
                            "<tr><td>43</td><td>NULL</td><td>70</td><td>Troy</td><td>Full-Suspension Mountain Bike</td><td>3199.00</td><td>Mid</td><td>2</td></tr>",
                            "<tr><td>37</td><td>NULL</td><td>22</td><td>DV9</td><td>Hardtail Mountain Bike</td><td>3009.00</td><td>Mid</td><td>1</td></tr>",
                            "<tr><td>26</td><td>NULL</td><td>8</td><td>Process 153</td><td>Full-Suspension Mountain Bike</td><td>3064.00</td><td>Mid</td><td>2,3,4</td></tr>",
                            "<tr><td>69</td><td>NULL</td><td>61</td><td>Occam</td><td>Full-Suspension Mountain Bike</td><td>3999.00</td><td>Mid</td><td>2,3</td></tr>",
                            "<tr><td>27</td><td>NULL</td><td>8</td><td>Hei Hei</td><td>Full-Suspension Mountain Bike</td><td>4227.99</td><td>Mid</td><td>2,3</td></tr>",
                            "<tr><td>38</td><td>NULL</td><td>22</td><td>Ripmo</td><td>Full-Suspension Mountain Bike</td><td>4399.00</td><td>Mid</td><td>2,3,4</td></tr>",
                            "<tr><td>54</td><td>NULL</td><td>10</td><td>G-Series</td><td>Full-Suspension Mountain Bike</td><td>5656.41</td><td>Expert</td><td>4</td></tr>",
                            "<tr><td>13</td><td>NULL</td><td>25</td><td>SB140</td><td>Full-Suspension Mountain Bike</td><td>5800.00</td><td>Expert</td><td>2,3,4</td></tr>",
                            "</table>"
                        ]
                    }
                }
            ],
            "execution_count": 39
        },
        {
            "cell_type": "code",
            "source": [
                "-- 9) Select top 10 records from dsci_504.product_builds table\r\n",
                "SELECT *\r\n",
                "FROM dsci_504.product_builds\r\n",
                "LIMIT 10;"
            ],
            "metadata": {
                "language": "sql",
                "azdata_cell_guid": "c1c48cef-24f9-4c94-861b-c79f6489d7a4"
            },
            "outputs": [
                {
                    "output_type": "display_data",
                    "data": {
                        "text/html": "(10 row(s) affected)"
                    },
                    "metadata": {}
                },
                {
                    "output_type": "display_data",
                    "data": {
                        "text/html": "Total execution time: 00:00:00.005"
                    },
                    "metadata": {}
                },
                {
                    "output_type": "execute_result",
                    "metadata": {},
                    "execution_count": 40,
                    "data": {
                        "application/vnd.dataresource+json": {
                            "schema": {
                                "fields": [
                                    {
                                        "name": "prod_id"
                                    },
                                    {
                                        "name": "build_id"
                                    }
                                ]
                            },
                            "data": [
                                {
                                    "prod_id": "9",
                                    "build_id": "51"
                                },
                                {
                                    "prod_id": "68",
                                    "build_id": "32"
                                },
                                {
                                    "prod_id": "43",
                                    "build_id": "62"
                                },
                                {
                                    "prod_id": "37",
                                    "build_id": "19"
                                },
                                {
                                    "prod_id": "26",
                                    "build_id": "24"
                                },
                                {
                                    "prod_id": "69",
                                    "build_id": "32"
                                },
                                {
                                    "prod_id": "27",
                                    "build_id": "22"
                                },
                                {
                                    "prod_id": "38",
                                    "build_id": "18"
                                },
                                {
                                    "prod_id": "54",
                                    "build_id": "47"
                                },
                                {
                                    "prod_id": "13",
                                    "build_id": "41"
                                }
                            ]
                        },
                        "text/html": [
                            "<table>",
                            "<tr><th>prod_id</th><th>build_id</th></tr>",
                            "<tr><td>9</td><td>51</td></tr>",
                            "<tr><td>68</td><td>32</td></tr>",
                            "<tr><td>43</td><td>62</td></tr>",
                            "<tr><td>37</td><td>19</td></tr>",
                            "<tr><td>26</td><td>24</td></tr>",
                            "<tr><td>69</td><td>32</td></tr>",
                            "<tr><td>27</td><td>22</td></tr>",
                            "<tr><td>38</td><td>18</td></tr>",
                            "<tr><td>54</td><td>47</td></tr>",
                            "<tr><td>13</td><td>41</td></tr>",
                            "</table>"
                        ]
                    }
                }
            ],
            "execution_count": 40
        },
        {
            "cell_type": "code",
            "source": [
                "-- 10) Select top 10 records from dsci_504.orders table\r\n",
                "SELECT *\r\n",
                "FROM dsci_504.orders\r\n",
                "LIMIT 10;"
            ],
            "metadata": {
                "language": "sql",
                "azdata_cell_guid": "ce8f46d6-8d12-4074-9aa7-35cbfb86112b"
            },
            "outputs": [
                {
                    "output_type": "display_data",
                    "data": {
                        "text/html": "(10 row(s) affected)"
                    },
                    "metadata": {}
                },
                {
                    "output_type": "display_data",
                    "data": {
                        "text/html": "Total execution time: 00:00:00.008"
                    },
                    "metadata": {}
                },
                {
                    "output_type": "execute_result",
                    "metadata": {},
                    "execution_count": 41,
                    "data": {
                        "application/vnd.dataresource+json": {
                            "schema": {
                                "fields": [
                                    {
                                        "name": "ord_id"
                                    },
                                    {
                                        "name": "ord_date"
                                    },
                                    {
                                        "name": "ord_tax_loc"
                                    },
                                    {
                                        "name": "order_tot"
                                    },
                                    {
                                        "name": "ord_ship_add"
                                    },
                                    {
                                        "name": "ord_ship_date"
                                    },
                                    {
                                        "name": "ord_track_num"
                                    },
                                    {
                                        "name": "warehouse_id"
                                    },
                                    {
                                        "name": "cus_id"
                                    }
                                ]
                            },
                            "data": [
                                {
                                    "ord_id": "5920416",
                                    "ord_date": "2018-08-08",
                                    "ord_tax_loc": "6",
                                    "order_tot": "2338.64",
                                    "ord_ship_add": "True",
                                    "ord_ship_date": "2018-08-16",
                                    "ord_track_num": "PAC4170462-0    ",
                                    "warehouse_id": "2",
                                    "cus_id": "27"
                                },
                                {
                                    "ord_id": "4825298",
                                    "ord_date": "2017-03-28",
                                    "ord_tax_loc": "16",
                                    "order_tot": "5275.00",
                                    "ord_ship_add": "False",
                                    "ord_ship_date": "2017-03-30",
                                    "ord_track_num": "PAC9343767-0    ",
                                    "warehouse_id": "3",
                                    "cus_id": "28"
                                },
                                {
                                    "ord_id": "7009183",
                                    "ord_date": "2010-10-14",
                                    "ord_tax_loc": "18",
                                    "order_tot": "4503.20",
                                    "ord_ship_add": "False",
                                    "ord_ship_date": "2010-10-15",
                                    "ord_track_num": "PAC762592-3     ",
                                    "warehouse_id": "1",
                                    "cus_id": "29"
                                },
                                {
                                    "ord_id": "5186311",
                                    "ord_date": "2001-05-12",
                                    "ord_tax_loc": "26",
                                    "order_tot": "8073.44",
                                    "ord_ship_add": "False",
                                    "ord_ship_date": "2001-05-15",
                                    "ord_track_num": "PAC6865813-2    ",
                                    "warehouse_id": "1",
                                    "cus_id": "30"
                                },
                                {
                                    "ord_id": "4274782",
                                    "ord_date": "2002-03-19",
                                    "ord_tax_loc": "25",
                                    "order_tot": "3572.20",
                                    "ord_ship_add": "False",
                                    "ord_ship_date": "2002-03-25",
                                    "ord_track_num": "PAC5040387-3    ",
                                    "warehouse_id": "3",
                                    "cus_id": "31"
                                },
                                {
                                    "ord_id": "2579402",
                                    "ord_date": "2012-11-10",
                                    "ord_tax_loc": "30",
                                    "order_tot": "4158.96",
                                    "ord_ship_add": "False",
                                    "ord_ship_date": "2012-11-11",
                                    "ord_track_num": "PAC268985-1     ",
                                    "warehouse_id": "3",
                                    "cus_id": "32"
                                },
                                {
                                    "ord_id": "5974882",
                                    "ord_date": "2000-07-07",
                                    "ord_tax_loc": "4",
                                    "order_tot": "3430.93",
                                    "ord_ship_add": "True",
                                    "ord_ship_date": "2000-07-10",
                                    "ord_track_num": "PAC4112909-1    ",
                                    "warehouse_id": "3",
                                    "cus_id": "33"
                                },
                                {
                                    "ord_id": "6080581",
                                    "ord_date": "2003-05-22",
                                    "ord_tax_loc": "21",
                                    "order_tot": "5099.00",
                                    "ord_ship_add": "True",
                                    "ord_ship_date": "2003-06-01",
                                    "ord_track_num": "PAC2181266-3    ",
                                    "warehouse_id": "2",
                                    "cus_id": "34"
                                },
                                {
                                    "ord_id": "6507619",
                                    "ord_date": "2010-02-25",
                                    "ord_tax_loc": "7",
                                    "order_tot": "4199.00",
                                    "ord_ship_add": "True",
                                    "ord_ship_date": "2010-03-02",
                                    "ord_track_num": "PAC3561253-3    ",
                                    "warehouse_id": "2",
                                    "cus_id": "35"
                                },
                                {
                                    "ord_id": "6921547",
                                    "ord_date": "2012-02-26",
                                    "ord_tax_loc": "23",
                                    "order_tot": "5006.53",
                                    "ord_ship_add": "False",
                                    "ord_ship_date": "2012-03-06",
                                    "ord_track_num": "PAC6665295-3    ",
                                    "warehouse_id": "3",
                                    "cus_id": "36"
                                }
                            ]
                        },
                        "text/html": [
                            "<table>",
                            "<tr><th>ord_id</th><th>ord_date</th><th>ord_tax_loc</th><th>order_tot</th><th>ord_ship_add</th><th>ord_ship_date</th><th>ord_track_num</th><th>warehouse_id</th><th>cus_id</th></tr>",
                            "<tr><td>5920416</td><td>2018-08-08</td><td>6</td><td>2338.64</td><td>True</td><td>2018-08-16</td><td>PAC4170462-0    </td><td>2</td><td>27</td></tr>",
                            "<tr><td>4825298</td><td>2017-03-28</td><td>16</td><td>5275.00</td><td>False</td><td>2017-03-30</td><td>PAC9343767-0    </td><td>3</td><td>28</td></tr>",
                            "<tr><td>7009183</td><td>2010-10-14</td><td>18</td><td>4503.20</td><td>False</td><td>2010-10-15</td><td>PAC762592-3     </td><td>1</td><td>29</td></tr>",
                            "<tr><td>5186311</td><td>2001-05-12</td><td>26</td><td>8073.44</td><td>False</td><td>2001-05-15</td><td>PAC6865813-2    </td><td>1</td><td>30</td></tr>",
                            "<tr><td>4274782</td><td>2002-03-19</td><td>25</td><td>3572.20</td><td>False</td><td>2002-03-25</td><td>PAC5040387-3    </td><td>3</td><td>31</td></tr>",
                            "<tr><td>2579402</td><td>2012-11-10</td><td>30</td><td>4158.96</td><td>False</td><td>2012-11-11</td><td>PAC268985-1     </td><td>3</td><td>32</td></tr>",
                            "<tr><td>5974882</td><td>2000-07-07</td><td>4</td><td>3430.93</td><td>True</td><td>2000-07-10</td><td>PAC4112909-1    </td><td>3</td><td>33</td></tr>",
                            "<tr><td>6080581</td><td>2003-05-22</td><td>21</td><td>5099.00</td><td>True</td><td>2003-06-01</td><td>PAC2181266-3    </td><td>2</td><td>34</td></tr>",
                            "<tr><td>6507619</td><td>2010-02-25</td><td>7</td><td>4199.00</td><td>True</td><td>2010-03-02</td><td>PAC3561253-3    </td><td>2</td><td>35</td></tr>",
                            "<tr><td>6921547</td><td>2012-02-26</td><td>23</td><td>5006.53</td><td>False</td><td>2012-03-06</td><td>PAC6665295-3    </td><td>3</td><td>36</td></tr>",
                            "</table>"
                        ]
                    }
                }
            ],
            "execution_count": 41
        },
        {
            "cell_type": "code",
            "source": [
                "-- 11) Select top 10 records from dsci_504.order_items table\r\n",
                "SELECT *\r\n",
                "FROM dsci_504.order_items\r\n",
                "LIMIT 10;"
            ],
            "metadata": {
                "language": "sql",
                "azdata_cell_guid": "3b74a62d-6c98-41e2-93c3-cab82e0cc656"
            },
            "outputs": [
                {
                    "output_type": "display_data",
                    "data": {
                        "text/html": "(10 row(s) affected)"
                    },
                    "metadata": {}
                },
                {
                    "output_type": "display_data",
                    "data": {
                        "text/html": "Total execution time: 00:00:00.005"
                    },
                    "metadata": {}
                },
                {
                    "output_type": "execute_result",
                    "metadata": {},
                    "execution_count": 42,
                    "data": {
                        "application/vnd.dataresource+json": {
                            "schema": {
                                "fields": [
                                    {
                                        "name": "ord_id"
                                    },
                                    {
                                        "name": "prod_id"
                                    },
                                    {
                                        "name": "quantity"
                                    },
                                    {
                                        "name": "line_total"
                                    }
                                ]
                            },
                            "data": [
                                {
                                    "ord_id": "5920416",
                                    "prod_id": "57",
                                    "quantity": "1",
                                    "line_total": "2338.64"
                                },
                                {
                                    "ord_id": "4825298",
                                    "prod_id": "42",
                                    "quantity": "1",
                                    "line_total": "5275.00"
                                },
                                {
                                    "ord_id": "7009183",
                                    "prod_id": "41",
                                    "quantity": "1",
                                    "line_total": "4503.20"
                                },
                                {
                                    "ord_id": "5186311",
                                    "prod_id": "15",
                                    "quantity": "1",
                                    "line_total": "8073.44"
                                },
                                {
                                    "ord_id": "4274782",
                                    "prod_id": "36",
                                    "quantity": "1",
                                    "line_total": "3572.20"
                                },
                                {
                                    "ord_id": "2579402",
                                    "prod_id": "35",
                                    "quantity": "1",
                                    "line_total": "4158.96"
                                },
                                {
                                    "ord_id": "5974882",
                                    "prod_id": "43",
                                    "quantity": "1",
                                    "line_total": "3430.93"
                                },
                                {
                                    "ord_id": "6080581",
                                    "prod_id": "10",
                                    "quantity": "1",
                                    "line_total": "5099.00"
                                },
                                {
                                    "ord_id": "6507619",
                                    "prod_id": "40",
                                    "quantity": "1",
                                    "line_total": "4199.00"
                                },
                                {
                                    "ord_id": "6921547",
                                    "prod_id": "49",
                                    "quantity": "1",
                                    "line_total": "5006.53"
                                }
                            ]
                        },
                        "text/html": [
                            "<table>",
                            "<tr><th>ord_id</th><th>prod_id</th><th>quantity</th><th>line_total</th></tr>",
                            "<tr><td>5920416</td><td>57</td><td>1</td><td>2338.64</td></tr>",
                            "<tr><td>4825298</td><td>42</td><td>1</td><td>5275.00</td></tr>",
                            "<tr><td>7009183</td><td>41</td><td>1</td><td>4503.20</td></tr>",
                            "<tr><td>5186311</td><td>15</td><td>1</td><td>8073.44</td></tr>",
                            "<tr><td>4274782</td><td>36</td><td>1</td><td>3572.20</td></tr>",
                            "<tr><td>2579402</td><td>35</td><td>1</td><td>4158.96</td></tr>",
                            "<tr><td>5974882</td><td>43</td><td>1</td><td>3430.93</td></tr>",
                            "<tr><td>6080581</td><td>10</td><td>1</td><td>5099.00</td></tr>",
                            "<tr><td>6507619</td><td>40</td><td>1</td><td>4199.00</td></tr>",
                            "<tr><td>6921547</td><td>49</td><td>1</td><td>5006.53</td></tr>",
                            "</table>"
                        ]
                    }
                }
            ],
            "execution_count": 42
        },
        {
            "cell_type": "code",
            "source": [
                "-- 12) Select top 10 records from dsci_504.returns table\r\n",
                "SELECT *\r\n",
                "FROM dsci_504.returns\r\n",
                "LIMIT 10;"
            ],
            "metadata": {
                "language": "sql",
                "azdata_cell_guid": "cb8d7b0a-389d-4c86-b575-5edd5240ef11"
            },
            "outputs": [
                {
                    "output_type": "display_data",
                    "data": {
                        "text/html": "(10 row(s) affected)"
                    },
                    "metadata": {}
                },
                {
                    "output_type": "display_data",
                    "data": {
                        "text/html": "Total execution time: 00:00:00.010"
                    },
                    "metadata": {}
                },
                {
                    "output_type": "execute_result",
                    "metadata": {},
                    "execution_count": 43,
                    "data": {
                        "application/vnd.dataresource+json": {
                            "schema": {
                                "fields": [
                                    {
                                        "name": "rac_id"
                                    },
                                    {
                                        "name": "ord_id"
                                    },
                                    {
                                        "name": "cus_id"
                                    },
                                    {
                                        "name": "warehouse_id"
                                    },
                                    {
                                        "name": "return_date"
                                    },
                                    {
                                        "name": "tot_ret_item_cnt"
                                    },
                                    {
                                        "name": "tot_ret_amnt"
                                    }
                                ]
                            },
                            "data": [
                                {
                                    "rac_id": "178",
                                    "ord_id": "5484681",
                                    "cus_id": "1191",
                                    "warehouse_id": "1",
                                    "return_date": "NULL",
                                    "tot_ret_item_cnt": "0",
                                    "tot_ret_amnt": "0.00"
                                },
                                {
                                    "rac_id": "179",
                                    "ord_id": "6727420",
                                    "cus_id": "1754",
                                    "warehouse_id": "1",
                                    "return_date": "NULL",
                                    "tot_ret_item_cnt": "2",
                                    "tot_ret_amnt": "1008.00"
                                },
                                {
                                    "rac_id": "180",
                                    "ord_id": "4711571",
                                    "cus_id": "2454",
                                    "warehouse_id": "2",
                                    "return_date": "NULL",
                                    "tot_ret_item_cnt": "0",
                                    "tot_ret_amnt": "0.00"
                                },
                                {
                                    "rac_id": "181",
                                    "ord_id": "3555795",
                                    "cus_id": "2493",
                                    "warehouse_id": "1",
                                    "return_date": "NULL",
                                    "tot_ret_item_cnt": "7",
                                    "tot_ret_amnt": "970.00"
                                },
                                {
                                    "rac_id": "182",
                                    "ord_id": "5687001",
                                    "cus_id": "512",
                                    "warehouse_id": "1",
                                    "return_date": "NULL",
                                    "tot_ret_item_cnt": "0",
                                    "tot_ret_amnt": "0.00"
                                },
                                {
                                    "rac_id": "183",
                                    "ord_id": "1985674",
                                    "cus_id": "930",
                                    "warehouse_id": "3",
                                    "return_date": "NULL",
                                    "tot_ret_item_cnt": "5",
                                    "tot_ret_amnt": "71.00"
                                },
                                {
                                    "rac_id": "184",
                                    "ord_id": "5994079",
                                    "cus_id": "1504",
                                    "warehouse_id": "2",
                                    "return_date": "NULL",
                                    "tot_ret_item_cnt": "0",
                                    "tot_ret_amnt": "0.00"
                                },
                                {
                                    "rac_id": "185",
                                    "ord_id": "5087861",
                                    "cus_id": "805",
                                    "warehouse_id": "3",
                                    "return_date": "NULL",
                                    "tot_ret_item_cnt": "0",
                                    "tot_ret_amnt": "0.00"
                                },
                                {
                                    "rac_id": "186",
                                    "ord_id": "6077808",
                                    "cus_id": "346",
                                    "warehouse_id": "1",
                                    "return_date": "NULL",
                                    "tot_ret_item_cnt": "0",
                                    "tot_ret_amnt": "0.00"
                                },
                                {
                                    "rac_id": "187",
                                    "ord_id": "6241665",
                                    "cus_id": "2589",
                                    "warehouse_id": "2",
                                    "return_date": "NULL",
                                    "tot_ret_item_cnt": "9",
                                    "tot_ret_amnt": "60.00"
                                }
                            ]
                        },
                        "text/html": [
                            "<table>",
                            "<tr><th>rac_id</th><th>ord_id</th><th>cus_id</th><th>warehouse_id</th><th>return_date</th><th>tot_ret_item_cnt</th><th>tot_ret_amnt</th></tr>",
                            "<tr><td>178</td><td>5484681</td><td>1191</td><td>1</td><td>NULL</td><td>0</td><td>0.00</td></tr>",
                            "<tr><td>179</td><td>6727420</td><td>1754</td><td>1</td><td>NULL</td><td>2</td><td>1008.00</td></tr>",
                            "<tr><td>180</td><td>4711571</td><td>2454</td><td>2</td><td>NULL</td><td>0</td><td>0.00</td></tr>",
                            "<tr><td>181</td><td>3555795</td><td>2493</td><td>1</td><td>NULL</td><td>7</td><td>970.00</td></tr>",
                            "<tr><td>182</td><td>5687001</td><td>512</td><td>1</td><td>NULL</td><td>0</td><td>0.00</td></tr>",
                            "<tr><td>183</td><td>1985674</td><td>930</td><td>3</td><td>NULL</td><td>5</td><td>71.00</td></tr>",
                            "<tr><td>184</td><td>5994079</td><td>1504</td><td>2</td><td>NULL</td><td>0</td><td>0.00</td></tr>",
                            "<tr><td>185</td><td>5087861</td><td>805</td><td>3</td><td>NULL</td><td>0</td><td>0.00</td></tr>",
                            "<tr><td>186</td><td>6077808</td><td>346</td><td>1</td><td>NULL</td><td>0</td><td>0.00</td></tr>",
                            "<tr><td>187</td><td>6241665</td><td>2589</td><td>2</td><td>NULL</td><td>9</td><td>60.00</td></tr>",
                            "</table>"
                        ]
                    }
                }
            ],
            "execution_count": 43
        },
        {
            "cell_type": "code",
            "source": [
                "-- 13) Select top 10 records from dsci_504.return_items table\r\n",
                "SELECT *\r\n",
                "FROM dsci_504.return_items\r\n",
                "LIMIT 10;"
            ],
            "metadata": {
                "language": "sql",
                "azdata_cell_guid": "1263fdd6-2efa-4ed2-a685-b48a4409c195"
            },
            "outputs": [
                {
                    "output_type": "display_data",
                    "data": {
                        "text/html": "(10 row(s) affected)"
                    },
                    "metadata": {}
                },
                {
                    "output_type": "display_data",
                    "data": {
                        "text/html": "Total execution time: 00:00:00.016"
                    },
                    "metadata": {}
                },
                {
                    "output_type": "execute_result",
                    "metadata": {},
                    "execution_count": 44,
                    "data": {
                        "application/vnd.dataresource+json": {
                            "schema": {
                                "fields": [
                                    {
                                        "name": "rac_id"
                                    },
                                    {
                                        "name": "prod_id"
                                    },
                                    {
                                        "name": "comp_id"
                                    },
                                    {
                                        "name": "return_qty"
                                    },
                                    {
                                        "name": "return_amount"
                                    },
                                    {
                                        "name": "return_reason"
                                    }
                                ]
                            },
                            "data": [
                                {
                                    "rac_id": "178",
                                    "prod_id": "13",
                                    "comp_id": "41",
                                    "return_qty": "0",
                                    "return_amount": "0.00",
                                    "return_reason": "NULL"
                                },
                                {
                                    "rac_id": "179",
                                    "prod_id": "35",
                                    "comp_id": "59",
                                    "return_qty": "2",
                                    "return_amount": "1008.00",
                                    "return_reason": "NULL"
                                },
                                {
                                    "rac_id": "180",
                                    "prod_id": "46",
                                    "comp_id": "48",
                                    "return_qty": "0",
                                    "return_amount": "0.00",
                                    "return_reason": "NULL"
                                },
                                {
                                    "rac_id": "181",
                                    "prod_id": "62",
                                    "comp_id": "34",
                                    "return_qty": "7",
                                    "return_amount": "970.00",
                                    "return_reason": "NULL"
                                },
                                {
                                    "rac_id": "182",
                                    "prod_id": "46",
                                    "comp_id": "48",
                                    "return_qty": "0",
                                    "return_amount": "0.00",
                                    "return_reason": "NULL"
                                },
                                {
                                    "rac_id": "183",
                                    "prod_id": "44",
                                    "comp_id": "46",
                                    "return_qty": "5",
                                    "return_amount": "71.00",
                                    "return_reason": "NULL"
                                },
                                {
                                    "rac_id": "184",
                                    "prod_id": "63",
                                    "comp_id": "43",
                                    "return_qty": "0",
                                    "return_amount": "0.00",
                                    "return_reason": "NULL"
                                },
                                {
                                    "rac_id": "185",
                                    "prod_id": "28",
                                    "comp_id": "20",
                                    "return_qty": "0",
                                    "return_amount": "0.00",
                                    "return_reason": "NULL"
                                },
                                {
                                    "rac_id": "186",
                                    "prod_id": "60",
                                    "comp_id": "57",
                                    "return_qty": "0",
                                    "return_amount": "0.00",
                                    "return_reason": "NULL"
                                },
                                {
                                    "rac_id": "187",
                                    "prod_id": "66",
                                    "comp_id": "40",
                                    "return_qty": "9",
                                    "return_amount": "60.00",
                                    "return_reason": "NULL"
                                }
                            ]
                        },
                        "text/html": [
                            "<table>",
                            "<tr><th>rac_id</th><th>prod_id</th><th>comp_id</th><th>return_qty</th><th>return_amount</th><th>return_reason</th></tr>",
                            "<tr><td>178</td><td>13</td><td>41</td><td>0</td><td>0.00</td><td>NULL</td></tr>",
                            "<tr><td>179</td><td>35</td><td>59</td><td>2</td><td>1008.00</td><td>NULL</td></tr>",
                            "<tr><td>180</td><td>46</td><td>48</td><td>0</td><td>0.00</td><td>NULL</td></tr>",
                            "<tr><td>181</td><td>62</td><td>34</td><td>7</td><td>970.00</td><td>NULL</td></tr>",
                            "<tr><td>182</td><td>46</td><td>48</td><td>0</td><td>0.00</td><td>NULL</td></tr>",
                            "<tr><td>183</td><td>44</td><td>46</td><td>5</td><td>71.00</td><td>NULL</td></tr>",
                            "<tr><td>184</td><td>63</td><td>43</td><td>0</td><td>0.00</td><td>NULL</td></tr>",
                            "<tr><td>185</td><td>28</td><td>20</td><td>0</td><td>0.00</td><td>NULL</td></tr>",
                            "<tr><td>186</td><td>60</td><td>57</td><td>0</td><td>0.00</td><td>NULL</td></tr>",
                            "<tr><td>187</td><td>66</td><td>40</td><td>9</td><td>60.00</td><td>NULL</td></tr>",
                            "</table>"
                        ]
                    }
                }
            ],
            "execution_count": 44
        },
        {
            "cell_type": "code",
            "source": [
                "-- 14) Select top 10 records from dsci_504.taxes table\r\n",
                "SELECT *\r\n",
                "FROM dsci_504.taxes\r\n",
                "LIMIT 10;"
            ],
            "metadata": {
                "language": "sql",
                "azdata_cell_guid": "dde2fe70-9762-47c2-8173-49a6ab2a8844"
            },
            "outputs": [
                {
                    "output_type": "display_data",
                    "data": {
                        "text/html": "(10 row(s) affected)"
                    },
                    "metadata": {}
                },
                {
                    "output_type": "display_data",
                    "data": {
                        "text/html": "Total execution time: 00:00:00.008"
                    },
                    "metadata": {}
                },
                {
                    "output_type": "execute_result",
                    "metadata": {},
                    "execution_count": 45,
                    "data": {
                        "application/vnd.dataresource+json": {
                            "schema": {
                                "fields": [
                                    {
                                        "name": "tax_id"
                                    },
                                    {
                                        "name": "tax_desc"
                                    },
                                    {
                                        "name": "tax_rate"
                                    }
                                ]
                            },
                            "data": [
                                {
                                    "tax_id": "1",
                                    "tax_desc": "AK",
                                    "tax_rate": "0.0000"
                                },
                                {
                                    "tax_id": "2",
                                    "tax_desc": "AL",
                                    "tax_rate": "4.0000"
                                },
                                {
                                    "tax_id": "3",
                                    "tax_desc": "AZ",
                                    "tax_rate": "5.6000"
                                },
                                {
                                    "tax_id": "4",
                                    "tax_desc": "CA",
                                    "tax_rate": "7.2500"
                                },
                                {
                                    "tax_id": "5",
                                    "tax_desc": "CO",
                                    "tax_rate": "7.2500"
                                },
                                {
                                    "tax_id": "6",
                                    "tax_desc": "CT",
                                    "tax_rate": "6.3500"
                                },
                                {
                                    "tax_id": "7",
                                    "tax_desc": "DE",
                                    "tax_rate": "0.0000"
                                },
                                {
                                    "tax_id": "8",
                                    "tax_desc": "FL",
                                    "tax_rate": "6.0000"
                                },
                                {
                                    "tax_id": "9",
                                    "tax_desc": "GA",
                                    "tax_rate": "4.0000"
                                },
                                {
                                    "tax_id": "10",
                                    "tax_desc": "HI",
                                    "tax_rate": "4.0000"
                                }
                            ]
                        },
                        "text/html": [
                            "<table>",
                            "<tr><th>tax_id</th><th>tax_desc</th><th>tax_rate</th></tr>",
                            "<tr><td>1</td><td>AK</td><td>0.0000</td></tr>",
                            "<tr><td>2</td><td>AL</td><td>4.0000</td></tr>",
                            "<tr><td>3</td><td>AZ</td><td>5.6000</td></tr>",
                            "<tr><td>4</td><td>CA</td><td>7.2500</td></tr>",
                            "<tr><td>5</td><td>CO</td><td>7.2500</td></tr>",
                            "<tr><td>6</td><td>CT</td><td>6.3500</td></tr>",
                            "<tr><td>7</td><td>DE</td><td>0.0000</td></tr>",
                            "<tr><td>8</td><td>FL</td><td>6.0000</td></tr>",
                            "<tr><td>9</td><td>GA</td><td>4.0000</td></tr>",
                            "<tr><td>10</td><td>HI</td><td>4.0000</td></tr>",
                            "</table>"
                        ]
                    }
                }
            ],
            "execution_count": 45
        },
        {
            "cell_type": "code",
            "source": [
                "-- 15) Select top 10 records from dsci_504.order_taxes table\r\n",
                "SELECT *\r\n",
                "FROM dsci_504.order_taxes\r\n",
                "LIMIT 10;"
            ],
            "metadata": {
                "language": "sql",
                "azdata_cell_guid": "9e7e2e5f-bd83-4699-b2f4-4db65200d0ce"
            },
            "outputs": [
                {
                    "output_type": "display_data",
                    "data": {
                        "text/html": "(10 row(s) affected)"
                    },
                    "metadata": {}
                },
                {
                    "output_type": "display_data",
                    "data": {
                        "text/html": "Total execution time: 00:00:00.010"
                    },
                    "metadata": {}
                },
                {
                    "output_type": "execute_result",
                    "metadata": {},
                    "execution_count": 46,
                    "data": {
                        "application/vnd.dataresource+json": {
                            "schema": {
                                "fields": [
                                    {
                                        "name": "ord_id"
                                    },
                                    {
                                        "name": "ord_date"
                                    },
                                    {
                                        "name": "tax_id"
                                    }
                                ]
                            },
                            "data": [
                                {
                                    "ord_id": "5920416",
                                    "ord_date": "2018-08-08",
                                    "tax_id": "1"
                                },
                                {
                                    "ord_id": "4825298",
                                    "ord_date": "2017-03-28",
                                    "tax_id": "2"
                                },
                                {
                                    "ord_id": "7009183",
                                    "ord_date": "2010-10-14",
                                    "tax_id": "3"
                                },
                                {
                                    "ord_id": "5186311",
                                    "ord_date": "2001-05-12",
                                    "tax_id": "4"
                                },
                                {
                                    "ord_id": "4274782",
                                    "ord_date": "2002-03-19",
                                    "tax_id": "5"
                                },
                                {
                                    "ord_id": "2579402",
                                    "ord_date": "2012-11-10",
                                    "tax_id": "6"
                                },
                                {
                                    "ord_id": "5974882",
                                    "ord_date": "2000-07-07",
                                    "tax_id": "7"
                                },
                                {
                                    "ord_id": "6080581",
                                    "ord_date": "2003-05-22",
                                    "tax_id": "8"
                                },
                                {
                                    "ord_id": "6507619",
                                    "ord_date": "2010-02-25",
                                    "tax_id": "9"
                                },
                                {
                                    "ord_id": "6921547",
                                    "ord_date": "2012-02-26",
                                    "tax_id": "10"
                                }
                            ]
                        },
                        "text/html": [
                            "<table>",
                            "<tr><th>ord_id</th><th>ord_date</th><th>tax_id</th></tr>",
                            "<tr><td>5920416</td><td>2018-08-08</td><td>1</td></tr>",
                            "<tr><td>4825298</td><td>2017-03-28</td><td>2</td></tr>",
                            "<tr><td>7009183</td><td>2010-10-14</td><td>3</td></tr>",
                            "<tr><td>5186311</td><td>2001-05-12</td><td>4</td></tr>",
                            "<tr><td>4274782</td><td>2002-03-19</td><td>5</td></tr>",
                            "<tr><td>2579402</td><td>2012-11-10</td><td>6</td></tr>",
                            "<tr><td>5974882</td><td>2000-07-07</td><td>7</td></tr>",
                            "<tr><td>6080581</td><td>2003-05-22</td><td>8</td></tr>",
                            "<tr><td>6507619</td><td>2010-02-25</td><td>9</td></tr>",
                            "<tr><td>6921547</td><td>2012-02-26</td><td>10</td></tr>",
                            "</table>"
                        ]
                    }
                }
            ],
            "execution_count": 46
        },
        {
            "cell_type": "markdown",
            "source": [
                "**Step 5: Create primary keys within each of the newly created tables to elevate the database to 2NF. Some tables already have unique key columns that simply need to be identified as a Primary Key. (If you did this above when building the tables, simply run the below query for each table).Others may require a new column to do this. Run the below query after each table to validate the contstraints are placed on the tables.**\n",
                "\n",
                "```\n",
                "\n",
                "SELECT con.*\n",
                "    FROM pg_catalog.pg_constraint con\n",
                "        INNER JOIN pg_catalog.pg_class rel ON rel.oid = con.conrelid\n",
                "        INNER JOIN pg_catalog.pg_namespace nsp ON nsp.oid = connamespace\n",
                "        WHERE nsp.nspname = '{schema name}'\n",
                "             AND rel.relname = '{table name}';\n",
                "\n",
                "```"
            ],
            "metadata": {
                "azdata_cell_guid": "994c2c3d-5c16-4081-94d6-28c7d137640f"
            },
            "attachments": {}
        },
        {
            "cell_type": "code",
            "source": [
                "-- 1) To validate the constraints are placed on STATES table\r\n",
                "SELECT con.*\r\n",
                "    FROM pg_catalog.pg_constraint con\r\n",
                "        INNER JOIN pg_catalog.pg_class rel ON rel.oid = con.conrelid\r\n",
                "        INNER JOIN pg_catalog.pg_namespace nsp ON nsp.oid = connamespace\r\n",
                "        WHERE nsp.nspname = 'dsci_504'\r\n",
                "             AND rel.relname = 'states';"
            ],
            "metadata": {
                "azdata_cell_guid": "035c071c-bafb-4061-8afb-f0d3de637850",
                "language": "sql"
            },
            "outputs": [
                {
                    "output_type": "display_data",
                    "data": {
                        "text/html": "(1 row(s) affected)"
                    },
                    "metadata": {}
                },
                {
                    "output_type": "display_data",
                    "data": {
                        "text/html": "Total execution time: 00:00:00.023"
                    },
                    "metadata": {}
                },
                {
                    "output_type": "execute_result",
                    "metadata": {},
                    "execution_count": 47,
                    "data": {
                        "application/vnd.dataresource+json": {
                            "schema": {
                                "fields": [
                                    {
                                        "name": "oid"
                                    },
                                    {
                                        "name": "conname"
                                    },
                                    {
                                        "name": "connamespace"
                                    },
                                    {
                                        "name": "contype"
                                    },
                                    {
                                        "name": "condeferrable"
                                    },
                                    {
                                        "name": "condeferred"
                                    },
                                    {
                                        "name": "convalidated"
                                    },
                                    {
                                        "name": "conrelid"
                                    },
                                    {
                                        "name": "contypid"
                                    },
                                    {
                                        "name": "conindid"
                                    },
                                    {
                                        "name": "conparentid"
                                    },
                                    {
                                        "name": "confrelid"
                                    },
                                    {
                                        "name": "confupdtype"
                                    },
                                    {
                                        "name": "confdeltype"
                                    },
                                    {
                                        "name": "confmatchtype"
                                    },
                                    {
                                        "name": "conislocal"
                                    },
                                    {
                                        "name": "coninhcount"
                                    },
                                    {
                                        "name": "connoinherit"
                                    },
                                    {
                                        "name": "conkey"
                                    },
                                    {
                                        "name": "confkey"
                                    },
                                    {
                                        "name": "conpfeqop"
                                    },
                                    {
                                        "name": "conppeqop"
                                    },
                                    {
                                        "name": "conffeqop"
                                    },
                                    {
                                        "name": "confdelsetcols"
                                    },
                                    {
                                        "name": "conexclop"
                                    },
                                    {
                                        "name": "conbin"
                                    }
                                ]
                            },
                            "data": [
                                {
                                    "oid": "27728",
                                    "conname": "states_pkey",
                                    "connamespace": "27721",
                                    "contype": "p",
                                    "condeferrable": "False",
                                    "condeferred": "False",
                                    "convalidated": "True",
                                    "conrelid": "27722",
                                    "contypid": "0",
                                    "conindid": "27727",
                                    "conparentid": "0",
                                    "confrelid": "0",
                                    "confupdtype": " ",
                                    "confdeltype": " ",
                                    "confmatchtype": " ",
                                    "conislocal": "True",
                                    "coninhcount": "0",
                                    "connoinherit": "True",
                                    "conkey": "[1]",
                                    "confkey": "NULL",
                                    "conpfeqop": "NULL",
                                    "conppeqop": "NULL",
                                    "conffeqop": "NULL",
                                    "confdelsetcols": "NULL",
                                    "conexclop": "NULL",
                                    "conbin": "NULL"
                                }
                            ]
                        },
                        "text/html": [
                            "<table>",
                            "<tr><th>oid</th><th>conname</th><th>connamespace</th><th>contype</th><th>condeferrable</th><th>condeferred</th><th>convalidated</th><th>conrelid</th><th>contypid</th><th>conindid</th><th>conparentid</th><th>confrelid</th><th>confupdtype</th><th>confdeltype</th><th>confmatchtype</th><th>conislocal</th><th>coninhcount</th><th>connoinherit</th><th>conkey</th><th>confkey</th><th>conpfeqop</th><th>conppeqop</th><th>conffeqop</th><th>confdelsetcols</th><th>conexclop</th><th>conbin</th></tr>",
                            "<tr><td>27728</td><td>states_pkey</td><td>27721</td><td>p</td><td>False</td><td>False</td><td>True</td><td>27722</td><td>0</td><td>27727</td><td>0</td><td>0</td><td> </td><td> </td><td> </td><td>True</td><td>0</td><td>True</td><td>[1]</td><td>NULL</td><td>NULL</td><td>NULL</td><td>NULL</td><td>NULL</td><td>NULL</td><td>NULL</td></tr>",
                            "</table>"
                        ]
                    }
                }
            ],
            "execution_count": 47
        },
        {
            "cell_type": "code",
            "source": [
                "-- 2) To validate the constraints are placed on CUSTOMERS table\r\n",
                "SELECT con.*\r\n",
                "    FROM pg_catalog.pg_constraint con\r\n",
                "        INNER JOIN pg_catalog.pg_class rel ON rel.oid = con.conrelid\r\n",
                "        INNER JOIN pg_catalog.pg_namespace nsp ON nsp.oid = connamespace\r\n",
                "        WHERE nsp.nspname = 'dsci_504'\r\n",
                "             AND rel.relname = 'customers';"
            ],
            "metadata": {
                "language": "sql",
                "azdata_cell_guid": "097979cc-2cc1-469e-abac-5f6b3a84cf0d"
            },
            "outputs": [
                {
                    "output_type": "display_data",
                    "data": {
                        "text/html": "(2 row(s) affected)"
                    },
                    "metadata": {}
                },
                {
                    "output_type": "display_data",
                    "data": {
                        "text/html": "Total execution time: 00:00:00.020"
                    },
                    "metadata": {}
                },
                {
                    "output_type": "execute_result",
                    "metadata": {},
                    "execution_count": 48,
                    "data": {
                        "application/vnd.dataresource+json": {
                            "schema": {
                                "fields": [
                                    {
                                        "name": "oid"
                                    },
                                    {
                                        "name": "conname"
                                    },
                                    {
                                        "name": "connamespace"
                                    },
                                    {
                                        "name": "contype"
                                    },
                                    {
                                        "name": "condeferrable"
                                    },
                                    {
                                        "name": "condeferred"
                                    },
                                    {
                                        "name": "convalidated"
                                    },
                                    {
                                        "name": "conrelid"
                                    },
                                    {
                                        "name": "contypid"
                                    },
                                    {
                                        "name": "conindid"
                                    },
                                    {
                                        "name": "conparentid"
                                    },
                                    {
                                        "name": "confrelid"
                                    },
                                    {
                                        "name": "confupdtype"
                                    },
                                    {
                                        "name": "confdeltype"
                                    },
                                    {
                                        "name": "confmatchtype"
                                    },
                                    {
                                        "name": "conislocal"
                                    },
                                    {
                                        "name": "coninhcount"
                                    },
                                    {
                                        "name": "connoinherit"
                                    },
                                    {
                                        "name": "conkey"
                                    },
                                    {
                                        "name": "confkey"
                                    },
                                    {
                                        "name": "conpfeqop"
                                    },
                                    {
                                        "name": "conppeqop"
                                    },
                                    {
                                        "name": "conffeqop"
                                    },
                                    {
                                        "name": "confdelsetcols"
                                    },
                                    {
                                        "name": "conexclop"
                                    },
                                    {
                                        "name": "conbin"
                                    }
                                ]
                            },
                            "data": [
                                {
                                    "oid": "27737",
                                    "conname": "customers_pkey",
                                    "connamespace": "27721",
                                    "contype": "p",
                                    "condeferrable": "False",
                                    "condeferred": "False",
                                    "convalidated": "True",
                                    "conrelid": "27730",
                                    "contypid": "0",
                                    "conindid": "27736",
                                    "conparentid": "0",
                                    "confrelid": "0",
                                    "confupdtype": " ",
                                    "confdeltype": " ",
                                    "confmatchtype": " ",
                                    "conislocal": "True",
                                    "coninhcount": "0",
                                    "connoinherit": "True",
                                    "conkey": "[1]",
                                    "confkey": "NULL",
                                    "conpfeqop": "NULL",
                                    "conppeqop": "NULL",
                                    "conffeqop": "NULL",
                                    "confdelsetcols": "NULL",
                                    "conexclop": "NULL",
                                    "conbin": "NULL"
                                },
                                {
                                    "oid": "27738",
                                    "conname": "customers_state_id_fkey",
                                    "connamespace": "27721",
                                    "contype": "f",
                                    "condeferrable": "False",
                                    "condeferred": "False",
                                    "convalidated": "True",
                                    "conrelid": "27730",
                                    "contypid": "0",
                                    "conindid": "27727",
                                    "conparentid": "0",
                                    "confrelid": "27722",
                                    "confupdtype": "a",
                                    "confdeltype": "a",
                                    "confmatchtype": "s",
                                    "conislocal": "True",
                                    "coninhcount": "0",
                                    "connoinherit": "True",
                                    "conkey": "[8]",
                                    "confkey": "[1]",
                                    "conpfeqop": "{96}",
                                    "conppeqop": "{96}",
                                    "conffeqop": "{96}",
                                    "confdelsetcols": "NULL",
                                    "conexclop": "NULL",
                                    "conbin": "NULL"
                                }
                            ]
                        },
                        "text/html": [
                            "<table>",
                            "<tr><th>oid</th><th>conname</th><th>connamespace</th><th>contype</th><th>condeferrable</th><th>condeferred</th><th>convalidated</th><th>conrelid</th><th>contypid</th><th>conindid</th><th>conparentid</th><th>confrelid</th><th>confupdtype</th><th>confdeltype</th><th>confmatchtype</th><th>conislocal</th><th>coninhcount</th><th>connoinherit</th><th>conkey</th><th>confkey</th><th>conpfeqop</th><th>conppeqop</th><th>conffeqop</th><th>confdelsetcols</th><th>conexclop</th><th>conbin</th></tr>",
                            "<tr><td>27737</td><td>customers_pkey</td><td>27721</td><td>p</td><td>False</td><td>False</td><td>True</td><td>27730</td><td>0</td><td>27736</td><td>0</td><td>0</td><td> </td><td> </td><td> </td><td>True</td><td>0</td><td>True</td><td>[1]</td><td>NULL</td><td>NULL</td><td>NULL</td><td>NULL</td><td>NULL</td><td>NULL</td><td>NULL</td></tr>",
                            "<tr><td>27738</td><td>customers_state_id_fkey</td><td>27721</td><td>f</td><td>False</td><td>False</td><td>True</td><td>27730</td><td>0</td><td>27727</td><td>0</td><td>27722</td><td>a</td><td>a</td><td>s</td><td>True</td><td>0</td><td>True</td><td>[8]</td><td>[1]</td><td>{96}</td><td>{96}</td><td>{96}</td><td>NULL</td><td>NULL</td><td>NULL</td></tr>",
                            "</table>"
                        ]
                    }
                }
            ],
            "execution_count": 48
        },
        {
            "cell_type": "code",
            "source": [
                "-- 3) To validate the constraints are placed on WAREHOUSES table\r\n",
                "SELECT con.*\r\n",
                "    FROM pg_catalog.pg_constraint con\r\n",
                "        INNER JOIN pg_catalog.pg_class rel ON rel.oid = con.conrelid\r\n",
                "        INNER JOIN pg_catalog.pg_namespace nsp ON nsp.oid = connamespace\r\n",
                "        WHERE nsp.nspname = 'dsci_504'\r\n",
                "             AND rel.relname = 'warehouses';"
            ],
            "metadata": {
                "language": "sql",
                "azdata_cell_guid": "1560566d-041f-443a-a47b-5f9c622bc675"
            },
            "outputs": [
                {
                    "output_type": "display_data",
                    "data": {
                        "text/html": "(2 row(s) affected)"
                    },
                    "metadata": {}
                },
                {
                    "output_type": "display_data",
                    "data": {
                        "text/html": "Total execution time: 00:00:00.008"
                    },
                    "metadata": {}
                },
                {
                    "output_type": "execute_result",
                    "metadata": {},
                    "execution_count": 49,
                    "data": {
                        "application/vnd.dataresource+json": {
                            "schema": {
                                "fields": [
                                    {
                                        "name": "oid"
                                    },
                                    {
                                        "name": "conname"
                                    },
                                    {
                                        "name": "connamespace"
                                    },
                                    {
                                        "name": "contype"
                                    },
                                    {
                                        "name": "condeferrable"
                                    },
                                    {
                                        "name": "condeferred"
                                    },
                                    {
                                        "name": "convalidated"
                                    },
                                    {
                                        "name": "conrelid"
                                    },
                                    {
                                        "name": "contypid"
                                    },
                                    {
                                        "name": "conindid"
                                    },
                                    {
                                        "name": "conparentid"
                                    },
                                    {
                                        "name": "confrelid"
                                    },
                                    {
                                        "name": "confupdtype"
                                    },
                                    {
                                        "name": "confdeltype"
                                    },
                                    {
                                        "name": "confmatchtype"
                                    },
                                    {
                                        "name": "conislocal"
                                    },
                                    {
                                        "name": "coninhcount"
                                    },
                                    {
                                        "name": "connoinherit"
                                    },
                                    {
                                        "name": "conkey"
                                    },
                                    {
                                        "name": "confkey"
                                    },
                                    {
                                        "name": "conpfeqop"
                                    },
                                    {
                                        "name": "conppeqop"
                                    },
                                    {
                                        "name": "conffeqop"
                                    },
                                    {
                                        "name": "confdelsetcols"
                                    },
                                    {
                                        "name": "conexclop"
                                    },
                                    {
                                        "name": "conbin"
                                    }
                                ]
                            },
                            "data": [
                                {
                                    "oid": "27751",
                                    "conname": "warehouses_pkey",
                                    "connamespace": "27721",
                                    "contype": "p",
                                    "condeferrable": "False",
                                    "condeferred": "False",
                                    "convalidated": "True",
                                    "conrelid": "27744",
                                    "contypid": "0",
                                    "conindid": "27750",
                                    "conparentid": "0",
                                    "confrelid": "0",
                                    "confupdtype": " ",
                                    "confdeltype": " ",
                                    "confmatchtype": " ",
                                    "conislocal": "True",
                                    "coninhcount": "0",
                                    "connoinherit": "True",
                                    "conkey": "[1]",
                                    "confkey": "NULL",
                                    "conpfeqop": "NULL",
                                    "conppeqop": "NULL",
                                    "conffeqop": "NULL",
                                    "confdelsetcols": "NULL",
                                    "conexclop": "NULL",
                                    "conbin": "NULL"
                                },
                                {
                                    "oid": "27752",
                                    "conname": "warehouses_state_id_fkey",
                                    "connamespace": "27721",
                                    "contype": "f",
                                    "condeferrable": "False",
                                    "condeferred": "False",
                                    "convalidated": "True",
                                    "conrelid": "27744",
                                    "contypid": "0",
                                    "conindid": "27727",
                                    "conparentid": "0",
                                    "confrelid": "27722",
                                    "confupdtype": "a",
                                    "confdeltype": "a",
                                    "confmatchtype": "s",
                                    "conislocal": "True",
                                    "coninhcount": "0",
                                    "connoinherit": "True",
                                    "conkey": "[3]",
                                    "confkey": "[1]",
                                    "conpfeqop": "{96}",
                                    "conppeqop": "{96}",
                                    "conffeqop": "{96}",
                                    "confdelsetcols": "NULL",
                                    "conexclop": "NULL",
                                    "conbin": "NULL"
                                }
                            ]
                        },
                        "text/html": [
                            "<table>",
                            "<tr><th>oid</th><th>conname</th><th>connamespace</th><th>contype</th><th>condeferrable</th><th>condeferred</th><th>convalidated</th><th>conrelid</th><th>contypid</th><th>conindid</th><th>conparentid</th><th>confrelid</th><th>confupdtype</th><th>confdeltype</th><th>confmatchtype</th><th>conislocal</th><th>coninhcount</th><th>connoinherit</th><th>conkey</th><th>confkey</th><th>conpfeqop</th><th>conppeqop</th><th>conffeqop</th><th>confdelsetcols</th><th>conexclop</th><th>conbin</th></tr>",
                            "<tr><td>27751</td><td>warehouses_pkey</td><td>27721</td><td>p</td><td>False</td><td>False</td><td>True</td><td>27744</td><td>0</td><td>27750</td><td>0</td><td>0</td><td> </td><td> </td><td> </td><td>True</td><td>0</td><td>True</td><td>[1]</td><td>NULL</td><td>NULL</td><td>NULL</td><td>NULL</td><td>NULL</td><td>NULL</td><td>NULL</td></tr>",
                            "<tr><td>27752</td><td>warehouses_state_id_fkey</td><td>27721</td><td>f</td><td>False</td><td>False</td><td>True</td><td>27744</td><td>0</td><td>27727</td><td>0</td><td>27722</td><td>a</td><td>a</td><td>s</td><td>True</td><td>0</td><td>True</td><td>[3]</td><td>[1]</td><td>{96}</td><td>{96}</td><td>{96}</td><td>NULL</td><td>NULL</td><td>NULL</td></tr>",
                            "</table>"
                        ]
                    }
                }
            ],
            "execution_count": 49
        },
        {
            "cell_type": "code",
            "source": [
                "-- 4) To validate the constraints are placed on SUPPLIERS table\r\n",
                "SELECT con.*\r\n",
                "    FROM pg_catalog.pg_constraint con\r\n",
                "        INNER JOIN pg_catalog.pg_class rel ON rel.oid = con.conrelid\r\n",
                "        INNER JOIN pg_catalog.pg_namespace nsp ON nsp.oid = connamespace\r\n",
                "        WHERE nsp.nspname = 'dsci_504'\r\n",
                "             AND rel.relname = 'suppliers';"
            ],
            "metadata": {
                "language": "sql",
                "azdata_cell_guid": "e02ed6ee-644c-4047-8ed7-6cd31805c8fb"
            },
            "outputs": [
                {
                    "output_type": "display_data",
                    "data": {
                        "text/html": "(1 row(s) affected)"
                    },
                    "metadata": {}
                },
                {
                    "output_type": "display_data",
                    "data": {
                        "text/html": "Total execution time: 00:00:00.013"
                    },
                    "metadata": {}
                },
                {
                    "output_type": "execute_result",
                    "metadata": {},
                    "execution_count": 50,
                    "data": {
                        "application/vnd.dataresource+json": {
                            "schema": {
                                "fields": [
                                    {
                                        "name": "oid"
                                    },
                                    {
                                        "name": "conname"
                                    },
                                    {
                                        "name": "connamespace"
                                    },
                                    {
                                        "name": "contype"
                                    },
                                    {
                                        "name": "condeferrable"
                                    },
                                    {
                                        "name": "condeferred"
                                    },
                                    {
                                        "name": "convalidated"
                                    },
                                    {
                                        "name": "conrelid"
                                    },
                                    {
                                        "name": "contypid"
                                    },
                                    {
                                        "name": "conindid"
                                    },
                                    {
                                        "name": "conparentid"
                                    },
                                    {
                                        "name": "confrelid"
                                    },
                                    {
                                        "name": "confupdtype"
                                    },
                                    {
                                        "name": "confdeltype"
                                    },
                                    {
                                        "name": "confmatchtype"
                                    },
                                    {
                                        "name": "conislocal"
                                    },
                                    {
                                        "name": "coninhcount"
                                    },
                                    {
                                        "name": "connoinherit"
                                    },
                                    {
                                        "name": "conkey"
                                    },
                                    {
                                        "name": "confkey"
                                    },
                                    {
                                        "name": "conpfeqop"
                                    },
                                    {
                                        "name": "conppeqop"
                                    },
                                    {
                                        "name": "conffeqop"
                                    },
                                    {
                                        "name": "confdelsetcols"
                                    },
                                    {
                                        "name": "conexclop"
                                    },
                                    {
                                        "name": "conbin"
                                    }
                                ]
                            },
                            "data": [
                                {
                                    "oid": "27765",
                                    "conname": "suppliers_pkey",
                                    "connamespace": "27721",
                                    "contype": "p",
                                    "condeferrable": "False",
                                    "condeferred": "False",
                                    "convalidated": "True",
                                    "conrelid": "27758",
                                    "contypid": "0",
                                    "conindid": "27764",
                                    "conparentid": "0",
                                    "confrelid": "0",
                                    "confupdtype": " ",
                                    "confdeltype": " ",
                                    "confmatchtype": " ",
                                    "conislocal": "True",
                                    "coninhcount": "0",
                                    "connoinherit": "True",
                                    "conkey": "[1]",
                                    "confkey": "NULL",
                                    "conpfeqop": "NULL",
                                    "conppeqop": "NULL",
                                    "conffeqop": "NULL",
                                    "confdelsetcols": "NULL",
                                    "conexclop": "NULL",
                                    "conbin": "NULL"
                                }
                            ]
                        },
                        "text/html": [
                            "<table>",
                            "<tr><th>oid</th><th>conname</th><th>connamespace</th><th>contype</th><th>condeferrable</th><th>condeferred</th><th>convalidated</th><th>conrelid</th><th>contypid</th><th>conindid</th><th>conparentid</th><th>confrelid</th><th>confupdtype</th><th>confdeltype</th><th>confmatchtype</th><th>conislocal</th><th>coninhcount</th><th>connoinherit</th><th>conkey</th><th>confkey</th><th>conpfeqop</th><th>conppeqop</th><th>conffeqop</th><th>confdelsetcols</th><th>conexclop</th><th>conbin</th></tr>",
                            "<tr><td>27765</td><td>suppliers_pkey</td><td>27721</td><td>p</td><td>False</td><td>False</td><td>True</td><td>27758</td><td>0</td><td>27764</td><td>0</td><td>0</td><td> </td><td> </td><td> </td><td>True</td><td>0</td><td>True</td><td>[1]</td><td>NULL</td><td>NULL</td><td>NULL</td><td>NULL</td><td>NULL</td><td>NULL</td><td>NULL</td></tr>",
                            "</table>"
                        ]
                    }
                }
            ],
            "execution_count": 50
        },
        {
            "cell_type": "code",
            "source": [
                "-- 5) To validate the constraints are placed on COMPONETNTS table\r\n",
                "SELECT con.*\r\n",
                "    FROM pg_catalog.pg_constraint con\r\n",
                "        INNER JOIN pg_catalog.pg_class rel ON rel.oid = con.conrelid\r\n",
                "        INNER JOIN pg_catalog.pg_namespace nsp ON nsp.oid = connamespace\r\n",
                "        WHERE nsp.nspname = 'dsci_504'\r\n",
                "             AND rel.relname = 'components';"
            ],
            "metadata": {
                "language": "sql",
                "azdata_cell_guid": "28440af2-2ac7-4e89-a851-df247032afb0"
            },
            "outputs": [
                {
                    "output_type": "display_data",
                    "data": {
                        "text/html": "(2 row(s) affected)"
                    },
                    "metadata": {}
                },
                {
                    "output_type": "display_data",
                    "data": {
                        "text/html": "Total execution time: 00:00:00.005"
                    },
                    "metadata": {}
                },
                {
                    "output_type": "execute_result",
                    "metadata": {},
                    "execution_count": 51,
                    "data": {
                        "application/vnd.dataresource+json": {
                            "schema": {
                                "fields": [
                                    {
                                        "name": "oid"
                                    },
                                    {
                                        "name": "conname"
                                    },
                                    {
                                        "name": "connamespace"
                                    },
                                    {
                                        "name": "contype"
                                    },
                                    {
                                        "name": "condeferrable"
                                    },
                                    {
                                        "name": "condeferred"
                                    },
                                    {
                                        "name": "convalidated"
                                    },
                                    {
                                        "name": "conrelid"
                                    },
                                    {
                                        "name": "contypid"
                                    },
                                    {
                                        "name": "conindid"
                                    },
                                    {
                                        "name": "conparentid"
                                    },
                                    {
                                        "name": "confrelid"
                                    },
                                    {
                                        "name": "confupdtype"
                                    },
                                    {
                                        "name": "confdeltype"
                                    },
                                    {
                                        "name": "confmatchtype"
                                    },
                                    {
                                        "name": "conislocal"
                                    },
                                    {
                                        "name": "coninhcount"
                                    },
                                    {
                                        "name": "connoinherit"
                                    },
                                    {
                                        "name": "conkey"
                                    },
                                    {
                                        "name": "confkey"
                                    },
                                    {
                                        "name": "conpfeqop"
                                    },
                                    {
                                        "name": "conppeqop"
                                    },
                                    {
                                        "name": "conffeqop"
                                    },
                                    {
                                        "name": "confdelsetcols"
                                    },
                                    {
                                        "name": "conexclop"
                                    },
                                    {
                                        "name": "conbin"
                                    }
                                ]
                            },
                            "data": [
                                {
                                    "oid": "27774",
                                    "conname": "components_pkey",
                                    "connamespace": "27721",
                                    "contype": "p",
                                    "condeferrable": "False",
                                    "condeferred": "False",
                                    "convalidated": "True",
                                    "conrelid": "27767",
                                    "contypid": "0",
                                    "conindid": "27773",
                                    "conparentid": "0",
                                    "confrelid": "0",
                                    "confupdtype": " ",
                                    "confdeltype": " ",
                                    "confmatchtype": " ",
                                    "conislocal": "True",
                                    "coninhcount": "0",
                                    "connoinherit": "True",
                                    "conkey": "[1]",
                                    "confkey": "NULL",
                                    "conpfeqop": "NULL",
                                    "conppeqop": "NULL",
                                    "conffeqop": "NULL",
                                    "confdelsetcols": "NULL",
                                    "conexclop": "NULL",
                                    "conbin": "NULL"
                                },
                                {
                                    "oid": "27775",
                                    "conname": "components_sup_id_fkey",
                                    "connamespace": "27721",
                                    "contype": "f",
                                    "condeferrable": "False",
                                    "condeferred": "False",
                                    "convalidated": "True",
                                    "conrelid": "27767",
                                    "contypid": "0",
                                    "conindid": "27764",
                                    "conparentid": "0",
                                    "confrelid": "27758",
                                    "confupdtype": "a",
                                    "confdeltype": "a",
                                    "confmatchtype": "s",
                                    "conislocal": "True",
                                    "coninhcount": "0",
                                    "connoinherit": "True",
                                    "conkey": "[4]",
                                    "confkey": "[1]",
                                    "conpfeqop": "{96}",
                                    "conppeqop": "{96}",
                                    "conffeqop": "{96}",
                                    "confdelsetcols": "NULL",
                                    "conexclop": "NULL",
                                    "conbin": "NULL"
                                }
                            ]
                        },
                        "text/html": [
                            "<table>",
                            "<tr><th>oid</th><th>conname</th><th>connamespace</th><th>contype</th><th>condeferrable</th><th>condeferred</th><th>convalidated</th><th>conrelid</th><th>contypid</th><th>conindid</th><th>conparentid</th><th>confrelid</th><th>confupdtype</th><th>confdeltype</th><th>confmatchtype</th><th>conislocal</th><th>coninhcount</th><th>connoinherit</th><th>conkey</th><th>confkey</th><th>conpfeqop</th><th>conppeqop</th><th>conffeqop</th><th>confdelsetcols</th><th>conexclop</th><th>conbin</th></tr>",
                            "<tr><td>27774</td><td>components_pkey</td><td>27721</td><td>p</td><td>False</td><td>False</td><td>True</td><td>27767</td><td>0</td><td>27773</td><td>0</td><td>0</td><td> </td><td> </td><td> </td><td>True</td><td>0</td><td>True</td><td>[1]</td><td>NULL</td><td>NULL</td><td>NULL</td><td>NULL</td><td>NULL</td><td>NULL</td><td>NULL</td></tr>",
                            "<tr><td>27775</td><td>components_sup_id_fkey</td><td>27721</td><td>f</td><td>False</td><td>False</td><td>True</td><td>27767</td><td>0</td><td>27764</td><td>0</td><td>27758</td><td>a</td><td>a</td><td>s</td><td>True</td><td>0</td><td>True</td><td>[4]</td><td>[1]</td><td>{96}</td><td>{96}</td><td>{96}</td><td>NULL</td><td>NULL</td><td>NULL</td></tr>",
                            "</table>"
                        ]
                    }
                }
            ],
            "execution_count": 51
        },
        {
            "cell_type": "code",
            "source": [
                "-- 6) To validate the constraints are placed on BUILDS table\r\n",
                "SELECT con.*\r\n",
                "    FROM pg_catalog.pg_constraint con\r\n",
                "        INNER JOIN pg_catalog.pg_class rel ON rel.oid = con.conrelid\r\n",
                "        INNER JOIN pg_catalog.pg_namespace nsp ON nsp.oid = connamespace\r\n",
                "        WHERE nsp.nspname = 'dsci_504'\r\n",
                "             AND rel.relname = 'builds';"
            ],
            "metadata": {
                "language": "sql",
                "azdata_cell_guid": "60a653ef-8142-482d-aab3-d0be323acda5"
            },
            "outputs": [
                {
                    "output_type": "display_data",
                    "data": {
                        "text/html": "(1 row(s) affected)"
                    },
                    "metadata": {}
                },
                {
                    "output_type": "display_data",
                    "data": {
                        "text/html": "Total execution time: 00:00:00.006"
                    },
                    "metadata": {}
                },
                {
                    "output_type": "execute_result",
                    "metadata": {},
                    "execution_count": 52,
                    "data": {
                        "application/vnd.dataresource+json": {
                            "schema": {
                                "fields": [
                                    {
                                        "name": "oid"
                                    },
                                    {
                                        "name": "conname"
                                    },
                                    {
                                        "name": "connamespace"
                                    },
                                    {
                                        "name": "contype"
                                    },
                                    {
                                        "name": "condeferrable"
                                    },
                                    {
                                        "name": "condeferred"
                                    },
                                    {
                                        "name": "convalidated"
                                    },
                                    {
                                        "name": "conrelid"
                                    },
                                    {
                                        "name": "contypid"
                                    },
                                    {
                                        "name": "conindid"
                                    },
                                    {
                                        "name": "conparentid"
                                    },
                                    {
                                        "name": "confrelid"
                                    },
                                    {
                                        "name": "confupdtype"
                                    },
                                    {
                                        "name": "confdeltype"
                                    },
                                    {
                                        "name": "confmatchtype"
                                    },
                                    {
                                        "name": "conislocal"
                                    },
                                    {
                                        "name": "coninhcount"
                                    },
                                    {
                                        "name": "connoinherit"
                                    },
                                    {
                                        "name": "conkey"
                                    },
                                    {
                                        "name": "confkey"
                                    },
                                    {
                                        "name": "conpfeqop"
                                    },
                                    {
                                        "name": "conppeqop"
                                    },
                                    {
                                        "name": "conffeqop"
                                    },
                                    {
                                        "name": "confdelsetcols"
                                    },
                                    {
                                        "name": "conexclop"
                                    },
                                    {
                                        "name": "conbin"
                                    }
                                ]
                            },
                            "data": [
                                {
                                    "oid": "27788",
                                    "conname": "builds_pkey",
                                    "connamespace": "27721",
                                    "contype": "p",
                                    "condeferrable": "False",
                                    "condeferred": "False",
                                    "convalidated": "True",
                                    "conrelid": "27781",
                                    "contypid": "0",
                                    "conindid": "27787",
                                    "conparentid": "0",
                                    "confrelid": "0",
                                    "confupdtype": " ",
                                    "confdeltype": " ",
                                    "confmatchtype": " ",
                                    "conislocal": "True",
                                    "coninhcount": "0",
                                    "connoinherit": "True",
                                    "conkey": "[1]",
                                    "confkey": "NULL",
                                    "conpfeqop": "NULL",
                                    "conppeqop": "NULL",
                                    "conffeqop": "NULL",
                                    "confdelsetcols": "NULL",
                                    "conexclop": "NULL",
                                    "conbin": "NULL"
                                }
                            ]
                        },
                        "text/html": [
                            "<table>",
                            "<tr><th>oid</th><th>conname</th><th>connamespace</th><th>contype</th><th>condeferrable</th><th>condeferred</th><th>convalidated</th><th>conrelid</th><th>contypid</th><th>conindid</th><th>conparentid</th><th>confrelid</th><th>confupdtype</th><th>confdeltype</th><th>confmatchtype</th><th>conislocal</th><th>coninhcount</th><th>connoinherit</th><th>conkey</th><th>confkey</th><th>conpfeqop</th><th>conppeqop</th><th>conffeqop</th><th>confdelsetcols</th><th>conexclop</th><th>conbin</th></tr>",
                            "<tr><td>27788</td><td>builds_pkey</td><td>27721</td><td>p</td><td>False</td><td>False</td><td>True</td><td>27781</td><td>0</td><td>27787</td><td>0</td><td>0</td><td> </td><td> </td><td> </td><td>True</td><td>0</td><td>True</td><td>[1]</td><td>NULL</td><td>NULL</td><td>NULL</td><td>NULL</td><td>NULL</td><td>NULL</td><td>NULL</td></tr>",
                            "</table>"
                        ]
                    }
                }
            ],
            "execution_count": 52
        },
        {
            "cell_type": "code",
            "source": [
                "-- 7) To validate the constraints are placed on BUILD_COMPONENTS table\r\n",
                "SELECT con.*\r\n",
                "    FROM pg_catalog.pg_constraint con\r\n",
                "        INNER JOIN pg_catalog.pg_class rel ON rel.oid = con.conrelid\r\n",
                "        INNER JOIN pg_catalog.pg_namespace nsp ON nsp.oid = connamespace\r\n",
                "        WHERE nsp.nspname = 'dsci_504'\r\n",
                "             AND rel.relname = 'build_components';"
            ],
            "metadata": {
                "language": "sql",
                "azdata_cell_guid": "2393ea0a-98d4-48cd-89a4-6315ab662086"
            },
            "outputs": [
                {
                    "output_type": "display_data",
                    "data": {
                        "text/html": "(3 row(s) affected)"
                    },
                    "metadata": {}
                },
                {
                    "output_type": "display_data",
                    "data": {
                        "text/html": "Total execution time: 00:00:00.010"
                    },
                    "metadata": {}
                },
                {
                    "output_type": "execute_result",
                    "metadata": {},
                    "execution_count": 53,
                    "data": {
                        "application/vnd.dataresource+json": {
                            "schema": {
                                "fields": [
                                    {
                                        "name": "oid"
                                    },
                                    {
                                        "name": "conname"
                                    },
                                    {
                                        "name": "connamespace"
                                    },
                                    {
                                        "name": "contype"
                                    },
                                    {
                                        "name": "condeferrable"
                                    },
                                    {
                                        "name": "condeferred"
                                    },
                                    {
                                        "name": "convalidated"
                                    },
                                    {
                                        "name": "conrelid"
                                    },
                                    {
                                        "name": "contypid"
                                    },
                                    {
                                        "name": "conindid"
                                    },
                                    {
                                        "name": "conparentid"
                                    },
                                    {
                                        "name": "confrelid"
                                    },
                                    {
                                        "name": "confupdtype"
                                    },
                                    {
                                        "name": "confdeltype"
                                    },
                                    {
                                        "name": "confmatchtype"
                                    },
                                    {
                                        "name": "conislocal"
                                    },
                                    {
                                        "name": "coninhcount"
                                    },
                                    {
                                        "name": "connoinherit"
                                    },
                                    {
                                        "name": "conkey"
                                    },
                                    {
                                        "name": "confkey"
                                    },
                                    {
                                        "name": "conpfeqop"
                                    },
                                    {
                                        "name": "conppeqop"
                                    },
                                    {
                                        "name": "conffeqop"
                                    },
                                    {
                                        "name": "confdelsetcols"
                                    },
                                    {
                                        "name": "conexclop"
                                    },
                                    {
                                        "name": "conbin"
                                    }
                                ]
                            },
                            "data": [
                                {
                                    "oid": "27793",
                                    "conname": "build_components_pkey",
                                    "connamespace": "27721",
                                    "contype": "p",
                                    "condeferrable": "False",
                                    "condeferred": "False",
                                    "convalidated": "True",
                                    "conrelid": "27789",
                                    "contypid": "0",
                                    "conindid": "27792",
                                    "conparentid": "0",
                                    "confrelid": "0",
                                    "confupdtype": " ",
                                    "confdeltype": " ",
                                    "confmatchtype": " ",
                                    "conislocal": "True",
                                    "coninhcount": "0",
                                    "connoinherit": "True",
                                    "conkey": "[1, 2]",
                                    "confkey": "NULL",
                                    "conpfeqop": "NULL",
                                    "conppeqop": "NULL",
                                    "conffeqop": "NULL",
                                    "confdelsetcols": "NULL",
                                    "conexclop": "NULL",
                                    "conbin": "NULL"
                                },
                                {
                                    "oid": "27794",
                                    "conname": "build_components_build_id_fkey",
                                    "connamespace": "27721",
                                    "contype": "f",
                                    "condeferrable": "False",
                                    "condeferred": "False",
                                    "convalidated": "True",
                                    "conrelid": "27789",
                                    "contypid": "0",
                                    "conindid": "27787",
                                    "conparentid": "0",
                                    "confrelid": "27781",
                                    "confupdtype": "a",
                                    "confdeltype": "a",
                                    "confmatchtype": "s",
                                    "conislocal": "True",
                                    "coninhcount": "0",
                                    "connoinherit": "True",
                                    "conkey": "[1]",
                                    "confkey": "[1]",
                                    "conpfeqop": "{96}",
                                    "conppeqop": "{96}",
                                    "conffeqop": "{96}",
                                    "confdelsetcols": "NULL",
                                    "conexclop": "NULL",
                                    "conbin": "NULL"
                                },
                                {
                                    "oid": "27799",
                                    "conname": "build_components_comp_id_fkey",
                                    "connamespace": "27721",
                                    "contype": "f",
                                    "condeferrable": "False",
                                    "condeferred": "False",
                                    "convalidated": "True",
                                    "conrelid": "27789",
                                    "contypid": "0",
                                    "conindid": "27773",
                                    "conparentid": "0",
                                    "confrelid": "27767",
                                    "confupdtype": "a",
                                    "confdeltype": "a",
                                    "confmatchtype": "s",
                                    "conislocal": "True",
                                    "coninhcount": "0",
                                    "connoinherit": "True",
                                    "conkey": "[2]",
                                    "confkey": "[1]",
                                    "conpfeqop": "{96}",
                                    "conppeqop": "{96}",
                                    "conffeqop": "{96}",
                                    "confdelsetcols": "NULL",
                                    "conexclop": "NULL",
                                    "conbin": "NULL"
                                }
                            ]
                        },
                        "text/html": [
                            "<table>",
                            "<tr><th>oid</th><th>conname</th><th>connamespace</th><th>contype</th><th>condeferrable</th><th>condeferred</th><th>convalidated</th><th>conrelid</th><th>contypid</th><th>conindid</th><th>conparentid</th><th>confrelid</th><th>confupdtype</th><th>confdeltype</th><th>confmatchtype</th><th>conislocal</th><th>coninhcount</th><th>connoinherit</th><th>conkey</th><th>confkey</th><th>conpfeqop</th><th>conppeqop</th><th>conffeqop</th><th>confdelsetcols</th><th>conexclop</th><th>conbin</th></tr>",
                            "<tr><td>27793</td><td>build_components_pkey</td><td>27721</td><td>p</td><td>False</td><td>False</td><td>True</td><td>27789</td><td>0</td><td>27792</td><td>0</td><td>0</td><td> </td><td> </td><td> </td><td>True</td><td>0</td><td>True</td><td>[1, 2]</td><td>NULL</td><td>NULL</td><td>NULL</td><td>NULL</td><td>NULL</td><td>NULL</td><td>NULL</td></tr>",
                            "<tr><td>27794</td><td>build_components_build_id_fkey</td><td>27721</td><td>f</td><td>False</td><td>False</td><td>True</td><td>27789</td><td>0</td><td>27787</td><td>0</td><td>27781</td><td>a</td><td>a</td><td>s</td><td>True</td><td>0</td><td>True</td><td>[1]</td><td>[1]</td><td>{96}</td><td>{96}</td><td>{96}</td><td>NULL</td><td>NULL</td><td>NULL</td></tr>",
                            "<tr><td>27799</td><td>build_components_comp_id_fkey</td><td>27721</td><td>f</td><td>False</td><td>False</td><td>True</td><td>27789</td><td>0</td><td>27773</td><td>0</td><td>27767</td><td>a</td><td>a</td><td>s</td><td>True</td><td>0</td><td>True</td><td>[2]</td><td>[1]</td><td>{96}</td><td>{96}</td><td>{96}</td><td>NULL</td><td>NULL</td><td>NULL</td></tr>",
                            "</table>"
                        ]
                    }
                }
            ],
            "execution_count": 53
        },
        {
            "cell_type": "code",
            "source": [
                "-- 8) To validate the constraints are placed on PRODUCTS table\r\n",
                "SELECT con.*\r\n",
                "    FROM pg_catalog.pg_constraint con\r\n",
                "        INNER JOIN pg_catalog.pg_class rel ON rel.oid = con.conrelid\r\n",
                "        INNER JOIN pg_catalog.pg_namespace nsp ON nsp.oid = connamespace\r\n",
                "        WHERE nsp.nspname = 'dsci_504'\r\n",
                "             AND rel.relname = 'products';"
            ],
            "metadata": {
                "language": "sql",
                "azdata_cell_guid": "2674f58c-29dc-4dc8-831b-00728ddf28f6"
            },
            "outputs": [
                {
                    "output_type": "display_data",
                    "data": {
                        "text/html": "(1 row(s) affected)"
                    },
                    "metadata": {}
                },
                {
                    "output_type": "display_data",
                    "data": {
                        "text/html": "Total execution time: 00:00:00.005"
                    },
                    "metadata": {}
                },
                {
                    "output_type": "execute_result",
                    "metadata": {},
                    "execution_count": 54,
                    "data": {
                        "application/vnd.dataresource+json": {
                            "schema": {
                                "fields": [
                                    {
                                        "name": "oid"
                                    },
                                    {
                                        "name": "conname"
                                    },
                                    {
                                        "name": "connamespace"
                                    },
                                    {
                                        "name": "contype"
                                    },
                                    {
                                        "name": "condeferrable"
                                    },
                                    {
                                        "name": "condeferred"
                                    },
                                    {
                                        "name": "convalidated"
                                    },
                                    {
                                        "name": "conrelid"
                                    },
                                    {
                                        "name": "contypid"
                                    },
                                    {
                                        "name": "conindid"
                                    },
                                    {
                                        "name": "conparentid"
                                    },
                                    {
                                        "name": "confrelid"
                                    },
                                    {
                                        "name": "confupdtype"
                                    },
                                    {
                                        "name": "confdeltype"
                                    },
                                    {
                                        "name": "confmatchtype"
                                    },
                                    {
                                        "name": "conislocal"
                                    },
                                    {
                                        "name": "coninhcount"
                                    },
                                    {
                                        "name": "connoinherit"
                                    },
                                    {
                                        "name": "conkey"
                                    },
                                    {
                                        "name": "confkey"
                                    },
                                    {
                                        "name": "conpfeqop"
                                    },
                                    {
                                        "name": "conppeqop"
                                    },
                                    {
                                        "name": "conffeqop"
                                    },
                                    {
                                        "name": "confdelsetcols"
                                    },
                                    {
                                        "name": "conexclop"
                                    },
                                    {
                                        "name": "conbin"
                                    }
                                ]
                            },
                            "data": [
                                {
                                    "oid": "27812",
                                    "conname": "products_pkey",
                                    "connamespace": "27721",
                                    "contype": "p",
                                    "condeferrable": "False",
                                    "condeferred": "False",
                                    "convalidated": "True",
                                    "conrelid": "27805",
                                    "contypid": "0",
                                    "conindid": "27811",
                                    "conparentid": "0",
                                    "confrelid": "0",
                                    "confupdtype": " ",
                                    "confdeltype": " ",
                                    "confmatchtype": " ",
                                    "conislocal": "True",
                                    "coninhcount": "0",
                                    "connoinherit": "True",
                                    "conkey": "[1]",
                                    "confkey": "NULL",
                                    "conpfeqop": "NULL",
                                    "conppeqop": "NULL",
                                    "conffeqop": "NULL",
                                    "confdelsetcols": "NULL",
                                    "conexclop": "NULL",
                                    "conbin": "NULL"
                                }
                            ]
                        },
                        "text/html": [
                            "<table>",
                            "<tr><th>oid</th><th>conname</th><th>connamespace</th><th>contype</th><th>condeferrable</th><th>condeferred</th><th>convalidated</th><th>conrelid</th><th>contypid</th><th>conindid</th><th>conparentid</th><th>confrelid</th><th>confupdtype</th><th>confdeltype</th><th>confmatchtype</th><th>conislocal</th><th>coninhcount</th><th>connoinherit</th><th>conkey</th><th>confkey</th><th>conpfeqop</th><th>conppeqop</th><th>conffeqop</th><th>confdelsetcols</th><th>conexclop</th><th>conbin</th></tr>",
                            "<tr><td>27812</td><td>products_pkey</td><td>27721</td><td>p</td><td>False</td><td>False</td><td>True</td><td>27805</td><td>0</td><td>27811</td><td>0</td><td>0</td><td> </td><td> </td><td> </td><td>True</td><td>0</td><td>True</td><td>[1]</td><td>NULL</td><td>NULL</td><td>NULL</td><td>NULL</td><td>NULL</td><td>NULL</td><td>NULL</td></tr>",
                            "</table>"
                        ]
                    }
                }
            ],
            "execution_count": 54
        },
        {
            "cell_type": "code",
            "source": [
                "-- 9) To validate the constraints are placed on PRODUCT_BUILDS table\r\n",
                "SELECT con.*\r\n",
                "    FROM pg_catalog.pg_constraint con\r\n",
                "        INNER JOIN pg_catalog.pg_class rel ON rel.oid = con.conrelid\r\n",
                "        INNER JOIN pg_catalog.pg_namespace nsp ON nsp.oid = connamespace\r\n",
                "        WHERE nsp.nspname = 'dsci_504'\r\n",
                "             AND rel.relname = 'product_builds';"
            ],
            "metadata": {
                "language": "sql",
                "azdata_cell_guid": "dc45b627-9b16-4a7d-be62-90a3c7322bcc"
            },
            "outputs": [
                {
                    "output_type": "display_data",
                    "data": {
                        "text/html": "(3 row(s) affected)"
                    },
                    "metadata": {}
                },
                {
                    "output_type": "display_data",
                    "data": {
                        "text/html": "Total execution time: 00:00:00.007"
                    },
                    "metadata": {}
                },
                {
                    "output_type": "execute_result",
                    "metadata": {},
                    "execution_count": 55,
                    "data": {
                        "application/vnd.dataresource+json": {
                            "schema": {
                                "fields": [
                                    {
                                        "name": "oid"
                                    },
                                    {
                                        "name": "conname"
                                    },
                                    {
                                        "name": "connamespace"
                                    },
                                    {
                                        "name": "contype"
                                    },
                                    {
                                        "name": "condeferrable"
                                    },
                                    {
                                        "name": "condeferred"
                                    },
                                    {
                                        "name": "convalidated"
                                    },
                                    {
                                        "name": "conrelid"
                                    },
                                    {
                                        "name": "contypid"
                                    },
                                    {
                                        "name": "conindid"
                                    },
                                    {
                                        "name": "conparentid"
                                    },
                                    {
                                        "name": "confrelid"
                                    },
                                    {
                                        "name": "confupdtype"
                                    },
                                    {
                                        "name": "confdeltype"
                                    },
                                    {
                                        "name": "confmatchtype"
                                    },
                                    {
                                        "name": "conislocal"
                                    },
                                    {
                                        "name": "coninhcount"
                                    },
                                    {
                                        "name": "connoinherit"
                                    },
                                    {
                                        "name": "conkey"
                                    },
                                    {
                                        "name": "confkey"
                                    },
                                    {
                                        "name": "conpfeqop"
                                    },
                                    {
                                        "name": "conppeqop"
                                    },
                                    {
                                        "name": "conffeqop"
                                    },
                                    {
                                        "name": "confdelsetcols"
                                    },
                                    {
                                        "name": "conexclop"
                                    },
                                    {
                                        "name": "conbin"
                                    }
                                ]
                            },
                            "data": [
                                {
                                    "oid": "27817",
                                    "conname": "product_builds_pkey",
                                    "connamespace": "27721",
                                    "contype": "p",
                                    "condeferrable": "False",
                                    "condeferred": "False",
                                    "convalidated": "True",
                                    "conrelid": "27813",
                                    "contypid": "0",
                                    "conindid": "27816",
                                    "conparentid": "0",
                                    "confrelid": "0",
                                    "confupdtype": " ",
                                    "confdeltype": " ",
                                    "confmatchtype": " ",
                                    "conislocal": "True",
                                    "coninhcount": "0",
                                    "connoinherit": "True",
                                    "conkey": "[1, 2]",
                                    "confkey": "NULL",
                                    "conpfeqop": "NULL",
                                    "conppeqop": "NULL",
                                    "conffeqop": "NULL",
                                    "confdelsetcols": "NULL",
                                    "conexclop": "NULL",
                                    "conbin": "NULL"
                                },
                                {
                                    "oid": "27818",
                                    "conname": "product_builds_prod_id_fkey",
                                    "connamespace": "27721",
                                    "contype": "f",
                                    "condeferrable": "False",
                                    "condeferred": "False",
                                    "convalidated": "True",
                                    "conrelid": "27813",
                                    "contypid": "0",
                                    "conindid": "27811",
                                    "conparentid": "0",
                                    "confrelid": "27805",
                                    "confupdtype": "a",
                                    "confdeltype": "a",
                                    "confmatchtype": "s",
                                    "conislocal": "True",
                                    "coninhcount": "0",
                                    "connoinherit": "True",
                                    "conkey": "[1]",
                                    "confkey": "[1]",
                                    "conpfeqop": "{96}",
                                    "conppeqop": "{96}",
                                    "conffeqop": "{96}",
                                    "confdelsetcols": "NULL",
                                    "conexclop": "NULL",
                                    "conbin": "NULL"
                                },
                                {
                                    "oid": "27823",
                                    "conname": "product_builds_build_id_fkey",
                                    "connamespace": "27721",
                                    "contype": "f",
                                    "condeferrable": "False",
                                    "condeferred": "False",
                                    "convalidated": "True",
                                    "conrelid": "27813",
                                    "contypid": "0",
                                    "conindid": "27787",
                                    "conparentid": "0",
                                    "confrelid": "27781",
                                    "confupdtype": "a",
                                    "confdeltype": "a",
                                    "confmatchtype": "s",
                                    "conislocal": "True",
                                    "coninhcount": "0",
                                    "connoinherit": "True",
                                    "conkey": "[2]",
                                    "confkey": "[1]",
                                    "conpfeqop": "{96}",
                                    "conppeqop": "{96}",
                                    "conffeqop": "{96}",
                                    "confdelsetcols": "NULL",
                                    "conexclop": "NULL",
                                    "conbin": "NULL"
                                }
                            ]
                        },
                        "text/html": [
                            "<table>",
                            "<tr><th>oid</th><th>conname</th><th>connamespace</th><th>contype</th><th>condeferrable</th><th>condeferred</th><th>convalidated</th><th>conrelid</th><th>contypid</th><th>conindid</th><th>conparentid</th><th>confrelid</th><th>confupdtype</th><th>confdeltype</th><th>confmatchtype</th><th>conislocal</th><th>coninhcount</th><th>connoinherit</th><th>conkey</th><th>confkey</th><th>conpfeqop</th><th>conppeqop</th><th>conffeqop</th><th>confdelsetcols</th><th>conexclop</th><th>conbin</th></tr>",
                            "<tr><td>27817</td><td>product_builds_pkey</td><td>27721</td><td>p</td><td>False</td><td>False</td><td>True</td><td>27813</td><td>0</td><td>27816</td><td>0</td><td>0</td><td> </td><td> </td><td> </td><td>True</td><td>0</td><td>True</td><td>[1, 2]</td><td>NULL</td><td>NULL</td><td>NULL</td><td>NULL</td><td>NULL</td><td>NULL</td><td>NULL</td></tr>",
                            "<tr><td>27818</td><td>product_builds_prod_id_fkey</td><td>27721</td><td>f</td><td>False</td><td>False</td><td>True</td><td>27813</td><td>0</td><td>27811</td><td>0</td><td>27805</td><td>a</td><td>a</td><td>s</td><td>True</td><td>0</td><td>True</td><td>[1]</td><td>[1]</td><td>{96}</td><td>{96}</td><td>{96}</td><td>NULL</td><td>NULL</td><td>NULL</td></tr>",
                            "<tr><td>27823</td><td>product_builds_build_id_fkey</td><td>27721</td><td>f</td><td>False</td><td>False</td><td>True</td><td>27813</td><td>0</td><td>27787</td><td>0</td><td>27781</td><td>a</td><td>a</td><td>s</td><td>True</td><td>0</td><td>True</td><td>[2]</td><td>[1]</td><td>{96}</td><td>{96}</td><td>{96}</td><td>NULL</td><td>NULL</td><td>NULL</td></tr>",
                            "</table>"
                        ]
                    }
                }
            ],
            "execution_count": 55
        },
        {
            "cell_type": "code",
            "source": [
                "-- 10) To validate the constraints are placed on ORDERS table\r\n",
                "SELECT con.*\r\n",
                "    FROM pg_catalog.pg_constraint con\r\n",
                "        INNER JOIN pg_catalog.pg_class rel ON rel.oid = con.conrelid\r\n",
                "        INNER JOIN pg_catalog.pg_namespace nsp ON nsp.oid = connamespace\r\n",
                "        WHERE nsp.nspname = 'dsci_504'\r\n",
                "             AND rel.relname = 'orders';"
            ],
            "metadata": {
                "language": "sql",
                "azdata_cell_guid": "b5f5d378-ede4-4041-b515-976847d3c850"
            },
            "outputs": [
                {
                    "output_type": "display_data",
                    "data": {
                        "text/html": "(3 row(s) affected)"
                    },
                    "metadata": {}
                },
                {
                    "output_type": "display_data",
                    "data": {
                        "text/html": "Total execution time: 00:00:00.007"
                    },
                    "metadata": {}
                },
                {
                    "output_type": "execute_result",
                    "metadata": {},
                    "execution_count": 56,
                    "data": {
                        "application/vnd.dataresource+json": {
                            "schema": {
                                "fields": [
                                    {
                                        "name": "oid"
                                    },
                                    {
                                        "name": "conname"
                                    },
                                    {
                                        "name": "connamespace"
                                    },
                                    {
                                        "name": "contype"
                                    },
                                    {
                                        "name": "condeferrable"
                                    },
                                    {
                                        "name": "condeferred"
                                    },
                                    {
                                        "name": "convalidated"
                                    },
                                    {
                                        "name": "conrelid"
                                    },
                                    {
                                        "name": "contypid"
                                    },
                                    {
                                        "name": "conindid"
                                    },
                                    {
                                        "name": "conparentid"
                                    },
                                    {
                                        "name": "confrelid"
                                    },
                                    {
                                        "name": "confupdtype"
                                    },
                                    {
                                        "name": "confdeltype"
                                    },
                                    {
                                        "name": "confmatchtype"
                                    },
                                    {
                                        "name": "conislocal"
                                    },
                                    {
                                        "name": "coninhcount"
                                    },
                                    {
                                        "name": "connoinherit"
                                    },
                                    {
                                        "name": "conkey"
                                    },
                                    {
                                        "name": "confkey"
                                    },
                                    {
                                        "name": "conpfeqop"
                                    },
                                    {
                                        "name": "conppeqop"
                                    },
                                    {
                                        "name": "conffeqop"
                                    },
                                    {
                                        "name": "confdelsetcols"
                                    },
                                    {
                                        "name": "conexclop"
                                    },
                                    {
                                        "name": "conbin"
                                    }
                                ]
                            },
                            "data": [
                                {
                                    "oid": "27836",
                                    "conname": "orders_pkey",
                                    "connamespace": "27721",
                                    "contype": "p",
                                    "condeferrable": "False",
                                    "condeferred": "False",
                                    "convalidated": "True",
                                    "conrelid": "27829",
                                    "contypid": "0",
                                    "conindid": "27835",
                                    "conparentid": "0",
                                    "confrelid": "0",
                                    "confupdtype": " ",
                                    "confdeltype": " ",
                                    "confmatchtype": " ",
                                    "conislocal": "True",
                                    "coninhcount": "0",
                                    "connoinherit": "True",
                                    "conkey": "[1]",
                                    "confkey": "NULL",
                                    "conpfeqop": "NULL",
                                    "conppeqop": "NULL",
                                    "conffeqop": "NULL",
                                    "confdelsetcols": "NULL",
                                    "conexclop": "NULL",
                                    "conbin": "NULL"
                                },
                                {
                                    "oid": "27837",
                                    "conname": "orders_warehouse_id_fkey",
                                    "connamespace": "27721",
                                    "contype": "f",
                                    "condeferrable": "False",
                                    "condeferred": "False",
                                    "convalidated": "True",
                                    "conrelid": "27829",
                                    "contypid": "0",
                                    "conindid": "27750",
                                    "conparentid": "0",
                                    "confrelid": "27744",
                                    "confupdtype": "a",
                                    "confdeltype": "a",
                                    "confmatchtype": "s",
                                    "conislocal": "True",
                                    "coninhcount": "0",
                                    "connoinherit": "True",
                                    "conkey": "[8]",
                                    "confkey": "[1]",
                                    "conpfeqop": "{96}",
                                    "conppeqop": "{96}",
                                    "conffeqop": "{96}",
                                    "confdelsetcols": "NULL",
                                    "conexclop": "NULL",
                                    "conbin": "NULL"
                                },
                                {
                                    "oid": "27842",
                                    "conname": "orders_cus_id_fkey",
                                    "connamespace": "27721",
                                    "contype": "f",
                                    "condeferrable": "False",
                                    "condeferred": "False",
                                    "convalidated": "True",
                                    "conrelid": "27829",
                                    "contypid": "0",
                                    "conindid": "27736",
                                    "conparentid": "0",
                                    "confrelid": "27730",
                                    "confupdtype": "a",
                                    "confdeltype": "a",
                                    "confmatchtype": "s",
                                    "conislocal": "True",
                                    "coninhcount": "0",
                                    "connoinherit": "True",
                                    "conkey": "[9]",
                                    "confkey": "[1]",
                                    "conpfeqop": "{96}",
                                    "conppeqop": "{96}",
                                    "conffeqop": "{96}",
                                    "confdelsetcols": "NULL",
                                    "conexclop": "NULL",
                                    "conbin": "NULL"
                                }
                            ]
                        },
                        "text/html": [
                            "<table>",
                            "<tr><th>oid</th><th>conname</th><th>connamespace</th><th>contype</th><th>condeferrable</th><th>condeferred</th><th>convalidated</th><th>conrelid</th><th>contypid</th><th>conindid</th><th>conparentid</th><th>confrelid</th><th>confupdtype</th><th>confdeltype</th><th>confmatchtype</th><th>conislocal</th><th>coninhcount</th><th>connoinherit</th><th>conkey</th><th>confkey</th><th>conpfeqop</th><th>conppeqop</th><th>conffeqop</th><th>confdelsetcols</th><th>conexclop</th><th>conbin</th></tr>",
                            "<tr><td>27836</td><td>orders_pkey</td><td>27721</td><td>p</td><td>False</td><td>False</td><td>True</td><td>27829</td><td>0</td><td>27835</td><td>0</td><td>0</td><td> </td><td> </td><td> </td><td>True</td><td>0</td><td>True</td><td>[1]</td><td>NULL</td><td>NULL</td><td>NULL</td><td>NULL</td><td>NULL</td><td>NULL</td><td>NULL</td></tr>",
                            "<tr><td>27837</td><td>orders_warehouse_id_fkey</td><td>27721</td><td>f</td><td>False</td><td>False</td><td>True</td><td>27829</td><td>0</td><td>27750</td><td>0</td><td>27744</td><td>a</td><td>a</td><td>s</td><td>True</td><td>0</td><td>True</td><td>[8]</td><td>[1]</td><td>{96}</td><td>{96}</td><td>{96}</td><td>NULL</td><td>NULL</td><td>NULL</td></tr>",
                            "<tr><td>27842</td><td>orders_cus_id_fkey</td><td>27721</td><td>f</td><td>False</td><td>False</td><td>True</td><td>27829</td><td>0</td><td>27736</td><td>0</td><td>27730</td><td>a</td><td>a</td><td>s</td><td>True</td><td>0</td><td>True</td><td>[9]</td><td>[1]</td><td>{96}</td><td>{96}</td><td>{96}</td><td>NULL</td><td>NULL</td><td>NULL</td></tr>",
                            "</table>"
                        ]
                    }
                }
            ],
            "execution_count": 56
        },
        {
            "cell_type": "code",
            "source": [
                "-- 11) To validate the constraints are placed on ORDER_ITEMS table\r\n",
                "SELECT con.*\r\n",
                "    FROM pg_catalog.pg_constraint con\r\n",
                "        INNER JOIN pg_catalog.pg_class rel ON rel.oid = con.conrelid\r\n",
                "        INNER JOIN pg_catalog.pg_namespace nsp ON nsp.oid = connamespace\r\n",
                "        WHERE nsp.nspname = 'dsci_504'\r\n",
                "             AND rel.relname = 'order_items';"
            ],
            "metadata": {
                "language": "sql",
                "azdata_cell_guid": "61f25465-5014-459f-91bb-dbc5520d0b1a"
            },
            "outputs": [
                {
                    "output_type": "display_data",
                    "data": {
                        "text/html": "(3 row(s) affected)"
                    },
                    "metadata": {}
                },
                {
                    "output_type": "display_data",
                    "data": {
                        "text/html": "Total execution time: 00:00:00.006"
                    },
                    "metadata": {}
                },
                {
                    "output_type": "execute_result",
                    "metadata": {},
                    "execution_count": 57,
                    "data": {
                        "application/vnd.dataresource+json": {
                            "schema": {
                                "fields": [
                                    {
                                        "name": "oid"
                                    },
                                    {
                                        "name": "conname"
                                    },
                                    {
                                        "name": "connamespace"
                                    },
                                    {
                                        "name": "contype"
                                    },
                                    {
                                        "name": "condeferrable"
                                    },
                                    {
                                        "name": "condeferred"
                                    },
                                    {
                                        "name": "convalidated"
                                    },
                                    {
                                        "name": "conrelid"
                                    },
                                    {
                                        "name": "contypid"
                                    },
                                    {
                                        "name": "conindid"
                                    },
                                    {
                                        "name": "conparentid"
                                    },
                                    {
                                        "name": "confrelid"
                                    },
                                    {
                                        "name": "confupdtype"
                                    },
                                    {
                                        "name": "confdeltype"
                                    },
                                    {
                                        "name": "confmatchtype"
                                    },
                                    {
                                        "name": "conislocal"
                                    },
                                    {
                                        "name": "coninhcount"
                                    },
                                    {
                                        "name": "connoinherit"
                                    },
                                    {
                                        "name": "conkey"
                                    },
                                    {
                                        "name": "confkey"
                                    },
                                    {
                                        "name": "conpfeqop"
                                    },
                                    {
                                        "name": "conppeqop"
                                    },
                                    {
                                        "name": "conffeqop"
                                    },
                                    {
                                        "name": "confdelsetcols"
                                    },
                                    {
                                        "name": "conexclop"
                                    },
                                    {
                                        "name": "conbin"
                                    }
                                ]
                            },
                            "data": [
                                {
                                    "oid": "27851",
                                    "conname": "order_items_pkey",
                                    "connamespace": "27721",
                                    "contype": "p",
                                    "condeferrable": "False",
                                    "condeferred": "False",
                                    "convalidated": "True",
                                    "conrelid": "27847",
                                    "contypid": "0",
                                    "conindid": "27850",
                                    "conparentid": "0",
                                    "confrelid": "0",
                                    "confupdtype": " ",
                                    "confdeltype": " ",
                                    "confmatchtype": " ",
                                    "conislocal": "True",
                                    "coninhcount": "0",
                                    "connoinherit": "True",
                                    "conkey": "[1, 2]",
                                    "confkey": "NULL",
                                    "conpfeqop": "NULL",
                                    "conppeqop": "NULL",
                                    "conffeqop": "NULL",
                                    "confdelsetcols": "NULL",
                                    "conexclop": "NULL",
                                    "conbin": "NULL"
                                },
                                {
                                    "oid": "27852",
                                    "conname": "order_items_ord_id_fkey",
                                    "connamespace": "27721",
                                    "contype": "f",
                                    "condeferrable": "False",
                                    "condeferred": "False",
                                    "convalidated": "True",
                                    "conrelid": "27847",
                                    "contypid": "0",
                                    "conindid": "27835",
                                    "conparentid": "0",
                                    "confrelid": "27829",
                                    "confupdtype": "a",
                                    "confdeltype": "a",
                                    "confmatchtype": "s",
                                    "conislocal": "True",
                                    "coninhcount": "0",
                                    "connoinherit": "True",
                                    "conkey": "[1]",
                                    "confkey": "[1]",
                                    "conpfeqop": "{96}",
                                    "conppeqop": "{96}",
                                    "conffeqop": "{96}",
                                    "confdelsetcols": "NULL",
                                    "conexclop": "NULL",
                                    "conbin": "NULL"
                                },
                                {
                                    "oid": "27857",
                                    "conname": "order_items_prod_id_fkey",
                                    "connamespace": "27721",
                                    "contype": "f",
                                    "condeferrable": "False",
                                    "condeferred": "False",
                                    "convalidated": "True",
                                    "conrelid": "27847",
                                    "contypid": "0",
                                    "conindid": "27811",
                                    "conparentid": "0",
                                    "confrelid": "27805",
                                    "confupdtype": "a",
                                    "confdeltype": "a",
                                    "confmatchtype": "s",
                                    "conislocal": "True",
                                    "coninhcount": "0",
                                    "connoinherit": "True",
                                    "conkey": "[2]",
                                    "confkey": "[1]",
                                    "conpfeqop": "{96}",
                                    "conppeqop": "{96}",
                                    "conffeqop": "{96}",
                                    "confdelsetcols": "NULL",
                                    "conexclop": "NULL",
                                    "conbin": "NULL"
                                }
                            ]
                        },
                        "text/html": [
                            "<table>",
                            "<tr><th>oid</th><th>conname</th><th>connamespace</th><th>contype</th><th>condeferrable</th><th>condeferred</th><th>convalidated</th><th>conrelid</th><th>contypid</th><th>conindid</th><th>conparentid</th><th>confrelid</th><th>confupdtype</th><th>confdeltype</th><th>confmatchtype</th><th>conislocal</th><th>coninhcount</th><th>connoinherit</th><th>conkey</th><th>confkey</th><th>conpfeqop</th><th>conppeqop</th><th>conffeqop</th><th>confdelsetcols</th><th>conexclop</th><th>conbin</th></tr>",
                            "<tr><td>27851</td><td>order_items_pkey</td><td>27721</td><td>p</td><td>False</td><td>False</td><td>True</td><td>27847</td><td>0</td><td>27850</td><td>0</td><td>0</td><td> </td><td> </td><td> </td><td>True</td><td>0</td><td>True</td><td>[1, 2]</td><td>NULL</td><td>NULL</td><td>NULL</td><td>NULL</td><td>NULL</td><td>NULL</td><td>NULL</td></tr>",
                            "<tr><td>27852</td><td>order_items_ord_id_fkey</td><td>27721</td><td>f</td><td>False</td><td>False</td><td>True</td><td>27847</td><td>0</td><td>27835</td><td>0</td><td>27829</td><td>a</td><td>a</td><td>s</td><td>True</td><td>0</td><td>True</td><td>[1]</td><td>[1]</td><td>{96}</td><td>{96}</td><td>{96}</td><td>NULL</td><td>NULL</td><td>NULL</td></tr>",
                            "<tr><td>27857</td><td>order_items_prod_id_fkey</td><td>27721</td><td>f</td><td>False</td><td>False</td><td>True</td><td>27847</td><td>0</td><td>27811</td><td>0</td><td>27805</td><td>a</td><td>a</td><td>s</td><td>True</td><td>0</td><td>True</td><td>[2]</td><td>[1]</td><td>{96}</td><td>{96}</td><td>{96}</td><td>NULL</td><td>NULL</td><td>NULL</td></tr>",
                            "</table>"
                        ]
                    }
                }
            ],
            "execution_count": 57
        },
        {
            "cell_type": "code",
            "source": [
                "-- 12) To validate the constraints are placed on RETURNS table\r\n",
                "SELECT con.*\r\n",
                "    FROM pg_catalog.pg_constraint con\r\n",
                "        INNER JOIN pg_catalog.pg_class rel ON rel.oid = con.conrelid\r\n",
                "        INNER JOIN pg_catalog.pg_namespace nsp ON nsp.oid = connamespace\r\n",
                "        WHERE nsp.nspname = 'dsci_504'\r\n",
                "             AND rel.relname = 'returns';"
            ],
            "metadata": {
                "language": "sql",
                "azdata_cell_guid": "15643f07-bdf8-43f9-aa0f-e5e98f3a9630"
            },
            "outputs": [
                {
                    "output_type": "display_data",
                    "data": {
                        "text/html": "(4 row(s) affected)"
                    },
                    "metadata": {}
                },
                {
                    "output_type": "display_data",
                    "data": {
                        "text/html": "Total execution time: 00:00:00.005"
                    },
                    "metadata": {}
                },
                {
                    "output_type": "execute_result",
                    "metadata": {},
                    "execution_count": 58,
                    "data": {
                        "application/vnd.dataresource+json": {
                            "schema": {
                                "fields": [
                                    {
                                        "name": "oid"
                                    },
                                    {
                                        "name": "conname"
                                    },
                                    {
                                        "name": "connamespace"
                                    },
                                    {
                                        "name": "contype"
                                    },
                                    {
                                        "name": "condeferrable"
                                    },
                                    {
                                        "name": "condeferred"
                                    },
                                    {
                                        "name": "convalidated"
                                    },
                                    {
                                        "name": "conrelid"
                                    },
                                    {
                                        "name": "contypid"
                                    },
                                    {
                                        "name": "conindid"
                                    },
                                    {
                                        "name": "conparentid"
                                    },
                                    {
                                        "name": "confrelid"
                                    },
                                    {
                                        "name": "confupdtype"
                                    },
                                    {
                                        "name": "confdeltype"
                                    },
                                    {
                                        "name": "confmatchtype"
                                    },
                                    {
                                        "name": "conislocal"
                                    },
                                    {
                                        "name": "coninhcount"
                                    },
                                    {
                                        "name": "connoinherit"
                                    },
                                    {
                                        "name": "conkey"
                                    },
                                    {
                                        "name": "confkey"
                                    },
                                    {
                                        "name": "conpfeqop"
                                    },
                                    {
                                        "name": "conppeqop"
                                    },
                                    {
                                        "name": "conffeqop"
                                    },
                                    {
                                        "name": "confdelsetcols"
                                    },
                                    {
                                        "name": "conexclop"
                                    },
                                    {
                                        "name": "conbin"
                                    }
                                ]
                            },
                            "data": [
                                {
                                    "oid": "27868",
                                    "conname": "returns_pkey",
                                    "connamespace": "27721",
                                    "contype": "p",
                                    "condeferrable": "False",
                                    "condeferred": "False",
                                    "convalidated": "True",
                                    "conrelid": "27863",
                                    "contypid": "0",
                                    "conindid": "27867",
                                    "conparentid": "0",
                                    "confrelid": "0",
                                    "confupdtype": " ",
                                    "confdeltype": " ",
                                    "confmatchtype": " ",
                                    "conislocal": "True",
                                    "coninhcount": "0",
                                    "connoinherit": "True",
                                    "conkey": "[1]",
                                    "confkey": "NULL",
                                    "conpfeqop": "NULL",
                                    "conppeqop": "NULL",
                                    "conffeqop": "NULL",
                                    "confdelsetcols": "NULL",
                                    "conexclop": "NULL",
                                    "conbin": "NULL"
                                },
                                {
                                    "oid": "27869",
                                    "conname": "returns_ord_id_fkey",
                                    "connamespace": "27721",
                                    "contype": "f",
                                    "condeferrable": "False",
                                    "condeferred": "False",
                                    "convalidated": "True",
                                    "conrelid": "27863",
                                    "contypid": "0",
                                    "conindid": "27835",
                                    "conparentid": "0",
                                    "confrelid": "27829",
                                    "confupdtype": "a",
                                    "confdeltype": "a",
                                    "confmatchtype": "s",
                                    "conislocal": "True",
                                    "coninhcount": "0",
                                    "connoinherit": "True",
                                    "conkey": "[2]",
                                    "confkey": "[1]",
                                    "conpfeqop": "{96}",
                                    "conppeqop": "{96}",
                                    "conffeqop": "{96}",
                                    "confdelsetcols": "NULL",
                                    "conexclop": "NULL",
                                    "conbin": "NULL"
                                },
                                {
                                    "oid": "27874",
                                    "conname": "returns_cus_id_fkey",
                                    "connamespace": "27721",
                                    "contype": "f",
                                    "condeferrable": "False",
                                    "condeferred": "False",
                                    "convalidated": "True",
                                    "conrelid": "27863",
                                    "contypid": "0",
                                    "conindid": "27736",
                                    "conparentid": "0",
                                    "confrelid": "27730",
                                    "confupdtype": "a",
                                    "confdeltype": "a",
                                    "confmatchtype": "s",
                                    "conislocal": "True",
                                    "coninhcount": "0",
                                    "connoinherit": "True",
                                    "conkey": "[3]",
                                    "confkey": "[1]",
                                    "conpfeqop": "{96}",
                                    "conppeqop": "{96}",
                                    "conffeqop": "{96}",
                                    "confdelsetcols": "NULL",
                                    "conexclop": "NULL",
                                    "conbin": "NULL"
                                },
                                {
                                    "oid": "27879",
                                    "conname": "returns_warehouse_id_fkey",
                                    "connamespace": "27721",
                                    "contype": "f",
                                    "condeferrable": "False",
                                    "condeferred": "False",
                                    "convalidated": "True",
                                    "conrelid": "27863",
                                    "contypid": "0",
                                    "conindid": "27750",
                                    "conparentid": "0",
                                    "confrelid": "27744",
                                    "confupdtype": "a",
                                    "confdeltype": "a",
                                    "confmatchtype": "s",
                                    "conislocal": "True",
                                    "coninhcount": "0",
                                    "connoinherit": "True",
                                    "conkey": "[4]",
                                    "confkey": "[1]",
                                    "conpfeqop": "{96}",
                                    "conppeqop": "{96}",
                                    "conffeqop": "{96}",
                                    "confdelsetcols": "NULL",
                                    "conexclop": "NULL",
                                    "conbin": "NULL"
                                }
                            ]
                        },
                        "text/html": [
                            "<table>",
                            "<tr><th>oid</th><th>conname</th><th>connamespace</th><th>contype</th><th>condeferrable</th><th>condeferred</th><th>convalidated</th><th>conrelid</th><th>contypid</th><th>conindid</th><th>conparentid</th><th>confrelid</th><th>confupdtype</th><th>confdeltype</th><th>confmatchtype</th><th>conislocal</th><th>coninhcount</th><th>connoinherit</th><th>conkey</th><th>confkey</th><th>conpfeqop</th><th>conppeqop</th><th>conffeqop</th><th>confdelsetcols</th><th>conexclop</th><th>conbin</th></tr>",
                            "<tr><td>27868</td><td>returns_pkey</td><td>27721</td><td>p</td><td>False</td><td>False</td><td>True</td><td>27863</td><td>0</td><td>27867</td><td>0</td><td>0</td><td> </td><td> </td><td> </td><td>True</td><td>0</td><td>True</td><td>[1]</td><td>NULL</td><td>NULL</td><td>NULL</td><td>NULL</td><td>NULL</td><td>NULL</td><td>NULL</td></tr>",
                            "<tr><td>27869</td><td>returns_ord_id_fkey</td><td>27721</td><td>f</td><td>False</td><td>False</td><td>True</td><td>27863</td><td>0</td><td>27835</td><td>0</td><td>27829</td><td>a</td><td>a</td><td>s</td><td>True</td><td>0</td><td>True</td><td>[2]</td><td>[1]</td><td>{96}</td><td>{96}</td><td>{96}</td><td>NULL</td><td>NULL</td><td>NULL</td></tr>",
                            "<tr><td>27874</td><td>returns_cus_id_fkey</td><td>27721</td><td>f</td><td>False</td><td>False</td><td>True</td><td>27863</td><td>0</td><td>27736</td><td>0</td><td>27730</td><td>a</td><td>a</td><td>s</td><td>True</td><td>0</td><td>True</td><td>[3]</td><td>[1]</td><td>{96}</td><td>{96}</td><td>{96}</td><td>NULL</td><td>NULL</td><td>NULL</td></tr>",
                            "<tr><td>27879</td><td>returns_warehouse_id_fkey</td><td>27721</td><td>f</td><td>False</td><td>False</td><td>True</td><td>27863</td><td>0</td><td>27750</td><td>0</td><td>27744</td><td>a</td><td>a</td><td>s</td><td>True</td><td>0</td><td>True</td><td>[4]</td><td>[1]</td><td>{96}</td><td>{96}</td><td>{96}</td><td>NULL</td><td>NULL</td><td>NULL</td></tr>",
                            "</table>"
                        ]
                    }
                }
            ],
            "execution_count": 58
        },
        {
            "cell_type": "code",
            "source": [
                "-- 13) To validate the constraints are placed on RETURN_ITEMS table\r\n",
                "SELECT con.*\r\n",
                "    FROM pg_catalog.pg_constraint con\r\n",
                "        INNER JOIN pg_catalog.pg_class rel ON rel.oid = con.conrelid\r\n",
                "        INNER JOIN pg_catalog.pg_namespace nsp ON nsp.oid = connamespace\r\n",
                "        WHERE nsp.nspname = 'dsci_504'\r\n",
                "             AND rel.relname = 'return_items';"
            ],
            "metadata": {
                "language": "sql",
                "azdata_cell_guid": "b85cdf8f-dfca-4783-b8fb-3179f7285480"
            },
            "outputs": [
                {
                    "output_type": "display_data",
                    "data": {
                        "text/html": "(4 row(s) affected)"
                    },
                    "metadata": {}
                },
                {
                    "output_type": "display_data",
                    "data": {
                        "text/html": "Total execution time: 00:00:00.007"
                    },
                    "metadata": {}
                },
                {
                    "output_type": "execute_result",
                    "metadata": {},
                    "execution_count": 59,
                    "data": {
                        "application/vnd.dataresource+json": {
                            "schema": {
                                "fields": [
                                    {
                                        "name": "oid"
                                    },
                                    {
                                        "name": "conname"
                                    },
                                    {
                                        "name": "connamespace"
                                    },
                                    {
                                        "name": "contype"
                                    },
                                    {
                                        "name": "condeferrable"
                                    },
                                    {
                                        "name": "condeferred"
                                    },
                                    {
                                        "name": "convalidated"
                                    },
                                    {
                                        "name": "conrelid"
                                    },
                                    {
                                        "name": "contypid"
                                    },
                                    {
                                        "name": "conindid"
                                    },
                                    {
                                        "name": "conparentid"
                                    },
                                    {
                                        "name": "confrelid"
                                    },
                                    {
                                        "name": "confupdtype"
                                    },
                                    {
                                        "name": "confdeltype"
                                    },
                                    {
                                        "name": "confmatchtype"
                                    },
                                    {
                                        "name": "conislocal"
                                    },
                                    {
                                        "name": "coninhcount"
                                    },
                                    {
                                        "name": "connoinherit"
                                    },
                                    {
                                        "name": "conkey"
                                    },
                                    {
                                        "name": "confkey"
                                    },
                                    {
                                        "name": "conpfeqop"
                                    },
                                    {
                                        "name": "conppeqop"
                                    },
                                    {
                                        "name": "conffeqop"
                                    },
                                    {
                                        "name": "confdelsetcols"
                                    },
                                    {
                                        "name": "conexclop"
                                    },
                                    {
                                        "name": "conbin"
                                    }
                                ]
                            },
                            "data": [
                                {
                                    "oid": "27890",
                                    "conname": "return_items_pkey",
                                    "connamespace": "27721",
                                    "contype": "p",
                                    "condeferrable": "False",
                                    "condeferred": "False",
                                    "convalidated": "True",
                                    "conrelid": "27884",
                                    "contypid": "0",
                                    "conindid": "27889",
                                    "conparentid": "0",
                                    "confrelid": "0",
                                    "confupdtype": " ",
                                    "confdeltype": " ",
                                    "confmatchtype": " ",
                                    "conislocal": "True",
                                    "coninhcount": "0",
                                    "connoinherit": "True",
                                    "conkey": "[1, 2, 3]",
                                    "confkey": "NULL",
                                    "conpfeqop": "NULL",
                                    "conppeqop": "NULL",
                                    "conffeqop": "NULL",
                                    "confdelsetcols": "NULL",
                                    "conexclop": "NULL",
                                    "conbin": "NULL"
                                },
                                {
                                    "oid": "27891",
                                    "conname": "return_items_rac_id_fkey",
                                    "connamespace": "27721",
                                    "contype": "f",
                                    "condeferrable": "False",
                                    "condeferred": "False",
                                    "convalidated": "True",
                                    "conrelid": "27884",
                                    "contypid": "0",
                                    "conindid": "27867",
                                    "conparentid": "0",
                                    "confrelid": "27863",
                                    "confupdtype": "a",
                                    "confdeltype": "a",
                                    "confmatchtype": "s",
                                    "conislocal": "True",
                                    "coninhcount": "0",
                                    "connoinherit": "True",
                                    "conkey": "[1]",
                                    "confkey": "[1]",
                                    "conpfeqop": "{96}",
                                    "conppeqop": "{96}",
                                    "conffeqop": "{96}",
                                    "confdelsetcols": "NULL",
                                    "conexclop": "NULL",
                                    "conbin": "NULL"
                                },
                                {
                                    "oid": "27896",
                                    "conname": "return_items_prod_id_fkey",
                                    "connamespace": "27721",
                                    "contype": "f",
                                    "condeferrable": "False",
                                    "condeferred": "False",
                                    "convalidated": "True",
                                    "conrelid": "27884",
                                    "contypid": "0",
                                    "conindid": "27811",
                                    "conparentid": "0",
                                    "confrelid": "27805",
                                    "confupdtype": "a",
                                    "confdeltype": "a",
                                    "confmatchtype": "s",
                                    "conislocal": "True",
                                    "coninhcount": "0",
                                    "connoinherit": "True",
                                    "conkey": "[2]",
                                    "confkey": "[1]",
                                    "conpfeqop": "{96}",
                                    "conppeqop": "{96}",
                                    "conffeqop": "{96}",
                                    "confdelsetcols": "NULL",
                                    "conexclop": "NULL",
                                    "conbin": "NULL"
                                },
                                {
                                    "oid": "27901",
                                    "conname": "return_items_comp_id_fkey",
                                    "connamespace": "27721",
                                    "contype": "f",
                                    "condeferrable": "False",
                                    "condeferred": "False",
                                    "convalidated": "True",
                                    "conrelid": "27884",
                                    "contypid": "0",
                                    "conindid": "27773",
                                    "conparentid": "0",
                                    "confrelid": "27767",
                                    "confupdtype": "a",
                                    "confdeltype": "a",
                                    "confmatchtype": "s",
                                    "conislocal": "True",
                                    "coninhcount": "0",
                                    "connoinherit": "True",
                                    "conkey": "[3]",
                                    "confkey": "[1]",
                                    "conpfeqop": "{96}",
                                    "conppeqop": "{96}",
                                    "conffeqop": "{96}",
                                    "confdelsetcols": "NULL",
                                    "conexclop": "NULL",
                                    "conbin": "NULL"
                                }
                            ]
                        },
                        "text/html": [
                            "<table>",
                            "<tr><th>oid</th><th>conname</th><th>connamespace</th><th>contype</th><th>condeferrable</th><th>condeferred</th><th>convalidated</th><th>conrelid</th><th>contypid</th><th>conindid</th><th>conparentid</th><th>confrelid</th><th>confupdtype</th><th>confdeltype</th><th>confmatchtype</th><th>conislocal</th><th>coninhcount</th><th>connoinherit</th><th>conkey</th><th>confkey</th><th>conpfeqop</th><th>conppeqop</th><th>conffeqop</th><th>confdelsetcols</th><th>conexclop</th><th>conbin</th></tr>",
                            "<tr><td>27890</td><td>return_items_pkey</td><td>27721</td><td>p</td><td>False</td><td>False</td><td>True</td><td>27884</td><td>0</td><td>27889</td><td>0</td><td>0</td><td> </td><td> </td><td> </td><td>True</td><td>0</td><td>True</td><td>[1, 2, 3]</td><td>NULL</td><td>NULL</td><td>NULL</td><td>NULL</td><td>NULL</td><td>NULL</td><td>NULL</td></tr>",
                            "<tr><td>27891</td><td>return_items_rac_id_fkey</td><td>27721</td><td>f</td><td>False</td><td>False</td><td>True</td><td>27884</td><td>0</td><td>27867</td><td>0</td><td>27863</td><td>a</td><td>a</td><td>s</td><td>True</td><td>0</td><td>True</td><td>[1]</td><td>[1]</td><td>{96}</td><td>{96}</td><td>{96}</td><td>NULL</td><td>NULL</td><td>NULL</td></tr>",
                            "<tr><td>27896</td><td>return_items_prod_id_fkey</td><td>27721</td><td>f</td><td>False</td><td>False</td><td>True</td><td>27884</td><td>0</td><td>27811</td><td>0</td><td>27805</td><td>a</td><td>a</td><td>s</td><td>True</td><td>0</td><td>True</td><td>[2]</td><td>[1]</td><td>{96}</td><td>{96}</td><td>{96}</td><td>NULL</td><td>NULL</td><td>NULL</td></tr>",
                            "<tr><td>27901</td><td>return_items_comp_id_fkey</td><td>27721</td><td>f</td><td>False</td><td>False</td><td>True</td><td>27884</td><td>0</td><td>27773</td><td>0</td><td>27767</td><td>a</td><td>a</td><td>s</td><td>True</td><td>0</td><td>True</td><td>[3]</td><td>[1]</td><td>{96}</td><td>{96}</td><td>{96}</td><td>NULL</td><td>NULL</td><td>NULL</td></tr>",
                            "</table>"
                        ]
                    }
                }
            ],
            "execution_count": 59
        },
        {
            "cell_type": "code",
            "source": [
                "-- 14) To validate the constraints are placed on TAXES table\r\n",
                "SELECT con.*\r\n",
                "    FROM pg_catalog.pg_constraint con\r\n",
                "        INNER JOIN pg_catalog.pg_class rel ON rel.oid = con.conrelid\r\n",
                "        INNER JOIN pg_catalog.pg_namespace nsp ON nsp.oid = connamespace\r\n",
                "        WHERE nsp.nspname = 'dsci_504'\r\n",
                "             AND rel.relname = 'taxes';"
            ],
            "metadata": {
                "language": "sql",
                "azdata_cell_guid": "e63a4541-608e-4fce-a88a-f9e61896bf30"
            },
            "outputs": [
                {
                    "output_type": "display_data",
                    "data": {
                        "text/html": "(1 row(s) affected)"
                    },
                    "metadata": {}
                },
                {
                    "output_type": "display_data",
                    "data": {
                        "text/html": "Total execution time: 00:00:00.006"
                    },
                    "metadata": {}
                },
                {
                    "output_type": "execute_result",
                    "metadata": {},
                    "execution_count": 60,
                    "data": {
                        "application/vnd.dataresource+json": {
                            "schema": {
                                "fields": [
                                    {
                                        "name": "oid"
                                    },
                                    {
                                        "name": "conname"
                                    },
                                    {
                                        "name": "connamespace"
                                    },
                                    {
                                        "name": "contype"
                                    },
                                    {
                                        "name": "condeferrable"
                                    },
                                    {
                                        "name": "condeferred"
                                    },
                                    {
                                        "name": "convalidated"
                                    },
                                    {
                                        "name": "conrelid"
                                    },
                                    {
                                        "name": "contypid"
                                    },
                                    {
                                        "name": "conindid"
                                    },
                                    {
                                        "name": "conparentid"
                                    },
                                    {
                                        "name": "confrelid"
                                    },
                                    {
                                        "name": "confupdtype"
                                    },
                                    {
                                        "name": "confdeltype"
                                    },
                                    {
                                        "name": "confmatchtype"
                                    },
                                    {
                                        "name": "conislocal"
                                    },
                                    {
                                        "name": "coninhcount"
                                    },
                                    {
                                        "name": "connoinherit"
                                    },
                                    {
                                        "name": "conkey"
                                    },
                                    {
                                        "name": "confkey"
                                    },
                                    {
                                        "name": "conpfeqop"
                                    },
                                    {
                                        "name": "conppeqop"
                                    },
                                    {
                                        "name": "conffeqop"
                                    },
                                    {
                                        "name": "confdelsetcols"
                                    },
                                    {
                                        "name": "conexclop"
                                    },
                                    {
                                        "name": "conbin"
                                    }
                                ]
                            },
                            "data": [
                                {
                                    "oid": "27914",
                                    "conname": "taxes_pkey",
                                    "connamespace": "27721",
                                    "contype": "p",
                                    "condeferrable": "False",
                                    "condeferred": "False",
                                    "convalidated": "True",
                                    "conrelid": "27907",
                                    "contypid": "0",
                                    "conindid": "27913",
                                    "conparentid": "0",
                                    "confrelid": "0",
                                    "confupdtype": " ",
                                    "confdeltype": " ",
                                    "confmatchtype": " ",
                                    "conislocal": "True",
                                    "coninhcount": "0",
                                    "connoinherit": "True",
                                    "conkey": "[1]",
                                    "confkey": "NULL",
                                    "conpfeqop": "NULL",
                                    "conppeqop": "NULL",
                                    "conffeqop": "NULL",
                                    "confdelsetcols": "NULL",
                                    "conexclop": "NULL",
                                    "conbin": "NULL"
                                }
                            ]
                        },
                        "text/html": [
                            "<table>",
                            "<tr><th>oid</th><th>conname</th><th>connamespace</th><th>contype</th><th>condeferrable</th><th>condeferred</th><th>convalidated</th><th>conrelid</th><th>contypid</th><th>conindid</th><th>conparentid</th><th>confrelid</th><th>confupdtype</th><th>confdeltype</th><th>confmatchtype</th><th>conislocal</th><th>coninhcount</th><th>connoinherit</th><th>conkey</th><th>confkey</th><th>conpfeqop</th><th>conppeqop</th><th>conffeqop</th><th>confdelsetcols</th><th>conexclop</th><th>conbin</th></tr>",
                            "<tr><td>27914</td><td>taxes_pkey</td><td>27721</td><td>p</td><td>False</td><td>False</td><td>True</td><td>27907</td><td>0</td><td>27913</td><td>0</td><td>0</td><td> </td><td> </td><td> </td><td>True</td><td>0</td><td>True</td><td>[1]</td><td>NULL</td><td>NULL</td><td>NULL</td><td>NULL</td><td>NULL</td><td>NULL</td><td>NULL</td></tr>",
                            "</table>"
                        ]
                    }
                }
            ],
            "execution_count": 60
        },
        {
            "cell_type": "code",
            "source": [
                "-- 15) To validate the constraints are placed on ORDER_TAXES table\r\n",
                "SELECT con.*\r\n",
                "    FROM pg_catalog.pg_constraint con\r\n",
                "        INNER JOIN pg_catalog.pg_class rel ON rel.oid = con.conrelid\r\n",
                "        INNER JOIN pg_catalog.pg_namespace nsp ON nsp.oid = connamespace\r\n",
                "        WHERE nsp.nspname = 'dsci_504'\r\n",
                "             AND rel.relname = 'order_taxes';"
            ],
            "metadata": {
                "language": "sql",
                "azdata_cell_guid": "ba9832b5-3a5c-4495-a89d-6674754f06cb"
            },
            "outputs": [
                {
                    "output_type": "display_data",
                    "data": {
                        "text/html": "(3 row(s) affected)"
                    },
                    "metadata": {}
                },
                {
                    "output_type": "display_data",
                    "data": {
                        "text/html": "Total execution time: 00:00:00.008"
                    },
                    "metadata": {}
                },
                {
                    "output_type": "execute_result",
                    "metadata": {},
                    "execution_count": 61,
                    "data": {
                        "application/vnd.dataresource+json": {
                            "schema": {
                                "fields": [
                                    {
                                        "name": "oid"
                                    },
                                    {
                                        "name": "conname"
                                    },
                                    {
                                        "name": "connamespace"
                                    },
                                    {
                                        "name": "contype"
                                    },
                                    {
                                        "name": "condeferrable"
                                    },
                                    {
                                        "name": "condeferred"
                                    },
                                    {
                                        "name": "convalidated"
                                    },
                                    {
                                        "name": "conrelid"
                                    },
                                    {
                                        "name": "contypid"
                                    },
                                    {
                                        "name": "conindid"
                                    },
                                    {
                                        "name": "conparentid"
                                    },
                                    {
                                        "name": "confrelid"
                                    },
                                    {
                                        "name": "confupdtype"
                                    },
                                    {
                                        "name": "confdeltype"
                                    },
                                    {
                                        "name": "confmatchtype"
                                    },
                                    {
                                        "name": "conislocal"
                                    },
                                    {
                                        "name": "coninhcount"
                                    },
                                    {
                                        "name": "connoinherit"
                                    },
                                    {
                                        "name": "conkey"
                                    },
                                    {
                                        "name": "confkey"
                                    },
                                    {
                                        "name": "conpfeqop"
                                    },
                                    {
                                        "name": "conppeqop"
                                    },
                                    {
                                        "name": "conffeqop"
                                    },
                                    {
                                        "name": "confdelsetcols"
                                    },
                                    {
                                        "name": "conexclop"
                                    },
                                    {
                                        "name": "conbin"
                                    }
                                ]
                            },
                            "data": [
                                {
                                    "oid": "27919",
                                    "conname": "order_taxes_pkey",
                                    "connamespace": "27721",
                                    "contype": "p",
                                    "condeferrable": "False",
                                    "condeferred": "False",
                                    "convalidated": "True",
                                    "conrelid": "27915",
                                    "contypid": "0",
                                    "conindid": "27918",
                                    "conparentid": "0",
                                    "confrelid": "0",
                                    "confupdtype": " ",
                                    "confdeltype": " ",
                                    "confmatchtype": " ",
                                    "conislocal": "True",
                                    "coninhcount": "0",
                                    "connoinherit": "True",
                                    "conkey": "[1, 3]",
                                    "confkey": "NULL",
                                    "conpfeqop": "NULL",
                                    "conppeqop": "NULL",
                                    "conffeqop": "NULL",
                                    "confdelsetcols": "NULL",
                                    "conexclop": "NULL",
                                    "conbin": "NULL"
                                },
                                {
                                    "oid": "27920",
                                    "conname": "order_taxes_ord_id_fkey",
                                    "connamespace": "27721",
                                    "contype": "f",
                                    "condeferrable": "False",
                                    "condeferred": "False",
                                    "convalidated": "True",
                                    "conrelid": "27915",
                                    "contypid": "0",
                                    "conindid": "27835",
                                    "conparentid": "0",
                                    "confrelid": "27829",
                                    "confupdtype": "a",
                                    "confdeltype": "a",
                                    "confmatchtype": "s",
                                    "conislocal": "True",
                                    "coninhcount": "0",
                                    "connoinherit": "True",
                                    "conkey": "[1]",
                                    "confkey": "[1]",
                                    "conpfeqop": "{96}",
                                    "conppeqop": "{96}",
                                    "conffeqop": "{96}",
                                    "confdelsetcols": "NULL",
                                    "conexclop": "NULL",
                                    "conbin": "NULL"
                                },
                                {
                                    "oid": "27925",
                                    "conname": "order_taxes_tax_id_fkey",
                                    "connamespace": "27721",
                                    "contype": "f",
                                    "condeferrable": "False",
                                    "condeferred": "False",
                                    "convalidated": "True",
                                    "conrelid": "27915",
                                    "contypid": "0",
                                    "conindid": "27913",
                                    "conparentid": "0",
                                    "confrelid": "27907",
                                    "confupdtype": "a",
                                    "confdeltype": "a",
                                    "confmatchtype": "s",
                                    "conislocal": "True",
                                    "coninhcount": "0",
                                    "connoinherit": "True",
                                    "conkey": "[3]",
                                    "confkey": "[1]",
                                    "conpfeqop": "{96}",
                                    "conppeqop": "{96}",
                                    "conffeqop": "{96}",
                                    "confdelsetcols": "NULL",
                                    "conexclop": "NULL",
                                    "conbin": "NULL"
                                }
                            ]
                        },
                        "text/html": [
                            "<table>",
                            "<tr><th>oid</th><th>conname</th><th>connamespace</th><th>contype</th><th>condeferrable</th><th>condeferred</th><th>convalidated</th><th>conrelid</th><th>contypid</th><th>conindid</th><th>conparentid</th><th>confrelid</th><th>confupdtype</th><th>confdeltype</th><th>confmatchtype</th><th>conislocal</th><th>coninhcount</th><th>connoinherit</th><th>conkey</th><th>confkey</th><th>conpfeqop</th><th>conppeqop</th><th>conffeqop</th><th>confdelsetcols</th><th>conexclop</th><th>conbin</th></tr>",
                            "<tr><td>27919</td><td>order_taxes_pkey</td><td>27721</td><td>p</td><td>False</td><td>False</td><td>True</td><td>27915</td><td>0</td><td>27918</td><td>0</td><td>0</td><td> </td><td> </td><td> </td><td>True</td><td>0</td><td>True</td><td>[1, 3]</td><td>NULL</td><td>NULL</td><td>NULL</td><td>NULL</td><td>NULL</td><td>NULL</td><td>NULL</td></tr>",
                            "<tr><td>27920</td><td>order_taxes_ord_id_fkey</td><td>27721</td><td>f</td><td>False</td><td>False</td><td>True</td><td>27915</td><td>0</td><td>27835</td><td>0</td><td>27829</td><td>a</td><td>a</td><td>s</td><td>True</td><td>0</td><td>True</td><td>[1]</td><td>[1]</td><td>{96}</td><td>{96}</td><td>{96}</td><td>NULL</td><td>NULL</td><td>NULL</td></tr>",
                            "<tr><td>27925</td><td>order_taxes_tax_id_fkey</td><td>27721</td><td>f</td><td>False</td><td>False</td><td>True</td><td>27915</td><td>0</td><td>27913</td><td>0</td><td>27907</td><td>a</td><td>a</td><td>s</td><td>True</td><td>0</td><td>True</td><td>[3]</td><td>[1]</td><td>{96}</td><td>{96}</td><td>{96}</td><td>NULL</td><td>NULL</td><td>NULL</td></tr>",
                            "</table>"
                        ]
                    }
                }
            ],
            "execution_count": 61
        },
        {
            "cell_type": "markdown",
            "source": [
                "**Step 6: CREATE foreign key associations for each table to elevate the database to 3NF. These should be done within each respective table. If this was completed above, note so and move on to Step 7.**"
            ],
            "metadata": {
                "azdata_cell_guid": "c536c9d5-cb5e-4736-af53-b4031da1c53a"
            },
            "attachments": {}
        },
        {
            "cell_type": "code",
            "source": [
                "--Enter your SQL code here\r\n",
                "\r\n",
                "-- This was already done inline during table creation (REFERENCES dsci_504.table_name(id_column))"
            ],
            "metadata": {
                "azdata_cell_guid": "f4d5f0c9-7176-427b-baa6-79a7c6c60c25",
                "language": "sql"
            },
            "outputs": [
                {
                    "output_type": "display_data",
                    "data": {
                        "text/html": "Total execution time: 00:00:00"
                    },
                    "metadata": {}
                }
            ],
            "execution_count": 62
        },
        {
            "cell_type": "markdown",
            "source": [
                "**Step 7: Execute two queries of your choosing on two different tables in the database.**"
            ],
            "metadata": {
                "azdata_cell_guid": "0339e4e7-e0c7-44fa-9b83-7e3f18d9ed70"
            },
            "attachments": {}
        },
        {
            "cell_type": "code",
            "source": [
                "--Enter SQL code here\r\n",
                "\r\n",
                "-- Top five most expensive products\r\n",
                "SELECT prod_name, prod_price\r\n",
                "FROM dsci_504.products\r\n",
                "ORDER BY prod_price DESC\r\n",
                "LIMIT 5;"
            ],
            "metadata": {
                "azdata_cell_guid": "82dc9de8-73ad-4e8e-b24f-de943912e8d1",
                "language": "sql"
            },
            "outputs": [
                {
                    "output_type": "display_data",
                    "data": {
                        "text/html": "(5 row(s) affected)"
                    },
                    "metadata": {}
                },
                {
                    "output_type": "display_data",
                    "data": {
                        "text/html": "Total execution time: 00:00:00.007"
                    },
                    "metadata": {}
                },
                {
                    "output_type": "execute_result",
                    "metadata": {},
                    "execution_count": 63,
                    "data": {
                        "application/vnd.dataresource+json": {
                            "schema": {
                                "fields": [
                                    {
                                        "name": "prod_name"
                                    },
                                    {
                                        "name": "prod_price"
                                    }
                                ]
                            },
                            "data": [
                                {
                                    "prod_name": "SB150",
                                    "prod_price": "8000.00"
                                },
                                {
                                    "prod_name": "SB160",
                                    "prod_price": "7699.99"
                                },
                                {
                                    "prod_name": "E-Series",
                                    "prod_price": "7565.66"
                                },
                                {
                                    "prod_name": "Wreckoning",
                                    "prod_price": "7399.00"
                                },
                                {
                                    "prod_name": "Rail",
                                    "prod_price": "7399.00"
                                }
                            ]
                        },
                        "text/html": [
                            "<table>",
                            "<tr><th>prod_name</th><th>prod_price</th></tr>",
                            "<tr><td>SB150</td><td>8000.00</td></tr>",
                            "<tr><td>SB160</td><td>7699.99</td></tr>",
                            "<tr><td>E-Series</td><td>7565.66</td></tr>",
                            "<tr><td>Wreckoning</td><td>7399.00</td></tr>",
                            "<tr><td>Rail</td><td>7399.00</td></tr>",
                            "</table>"
                        ]
                    }
                }
            ],
            "execution_count": 63
        },
        {
            "cell_type": "code",
            "source": [
                "--Enter SQL code here\r\n",
                "\r\n",
                "-- Number of orders per customer\r\n",
                "SELECT c.cus_id, c.cus_first_name, c.cus_last_name, COUNT(o.ord_id) AS total_orders\r\n",
                "FROM dsci_504.customers c\r\n",
                "JOIN dsci_504.orders o ON c.cus_id = o.cus_id\r\n",
                "GROUP BY c.cus_id\r\n",
                "ORDER BY total_orders DESC\r\n",
                "LIMIT 5;"
            ],
            "metadata": {
                "language": "sql",
                "azdata_cell_guid": "38c74ccb-a361-4728-ac1b-a0413daf34d4"
            },
            "outputs": [
                {
                    "output_type": "display_data",
                    "data": {
                        "text/html": "(5 row(s) affected)"
                    },
                    "metadata": {}
                },
                {
                    "output_type": "display_data",
                    "data": {
                        "text/html": "Total execution time: 00:00:00.026"
                    },
                    "metadata": {}
                },
                {
                    "output_type": "execute_result",
                    "metadata": {},
                    "execution_count": 64,
                    "data": {
                        "application/vnd.dataresource+json": {
                            "schema": {
                                "fields": [
                                    {
                                        "name": "cus_id"
                                    },
                                    {
                                        "name": "cus_first_name"
                                    },
                                    {
                                        "name": "cus_last_name"
                                    },
                                    {
                                        "name": "total_orders"
                                    }
                                ]
                            },
                            "data": [
                                {
                                    "cus_id": "1731",
                                    "cus_first_name": "Corey",
                                    "cus_last_name": "Harper",
                                    "total_orders": "2"
                                },
                                {
                                    "cus_id": "1728",
                                    "cus_first_name": "Thomas",
                                    "cus_last_name": "Manning",
                                    "total_orders": "2"
                                },
                                {
                                    "cus_id": "2335",
                                    "cus_first_name": "Taylor",
                                    "cus_last_name": "Booker",
                                    "total_orders": "1"
                                },
                                {
                                    "cus_id": "652",
                                    "cus_first_name": "Reginald",
                                    "cus_last_name": "Peters",
                                    "total_orders": "1"
                                },
                                {
                                    "cus_id": "1269",
                                    "cus_first_name": "Miguel",
                                    "cus_last_name": "Dawson",
                                    "total_orders": "1"
                                }
                            ]
                        },
                        "text/html": [
                            "<table>",
                            "<tr><th>cus_id</th><th>cus_first_name</th><th>cus_last_name</th><th>total_orders</th></tr>",
                            "<tr><td>1731</td><td>Corey</td><td>Harper</td><td>2</td></tr>",
                            "<tr><td>1728</td><td>Thomas</td><td>Manning</td><td>2</td></tr>",
                            "<tr><td>2335</td><td>Taylor</td><td>Booker</td><td>1</td></tr>",
                            "<tr><td>652</td><td>Reginald</td><td>Peters</td><td>1</td></tr>",
                            "<tr><td>1269</td><td>Miguel</td><td>Dawson</td><td>1</td></tr>",
                            "</table>"
                        ]
                    }
                }
            ],
            "execution_count": 64
        },
        {
            "cell_type": "code",
            "source": [
                "jupyter nbconvert --to html DSCI504_Wk2_Assignment.ipynb"
            ],
            "metadata": {
                "language": "sql",
                "azdata_cell_guid": "0e2369f5-8532-4b97-8923-16c117bf4ec4"
            },
            "outputs": [],
            "execution_count": null
        }
    ]
}