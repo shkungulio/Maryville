{
    "metadata": {
        "kernelspec": {
            "name": "SQL",
            "display_name": "SQL",
            "language": "sql"
        },
        "language_info": {
            "name": "sql",
            "version": ""
        }
    },
    "nbformat_minor": 2,
    "nbformat": 4,
    "cells": [
        {
            "cell_type": "markdown",
            "source": [
                "# Module 5, Lecture 5.1 INSERT\n",
                "\n",
                "  \n",
                "\n",
                "## Part A: Insert records into tables in PostgreSQL using the INSERT INTO statement"
            ],
            "metadata": {
                "azdata_cell_guid": "b5836e31-457a-477d-a880-7c85d6ac750e"
            }
        },
        {
            "cell_type": "markdown",
            "source": [
                "### Step 1: Enter the following Faculty into the Faculty table of the University database. \n",
                "\n",
                "The INSERT INTO syntax is\n",
                "\n",
                "> ```\n",
                "> INSERT INTO [table_name] (\n",
                ">     [columns]\n",
                "> )\n",
                "> VALUES ([expression]);\n",
                "> ```\n",
                "\n",
                "Remember that the multiple expression use of INSERT INTO separates each expression by a comma and encloses each expression in parentheses."
            ],
            "metadata": {
                "azdata_cell_guid": "e763b1bd-5f2b-4cc8-a2e1-9b07486e27ef"
            }
        },
        {
            "cell_type": "markdown",
            "source": [
                "Faculty ID |  Faculty Number | Last Name | First Name | City | State | Zip Code | Birth Date | Start Date | Status | Teaching Hours | Phone | Room | Email\n",
                " :--- | --- | ---: | :--- | --- | --- | --- | --- | --- | --- | :---: | --- | --- | ---\n",
                " 4 | STJO7190 | Johnson | Steven | San Jose | CA | 94088 | 10/10/80 | 3/17/19 | Yes | 9 | 408-719-4329 | 631 | sjohns@college.edu\n",
                " 5 | | Sanders | Keisha | Jacksonville | FL | 32034 | 7/10/78 | 3/17/19 | Yes | 9 | 904-327-0184 | 637 | ksande@college.edu\n",
                " 6 | JUBA1634 | Baker | Julie | Waco | TX | 76712 | 5/15/80 | 1/6/20 | Yes | 6 | 254-498-1023 | 638 | jbaker@college.edu\n",
                "\n",
                "\n",
                ""
            ],
            "metadata": {
                "azdata_cell_guid": "25d8a883-c067-4c70-83ed-f4de52d66394"
            }
        },
        {
            "cell_type": "code",
            "source": [
                ""
            ],
            "metadata": {
                "azdata_cell_guid": "e1df50f8-68b8-4014-bc9c-bab76e68534f"
            },
            "outputs": [],
            "execution_count": null
        },
        {
            "cell_type": "markdown",
            "source": [
                "Notice that in the above INSERT statement we did not add the school or program information. We will go back and add this later. You should have successfully updated your faculty table. If you used the RETURNING clause, you should have received a confirmation that all of your rows were inserted, either in the form or a value, or the rwos themselves.\n",
                "\n",
                "  \n",
                "\n",
                "Did you notice that there was no faculty number for Ms. Sanders? How did you deal with that? While there is no DEFAULT value for the faculty number column, you could use the term DEFAULT or simply place a blank space (' ') in the column. We will go back in and add this later. It was merely a data entry error!"
            ],
            "metadata": {
                "azdata_cell_guid": "049a352c-c345-4b71-a528-90862b6dd9aa"
            }
        },
        {
            "cell_type": "markdown",
            "source": [
                "### Step 2: Enter the following program and school data into the appropriate tables, then select all records from the program table\n",
                "\n",
                "### Schools\n",
                "\n",
                "| School ID | School Name |\n",
                "| --- | --- |\n",
                "| 4 | School of Business |\n",
                "| 5 | Design and Visual Art |\n",
                "\n",
                "### Programs\n",
                "\n",
                "| Program ID | Program Name | School ID | Director ID |\n",
                "| --- | --- | --- | --- |\n",
                "| 6 | Criminology | 1 | NULL |\n",
                "| 7 | Interior Design | 5 | NULL |\n",
                "| 8 | Info Sys. Mgmnt | 4 | NULL |\n",
                "| 9 | Game Design | 1 | NULL |\n",
                "| 10 | Cybersecurity | 2 | 1 |"
            ],
            "metadata": {
                "azdata_cell_guid": "8e9a61e5-0cca-4770-b377-38a34afcb9a8"
            }
        },
        {
            "cell_type": "code",
            "source": [
                ""
            ],
            "metadata": {
                "azdata_cell_guid": "226be49c-c0d3-40aa-bb71-f2e37ffe8345"
            },
            "outputs": [],
            "execution_count": null
        },
        {
            "cell_type": "code",
            "source": [
                ""
            ],
            "metadata": {
                "azdata_cell_guid": "2aec0710-fd0e-4294-92b5-2ed97b1fc56f"
            },
            "outputs": [],
            "execution_count": null
        },
        {
            "cell_type": "markdown",
            "source": [
                "Notice the prog\\_director fileds that are blank? We can fill these using a new INSERT even though we have a primary key on the table. We do this with the ON CONFLICT expression by adding a DO clause to the expression and givin git an UPDATE statement. We have not covered updates yet, that is in the next section. However, I wanted you to see the functionality of the ON CONFLICT clause in the INSERT statement."
            ],
            "metadata": {
                "azdata_cell_guid": "5931a7fe-d847-4278-be90-15e5e5e8f2a7"
            }
        },
        {
            "cell_type": "markdown",
            "source": [
                "Copy your above code in Cell 6 (or whatever cell you entered the progams in if you did not spearate your cells). Add the following values to the prog\\_director\\_id column then return all written values with the RETURNING clause. You will need to use the ON CONFLICT DO UPDATE clauses. An example of this is below.\n",
                "\n",
                "> ```\n",
                "> INSERT INTO [ table_name ] ( [ columns ] )\n",
                "> VALUES ([ expression ])\n",
                "> ON CONFLICT (constraint_field) DO UPDATE SET [ expression ];\n",
                "> ```\n",
                "\n",
                "| ID | Program Director |\n",
                "| --- | --- |\n",
                "| 6 | 4 |\n",
                "| 7 | 4 |\n",
                "| 8 | 5 |\n",
                "| 9 | 6 |"
            ],
            "metadata": {
                "azdata_cell_guid": "9222b320-fb73-4426-882d-f372551c8b4a"
            }
        },
        {
            "cell_type": "code",
            "source": [
                ""
            ],
            "metadata": {
                "azdata_cell_guid": "4db4f747-314c-4c50-88b6-2d89361f2192"
            },
            "outputs": [],
            "execution_count": null
        },
        {
            "cell_type": "markdown",
            "source": [
                "You should see either the output of the the rows (if you used RETURNING \\*) or the expression you passed the RETURNING clause. I used \"Written\" so that each of my rows would show \"Written\" as the response. If you did not get your rows to update, review your ON CONFLICT statement. You have to supply a column to reference that has the constraint or a constraint name (i.e. prog\\_pkey) if you explicitly defined a constraint in your table. the easiest method is to use the key column name. In this case, it is the prog\\_id column. Then you must put an UPDATE statment after the DO declaration. The correct query is below.\n",
                "\n",
                "> ```\n",
                "> INSERT INTO program \n",
                "> VALUES (6, 'Criminology', 1, 4),\n",
                "> (7, 'Interior Design', 1, 4),\n",
                "> (8, 'Info Sys. Mgmnt', 4, 5),\n",
                "> (9, 'Game Design', 4, 6),\n",
                "> (10, 'Cybersecurity', 2, 1)\n",
                "> ON CONFLICT (prog_id) DO UPDATE SET prog_director_id = EXCLUDED.prog_director_id\n",
                "> RETURNING 'Written';\n",
                "> ```"
            ],
            "metadata": {
                "azdata_cell_guid": "e2950652-7394-4c30-aa06-49d7284edcf6"
            }
        },
        {
            "cell_type": "markdown",
            "source": [
                "### Step 3: Enter the below students in the appropriate table. Be sure to use a RETURNING clause to verify your rows were written to the table.\n",
                "\n",
                "| ID | Number | Last | First | City | State | Zip | Birth Date | Start Sem. | Enrolled | Honors | GPA | Credit Hrs | Acad. Lvl | Prog ID | School ID | Degree ID |\n",
                "| --- | --- | --- | --- | --- | --- | --- | --- | --- | --- | --- | --- | --- | --- | --- | --- | --- |\n",
                "| 4 | THMA7205 | Magnussen | Thor | Atlanta | GA | 30334 | 5/1/1981 | 192 | Yes | No | 2.97 | 12 | 1 | 8 | 4 | NULL\n",
                "| 5 | ANTA7443 | Tanner | Angela | Washington | DC | 20001 | 9/13/1987 | 201 | Yes | Yes | 3.98 | 16 | 2 | 10 | 2 | NULL\n",
                "| 6 | CYMU0018 | Musgrave | Cynthia | Detroit | MI |48127 | 2/13/1974 | 191 | No | No | 3.14 | 27 | 1 | 7 | 5 | NULL"
            ],
            "metadata": {
                "azdata_cell_guid": "873defdc-3812-4ea2-b2cd-ae3c0da89c2e"
            }
        },
        {
            "cell_type": "code",
            "source": [
                ""
            ],
            "metadata": {
                "azdata_cell_guid": "348b9f9c-9c27-45b4-9264-ce4db6fe2d48"
            },
            "outputs": [],
            "execution_count": null
        },
        {
            "cell_type": "markdown",
            "source": [
                "### Step 4: Insert the following courses in the course table. Use the default values for the class size and meeting days unless noted otherwise. Make any updates necessary to fix value errors using the appropriate ALTER statement.\n",
                "\n",
                "| Course ID | Name | Code | Number | Status | Size | Meet Days | Professor | Meet Room |\n",
                "| --- | --- | --- | --- | --- | --- | --- | --- | --- |\n",
                "| 5 | Intro to ERM | ACSC | 410 | Active | DEFAULT | DEFAULT | 2 | 210 |\n",
                "| 6 | Data Structures | COSC | 350 | Inactive | DEFAULT | DEFAULT | 2 | Online |\n",
                "| 7 | Database Design | ISYS | 307 | Active | 15 | M, W, F | 1 | 371 |\n",
                "| 8 | History of Int Des | ADAH | 202 | Active | 10 | DEFAULT | 6 | 231 |\n",
                "| 9 | Ethical Hacking | ISYS | 470 | Active | DEFAULT | DEFAULT | 1 | Online |\n",
                "| 10 | Princ of Game Des | ADIN | 300 | Active | 7 | DEFAULT | 4 | Online |\n",
                "| 11 | Police Academy | CRIM | 494 | Active | DEFAULT | DEFAULT | 5 | Anx |"
            ],
            "metadata": {
                "azdata_cell_guid": "ef785165-231f-468d-b451-ffa039904d34"
            }
        },
        {
            "cell_type": "code",
            "source": [
                ""
            ],
            "metadata": {
                "azdata_cell_guid": "89e35405-a3b4-4773-8b21-9ca3ecc1ebee"
            },
            "outputs": [],
            "execution_count": null
        },
        {
            "cell_type": "markdown",
            "source": [
                "## Part B: Insert records into tables using the INSERT SELECT statement\n",
                "\n",
                "Step 1: Copy the below SQL code to a code cell and execute it. \n",
                "\n",
                "```sql\n",
                "CREATE TABLE tmp_term_class (\n",
                "    term_id INTEGER\n",
                "    ,class_id INTEGER\n",
                "    ,fac_id INTEGER\n",
                "    ,class_start_date DATE\n",
                "    ,class_end_date DATE\n",
                "    ,stud_id INTEGER);\n",
                "\n",
                "INSERT INTO tmp_term_class\n",
                "VALUES (\n",
                "    2\n",
                "    ,5\n",
                "    ,1\n",
                "    ,'2019-01-07'\n",
                "    ,'2019-03-01'\n",
                "    ,4\n",
                ")\n",
                ",(\n",
                "    2\n",
                "    ,7\n",
                "    ,1\n",
                "    ,'2019-01-07'\n",
                "    ,'2019-03-01'\n",
                "    ,4\n",
                ")\n",
                ",(\n",
                "    5\n",
                "    ,5\n",
                "    ,1\n",
                "    ,'2019-08-26'\n",
                "    ,'2019-10-18'\n",
                "    ,5\n",
                ")\n",
                ",(\n",
                "    5\n",
                "    ,3\n",
                "    ,1\n",
                "    ,'2019-08-26'\n",
                "    ,'2019-10-18'\n",
                "    ,5\n",
                ")\n",
                ",(\n",
                "    1\n",
                "    ,8\n",
                "    ,6\n",
                "    ,'2018-10-21'\n",
                "    ,'2018-12-14'\n",
                "    ,6\n",
                ");\n",
                "```"
            ],
            "metadata": {
                "azdata_cell_guid": "4466f1c0-2f73-4fc1-9c0d-9118a303faeb"
            }
        },
        {
            "cell_type": "markdown",
            "source": [
                "Step 2: Write a INSERT SELECT statement to add the data from temp table to the term\\_class relationship table"
            ],
            "metadata": {
                "azdata_cell_guid": "4034aee3-82ad-4334-b5a6-9e87a7e846a6"
            }
        },
        {
            "cell_type": "code",
            "source": [
                ""
            ],
            "metadata": {
                "azdata_cell_guid": "10952d7a-4a9a-4588-9459-b61a0df58d83"
            },
            "outputs": [],
            "execution_count": null
        },
        {
            "cell_type": "markdown",
            "source": [
                "Step 3: Update the term\\_people table using the output from the above INSERT SELECT operations. Build a new table called tmp\\_term\\_people and write the data to the table. Then copy that table into the term\\_people table using the INSERT SELECT query.\n",
                "\n",
                "  \n",
                "\n",
                "Your term\\_people table updates should be limited to the new students added above (4, 5, and 6). Make sure the include the correct term and faculty based on teh term\\_class update."
            ],
            "metadata": {
                "azdata_cell_guid": "07bdf18c-9216-4ff4-b231-9f4bf6ae0065"
            }
        },
        {
            "cell_type": "code",
            "source": [
                ""
            ],
            "metadata": {
                "azdata_cell_guid": "2d727164-e143-43dd-9987-01a744aa5561"
            },
            "outputs": [],
            "execution_count": null
        },
        {
            "cell_type": "markdown",
            "source": [
                "Your query should have returned the following three rows\n",
                "\n",
                "\n",
                "> | | term_id | stud_id | fac_id | term_start_date | term_end_date |\n",
                "> |---|---|---|---|---|---|\n",
                "> | 1 | 1 | 6 | 6 | 2018-10-21 | 2018-12-14 |\n",
                "> | 2 | 2 | 4 | 1 | 2019-01-07 | 2019-03-01 |\n",
                "> | 3 | 5 | 5 | 1 | 2019-08-26 | 2019-10-28 |\n",
                "\n",
                ""
            ],
            "metadata": {
                "azdata_cell_guid": "a86cf842-a149-4a56-af38-cc9d29d01adc"
            }
        }
    ]
}