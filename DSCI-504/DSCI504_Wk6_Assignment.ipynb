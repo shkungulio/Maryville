{
    "metadata": {
        "kernelspec": {
            "name": "SQL",
            "display_name": "SQL",
            "language": "sql"
        },
        "language_info": {
            "name": "sql",
            "version": ""
        }
    },
    "nbformat_minor": 2,
    "nbformat": 4,
    "cells": [
        {
            "cell_type": "markdown",
            "source": [
                "# DSCI 504\n",
                "\n",
                "## Week 6\n",
                "\n",
                "### Assignment: Using PostgreSQL to Support Other Data Science Tasks\n",
                "\n",
                "### Student Name: \\[Double-click this cell and 'Enter Your Name Here'. Replace this bracketed text with your name\\]"
            ],
            "metadata": {
                "azdata_cell_guid": "ceb090b4-1051-4084-8a47-0c418eea8927"
            },
            "attachments": {}
        },
        {
            "cell_type": "markdown",
            "source": [
                "<u>How to complete this assignment:</u> This Notebook has two types of cells, text, and code. Cell marked with **_Do not mark in this cell_** are not to be edited. Other text cells that require answers or typing may be edited by double-clicking on the cell and editing. Clicking off of the cell saves the text. Code cells are where you will enter in your SQL code. The results of your query will be displayed immediately beneath your code cell and are interactive. For full credit, you must write, execute, and save your code in your Notebook. The last cell of the Notebook has instructions for saving the Notebook as an html file for submission."
            ],
            "metadata": {
                "azdata_cell_guid": "3e43f52d-df95-4ce9-81f4-96958376f2d7"
            }
        },
        {
            "cell_type": "markdown",
            "source": [
                "### 6.1 Question: Calculate the unit price safely in the event quanity is zero(0). Order your results by  the unit_price to determine if any lines meet the criteria."
            ],
            "metadata": {
                "azdata_cell_guid": "59e6a40a-c588-42b1-9d02-e058fc5db71f"
            },
            "attachments": {}
        },
        {
            "cell_type": "code",
            "source": [
                "--Enter your query here"
            ],
            "metadata": {
                "azdata_cell_guid": "6a936a56-1551-41fc-82ad-c53bfdb53c78",
                "language": "sql"
            },
            "outputs": [],
            "execution_count": null
        },
        {
            "cell_type": "markdown",
            "source": [
                "### 6.2 Question: Cap order totals between 1000 and 5000. i.e. If the order total is over 5000, cap it at 5000 and if it is under 1000, make it 1000"
            ],
            "metadata": {
                "language": "sql",
                "azdata_cell_guid": "9c2e11ff-af2e-490b-b69a-60f104885ae9"
            },
            "attachments": {}
        },
        {
            "cell_type": "code",
            "source": [
                "--Enter your query here"
            ],
            "metadata": {
                "language": "sql",
                "azdata_cell_guid": "bbe62e7f-ad74-493f-b83c-a0ad2833e49d"
            },
            "outputs": [],
            "execution_count": null
        },
        {
            "cell_type": "markdown",
            "source": [
                "### 6.3 Question: Generate a monthly calendar from January 1, 2020 to December 1, 2021"
            ],
            "metadata": {
                "language": "sql",
                "azdata_cell_guid": "f22fd2c8-fcd9-4d32-b255-89233a7fd973"
            },
            "attachments": {}
        },
        {
            "cell_type": "code",
            "source": [
                "--Enter your query here"
            ],
            "metadata": {
                "language": "sql",
                "azdata_cell_guid": "1f4dccbe-f692-4f91-bc4a-5138fb2914b4"
            },
            "outputs": [],
            "execution_count": null
        },
        {
            "cell_type": "markdown",
            "source": [
                "### 6.4 Question: Set a floor to shipping days so there is a minimum of 1"
            ],
            "metadata": {
                "language": "sql",
                "azdata_cell_guid": "92e7bffe-ea3f-4d07-8c01-1f3881bd1f8a"
            },
            "attachments": {}
        },
        {
            "cell_type": "code",
            "source": [
                "--Enter your query here"
            ],
            "metadata": {
                "language": "sql",
                "azdata_cell_guid": "0134ab50-518b-469a-ab83-96780821d65b"
            },
            "outputs": [],
            "execution_count": null
        },
        {
            "cell_type": "markdown",
            "source": [
                "### 6.5 Question: Flag products with a return rate > 10% as 'High Risk'. Calculate and how the return_rate and the flag."
            ],
            "metadata": {
                "language": "sql",
                "azdata_cell_guid": "c621cb3e-bee9-473a-9746-120ee1d13ccc"
            },
            "attachments": {}
        },
        {
            "cell_type": "code",
            "source": [
                "--Enter your query here"
            ],
            "metadata": {
                "language": "sql",
                "azdata_cell_guid": "087768d7-9b05-48de-898e-46399152b8ed"
            },
            "outputs": [],
            "execution_count": null
        },
        {
            "cell_type": "markdown",
            "source": [
                "### 6.6 Question: Compute the % of returned quantity vs. ordered quanity per product."
            ],
            "metadata": {
                "language": "sql",
                "azdata_cell_guid": "66925ac5-e812-4fc9-8849-44a53fa57900"
            },
            "attachments": {}
        },
        {
            "cell_type": "code",
            "source": [
                "--Enter your query here"
            ],
            "metadata": {
                "language": "sql",
                "azdata_cell_guid": "9a3732a9-fef4-44d4-a294-4417fdb12621"
            },
            "outputs": [],
            "execution_count": null
        },
        {
            "cell_type": "markdown",
            "source": [
                "### 6.7 - 6.10 Question: Provide a short narrative indicating the value of using SQL to support data analysis. What value do the functions you used in this week's assignment provide when culling data for an analytica project? How much of a part do you think knowing SQL plays in the Data Scientist's toolkit? <br>\n",
                "[Enter your answer here]"
            ],
            "metadata": {
                "azdata_cell_guid": "47eabc1a-0008-4bee-93a4-dd7c6926f088"
            },
            "attachments": {}
        },
        {
            "cell_type": "markdown",
            "source": [
                "### Run the blow cell using the Python kernel to save this Notebook as an html file for submission. Like other weeks, append the filename with your name and submit in Canvas."
            ],
            "metadata": {
                "azdata_cell_guid": "cce2e5f8-3f20-4fa8-9c66-6559c408e3fd"
            },
            "attachments": {}
        },
        {
            "cell_type": "code",
            "source": [
                "!jupyter nbconvert --to html DSCI504_Wk6_Assignment.ipynb"
            ],
            "metadata": {
                "azdata_cell_guid": "15049a85-3952-4169-97d3-062b00a090a5",
                "language": "sql"
            },
            "outputs": [],
            "execution_count": null
        }
    ]
}