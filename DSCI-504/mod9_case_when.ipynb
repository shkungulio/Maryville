{
    "metadata": {
        "kernelspec": {
            "name": "SQL",
            "display_name": "SQL",
            "language": "sql"
        },
        "language_info": {
            "name": "sql",
            "version": ""
        }
    },
    "nbformat_minor": 2,
    "nbformat": 4,
    "cells": [
        {
            "cell_type": "markdown",
            "source": [
                "# Module 9, The CASE WHEN statement"
            ],
            "metadata": {
                "azdata_cell_guid": "58c76eac-4175-49cb-894e-3b1c34f0769d"
            }
        },
        {
            "cell_type": "markdown",
            "source": [
                "Step 1: Write a query to extend the MPAA rating in the film table to include the below descriptions where the film is in the below list. For films not in the rating list, return 'Not Rated':\n",
                "\n",
                "| MPAA Rating | Text |\n",
                "| :-- | :-- |\n",
                "| G | Appropriate All Ages |\n",
                "| PG | Appropriate for Children |\n",
                "| PG-13 | Appropriate for 13+ |\n",
                "| NC-17 | Not appropriate 17- |\n",
                "| R | Advanced Themes |\n",
                "\n",
                "| Films |\n",
                "| :--- |\n",
                "| Brevehaert Human |\n",
                "| Eagles Panky |\n",
                "| Hurricane Affair |\n",
                "| Murder Antitrust |"
            ],
            "metadata": {
                "azdata_cell_guid": "d9462437-3e94-43b5-9aec-5e3ebdae1a95"
            }
        },
        {
            "cell_type": "code",
            "source": [
                ""
            ],
            "metadata": {
                "azdata_cell_guid": "e5f10bd3-acb4-495a-9645-97fae705991c"
            },
            "outputs": [
                {
                    "output_type": "display_data",
                    "data": {
                        "text/html": "(4 row(s) affected)"
                    },
                    "metadata": {}
                },
                {
                    "output_type": "display_data",
                    "data": {
                        "text/html": "Total execution time: 00:00:00.006"
                    },
                    "metadata": {}
                },
                {
                    "output_type": "execute_result",
                    "metadata": {},
                    "execution_count": 7,
                    "data": {
                        "application/vnd.dataresource+json": {
                            "schema": {
                                "fields": [
                                    {
                                        "name": "rating"
                                    },
                                    {
                                        "name": "title"
                                    }
                                ]
                            },
                            "data": [
                                {
                                    "0": "Appropriate for 13+",
                                    "1": "Braveheart Human"
                                },
                                {
                                    "0": "Not Appropriate 17-",
                                    "1": "Eagles Panky"
                                },
                                {
                                    "0": "Appropriate for Children",
                                    "1": "Hurricane Affair"
                                },
                                {
                                    "0": "Appropriate for Children",
                                    "1": "Murder Antitrust"
                                }
                            ]
                        },
                        "text/html": [
                            "<table>",
                            "<tr><th>rating</th><th>title</th></tr>",
                            "<tr><td>Appropriate for 13+</td><td>Braveheart Human</td></tr>",
                            "<tr><td>Not Appropriate 17-</td><td>Eagles Panky</td></tr>",
                            "<tr><td>Appropriate for Children</td><td>Hurricane Affair</td></tr>",
                            "<tr><td>Appropriate for Children</td><td>Murder Antitrust</td></tr>",
                            "</table>"
                        ]
                    }
                }
            ],
            "execution_count": 7
        },
        {
            "cell_type": "markdown",
            "source": [
                "### What is the Descriptive Rating for Murder Antitrust?"
            ],
            "metadata": {
                "azdata_cell_guid": "0129a8f4-ad66-46cc-a9f1-e25b49ee103e"
            }
        },
        {
            "cell_type": "markdown",
            "source": [
                "Step 2: Write a query that returns the count of all movies in the film table where the rental\\_duration is equal to 'Long Rental'. Use the below table logic to determine the rental duration categories.\n",
                "\n",
                "| Rental Duration | Value |\n",
                "| --- | --- |\n",
                "| Less than 2 days | Extremely Short |\n",
                "| Between 3 and 5 | Average |\n",
                "| Greater than 5 | Long Rental |\n",
                "| NULL | No Rental |"
            ],
            "metadata": {
                "azdata_cell_guid": "e11944af-4d71-4678-be82-a77d3ee0730d"
            }
        },
        {
            "cell_type": "code",
            "source": [
                ""
            ],
            "metadata": {
                "azdata_cell_guid": "9e7305be-b486-435b-96a9-ead522413650"
            },
            "outputs": [
                {
                    "output_type": "display_data",
                    "data": {
                        "text/html": "(1 row(s) affected)"
                    },
                    "metadata": {}
                },
                {
                    "output_type": "display_data",
                    "data": {
                        "text/html": "Total execution time: 00:00:00.006"
                    },
                    "metadata": {}
                },
                {
                    "output_type": "execute_result",
                    "metadata": {},
                    "execution_count": 95,
                    "data": {
                        "application/vnd.dataresource+json": {
                            "schema": {
                                "fields": [
                                    {
                                        "name": "count"
                                    }
                                ]
                            },
                            "data": [
                                {
                                    "0": "403"
                                }
                            ]
                        },
                        "text/html": [
                            "<table>",
                            "<tr><th>count</th></tr>",
                            "<tr><td>403</td></tr>",
                            "</table>"
                        ]
                    }
                }
            ],
            "execution_count": 95
        },
        {
            "cell_type": "markdown",
            "source": [
                "### How many movies were rented longer than 5 days?"
            ],
            "metadata": {
                "azdata_cell_guid": "a3c0977c-a43d-4fcb-a5ce-ce8f08f6a660"
            }
        },
        {
            "cell_type": "markdown",
            "source": [
                "### Step 3: Append the above query to return the movie title, highest rental rate, and rental length of the top movie where the rental duration is Extremely Long. Create an additional category based on the below table. Be sure to order the results to get only the rental with the highest rental rate and the correct category.\n",
                "\n",
                "| Rental Duration | Value |\n",
                "| --- | --- |\n",
                "| Less than or equal to 2 days | Extremely Short |\n",
                "| Between 3 and 5 | Average |\n",
                "| Equal to 6 Days | Long Rental |\n",
                "| Greater than or equal to 7 | Extremely Long Rental |\n",
                "| NULL | No Rental |"
            ],
            "metadata": {
                "azdata_cell_guid": "20246b67-a06b-4337-ac61-a5ac4df0db91"
            }
        },
        {
            "cell_type": "code",
            "source": [
                ""
            ],
            "metadata": {
                "azdata_cell_guid": "71c88268-60c7-4100-9a03-e3f5174befc0"
            },
            "outputs": [
                {
                    "output_type": "display_data",
                    "data": {
                        "text/html": "(1 row(s) affected)"
                    },
                    "metadata": {}
                },
                {
                    "output_type": "display_data",
                    "data": {
                        "text/html": "Total execution time: 00:00:00.004"
                    },
                    "metadata": {}
                },
                {
                    "output_type": "execute_result",
                    "metadata": {},
                    "execution_count": 133,
                    "data": {
                        "application/vnd.dataresource+json": {
                            "schema": {
                                "fields": [
                                    {
                                        "name": "title"
                                    },
                                    {
                                        "name": "rental_rate"
                                    },
                                    {
                                        "name": "rent_length"
                                    }
                                ]
                            },
                            "data": [
                                {
                                    "0": "Bikini Borrowers",
                                    "1": "4.99",
                                    "2": "Extremely Long Rental"
                                }
                            ]
                        },
                        "text/html": [
                            "<table>",
                            "<tr><th>title</th><th>rental_rate</th><th>rent_length</th></tr>",
                            "<tr><td>Bikini Borrowers</td><td>4.99</td><td>Extremely Long Rental</td></tr>",
                            "</table>"
                        ]
                    }
                }
            ],
            "execution_count": 133
        },
        {
            "cell_type": "markdown",
            "source": [
                "### What is the highest rental with the longest rent times?"
            ],
            "metadata": {
                "azdata_cell_guid": "afb6be29-f94e-4c4e-a966-ab7898d46852"
            }
        }
    ]
}