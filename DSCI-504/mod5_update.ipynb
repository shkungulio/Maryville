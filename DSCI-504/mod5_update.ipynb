{
    "metadata": {
        "kernelspec": {
            "name": "SQL",
            "display_name": "SQL",
            "language": "sql"
        },
        "language_info": {
            "name": "sql",
            "version": ""
        }
    },
    "nbformat_minor": 2,
    "nbformat": 4,
    "cells": [
        {
            "cell_type": "markdown",
            "source": [
                "# Module 5, Lecture 5.2\n",
                "\n",
                "## **Updating Data in PostgreSQL Tables (UPDATE)**"
            ],
            "metadata": {
                "azdata_cell_guid": "3ce4e873-86b0-4401-9aed-c53048f036c7"
            }
        },
        {
            "cell_type": "markdown",
            "source": [
                "### <span style=\"font-size: 14px; font-family: -apple-system, BlinkMacSystemFont, sans-serif;\">Step 1: Some PostgreSQL operations are two part operations. Some can be combined. The DEFAULT setting for the Course table has the days of the week set to '(M,T,W,TH,F)'. We want to remove the parentheses and update the current values stored from the DEFAULT on the course_meet_days column to match the desired output of the new DEFAULT setting.</span>  \n",
                "\n",
                "Edit the course table to make the DEFAULT for the course\\_meet\\_days column to read 'MTWTHF'.\n",
                "\n",
                "Update the current values stored in the course table to match the new DEFAULT value."
            ],
            "metadata": {
                "azdata_cell_guid": "f983c630-9aa5-4080-8114-51b7aa73da1f"
            }
        },
        {
            "cell_type": "code",
            "source": [
                ""
            ],
            "metadata": {
                "azdata_cell_guid": "b63ebbaa-d398-4e6d-92aa-bae4cca811b3"
            },
            "outputs": [
                {
                    "output_type": "display_data",
                    "data": {
                        "text/html": "Commands completed successfully"
                    },
                    "metadata": {}
                },
                {
                    "output_type": "display_data",
                    "data": {
                        "text/html": "(6 row(s) affected)"
                    },
                    "metadata": {}
                },
                {
                    "output_type": "display_data",
                    "data": {
                        "text/html": "Total execution time: 00:00:00.023"
                    },
                    "metadata": {}
                },
                {
                    "output_type": "execute_result",
                    "execution_count": 2,
                    "data": {
                        "application/vnd.dataresource+json": {
                            "schema": {
                                "fields": [
                                    {
                                        "name": "course_id"
                                    },
                                    {
                                        "name": "course_name"
                                    },
                                    {
                                        "name": "course_code"
                                    },
                                    {
                                        "name": "course_num"
                                    },
                                    {
                                        "name": "course_status"
                                    },
                                    {
                                        "name": "course_size"
                                    },
                                    {
                                        "name": "course_meet_days"
                                    },
                                    {
                                        "name": "course_professor"
                                    },
                                    {
                                        "name": "meet_room"
                                    }
                                ]
                            },
                            "data": [
                                {
                                    "0": "5",
                                    "1": "Intro to ERM",
                                    "2": "ACSC",
                                    "3": "410",
                                    "4": "yes",
                                    "5": "NULL",
                                    "6": "MTWTHF",
                                    "7": "2",
                                    "8": "210"
                                },
                                {
                                    "0": "6",
                                    "1": "Data Structures",
                                    "2": "COSC",
                                    "3": "350",
                                    "4": "No",
                                    "5": "NULL",
                                    "6": "MTWTHF",
                                    "7": "2",
                                    "8": "Onl"
                                },
                                {
                                    "0": "8",
                                    "1": "History of Int Des",
                                    "2": "ADAH",
                                    "3": "202",
                                    "4": "Yes",
                                    "5": "10",
                                    "6": "MTWTHF",
                                    "7": "6",
                                    "8": "231"
                                },
                                {
                                    "0": "9",
                                    "1": "Ethical Hacking",
                                    "2": "ISYS",
                                    "3": "470",
                                    "4": "Yes",
                                    "5": "NULL",
                                    "6": "MTWTHF",
                                    "7": "1",
                                    "8": "Onl"
                                },
                                {
                                    "0": "10",
                                    "1": "Princ of Game Des",
                                    "2": "ADIN",
                                    "3": "300",
                                    "4": "yes",
                                    "5": "7",
                                    "6": "MTWTHF",
                                    "7": "4",
                                    "8": "Onl"
                                },
                                {
                                    "0": "11",
                                    "1": "Police Academy",
                                    "2": "CRIM",
                                    "3": "494",
                                    "4": "Yes",
                                    "5": "NULL",
                                    "6": "MTWTHF",
                                    "7": "5",
                                    "8": "Anx"
                                }
                            ]
                        },
                        "text/html": "<table><tr><th>course_id</th><th>course_name</th><th>course_code</th><th>course_num</th><th>course_status</th><th>course_size</th><th>course_meet_days</th><th>course_professor</th><th>meet_room</th></tr><tr><td>5</td><td>Intro to ERM</td><td>ACSC</td><td>410</td><td>yes</td><td>NULL</td><td>MTWTHF</td><td>2</td><td>210</td></tr><tr><td>6</td><td>Data Structures</td><td>COSC</td><td>350</td><td>No</td><td>NULL</td><td>MTWTHF</td><td>2</td><td>Onl</td></tr><tr><td>8</td><td>History of Int Des</td><td>ADAH</td><td>202</td><td>Yes</td><td>10</td><td>MTWTHF</td><td>6</td><td>231</td></tr><tr><td>9</td><td>Ethical Hacking</td><td>ISYS</td><td>470</td><td>Yes</td><td>NULL</td><td>MTWTHF</td><td>1</td><td>Onl</td></tr><tr><td>10</td><td>Princ of Game Des</td><td>ADIN</td><td>300</td><td>yes</td><td>7</td><td>MTWTHF</td><td>4</td><td>Onl</td></tr><tr><td>11</td><td>Police Academy</td><td>CRIM</td><td>494</td><td>Yes</td><td>NULL</td><td>MTWTHF</td><td>5</td><td>Anx</td></tr></table>"
                    },
                    "metadata": {}
                }
            ],
            "execution_count": 2
        },
        {
            "cell_type": "markdown",
            "source": [
                "Step 2: Insert a new course into the course table using the below information. Be sure to return the result and evalaute if the new DEFAULT matches the string 'MTWTHF'. Be sure to critically analyze what you are trying to accomplish and choose the best method to update.\n",
                "\n",
                "| Course ID | Course Name | Course Code | Course Num | Status | Size | Meeting Days | Professor | Room |\n",
                "| :-: | :-- | :-: | :-: | :-- | :-: | :-: | :-: | :-: |\n",
                "| 12 | Advanced R | DSCI | 510 | Active | 18 |  | 1 | Onl |"
            ],
            "metadata": {
                "azdata_cell_guid": "4f0c6915-6cd1-4e9d-822c-c7b000210154"
            }
        },
        {
            "cell_type": "code",
            "source": [
                ""
            ],
            "metadata": {
                "azdata_cell_guid": "4cff3ee8-e490-4273-857f-d755d514ce86"
            },
            "outputs": [
                {
                    "output_type": "display_data",
                    "data": {
                        "text/html": "(1 row(s) affected)"
                    },
                    "metadata": {}
                },
                {
                    "output_type": "display_data",
                    "data": {
                        "text/html": "(1 row(s) affected)"
                    },
                    "metadata": {}
                },
                {
                    "output_type": "display_data",
                    "data": {
                        "text/html": "Total execution time: 00:00:00.016"
                    },
                    "metadata": {}
                },
                {
                    "output_type": "execute_result",
                    "execution_count": 3,
                    "data": {
                        "application/vnd.dataresource+json": {
                            "schema": {
                                "fields": [
                                    {
                                        "name": "Column1"
                                    }
                                ]
                            },
                            "data": [
                                {
                                    "0": "1"
                                }
                            ]
                        },
                        "text/html": "<table><tr><th>Column1</th></tr><tr><td>1</td></tr></table>"
                    },
                    "metadata": {}
                },
                {
                    "output_type": "execute_result",
                    "execution_count": 3,
                    "data": {
                        "application/vnd.dataresource+json": {
                            "schema": {
                                "fields": [
                                    {
                                        "name": "course_id"
                                    },
                                    {
                                        "name": "course_name"
                                    },
                                    {
                                        "name": "course_code"
                                    },
                                    {
                                        "name": "course_num"
                                    },
                                    {
                                        "name": "course_status"
                                    },
                                    {
                                        "name": "course_size"
                                    },
                                    {
                                        "name": "course_meet_days"
                                    },
                                    {
                                        "name": "course_professor"
                                    },
                                    {
                                        "name": "meet_room"
                                    }
                                ]
                            },
                            "data": [
                                {
                                    "0": "12",
                                    "1": "Advanced R",
                                    "2": "DSCI",
                                    "3": "510",
                                    "4": "Yes",
                                    "5": "18",
                                    "6": "MTWTHF",
                                    "7": "1",
                                    "8": "Onl"
                                }
                            ]
                        },
                        "text/html": "<table><tr><th>course_id</th><th>course_name</th><th>course_code</th><th>course_num</th><th>course_status</th><th>course_size</th><th>course_meet_days</th><th>course_professor</th><th>meet_room</th></tr><tr><td>12</td><td>Advanced R</td><td>DSCI</td><td>510</td><td>Yes</td><td>18</td><td>MTWTHF</td><td>1</td><td>Onl</td></tr></table>"
                    },
                    "metadata": {}
                }
            ],
            "execution_count": 3
        },
        {
            "cell_type": "markdown",
            "source": [
                "Step 3: Update any Faculty Number that is missing. The Faculty Number is derived from the first two letters of the first and last name and a random four-digit number. We have not covered string formatting or functions, so assistance if provided below.\n",
                "\n",
                "Copy the below code into a new code cell and fill in the blanks for the UPDATE statement:\n",
                "\n",
                "```SQL\n",
                "WITH sub AS (\n",
                "    SELECT \n",
                "        substring(UPPER(fac_first_name),1,2) as a\n",
                "        ,substring(UPPER(fac_last_name),1,2) as b \n",
                "        ,floor(1000 + random() * 9999) as c \n",
                "    FROM faculty\n",
                "    WHERE fac_num IS NULL\n",
                ")\n",
                "UPDATE _______\n",
                "SET ______ = concat(sub.a, sub.b,sub.c)\n",
                "FROM _____\n",
                "WHERE ________ IS NULL\n",
                "RETURNING fac_num;\n",
                "```\n",
                "\n",
                ""
            ],
            "metadata": {
                "azdata_cell_guid": "1cdae967-58bb-4ac2-9a25-19d4e03ddefd"
            }
        },
        {
            "cell_type": "code",
            "source": [
                ""
            ],
            "metadata": {
                "azdata_cell_guid": "f45378bf-9405-46cc-9378-e55f8bd7cc4c"
            },
            "outputs": [
                {
                    "output_type": "display_data",
                    "data": {
                        "text/html": "(1 row(s) affected)"
                    },
                    "metadata": {}
                },
                {
                    "output_type": "display_data",
                    "data": {
                        "text/html": "Total execution time: 00:00:00.003"
                    },
                    "metadata": {}
                },
                {
                    "output_type": "execute_result",
                    "execution_count": 4,
                    "data": {
                        "application/vnd.dataresource+json": {
                            "schema": {
                                "fields": [
                                    {
                                        "name": "fac_num"
                                    }
                                ]
                            },
                            "data": [
                                {
                                    "0": "KESA2082"
                                }
                            ]
                        },
                        "text/html": "<table><tr><th>fac_num</th></tr><tr><td>KESA2082</td></tr></table>"
                    },
                    "metadata": {}
                }
            ],
            "execution_count": 4
        },
        {
            "cell_type": "markdown",
            "source": [
                "In the above example, we use a CTE to query the faculty table and manipulate the first and last name. We then generate the four digit number in the same table to store it in the CTEs temp output. We then reference the aliased columns in the CTE and concatenate them in the fac\\_num column where the fac\\_num is NULL. The same condition is used in both instances since we are only focused on updating the NULL fac\\_num rows. We will cover this more later weeks, but I wanted you to see how versatile the UPDATE statement is."
            ],
            "metadata": {
                "azdata_cell_guid": "c8415e7d-b29c-4080-ba45-57cbf550e446"
            }
        },
        {
            "cell_type": "markdown",
            "source": [
                "Step 4: Using the above methodology, create email addresses for all students in the Student table. Use the following logic:\n",
                "\n",
                "> ```\n",
                "> The student email address should use the first letter of the first name and the first 6 letters of the last name. All student school email addresses will be in the 'college.edu' domain.\n",
                "> ```\n",
                "\n",
                "If you remember when we altered the student table we created a unique constraint on the email column. This will need to be removed before procedding with the update."
            ],
            "metadata": {
                "azdata_cell_guid": "0cbab20b-fefd-4138-9152-1142940700b1"
            }
        },
        {
            "cell_type": "code",
            "source": [
                ""
            ],
            "metadata": {
                "azdata_cell_guid": "2cbc9c07-fd27-4d48-98c8-646a7301ac3c"
            },
            "outputs": [
                {
                    "output_type": "display_data",
                    "data": {
                        "text/html": "(6 row(s) affected)"
                    },
                    "metadata": {}
                },
                {
                    "output_type": "display_data",
                    "data": {
                        "text/html": "Total execution time: 00:00:00.009"
                    },
                    "metadata": {}
                },
                {
                    "output_type": "execute_result",
                    "execution_count": 33,
                    "data": {
                        "application/vnd.dataresource+json": {
                            "schema": {
                                "fields": [
                                    {
                                        "name": "stud_email"
                                    }
                                ]
                            },
                            "data": [
                                {
                                    "0": "jbaker@college.edu"
                                },
                                {
                                    "0": "erawlin@college.edu"
                                },
                                {
                                    "0": "srodrig@college.edu"
                                },
                                {
                                    "0": "tmagnus@college.edu"
                                },
                                {
                                    "0": "atanner@college.edu"
                                },
                                {
                                    "0": "cmusgra@college.edu"
                                }
                            ]
                        },
                        "text/html": "<table><tr><th>stud_email</th></tr><tr><td>jbaker@college.edu</td></tr><tr><td>erawlin@college.edu</td></tr><tr><td>srodrig@college.edu</td></tr><tr><td>tmagnus@college.edu</td></tr><tr><td>atanner@college.edu</td></tr><tr><td>cmusgra@college.edu</td></tr></table>"
                    },
                    "metadata": {}
                }
            ],
            "execution_count": 33
        },
        {
            "cell_type": "markdown",
            "source": [
                "In the case above the CTE creates the email addresses based on the stud\\_id not being null. This just ensures referential integrity. All email addresses are null at the start of the CTE. The initial CTE output is shown below"
            ],
            "metadata": {
                "azdata_cell_guid": "332533dd-4e27-4765-92e3-9662654f39e7"
            }
        },
        {
            "cell_type": "code",
            "source": [
                ""
            ],
            "metadata": {
                "azdata_cell_guid": "095ec097-9faf-4a40-bfe9-cb2b7e853f10"
            },
            "outputs": [
                {
                    "output_type": "display_data",
                    "data": {
                        "text/html": "(6 row(s) affected)"
                    },
                    "metadata": {}
                },
                {
                    "output_type": "display_data",
                    "data": {
                        "text/html": "Total execution time: 00:00:00.003"
                    },
                    "metadata": {}
                },
                {
                    "output_type": "execute_result",
                    "execution_count": 34,
                    "data": {
                        "application/vnd.dataresource+json": {
                            "schema": {
                                "fields": [
                                    {
                                        "name": "stud_id"
                                    },
                                    {
                                        "name": "a"
                                    },
                                    {
                                        "name": "b"
                                    },
                                    {
                                        "name": "c"
                                    }
                                ]
                            },
                            "data": [
                                {
                                    "0": "1",
                                    "1": "j",
                                    "2": "baker",
                                    "3": "@college.edu"
                                },
                                {
                                    "0": "2",
                                    "1": "e",
                                    "2": "rawlin",
                                    "3": "@college.edu"
                                },
                                {
                                    "0": "3",
                                    "1": "s",
                                    "2": "rodrig",
                                    "3": "@college.edu"
                                },
                                {
                                    "0": "4",
                                    "1": "t",
                                    "2": "magnus",
                                    "3": "@college.edu"
                                },
                                {
                                    "0": "5",
                                    "1": "a",
                                    "2": "tanner",
                                    "3": "@college.edu"
                                },
                                {
                                    "0": "6",
                                    "1": "c",
                                    "2": "musgra",
                                    "3": "@college.edu"
                                }
                            ]
                        },
                        "text/html": "<table><tr><th>stud_id</th><th>a</th><th>b</th><th>c</th></tr><tr><td>1</td><td>j</td><td>baker</td><td>@college.edu</td></tr><tr><td>2</td><td>e</td><td>rawlin</td><td>@college.edu</td></tr><tr><td>3</td><td>s</td><td>rodrig</td><td>@college.edu</td></tr><tr><td>4</td><td>t</td><td>magnus</td><td>@college.edu</td></tr><tr><td>5</td><td>a</td><td>tanner</td><td>@college.edu</td></tr><tr><td>6</td><td>c</td><td>musgra</td><td>@college.edu</td></tr></table>"
                    },
                    "metadata": {}
                }
            ],
            "execution_count": 34
        },
        {
            "cell_type": "markdown",
            "source": [
                "The remainder of the query simply concatenates the CTE results for each row and updates the table by inserting the email address in the correct row. We can check the email addresses against the student table below."
            ],
            "metadata": {
                "azdata_cell_guid": "7d79a259-a7ab-44b9-a18a-fc11efe10283"
            }
        },
        {
            "cell_type": "code",
            "source": [
                ""
            ],
            "metadata": {
                "azdata_cell_guid": "5beb41a4-9304-4055-83a3-e6c511352143"
            },
            "outputs": [
                {
                    "output_type": "display_data",
                    "data": {
                        "text/html": "(6 row(s) affected)"
                    },
                    "metadata": {}
                },
                {
                    "output_type": "display_data",
                    "data": {
                        "text/html": "Total execution time: 00:00:00.006"
                    },
                    "metadata": {}
                },
                {
                    "output_type": "execute_result",
                    "execution_count": 37,
                    "data": {
                        "application/vnd.dataresource+json": {
                            "schema": {
                                "fields": [
                                    {
                                        "name": "stud_id"
                                    },
                                    {
                                        "name": "stud_first_name"
                                    },
                                    {
                                        "name": "stud_last_name"
                                    },
                                    {
                                        "name": "stud_email"
                                    }
                                ]
                            },
                            "data": [
                                {
                                    "0": "1",
                                    "1": "Jamal",
                                    "2": "Baker",
                                    "3": "jbaker@college.edu"
                                },
                                {
                                    "0": "2",
                                    "1": "Elizabeth",
                                    "2": "Rawlings",
                                    "3": "erawlin@college.edu"
                                },
                                {
                                    "0": "3",
                                    "1": "Sarah",
                                    "2": "Rodriguex",
                                    "3": "srodrig@college.edu"
                                },
                                {
                                    "0": "4",
                                    "1": "Thor",
                                    "2": "Magnussen",
                                    "3": "tmagnus@college.edu"
                                },
                                {
                                    "0": "5",
                                    "1": "Angela",
                                    "2": "Tanner",
                                    "3": "atanner@college.edu"
                                },
                                {
                                    "0": "6",
                                    "1": "Cynthia",
                                    "2": "Musgrave",
                                    "3": "cmusgra@college.edu"
                                }
                            ]
                        },
                        "text/html": "<table><tr><th>stud_id</th><th>stud_first_name</th><th>stud_last_name</th><th>stud_email</th></tr><tr><td>1</td><td>Jamal</td><td>Baker</td><td>jbaker@college.edu</td></tr><tr><td>2</td><td>Elizabeth</td><td>Rawlings</td><td>erawlin@college.edu</td></tr><tr><td>3</td><td>Sarah</td><td>Rodriguex</td><td>srodrig@college.edu</td></tr><tr><td>4</td><td>Thor</td><td>Magnussen</td><td>tmagnus@college.edu</td></tr><tr><td>5</td><td>Angela</td><td>Tanner</td><td>atanner@college.edu</td></tr><tr><td>6</td><td>Cynthia</td><td>Musgrave</td><td>cmusgra@college.edu</td></tr></table>"
                    },
                    "metadata": {}
                }
            ],
            "execution_count": 37
        },
        {
            "cell_type": "markdown",
            "source": [
                "Step 4: Update Sarah Rodriguez's name to reflect the correct spelling"
            ],
            "metadata": {
                "azdata_cell_guid": "831bb4ed-b99c-470c-b081-4429f065745b"
            }
        },
        {
            "cell_type": "code",
            "source": [
                ""
            ],
            "metadata": {
                "azdata_cell_guid": "b882e37c-443c-4607-aa51-b5915eb91601"
            },
            "outputs": [
                {
                    "output_type": "display_data",
                    "data": {
                        "text/html": "(1 row(s) affected)"
                    },
                    "metadata": {}
                },
                {
                    "output_type": "display_data",
                    "data": {
                        "text/html": "Total execution time: 00:00:00.013"
                    },
                    "metadata": {}
                },
                {
                    "output_type": "execute_result",
                    "execution_count": 38,
                    "data": {
                        "application/vnd.dataresource+json": {
                            "schema": {
                                "fields": [
                                    {
                                        "name": "stud_id"
                                    },
                                    {
                                        "name": "stud_num"
                                    },
                                    {
                                        "name": "stud_last_name"
                                    },
                                    {
                                        "name": "stud_first_name"
                                    },
                                    {
                                        "name": "stud_city"
                                    },
                                    {
                                        "name": "stud_state"
                                    },
                                    {
                                        "name": "stud_zip"
                                    },
                                    {
                                        "name": "stud_birth_date"
                                    },
                                    {
                                        "name": "stud_start_semester"
                                    },
                                    {
                                        "name": "stud_enrolled"
                                    },
                                    {
                                        "name": "stud_honors"
                                    },
                                    {
                                        "name": "stud_gpa"
                                    },
                                    {
                                        "name": "stud_credit_hrs"
                                    },
                                    {
                                        "name": "stud_academic_lvl"
                                    },
                                    {
                                        "name": "stud_program_id"
                                    },
                                    {
                                        "name": "stud_school_id"
                                    },
                                    {
                                        "name": "stud_degree_id"
                                    },
                                    {
                                        "name": "stud_email"
                                    }
                                ]
                            },
                            "data": [
                                {
                                    "0": "3",
                                    "1": "BAJA4201",
                                    "2": "Rodriguez",
                                    "3": "Sarah",
                                    "4": "Bastrop",
                                    "5": "TX",
                                    "6": "76109",
                                    "7": "1992-12-16",
                                    "8": "194",
                                    "9": "True",
                                    "10": "True",
                                    "11": "3.90",
                                    "12": "42",
                                    "13": "1",
                                    "14": "4",
                                    "15": "3",
                                    "16": "5",
                                    "17": "srodrig@college.edu"
                                }
                            ]
                        },
                        "text/html": "<table><tr><th>stud_id</th><th>stud_num</th><th>stud_last_name</th><th>stud_first_name</th><th>stud_city</th><th>stud_state</th><th>stud_zip</th><th>stud_birth_date</th><th>stud_start_semester</th><th>stud_enrolled</th><th>stud_honors</th><th>stud_gpa</th><th>stud_credit_hrs</th><th>stud_academic_lvl</th><th>stud_program_id</th><th>stud_school_id</th><th>stud_degree_id</th><th>stud_email</th></tr><tr><td>3</td><td>BAJA4201</td><td>Rodriguez</td><td>Sarah</td><td>Bastrop</td><td>TX</td><td>76109</td><td>1992-12-16</td><td>194</td><td>True</td><td>True</td><td>3.90</td><td>42</td><td>1</td><td>4</td><td>3</td><td>5</td><td>srodrig@college.edu</td></tr></table>"
                    },
                    "metadata": {}
                }
            ],
            "execution_count": 38
        },
        {
            "cell_type": "markdown",
            "source": [
                "Step 5: Disenroll all students who live in Texas from school"
            ],
            "metadata": {
                "azdata_cell_guid": "6244cc4b-6f90-4fd0-aba3-9d4178c5435f"
            }
        },
        {
            "cell_type": "code",
            "source": [
                ""
            ],
            "metadata": {
                "azdata_cell_guid": "06288e67-c7a6-4fe7-aa0c-14fbcf232f1b"
            },
            "outputs": [
                {
                    "output_type": "display_data",
                    "data": {
                        "text/html": "(1 row(s) affected)"
                    },
                    "metadata": {}
                },
                {
                    "output_type": "display_data",
                    "data": {
                        "text/html": "Total execution time: 00:00:00.009"
                    },
                    "metadata": {}
                },
                {
                    "output_type": "execute_result",
                    "execution_count": 39,
                    "data": {
                        "application/vnd.dataresource+json": {
                            "schema": {
                                "fields": [
                                    {
                                        "name": "Column1"
                                    }
                                ]
                            },
                            "data": [
                                {
                                    "0": "1"
                                }
                            ]
                        },
                        "text/html": "<table><tr><th>Column1</th></tr><tr><td>1</td></tr></table>"
                    },
                    "metadata": {}
                }
            ],
            "execution_count": 39
        },
        {
            "cell_type": "markdown",
            "source": [
                "Step 6: The following students have decided on their majors. Update the major for each student in the student table.\n",
                "\n",
                "| Student | Degree |\n",
                "| :-- | :-: |\n",
                "| Magnussen | 1 |\n",
                "| Tanner | 1 |\n",
                "| Musgrave | 2 |"
            ],
            "metadata": {
                "azdata_cell_guid": "376b2cc3-6a0a-4407-9cf5-15e5cd784f99"
            }
        },
        {
            "cell_type": "code",
            "source": [
                ""
            ],
            "metadata": {
                "azdata_cell_guid": "4d7316c6-181e-4a3b-b79f-2710b9a5746f"
            },
            "outputs": [
                {
                    "output_type": "display_data",
                    "data": {
                        "text/html": "(1 row(s) affected)"
                    },
                    "metadata": {}
                },
                {
                    "output_type": "display_data",
                    "data": {
                        "text/html": "(1 row(s) affected)"
                    },
                    "metadata": {}
                },
                {
                    "output_type": "display_data",
                    "data": {
                        "text/html": "(1 row(s) affected)"
                    },
                    "metadata": {}
                },
                {
                    "output_type": "display_data",
                    "data": {
                        "text/html": "Total execution time: 00:00:00.187"
                    },
                    "metadata": {}
                },
                {
                    "output_type": "execute_result",
                    "metadata": {},
                    "execution_count": 1,
                    "data": {
                        "application/vnd.dataresource+json": {
                            "schema": {
                                "fields": [
                                    {
                                        "name": "stud_id"
                                    },
                                    {
                                        "name": "stud_num"
                                    },
                                    {
                                        "name": "stud_last_name"
                                    },
                                    {
                                        "name": "stud_first_name"
                                    },
                                    {
                                        "name": "stud_city"
                                    },
                                    {
                                        "name": "stud_state"
                                    },
                                    {
                                        "name": "stud_zip"
                                    },
                                    {
                                        "name": "stud_birth_date"
                                    },
                                    {
                                        "name": "stud_start_semester"
                                    },
                                    {
                                        "name": "stud_enrolled"
                                    },
                                    {
                                        "name": "stud_honors"
                                    },
                                    {
                                        "name": "stud_gpa"
                                    },
                                    {
                                        "name": "stud_credit_hrs"
                                    },
                                    {
                                        "name": "stud_academic_lvl"
                                    },
                                    {
                                        "name": "stud_program_id"
                                    },
                                    {
                                        "name": "stud_school_id"
                                    },
                                    {
                                        "name": "stud_degree_id"
                                    },
                                    {
                                        "name": "stud_email"
                                    }
                                ]
                            },
                            "data": [
                                {
                                    "0": "4",
                                    "1": "THMA7205",
                                    "2": "Magnussen",
                                    "3": "Thor",
                                    "4": "Atlanta",
                                    "5": "GA",
                                    "6": "30334",
                                    "7": "1981-05-01",
                                    "8": "192",
                                    "9": "True",
                                    "10": "False",
                                    "11": "2.97",
                                    "12": "12",
                                    "13": "1",
                                    "14": "8",
                                    "15": "4",
                                    "16": "1",
                                    "17": "tmagnus@college.edu"
                                }
                            ]
                        },
                        "text/html": [
                            "<table>",
                            "<tr><th>stud_id</th><th>stud_num</th><th>stud_last_name</th><th>stud_first_name</th><th>stud_city</th><th>stud_state</th><th>stud_zip</th><th>stud_birth_date</th><th>stud_start_semester</th><th>stud_enrolled</th><th>stud_honors</th><th>stud_gpa</th><th>stud_credit_hrs</th><th>stud_academic_lvl</th><th>stud_program_id</th><th>stud_school_id</th><th>stud_degree_id</th><th>stud_email</th></tr>",
                            "<tr><td>4</td><td>THMA7205</td><td>Magnussen</td><td>Thor</td><td>Atlanta</td><td>GA</td><td>30334</td><td>1981-05-01</td><td>192</td><td>True</td><td>False</td><td>2.97</td><td>12</td><td>1</td><td>8</td><td>4</td><td>1</td><td>tmagnus@college.edu</td></tr>",
                            "</table>"
                        ]
                    }
                },
                {
                    "output_type": "execute_result",
                    "metadata": {},
                    "execution_count": 1,
                    "data": {
                        "application/vnd.dataresource+json": {
                            "schema": {
                                "fields": [
                                    {
                                        "name": "stud_id"
                                    },
                                    {
                                        "name": "stud_num"
                                    },
                                    {
                                        "name": "stud_last_name"
                                    },
                                    {
                                        "name": "stud_first_name"
                                    },
                                    {
                                        "name": "stud_city"
                                    },
                                    {
                                        "name": "stud_state"
                                    },
                                    {
                                        "name": "stud_zip"
                                    },
                                    {
                                        "name": "stud_birth_date"
                                    },
                                    {
                                        "name": "stud_start_semester"
                                    },
                                    {
                                        "name": "stud_enrolled"
                                    },
                                    {
                                        "name": "stud_honors"
                                    },
                                    {
                                        "name": "stud_gpa"
                                    },
                                    {
                                        "name": "stud_credit_hrs"
                                    },
                                    {
                                        "name": "stud_academic_lvl"
                                    },
                                    {
                                        "name": "stud_program_id"
                                    },
                                    {
                                        "name": "stud_school_id"
                                    },
                                    {
                                        "name": "stud_degree_id"
                                    },
                                    {
                                        "name": "stud_email"
                                    }
                                ]
                            },
                            "data": [
                                {
                                    "0": "5",
                                    "1": "ANTA7443",
                                    "2": "Tanner",
                                    "3": "Angela",
                                    "4": "Washington",
                                    "5": "DC",
                                    "6": "20001",
                                    "7": "1987-09-13",
                                    "8": "201",
                                    "9": "True",
                                    "10": "True",
                                    "11": "3.98",
                                    "12": "16",
                                    "13": "2",
                                    "14": "10",
                                    "15": "2",
                                    "16": "1",
                                    "17": "atanner@college.edu"
                                }
                            ]
                        },
                        "text/html": [
                            "<table>",
                            "<tr><th>stud_id</th><th>stud_num</th><th>stud_last_name</th><th>stud_first_name</th><th>stud_city</th><th>stud_state</th><th>stud_zip</th><th>stud_birth_date</th><th>stud_start_semester</th><th>stud_enrolled</th><th>stud_honors</th><th>stud_gpa</th><th>stud_credit_hrs</th><th>stud_academic_lvl</th><th>stud_program_id</th><th>stud_school_id</th><th>stud_degree_id</th><th>stud_email</th></tr>",
                            "<tr><td>5</td><td>ANTA7443</td><td>Tanner</td><td>Angela</td><td>Washington</td><td>DC</td><td>20001</td><td>1987-09-13</td><td>201</td><td>True</td><td>True</td><td>3.98</td><td>16</td><td>2</td><td>10</td><td>2</td><td>1</td><td>atanner@college.edu</td></tr>",
                            "</table>"
                        ]
                    }
                },
                {
                    "output_type": "execute_result",
                    "metadata": {},
                    "execution_count": 1,
                    "data": {
                        "application/vnd.dataresource+json": {
                            "schema": {
                                "fields": [
                                    {
                                        "name": "stud_id"
                                    },
                                    {
                                        "name": "stud_num"
                                    },
                                    {
                                        "name": "stud_last_name"
                                    },
                                    {
                                        "name": "stud_first_name"
                                    },
                                    {
                                        "name": "stud_city"
                                    },
                                    {
                                        "name": "stud_state"
                                    },
                                    {
                                        "name": "stud_zip"
                                    },
                                    {
                                        "name": "stud_birth_date"
                                    },
                                    {
                                        "name": "stud_start_semester"
                                    },
                                    {
                                        "name": "stud_enrolled"
                                    },
                                    {
                                        "name": "stud_honors"
                                    },
                                    {
                                        "name": "stud_gpa"
                                    },
                                    {
                                        "name": "stud_credit_hrs"
                                    },
                                    {
                                        "name": "stud_academic_lvl"
                                    },
                                    {
                                        "name": "stud_program_id"
                                    },
                                    {
                                        "name": "stud_school_id"
                                    },
                                    {
                                        "name": "stud_degree_id"
                                    },
                                    {
                                        "name": "stud_email"
                                    }
                                ]
                            },
                            "data": [
                                {
                                    "0": "6",
                                    "1": "CYMU0018",
                                    "2": "Musgrave",
                                    "3": "Cynthia",
                                    "4": "Detroit",
                                    "5": "MI",
                                    "6": "48127",
                                    "7": "1974-02-13",
                                    "8": "191",
                                    "9": "False",
                                    "10": "False",
                                    "11": "3.14",
                                    "12": "27",
                                    "13": "1",
                                    "14": "7",
                                    "15": "5",
                                    "16": "2",
                                    "17": "cmusgra@college.edu"
                                }
                            ]
                        },
                        "text/html": [
                            "<table>",
                            "<tr><th>stud_id</th><th>stud_num</th><th>stud_last_name</th><th>stud_first_name</th><th>stud_city</th><th>stud_state</th><th>stud_zip</th><th>stud_birth_date</th><th>stud_start_semester</th><th>stud_enrolled</th><th>stud_honors</th><th>stud_gpa</th><th>stud_credit_hrs</th><th>stud_academic_lvl</th><th>stud_program_id</th><th>stud_school_id</th><th>stud_degree_id</th><th>stud_email</th></tr>",
                            "<tr><td>6</td><td>CYMU0018</td><td>Musgrave</td><td>Cynthia</td><td>Detroit</td><td>MI</td><td>48127</td><td>1974-02-13</td><td>191</td><td>False</td><td>False</td><td>3.14</td><td>27</td><td>1</td><td>7</td><td>5</td><td>2</td><td>cmusgra@college.edu</td></tr>",
                            "</table>"
                        ]
                    }
                }
            ],
            "execution_count": 1
        },
        {
            "cell_type": "markdown",
            "source": [
                "Step 7: Due to COVID-19, all courses have been transitioned to online. Update the course table to reflect the room as 'Onl' and the meeting dats as DEFAULT for all courses that are currently active and not online."
            ],
            "metadata": {
                "azdata_cell_guid": "ffb367af-590a-4c92-83dc-b04f39b3ead1"
            }
        },
        {
            "cell_type": "code",
            "source": [
                ""
            ],
            "metadata": {
                "azdata_cell_guid": "eb520367-4a92-4169-9f28-c8e5662d895d"
            },
            "outputs": [
                {
                    "output_type": "display_data",
                    "data": {
                        "text/html": "(4 row(s) affected)"
                    },
                    "metadata": {}
                },
                {
                    "output_type": "display_data",
                    "data": {
                        "text/html": "Total execution time: 00:00:00.012"
                    },
                    "metadata": {}
                },
                {
                    "output_type": "execute_result",
                    "metadata": {},
                    "execution_count": 8,
                    "data": {
                        "application/vnd.dataresource+json": {
                            "schema": {
                                "fields": [
                                    {
                                        "name": "course_id"
                                    },
                                    {
                                        "name": "course_name"
                                    },
                                    {
                                        "name": "course_code"
                                    },
                                    {
                                        "name": "course_num"
                                    },
                                    {
                                        "name": "course_status"
                                    },
                                    {
                                        "name": "course_size"
                                    },
                                    {
                                        "name": "course_meet_days"
                                    },
                                    {
                                        "name": "course_professor"
                                    },
                                    {
                                        "name": "meet_room"
                                    }
                                ]
                            },
                            "data": [
                                {
                                    "0": "4",
                                    "1": "Early Childhood Education",
                                    "2": "EDUC",
                                    "3": "204",
                                    "4": "Yes",
                                    "5": "20",
                                    "6": "MTWTHF",
                                    "7": "3",
                                    "8": "Onl"
                                },
                                {
                                    "0": "7",
                                    "1": "Database Design",
                                    "2": "ISYS",
                                    "3": "307",
                                    "4": "Yes",
                                    "5": "15",
                                    "6": "MTWTHF",
                                    "7": "1",
                                    "8": "Onl"
                                },
                                {
                                    "0": "8",
                                    "1": "History of Int Des",
                                    "2": "ADAH",
                                    "3": "202",
                                    "4": "Yes",
                                    "5": "10",
                                    "6": "MTWTHF",
                                    "7": "6",
                                    "8": "Onl"
                                },
                                {
                                    "0": "11",
                                    "1": "Police Academy",
                                    "2": "CRIM",
                                    "3": "494",
                                    "4": "Yes",
                                    "5": "NULL",
                                    "6": "MTWTHF",
                                    "7": "5",
                                    "8": "Onl"
                                }
                            ]
                        },
                        "text/html": [
                            "<table>",
                            "<tr><th>course_id</th><th>course_name</th><th>course_code</th><th>course_num</th><th>course_status</th><th>course_size</th><th>course_meet_days</th><th>course_professor</th><th>meet_room</th></tr>",
                            "<tr><td>4</td><td>Early Childhood Education</td><td>EDUC</td><td>204</td><td>Yes</td><td>20</td><td>MTWTHF</td><td>3</td><td>Onl</td></tr>",
                            "<tr><td>7</td><td>Database Design</td><td>ISYS</td><td>307</td><td>Yes</td><td>15</td><td>MTWTHF</td><td>1</td><td>Onl</td></tr>",
                            "<tr><td>8</td><td>History of Int Des</td><td>ADAH</td><td>202</td><td>Yes</td><td>10</td><td>MTWTHF</td><td>6</td><td>Onl</td></tr>",
                            "<tr><td>11</td><td>Police Academy</td><td>CRIM</td><td>494</td><td>Yes</td><td>NULL</td><td>MTWTHF</td><td>5</td><td>Onl</td></tr>",
                            "</table>"
                        ]
                    }
                }
            ],
            "execution_count": 8
        },
        {
            "cell_type": "markdown",
            "source": [
                "Step 8: With the transition to online learning, three instructors have graciously decided to accept the max number of students (20) into their classes. Update the course table to reflect this for Mr. Jones, Ms. Smith, and Ms. Sanders. Display the results of the course updates, the number of seats apportioned, and the professor's ID."
            ],
            "metadata": {
                "azdata_cell_guid": "9d91b13f-6ea7-4d95-bb9b-b0627b82c192"
            }
        },
        {
            "cell_type": "code",
            "source": [
                ""
            ],
            "metadata": {
                "azdata_cell_guid": "5320385c-2eae-4303-91f3-ae70e735b0db"
            },
            "outputs": [
{
    "output_type": "display_data",
    "data": {
        "text/html": "(6 row(s) affected)"
    },
    "metadata": {}
}, {
    "output_type": "display_data",
    "data": {
        "text/html": "Total execution time: 00:00:00.004"
    },
    "metadata": {}
}, {
    "output_type": "execute_result",
    "metadata": {},
    "execution_count": 9,
    "data": {
        "application/vnd.dataresource+json": {
            "schema": {
                "fields": [
                    {
                        "name": "course_id"
                    },
                    {
                        "name": "course_size"
                    },
                    {
                        "name": "course_professor"
                    }
                ]
            },
            "data": [
                {
                    "0": "1",
                    "1": "20",
                    "2": "1"
                },
                {
                    "0": "2",
                    "1": "20",
                    "2": "2"
                },
                {
                    "0": "9",
                    "1": "20",
                    "2": "1"
                },
                {
                    "0": "12",
                    "1": "20",
                    "2": "1"
                },
                {
                    "0": "7",
                    "1": "20",
                    "2": "1"
                },
                {
                    "0": "11",
                    "1": "20",
                    "2": "5"
                }
            ]
        },
        "text/html": [
            "<table>",
            "<tr><th>course_id</th><th>course_size</th><th>course_professor</th></tr>",
            "<tr><td>1</td><td>20</td><td>1</td></tr>",
            "<tr><td>2</td><td>20</td><td>2</td></tr>",
            "<tr><td>9</td><td>20</td><td>1</td></tr>",
            "<tr><td>12</td><td>20</td><td>1</td></tr>",
            "<tr><td>7</td><td>20</td><td>1</td></tr>",
            "<tr><td>11</td><td>20</td><td>5</td></tr>",
            "</table>"
        ]
    }
}
],
            "execution_count": null
        }
    ]
}