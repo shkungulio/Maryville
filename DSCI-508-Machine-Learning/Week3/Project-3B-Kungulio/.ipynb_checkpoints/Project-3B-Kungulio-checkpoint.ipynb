{
 "cells": [
  {
   "cell_type": "markdown",
   "id": "2f4c3ded-75cf-41cb-8c63-7857ee7af86a",
   "metadata": {},
   "source": [
    "# Project 3B - Neural Network in R\n",
    "\n",
    "This dataset lists hypothetical bank loan information. For each client, we see the client ID, inc, attained age, borrowed, redundant_feature, and answer (0=no, 1=yes). \n",
    "\n",
    "The task is to train a neural network to be able to predict whether future loans will default, based on income, age, and loan amount.\n",
    "\n",
    "### Seif Kungulio - DSCI 508"
   ]
  },
  {
   "cell_type": "markdown",
   "id": "ba1e1f1d-6cbd-4228-9ed4-aff4f725251e",
   "metadata": {},
   "source": [
    "## Install Packages and Load the Dataset"
   ]
  },
  {
   "cell_type": "code",
   "execution_count": 1,
   "id": "8ec3b56b-6f38-4bd3-95c9-06a1ef07f780",
   "metadata": {},
   "outputs": [
    {
     "name": "stderr",
     "output_type": "stream",
     "text": [
      "Updating HTML index of packages in '.Library'\n",
      "\n",
      "Making 'packages.html' ...\n",
      " done\n",
      "\n"
     ]
    }
   ],
   "source": [
    "# Install and load necessary library to accomplish this assignment\n",
    "install.packages(\"neuralnet\")\n",
    "library(neuralnet)"
   ]
  },
  {
   "cell_type": "code",
   "execution_count": 2,
   "id": "a85539cb-7109-467b-a901-e2b5f70e12db",
   "metadata": {},
   "outputs": [
    {
     "name": "stdout",
     "output_type": "stream",
     "text": [
      "[1] 2000    6\n"
     ]
    },
    {
     "data": {
      "text/html": [
       "<table class=\"dataframe\">\n",
       "<caption>A data.frame: 6 × 6</caption>\n",
       "<thead>\n",
       "\t<tr><th></th><th scope=col>clientid</th><th scope=col>income</th><th scope=col>age</th><th scope=col>loan</th><th scope=col>loan_to_income</th><th scope=col>known_value</th></tr>\n",
       "\t<tr><th></th><th scope=col>&lt;int&gt;</th><th scope=col>&lt;dbl&gt;</th><th scope=col>&lt;dbl&gt;</th><th scope=col>&lt;dbl&gt;</th><th scope=col>&lt;dbl&gt;</th><th scope=col>&lt;int&gt;</th></tr>\n",
       "</thead>\n",
       "<tbody>\n",
       "\t<tr><th scope=row>1</th><td>1</td><td>66155.93</td><td>59.01702</td><td>8106.5321</td><td>0.122536751</td><td>0</td></tr>\n",
       "\t<tr><th scope=row>2</th><td>2</td><td>34415.15</td><td>48.11715</td><td>6564.7450</td><td>0.190751581</td><td>0</td></tr>\n",
       "\t<tr><th scope=row>3</th><td>3</td><td>57317.17</td><td>63.10805</td><td>8020.9533</td><td>0.139939800</td><td>0</td></tr>\n",
       "\t<tr><th scope=row>4</th><td>4</td><td>42709.53</td><td>45.75197</td><td>6103.6423</td><td>0.142910532</td><td>0</td></tr>\n",
       "\t<tr><th scope=row>5</th><td>5</td><td>66952.69</td><td>18.58434</td><td>8770.0992</td><td>0.130989500</td><td>1</td></tr>\n",
       "\t<tr><th scope=row>6</th><td>6</td><td>24904.06</td><td>57.47161</td><td>  15.4986</td><td>0.000622332</td><td>0</td></tr>\n",
       "</tbody>\n",
       "</table>\n"
      ],
      "text/latex": [
       "A data.frame: 6 × 6\n",
       "\\begin{tabular}{r|llllll}\n",
       "  & clientid & income & age & loan & loan\\_to\\_income & known\\_value\\\\\n",
       "  & <int> & <dbl> & <dbl> & <dbl> & <dbl> & <int>\\\\\n",
       "\\hline\n",
       "\t1 & 1 & 66155.93 & 59.01702 & 8106.5321 & 0.122536751 & 0\\\\\n",
       "\t2 & 2 & 34415.15 & 48.11715 & 6564.7450 & 0.190751581 & 0\\\\\n",
       "\t3 & 3 & 57317.17 & 63.10805 & 8020.9533 & 0.139939800 & 0\\\\\n",
       "\t4 & 4 & 42709.53 & 45.75197 & 6103.6423 & 0.142910532 & 0\\\\\n",
       "\t5 & 5 & 66952.69 & 18.58434 & 8770.0992 & 0.130989500 & 1\\\\\n",
       "\t6 & 6 & 24904.06 & 57.47161 &   15.4986 & 0.000622332 & 0\\\\\n",
       "\\end{tabular}\n"
      ],
      "text/markdown": [
       "\n",
       "A data.frame: 6 × 6\n",
       "\n",
       "| <!--/--> | clientid &lt;int&gt; | income &lt;dbl&gt; | age &lt;dbl&gt; | loan &lt;dbl&gt; | loan_to_income &lt;dbl&gt; | known_value &lt;int&gt; |\n",
       "|---|---|---|---|---|---|---|\n",
       "| 1 | 1 | 66155.93 | 59.01702 | 8106.5321 | 0.122536751 | 0 |\n",
       "| 2 | 2 | 34415.15 | 48.11715 | 6564.7450 | 0.190751581 | 0 |\n",
       "| 3 | 3 | 57317.17 | 63.10805 | 8020.9533 | 0.139939800 | 0 |\n",
       "| 4 | 4 | 42709.53 | 45.75197 | 6103.6423 | 0.142910532 | 0 |\n",
       "| 5 | 5 | 66952.69 | 18.58434 | 8770.0992 | 0.130989500 | 1 |\n",
       "| 6 | 6 | 24904.06 | 57.47161 |   15.4986 | 0.000622332 | 0 |\n",
       "\n"
      ],
      "text/plain": [
       "  clientid income   age      loan      loan_to_income known_value\n",
       "1 1        66155.93 59.01702 8106.5321 0.122536751    0          \n",
       "2 2        34415.15 48.11715 6564.7450 0.190751581    0          \n",
       "3 3        57317.17 63.10805 8020.9533 0.139939800    0          \n",
       "4 4        42709.53 45.75197 6103.6423 0.142910532    0          \n",
       "5 5        66952.69 18.58434 8770.0992 0.130989500    1          \n",
       "6 6        24904.06 57.47161   15.4986 0.000622332    0          "
      ]
     },
     "metadata": {},
     "output_type": "display_data"
    },
    {
     "data": {
      "text/html": [
       "<table class=\"dataframe\">\n",
       "<caption>A data.frame: 6 × 6</caption>\n",
       "<thead>\n",
       "\t<tr><th></th><th scope=col>clientid</th><th scope=col>income</th><th scope=col>age</th><th scope=col>loan</th><th scope=col>loan_to_income</th><th scope=col>known_value</th></tr>\n",
       "\t<tr><th></th><th scope=col>&lt;int&gt;</th><th scope=col>&lt;dbl&gt;</th><th scope=col>&lt;dbl&gt;</th><th scope=col>&lt;dbl&gt;</th><th scope=col>&lt;dbl&gt;</th><th scope=col>&lt;int&gt;</th></tr>\n",
       "</thead>\n",
       "<tbody>\n",
       "\t<tr><th scope=row>1995</th><td>1995</td><td>24254.70</td><td>37.75162</td><td>2225.285</td><td>0.09174653</td><td>0</td></tr>\n",
       "\t<tr><th scope=row>1996</th><td>1996</td><td>59221.04</td><td>48.51818</td><td>1926.729</td><td>0.03253454</td><td>0</td></tr>\n",
       "\t<tr><th scope=row>1997</th><td>1997</td><td>69516.13</td><td>23.16210</td><td>3503.176</td><td>0.05039372</td><td>0</td></tr>\n",
       "\t<tr><th scope=row>1998</th><td>1998</td><td>44311.45</td><td>28.01717</td><td>5522.787</td><td>0.12463566</td><td>1</td></tr>\n",
       "\t<tr><th scope=row>1999</th><td>1999</td><td>43756.06</td><td>63.97180</td><td>1622.723</td><td>0.03708567</td><td>0</td></tr>\n",
       "\t<tr><th scope=row>2000</th><td>2000</td><td>69436.58</td><td>56.15262</td><td>7378.834</td><td>0.10626724</td><td>0</td></tr>\n",
       "</tbody>\n",
       "</table>\n"
      ],
      "text/latex": [
       "A data.frame: 6 × 6\n",
       "\\begin{tabular}{r|llllll}\n",
       "  & clientid & income & age & loan & loan\\_to\\_income & known\\_value\\\\\n",
       "  & <int> & <dbl> & <dbl> & <dbl> & <dbl> & <int>\\\\\n",
       "\\hline\n",
       "\t1995 & 1995 & 24254.70 & 37.75162 & 2225.285 & 0.09174653 & 0\\\\\n",
       "\t1996 & 1996 & 59221.04 & 48.51818 & 1926.729 & 0.03253454 & 0\\\\\n",
       "\t1997 & 1997 & 69516.13 & 23.16210 & 3503.176 & 0.05039372 & 0\\\\\n",
       "\t1998 & 1998 & 44311.45 & 28.01717 & 5522.787 & 0.12463566 & 1\\\\\n",
       "\t1999 & 1999 & 43756.06 & 63.97180 & 1622.723 & 0.03708567 & 0\\\\\n",
       "\t2000 & 2000 & 69436.58 & 56.15262 & 7378.834 & 0.10626724 & 0\\\\\n",
       "\\end{tabular}\n"
      ],
      "text/markdown": [
       "\n",
       "A data.frame: 6 × 6\n",
       "\n",
       "| <!--/--> | clientid &lt;int&gt; | income &lt;dbl&gt; | age &lt;dbl&gt; | loan &lt;dbl&gt; | loan_to_income &lt;dbl&gt; | known_value &lt;int&gt; |\n",
       "|---|---|---|---|---|---|---|\n",
       "| 1995 | 1995 | 24254.70 | 37.75162 | 2225.285 | 0.09174653 | 0 |\n",
       "| 1996 | 1996 | 59221.04 | 48.51818 | 1926.729 | 0.03253454 | 0 |\n",
       "| 1997 | 1997 | 69516.13 | 23.16210 | 3503.176 | 0.05039372 | 0 |\n",
       "| 1998 | 1998 | 44311.45 | 28.01717 | 5522.787 | 0.12463566 | 1 |\n",
       "| 1999 | 1999 | 43756.06 | 63.97180 | 1622.723 | 0.03708567 | 0 |\n",
       "| 2000 | 2000 | 69436.58 | 56.15262 | 7378.834 | 0.10626724 | 0 |\n",
       "\n"
      ],
      "text/plain": [
       "     clientid income   age      loan     loan_to_income known_value\n",
       "1995 1995     24254.70 37.75162 2225.285 0.09174653     0          \n",
       "1996 1996     59221.04 48.51818 1926.729 0.03253454     0          \n",
       "1997 1997     69516.13 23.16210 3503.176 0.05039372     0          \n",
       "1998 1998     44311.45 28.01717 5522.787 0.12463566     1          \n",
       "1999 1999     43756.06 63.97180 1622.723 0.03708567     0          \n",
       "2000 2000     69436.58 56.15262 7378.834 0.10626724     0          "
      ]
     },
     "metadata": {},
     "output_type": "display_data"
    }
   ],
   "source": [
    "# Load the dataset to DataFrame\n",
    "credit_data <- read.csv(\"MyLoans.csv\",TRUE,\",\")\n",
    "\n",
    "# Print the dimension of the credit_data dataframe\n",
    "print(dim(credit_data))\n",
    "\n",
    "# Print the first few lines of the dataset\n",
    "head(credit_data) # the known_value column shows whether the load defaulted (1=yes)\n",
    "\n",
    "# Print the last few lines of the dataset\n",
    "tail(credit_data) # the known_value column shows whether the load defaulted (1=yes)"
   ]
  },
  {
   "cell_type": "markdown",
   "id": "bf6ddf80-cb92-4d85-a817-826a712a5a91",
   "metadata": {},
   "source": [
    "## Data Preprocessing"
   ]
  },
  {
   "cell_type": "code",
   "execution_count": 3,
   "id": "7c0d31c6-577e-4682-9205-d355e4221ea8",
   "metadata": {},
   "outputs": [
    {
     "data": {
      "text/html": [
       "<table class=\"dataframe\">\n",
       "<caption>A data.frame: 5 × 6</caption>\n",
       "<thead>\n",
       "\t<tr><th></th><th scope=col>clientid</th><th scope=col>income</th><th scope=col>age</th><th scope=col>loan</th><th scope=col>loan_to_income</th><th scope=col>known_value</th></tr>\n",
       "\t<tr><th></th><th scope=col>&lt;int&gt;</th><th scope=col>&lt;dbl&gt;</th><th scope=col>&lt;dbl&gt;</th><th scope=col>&lt;dbl&gt;</th><th scope=col>&lt;dbl&gt;</th><th scope=col>&lt;dbl&gt;</th></tr>\n",
       "</thead>\n",
       "<tbody>\n",
       "\t<tr><th scope=row>1996</th><td>1996</td><td>59221.04</td><td>48.51818</td><td>1926.729</td><td>0.03253454</td><td>1</td></tr>\n",
       "\t<tr><th scope=row>1997</th><td>1997</td><td>69516.13</td><td>23.16210</td><td>3503.176</td><td>0.05039372</td><td>1</td></tr>\n",
       "\t<tr><th scope=row>1998</th><td>1998</td><td>44311.45</td><td>28.01717</td><td>5522.787</td><td>0.12463566</td><td>1</td></tr>\n",
       "\t<tr><th scope=row>1999</th><td>1999</td><td>43756.06</td><td>63.97180</td><td>1622.723</td><td>0.03708567</td><td>1</td></tr>\n",
       "\t<tr><th scope=row>2000</th><td>2000</td><td>69436.58</td><td>56.15262</td><td>7378.834</td><td>0.10626724</td><td>1</td></tr>\n",
       "</tbody>\n",
       "</table>\n"
      ],
      "text/latex": [
       "A data.frame: 5 × 6\n",
       "\\begin{tabular}{r|llllll}\n",
       "  & clientid & income & age & loan & loan\\_to\\_income & known\\_value\\\\\n",
       "  & <int> & <dbl> & <dbl> & <dbl> & <dbl> & <dbl>\\\\\n",
       "\\hline\n",
       "\t1996 & 1996 & 59221.04 & 48.51818 & 1926.729 & 0.03253454 & 1\\\\\n",
       "\t1997 & 1997 & 69516.13 & 23.16210 & 3503.176 & 0.05039372 & 1\\\\\n",
       "\t1998 & 1998 & 44311.45 & 28.01717 & 5522.787 & 0.12463566 & 1\\\\\n",
       "\t1999 & 1999 & 43756.06 & 63.97180 & 1622.723 & 0.03708567 & 1\\\\\n",
       "\t2000 & 2000 & 69436.58 & 56.15262 & 7378.834 & 0.10626724 & 1\\\\\n",
       "\\end{tabular}\n"
      ],
      "text/markdown": [
       "\n",
       "A data.frame: 5 × 6\n",
       "\n",
       "| <!--/--> | clientid &lt;int&gt; | income &lt;dbl&gt; | age &lt;dbl&gt; | loan &lt;dbl&gt; | loan_to_income &lt;dbl&gt; | known_value &lt;dbl&gt; |\n",
       "|---|---|---|---|---|---|---|\n",
       "| 1996 | 1996 | 59221.04 | 48.51818 | 1926.729 | 0.03253454 | 1 |\n",
       "| 1997 | 1997 | 69516.13 | 23.16210 | 3503.176 | 0.05039372 | 1 |\n",
       "| 1998 | 1998 | 44311.45 | 28.01717 | 5522.787 | 0.12463566 | 1 |\n",
       "| 1999 | 1999 | 43756.06 | 63.97180 | 1622.723 | 0.03708567 | 1 |\n",
       "| 2000 | 2000 | 69436.58 | 56.15262 | 7378.834 | 0.10626724 | 1 |\n",
       "\n"
      ],
      "text/plain": [
       "     clientid income   age      loan     loan_to_income known_value\n",
       "1996 1996     59221.04 48.51818 1926.729 0.03253454     1          \n",
       "1997 1997     69516.13 23.16210 3503.176 0.05039372     1          \n",
       "1998 1998     44311.45 28.01717 5522.787 0.12463566     1          \n",
       "1999 1999     43756.06 63.97180 1622.723 0.03708567     1          \n",
       "2000 2000     69436.58 56.15262 7378.834 0.10626724     1          "
      ]
     },
     "metadata": {},
     "output_type": "display_data"
    }
   ],
   "source": [
    "# Modify values in the last five rows of column 'known_value'\n",
    "credit_data[(nrow(credit_data) - 4):nrow(credit_data), \"known_value\"] <- c(1, 1, 1, 1, 1)\n",
    "\n",
    "# Print the last five rows of the credit_data dataframe\n",
    "credit_data[1996:2000,]"
   ]
  },
  {
   "cell_type": "code",
   "execution_count": 4,
   "id": "fc2ab5e9-3ca5-4990-b04b-bfdf827eaf79",
   "metadata": {},
   "outputs": [],
   "source": [
    "# Define new column names\n",
    "new_names <- c(\"clientid\", \"inc\", \"attained age\", \"borrowed\", \"redundant_feature\", \"answer\")"
   ]
  },
  {
   "cell_type": "code",
   "execution_count": 5,
   "id": "99431b82-2d40-4735-a314-b4bbfa02cb35",
   "metadata": {},
   "outputs": [],
   "source": [
    "# Change column names\n",
    "colnames(credit_data) <- new_names"
   ]
  },
  {
   "cell_type": "code",
   "execution_count": 6,
   "id": "3dc18bc9-0244-4a4d-b16f-f8ffc36d9969",
   "metadata": {},
   "outputs": [
    {
     "data": {
      "text/html": [
       "<table class=\"dataframe\">\n",
       "<caption>A data.frame: 5 × 6</caption>\n",
       "<thead>\n",
       "\t<tr><th></th><th scope=col>clientid</th><th scope=col>inc</th><th scope=col>attained age</th><th scope=col>borrowed</th><th scope=col>redundant_feature</th><th scope=col>answer</th></tr>\n",
       "\t<tr><th></th><th scope=col>&lt;int&gt;</th><th scope=col>&lt;dbl&gt;</th><th scope=col>&lt;dbl&gt;</th><th scope=col>&lt;dbl&gt;</th><th scope=col>&lt;dbl&gt;</th><th scope=col>&lt;dbl&gt;</th></tr>\n",
       "</thead>\n",
       "<tbody>\n",
       "\t<tr><th scope=row>1</th><td>1</td><td>66155.93</td><td>59.01702</td><td>8106.532</td><td>0.1225368</td><td>0</td></tr>\n",
       "\t<tr><th scope=row>2</th><td>2</td><td>34415.15</td><td>48.11715</td><td>6564.745</td><td>0.1907516</td><td>0</td></tr>\n",
       "\t<tr><th scope=row>3</th><td>3</td><td>57317.17</td><td>63.10805</td><td>8020.953</td><td>0.1399398</td><td>0</td></tr>\n",
       "\t<tr><th scope=row>4</th><td>4</td><td>42709.53</td><td>45.75197</td><td>6103.642</td><td>0.1429105</td><td>0</td></tr>\n",
       "\t<tr><th scope=row>5</th><td>5</td><td>66952.69</td><td>18.58434</td><td>8770.099</td><td>0.1309895</td><td>1</td></tr>\n",
       "</tbody>\n",
       "</table>\n"
      ],
      "text/latex": [
       "A data.frame: 5 × 6\n",
       "\\begin{tabular}{r|llllll}\n",
       "  & clientid & inc & attained age & borrowed & redundant\\_feature & answer\\\\\n",
       "  & <int> & <dbl> & <dbl> & <dbl> & <dbl> & <dbl>\\\\\n",
       "\\hline\n",
       "\t1 & 1 & 66155.93 & 59.01702 & 8106.532 & 0.1225368 & 0\\\\\n",
       "\t2 & 2 & 34415.15 & 48.11715 & 6564.745 & 0.1907516 & 0\\\\\n",
       "\t3 & 3 & 57317.17 & 63.10805 & 8020.953 & 0.1399398 & 0\\\\\n",
       "\t4 & 4 & 42709.53 & 45.75197 & 6103.642 & 0.1429105 & 0\\\\\n",
       "\t5 & 5 & 66952.69 & 18.58434 & 8770.099 & 0.1309895 & 1\\\\\n",
       "\\end{tabular}\n"
      ],
      "text/markdown": [
       "\n",
       "A data.frame: 5 × 6\n",
       "\n",
       "| <!--/--> | clientid &lt;int&gt; | inc &lt;dbl&gt; | attained age &lt;dbl&gt; | borrowed &lt;dbl&gt; | redundant_feature &lt;dbl&gt; | answer &lt;dbl&gt; |\n",
       "|---|---|---|---|---|---|---|\n",
       "| 1 | 1 | 66155.93 | 59.01702 | 8106.532 | 0.1225368 | 0 |\n",
       "| 2 | 2 | 34415.15 | 48.11715 | 6564.745 | 0.1907516 | 0 |\n",
       "| 3 | 3 | 57317.17 | 63.10805 | 8020.953 | 0.1399398 | 0 |\n",
       "| 4 | 4 | 42709.53 | 45.75197 | 6103.642 | 0.1429105 | 0 |\n",
       "| 5 | 5 | 66952.69 | 18.58434 | 8770.099 | 0.1309895 | 1 |\n",
       "\n"
      ],
      "text/plain": [
       "  clientid inc      attained age borrowed redundant_feature answer\n",
       "1 1        66155.93 59.01702     8106.532 0.1225368         0     \n",
       "2 2        34415.15 48.11715     6564.745 0.1907516         0     \n",
       "3 3        57317.17 63.10805     8020.953 0.1399398         0     \n",
       "4 4        42709.53 45.75197     6103.642 0.1429105         0     \n",
       "5 5        66952.69 18.58434     8770.099 0.1309895         1     "
      ]
     },
     "metadata": {},
     "output_type": "display_data"
    },
    {
     "data": {
      "text/html": [
       "<table class=\"dataframe\">\n",
       "<caption>A data.frame: 5 × 6</caption>\n",
       "<thead>\n",
       "\t<tr><th></th><th scope=col>clientid</th><th scope=col>inc</th><th scope=col>attained age</th><th scope=col>borrowed</th><th scope=col>redundant_feature</th><th scope=col>answer</th></tr>\n",
       "\t<tr><th></th><th scope=col>&lt;int&gt;</th><th scope=col>&lt;dbl&gt;</th><th scope=col>&lt;dbl&gt;</th><th scope=col>&lt;dbl&gt;</th><th scope=col>&lt;dbl&gt;</th><th scope=col>&lt;dbl&gt;</th></tr>\n",
       "</thead>\n",
       "<tbody>\n",
       "\t<tr><th scope=row>1996</th><td>1996</td><td>59221.04</td><td>48.51818</td><td>1926.729</td><td>0.03253454</td><td>1</td></tr>\n",
       "\t<tr><th scope=row>1997</th><td>1997</td><td>69516.13</td><td>23.16210</td><td>3503.176</td><td>0.05039372</td><td>1</td></tr>\n",
       "\t<tr><th scope=row>1998</th><td>1998</td><td>44311.45</td><td>28.01717</td><td>5522.787</td><td>0.12463566</td><td>1</td></tr>\n",
       "\t<tr><th scope=row>1999</th><td>1999</td><td>43756.06</td><td>63.97180</td><td>1622.723</td><td>0.03708567</td><td>1</td></tr>\n",
       "\t<tr><th scope=row>2000</th><td>2000</td><td>69436.58</td><td>56.15262</td><td>7378.834</td><td>0.10626724</td><td>1</td></tr>\n",
       "</tbody>\n",
       "</table>\n"
      ],
      "text/latex": [
       "A data.frame: 5 × 6\n",
       "\\begin{tabular}{r|llllll}\n",
       "  & clientid & inc & attained age & borrowed & redundant\\_feature & answer\\\\\n",
       "  & <int> & <dbl> & <dbl> & <dbl> & <dbl> & <dbl>\\\\\n",
       "\\hline\n",
       "\t1996 & 1996 & 59221.04 & 48.51818 & 1926.729 & 0.03253454 & 1\\\\\n",
       "\t1997 & 1997 & 69516.13 & 23.16210 & 3503.176 & 0.05039372 & 1\\\\\n",
       "\t1998 & 1998 & 44311.45 & 28.01717 & 5522.787 & 0.12463566 & 1\\\\\n",
       "\t1999 & 1999 & 43756.06 & 63.97180 & 1622.723 & 0.03708567 & 1\\\\\n",
       "\t2000 & 2000 & 69436.58 & 56.15262 & 7378.834 & 0.10626724 & 1\\\\\n",
       "\\end{tabular}\n"
      ],
      "text/markdown": [
       "\n",
       "A data.frame: 5 × 6\n",
       "\n",
       "| <!--/--> | clientid &lt;int&gt; | inc &lt;dbl&gt; | attained age &lt;dbl&gt; | borrowed &lt;dbl&gt; | redundant_feature &lt;dbl&gt; | answer &lt;dbl&gt; |\n",
       "|---|---|---|---|---|---|---|\n",
       "| 1996 | 1996 | 59221.04 | 48.51818 | 1926.729 | 0.03253454 | 1 |\n",
       "| 1997 | 1997 | 69516.13 | 23.16210 | 3503.176 | 0.05039372 | 1 |\n",
       "| 1998 | 1998 | 44311.45 | 28.01717 | 5522.787 | 0.12463566 | 1 |\n",
       "| 1999 | 1999 | 43756.06 | 63.97180 | 1622.723 | 0.03708567 | 1 |\n",
       "| 2000 | 2000 | 69436.58 | 56.15262 | 7378.834 | 0.10626724 | 1 |\n",
       "\n"
      ],
      "text/plain": [
       "     clientid inc      attained age borrowed redundant_feature answer\n",
       "1996 1996     59221.04 48.51818     1926.729 0.03253454        1     \n",
       "1997 1997     69516.13 23.16210     3503.176 0.05039372        1     \n",
       "1998 1998     44311.45 28.01717     5522.787 0.12463566        1     \n",
       "1999 1999     43756.06 63.97180     1622.723 0.03708567        1     \n",
       "2000 2000     69436.58 56.15262     7378.834 0.10626724        1     "
      ]
     },
     "metadata": {},
     "output_type": "display_data"
    }
   ],
   "source": [
    "# Display first five and last five rows of updated dataset with new column names\n",
    "credit_data[1:5,]\n",
    "credit_data[1996:2000,]"
   ]
  },
  {
   "cell_type": "markdown",
   "id": "fb4a5748-96dd-4ac4-baa2-1c773d8f5981",
   "metadata": {},
   "source": [
    "## Data Normalization"
   ]
  },
  {
   "cell_type": "code",
   "execution_count": 7,
   "id": "fed9b02b-efe7-4c76-8c08-af8baf2f6d21",
   "metadata": {},
   "outputs": [
    {
     "data": {
      "text/html": [
       "<table class=\"dataframe\">\n",
       "<caption>A data.frame: 5 × 4</caption>\n",
       "<thead>\n",
       "\t<tr><th></th><th scope=col>inc</th><th scope=col>attained.age</th><th scope=col>borrowed</th><th scope=col>answer</th></tr>\n",
       "\t<tr><th></th><th scope=col>&lt;dbl&gt;</th><th scope=col>&lt;dbl&gt;</th><th scope=col>&lt;dbl&gt;</th><th scope=col>&lt;dbl&gt;</th></tr>\n",
       "</thead>\n",
       "<tbody>\n",
       "\t<tr><th scope=row>1</th><td>0.9231759</td><td>0.8920917</td><td>0.5888374</td><td>0</td></tr>\n",
       "\t<tr><th scope=row>2</th><td>0.2881216</td><td>0.6547079</td><td>0.4768270</td><td>0</td></tr>\n",
       "\t<tr><th scope=row>3</th><td>0.7463343</td><td>0.9811888</td><td>0.5826201</td><td>0</td></tr>\n",
       "\t<tr><th scope=row>4</th><td>0.4540717</td><td>0.6031975</td><td>0.4433280</td><td>0</td></tr>\n",
       "\t<tr><th scope=row>5</th><td>0.9391172</td><td>0.0115241</td><td>0.6370454</td><td>1</td></tr>\n",
       "</tbody>\n",
       "</table>\n"
      ],
      "text/latex": [
       "A data.frame: 5 × 4\n",
       "\\begin{tabular}{r|llll}\n",
       "  & inc & attained.age & borrowed & answer\\\\\n",
       "  & <dbl> & <dbl> & <dbl> & <dbl>\\\\\n",
       "\\hline\n",
       "\t1 & 0.9231759 & 0.8920917 & 0.5888374 & 0\\\\\n",
       "\t2 & 0.2881216 & 0.6547079 & 0.4768270 & 0\\\\\n",
       "\t3 & 0.7463343 & 0.9811888 & 0.5826201 & 0\\\\\n",
       "\t4 & 0.4540717 & 0.6031975 & 0.4433280 & 0\\\\\n",
       "\t5 & 0.9391172 & 0.0115241 & 0.6370454 & 1\\\\\n",
       "\\end{tabular}\n"
      ],
      "text/markdown": [
       "\n",
       "A data.frame: 5 × 4\n",
       "\n",
       "| <!--/--> | inc &lt;dbl&gt; | attained.age &lt;dbl&gt; | borrowed &lt;dbl&gt; | answer &lt;dbl&gt; |\n",
       "|---|---|---|---|---|\n",
       "| 1 | 0.9231759 | 0.8920917 | 0.5888374 | 0 |\n",
       "| 2 | 0.2881216 | 0.6547079 | 0.4768270 | 0 |\n",
       "| 3 | 0.7463343 | 0.9811888 | 0.5826201 | 0 |\n",
       "| 4 | 0.4540717 | 0.6031975 | 0.4433280 | 0 |\n",
       "| 5 | 0.9391172 | 0.0115241 | 0.6370454 | 1 |\n",
       "\n"
      ],
      "text/plain": [
       "  inc       attained.age borrowed  answer\n",
       "1 0.9231759 0.8920917    0.5888374 0     \n",
       "2 0.2881216 0.6547079    0.4768270 0     \n",
       "3 0.7463343 0.9811888    0.5826201 0     \n",
       "4 0.4540717 0.6031975    0.4433280 0     \n",
       "5 0.9391172 0.0115241    0.6370454 1     "
      ]
     },
     "metadata": {},
     "output_type": "display_data"
    },
    {
     "data": {
      "text/html": [
       "<table class=\"dataframe\">\n",
       "<caption>A data.frame: 5 × 4</caption>\n",
       "<thead>\n",
       "\t<tr><th></th><th scope=col>inc</th><th scope=col>attained.age</th><th scope=col>borrowed</th><th scope=col>answer</th></tr>\n",
       "\t<tr><th></th><th scope=col>&lt;dbl&gt;</th><th scope=col>&lt;dbl&gt;</th><th scope=col>&lt;dbl&gt;</th><th scope=col>&lt;dbl&gt;</th></tr>\n",
       "</thead>\n",
       "<tbody>\n",
       "\t<tr><th scope=row>1996</th><td>0.7844261</td><td>0.6634417</td><td>0.1398763</td><td>1</td></tr>\n",
       "\t<tr><th scope=row>1997</th><td>0.9904052</td><td>0.1112215</td><td>0.2544048</td><td>1</td></tr>\n",
       "\t<tr><th scope=row>1998</th><td>0.4861220</td><td>0.2169581</td><td>0.4011289</td><td>1</td></tr>\n",
       "\t<tr><th scope=row>1999</th><td>0.4750100</td><td>1.0000000</td><td>0.1177903</td><td>1</td></tr>\n",
       "\t<tr><th scope=row>2000</th><td>0.9888137</td><td>0.8297091</td><td>0.5359703</td><td>1</td></tr>\n",
       "</tbody>\n",
       "</table>\n"
      ],
      "text/latex": [
       "A data.frame: 5 × 4\n",
       "\\begin{tabular}{r|llll}\n",
       "  & inc & attained.age & borrowed & answer\\\\\n",
       "  & <dbl> & <dbl> & <dbl> & <dbl>\\\\\n",
       "\\hline\n",
       "\t1996 & 0.7844261 & 0.6634417 & 0.1398763 & 1\\\\\n",
       "\t1997 & 0.9904052 & 0.1112215 & 0.2544048 & 1\\\\\n",
       "\t1998 & 0.4861220 & 0.2169581 & 0.4011289 & 1\\\\\n",
       "\t1999 & 0.4750100 & 1.0000000 & 0.1177903 & 1\\\\\n",
       "\t2000 & 0.9888137 & 0.8297091 & 0.5359703 & 1\\\\\n",
       "\\end{tabular}\n"
      ],
      "text/markdown": [
       "\n",
       "A data.frame: 5 × 4\n",
       "\n",
       "| <!--/--> | inc &lt;dbl&gt; | attained.age &lt;dbl&gt; | borrowed &lt;dbl&gt; | answer &lt;dbl&gt; |\n",
       "|---|---|---|---|---|\n",
       "| 1996 | 0.7844261 | 0.6634417 | 0.1398763 | 1 |\n",
       "| 1997 | 0.9904052 | 0.1112215 | 0.2544048 | 1 |\n",
       "| 1998 | 0.4861220 | 0.2169581 | 0.4011289 | 1 |\n",
       "| 1999 | 0.4750100 | 1.0000000 | 0.1177903 | 1 |\n",
       "| 2000 | 0.9888137 | 0.8297091 | 0.5359703 | 1 |\n",
       "\n"
      ],
      "text/plain": [
       "     inc       attained.age borrowed  answer\n",
       "1996 0.7844261 0.6634417    0.1398763 1     \n",
       "1997 0.9904052 0.1112215    0.2544048 1     \n",
       "1998 0.4861220 0.2169581    0.4011289 1     \n",
       "1999 0.4750100 1.0000000    0.1177903 1     \n",
       "2000 0.9888137 0.8297091    0.5359703 1     "
      ]
     },
     "metadata": {},
     "output_type": "display_data"
    }
   ],
   "source": [
    "# normalize the dataset\n",
    "# this function performs a quick and simple normalization \n",
    "normalize <- function(x) {return( (x-min(x)) / (max(x)-min(x)) )}\n",
    "\n",
    "# NOTE: Looking at the data, we see that the loan_to_income column is simply loan/income so \n",
    "# it is not an independent feature. Our training will go better if we exclude this column.\n",
    "normalized_credit_data <- as.data.frame(lapply(credit_data[2:4], normalize)) # just normalize the 3 input data columns\n",
    "#add the labels as a 'answer' column\n",
    "normalized_credit_data$answer <- credit_data$answer\n",
    "normalized_credit_data[1:5,] # show the first 5 and the last 5 rows of the data\n",
    "normalized_credit_data[1996:2000,]"
   ]
  },
  {
   "cell_type": "code",
   "execution_count": 8,
   "id": "fe4db87a-8a39-44e8-a593-3d2a5553f3e7",
   "metadata": {},
   "outputs": [],
   "source": [
    "#split the dataset into training and test dataset\n",
    "# the dataset consists of 2000 observations, so take 70% for training\n",
    "training_data <- normalized_credit_data[1:1400,]\n",
    "# set aside 20% for test\n",
    "test_data <- normalized_credit_data[1401:1800,]\n",
    "# let's also set aside another 10% for validation (or for another test)\n",
    "validation_data <- normalized_credit_data[1801:2000,]"
   ]
  },
  {
   "cell_type": "markdown",
   "id": "a81aeba4-2f23-4ea9-ae53-f0e1a243ade9",
   "metadata": {},
   "source": [
    "## Training Neural Network"
   ]
  },
  {
   "cell_type": "code",
   "execution_count": 9,
   "id": "932308fd-23a5-4696-b063-bc71bf257333",
   "metadata": {},
   "outputs": [],
   "source": [
    "# Training the neural network\n",
    "neural_network <- neuralnet(answer~inc+attained.age+borrowed, training_data, hidden=5, \n",
    "                            act.fct = \"logistic\", linear.output = FALSE)"
   ]
  },
  {
   "cell_type": "code",
   "execution_count": 10,
   "id": "623b6a3f-2387-4e12-880e-57f2833c6d1e",
   "metadata": {},
   "outputs": [
    {
     "data": {
      "image/png": "[encoded data removed]",
      "text/plain": [
       "plot without title"
      ]
     },
     "metadata": {
      "image/png": {
       "height": 420,
       "width": 420
      }
     },
     "output_type": "display_data"
    }
   ],
   "source": [
    "# Let's plot the neural network architecture.\n",
    "plot(neural_network, rep=\"best\")"
   ]
  },
  {
   "cell_type": "markdown",
   "id": "603fc286-5ad5-4a47-a48d-f09992c1f905",
   "metadata": {},
   "source": [
    "## Testing Neural Network"
   ]
  },
  {
   "cell_type": "code",
   "execution_count": 11,
   "id": "a5d5d3a5-87b0-4f43-9f8f-169d580f0c6f",
   "metadata": {},
   "outputs": [
    {
     "data": {
      "text/html": [
       "<table class=\"dataframe\">\n",
       "<caption>A data.frame: 9 × 4</caption>\n",
       "<thead>\n",
       "\t<tr><th></th><th scope=col>inc</th><th scope=col>attained.age</th><th scope=col>borrowed</th><th scope=col>answer</th></tr>\n",
       "\t<tr><th></th><th scope=col>&lt;dbl&gt;</th><th scope=col>&lt;dbl&gt;</th><th scope=col>&lt;dbl&gt;</th><th scope=col>&lt;dbl&gt;</th></tr>\n",
       "</thead>\n",
       "<tbody>\n",
       "\t<tr><th scope=row>1401</th><td>0.4843376</td><td>0.8233684</td><td>0.54066731</td><td>0</td></tr>\n",
       "\t<tr><th scope=row>1402</th><td>0.9568550</td><td>0.6474213</td><td>0.40741605</td><td>0</td></tr>\n",
       "\t<tr><th scope=row>1403</th><td>0.6801598</td><td>0.6828621</td><td>0.06417572</td><td>1</td></tr>\n",
       "\t<tr><th scope=row>1404</th><td>0.6446342</td><td>0.6518190</td><td>0.67233453</td><td>0</td></tr>\n",
       "\t<tr><th scope=row>1405</th><td>0.1682361</td><td>0.9499018</td><td>0.38369755</td><td>0</td></tr>\n",
       "\t<tr><th scope=row>1406</th><td>0.6524243</td><td>0.7048286</td><td>0.08390624</td><td>0</td></tr>\n",
       "\t<tr><th scope=row>1407</th><td>0.1124792</td><td>0.8216389</td><td>0.08996295</td><td>0</td></tr>\n",
       "\t<tr><th scope=row>1408</th><td>0.8168762</td><td>0.9190564</td><td>0.48003980</td><td>0</td></tr>\n",
       "\t<tr><th scope=row>1409</th><td>0.3343909</td><td>0.8739641</td><td>0.52933788</td><td>0</td></tr>\n",
       "</tbody>\n",
       "</table>\n"
      ],
      "text/latex": [
       "A data.frame: 9 × 4\n",
       "\\begin{tabular}{r|llll}\n",
       "  & inc & attained.age & borrowed & answer\\\\\n",
       "  & <dbl> & <dbl> & <dbl> & <dbl>\\\\\n",
       "\\hline\n",
       "\t1401 & 0.4843376 & 0.8233684 & 0.54066731 & 0\\\\\n",
       "\t1402 & 0.9568550 & 0.6474213 & 0.40741605 & 0\\\\\n",
       "\t1403 & 0.6801598 & 0.6828621 & 0.06417572 & 1\\\\\n",
       "\t1404 & 0.6446342 & 0.6518190 & 0.67233453 & 0\\\\\n",
       "\t1405 & 0.1682361 & 0.9499018 & 0.38369755 & 0\\\\\n",
       "\t1406 & 0.6524243 & 0.7048286 & 0.08390624 & 0\\\\\n",
       "\t1407 & 0.1124792 & 0.8216389 & 0.08996295 & 0\\\\\n",
       "\t1408 & 0.8168762 & 0.9190564 & 0.48003980 & 0\\\\\n",
       "\t1409 & 0.3343909 & 0.8739641 & 0.52933788 & 0\\\\\n",
       "\\end{tabular}\n"
      ],
      "text/markdown": [
       "\n",
       "A data.frame: 9 × 4\n",
       "\n",
       "| <!--/--> | inc &lt;dbl&gt; | attained.age &lt;dbl&gt; | borrowed &lt;dbl&gt; | answer &lt;dbl&gt; |\n",
       "|---|---|---|---|---|\n",
       "| 1401 | 0.4843376 | 0.8233684 | 0.54066731 | 0 |\n",
       "| 1402 | 0.9568550 | 0.6474213 | 0.40741605 | 0 |\n",
       "| 1403 | 0.6801598 | 0.6828621 | 0.06417572 | 1 |\n",
       "| 1404 | 0.6446342 | 0.6518190 | 0.67233453 | 0 |\n",
       "| 1405 | 0.1682361 | 0.9499018 | 0.38369755 | 0 |\n",
       "| 1406 | 0.6524243 | 0.7048286 | 0.08390624 | 0 |\n",
       "| 1407 | 0.1124792 | 0.8216389 | 0.08996295 | 0 |\n",
       "| 1408 | 0.8168762 | 0.9190564 | 0.48003980 | 0 |\n",
       "| 1409 | 0.3343909 | 0.8739641 | 0.52933788 | 0 |\n",
       "\n"
      ],
      "text/plain": [
       "     inc       attained.age borrowed   answer\n",
       "1401 0.4843376 0.8233684    0.54066731 0     \n",
       "1402 0.9568550 0.6474213    0.40741605 0     \n",
       "1403 0.6801598 0.6828621    0.06417572 1     \n",
       "1404 0.6446342 0.6518190    0.67233453 0     \n",
       "1405 0.1682361 0.9499018    0.38369755 0     \n",
       "1406 0.6524243 0.7048286    0.08390624 0     \n",
       "1407 0.1124792 0.8216389    0.08996295 0     \n",
       "1408 0.8168762 0.9190564    0.48003980 0     \n",
       "1409 0.3343909 0.8739641    0.52933788 0     "
      ]
     },
     "metadata": {},
     "output_type": "display_data"
    },
    {
     "data": {
      "text/html": [
       "<table class=\"dataframe\">\n",
       "<caption>A data.frame: 9 × 3</caption>\n",
       "<thead>\n",
       "\t<tr><th></th><th scope=col>inc</th><th scope=col>attained.age</th><th scope=col>borrowed</th></tr>\n",
       "\t<tr><th></th><th scope=col>&lt;dbl&gt;</th><th scope=col>&lt;dbl&gt;</th><th scope=col>&lt;dbl&gt;</th></tr>\n",
       "</thead>\n",
       "<tbody>\n",
       "\t<tr><th scope=row>1401</th><td>0.4843376</td><td>0.8233684</td><td>0.54066731</td></tr>\n",
       "\t<tr><th scope=row>1402</th><td>0.9568550</td><td>0.6474213</td><td>0.40741605</td></tr>\n",
       "\t<tr><th scope=row>1403</th><td>0.6801598</td><td>0.6828621</td><td>0.06417572</td></tr>\n",
       "\t<tr><th scope=row>1404</th><td>0.6446342</td><td>0.6518190</td><td>0.67233453</td></tr>\n",
       "\t<tr><th scope=row>1405</th><td>0.1682361</td><td>0.9499018</td><td>0.38369755</td></tr>\n",
       "\t<tr><th scope=row>1406</th><td>0.6524243</td><td>0.7048286</td><td>0.08390624</td></tr>\n",
       "\t<tr><th scope=row>1407</th><td>0.1124792</td><td>0.8216389</td><td>0.08996295</td></tr>\n",
       "\t<tr><th scope=row>1408</th><td>0.8168762</td><td>0.9190564</td><td>0.48003980</td></tr>\n",
       "\t<tr><th scope=row>1409</th><td>0.3343909</td><td>0.8739641</td><td>0.52933788</td></tr>\n",
       "</tbody>\n",
       "</table>\n"
      ],
      "text/latex": [
       "A data.frame: 9 × 3\n",
       "\\begin{tabular}{r|lll}\n",
       "  & inc & attained.age & borrowed\\\\\n",
       "  & <dbl> & <dbl> & <dbl>\\\\\n",
       "\\hline\n",
       "\t1401 & 0.4843376 & 0.8233684 & 0.54066731\\\\\n",
       "\t1402 & 0.9568550 & 0.6474213 & 0.40741605\\\\\n",
       "\t1403 & 0.6801598 & 0.6828621 & 0.06417572\\\\\n",
       "\t1404 & 0.6446342 & 0.6518190 & 0.67233453\\\\\n",
       "\t1405 & 0.1682361 & 0.9499018 & 0.38369755\\\\\n",
       "\t1406 & 0.6524243 & 0.7048286 & 0.08390624\\\\\n",
       "\t1407 & 0.1124792 & 0.8216389 & 0.08996295\\\\\n",
       "\t1408 & 0.8168762 & 0.9190564 & 0.48003980\\\\\n",
       "\t1409 & 0.3343909 & 0.8739641 & 0.52933788\\\\\n",
       "\\end{tabular}\n"
      ],
      "text/markdown": [
       "\n",
       "A data.frame: 9 × 3\n",
       "\n",
       "| <!--/--> | inc &lt;dbl&gt; | attained.age &lt;dbl&gt; | borrowed &lt;dbl&gt; |\n",
       "|---|---|---|---|\n",
       "| 1401 | 0.4843376 | 0.8233684 | 0.54066731 |\n",
       "| 1402 | 0.9568550 | 0.6474213 | 0.40741605 |\n",
       "| 1403 | 0.6801598 | 0.6828621 | 0.06417572 |\n",
       "| 1404 | 0.6446342 | 0.6518190 | 0.67233453 |\n",
       "| 1405 | 0.1682361 | 0.9499018 | 0.38369755 |\n",
       "| 1406 | 0.6524243 | 0.7048286 | 0.08390624 |\n",
       "| 1407 | 0.1124792 | 0.8216389 | 0.08996295 |\n",
       "| 1408 | 0.8168762 | 0.9190564 | 0.48003980 |\n",
       "| 1409 | 0.3343909 | 0.8739641 | 0.52933788 |\n",
       "\n"
      ],
      "text/plain": [
       "     inc       attained.age borrowed  \n",
       "1401 0.4843376 0.8233684    0.54066731\n",
       "1402 0.9568550 0.6474213    0.40741605\n",
       "1403 0.6801598 0.6828621    0.06417572\n",
       "1404 0.6446342 0.6518190    0.67233453\n",
       "1405 0.1682361 0.9499018    0.38369755\n",
       "1406 0.6524243 0.7048286    0.08390624\n",
       "1407 0.1124792 0.8216389    0.08996295\n",
       "1408 0.8168762 0.9190564    0.48003980\n",
       "1409 0.3343909 0.8739641    0.52933788"
      ]
     },
     "metadata": {},
     "output_type": "display_data"
    }
   ],
   "source": [
    "# We just need the features for testing so remove the column answer.\n",
    "test_data2 <- subset(test_data,select=c(\"inc\",\"attained.age\",\"borrowed\")) # and don't take the loan_to_income column\n",
    "head(test_data,n=9) # show the first 9 lines before and after removing the answers\n",
    "head(test_data2,n=9)"
   ]
  },
  {
   "cell_type": "code",
   "execution_count": 12,
   "id": "d9e9a09f-1aa5-4bd6-a9e7-4149699e5762",
   "metadata": {},
   "outputs": [
    {
     "data": {
      "text/html": [
       "<table class=\"dataframe\">\n",
       "<caption>A matrix: 9 × 1 of type dbl</caption>\n",
       "<tbody>\n",
       "\t<tr><th scope=row>1401</th><td>1.013671e-29</td></tr>\n",
       "\t<tr><th scope=row>1402</th><td>1.123977e-63</td></tr>\n",
       "\t<tr><th scope=row>1403</th><td>5.648772e-91</td></tr>\n",
       "\t<tr><th scope=row>1404</th><td>5.194814e-33</td></tr>\n",
       "\t<tr><th scope=row>1405</th><td>2.771638e-31</td></tr>\n",
       "\t<tr><th scope=row>1406</th><td>6.606116e-92</td></tr>\n",
       "\t<tr><th scope=row>1407</th><td>4.682819e-34</td></tr>\n",
       "\t<tr><th scope=row>1408</th><td>3.601842e-31</td></tr>\n",
       "\t<tr><th scope=row>1409</th><td>1.106550e-30</td></tr>\n",
       "</tbody>\n",
       "</table>\n"
      ],
      "text/latex": [
       "A matrix: 9 × 1 of type dbl\n",
       "\\begin{tabular}{r|l}\n",
       "\t1401 & 1.013671e-29\\\\\n",
       "\t1402 & 1.123977e-63\\\\\n",
       "\t1403 & 5.648772e-91\\\\\n",
       "\t1404 & 5.194814e-33\\\\\n",
       "\t1405 & 2.771638e-31\\\\\n",
       "\t1406 & 6.606116e-92\\\\\n",
       "\t1407 & 4.682819e-34\\\\\n",
       "\t1408 & 3.601842e-31\\\\\n",
       "\t1409 & 1.106550e-30\\\\\n",
       "\\end{tabular}\n"
      ],
      "text/markdown": [
       "\n",
       "A matrix: 9 × 1 of type dbl\n",
       "\n",
       "| 1401 | 1.013671e-29 |\n",
       "| 1402 | 1.123977e-63 |\n",
       "| 1403 | 5.648772e-91 |\n",
       "| 1404 | 5.194814e-33 |\n",
       "| 1405 | 2.771638e-31 |\n",
       "| 1406 | 6.606116e-92 |\n",
       "| 1407 | 4.682819e-34 |\n",
       "| 1408 | 3.601842e-31 |\n",
       "| 1409 | 1.106550e-30 |\n",
       "\n"
      ],
      "text/plain": [
       "     [,1]        \n",
       "1401 1.013671e-29\n",
       "1402 1.123977e-63\n",
       "1403 5.648772e-91\n",
       "1404 5.194814e-33\n",
       "1405 2.771638e-31\n",
       "1406 6.606116e-92\n",
       "1407 4.682819e-34\n",
       "1408 3.601842e-31\n",
       "1409 1.106550e-30"
      ]
     },
     "metadata": {},
     "output_type": "display_data"
    }
   ],
   "source": [
    "#predict the test dataset\n",
    "predictions <- compute(neural_network, test_data2)\n",
    "head(predictions$net.result,n=9)"
   ]
  },
  {
   "cell_type": "code",
   "execution_count": 13,
   "id": "5ba70a21-abb2-48ea-8d26-22ee1d65dbf4",
   "metadata": {},
   "outputs": [
    {
     "data": {
      "text/html": [
       "<table class=\"dataframe\">\n",
       "<caption>A matrix: 9 × 1 of type dbl</caption>\n",
       "<tbody>\n",
       "\t<tr><th scope=row>1401</th><td>0</td></tr>\n",
       "\t<tr><th scope=row>1402</th><td>0</td></tr>\n",
       "\t<tr><th scope=row>1403</th><td>0</td></tr>\n",
       "\t<tr><th scope=row>1404</th><td>0</td></tr>\n",
       "\t<tr><th scope=row>1405</th><td>0</td></tr>\n",
       "\t<tr><th scope=row>1406</th><td>0</td></tr>\n",
       "\t<tr><th scope=row>1407</th><td>0</td></tr>\n",
       "\t<tr><th scope=row>1408</th><td>0</td></tr>\n",
       "\t<tr><th scope=row>1409</th><td>0</td></tr>\n",
       "</tbody>\n",
       "</table>\n"
      ],
      "text/latex": [
       "A matrix: 9 × 1 of type dbl\n",
       "\\begin{tabular}{r|l}\n",
       "\t1401 & 0\\\\\n",
       "\t1402 & 0\\\\\n",
       "\t1403 & 0\\\\\n",
       "\t1404 & 0\\\\\n",
       "\t1405 & 0\\\\\n",
       "\t1406 & 0\\\\\n",
       "\t1407 & 0\\\\\n",
       "\t1408 & 0\\\\\n",
       "\t1409 & 0\\\\\n",
       "\\end{tabular}\n"
      ],
      "text/markdown": [
       "\n",
       "A matrix: 9 × 1 of type dbl\n",
       "\n",
       "| 1401 | 0 |\n",
       "| 1402 | 0 |\n",
       "| 1403 | 0 |\n",
       "| 1404 | 0 |\n",
       "| 1405 | 0 |\n",
       "| 1406 | 0 |\n",
       "| 1407 | 0 |\n",
       "| 1408 | 0 |\n",
       "| 1409 | 0 |\n",
       "\n"
      ],
      "text/plain": [
       "     [,1]\n",
       "1401 0   \n",
       "1402 0   \n",
       "1403 0   \n",
       "1404 0   \n",
       "1405 0   \n",
       "1406 0   \n",
       "1407 0   \n",
       "1408 0   \n",
       "1409 0   "
      ]
     },
     "metadata": {},
     "output_type": "display_data"
    }
   ],
   "source": [
    "#round the predictions (0 or 1) so that we can easily compare to the answer\n",
    "predictions <- round(predictions$net.result)\n",
    "head(predictions,n=9)"
   ]
  },
  {
   "cell_type": "code",
   "execution_count": 14,
   "id": "d3852871-6032-4268-8329-cfeb3c85713b",
   "metadata": {},
   "outputs": [
    {
     "data": {
      "text/html": [
       "0.9975"
      ],
      "text/latex": [
       "0.9975"
      ],
      "text/markdown": [
       "0.9975"
      ],
      "text/plain": [
       "[1] 0.9975"
      ]
     },
     "metadata": {},
     "output_type": "display_data"
    }
   ],
   "source": [
    "#accuracy of the model\n",
    "mean(test_data$answer==predictions)"
   ]
  },
  {
   "cell_type": "markdown",
   "id": "0d74b2db-2dd1-449a-989a-8a115d00a447",
   "metadata": {},
   "source": [
    "## Validating Neural Network"
   ]
  },
  {
   "cell_type": "code",
   "execution_count": 15,
   "id": "cf9d23e4-0634-41e9-a0f5-9d865044ac4f",
   "metadata": {},
   "outputs": [
    {
     "data": {
      "text/html": [
       "<table class=\"dataframe\">\n",
       "<caption>A data.frame: 9 × 4</caption>\n",
       "<thead>\n",
       "\t<tr><th></th><th scope=col>inc</th><th scope=col>attained.age</th><th scope=col>borrowed</th><th scope=col>answer</th></tr>\n",
       "\t<tr><th></th><th scope=col>&lt;dbl&gt;</th><th scope=col>&lt;dbl&gt;</th><th scope=col>&lt;dbl&gt;</th><th scope=col>&lt;dbl&gt;</th></tr>\n",
       "</thead>\n",
       "<tbody>\n",
       "\t<tr><th scope=row>1801</th><td>0.4652032</td><td>0.5812303</td><td>0.4498977</td><td>0</td></tr>\n",
       "\t<tr><th scope=row>1802</th><td>0.9561237</td><td>0.6747624</td><td>0.9765648</td><td>0</td></tr>\n",
       "\t<tr><th scope=row>1803</th><td>0.7081506</td><td>0.5502937</td><td>0.7482127</td><td>0</td></tr>\n",
       "\t<tr><th scope=row>1804</th><td>0.9410420</td><td>0.8057619</td><td>0.7874169</td><td>0</td></tr>\n",
       "\t<tr><th scope=row>1805</th><td>0.4051145</td><td>0.7348903</td><td>0.4747279</td><td>0</td></tr>\n",
       "\t<tr><th scope=row>1806</th><td>0.5284589</td><td>0.9537148</td><td>0.4119293</td><td>0</td></tr>\n",
       "\t<tr><th scope=row>1807</th><td>0.5381365</td><td>0.1170773</td><td>0.3096678</td><td>0</td></tr>\n",
       "\t<tr><th scope=row>1808</th><td>0.7471823</td><td>0.3645756</td><td>0.7272263</td><td>1</td></tr>\n",
       "\t<tr><th scope=row>1809</th><td>0.2912058</td><td>0.9927881</td><td>0.4542897</td><td>0</td></tr>\n",
       "</tbody>\n",
       "</table>\n"
      ],
      "text/latex": [
       "A data.frame: 9 × 4\n",
       "\\begin{tabular}{r|llll}\n",
       "  & inc & attained.age & borrowed & answer\\\\\n",
       "  & <dbl> & <dbl> & <dbl> & <dbl>\\\\\n",
       "\\hline\n",
       "\t1801 & 0.4652032 & 0.5812303 & 0.4498977 & 0\\\\\n",
       "\t1802 & 0.9561237 & 0.6747624 & 0.9765648 & 0\\\\\n",
       "\t1803 & 0.7081506 & 0.5502937 & 0.7482127 & 0\\\\\n",
       "\t1804 & 0.9410420 & 0.8057619 & 0.7874169 & 0\\\\\n",
       "\t1805 & 0.4051145 & 0.7348903 & 0.4747279 & 0\\\\\n",
       "\t1806 & 0.5284589 & 0.9537148 & 0.4119293 & 0\\\\\n",
       "\t1807 & 0.5381365 & 0.1170773 & 0.3096678 & 0\\\\\n",
       "\t1808 & 0.7471823 & 0.3645756 & 0.7272263 & 1\\\\\n",
       "\t1809 & 0.2912058 & 0.9927881 & 0.4542897 & 0\\\\\n",
       "\\end{tabular}\n"
      ],
      "text/markdown": [
       "\n",
       "A data.frame: 9 × 4\n",
       "\n",
       "| <!--/--> | inc &lt;dbl&gt; | attained.age &lt;dbl&gt; | borrowed &lt;dbl&gt; | answer &lt;dbl&gt; |\n",
       "|---|---|---|---|---|\n",
       "| 1801 | 0.4652032 | 0.5812303 | 0.4498977 | 0 |\n",
       "| 1802 | 0.9561237 | 0.6747624 | 0.9765648 | 0 |\n",
       "| 1803 | 0.7081506 | 0.5502937 | 0.7482127 | 0 |\n",
       "| 1804 | 0.9410420 | 0.8057619 | 0.7874169 | 0 |\n",
       "| 1805 | 0.4051145 | 0.7348903 | 0.4747279 | 0 |\n",
       "| 1806 | 0.5284589 | 0.9537148 | 0.4119293 | 0 |\n",
       "| 1807 | 0.5381365 | 0.1170773 | 0.3096678 | 0 |\n",
       "| 1808 | 0.7471823 | 0.3645756 | 0.7272263 | 1 |\n",
       "| 1809 | 0.2912058 | 0.9927881 | 0.4542897 | 0 |\n",
       "\n"
      ],
      "text/plain": [
       "     inc       attained.age borrowed  answer\n",
       "1801 0.4652032 0.5812303    0.4498977 0     \n",
       "1802 0.9561237 0.6747624    0.9765648 0     \n",
       "1803 0.7081506 0.5502937    0.7482127 0     \n",
       "1804 0.9410420 0.8057619    0.7874169 0     \n",
       "1805 0.4051145 0.7348903    0.4747279 0     \n",
       "1806 0.5284589 0.9537148    0.4119293 0     \n",
       "1807 0.5381365 0.1170773    0.3096678 0     \n",
       "1808 0.7471823 0.3645756    0.7272263 1     \n",
       "1809 0.2912058 0.9927881    0.4542897 0     "
      ]
     },
     "metadata": {},
     "output_type": "display_data"
    },
    {
     "data": {
      "text/html": [
       "<table class=\"dataframe\">\n",
       "<caption>A data.frame: 9 × 3</caption>\n",
       "<thead>\n",
       "\t<tr><th></th><th scope=col>inc</th><th scope=col>attained.age</th><th scope=col>borrowed</th></tr>\n",
       "\t<tr><th></th><th scope=col>&lt;dbl&gt;</th><th scope=col>&lt;dbl&gt;</th><th scope=col>&lt;dbl&gt;</th></tr>\n",
       "</thead>\n",
       "<tbody>\n",
       "\t<tr><th scope=row>1801</th><td>0.4652032</td><td>0.5812303</td><td>0.4498977</td></tr>\n",
       "\t<tr><th scope=row>1802</th><td>0.9561237</td><td>0.6747624</td><td>0.9765648</td></tr>\n",
       "\t<tr><th scope=row>1803</th><td>0.7081506</td><td>0.5502937</td><td>0.7482127</td></tr>\n",
       "\t<tr><th scope=row>1804</th><td>0.9410420</td><td>0.8057619</td><td>0.7874169</td></tr>\n",
       "\t<tr><th scope=row>1805</th><td>0.4051145</td><td>0.7348903</td><td>0.4747279</td></tr>\n",
       "\t<tr><th scope=row>1806</th><td>0.5284589</td><td>0.9537148</td><td>0.4119293</td></tr>\n",
       "\t<tr><th scope=row>1807</th><td>0.5381365</td><td>0.1170773</td><td>0.3096678</td></tr>\n",
       "\t<tr><th scope=row>1808</th><td>0.7471823</td><td>0.3645756</td><td>0.7272263</td></tr>\n",
       "\t<tr><th scope=row>1809</th><td>0.2912058</td><td>0.9927881</td><td>0.4542897</td></tr>\n",
       "</tbody>\n",
       "</table>\n"
      ],
      "text/latex": [
       "A data.frame: 9 × 3\n",
       "\\begin{tabular}{r|lll}\n",
       "  & inc & attained.age & borrowed\\\\\n",
       "  & <dbl> & <dbl> & <dbl>\\\\\n",
       "\\hline\n",
       "\t1801 & 0.4652032 & 0.5812303 & 0.4498977\\\\\n",
       "\t1802 & 0.9561237 & 0.6747624 & 0.9765648\\\\\n",
       "\t1803 & 0.7081506 & 0.5502937 & 0.7482127\\\\\n",
       "\t1804 & 0.9410420 & 0.8057619 & 0.7874169\\\\\n",
       "\t1805 & 0.4051145 & 0.7348903 & 0.4747279\\\\\n",
       "\t1806 & 0.5284589 & 0.9537148 & 0.4119293\\\\\n",
       "\t1807 & 0.5381365 & 0.1170773 & 0.3096678\\\\\n",
       "\t1808 & 0.7471823 & 0.3645756 & 0.7272263\\\\\n",
       "\t1809 & 0.2912058 & 0.9927881 & 0.4542897\\\\\n",
       "\\end{tabular}\n"
      ],
      "text/markdown": [
       "\n",
       "A data.frame: 9 × 3\n",
       "\n",
       "| <!--/--> | inc &lt;dbl&gt; | attained.age &lt;dbl&gt; | borrowed &lt;dbl&gt; |\n",
       "|---|---|---|---|\n",
       "| 1801 | 0.4652032 | 0.5812303 | 0.4498977 |\n",
       "| 1802 | 0.9561237 | 0.6747624 | 0.9765648 |\n",
       "| 1803 | 0.7081506 | 0.5502937 | 0.7482127 |\n",
       "| 1804 | 0.9410420 | 0.8057619 | 0.7874169 |\n",
       "| 1805 | 0.4051145 | 0.7348903 | 0.4747279 |\n",
       "| 1806 | 0.5284589 | 0.9537148 | 0.4119293 |\n",
       "| 1807 | 0.5381365 | 0.1170773 | 0.3096678 |\n",
       "| 1808 | 0.7471823 | 0.3645756 | 0.7272263 |\n",
       "| 1809 | 0.2912058 | 0.9927881 | 0.4542897 |\n",
       "\n"
      ],
      "text/plain": [
       "     inc       attained.age borrowed \n",
       "1801 0.4652032 0.5812303    0.4498977\n",
       "1802 0.9561237 0.6747624    0.9765648\n",
       "1803 0.7081506 0.5502937    0.7482127\n",
       "1804 0.9410420 0.8057619    0.7874169\n",
       "1805 0.4051145 0.7348903    0.4747279\n",
       "1806 0.5284589 0.9537148    0.4119293\n",
       "1807 0.5381365 0.1170773    0.3096678\n",
       "1808 0.7471823 0.3645756    0.7272263\n",
       "1809 0.2912058 0.9927881    0.4542897"
      ]
     },
     "metadata": {},
     "output_type": "display_data"
    }
   ],
   "source": [
    "validation_data2 <- subset(validation_data,select=c(\"inc\",\"attained.age\",\"borrowed\"))\n",
    "head(validation_data,n=9)\n",
    "head(validation_data2,n=9)"
   ]
  },
  {
   "cell_type": "code",
   "execution_count": 16,
   "id": "da0a62b8-b38b-4584-ac7e-a7c30593680a",
   "metadata": {},
   "outputs": [
    {
     "data": {
      "text/html": [
       "<table class=\"dataframe\">\n",
       "<caption>A matrix: 9 × 1 of type dbl</caption>\n",
       "<tbody>\n",
       "\t<tr><th scope=row>1801</th><td>7.294375e-19</td></tr>\n",
       "\t<tr><th scope=row>1802</th><td>6.463417e-35</td></tr>\n",
       "\t<tr><th scope=row>1803</th><td>1.389677e-25</td></tr>\n",
       "\t<tr><th scope=row>1804</th><td>1.446631e-31</td></tr>\n",
       "\t<tr><th scope=row>1805</th><td>1.718066e-27</td></tr>\n",
       "\t<tr><th scope=row>1806</th><td>3.127543e-31</td></tr>\n",
       "\t<tr><th scope=row>1807</th><td>3.758940e-18</td></tr>\n",
       "\t<tr><th scope=row>1808</th><td>9.980599e-01</td></tr>\n",
       "\t<tr><th scope=row>1809</th><td>1.566311e-31</td></tr>\n",
       "</tbody>\n",
       "</table>\n"
      ],
      "text/latex": [
       "A matrix: 9 × 1 of type dbl\n",
       "\\begin{tabular}{r|l}\n",
       "\t1801 & 7.294375e-19\\\\\n",
       "\t1802 & 6.463417e-35\\\\\n",
       "\t1803 & 1.389677e-25\\\\\n",
       "\t1804 & 1.446631e-31\\\\\n",
       "\t1805 & 1.718066e-27\\\\\n",
       "\t1806 & 3.127543e-31\\\\\n",
       "\t1807 & 3.758940e-18\\\\\n",
       "\t1808 & 9.980599e-01\\\\\n",
       "\t1809 & 1.566311e-31\\\\\n",
       "\\end{tabular}\n"
      ],
      "text/markdown": [
       "\n",
       "A matrix: 9 × 1 of type dbl\n",
       "\n",
       "| 1801 | 7.294375e-19 |\n",
       "| 1802 | 6.463417e-35 |\n",
       "| 1803 | 1.389677e-25 |\n",
       "| 1804 | 1.446631e-31 |\n",
       "| 1805 | 1.718066e-27 |\n",
       "| 1806 | 3.127543e-31 |\n",
       "| 1807 | 3.758940e-18 |\n",
       "| 1808 | 9.980599e-01 |\n",
       "| 1809 | 1.566311e-31 |\n",
       "\n"
      ],
      "text/plain": [
       "     [,1]        \n",
       "1801 7.294375e-19\n",
       "1802 6.463417e-35\n",
       "1803 1.389677e-25\n",
       "1804 1.446631e-31\n",
       "1805 1.718066e-27\n",
       "1806 3.127543e-31\n",
       "1807 3.758940e-18\n",
       "1808 9.980599e-01\n",
       "1809 1.566311e-31"
      ]
     },
     "metadata": {},
     "output_type": "display_data"
    }
   ],
   "source": [
    "predictions2 <- compute(neural_network, validation_data2)\n",
    "head(predictions2$net.result,n=9)\n",
    "# Note that loan #1808 above went into default. The predicited value below is not exactly 1, but very close to it."
   ]
  },
  {
   "cell_type": "code",
   "execution_count": 17,
   "id": "1fb00b05-26aa-4847-9aac-9f03235e3b79",
   "metadata": {},
   "outputs": [
    {
     "data": {
      "text/html": [
       "<table class=\"dataframe\">\n",
       "<caption>A matrix: 9 × 1 of type dbl</caption>\n",
       "<tbody>\n",
       "\t<tr><th scope=row>1801</th><td>0</td></tr>\n",
       "\t<tr><th scope=row>1802</th><td>0</td></tr>\n",
       "\t<tr><th scope=row>1803</th><td>0</td></tr>\n",
       "\t<tr><th scope=row>1804</th><td>0</td></tr>\n",
       "\t<tr><th scope=row>1805</th><td>0</td></tr>\n",
       "\t<tr><th scope=row>1806</th><td>0</td></tr>\n",
       "\t<tr><th scope=row>1807</th><td>0</td></tr>\n",
       "\t<tr><th scope=row>1808</th><td>1</td></tr>\n",
       "\t<tr><th scope=row>1809</th><td>0</td></tr>\n",
       "</tbody>\n",
       "</table>\n"
      ],
      "text/latex": [
       "A matrix: 9 × 1 of type dbl\n",
       "\\begin{tabular}{r|l}\n",
       "\t1801 & 0\\\\\n",
       "\t1802 & 0\\\\\n",
       "\t1803 & 0\\\\\n",
       "\t1804 & 0\\\\\n",
       "\t1805 & 0\\\\\n",
       "\t1806 & 0\\\\\n",
       "\t1807 & 0\\\\\n",
       "\t1808 & 1\\\\\n",
       "\t1809 & 0\\\\\n",
       "\\end{tabular}\n"
      ],
      "text/markdown": [
       "\n",
       "A matrix: 9 × 1 of type dbl\n",
       "\n",
       "| 1801 | 0 |\n",
       "| 1802 | 0 |\n",
       "| 1803 | 0 |\n",
       "| 1804 | 0 |\n",
       "| 1805 | 0 |\n",
       "| 1806 | 0 |\n",
       "| 1807 | 0 |\n",
       "| 1808 | 1 |\n",
       "| 1809 | 0 |\n",
       "\n"
      ],
      "text/plain": [
       "     [,1]\n",
       "1801 0   \n",
       "1802 0   \n",
       "1803 0   \n",
       "1804 0   \n",
       "1805 0   \n",
       "1806 0   \n",
       "1807 0   \n",
       "1808 1   \n",
       "1809 0   "
      ]
     },
     "metadata": {},
     "output_type": "display_data"
    }
   ],
   "source": [
    "#round the predictions (0 or 1) so that we can easily compare to the known_value\n",
    "predictions2 <- round(predictions2$net.result)\n",
    "head(predictions2,n=9)"
   ]
  },
  {
   "cell_type": "code",
   "execution_count": 18,
   "id": "acb87bf1-3c59-430a-a7de-5274b2d217ab",
   "metadata": {},
   "outputs": [
    {
     "data": {
      "text/html": [
       "0.965"
      ],
      "text/latex": [
       "0.965"
      ],
      "text/markdown": [
       "0.965"
      ],
      "text/plain": [
       "[1] 0.965"
      ]
     },
     "metadata": {},
     "output_type": "display_data"
    }
   ],
   "source": [
    "# determine the accuracy of the model\n",
    "mean(validation_data$answer==predictions2)"
   ]
  }
 ],
 "metadata": {
  "kernelspec": {
   "display_name": "R",
   "language": "R",
   "name": "ir"
  },
  "language_info": {
   "codemirror_mode": "r",
   "file_extension": ".r",
   "mimetype": "text/x-r-source",
   "name": "R",
   "pygments_lexer": "r",
   "version": "4.3.1"
  }
 },
 "nbformat": 4,
 "nbformat_minor": 5
}
