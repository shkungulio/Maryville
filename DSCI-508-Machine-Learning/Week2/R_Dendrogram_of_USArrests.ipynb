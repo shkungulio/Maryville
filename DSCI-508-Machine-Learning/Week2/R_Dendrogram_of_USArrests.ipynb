{
 "cells": [
  {
   "cell_type": "code",
   "execution_count": 1,
   "metadata": {},
   "outputs": [
    {
     "name": "stderr",
     "output_type": "stream",
     "text": [
      "Installing package into 'C:/Users/Dave/Documents/R/win-library/3.6'\n",
      "(as 'lib' is unspecified)\n"
     ]
    },
    {
     "name": "stdout",
     "output_type": "stream",
     "text": [
      "package 'dendroextras' successfully unpacked and MD5 sums checked\n",
      "\n",
      "The downloaded binary packages are in\n",
      "\tC:\\Users\\Dave\\AppData\\Local\\Temp\\RtmpwfeWIO\\downloaded_packages\n"
     ]
    }
   ],
   "source": [
    "if (!is.element('dendroextras', installed.packages()[,1]))\n",
    "    install.packages(\"dendroextras\",repos = \"http://cran.us.r-project.org\")"
   ]
  },
  {
   "cell_type": "code",
   "execution_count": 2,
   "metadata": {},
   "outputs": [
    {
     "name": "stderr",
     "output_type": "stream",
     "text": [
      "Warning message:\n",
      "\"package 'dendroextras' was built under R version 3.6.3\""
     ]
    }
   ],
   "source": [
    "library(dendroextras)"
   ]
  },
  {
   "cell_type": "code",
   "execution_count": 3,
   "metadata": {},
   "outputs": [
    {
     "data": {
      "text/html": [
       "<table>\n",
       "<thead><tr><th></th><th scope=col>Murder</th><th scope=col>Assault</th><th scope=col>UrbanPop</th><th scope=col>Rape</th></tr></thead>\n",
       "<tbody>\n",
       "\t<tr><th scope=row>Vermont</th><td>2.2 </td><td> 48 </td><td>32  </td><td>11.2</td></tr>\n",
       "\t<tr><th scope=row>Virginia</th><td>8.5 </td><td>156 </td><td>63  </td><td>20.7</td></tr>\n",
       "\t<tr><th scope=row>Washington</th><td>4.0 </td><td>145 </td><td>73  </td><td>26.2</td></tr>\n",
       "\t<tr><th scope=row>West Virginia</th><td>5.7 </td><td> 81 </td><td>39  </td><td> 9.3</td></tr>\n",
       "\t<tr><th scope=row>Wisconsin</th><td>2.6 </td><td> 53 </td><td>66  </td><td>10.8</td></tr>\n",
       "\t<tr><th scope=row>Wyoming</th><td>6.8 </td><td>161 </td><td>60  </td><td>15.6</td></tr>\n",
       "</tbody>\n",
       "</table>\n"
      ],
      "text/latex": [
       "\\begin{tabular}{r|llll}\n",
       "  & Murder & Assault & UrbanPop & Rape\\\\\n",
       "\\hline\n",
       "\tVermont & 2.2  &  48  & 32   & 11.2\\\\\n",
       "\tVirginia & 8.5  & 156  & 63   & 20.7\\\\\n",
       "\tWashington & 4.0  & 145  & 73   & 26.2\\\\\n",
       "\tWest Virginia & 5.7  &  81  & 39   &  9.3\\\\\n",
       "\tWisconsin & 2.6  &  53  & 66   & 10.8\\\\\n",
       "\tWyoming & 6.8  & 161  & 60   & 15.6\\\\\n",
       "\\end{tabular}\n"
      ],
      "text/markdown": [
       "\n",
       "| <!--/--> | Murder | Assault | UrbanPop | Rape |\n",
       "|---|---|---|---|---|\n",
       "| Vermont | 2.2  |  48  | 32   | 11.2 |\n",
       "| Virginia | 8.5  | 156  | 63   | 20.7 |\n",
       "| Washington | 4.0  | 145  | 73   | 26.2 |\n",
       "| West Virginia | 5.7  |  81  | 39   |  9.3 |\n",
       "| Wisconsin | 2.6  |  53  | 66   | 10.8 |\n",
       "| Wyoming | 6.8  | 161  | 60   | 15.6 |\n",
       "\n"
      ],
      "text/plain": [
       "              Murder Assault UrbanPop Rape\n",
       "Vermont       2.2     48     32       11.2\n",
       "Virginia      8.5    156     63       20.7\n",
       "Washington    4.0    145     73       26.2\n",
       "West Virginia 5.7     81     39        9.3\n",
       "Wisconsin     2.6     53     66       10.8\n",
       "Wyoming       6.8    161     60       15.6"
      ]
     },
     "metadata": {},
     "output_type": "display_data"
    },
    {
     "data": {
      "text/html": [
       "'list'"
      ],
      "text/latex": [
       "'list'"
      ],
      "text/markdown": [
       "'list'"
      ],
      "text/plain": [
       "[1] \"list\""
      ]
     },
     "metadata": {},
     "output_type": "display_data"
    },
    {
     "data": {
      "text/html": [
       "<ol class=list-inline>\n",
       "\t<li>50</li>\n",
       "\t<li>4</li>\n",
       "</ol>\n"
      ],
      "text/latex": [
       "\\begin{enumerate*}\n",
       "\\item 50\n",
       "\\item 4\n",
       "\\end{enumerate*}\n"
      ],
      "text/markdown": [
       "1. 50\n",
       "2. 4\n",
       "\n",
       "\n"
      ],
      "text/plain": [
       "[1] 50  4"
      ]
     },
     "metadata": {},
     "output_type": "display_data"
    }
   ],
   "source": [
    "data(USArrests)\n",
    "tail(USArrests)\n",
    "typeof(USArrests)\n",
    "dim(USArrests)"
   ]
  },
  {
   "cell_type": "markdown",
   "metadata": {},
   "source": [
    "par can be used to set or query graphical parameters. \n",
    "\n",
    "mar is a numerical vector of the form c(bottom,left, top, right) which gives the number of lines of margin to be specified on the four sides of the plot. The default is c(5, 4, 4, 2) + 0.1.\n",
    "\n",
    "cex is a numerical value giving the amount by which plotting text and symbols should be magnified relative to the default. This starts as 1 when a device is opened, and is reset when the layout is changed, e.g. by setting mfrow."
   ]
  },
  {
   "cell_type": "code",
   "execution_count": 4,
   "metadata": {},
   "outputs": [],
   "source": [
    "par(mar = c(2,1,2,1), cex = 0.1)"
   ]
  },
  {
   "cell_type": "code",
   "execution_count": 5,
   "metadata": {},
   "outputs": [],
   "source": [
    "?hclust"
   ]
  },
  {
   "cell_type": "code",
   "execution_count": 6,
   "metadata": {},
   "outputs": [],
   "source": [
    "clst1=colour_clusters(hclust(dist(USArrests), \"ave\"),5,groupLabels=as.roman)"
   ]
  },
  {
   "cell_type": "code",
   "execution_count": 7,
   "metadata": {},
   "outputs": [],
   "source": [
    "library(repr)\n",
    "options(repr.plot.width=8, repr.plot.height=8)"
   ]
  },
  {
   "cell_type": "code",
   "execution_count": 8,
   "metadata": {},
   "outputs": [
    {
     "data": {
      "image/png": "[encoded data removed]",
      "text/plain": [
       "Plot with title \"Dendrogram with 5 clusters\""
      ]
     },
     "metadata": {},
     "output_type": "display_data"
    }
   ],
   "source": [
    "plot(clst1, main = \"Dendrogram with 5 clusters\", horiz = F)"
   ]
  },
  {
   "cell_type": "code",
   "execution_count": null,
   "metadata": {},
   "outputs": [],
   "source": []
  }
 ],
 "metadata": {
  "kernelspec": {
   "display_name": "R",
   "language": "R",
   "name": "ir"
  },
  "language_info": {
   "codemirror_mode": "r",
   "file_extension": ".r",
   "mimetype": "text/x-r-source",
   "name": "R",
   "pygments_lexer": "r",
   "version": "3.6.1"
  }
 },
 "nbformat": 4,
 "nbformat_minor": 2
}
