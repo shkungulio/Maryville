{
 "cells": [
  {
   "cell_type": "code",
   "execution_count": 2,
   "id": "45451674-d7db-45a4-9809-6b8aac95b97e",
   "metadata": {},
   "outputs": [
    {
     "name": "stderr",
     "output_type": "stream",
     "text": [
      "Warning message:\n",
      "\"dependency 'evaluate' is not available\"also installing the dependencies 'fastmap', 'bit', 'cachem', 'farver', 'fs', 'rappdirs', 'bit64', 'processx', 'xfun', 'lifecycle', 'memoise', 'blob', 'glue', 'tidyselect', 'vctrs', 'data.table', 'isoband', 'scales', 'gargle', 'rematch2', 'timechange', 'systemfonts', 'textshaping', 'vroom', 'tzdb', 'callr', 'knitr', 'stringi', 'broom', 'conflicted', 'cli', 'dbplyr', 'dplyr', 'dtplyr', 'forcats', 'ggplot2', 'googledrive', 'googlesheets4', 'haven', 'hms', 'jsonlite', 'lubridate', 'magrittr', 'modelr', 'pillar', 'purrr', 'ragg', 'readr', 'readxl', 'reprex', 'rlang', 'rvest', 'stringr', 'tibble', 'tidyr', 'xml2'\n",
      "\n",
      "Warning message:\n",
      "\"unable to access index for repository https://cran.r-project.org/bin/windows/contrib/3.6:\n",
      "  cannot open URL 'https://cran.r-project.org/bin/windows/contrib/3.6/PACKAGES'\"Packages which are only available in source form, and may need\n",
      "  compilation of C/C++/Fortran: 'fastmap' 'bit' 'cachem' 'farver' 'fs'\n",
      "  'rappdirs' 'bit64' 'processx' 'xfun' 'glue' 'tidyselect' 'vctrs'\n",
      "  'data.table' 'isoband' 'scales' 'timechange' 'systemfonts'\n",
      "  'textshaping' 'vroom' 'tzdb' 'stringi' 'cli' 'dplyr' 'haven'\n",
      "  'jsonlite' 'lubridate' 'magrittr' 'purrr' 'ragg' 'readr' 'readxl'\n",
      "  'rlang' 'tibble' 'tidyr' 'xml2'\n"
     ]
    },
    {
     "name": "stdout",
     "output_type": "stream",
     "text": [
      "  These will not be installed\n"
     ]
    },
    {
     "name": "stderr",
     "output_type": "stream",
     "text": [
      "installing the source packages 'lifecycle', 'memoise', 'blob', 'gargle', 'rematch2', 'callr', 'knitr', 'broom', 'conflicted', 'dbplyr', 'dtplyr', 'forcats', 'ggplot2', 'googledrive', 'googlesheets4', 'hms', 'modelr', 'pillar', 'reprex', 'rvest', 'stringr', 'tidyverse'\n",
      "\n",
      "Warning message in install.packages(\"tidyverse\"):\n",
      "\"installation of package 'lifecycle' had non-zero exit status\"Warning message in install.packages(\"tidyverse\"):\n",
      "\"installation of package 'memoise' had non-zero exit status\"Warning message in install.packages(\"tidyverse\"):\n",
      "\"installation of package 'blob' had non-zero exit status\"Warning message in install.packages(\"tidyverse\"):\n",
      "\"installation of package 'rematch2' had non-zero exit status\"Warning message in install.packages(\"tidyverse\"):\n",
      "\"installation of package 'callr' had non-zero exit status\"Warning message in install.packages(\"tidyverse\"):\n",
      "\"installation of package 'knitr' had non-zero exit status\"Warning message in install.packages(\"tidyverse\"):\n",
      "\"installation of package 'gargle' had non-zero exit status\"Warning message in install.packages(\"tidyverse\"):\n",
      "\"installation of package 'conflicted' had non-zero exit status\"Warning message in install.packages(\"tidyverse\"):\n",
      "\"installation of package 'dtplyr' had non-zero exit status\"Warning message in install.packages(\"tidyverse\"):\n",
      "\"installation of package 'forcats' had non-zero exit status\"Warning message in install.packages(\"tidyverse\"):\n",
      "\"installation of package 'ggplot2' had non-zero exit status\"Warning message in install.packages(\"tidyverse\"):\n",
      "\"installation of package 'hms' had non-zero exit status\"Warning message in install.packages(\"tidyverse\"):\n",
      "\"installation of package 'pillar' had non-zero exit status\"Warning message in install.packages(\"tidyverse\"):\n",
      "\"installation of package 'reprex' had non-zero exit status\"Warning message in install.packages(\"tidyverse\"):\n",
      "\"installation of package 'rvest' had non-zero exit status\"Warning message in install.packages(\"tidyverse\"):\n",
      "\"installation of package 'stringr' had non-zero exit status\"Warning message in install.packages(\"tidyverse\"):\n",
      "\"installation of package 'broom' had non-zero exit status\"Warning message in install.packages(\"tidyverse\"):\n",
      "\"installation of package 'dbplyr' had non-zero exit status\"Warning message in install.packages(\"tidyverse\"):\n",
      "\"installation of package 'googledrive' had non-zero exit status\"Warning message in install.packages(\"tidyverse\"):\n",
      "\"installation of package 'googlesheets4' had non-zero exit status\"Warning message in install.packages(\"tidyverse\"):\n",
      "\"installation of package 'modelr' had non-zero exit status\"Warning message in install.packages(\"tidyverse\"):\n",
      "\"installation of package 'tidyverse' had non-zero exit status\""
     ]
    },
    {
     "ename": "ERROR",
     "evalue": "Error in library(ggplot2): there is no package called 'ggplot2'\n",
     "output_type": "error",
     "traceback": [
      "Error in library(ggplot2): there is no package called 'ggplot2'\nTraceback:\n",
      "1. library(ggplot2)"
     ]
    }
   ],
   "source": [
    "# Install required packages if they are not already installed\n",
    "install.packages(\"tidyverse\")\n",
    "\n",
    "# Load libraries\n",
    "library(ggplot2)\n",
    "library(dplyr)\n",
    "library(readr)\n",
    "\n",
    "# Read the dataset\n",
    "mpg_data <- read_csv(\"mpg.csv\")\n"
   ]
  },
  {
   "cell_type": "code",
   "execution_count": null,
   "id": "d7214e68-8589-491d-a767-99d34fc91b87",
   "metadata": {},
   "outputs": [],
   "source": [
    "# Create stacked histogram\n",
    "ggplot(mpg_data, aes(x = displ, fill = as.factor(year))) +\n",
    "  geom_histogram(position = \"stack\", binwidth = 0.5) +\n",
    "  labs(title = \"Stacked Histogram of Engine Displacement by Year\",\n",
    "       x = \"Engine Displacement (L)\",\n",
    "       y = \"Count\",\n",
    "       fill = \"Year\") +\n",
    "  theme_minimal()\n"
   ]
  },
  {
   "cell_type": "code",
   "execution_count": null,
   "id": "05c5080d-e2e1-4991-84c7-1925fddce789",
   "metadata": {},
   "outputs": [],
   "source": [
    "# Create violin plot\n",
    "ggplot(mpg_data, aes(x = as.factor(year), y = hwy, fill = as.factor(year))) +\n",
    "  geom_violin() +\n",
    "  labs(title = \"Violin Plot of Highway MPG by Year\",\n",
    "       x = \"Year\",\n",
    "       y = \"Highway MPG\",\n",
    "       fill = \"Year\") +\n",
    "  theme_minimal()\n"
   ]
  },
  {
   "cell_type": "code",
   "execution_count": null,
   "id": "4417e187-e43a-43e3-8351-dac9c30d8ea2",
   "metadata": {},
   "outputs": [],
   "source": [
    "# Create scatter plot with regression lines\n",
    "ggplot(mpg_data, aes(x = cty, y = hwy)) +\n",
    "  geom_point(aes(color = as.factor(year))) +\n",
    "  geom_smooth(method = \"lm\", se = FALSE, aes(color = as.factor(year))) +\n",
    "  labs(title = \"Scatter Plot of City vs Highway MPG with Regression Lines\",\n",
    "       x = \"City MPG\",\n",
    "       y = \"Highway MPG\",\n",
    "       color = \"Year\") +\n",
    "  theme_minimal()\n"
   ]
  }
 ],
 "metadata": {
  "kernelspec": {
   "display_name": "R",
   "language": "R",
   "name": "ir"
  },
  "language_info": {
   "codemirror_mode": "r",
   "file_extension": ".r",
   "mimetype": "text/x-r-source",
   "name": "R",
   "pygments_lexer": "r",
   "version": "3.6.1"
  }
 },
 "nbformat": 4,
 "nbformat_minor": 5
}
