{
 "cells": [
  {
   "cell_type": "markdown",
   "id": "8ae00bfe-34ce-4835-88c4-9ed4a95f5e7e",
   "metadata": {},
   "source": [
    "# DSCI 503 - Homework 03\n",
    "\n",
    "### Seif Kungulio"
   ]
  },
  {
   "cell_type": "markdown",
   "id": "89bcf10b-c7e8-4dc0-8008-b308c784eb54",
   "metadata": {},
   "source": [
    "## Problem 1: Dot Product\n",
    "\n",
    "To write a function that perform the dot product operation on two vectors. In mathematics, a vector is essentially a sequence of numbers, similar to a Python list. Given to vectors of equal size, the <strong>dot product</strong> of those vectors is calculated by multiplying corresponding elements of the two vectors and the summing the products.\n",
    "\n",
    "As an example, consider vectors represented by the following two lists:\n",
    "\n",
    "a = [3, 4, 2, 1]\n",
    "b = [5, 2, 3, 7]\n",
    "\n",
    "Then the dot product of these two vectors would be 3x5 + 4x2 + 2x3 + 1x7 = 15 + 8 + 6 + 7 = 36"
   ]
  },
  {
   "cell_type": "code",
   "execution_count": 1,
   "id": "4c2aba06-636e-4279-98d9-d0ea746a5806",
   "metadata": {},
   "outputs": [],
   "source": [
    "# Create a dot_product() function which accept two vectors as parameter\n",
    "def dot_product(x, y):\n",
    "    # Check to make sure that the vectors are of the same lengths.\n",
    "    if len(x) != len(y):\n",
    "        raise ValueError(\"Vectors must be of the same length\")\n",
    "        \n",
    "    # Calculate the dot product\n",
    "    result = 0\n",
    "    for i in range(len(x)):\n",
    "        result += x[i] * y[i]\n",
    "    return result"
   ]
  },
  {
   "cell_type": "code",
   "execution_count": 2,
   "id": "592ab64d-0bb9-4a03-b7d7-70242d41a974",
   "metadata": {},
   "outputs": [
    {
     "name": "stdout",
     "output_type": "stream",
     "text": [
      "The dot product of v1 and v2 is 16,220.\n"
     ]
    }
   ],
   "source": [
    "# Define the vectors v1 and v2\n",
    "# v1 = [38, 9, 40, 34, 20, 16, 42, 36, 12, 1] # Shorter length vector for testing purposes\n",
    "v1 = [38, 9, 40, 34, 20, 16, 42, 36, 12, 1, 23, 46, 31, 19, 30, 33, 16, 43, 24, 41]\n",
    "v2 = [43, 13, 35, 14, 26, 3, 36, 15, 42, 44, 45, 20, 17, 6, 47, 40, 38, 41, 31, 24]\n",
    "\n",
    "# Calculate the dot product\n",
    "result = dot_product(v1, v2)\n",
    "\n",
    "# Print the result in the specified format\n",
    "print(f\"The dot product of v1 and v2 is {result:,}.\")"
   ]
  },
  {
   "cell_type": "markdown",
   "id": "58cc096e-624a-453c-8795-3afe90aba44d",
   "metadata": {},
   "source": [
    "## Problem 2: Amortization\n",
    "\n",
    "To create a function that counts the number of monthly payments required to pay back a loan."
   ]
  },
  {
   "cell_type": "code",
   "execution_count": 3,
   "id": "7cd55773-1d70-48b1-907c-70d46dd5b024",
   "metadata": {},
   "outputs": [],
   "source": [
    "# Create count_payment() function which accepts three parameters\n",
    "def count_payments(amount, rate, pmt):\n",
    "    balance = amount\n",
    "    count = 0\n",
    "    while balance > 0:\n",
    "        balance = round(balance * (1 + rate) - pmt, 2)\n",
    "        count += 1\n",
    "        if balance < 0:  # If the balance goes negative, we assume it's paid off.\n",
    "            balance = 0\n",
    "    return count"
   ]
  },
  {
   "cell_type": "code",
   "execution_count": 4,
   "id": "50e6dee6-b538-4411-9dbe-4e733501598e",
   "metadata": {},
   "outputs": [
    {
     "name": "stdout",
     "output_type": "stream",
     "text": [
      "Number of payments at 0.40% interest rate\n",
      "-----------------------------------------\n",
      "351 monthly payments of $850 would be required.\n",
      "312 monthly payments of $900 would be required.\n",
      "281 monthly payments of $950 would be required.\n",
      "256 monthly payments of $1,000 would be required.\n",
      "236 monthly payments of $1,050 would be required.\n",
      "\n",
      "Number of payments at 0.35% interest rate\n",
      "-----------------------------------------\n",
      "308 monthly payments of $850 would be required.\n",
      "279 monthly payments of $900 would be required.\n",
      "255 monthly payments of $950 would be required.\n",
      "235 monthly payments of $1,000 would be required.\n",
      "219 monthly payments of $1,050 would be required.\n"
     ]
    }
   ],
   "source": [
    "# Testing with the initial loan amount and interest rate of 0.4%\n",
    "loan_amount = 160000\n",
    "interest_rate = 0.004  # 0.4%\n",
    "payment_amounts = [850, 900, 950, 1000, 1050]\n",
    "\n",
    "print(f\"Number of payments at {interest_rate:.2%} interest rate\")\n",
    "print(\"-\"*41)\n",
    "for payment in payment_amounts:\n",
    "    months = count_payments(loan_amount, interest_rate, payment)\n",
    "    print(f\"{months} monthly payments of ${payment:,} would be required.\")\n",
    "print()\n",
    "\n",
    "# Testing with the lower interest rate of 0.35%\n",
    "interest_rate_lower = 0.0035  # 0.35%\n",
    "\n",
    "print(f\"Number of payments at {interest_rate_lower:.2%} interest rate\")\n",
    "print(\"-\"*41)\n",
    "for payment in payment_amounts:\n",
    "    months = count_payments(loan_amount, interest_rate_lower, payment)\n",
    "    print(f\"{months} monthly payments of ${payment:,} would be required.\")\n"
   ]
  },
  {
   "cell_type": "markdown",
   "id": "af89cdac-06ba-4641-a35a-729208e65b1e",
   "metadata": {},
   "source": [
    "## Problem 3: Minimum\n",
    "\n",
    "To write a function to find the smallest element of a list. We are, in a sense, re-inventing the wheel since the <strong>min()</strong> function already performs this exact task. However, the purpose this exercise is to have to think through the logic of how such a function would be implemented from scratch."
   ]
  },
  {
   "cell_type": "code",
   "execution_count": 5,
   "id": "e5065a84-6f4b-4998-9a4a-9691003c8cb6",
   "metadata": {},
   "outputs": [],
   "source": [
    "# Create minimum() function which accepts one parameter\n",
    "def minimum(x):\n",
    "    if len(x) == 0:\n",
    "        raise ValueError(\"The list is empty\")\n",
    "    \n",
    "    min_value = x[0] # initialize min value at index 0\n",
    "    \n",
    "    for i in range(1, len(x)):\n",
    "        if x[i] < min_value:\n",
    "            min_value = x[i]\n",
    "    \n",
    "    return min_value"
   ]
  },
  {
   "cell_type": "code",
   "execution_count": 6,
   "id": "7a94bb2b-e041-4499-adc9-9bcc5480eef9",
   "metadata": {},
   "outputs": [
    {
     "name": "stdout",
     "output_type": "stream",
     "text": [
      "The minimum value of list1 is 4.1\n",
      "The minimum value of list2 is 3.4\n",
      "The minimum value of list3 is Chicago\n"
     ]
    }
   ],
   "source": [
    "# Define the lists\n",
    "#list1 = [] # Empty list for testing purposes\n",
    "list1 = [9.8, 7.4, 5.6, 4.8, 4.8, 5.3, 4.1, 9.6, 5.4]\n",
    "list2 = [3.4, 7.6, 8.7, 7.5, 9.8, 7.5, 6.7, 8.7, 8.4]\n",
    "list3 = ['St. Louis', 'Kansas City', 'Chicago', 'Little Rock', 'Omaha']\n",
    "\n",
    "# Use the minimum() function to calculate the minimum of each list\n",
    "min1 = minimum(list1)\n",
    "min2 = minimum(list2)\n",
    "min3 = minimum(list3)\n",
    "\n",
    "# Print the results\n",
    "print(f\"The minimum value of list1 is {min1}\")\n",
    "print(f\"The minimum value of list2 is {min2}\")\n",
    "print(f\"The minimum value of list3 is {min3}\")\n"
   ]
  },
  {
   "cell_type": "markdown",
   "id": "750e1756-6348-4261-8a6f-1a17b6b5d7f9",
   "metadata": {},
   "source": [
    "## Problem 4: Argmin\n",
    "\n",
    "To write a function to find the <strong>index</strong> of the smallest element of a list. The logic in writing this function is very similar to that which was used in Problem 3, with few modifications."
   ]
  },
  {
   "cell_type": "code",
   "execution_count": 7,
   "id": "4f7571ef-66b1-4c8d-b789-ab4d3997b732",
   "metadata": {},
   "outputs": [],
   "source": [
    "# Create argmin() function which accepts one parameter\n",
    "def argmin(x):\n",
    "    if len(x) == 0:\n",
    "        raise ValueError(\"The list is empty\")\n",
    "    \n",
    "    # Assume the first element is the minimum initially\n",
    "    min_index = 0\n",
    "    \n",
    "    # Iterate through the list starting from the second element\n",
    "    for i in range(1, len(x)):\n",
    "        if x[i] < x[min_index]:\n",
    "            min_index = i\n",
    "    \n",
    "    return min_index"
   ]
  },
  {
   "cell_type": "code",
   "execution_count": 8,
   "id": "4f936b73-242a-4849-9db6-086a75ce8ebe",
   "metadata": {},
   "outputs": [
    {
     "name": "stdout",
     "output_type": "stream",
     "text": [
      "The minimum value of list1 is at index 6\n",
      "The minimum value of list2 is at index 0\n",
      "The minimum value of list3 is at index 2\n"
     ]
    }
   ],
   "source": [
    "# Define the lists\n",
    "list1 = [9.8, 7.4, 5.6, 4.8, 4.8, 5.3, 4.1, 9.6, 5.4]\n",
    "list2 = [3.4, 7.6, 8.7, 7.5, 9.8, 7.5, 6.7, 8.7, 8.4]\n",
    "list3 = ['St. Louis', 'Kansas City', 'Chicago', 'Little Rock', 'Omaha']\n",
    "\n",
    "# Use the argmin() function to calculate the index of the minimum of each list\n",
    "index1 = argmin(list1)\n",
    "index2 = argmin(list2)\n",
    "index3 = argmin(list3)\n",
    "\n",
    "# Print the results\n",
    "print(f\"The minimum value of list1 is at index {index1}\")\n",
    "print(f\"The minimum value of list2 is at index {index2}\")\n",
    "print(f\"The minimum value of list3 is at index {index3}\")\n"
   ]
  },
  {
   "cell_type": "markdown",
   "id": "44326ca4-a70e-42d6-8ce5-4edb16f10b79",
   "metadata": {},
   "source": [
    "## Problem 5: Find Smallest Elements\n",
    "\n",
    "To write a function to find the smallest element of a list."
   ]
  },
  {
   "cell_type": "code",
   "execution_count": 9,
   "id": "b6bfe678-1e40-4059-8255-fdbadcf60fa7",
   "metadata": {},
   "outputs": [],
   "source": [
    "# Create find_smallest() function which accepts two parameters\n",
    "def find_smallest(x, n=None):\n",
    "    # If n is None, return the single smallest element\n",
    "    if n is None:\n",
    "        return min(x)\n",
    "    \n",
    "    # If n is a positive integer, return the smallest n elements\n",
    "    # Sort a copy of the list and slice the first n elements\n",
    "    sorted_x = sorted(x)\n",
    "    return sorted_x[:n]\n"
   ]
  },
  {
   "cell_type": "code",
   "execution_count": 10,
   "id": "1c3afc5d-c536-45af-aa1c-049aed39cbac",
   "metadata": {},
   "outputs": [
    {
     "name": "stdout",
     "output_type": "stream",
     "text": [
      "17\n",
      "[17]\n",
      "[17, 28]\n",
      "[17, 28, 28, 39, 53]\n",
      "[17, 28, 28, 39, 53, 54, 64, 74]\n"
     ]
    }
   ],
   "source": [
    "# Define the list\n",
    "my_list = [39, 74, 28, 64, 17, 28, 54, 53]\n",
    "\n",
    "# Perform the tests\n",
    "print(find_smallest(my_list))       # Should return 17\n",
    "print(find_smallest(my_list, 1))    # Should return [17]\n",
    "print(find_smallest(my_list, 2))    # Should return [17, 28]\n",
    "print(find_smallest(my_list, 5))    # Should return [17, 28, 28, 39, 53]\n",
    "print(find_smallest(my_list, 12))   # Should return [17, 28, 28, 39, 53, 54, 64, 74] since n > len(my_list)\n"
   ]
  },
  {
   "cell_type": "code",
   "execution_count": 11,
   "id": "225ab265-23f9-422b-a6b6-106cfdf7a31b",
   "metadata": {},
   "outputs": [
    {
     "name": "stdout",
     "output_type": "stream",
     "text": [
      "The original list of my_list is [39, 74, 28, 64, 17, 28, 54, 53]\n"
     ]
    }
   ],
   "source": [
    "# Confirm the original list has not been altered\n",
    "print(f\"The original list of my_list is {my_list}\")  # Should return [39, 74, 28, 64, 17, 28, 54, 53]\n"
   ]
  },
  {
   "cell_type": "markdown",
   "id": "c8e9e4af-9d82-4f70-9337-d07760e050aa",
   "metadata": {},
   "source": [
    "## Problem 6: Find Unique Elements\n",
    "\n",
    "To create a function named <strong>unique()</strong> that will identify the unique elements contained within a list. The function will return a list that contains the same values as the argument list, but with duplicate values removed, and sorted in ascending order. For example, if <strong>mylist</strong> = [4, 6, 3, 3, 9, 6, 4], then <strong>unique(mylist)</strong> should return [3, 4, 6, 9]."
   ]
  },
  {
   "cell_type": "code",
   "execution_count": 12,
   "id": "58770a3f-f293-4a04-8a88-ab44d12766cd",
   "metadata": {},
   "outputs": [],
   "source": [
    "# Create unique() function which accepts one parameter\n",
    "def unique(x):\n",
    "    unique_elements = []\n",
    "    \n",
    "    # Iterate over each element in the input list\n",
    "    for element in x:\n",
    "        # Add element to unique_elements if it's not already present\n",
    "        if element not in unique_elements:\n",
    "            unique_elements.append(element)\n",
    "    \n",
    "    # Sort the list of unique elements\n",
    "    unique_elements.sort()\n",
    "    \n",
    "    return unique_elements"
   ]
  },
  {
   "cell_type": "code",
   "execution_count": 13,
   "id": "bd85b234-d370-4d7f-98c0-3a90ae08b16f",
   "metadata": {},
   "outputs": [
    {
     "name": "stdout",
     "output_type": "stream",
     "text": [
      "[12, 14, 16, 19, 23]\n",
      "['bat', 'cat', 'dog', 'frog']\n"
     ]
    }
   ],
   "source": [
    "# Define the test lists\n",
    "int_list = [23, 16, 23, 12, 14, 23, 12, 19, 19]\n",
    "str_list = ['cat', 'dog', 'dog', 'cat', 'bat', 'frog', 'dog', 'frog']\n",
    "\n",
    "# Call the unique() function and print the results\n",
    "print(f\"{unique(int_list)}\")  # Expected output: [12, 14, 16, 19, 23]\n",
    "print(f\"{unique(str_list)}\")  # Expected output: ['bat', 'cat', 'dog', 'frog']\n"
   ]
  },
  {
   "cell_type": "markdown",
   "id": "da8fb913-48d3-4b96-a99c-d9f6507e0415",
   "metadata": {},
   "source": [
    "## Problem 7: Frequency Distribution\n",
    "\n",
    "To create a function named <strong>freq_dist()</strong> that creates a frequency distribution based on the elements of a list. The function will accept a list of values as its input and will return two lists. One returned list will contain the unique values found in the argument list while the seond will contains counts of the number of times each of the unique values occured. For example: If <strong>mylist = [10, 10, 20, 10, 20, 30, 20, 20, 30, 40]</strong>, then <strong>freq_dist(mylist)</strong> should return the following turple: <strong>([10, 20, 30, 40], [3, 4, 2, 1])</strong>."
   ]
  },
  {
   "cell_type": "code",
   "execution_count": 14,
   "id": "c246f39d-fb92-4107-b2c3-6d9a28718696",
   "metadata": {},
   "outputs": [],
   "source": [
    "# Create freq_dist() function which accepts one parameter\n",
    "def freq_dist(x):\n",
    "    # Find the unique values and sort them\n",
    "    values = sorted(set(x))\n",
    "    \n",
    "    # Create an empty list for counts\n",
    "    counts = []\n",
    "    \n",
    "    # Loop over values and count their occurrences in x\n",
    "    for value in values:\n",
    "        count = x.count(value)\n",
    "        counts.append(count)\n",
    "    \n",
    "    # Step 4: Return the values and counts lists\n",
    "    return values, counts"
   ]
  },
  {
   "cell_type": "code",
   "execution_count": 15,
   "id": "86866340-3395-4be2-b745-699eec02bba2",
   "metadata": {},
   "outputs": [
    {
     "name": "stdout",
     "output_type": "stream",
     "text": [
      "Unique Values: ['A', 'B', 'C', 'D', 'F']\n",
      "Frequencies: [6, 8, 5, 5, 3]\n"
     ]
    }
   ],
   "source": [
    "# Define the grades list\n",
    "grades = ['A', 'D', 'A', 'C', 'B', 'F', 'A', 'D', 'C',\n",
    "          'B', 'F', 'A', 'C', 'B', 'A', 'B', 'B', 'C',\n",
    "          'B', 'F', 'D', 'D', 'A', 'C', 'B', 'B', 'D']\n",
    "\n",
    "# Call the freq_dist function on the grades list\n",
    "unique_values, frequencies = freq_dist(grades)\n",
    "\n",
    "# Display the results\n",
    "print(f\"Unique Values: {unique_values}\")\n",
    "print(f\"Frequencies: {frequencies}\")\n"
   ]
  },
  {
   "cell_type": "markdown",
   "id": "071e350a-50e1-4e1e-b6b5-1120d084b1fd",
   "metadata": {},
   "source": [
    "## Problem 8: Weighted Means\n",
    "\n",
    "To create a function named <strong>mean()</strong> that can be used to calculate either standard means or weighted means. The function will have two parameters, x and w. the parameter x is expected to be a numerical list and w is expected to be either a numerical list or to have the value <strong>None</strong>. If <strong>w = None</strong>, then the function should simply return the mean (or average) of the elements in x. If wis a list, then the function should return the weighted mean of the elements in x, using the elements of w as weights.\n",
    "\n",
    "I the elements of x are denoted by x0, x1,..., xn and the elements of w are denoted by w0, w1,..., wn, then the weighted mean is calculated as follows:\n",
    "(w0*x0 + w1*x1 + ... + wn*xn) / (w0 + w1 + ... + wn)"
   ]
  },
  {
   "cell_type": "code",
   "execution_count": 16,
   "id": "f45c6c83-15dd-443f-b4a4-5bf12277d532",
   "metadata": {},
   "outputs": [],
   "source": [
    "# Create mean() function which accepts two parameters\n",
    "def mean(x, w=None):\n",
    "    if w is None:\n",
    "        # Calculate the standard mean\n",
    "        return sum(x) / len(x)\n",
    "    else:\n",
    "        # Calculate the weighted mean\n",
    "        weighted_sum = sum(xi * wi for xi, wi in zip(x, w))\n",
    "        total_weight = sum(w)\n",
    "        return weighted_sum / total_weight"
   ]
  },
  {
   "cell_type": "code",
   "execution_count": 17,
   "id": "d53ea847-b482-46ed-9404-978e44b065bc",
   "metadata": {},
   "outputs": [
    {
     "name": "stdout",
     "output_type": "stream",
     "text": [
      "Standard Mean: 4.9\n",
      "Weighted Mean: 4.15\n"
     ]
    }
   ],
   "source": [
    "# Define the values and weights lists\n",
    "values = [4, 7, 3, 5, 2, 6, 8, 2, 4, 8]\n",
    "weights = [2, 1, 3, 1, 2, 3, 1, 4, 2, 1]\n",
    "\n",
    "# Calculate the standard mean\n",
    "standard_mean = mean(values)\n",
    "\n",
    "# Calculate the weighted mean\n",
    "weighted_mean = mean(values, weights)\n",
    "\n",
    "# Print the results\n",
    "print(f\"Standard Mean: {standard_mean}\")\n",
    "print(f\"Weighted Mean: {weighted_mean}\")\n"
   ]
  }
 ],
 "metadata": {
  "kernelspec": {
   "display_name": "Python 3 (ipykernel)",
   "language": "python",
   "name": "python3"
  },
  "language_info": {
   "codemirror_mode": {
    "name": "ipython",
    "version": 3
   },
   "file_extension": ".py",
   "mimetype": "text/x-python",
   "name": "python",
   "nbconvert_exporter": "python",
   "pygments_lexer": "ipython3",
   "version": "3.11.7"
  }
 },
 "nbformat": 4,
 "nbformat_minor": 5
}
